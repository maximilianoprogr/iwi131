{
 "cells": [
  {
   "cell_type": "markdown",
   "metadata": {
    "slideshow": {
     "slide_type": "slide"
    }
   },
   "source": [
    "# Introducción a la Programación\n",
    "## IWI131\n",
    "\n",
    "### Sebastián Flores\n",
    "### sebastian.flores@gmail.com\n",
    "\n",
    "### http://progra.usm.cl/ \n",
    "### https://github.com/sebastiandres/iwi131"
   ]
  },
  {
   "cell_type": "markdown",
   "metadata": {
    "slideshow": {
     "slide_type": "slide"
    }
   },
   "source": [
    "## Evaluaciones\n",
    "(Update con feedback de Cesar)\n",
    " * Tres tareas en equipo.\n",
    " * Varias actividades en equipo.\n",
    " * Tres certamenes.\n",
    " * Un certamen recuperativo (reemplaza el peor certamen)\n",
    " * Asistencia Ayudantías (reemplaza el peor trabajo en equipo)"
   ]
  },
  {
   "cell_type": "markdown",
   "metadata": {
    "slideshow": {
     "slide_type": "slide"
    }
   },
   "source": [
    "## Nota final:\n",
    "\n",
    "Si $PC ≥ 55$:\n",
    "\n",
    "$$ NF = 0,60 PC + 0,2 PT + 0,2 PAE $$\n",
    "\n",
    "Sino:\n",
    "\n",
    "$$ NF = PC $$"
   ]
  },
  {
   "cell_type": "markdown",
   "metadata": {
    "slideshow": {
     "slide_type": "slide"
    }
   },
   "source": [
    "## Sitio web del ramo\n",
    "\n",
    "* Información oficial del ramo: http://progra.usm.cl (materia, ejercicios, material, entrega tareas, etc.)\n",
    "* Otros medios: http://twitter.com/progra_usm y http://facebook.com/ (anuncios, consultas, etc.)\n",
    "* Adicional a este paralelo: https://github.com/sebastiandres/iwi131 (material adicional)"
   ]
  },
  {
   "cell_type": "markdown",
   "metadata": {
    "slideshow": {
     "slide_type": "slide"
    }
   },
   "source": [
    "## Sobre este mí\n",
    "\n",
    "* Ingeniero Civil Matemático - UTFSM, Chile (2000).\n",
    "* Ingeniero y Magister en Mecánica - Ecole Polytechnique, Francia (2005).\n",
    "* Magíster en Computación y Matemática Aplicada - Stanford, EEUU (2010).\n",
    "* Esval, Peugeot-Citroen, Lexity, CMM-UCh, Thinkful.\n",
    "* Proyectos de mecánica de sólidos y fluidos, minería, química y sismología. "
   ]
  },
  {
   "cell_type": "markdown",
   "metadata": {
    "slideshow": {
     "slide_type": "slide"
    }
   },
   "source": [
    "## Mi visión de la educación\n",
    "* Todos pueden aprender, si hay esfuerzo.\n",
    "* Escuchar < ver < reproducir < crear < innovar.\n",
    "\n",
    "\n",
    "## Mi visión de la programación\n",
    "* Python es facil, util y entretenido.\n",
    "* Programar es como andar en bicicleta o tocar piano.\n",
    "* Ingenieros que no sepan programar en al menos un lenguaje estarán en desventaja al egresar."
   ]
  },
  {
   "cell_type": "markdown",
   "metadata": {
    "slideshow": {
     "slide_type": "slide"
    }
   },
   "source": [
    "## Sobre este paralelo piloto\n",
    "\n",
    "* **Responsabilidad**: 50% profesor, 50% estudiantes.\n",
    "* **Mutable**: feedback es esencial.\n",
    "* **Práctico**: python para la vida, no para certámenes.\n"
   ]
  },
  {
   "cell_type": "markdown",
   "metadata": {
    "slideshow": {
     "slide_type": "slide"
    }
   },
   "source": [
    "## Programación\n",
    "\n",
    "### ¿Cómo se modela un problema? (hint: 3 pasos)"
   ]
  },
  {
   "cell_type": "markdown",
   "metadata": {
    "slideshow": {
     "slide_type": "fragment"
    }
   },
   "source": [
    "* Entrada de datos\n",
    "* Procesamiento de datos\n",
    "* Salida de datos"
   ]
  },
  {
   "cell_type": "markdown",
   "metadata": {
    "slideshow": {
     "slide_type": "subslide"
    }
   },
   "source": [
    "## Programación\n",
    "\n",
    "### ¿Que es un algoritmo?\n"
   ]
  },
  {
   "cell_type": "markdown",
   "metadata": {
    "slideshow": {
     "slide_type": "fragment"
    }
   },
   "source": [
    "Secuencia de pasos para resolver un problema.\n",
    "\n",
    "### ¿Ejemplos?"
   ]
  },
  {
   "cell_type": "markdown",
   "metadata": {
    "slideshow": {
     "slide_type": "fragment"
    }
   },
   "source": [
    "* Recetas de cocina\n",
    "* Cambiar un neumático\n",
    "* Publicar una foto en facebook\n",
    "* etc."
   ]
  },
  {
   "cell_type": "markdown",
   "metadata": {
    "slideshow": {
     "slide_type": "subslide"
    }
   },
   "source": [
    "## Programación\n",
    "\n",
    "### ¿Que es un programa (computacional)?"
   ]
  },
  {
   "cell_type": "markdown",
   "metadata": {
    "slideshow": {
     "slide_type": "fragment"
    }
   },
   "source": [
    "Secuencia de instrucciones descritas en un lenguaje que puede ser entendido por el computador."
   ]
  },
  {
   "cell_type": "markdown",
   "metadata": {
    "slideshow": {
     "slide_type": "slide"
    }
   },
   "source": [
    "## Ejemplo de problema\n",
    "\n",
    "* ¿Dada una funcion lineal $y = ax + b $, ¿cómo encontramos los ceros de la función?\n"
   ]
  },
  {
   "cell_type": "markdown",
   "metadata": {
    "slideshow": {
     "slide_type": "fragment"
    }
   },
   "source": [
    "* ¿Dada una funcion cualquiera $y=f(x)$, ¿cómo encontramos los ceros de la función?\n"
   ]
  },
  {
   "cell_type": "markdown",
   "metadata": {
    "slideshow": {
     "slide_type": "subslide"
    }
   },
   "source": [
    "## Ejemplo de problema\n",
    "\n",
    "* Orden: Dado un conjunto de números, ¿Cómo podemos obtener los números ordenados de mayor a menor?"
   ]
  },
  {
   "cell_type": "markdown",
   "metadata": {
    "slideshow": {
     "slide_type": "fragment"
    }
   },
   "source": [
    "* Mínimo y Máximos: Dado un conjunto de números, ¿Cómo podemos obtener el menor o el mayor entre ellos?"
   ]
  },
  {
   "cell_type": "markdown",
   "metadata": {
    "slideshow": {
     "slide_type": "fragment"
    }
   },
   "source": [
    " * Vendedor Viajero: Dado un conjunto de ciudades, ¿cómo podemos encontrar el camino más corto que une todas las ciudades sin repetir?"
   ]
  },
  {
   "cell_type": "markdown",
   "metadata": {
    "slideshow": {
     "slide_type": "subslide"
    }
   },
   "source": [
    "## Ejemplo de problema\n",
    "\n",
    "* ¿Dado un mensaje de email, cómo podemos clasificarlo en spam o no spam?"
   ]
  },
  {
   "cell_type": "markdown",
   "metadata": {
    "slideshow": {
     "slide_type": "subslide"
    }
   },
   "source": [
    "## Ejemplo de problema\n",
    "\n",
    "* ¿Dadas las mediciones de sismógrafos, cómo podemos predecir en cuáles ciudades hay que emitir una alerta de tsunami?"
   ]
  },
  {
   "cell_type": "markdown",
   "metadata": {
    "slideshow": {
     "slide_type": "subslide"
    }
   },
   "source": [
    "## Ejemplo de problema\n",
    "Dadas ciertas mediciones de laboratorio...\n",
    "\n",
    "* ¿Cómo podemos calcular automáticamente el error instrumental?\n",
    "* ¿Cómo podemos ajustar los valores a un modelo?\n",
    "* ¿Cómo podemos graficar los resultados?"
   ]
  },
  {
   "cell_type": "markdown",
   "metadata": {
    "slideshow": {
     "slide_type": "subslide"
    }
   },
   "source": [
    "## Respuesta\n",
    "\n",
    "* Computacionalmente. \n",
    "* En este curso enseñaremos principios generales de programación, utilizando el lenguaje python.\n",
    "* Todo lo anterior se puede realizar en python (y sus librerías), aunque en este curso solamente los principios básicos."
   ]
  },
  {
   "cell_type": "markdown",
   "metadata": {
    "slideshow": {
     "slide_type": "slide"
    }
   },
   "source": [
    "## Definición \n",
    "\n",
    "Un número natural $n$ se llama **primo** si no existen otros números naturales que lo dividan exactamente.\n",
    "\n",
    "Un número natural que no es primo se llama **compuesto**.\n",
    "\n",
    "* Ejemplo de números primos: 2, 3, 5, 7, 9, 11, 13, ...\n",
    "\n",
    "* Ejemplo de números compuestos: 4, 20, 27, ...\n",
    "\n",
    "## Ejercicio\n",
    "Diseñar un algoritmo que decida si un número es primo o no."
   ]
  },
  {
   "cell_type": "markdown",
   "metadata": {
    "slideshow": {
     "slide_type": "subslide"
    }
   },
   "source": [
    "## Descripción del problema\n",
    "¿Cuales son las etapas de nuestro problema?"
   ]
  },
  {
   "cell_type": "markdown",
   "metadata": {
    "slideshow": {
     "slide_type": "fragment"
    }
   },
   "source": [
    "* Entrada de datos: un número natural $n$\n",
    "* Procesamiento de datos: Algoritmo para decidir si es primo o compuesto.\n",
    "* Salida de datos: Imprimir en pantalla \"es primo\" o \"es compuesto\"."
   ]
  },
  {
   "cell_type": "markdown",
   "metadata": {
    "slideshow": {
     "slide_type": "subslide"
    }
   },
   "source": [
    "## Solución en lenguaje natural\n",
    "\n",
    " * Recorrer todos los enteros entre 2 y n-1.\n",
    " * Si al menos uno de estos números es divisor de n, entonces n es compuesto. Si no, es primo."
   ]
  },
  {
   "cell_type": "markdown",
   "metadata": {
    "slideshow": {
     "slide_type": "subslide"
    }
   },
   "source": [
    "## Solución en diagrama de flujo\n",
    "\n",
    "<img src=\"flujo.png\" width=\"600px\" align=\"middle\"/>"
   ]
  },
  {
   "cell_type": "markdown",
   "metadata": {
    "slideshow": {
     "slide_type": "subslide"
    }
   },
   "source": [
    "## Solución en pseudocódigo"
   ]
  },
  {
   "cell_type": "raw",
   "metadata": {
    "collapsed": false,
    "slideshow": {
     "slide_type": "fragment"
    }
   },
   "source": [
    "leer n\n",
    "es_primo = verdadero\n",
    "d=1\n",
    "mientras d menor n:\n",
    "    si n es divisible por d:\n",
    "        es primo = falso\n",
    "    d=d+1\n",
    "si es primo es verdadero:\n",
    "    escribir \"n es primo\"\n",
    "o si no:\n",
    "    escribir \"n es compuesto\""
   ]
  },
  {
   "cell_type": "markdown",
   "metadata": {
    "slideshow": {
     "slide_type": "subslide"
    }
   },
   "source": [
    "### Solución en código"
   ]
  },
  {
   "cell_type": "code",
   "execution_count": 11,
   "metadata": {
    "collapsed": false,
    "slideshow": {
     "slide_type": "fragment"
    }
   },
   "outputs": [
    {
     "name": "stdout",
     "output_type": "stream",
     "text": [
      "Ingrese n: 100\n",
      "(100, 'es compuesto')\n"
     ]
    }
   ],
   "source": [
    "n = int(raw_input('Ingrese n: '))\n",
    "es_primo = True\n",
    "d = 2\n",
    "while d < n:\n",
    "    if n % d == 0:\n",
    "        es_primo = False\n",
    "    d = d + 1\n",
    "if es_primo:\n",
    "    print(n, 'es primo')\n",
    "else:\n",
    "    print(n, 'es compuesto')"
   ]
  },
  {
   "cell_type": "markdown",
   "metadata": {
    "collapsed": true,
    "slideshow": {
     "slide_type": "subslide"
    }
   },
   "source": [
    "## Solución en código - optimización"
   ]
  },
  {
   "cell_type": "code",
   "execution_count": 13,
   "metadata": {
    "collapsed": false,
    "slideshow": {
     "slide_type": "fragment"
    }
   },
   "outputs": [
    {
     "name": "stdout",
     "output_type": "stream",
     "text": [
      "Ingrese n: 111\n",
      "(111, 'es compuesto')\n"
     ]
    }
   ],
   "source": [
    "n = int(raw_input('Ingrese n: '))\n",
    "es_primo = True\n",
    "d = 2\n",
    "while d < n and es_primo==True:\n",
    "    if n % d == 0:\n",
    "        es_primo = False\n",
    "    d = d + 1\n",
    "if es_primo:\n",
    "    print(n, 'es primo')\n",
    "else:\n",
    "    print(n, 'es compuesto')"
   ]
  },
  {
   "cell_type": "markdown",
   "metadata": {
    "slideshow": {
     "slide_type": "slide"
    }
   },
   "source": [
    "### Resumen\n",
    "\n",
    "* Curso \"interactivo\": ustedes lo harán interesante. Asistencia es importante.\n",
    "* Python se aprende con práctica: instalen python en sus notebooks/computadores. Si no tienen, hablen conmigo.\n",
    "* Links:  http://progra.usm.cl/  y http://github.com/sebastiandres/iwi131"
   ]
  }
 ],
 "metadata": {
  "celltoolbar": "Slideshow",
  "kernelspec": {
   "display_name": "Python 2",
   "language": "python",
   "name": "python2"
  },
  "language_info": {
   "codemirror_mode": {
    "name": "ipython",
    "version": 2
   },
   "file_extension": ".py",
   "mimetype": "text/x-python",
   "name": "python",
   "nbconvert_exporter": "python",
   "pygments_lexer": "ipython2",
   "version": "2.7.6"
  }
 },
 "nbformat": 4,
 "nbformat_minor": 0
}
