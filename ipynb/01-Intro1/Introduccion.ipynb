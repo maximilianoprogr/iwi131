{
 "cells": [
  {
   "cell_type": "code",
   "execution_count": 1,
   "metadata": {
    "collapsed": false,
    "slideshow": {
     "slide_type": "skip"
    }
   },
   "outputs": [
    {
     "data": {
      "text/html": [
       "<style>\n",
       "\n",
       "/*********************************************\n",
       " * COLORS FOR EXAMPLES\n",
       " *********************************************/\n",
       "span.good {color: #008000;}\n",
       "span.warning {color: #808000;}\n",
       "span.bad {color: #800000;}\n",
       "\n",
       "/*********************************************\n",
       " * GLOBAL STYLES\n",
       " *********************************************/\n",
       ".reveal h1 {color: #000000; text-shadow: 0px 0px 6px rgba(0, 0, 0, 0.2);}\n",
       ".reveal h2 {color: #222222; text-shadow: 0px 0px 5px rgba(0, 0, 0, 0.2);}\n",
       ".reveal h3 {color: #444444; text-shadow: 0px 0px 4px rgba(0, 0, 0, 0.2);}\n",
       ".reveal h4 {color: #666666; text-shadow: 0px 0px 3px rgba(0, 0, 0, 0.2);}\n",
       ".reveal h5 {color: #888888; text-shadow: 0px 0px 2px rgba(0, 0, 0, 0.2);}\n",
       ".reveal h6 {color: #AAAAAA; text-shadow: 0px 0px 1px rgba(0, 0, 0, 0.2);}\n",
       "\n",
       "/*********************************************\n",
       " * IMAGES\n",
       " *********************************************/\n",
       ".reveal section img { margin-left:auto; margin-right:auto;}\n",
       "\n",
       "</style>\n"
      ],
      "text/plain": [
       "<IPython.core.display.HTML object>"
      ]
     },
     "execution_count": 1,
     "metadata": {},
     "output_type": "execute_result"
    }
   ],
   "source": [
    "#Configuracion para recargar módulos y librerías cada vez \n",
    "%reload_ext autoreload\n",
    "%autoreload 2\n",
    "                                                                                                                                                                                                                                                                                                                                                                                                                                                                                                                                                                                                                                                                                \n",
    "%matplotlib inline\n",
    "                                                                                                                                                                                                                                                                                                                                                                                                                                                                                                                                                                                                                                                                                                                                                                                                                                                                                                                                                                                                                                                                                                                                                                                                                                                                                                                                                                                                                                                                                                                                                                                                                                                                                                                                                                                                                                                                                                                                                                                                                                                                                                                                                                                                                                                                                                                                                                                                                                                                                                                                                                                                                                                                                                                                                                                                                                                                                                                                                                                                                                                                                                                                                                                                                                                                                                                                                                                                                                                                                                                                                                                                                                                                                                                                                                                                                                                                                                                                                                                                                                                                                                                                                                                                                                                                                                                                                                                                                                                                                                                                                                                                                                                                                                                                                                                                                                                                                                                                                                                                                                                                                                                                                                                                                                                                                                                                                                                                                                                                                                                                                                                                                                                                                                                                                                                                                                                                                                                                                                                                                                                                                                                                                                                                                                                                                                                                                                                                                                                                                                                                                                                                                                                                                                                                                                                                                                                                                                                                                                                                                                                                                                                                                                                                                                                                                                                                                                                                                                                                                                                                                                                                                                                                                                                                                                                                                                                                                                                                                                                                                                                                                                                                                                                                                                                                                                                                                                                                                                                                                                                                                                                                                                                                                                                                                                                                                                                                                                                                                                                                                                                                                                                                                                                                                                                                                                                                                                                                                                                                                                                                                                                                                                                                                                                                                                                                                                                                                                                                                                                                                                                                                                                                                                                                                                                                                                                                                                                                                                                                                            \n",
    "from IPython.core.display import HTML\n",
    "\n",
    "HTML(open(\"style/iwi131.css\", \"r\").read())"
   ]
  },
  {
   "cell_type": "markdown",
   "metadata": {
    "slideshow": {
     "slide_type": "slide"
    }
   },
   "source": [
    "<header class=\"w3-container w3-teal\">\n",
    "<img src=\"images/utfsm.png\" alt=\"\" align=\"left\"/>\n",
    "<img src=\"images/inf.png\" alt=\"\" align=\"right\"/>\n",
    "</header>\n",
    "<br/><br/><br/><br/><br/>\n",
    "# IWI131\n",
    "## Programación de Computadores\n",
    "\n",
    "### Sebastián Flores"
   ]
  },
  {
   "cell_type": "markdown",
   "metadata": {
    "slideshow": {
     "slide_type": "slide"
    }
   },
   "source": [
    "## ¿Qué contenido aprenderemos?\n",
    "\n",
    "* Reglas del curso\n",
    "* Características de python\n",
    "* Consejos para aprender"
   ]
  },
  {
   "cell_type": "markdown",
   "metadata": {
    "slideshow": {
     "slide_type": "slide"
    }
   },
   "source": [
    "## ¿Porqué aprenderemos ese contenido?\n",
    "\n",
    "* Conocer las reglas -> optimizar recursos y anticipar dificultades.\n",
    "* Características de python -> ¿porqué python?\n",
    "* Consejos para aprender -> optimizar recursos."
   ]
  },
  {
   "cell_type": "markdown",
   "metadata": {
    "slideshow": {
     "slide_type": "slide"
    }
   },
   "source": [
    "# Reglas del Curso\n",
    "\n",
    "* Evaluaciones\n",
    "* Nota final\n",
    "* Sitio Web\n",
    "* Conflicto de metodología"
   ]
  },
  {
   "cell_type": "markdown",
   "metadata": {
    "slideshow": {
     "slide_type": "slide"
    }
   },
   "source": [
    "## Evaluaciones\n",
    "\n",
    " * Tres tareas en equipo.\n",
    " * Varias actividades en equipo.\n",
    " * Tres certamenes.\n",
    " * Un certamen recuperativo (reemplaza el peor certamen)\n",
    " * Asistencia Ayudantías (reemplaza el peor trabajo en equipo)"
   ]
  },
  {
   "cell_type": "markdown",
   "metadata": {
    "slideshow": {
     "slide_type": "slide"
    }
   },
   "source": [
    "## Nota final:\n",
    "\n",
    "Si $PC ≥ 55$:\n",
    "\n",
    "$$ NF = 0,60 PC + 0,2 PT + 0,2 PAE $$\n",
    "\n",
    "Sino:\n",
    "\n",
    "$$ NF = PC $$"
   ]
  },
  {
   "cell_type": "markdown",
   "metadata": {
    "slideshow": {
     "slide_type": "slide"
    }
   },
   "source": [
    "## Sitio web del ramo\n",
    "\n",
    "* Información oficial del ramo:\n",
    "    * http://progra.usm.cl (materia, ejercicios, material, entrega tareas, etc.)\n",
    "* Otros medios:\n",
    "   * http://twitter.com/progra_usm y http://facebook.com/ (anuncios, consultas, etc.)\n",
    "* Adicional a este paralelo:\n",
    "    * https://github.com/sebastiandres/iwi131 (material adicional)"
   ]
  },
  {
   "cell_type": "markdown",
   "metadata": {
    "slideshow": {
     "slide_type": "slide"
    }
   },
   "source": [
    "## Conflicto de metodología\n",
    "\n",
    "* Certamenes en papel: Requiere saber escribir correctamente.\n",
    "* Es más facil y efectivo saber programar en computador, que vicevecersa."
   ]
  },
  {
   "cell_type": "markdown",
   "metadata": {
    "slideshow": {
     "slide_type": "slide"
    }
   },
   "source": [
    "## Sobre este mí\n",
    "\n",
    "* Ingeniero Civil Matemático - UTFSM, Chile (2000).\n",
    "* Ingeniero y Magíster en Mecánica - Ecole Polytechnique, Francia (2005).\n",
    "* Magíster en Computación y Matemática Aplicada - Stanford, EEUU (2010).\n",
    "* Esval, Peugeot-Citroen, Lexity, CMM-UCh, Thinkful.\n",
    "* Proyectos de mecánica de sólidos y fluidos, minería, química y sismología. "
   ]
  },
  {
   "cell_type": "markdown",
   "metadata": {
    "slideshow": {
     "slide_type": "slide"
    }
   },
   "source": [
    "## Mi visión de la educación\n",
    "* Todos pueden aprender, si hay esfuerzo.\n",
    "* Escuchar < ver < reproducir < modificar < crear < innovar.\n",
    "\n",
    "\n",
    "## Mi visión de la programación\n",
    "* Python es fácil, útil y entretenido.\n",
    "* Programar es como andar en bicicleta o tocar piano.\n",
    "* Ingenieros que no sepan programar en al menos un lenguaje estarán en desventaja al egresar."
   ]
  },
  {
   "cell_type": "markdown",
   "metadata": {
    "slideshow": {
     "slide_type": "slide"
    }
   },
   "source": [
    "## Sobre este paralelo piloto\n",
    "\n",
    "* **Responsabilidad**: 50% profesor, 50% estudiantes.\n",
    "* **Mutable**: feedback es esencial.\n",
    "* **Práctico**: python para la vida, no para certámenes.\n"
   ]
  },
  {
   "cell_type": "markdown",
   "metadata": {
    "slideshow": {
     "slide_type": "slide"
    }
   },
   "source": [
    "# python\n",
    "* ¿Qué es python?\n",
    "* ¿Porqué python?"
   ]
  },
  {
   "cell_type": "markdown",
   "metadata": {
    "slideshow": {
     "slide_type": "slide"
    }
   },
   "source": [
    "<img src=\"images/python.jpg\" alt=\"\" align=\"right\"/>\n",
    "## ¿Qué es python?\n",
    "* Lenguaje de alto nivel: programar sin mancharse las manos.\n",
    "* Lenguaje de bajo nivel: "
   ]
  },
  {
   "cell_type": "markdown",
   "metadata": {
    "slideshow": {
     "slide_type": "slide"
    }
   },
   "source": [
    "## ¿Porqué python?\n",
    "\n",
    "* Ampliamente utilizado en ingeniería\n",
    "* Fácil de leer, mantener y escribir\n",
    "* Gran cantidad de librerías \n",
    "* Alto nivel de abstracción\n",
    "* Ejecución directa\n",
    "* Gratis\n"
   ]
  },
  {
   "cell_type": "markdown",
   "metadata": {
    "slideshow": {
     "slide_type": "slide"
    }
   },
   "source": [
    "## Ejemplos\n",
    "\n",
    "Mostrar archivos en carpeta. ¿Qué hace cada archivo?"
   ]
  },
  {
   "cell_type": "code",
   "execution_count": 8,
   "metadata": {
    "collapsed": false
   },
   "outputs": [
    {
     "name": "stdout",
     "output_type": "stream",
     "text": [
      "ejemplo1.py  ejemplo2.py  ejemplo3.py\r\n"
     ]
    }
   ],
   "source": [
    "%ls iwi131_code"
   ]
  },
  {
   "cell_type": "markdown",
   "metadata": {
    "slideshow": {
     "slide_type": "slide"
    }
   },
   "source": [
    "# Consejos para aprender\n",
    "\n",
    "* Instalar python en sus computadores: gratis y sin riesgos.\n",
    "* Escuchar < ver < **reproducir** < **modificar** < **crear** < **innovar**.\n",
    "* Utilicen python para otros cursos"
   ]
  },
  {
   "cell_type": "markdown",
   "metadata": {
    "slideshow": {
     "slide_type": "slide"
    }
   },
   "source": [
    "### Resumen\n",
    "\n",
    "* Curso \"interactivo\": ustedes lo harán interesante. \n",
    "* Asistencia es importante.\n",
    "* Python se aprende con práctica: instalen python en sus notebooks/computadores. Si no tienen, hablen conmigo."
   ]
  }
 ],
 "metadata": {
  "celltoolbar": "Slideshow",
  "kernelspec": {
   "display_name": "Python 2",
   "language": "python",
   "name": "python2"
  },
  "language_info": {
   "codemirror_mode": {
    "name": "ipython",
    "version": 2
   },
   "file_extension": ".py",
   "mimetype": "text/x-python",
   "name": "python",
   "nbconvert_exporter": "python",
   "pygments_lexer": "ipython2",
   "version": "2.7.6"
  }
 },
 "nbformat": 4,
 "nbformat_minor": 0
}
