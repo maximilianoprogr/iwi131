{
 "cells": [
  {
   "cell_type": "code",
   "execution_count": 17,
   "metadata": {
    "collapsed": false,
    "slideshow": {
     "slide_type": "skip"
    }
   },
   "outputs": [
    {
     "data": {
      "text/html": [
       "<style>\n",
       "\n",
       "/*********************************************\n",
       " * COLORS FOR EXAMPLES\n",
       " *********************************************/\n",
       "span.good {color: #008000;}\n",
       "span.warning {color: #808000;}\n",
       "span.bad {color: #800000;}\n",
       "\n",
       "/*********************************************\n",
       " * GLOBAL STYLES\n",
       " *********************************************/\n",
       ".reveal h1 {color: #000000; text-shadow: 0px 0px 6px rgba(0, 0, 0, 0.2);}\n",
       ".reveal h2 {color: #222222; text-shadow: 0px 0px 5px rgba(0, 0, 0, 0.2);}\n",
       ".reveal h3 {color: #444444; text-shadow: 0px 0px 4px rgba(0, 0, 0, 0.2);}\n",
       ".reveal h4 {color: #666666; text-shadow: 0px 0px 3px rgba(0, 0, 0, 0.2);}\n",
       ".reveal h5 {color: #888888; text-shadow: 0px 0px 2px rgba(0, 0, 0, 0.2);}\n",
       ".reveal h6 {color: #AAAAAA; text-shadow: 0px 0px 1px rgba(0, 0, 0, 0.2);}\n",
       "\n",
       "/*********************************************\n",
       " * IMAGES\n",
       " *********************************************/\n",
       ".reveal section img { margin-left:auto; margin-right:auto;}\n",
       "\n",
       "</style>\n"
      ],
      "text/plain": [
       "<IPython.core.display.HTML object>"
      ]
     },
     "execution_count": 17,
     "metadata": {},
     "output_type": "execute_result"
    }
   ],
   "source": [
    "#Configuracion para recargar módulos y librerías cada vez \n",
    "%reload_ext autoreload\n",
    "%autoreload 2\n",
    "                                                                                                                                                                                                                                                                                                                                                                                                                                                                                                                                                                                                                                                                                \n",
    "%matplotlib inline\n",
    "                                                                                                                                                                                                                                                                                                                                                                                                                                                                                                                                                                                                                                                                                                                                                                                                                                                                                                                                                                                                                                                                                                                                                                                                                                                                                                                                                                                                                                                                                                                                                                                                                                                                                                                                                                                                                                                                                                                                                                                                                                                                                                                                                                                                                                                                                                                                                                                                                                                                                                                                                                                                                                                                                                                                                                                                                                                                                                                                                                                                                                                                                                                                                                                                                                                                                                                                                                                                                                                                                                                                                                                                                                                                                                                                                                                                                                                                                                                                                                                                                                                                                                                                                                                                                                                                                                                                                                                                                                                                                                                                                                                                                                                                                                                                                                                                                                                                                                                                                                                                                                                                                                                                                                                                                                                                                                                                                                                                                                                                                                                                                                                                                                                                                                                                                                                                                                                                                                                                                                                                                                                                                                                                                                                                                                                                                                                                                                                                                                                                                                                                                                                                                                                                                                                                                                                                                                                                                                                                                                                                                                                                                                                                                                                                                                                                                                                                                                                                                                                                                                                                                                                                                                                                                                                                                                                                                                                                                                                                                                                                                                                                                                                                                                                                                                                                                                                                                                                                                                                                                                                                                                                                                                                                                                                                                                                                                                                                                                                                                                                                                                                                                                                                                                                                                                                                                                                                                                                                                                                                                                                                                                                                                                                                                                                                                                                                                                                                                                                                                                                                                                                                                                                                                                                                                                                                                                                                                                                                                                                                                            \n",
    "from IPython.core.display import HTML\n",
    "\n",
    "HTML(open(\"style/iwi131.css\", \"r\").read())"
   ]
  },
  {
   "cell_type": "markdown",
   "metadata": {
    "slideshow": {
     "slide_type": "slide"
    }
   },
   "source": [
    "<header class=\"w3-container w3-teal\">\n",
    "<img src=\"images/utfsm.png\" alt=\"\" align=\"left\"/>\n",
    "<img src=\"images/inf.png\" alt=\"\" align=\"right\"/>\n",
    "</header>\n",
    "<br/><br/><br/><br/><br/>\n",
    "# IWI131\n",
    "## Programación de Computadores\n",
    "\n",
    "### Sebastián Flores"
   ]
  },
  {
   "cell_type": "markdown",
   "metadata": {
    "slideshow": {
     "slide_type": "slide"
    }
   },
   "source": [
    "## ¿Qué contenido aprenderemos?\n",
    "\n",
    "* 1- Reglas del curso\n",
    "* 2- Características de python\n",
    "* 3- Consejos para aprender"
   ]
  },
  {
   "cell_type": "markdown",
   "metadata": {
    "slideshow": {
     "slide_type": "slide"
    }
   },
   "source": [
    "## ¿Porqué aprenderemos ese contenido?\n",
    "\n",
    "* Conocer las reglas -> optimizar recursos y anticipar dificultades.\n",
    "* Características de python -> ¿porqué python?\n",
    "* Consejos para aprender -> optimizar recursos."
   ]
  },
  {
   "cell_type": "markdown",
   "metadata": {
    "slideshow": {
     "slide_type": "slide"
    }
   },
   "source": [
    "# 1- Reglas del Curso\n",
    "\n",
    "* Evaluaciones\n",
    "* Nota final\n",
    "* Sitio web\n",
    "* Conflicto de metodología"
   ]
  },
  {
   "cell_type": "markdown",
   "metadata": {
    "slideshow": {
     "slide_type": "slide"
    }
   },
   "source": [
    "## Evaluaciones\n",
    "\n",
    "### Obligatorias\n",
    " * 3 certámenes individuales.\n",
    " * 3 tareas en equipo.\n",
    " * 5 actividades.\n",
    " \n",
    "### Opcionales\n",
    " * 1 Certamen Recuperativo: reemplaza el peor certamen\n",
    " * Asistencia a Ayudantías: reemplaza el peor trabajo en equipo"
   ]
  },
  {
   "cell_type": "markdown",
   "metadata": {
    "slideshow": {
     "slide_type": "slide"
    }
   },
   "source": [
    "## Nota final:\n",
    "\n",
    "Calcular:\n",
    "\n",
    "$$ PP = 60\\% PC + 20\\% PT + 20\\% PAE $$\n",
    "\n",
    "Si $PC ≥ 55$ y $PP ≥ 55$:\n",
    "\n",
    "$$ NF = PP$$ \n",
    "\n",
    "Sino:\n",
    "\n",
    "$$ NF = \\min(PC,PP) $$"
   ]
  },
  {
   "cell_type": "markdown",
   "metadata": {
    "slideshow": {
     "slide_type": "slide"
    }
   },
   "source": [
    "## Sitio web del ramo\n",
    "\n",
    "* Información oficial del ramo:\n",
    "    * http://progra.usm.cl (materia, ejercicios, material, entrega tareas, etc.)\n",
    "* Otros medios:\n",
    "   * http://twitter.com/progra_usm y http://facebook.com/ (anuncios, consultas, etc.)\n",
    "* Adicional a este paralelo:\n",
    "    * https://github.com/sebastiandres/iwi131 (material adicional)"
   ]
  },
  {
   "cell_type": "markdown",
   "metadata": {
    "slideshow": {
     "slide_type": "slide"
    }
   },
   "source": [
    "## Conflicto de metodología\n",
    "\n",
    "* Los certámenes ($60\\%$ de la nota final) son en papel e individiduales.\n",
    "* Certámenes requieren las siguientes habilidades: \n",
    "    * lectura\n",
    "    * análisis\n",
    "    * modelamiento \n",
    "    * programación"
   ]
  },
  {
   "cell_type": "markdown",
   "metadata": {
    "slideshow": {
     "slide_type": "slide"
    }
   },
   "source": [
    "## Sobre este mí\n",
    "\n",
    "* Ingeniero Civil Matemático - UTFSM, Chile (2000).\n",
    "* Ingeniero y Magíster en Mecánica - Ecole Polytechnique, Francia (2005).\n",
    "* Magíster en Computación y Matemática Aplicada - Stanford, EEUU (2010).\n",
    "* Esval, Peugeot-Citroen, Lexity, CMM-UCh, Thinkful.\n",
    "* Proyectos de mecánica de sólidos y fluidos, minería, química y sismología. "
   ]
  },
  {
   "cell_type": "markdown",
   "metadata": {
    "slideshow": {
     "slide_type": "slide"
    }
   },
   "source": [
    "## Actualmente\n",
    "* Clases en el mundo real: IWI131 y MAT281\n",
    "* Clases online: Data Science @ Thinkful\n",
    "* Software para propagación de tsunamis"
   ]
  },
  {
   "cell_type": "markdown",
   "metadata": {
    "slideshow": {
     "slide_type": "slide"
    }
   },
   "source": [
    "## Mi visión de la educación\n",
    "* Todos pueden aprender, si hay esfuerzo.\n",
    "* Escuchar < Ver < Reproducir < Modificar < Crear < Innovar."
   ]
  },
  {
   "cell_type": "markdown",
   "metadata": {
    "slideshow": {
     "slide_type": "slide"
    }
   },
   "source": [
    "## Mi visión de la programación\n",
    "* Python es fácil, útil y entretenido.\n",
    "* Programar es como andar en bicicleta o tocar piano.\n",
    "* Ingenieros que no sepan programar  estarán en desventaja al egresar."
   ]
  },
  {
   "cell_type": "markdown",
   "metadata": {
    "slideshow": {
     "slide_type": "slide"
    }
   },
   "source": [
    "## 2- Sobre python\n",
    "* ¿Qué es python?\n",
    "* ¿Porqué python?"
   ]
  },
  {
   "cell_type": "markdown",
   "metadata": {
    "slideshow": {
     "slide_type": "slide"
    }
   },
   "source": [
    "<img src=\"images/python.jpg\" alt=\"\" align=\"right\"/>\n",
    "## ¿Qué es python?\n",
    "* Lenguaje de alto nivel: programar sin conocer el hardware.\n",
    "* Navaja suiza de lenguajes de programación.\n",
    "* 2 versiones: \n",
    "  * 2.7: Utilizado en este curso\n",
    "  * 3.5: Versión \"consistente\", todavía en adopción."
   ]
  },
  {
   "cell_type": "markdown",
   "metadata": {
    "slideshow": {
     "slide_type": "slide"
    }
   },
   "source": [
    "## ¿Porqué python?\n",
    "\n",
    "* Ampliamente utilizado en ingeniería\n",
    "* Fácil de leer, mantener y escribir\n",
    "* Gran cantidad de librerías \n",
    "* Alto nivel de abstracción\n",
    "* Ejecución directa\n",
    "* Gratis\n"
   ]
  },
  {
   "cell_type": "markdown",
   "metadata": {
    "slideshow": {
     "slide_type": "slide"
    }
   },
   "source": [
    "## Sobre este paralelo piloto\n",
    "\n",
    "* **Responsabilidad**: 50% profesor, 50% estudiantes.\n",
    "* **Mutable**: feedback es esencial.\n",
    "* **Práctico**: python para la vida, no para certámenes.\n",
    "* **Interactivo**: participación en clases NO es opcional."
   ]
  },
  {
   "cell_type": "markdown",
   "metadata": {
    "slideshow": {
     "slide_type": "slide"
    }
   },
   "source": [
    "## Ejemplo 1\n",
    "\n",
    "¿Que hace el siguiente archivo?"
   ]
  },
  {
   "cell_type": "code",
   "execution_count": null,
   "metadata": {
    "collapsed": false
   },
   "outputs": [],
   "source": [
    "a, b = 0, 1\n",
    "while b < 200:\n",
    "    print b,\n",
    "    a, b = b, a+b"
   ]
  },
  {
   "cell_type": "markdown",
   "metadata": {
    "slideshow": {
     "slide_type": "slide"
    }
   },
   "source": [
    "## Ejemplo 2\n",
    "\n",
    "¿Que hace el siguiente código?"
   ]
  },
  {
   "cell_type": "code",
   "execution_count": null,
   "metadata": {
    "collapsed": false
   },
   "outputs": [],
   "source": [
    "anexos = {'Cesar':4001, \n",
    "          'Sebastian': 4002}\n",
    "anexos['Claudio'] = 4003\n",
    "\n",
    "print anexos\n",
    "\n",
    "del anexos['Claudio']\n",
    "anexos['Patricio'] = 4004\n",
    "\n",
    "print anexos\n",
    "\n",
    "if \"Sebastian\" in anexos:\n",
    "    print anexos[\"Sebastian\"]\n",
    "\n",
    "if \"sebastian\" in anexos:\n",
    "    print anexos[\"sebastian\"]"
   ]
  },
  {
   "cell_type": "markdown",
   "metadata": {
    "slideshow": {
     "slide_type": "slide"
    }
   },
   "source": [
    "## Ejemplo 3\n",
    "\n",
    "¿Que hace el siguiente archivo?"
   ]
  },
  {
   "cell_type": "code",
   "execution_count": null,
   "metadata": {
    "collapsed": false
   },
   "outputs": [],
   "source": [
    "import urllib2\n",
    "\n",
    "def download_file(download_url):\n",
    "    response = urllib2.urlopen(download_url)\n",
    "    file = open(\"document.pdf\", 'wb')\n",
    "    file.write(response.read())\n",
    "    file.close()\n",
    "    print(\"Completed\")\n",
    "\n",
    "download_file(\"http://progra.usm.cl/Archivos/certamenes/Libro_prograRB.pdf\")"
   ]
  },
  {
   "cell_type": "markdown",
   "metadata": {
    "slideshow": {
     "slide_type": "slide"
    }
   },
   "source": [
    "## 3- Consejos para aprender\n",
    "\n",
    "* Instalar python en sus computadores: gratis y sin riesgos.\n",
    "* Todo el contenido estará en los sitios web.\n",
    "* Repasen y estudien antes de cada clase: vengan a aprender.\n",
    "* Escuchar < ver < **reproducir** < **modificar** < **crear** < **innovar**.\n",
    "* Utilicen python para otros cursos y proyectos personales."
   ]
  },
  {
   "cell_type": "markdown",
   "metadata": {
    "slideshow": {
     "slide_type": "slide"
    }
   },
   "source": [
    "## Resumen\n",
    "\n",
    "* Curso \"interactivo\": ustedes lo harán interesante. \n",
    "* Asistencia es importante.\n",
    "* Python se aprende con práctica:\n",
    "  * instalen python en sus notebooks/computadores. \n",
    "  * Si no tienen notebook/computador, hablen conmigo."
   ]
  }
 ],
 "metadata": {
  "celltoolbar": "Slideshow",
  "kernelspec": {
   "display_name": "Python 2",
   "language": "python",
   "name": "python2"
  },
  "language_info": {
   "codemirror_mode": {
    "name": "ipython",
    "version": 2
   },
   "file_extension": ".py",
   "mimetype": "text/x-python",
   "name": "python",
   "nbconvert_exporter": "python",
   "pygments_lexer": "ipython2",
   "version": "2.7.6"
  }
 },
 "nbformat": 4,
 "nbformat_minor": 0
}
