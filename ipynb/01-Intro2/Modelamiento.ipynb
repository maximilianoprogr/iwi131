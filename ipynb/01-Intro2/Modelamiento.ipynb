{
 "cells": [
  {
   "cell_type": "code",
   "execution_count": 1,
   "metadata": {
    "collapsed": false,
    "slideshow": {
     "slide_type": "skip"
    }
   },
   "outputs": [
    {
     "data": {
      "text/html": [
       "<style>\n",
       "\n",
       "/*********************************************\n",
       " * COLORS FOR EXAMPLES\n",
       " *********************************************/\n",
       "span.good {color: #008000;}\n",
       "span.warning {color: #808000;}\n",
       "span.bad {color: #800000;}\n",
       "\n",
       "/*********************************************\n",
       " * GLOBAL STYLES\n",
       " *********************************************/\n",
       ".reveal h1 {color: #000000; text-shadow: 0px 0px 6px rgba(0, 0, 0, 0.2);}\n",
       ".reveal h2 {color: #222222; text-shadow: 0px 0px 5px rgba(0, 0, 0, 0.2);}\n",
       ".reveal h3 {color: #444444; text-shadow: 0px 0px 4px rgba(0, 0, 0, 0.2);}\n",
       ".reveal h4 {color: #666666; text-shadow: 0px 0px 3px rgba(0, 0, 0, 0.2);}\n",
       ".reveal h5 {color: #888888; text-shadow: 0px 0px 2px rgba(0, 0, 0, 0.2);}\n",
       ".reveal h6 {color: #AAAAAA; text-shadow: 0px 0px 1px rgba(0, 0, 0, 0.2);}\n",
       "\n",
       "/*********************************************\n",
       " * IMAGES\n",
       " *********************************************/\n",
       ".reveal section img { margin-left:auto; margin-right:auto;}\n",
       "\n",
       "</style>\n"
      ],
      "text/plain": [
       "<IPython.core.display.HTML object>"
      ]
     },
     "execution_count": 1,
     "metadata": {},
     "output_type": "execute_result"
    }
   ],
   "source": [
    "\"\"\"\n",
    "IPython Notebook v4.0 para python 2.7\n",
    "Librerías adicionales: Ninguna.\n",
    "Contenido bajo licencia CC-BY 4.0. Código bajo licencia MIT. (c) Sebastian Flores.\n",
    "\"\"\"\n",
    "\n",
    "# Configuracion para recargar módulos y librerías \n",
    "%reload_ext autoreload\n",
    "%autoreload 2\n",
    "\n",
    "from IPython.core.display import HTML\n",
    "\n",
    "HTML(open(\"style/iwi131.css\", \"r\").read())"
   ]
  },
  {
   "cell_type": "markdown",
   "metadata": {
    "slideshow": {
     "slide_type": "slide"
    }
   },
   "source": [
    "<header class=\"w3-container w3-teal\">\n",
    "<img src=\"images/utfsm.png\" alt=\"\" align=\"left\"/>\n",
    "<img src=\"images/inf.png\" alt=\"\" align=\"right\"/>\n",
    "</header>\n",
    "<br/><br/><br/><br/><br/>\n",
    "# IWI131\n",
    "## Programación de Computadores\n",
    "\n",
    "### Sebastián Flores\n",
    "\n",
    "* http://progra.usm.cl/ \n",
    "\n",
    "* https://www.github.com/sebastiandres/iwi131"
   ]
  },
  {
   "cell_type": "markdown",
   "metadata": {
    "slideshow": {
     "slide_type": "skip"
    }
   },
   "source": [
    "## Resumen de la clase pasada\n",
    "\n",
    "* Reglas de evaluación\n",
    "* Curso piloto\n",
    "* Python es fácil y práctico"
   ]
  },
  {
   "cell_type": "markdown",
   "metadata": {
    "slideshow": {
     "slide_type": "skip"
    }
   },
   "source": [
    "## ¿Ya instalaron python en sus computadores?"
   ]
  },
  {
   "cell_type": "markdown",
   "metadata": {
    "slideshow": {
     "slide_type": "slide"
    }
   },
   "source": [
    "## ¿Qué contenido aprenderemos?\n",
    "\n",
    "* 1- Modelamiento de un problema\n",
    "* 2- Algoritmos\n",
    "* 3- Ejemplo de problemas"
   ]
  },
  {
   "cell_type": "markdown",
   "metadata": {
    "slideshow": {
     "slide_type": "slide"
    }
   },
   "source": [
    "## ¿Porqué aprenderemos ese contenido?\n",
    "\n",
    "* Modelamiento de un problema -> herramienta transversal en ingeniería.\n",
    "* Algoritmo -> herramienta transversal en informática.\n",
    "* Ejemplo de problemas -> motivación para el ramo."
   ]
  },
  {
   "cell_type": "markdown",
   "metadata": {
    "slideshow": {
     "slide_type": "slide"
    }
   },
   "source": [
    "## Sitio web del ramo\n",
    "\n",
    "* Información oficial del ramo:\n",
    "    * http://progra.usm.cl (materia, ejercicios, material, entrega tareas, etc.)\n",
    "* Otros medios:\n",
    "   * http://twitter.com/progra_usm y http://facebook.com/ (anuncios, consultas, etc.)\n",
    "* Adicional a este paralelo:\n",
    "    * https://github.com/sebastiandres/iwi131 (material adicional)"
   ]
  },
  {
   "cell_type": "markdown",
   "metadata": {
    "slideshow": {
     "slide_type": "slide"
    }
   },
   "source": [
    "## 1- Modelamiento\n",
    "\n",
    "### ¿Cómo se modela un problema? (hint: 3 pasos)"
   ]
  },
  {
   "cell_type": "markdown",
   "metadata": {
    "slideshow": {
     "slide_type": "fragment"
    }
   },
   "source": [
    "* ** Entrada** de datos\n",
    "* **Procesamiento** de datos\n",
    "* **Salida** de datos"
   ]
  },
  {
   "cell_type": "markdown",
   "metadata": {
    "slideshow": {
     "slide_type": "slide"
    }
   },
   "source": [
    "## 2- Algoritmo\n",
    "\n",
    "### ¿Que es un algoritmo?\n"
   ]
  },
  {
   "cell_type": "markdown",
   "metadata": {
    "slideshow": {
     "slide_type": "fragment"
    }
   },
   "source": [
    "**Secuencia de pasos** para resolver un problema.\n",
    "\n",
    "### ¿Ejemplos?"
   ]
  },
  {
   "cell_type": "markdown",
   "metadata": {
    "slideshow": {
     "slide_type": "fragment"
    }
   },
   "source": [
    "* Recetas de cocina\n",
    "* Cambiar un neumático\n",
    "* Publicar una foto en facebook\n",
    "* etc."
   ]
  },
  {
   "cell_type": "markdown",
   "metadata": {
    "slideshow": {
     "slide_type": "slide"
    }
   },
   "source": [
    "## 2- Algoritmo\n",
    "\n",
    "### ¿Que es un programa (computacional)?"
   ]
  },
  {
   "cell_type": "markdown",
   "metadata": {
    "slideshow": {
     "slide_type": "fragment"
    }
   },
   "source": [
    "Secuencia de instrucciones descritas en un lenguaje que puede ser entendido por el computador.\n",
    "\n",
    "Es decir\n",
    "\n",
    "Un **algoritmo** expresado en un **lenguaje computacional**."
   ]
  },
  {
   "cell_type": "markdown",
   "metadata": {
    "slideshow": {
     "slide_type": "slide"
    }
   },
   "source": [
    "## 3- Ejemplos\n",
    "### Ejemplo de problema\n",
    "\n",
    "* ¿Dada una funcion lineal $y = ax + b $, ¿cómo encontramos los ceros de la función?\n"
   ]
  },
  {
   "cell_type": "markdown",
   "metadata": {
    "slideshow": {
     "slide_type": "fragment"
    }
   },
   "source": [
    "* ¿Dada una funcion cualquiera $y=f(x)$, ¿cómo encontramos los ceros de la función?\n"
   ]
  },
  {
   "cell_type": "markdown",
   "metadata": {
    "slideshow": {
     "slide_type": "slide"
    }
   },
   "source": [
    "## 3- Ejemplos\n",
    "### Ejemplo de problema\n",
    "\n",
    "* Orden: \n",
    "  * Dado un conjunto de números, ¿cómo podemos obtener los números ordenados de mayor a menor?"
   ]
  },
  {
   "cell_type": "markdown",
   "metadata": {
    "slideshow": {
     "slide_type": "fragment"
    }
   },
   "source": [
    "* Mínimo y Máximos: \n",
    " * Dado un conjunto de números, ¿Cómo podemos obtener el menor o el mayor entre ellos?"
   ]
  },
  {
   "cell_type": "markdown",
   "metadata": {
    "slideshow": {
     "slide_type": "fragment"
    }
   },
   "source": [
    " * Vendedor Viajero: \n",
    "  * Dado un conjunto de ciudades, ¿cómo podemos encontrar el camino más corto que une todas las ciudades sin repetir?"
   ]
  },
  {
   "cell_type": "markdown",
   "metadata": {
    "slideshow": {
     "slide_type": "slide"
    }
   },
   "source": [
    "## 3- Ejemplos\n",
    "### Ejemplo de problema\n",
    "\n",
    "* ¿Dado un mensaje de email, cómo podemos clasificarlo en spam o no spam?"
   ]
  },
  {
   "cell_type": "markdown",
   "metadata": {
    "slideshow": {
     "slide_type": "slide"
    }
   },
   "source": [
    "## 3- Ejemplos\n",
    "### Ejemplo de problema\n",
    "\n",
    "* ¿Dadas las mediciones de sismógrafos, cómo podemos predecir en cuáles ciudades hay que emitir una alerta de tsunami?"
   ]
  },
  {
   "cell_type": "markdown",
   "metadata": {
    "slideshow": {
     "slide_type": "slide"
    }
   },
   "source": [
    "## 3- Ejemplos\n",
    "### Ejemplo de problema\n",
    "Dadas ciertas mediciones de laboratorio...\n",
    "\n",
    "* ¿Cómo podemos calcular automáticamente el error instrumental?\n",
    "* ¿Cómo podemos ajustar los valores a un modelo?\n",
    "* ¿Cómo podemos graficar los resultados?"
   ]
  },
  {
   "cell_type": "markdown",
   "metadata": {
    "slideshow": {
     "slide_type": "slide"
    }
   },
   "source": [
    "## Respuesta\n",
    "\n",
    "* Computacionalmente. \n",
    "* En este curso enseñaremos principios generales de programación, utilizando el lenguaje python.\n",
    "* Todo lo anterior se puede realizar en python (y sus librerías), aunque en este curso solamente los principios básicos."
   ]
  },
  {
   "cell_type": "markdown",
   "metadata": {
    "slideshow": {
     "slide_type": "slide"
    }
   },
   "source": [
    "## 3- Ejemplos\n",
    "### Definición \n",
    "\n",
    "Un número natural $n$ se llama **primo** si no existen otros números naturales que lo dividan exactamente.\n",
    "\n",
    "Un número natural que no es primo se llama **compuesto**.\n",
    "\n",
    "### Ejercicio\n",
    "Diseñar un algoritmo que decida si un número es primo o compuesto.\n",
    "\n",
    "### Ejemplos\n",
    "* Ejemplo de números primos: 2, 3, 5, 7, 9, 11, 13, ...\n",
    "\n",
    "* Ejemplo de números compuestos: 4, 20, 27, ..."
   ]
  },
  {
   "cell_type": "markdown",
   "metadata": {
    "slideshow": {
     "slide_type": "slide"
    }
   },
   "source": [
    "### Descripción del problema\n",
    "¿Cuales son las etapas de nuestro problema?"
   ]
  },
  {
   "cell_type": "markdown",
   "metadata": {
    "slideshow": {
     "slide_type": "fragment"
    }
   },
   "source": [
    "* Entrada de datos: \n",
    "  * Un número natural $n$\n",
    "* Procesamiento de datos: \n",
    "  * Algoritmo para decidir si es primo o compuesto.\n",
    "* Salida de datos: \n",
    "  * Imprimir en pantalla \"es primo\" o \"es compuesto\"."
   ]
  },
  {
   "cell_type": "markdown",
   "metadata": {
    "slideshow": {
     "slide_type": "slide"
    }
   },
   "source": [
    "### Solución en lenguaje natural\n",
    "\n",
    " * Recorrer todos los enteros entre 2 y n-1.\n",
    " * Si al menos uno de estos números es divisor de n, entonces n es compuesto. Si no, es primo."
   ]
  },
  {
   "cell_type": "markdown",
   "metadata": {
    "slideshow": {
     "slide_type": "slide"
    }
   },
   "source": [
    "### Solución en diagrama de flujo\n",
    "\n",
    "<img src=\"images/flujo.png\" width=\"800px\" align=\"middle\"/>"
   ]
  },
  {
   "cell_type": "markdown",
   "metadata": {
    "slideshow": {
     "slide_type": "slide"
    }
   },
   "source": [
    "### Solución en pseudocódigo"
   ]
  },
  {
   "cell_type": "raw",
   "metadata": {
    "collapsed": false,
    "slideshow": {
     "slide_type": "fragment"
    }
   },
   "source": [
    "leer n\n",
    "es_primo = verdadero\n",
    "d=2\n",
    "mientras d menor n:\n",
    "    si n es divisible por d:\n",
    "       es primo = falso\n",
    "    d=d+1\n",
    "si es primo es verdadero:\n",
    "    escribir \"n es primo\"\n",
    "o si no:\n",
    "    escribir \"n es compuesto\""
   ]
  },
  {
   "cell_type": "markdown",
   "metadata": {
    "slideshow": {
     "slide_type": "slide"
    }
   },
   "source": [
    "### Solución en código\n",
    "Hint: probar con **20**, **1001**, **10000000** y **15485863**"
   ]
  },
  {
   "cell_type": "code",
   "execution_count": 18,
   "metadata": {
    "collapsed": false,
    "slideshow": {
     "slide_type": "fragment"
    }
   },
   "outputs": [
    {
     "name": "stdout",
     "output_type": "stream",
     "text": [
      "Ingrese n: 1001\n",
      "1001 es compuesto\n"
     ]
    }
   ],
   "source": [
    "n = int(raw_input('Ingrese n: '))\n",
    "es_primo = True\n",
    "d = 2\n",
    "while d < n:\n",
    "    if n % d == 0:\n",
    "        es_primo = False\n",
    "    d = d + 1\n",
    "if es_primo:\n",
    "    print n, 'es primo'\n",
    "else:\n",
    "    print n, 'es compuesto'"
   ]
  },
  {
   "cell_type": "markdown",
   "metadata": {
    "collapsed": true,
    "slideshow": {
     "slide_type": "slide"
    }
   },
   "source": [
    "### Solución en código - optimización\n",
    "Hint: probar con **10000000** y **15485863**"
   ]
  },
  {
   "cell_type": "code",
   "execution_count": 20,
   "metadata": {
    "collapsed": false,
    "slideshow": {
     "slide_type": "fragment"
    }
   },
   "outputs": [
    {
     "name": "stdout",
     "output_type": "stream",
     "text": [
      "Ingrese n: 15485863\n",
      "15485863 es primo\n"
     ]
    }
   ],
   "source": [
    "n = int(raw_input('Ingrese n: '))\n",
    "es_primo = True\n",
    "d = 2\n",
    "while d < n and es_primo==True:\n",
    "    if n % d == 0:\n",
    "        es_primo = False\n",
    "    d = d + 1\n",
    "if es_primo:\n",
    "    print n, 'es primo' \n",
    "else:\n",
    "    print n, 'es compuesto'"
   ]
  },
  {
   "cell_type": "markdown",
   "metadata": {
    "collapsed": true,
    "slideshow": {
     "slide_type": "slide"
    }
   },
   "source": [
    "### Solución en código - optimización (2)\n",
    "\n",
    "Hint: probar con **15485863**"
   ]
  },
  {
   "cell_type": "code",
   "execution_count": 22,
   "metadata": {
    "collapsed": false,
    "slideshow": {
     "slide_type": "fragment"
    }
   },
   "outputs": [
    {
     "name": "stdout",
     "output_type": "stream",
     "text": [
      "Ingrese n: 25\n",
      "25 es compuesto\n"
     ]
    }
   ],
   "source": [
    "n = int(raw_input('Ingrese n: '))\n",
    "es_primo = True\n",
    "d = 2\n",
    "while d <= n**0.5 and es_primo==True:\n",
    "    if n % d == 0:\n",
    "        es_primo = False\n",
    "    d = d + 1\n",
    "if es_primo:\n",
    "    print n, 'es primo' \n",
    "else:\n",
    "    print n, 'es compuesto'"
   ]
  },
  {
   "cell_type": "markdown",
   "metadata": {
    "slideshow": {
     "slide_type": "slide"
    }
   },
   "source": [
    "### Resumen\n",
    "\n",
    "* Modelamiento de un problema: 3 etapas.\n",
    "* Definición de **algoritmo** y **programa computacional**.\n",
    "* Ejemplo para decidir si un número es primo o compuesto."
   ]
  },
  {
   "cell_type": "markdown",
   "metadata": {
    "slideshow": {
     "slide_type": "slide"
    }
   },
   "source": [
    "### Próxima clase\n",
    "* Diagrama de Flujo"
   ]
  }
 ],
 "metadata": {
  "celltoolbar": "Slideshow",
  "kernelspec": {
   "display_name": "Python 3",
   "language": "python",
   "name": "python3"
  },
  "language_info": {
   "codemirror_mode": {
    "name": "ipython",
    "version": 3
   },
   "file_extension": ".py",
   "mimetype": "text/x-python",
   "name": "python",
   "nbconvert_exporter": "python",
   "pygments_lexer": "ipython3",
   "version": "3.4.0"
  }
 },
 "nbformat": 4,
 "nbformat_minor": 0
}
