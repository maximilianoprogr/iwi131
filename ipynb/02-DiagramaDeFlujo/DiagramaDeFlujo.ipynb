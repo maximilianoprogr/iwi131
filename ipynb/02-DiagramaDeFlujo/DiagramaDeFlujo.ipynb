{
 "cells": [
  {
   "cell_type": "code",
   "execution_count": 6,
   "metadata": {
    "collapsed": false,
    "slideshow": {
     "slide_type": "skip"
    }
   },
   "outputs": [
    {
     "data": {
      "text/html": [
       "<style>\n",
       "\n",
       "/*********************************************\n",
       " * COLORS FOR EXAMPLES\n",
       " *********************************************/\n",
       "span.good {color: #008000;}\n",
       "span.warning {color: #808000;}\n",
       "span.bad {color: #800000;}\n",
       "\n",
       "/*********************************************\n",
       " * GLOBAL STYLES\n",
       " *********************************************/\n",
       ".reveal h1 {color: #000000; text-shadow: 0px 0px 6px rgba(0, 0, 0, 0.2);}\n",
       ".reveal h2 {color: #222222; text-shadow: 0px 0px 5px rgba(0, 0, 0, 0.2);}\n",
       ".reveal h3 {color: #444444; text-shadow: 0px 0px 4px rgba(0, 0, 0, 0.2);}\n",
       ".reveal h4 {color: #666666; text-shadow: 0px 0px 3px rgba(0, 0, 0, 0.2);}\n",
       ".reveal h5 {color: #888888; text-shadow: 0px 0px 2px rgba(0, 0, 0, 0.2);}\n",
       ".reveal h6 {color: #AAAAAA; text-shadow: 0px 0px 1px rgba(0, 0, 0, 0.2);}\n",
       "\n",
       "/*********************************************\n",
       " * IMAGES\n",
       " *********************************************/\n",
       ".reveal section img { margin-left:auto; margin-right:auto;}\n",
       "\n",
       "</style>\n"
      ],
      "text/plain": [
       "<IPython.core.display.HTML object>"
      ]
     },
     "execution_count": 6,
     "metadata": {},
     "output_type": "execute_result"
    }
   ],
   "source": [
    "#Configuracion para recargar módulos y librerías cada vez \n",
    "%reload_ext autoreload\n",
    "%autoreload 2\n",
    "                                                                                                                                                                                                                                                                                                                                                                                                                                                                                                                                                                                                                                                                                \n",
    "%matplotlib inline\n",
    "                                                                                                                                                                                                                                                                                                                                                                                                                                                                                                                                                                                                                                                                                                                                                                                                                                                                                                                                                                                                                                                                                                                                                                                                                                                                                                                                                                                                                                                                                                                                                                                                                                                                                                                                                                                                                                                                                                                                                                                                                                                                                                                                                                                                                                                                                                                                                                                                                                                                                                                                                                                                                                                                                                                                                                                                                                                                                                                                                                                                                                                                                                                                                                                                                                                                                                                                                                                                                                                                                                                                                                                                                                                                                                                                                                                                                                                                                                                                                                                                                                                                                                                                                                                                                                                                                                                                                                                                                                                                                                                                                                                                                                                                                                                                                                                                                                                                                                                                                                                                                                                                                                                                                                                                                                                                                                                                                                                                                                                                                                                                                                                                                                                                                                                                                                                                                                                                                                                                                                                                                                                                                                                                                                                                                                                                                                                                                                                                                                                                                                                                                                                                                                                                                                                                                                                                                                                                                                                                                                                                                                                                                                                                                                                                                                                                                                                                                                                                                                                                                                                                                                                                                                                                                                                                                                                                                                                                                                                                                                                                                                                                                                                                                                                                                                                                                                                                                                                                                                                                                                                                                                                                                                                                                                                                                                                                                                                                                                                                                                                                                                                                                                                                                                                                                                                                                                                                                                                                                                                                                                                                                                                                                                                                                                                                                                                                                                                                                                                                                                                                                                                                                                                                                                                                                                                                                                                                                                                                                                                                                            \n",
    "from IPython.core.display import HTML\n",
    "\n",
    "HTML(open(\"style/iwi131.css\", \"r\").read())"
   ]
  },
  {
   "cell_type": "markdown",
   "metadata": {
    "slideshow": {
     "slide_type": "slide"
    }
   },
   "source": [
    "<header class=\"w3-container w3-teal\">\n",
    "<img src=\"images/utfsm.png\" alt=\"\" align=\"left\"/>\n",
    "<img src=\"images/inf.png\" alt=\"\" align=\"right\"/>\n",
    "</header>\n",
    "<br/><br/><br/><br/><br/>\n",
    "# IWI131\n",
    "## Programación de Computadores\n",
    "\n",
    "### Sebastián Flores\n",
    "\n",
    "http://progra.usm.cl/ \n",
    "\n",
    "https://www.github.com/sebastiandres/iwi131\n"
   ]
  },
  {
   "cell_type": "markdown",
   "metadata": {
    "slideshow": {
     "slide_type": "slide"
    }
   },
   "source": [
    "## Clase anterior\n",
    "* ¿Instalaron python?\n",
    "* Algoritmo vs Programa Computacional"
   ]
  },
  {
   "cell_type": "markdown",
   "metadata": {
    "slideshow": {
     "slide_type": "slide"
    }
   },
   "source": [
    "## ¿Qué contenido aprenderemos?\n",
    "\n",
    "* Modelamiento de problemas\n",
    "* Diagrama de flujo"
   ]
  },
  {
   "cell_type": "markdown",
   "metadata": {
    "slideshow": {
     "slide_type": "slide"
    }
   },
   "source": [
    "## ¿Porqué aprenderemos ese contenido?\n",
    "\n",
    "* Modelamiento de problemas \n",
    "   * Paso esencial para entender y luego solucionar un problema.  \n",
    "* Diagrama de flujo \n",
    "   * Permite modelar las distintas etapas de una solución.\n",
    "   * Facilita la programación."
   ]
  },
  {
   "cell_type": "markdown",
   "metadata": {
    "collapsed": true,
    "slideshow": {
     "slide_type": "slide"
    }
   },
   "source": [
    "## Definición\n",
    " Un diagrama de flujo es una representación gráfica de un algoritmo. \n",
    "  * Los pasos son representados por varios tipos de bloques \n",
    "  * El flujo de ejecución es indicado por flechas que conectan los bloques."
   ]
  },
  {
   "cell_type": "markdown",
   "metadata": {
    "slideshow": {
     "slide_type": "slide"
    }
   },
   "source": [
    "## Simbología\n",
    "<img src=\"images/simbolos.png\" alt=\"\" width=\"600px\" align=\"middle\"/>"
   ]
  },
  {
   "cell_type": "markdown",
   "metadata": {
    "slideshow": {
     "slide_type": "slide"
    }
   },
   "source": [
    "## Estructuras de un diagrama de flujo\n",
    "\n",
    "*  Estructuras secuenciales\n",
    "*  Estructuras condicionales\n",
    "*   Estructuras repetitivas"
   ]
  },
  {
   "cell_type": "markdown",
   "metadata": {
    "slideshow": {
     "slide_type": "slide"
    }
   },
   "source": [
    "### Estructuras secuenciales\n",
    "\n",
    "<img src=\"images/secuencia.png\" alt=\"\" height=\"500px\" align=\"middle\"/>"
   ]
  },
  {
   "cell_type": "markdown",
   "metadata": {
    "slideshow": {
     "slide_type": "slide"
    }
   },
   "source": [
    "### Estructuras secuenciales\n",
    "Ejemplo: Calcular el perímetro y el área de un círculo.\n",
    "<img src=\"images/secuencia_ejemplo.png\" alt=\"\" height=\"500px\" align=\"middle\"/>"
   ]
  },
  {
   "cell_type": "markdown",
   "metadata": {
    "slideshow": {
     "slide_type": "slide"
    }
   },
   "source": [
    "### Estructuras secuenciales\n",
    "\n",
    "Ejemplos de la clase:\n",
    "* 1- Cortar un apel\n",
    "* 2- Comprar pan\n",
    "* 3- Llegar a clases"
   ]
  },
  {
   "cell_type": "markdown",
   "metadata": {
    "slideshow": {
     "slide_type": "slide"
    }
   },
   "source": [
    "### Estructuras condicionales\n",
    "\n",
    "<img src=\"images/seleccion.png\" alt=\"\"  height=\"500px\" align=\"middle\"/>"
   ]
  },
  {
   "cell_type": "markdown",
   "metadata": {
    "slideshow": {
     "slide_type": "slide"
    }
   },
   "source": [
    "### Estructuras condicionales\n",
    "Ejemplo: Determinar si un número es par o impar.\n",
    "<img src=\"images/seleccion_ejemplo.png\" alt=\"\"  height=\"700px\" align=\"middle\"/>"
   ]
  },
  {
   "cell_type": "markdown",
   "metadata": {
    "slideshow": {
     "slide_type": "slide"
    }
   },
   "source": [
    "### Estructuras condicionales\n",
    "\n",
    "Ejemplos de la clase:\n",
    "* 1- Mayor entre 2 numeros\n",
    "* 2- Decidir si vale la pena ir a clases\n",
    "* 3- Cualquier eleccion."
   ]
  },
  {
   "cell_type": "markdown",
   "metadata": {
    "slideshow": {
     "slide_type": "slide"
    }
   },
   "source": [
    "### Estructuras de repeticion\n",
    "\n",
    "<img src=\"images/repeticion.png\" alt=\"\" align=\"middle\"/>"
   ]
  },
  {
   "cell_type": "markdown",
   "metadata": {
    "slideshow": {
     "slide_type": "slide"
    }
   },
   "source": [
    "### Estructuras de repeticion\n",
    "Ejemplos: Calcular el promedio de 5 notas.\n",
    "<img src=\"images/repeticion_ejemplo.png\"  height=\"500px\" alt=\"\" align=\"middle\"/>"
   ]
  },
  {
   "cell_type": "markdown",
   "metadata": {
    "slideshow": {
     "slide_type": "slide"
    }
   },
   "source": [
    "### Estructuras de repetición\n",
    "\n",
    "Ejemplos de la clase:\n",
    "* 1- Determinar si un nro es primo\n",
    "* 2- Elegir ropa\n",
    "* 3- Jugar tenis"
   ]
  },
  {
   "cell_type": "markdown",
   "metadata": {
    "slideshow": {
     "slide_type": "slide"
    }
   },
   "source": [
    "## ¿Cómo aprenderemos? \n",
    " * Aplicación a problemas"
   ]
  },
  {
   "cell_type": "markdown",
   "metadata": {
    "slideshow": {
     "slide_type": "slide"
    }
   },
   "source": [
    "## Problema 1 : Números mágicos\n",
    "\n",
    "Usando la notación de diagrama de flujo diseñe un algoritmo para determinar si un número natural n es mágico o no."
   ]
  },
  {
   "cell_type": "markdown",
   "metadata": {
    "slideshow": {
     "slide_type": "slide"
    }
   },
   "source": [
    "### Definición de Número Mágico\n",
    "* Un número se dice mágico cuando la suma de sus divisores es igual al número. \n",
    "* En la suma no se debe considerar al mismo número como un divisor.\n",
    "\n",
    "### Ejemplo: \n",
    "* **<span class=\"good\"> 28 = 1+2+4+7+14  es un número mágico <span/>**\n",
    "* **<span class=\"bad\"> 32 != 1+2+4+8+16   no es un número mágico <span/>**"
   ]
  },
  {
   "cell_type": "markdown",
   "metadata": {
    "slideshow": {
     "slide_type": "slide"
    }
   },
   "source": [
    "## Problema 1: Números mágicos\n",
    "\n",
    "* Modelamiento\n",
    "* Diagrama de flujo"
   ]
  },
  {
   "cell_type": "markdown",
   "metadata": {
    "slideshow": {
     "slide_type": "slide"
    }
   },
   "source": [
    "## Problema 1: Números mágicos\n",
    "* ¿Cuál era el output requerido? ¿Cuál era el input posible?\n",
    "* ¿Qué pasos son necesarios? \n",
    "* ¿Qué estructuras necesitamos: secuencias, condiciones, repetición?\n",
    "\n",
    "### Modelamiento"
   ]
  },
  {
   "cell_type": "markdown",
   "metadata": {
    "slideshow": {
     "slide_type": "fragment"
    }
   },
   "source": [
    "1. Leer N\n",
    "2. Para cada numero m entre 1 y N-1, ambos incluídos:\n",
    "  * Si m es divisor de N, agregarlo a la suma de divisores\n",
    "  * Si m no es divisor de N, no hacer nada\n",
    "3. Ver si la suma de divisores es igual al N"
   ]
  },
  {
   "cell_type": "markdown",
   "metadata": {
    "slideshow": {
     "slide_type": "slide"
    }
   },
   "source": [
    "## Problema 1: Números mágicos\n",
    "### Diagrama de flujo"
   ]
  },
  {
   "cell_type": "markdown",
   "metadata": {
    "slideshow": {
     "slide_type": "fragment"
    }
   },
   "source": [
    "<img src=\"images/problema_1.png\" alt=\"\" height=\"600px\" align=\"middle\"/>"
   ]
  },
  {
   "cell_type": "markdown",
   "metadata": {
    "slideshow": {
     "slide_type": "slide"
    }
   },
   "source": [
    "## Problema 1: Números mágicos\n",
    "### Implementación"
   ]
  },
  {
   "cell_type": "code",
   "execution_count": 14,
   "metadata": {
    "collapsed": false
   },
   "outputs": [
    {
     "ename": "KeyboardInterrupt",
     "evalue": "",
     "output_type": "error",
     "traceback": [
      "\u001b[1;31m---------------------------------------------------------------------------\u001b[0m",
      "\u001b[1;31mKeyboardInterrupt\u001b[0m                         Traceback (most recent call last)",
      "\u001b[1;32m<ipython-input-14-6cd64beff7ac>\u001b[0m in \u001b[0;36m<module>\u001b[1;34m()\u001b[0m\n\u001b[0;32m      8\u001b[0m     \u001b[1;32melse\u001b[0m\u001b[1;33m:\u001b[0m\u001b[1;33m\u001b[0m\u001b[0m\n\u001b[0;32m      9\u001b[0m         \u001b[1;32mprint\u001b[0m \u001b[0mN\u001b[0m\u001b[1;33m,\u001b[0m \u001b[1;34m\"no es mágico\"\u001b[0m\u001b[1;33m\u001b[0m\u001b[0m\n\u001b[1;32m---> 10\u001b[1;33m \u001b[0mmi_numero\u001b[0m \u001b[1;33m=\u001b[0m \u001b[0mint\u001b[0m\u001b[1;33m(\u001b[0m\u001b[0mraw_input\u001b[0m\u001b[1;33m(\u001b[0m\u001b[1;34m\"Ingrese un número: \"\u001b[0m\u001b[1;33m)\u001b[0m\u001b[1;33m)\u001b[0m\u001b[1;33m\u001b[0m\u001b[0m\n\u001b[0m\u001b[0;32m     11\u001b[0m \u001b[0mes_magico\u001b[0m\u001b[1;33m(\u001b[0m\u001b[0mmi_numero\u001b[0m\u001b[1;33m)\u001b[0m\u001b[1;33m\u001b[0m\u001b[0m\n",
      "\u001b[1;32m/usr/local/lib/python2.7/dist-packages/IPython/kernel/zmq/kernelbase.pyc\u001b[0m in \u001b[0;36mraw_input\u001b[1;34m(self, prompt)\u001b[0m\n\u001b[0;32m    649\u001b[0m             \u001b[0mself\u001b[0m\u001b[1;33m.\u001b[0m\u001b[0m_parent_ident\u001b[0m\u001b[1;33m,\u001b[0m\u001b[1;33m\u001b[0m\u001b[0m\n\u001b[0;32m    650\u001b[0m             \u001b[0mself\u001b[0m\u001b[1;33m.\u001b[0m\u001b[0m_parent_header\u001b[0m\u001b[1;33m,\u001b[0m\u001b[1;33m\u001b[0m\u001b[0m\n\u001b[1;32m--> 651\u001b[1;33m             \u001b[0mpassword\u001b[0m\u001b[1;33m=\u001b[0m\u001b[0mFalse\u001b[0m\u001b[1;33m,\u001b[0m\u001b[1;33m\u001b[0m\u001b[0m\n\u001b[0m\u001b[0;32m    652\u001b[0m         )\n\u001b[0;32m    653\u001b[0m \u001b[1;33m\u001b[0m\u001b[0m\n",
      "\u001b[1;32m/usr/local/lib/python2.7/dist-packages/IPython/kernel/zmq/kernelbase.pyc\u001b[0m in \u001b[0;36m_input_request\u001b[1;34m(self, prompt, ident, parent, password)\u001b[0m\n\u001b[0;32m    679\u001b[0m             \u001b[1;32mexcept\u001b[0m \u001b[0mKeyboardInterrupt\u001b[0m\u001b[1;33m:\u001b[0m\u001b[1;33m\u001b[0m\u001b[0m\n\u001b[0;32m    680\u001b[0m                 \u001b[1;31m# re-raise KeyboardInterrupt, to truncate traceback\u001b[0m\u001b[1;33m\u001b[0m\u001b[1;33m\u001b[0m\u001b[0m\n\u001b[1;32m--> 681\u001b[1;33m                 \u001b[1;32mraise\u001b[0m \u001b[0mKeyboardInterrupt\u001b[0m\u001b[1;33m\u001b[0m\u001b[0m\n\u001b[0m\u001b[0;32m    682\u001b[0m             \u001b[1;32melse\u001b[0m\u001b[1;33m:\u001b[0m\u001b[1;33m\u001b[0m\u001b[0m\n\u001b[0;32m    683\u001b[0m                 \u001b[1;32mbreak\u001b[0m\u001b[1;33m\u001b[0m\u001b[0m\n",
      "\u001b[1;31mKeyboardInterrupt\u001b[0m: "
     ]
    }
   ],
   "source": [
    "def es_magico(N):\n",
    "    suma_divisores = 1\n",
    "    for  m in range(2,N):\n",
    "        if N%m==0:\n",
    "            suma_divisores = suma_divisores + m\n",
    "    if suma_divisores==N:\n",
    "        print N, \"es mágico\"\n",
    "    else:\n",
    "        print N, \"no es mágico\"\n",
    "mi_numero = int(raw_input(\"Ingrese un número: \"))\n",
    "es_magico(mi_numero)"
   ]
  },
  {
   "cell_type": "markdown",
   "metadata": {
    "slideshow": {
     "slide_type": "slide"
    }
   },
   "source": [
    "### Follow-up\n",
    "* ¿Qué pasos fueron necesarios?\n",
    "* ¿Qué fue lo difícil del ejercicio?\n",
    "* ¿Qué fue lo fácil del ejercicio?\n",
    "* ¿Qué aprendimos del ejercicio?"
   ]
  },
  {
   "cell_type": "markdown",
   "metadata": {
    "slideshow": {
     "slide_type": "slide"
    }
   },
   "source": [
    "## Problema 2: Secuencia de Collatz\n",
    "Realice un diagrama de flujo para el siguiente proceso:\n",
    "* Solicite el ingreso de un número hasta que se ingrese el valor cero.\n",
    "* Luego al número ingresado se le deben realizar las siguientes operaciones hasta convertirse en el valor 1. Si el número es par se debe dividir por 2, sino se debe multiplicar por 3 y sumarle 1. \n",
    "* Una vez ingresado el valor cero, se debe mostrar la cantidad de números ingresados y la cantidad de pasos realizados para convertirlos en 1."
   ]
  },
  {
   "cell_type": "markdown",
   "metadata": {
    "slideshow": {
     "slide_type": "slide"
    }
   },
   "source": [
    "### Ejemplo: \n",
    "* Si se ingresa 1, la secuencia es 1 FIN. Requiere 0 pasos.\n",
    "* Si se ingresa 2, la secuencia es 2/2=1 FIN. Requiere 1 paso.\n",
    "* Si se ingresa 3, la secuencia es (3x3+1)=10, (10/2)=5, (3x5+1)=16, 16/2=8, 8/2=4, 4/2=2, 2/2=1 FIN. Requiere 7 pasos."
   ]
  },
  {
   "cell_type": "markdown",
   "metadata": {
    "slideshow": {
     "slide_type": "slide"
    }
   },
   "source": [
    "## Problema 2: Secuencia de Collatz\n",
    "\n",
    "* Modelamiento\n",
    "* Diagrama de flujo"
   ]
  },
  {
   "cell_type": "markdown",
   "metadata": {
    "slideshow": {
     "slide_type": "slide"
    }
   },
   "source": [
    "## Problema 2: Secuencia de Collatz\n",
    "* ¿Qué pasos son necesarios? \n",
    "* ¿Que estructuras necesitamos: secuencias, condiciones, repetición?\n",
    "* ¿Cómo podemos dividir el problema en subproblemas más simples?\n",
    "### Modelamiento"
   ]
  },
  {
   "cell_type": "markdown",
   "metadata": {
    "slideshow": {
     "slide_type": "fragment"
    }
   },
   "source": [
    "**Bucle general**:\n",
    "1. Leer número.\n",
    "2. Si número es cero detener.\n",
    "3. Calcular secuencia de Collatz para el número, contando los pasos requeridos.\n",
    "4. Volver a 1.\n",
    "\n",
    "**Bucle de secuencia de Collatz para n**:\n",
    "1. Si n=1, detener.\n",
    "2. Si n es par, asignar n=(n/2).\n",
    "3. Si n es impar, asignar n=3n+1"
   ]
  },
  {
   "cell_type": "markdown",
   "metadata": {
    "slideshow": {
     "slide_type": "slide"
    }
   },
   "source": [
    "## Problema 2: Secuencia de Collatz\n",
    "### Diagrama de flujo"
   ]
  },
  {
   "cell_type": "markdown",
   "metadata": {
    "slideshow": {
     "slide_type": "fragment"
    }
   },
   "source": [
    "<img src=\"images/problema_2.png\" alt=\"\" height=\"600px\" align=\"middle\"/>"
   ]
  },
  {
   "cell_type": "markdown",
   "metadata": {
    "slideshow": {
     "slide_type": "slide"
    }
   },
   "source": [
    "## Problema 2: Secuencia de Collatz\n",
    "### Implementación"
   ]
  },
  {
   "cell_type": "code",
   "execution_count": null,
   "metadata": {
    "collapsed": false
   },
   "outputs": [],
   "source": [
    "def leer_numeros_e_imprimir_solucion():\n",
    "    N = int(raw_input(\"Ingrese un número: \"))\n",
    "    total_pasos = 0\n",
    "    total_numeros = 0\n",
    "    while N!=0:\n",
    "        total_pasos += collatz(N)\n",
    "        total_numeros += 1\n",
    "        N = int(raw_input(\"Ingrese un número: \"))\n",
    "    print total_numeros, \"números ingresados\"\n",
    "    print total_pasos, \"pasos en la secuencia\"\n",
    "    \n",
    "        \n",
    "def collatz(N):\n",
    "    n_pasos = 0\n",
    "    while N!=1:\n",
    "        if N%2==0:\n",
    "            N = N/2\n",
    "        else:\n",
    "            N = 3*N+1\n",
    "        n_pasos += 1\n",
    "    return n_pasos\n",
    "\n",
    "leer_numeros_e_imprimir_solucion()"
   ]
  },
  {
   "cell_type": "markdown",
   "metadata": {
    "slideshow": {
     "slide_type": "slide"
    }
   },
   "source": [
    "### Follow-up\n",
    "* ¿Qué pasos fueron necesarios?\n",
    "* ¿Qué fue lo difícil del ejercicio?\n",
    "* ¿Qué fue lo fácil del ejercicio?\n",
    "* ¿Qué aprendimos del ejercicio?"
   ]
  },
  {
   "cell_type": "markdown",
   "metadata": {
    "slideshow": {
     "slide_type": "slide"
    }
   },
   "source": [
    "# ¿Preguntas?"
   ]
  }
 ],
 "metadata": {
  "celltoolbar": "Slideshow",
  "kernelspec": {
   "display_name": "Python 2",
   "language": "python",
   "name": "python2"
  },
  "language_info": {
   "codemirror_mode": {
    "name": "ipython",
    "version": 2
   },
   "file_extension": ".py",
   "mimetype": "text/x-python",
   "name": "python",
   "nbconvert_exporter": "python",
   "pygments_lexer": "ipython2",
   "version": "2.7.6"
  }
 },
 "nbformat": 4,
 "nbformat_minor": 0
}
