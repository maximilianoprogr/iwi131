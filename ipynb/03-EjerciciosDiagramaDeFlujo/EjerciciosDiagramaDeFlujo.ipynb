{
 "cells": [
  {
   "cell_type": "code",
   "execution_count": 1,
   "metadata": {
    "collapsed": false,
    "slideshow": {
     "slide_type": "skip"
    }
   },
   "outputs": [
    {
     "data": {
      "text/html": [
       "<style>\n",
       "\n",
       "/*********************************************\n",
       " * COLORS FOR EXAMPLES\n",
       " *********************************************/\n",
       "span.good {color: #008000;}\n",
       "span.warning {color: #808000;}\n",
       "span.bad {color: #800000;}\n",
       "\n",
       "/*********************************************\n",
       " * GLOBAL STYLES\n",
       " *********************************************/\n",
       ".reveal h1 {color: #000000; text-shadow: 0px 0px 6px rgba(0, 0, 0, 0.2);}\n",
       ".reveal h2 {color: #222222; text-shadow: 0px 0px 5px rgba(0, 0, 0, 0.2);}\n",
       ".reveal h3 {color: #444444; text-shadow: 0px 0px 4px rgba(0, 0, 0, 0.2);}\n",
       ".reveal h4 {color: #666666; text-shadow: 0px 0px 3px rgba(0, 0, 0, 0.2);}\n",
       ".reveal h5 {color: #888888; text-shadow: 0px 0px 2px rgba(0, 0, 0, 0.2);}\n",
       ".reveal h6 {color: #AAAAAA; text-shadow: 0px 0px 1px rgba(0, 0, 0, 0.2);}\n",
       "\n",
       "/*********************************************\n",
       " * IMAGES\n",
       " *********************************************/\n",
       ".reveal section img { margin-left:auto; margin-right:auto;}\n",
       "\n",
       "</style>\n"
      ],
      "text/plain": [
       "<IPython.core.display.HTML object>"
      ]
     },
     "execution_count": 1,
     "metadata": {},
     "output_type": "execute_result"
    }
   ],
   "source": [
    "#Configuracion para recargar módulos y librerías cada vez \n",
    "%reload_ext autoreload\n",
    "%autoreload 2\n",
    "\n",
    "from IPython.core.display import HTML\n",
    "\n",
    "HTML(open(\"style/iwi131.css\", \"r\").read())"
   ]
  },
  {
   "cell_type": "markdown",
   "metadata": {
    "slideshow": {
     "slide_type": "slide"
    }
   },
   "source": [
    "<header class=\"w3-container w3-teal\">\n",
    "<img src=\"images/utfsm.png\" alt=\"\" align=\"left\"/>\n",
    "<img src=\"images/inf.png\" alt=\"\" align=\"right\"/>\n",
    "</header>\n",
    "<br/><br/><br/><br/><br/>\n",
    "# IWI131\n",
    "## Programación de Computadores\n",
    "\n",
    "### Sebastián Flores\n",
    "\n",
    "http://progra.usm.cl/ \n",
    "\n",
    "https://www.github.com/sebastiandres/iwi131\n"
   ]
  },
  {
   "cell_type": "markdown",
   "metadata": {
    "slideshow": {
     "slide_type": "slide"
    }
   },
   "source": [
    "## Clase anterior\n",
    "* Diagrama de Flujo: Definiciones y ejemplos."
   ]
  },
  {
   "cell_type": "markdown",
   "metadata": {
    "slideshow": {
     "slide_type": "slide"
    }
   },
   "source": [
    "## Clase anterior\n",
    "* Símbolo para procedimiento\n",
    "* Símbolo para condicional\n",
    "* Símbolo para input\n",
    "* Símbolo para definición de variable\n",
    "* Símbolo para fin\n",
    "* Símbolo para output\n",
    "* Símbolo para ejecución\n",
    "* Símbolo para inicio\n"
   ]
  },
  {
   "cell_type": "markdown",
   "metadata": {
    "slideshow": {
     "slide_type": "slide"
    }
   },
   "source": [
    "## ¿Qué aprenderemos?\n",
    "\n",
    "Ejercicios de Diagrama de flujo \n",
    "* Ejemplos de diagrama de flujo.\n",
    "* Errores en un diagrama de flujo.\n",
    "* Creando un diagrama de flujo.\n",
    "* Problemas de certámenes anteriores."
   ]
  },
  {
   "cell_type": "markdown",
   "metadata": {
    "slideshow": {
     "slide_type": "slide"
    }
   },
   "source": [
    "## ¿Porqué aprenderemos?\n",
    "\n",
    "Ejercicios de Diagrama de flujo \n",
    "* Ejemplos de diagrama de flujo.\n",
    "  * Aprenderemos a leer un diagrama de flujo ya existente.\n",
    "* Errores en un diagrama de flujo.\n",
    "  * Aprenderemos errores comunes, para no cometerlos.\n",
    "* Creando un diagrama de flujo\n",
    "  * Aprenderemos a hacer un diagrama de flujo desde cero.\n",
    "* Problemas de Certámenes anteriores.\n",
    "  * Practicar para obtener mejor nota."
   ]
  },
  {
   "cell_type": "markdown",
   "metadata": {
    "slideshow": {
     "slide_type": "slide"
    }
   },
   "source": [
    "## Ejemplos de diagrama de flujo\n",
    "# Conocemos el diagrama de flujo, debemos determinar que operación se realiza."
   ]
  },
  {
   "cell_type": "markdown",
   "metadata": {
    "slideshow": {
     "slide_type": "slide"
    }
   },
   "source": [
    "# Practicando para la actividad\n",
    "## 1- Formen parejas. \n",
    "## 2- No respondan en voz alta\n",
    "## 3- Anoten la respuesta en un papel."
   ]
  },
  {
   "cell_type": "markdown",
   "metadata": {
    "slideshow": {
     "slide_type": "slide"
    }
   },
   "source": [
    "#### 1- Ejemplos de diagrama de flujo\n",
    "## Ejemplo 1.1\n",
    "¿Que hace el siguiente diagrama de flujo?\n",
    "¿Cuál es el output generado por el algoritmo, si se ingresa N=1? ¿N=3? ¿N=4? \n",
    "<img src=\"images/pares.png\" height=\"300px\" alt=\"\" align=\"middle\"/>"
   ]
  },
  {
   "cell_type": "markdown",
   "metadata": {
    "slideshow": {
     "slide_type": "slide"
    }
   },
   "source": [
    "####  1-Ejemplos de diagrama de flujo\n",
    "## Ejemplo 1.1\n",
    "El algoritmo:\n",
    "* Solicita un entero positivo $N$ al usuario \n",
    "* Imprime los números pares entre $N$ y $N^2$\n",
    "\n",
    "Para N=1, no imprime nada.\n",
    "\n",
    "Para N=2, imprime los valores 2, 4.\n",
    "\n",
    "Para N=3, imprime los valores 4, 6, 8.\n",
    "\n",
    "Para N=4, imprime los valores 4, 6, 8, 10, 12, 14, 16\n"
   ]
  },
  {
   "cell_type": "markdown",
   "metadata": {
    "slideshow": {
     "slide_type": "slide"
    }
   },
   "source": [
    "#### 1-Ejemplos de diagrama de flujo\n",
    "## Ejemplo 1.2\n",
    "¿Que hace el siguiente diagrama de flujo?\n",
    "<img src=\"images/despeguen.png\" alt=\"\" height=\"600px\" align=\"middle\"/>"
   ]
  },
  {
   "cell_type": "markdown",
   "metadata": {
    "slideshow": {
     "slide_type": "slide"
    }
   },
   "source": [
    "#### 1-Ejemplos de diagrama de flujo\n",
    "## Ejemplo 1.2\n",
    "\n",
    "El algoritmo:\n",
    "* Solicita un número positivo al usuario.\n",
    "* Realiza un conteo en reversa, imprimiendo cada número. \n",
    "* Cuando llega a cero, imprime \"despeguen\".\n",
    "\n",
    "Ejemplo: al ingresar 10, imprime los siguientes valores:\n",
    "10, 9, 8, 7, 6, 5, 4, 3, 2, 1, \"despeguen\"."
   ]
  },
  {
   "cell_type": "markdown",
   "metadata": {
    "slideshow": {
     "slide_type": "slide"
    }
   },
   "source": [
    "#### Ejemplos de diagrama de flujo\n",
    "## Ejemplo 3\n",
    "¿Que hace el siguiente diagrama de flujo?\n",
    "<img src=\"images/fizzbuzz.png\" alt=\"\" align=\"middle\"/>\n"
   ]
  },
  {
   "cell_type": "markdown",
   "metadata": {
    "slideshow": {
     "slide_type": "slide"
    }
   },
   "source": [
    "#### Ejemplos de diagrama de flujo\n",
    "## Ejemplo 3\n",
    "\n",
    "El algoritmo \"fizzbuzz\":\n",
    "* Imprime en pantalla \"fizz\" si el número es múltiplo de 3\n",
    "* Imprime en pantalla \"buzz\" si el número es múltiplo de 7\n",
    "* Imprime en pantalla \"fizzbuzz\" si el número es múltiplo de 21\n",
    "* Imprime en pantalla el número en cualquier otro caso.\n",
    "\n",
    "Debería generarse el siguiente output:\n",
    "\n",
    "##### 1, 2, fizz, 4, 5, fizz, buzz, 8, fizz, 10, 11, fizz, 13, buzz, fizz, 16, 17, fizz, 19, 20, fizzbuzz, 22, 23, fizz "
   ]
  },
  {
   "cell_type": "markdown",
   "metadata": {
    "slideshow": {
     "slide_type": "slide"
    }
   },
   "source": [
    "## Errores en diagrama de flujo\n",
    "# ¿Qué error hay en el siguiente diagrama de flujo?"
   ]
  },
  {
   "cell_type": "markdown",
   "metadata": {
    "slideshow": {
     "slide_type": "slide"
    }
   },
   "source": [
    "#### 2-Errores en diagrama de flujo\n",
    "## Ejemplo 2.1\n",
    "¿Qué error hay en el siguiente diagrama de flujo?\n",
    "\n",
    "##### Enunciado \n",
    "El algoritmo:\n",
    "* Solicita un entero positivo $N$ al usuario \n",
    "* Imprime los números pares entre $N$ y $N^2$\n",
    "\n",
    "##### Diagrama de Flujo\n",
    "<img src=\"images/pares_mal.png\" alt=\"\" align=\"middle\"/>"
   ]
  },
  {
   "cell_type": "markdown",
   "metadata": {
    "slideshow": {
     "slide_type": "subslide"
    }
   },
   "source": [
    "#### 2-Errores en diagrama de flujo\n",
    "## Ejemplo 2.1 - Errores:\n",
    "* Algoritmo no imprime \"n\" sino \"N\".\n",
    "\n",
    "Ejemplo, al ingresar 3, imprime la lista: 3, 3, 3"
   ]
  },
  {
   "cell_type": "markdown",
   "metadata": {
    "slideshow": {
     "slide_type": "slide"
    }
   },
   "source": [
    "#### 2-Errores en diagrama de flujo\n",
    "## Ejemplo 2.2\n",
    "¿Qué error hay en el siguiente diagrama de flujo?\n",
    "\n",
    "##### Enunciado \n",
    "El algoritmo:\n",
    "* Solicita 2 números enteros positivos al usuario \n",
    "* Imprime los números entre ambos números, ambos números incluídos.\n",
    "\n",
    "##### Diagrama de Flujo\n",
    "<img src=\"images/rango_mal.png\" alt=\"\" align=\"middle\"/>"
   ]
  },
  {
   "cell_type": "markdown",
   "metadata": {
    "slideshow": {
     "slide_type": "subslide"
    }
   },
   "source": [
    "#### 2-Errores en diagrama de flujo\n",
    "## Ejemplo 2.2 - Errores:\n",
    "* Algoritmo no realiza lo solicitado si valores no se entregan en orden correcto (N<M).\n",
    "* Algoritmo no imprime el último número.\n",
    "* texto \"no\" extra y sin sentido."
   ]
  },
  {
   "cell_type": "markdown",
   "metadata": {
    "slideshow": {
     "slide_type": "slide"
    }
   },
   "source": [
    "## 3.Creando un diagrama de flujo\n",
    "# Se conoce el enunciado y hay que diseñar el diagrama de flujo"
   ]
  },
  {
   "cell_type": "markdown",
   "metadata": {
    "collapsed": true,
    "slideshow": {
     "slide_type": "slide"
    }
   },
   "source": [
    "#### 3- Creando diagramas de flujo\n",
    "## Ejemplo 3.1\n",
    "\n",
    "Realice el diagrama de flujo de un proceso en el cual se solicite al usuario 3 números, y luego se regrese el número más grande.\n"
   ]
  },
  {
   "cell_type": "markdown",
   "metadata": {
    "collapsed": true,
    "slideshow": {
     "slide_type": "slide"
    }
   },
   "source": [
    "#### 3- Creando diagramas de flujo\n",
    "## Ejemplo 3.1\n",
    "\n",
    "<img src=\"images/utfsm.png\" alt=\"\" align=\"middle\"/>"
   ]
  },
  {
   "cell_type": "markdown",
   "metadata": {
    "collapsed": true,
    "slideshow": {
     "slide_type": "slide"
    }
   },
   "source": [
    "#### 3- Creando diagramas de flujo\n",
    "## Ejemplo 3.2\n",
    "\n",
    "Realice el diagrama de flujo de un proceso en el cual se solicite al usuario la cantidad de números a ingresar, y luego calcule el menor de todos los números."
   ]
  },
  {
   "cell_type": "markdown",
   "metadata": {
    "collapsed": true,
    "slideshow": {
     "slide_type": "slide"
    }
   },
   "source": [
    "#### 3- Creando diagramas de flujo\n",
    "## Ejemplo 3.2\n",
    "\n",
    "<img src=\"images/utfsm.png\" alt=\"\" align=\"middle\"/>"
   ]
  },
  {
   "cell_type": "markdown",
   "metadata": {
    "collapsed": true,
    "slideshow": {
     "slide_type": "slide"
    }
   },
   "source": [
    "#### 3- Creando diagramas de flujo\n",
    "## Ejemplo 3.3\n",
    "\n",
    "Ejemplos temático - aerogenerador."
   ]
  },
  {
   "cell_type": "markdown",
   "metadata": {
    "collapsed": true,
    "slideshow": {
     "slide_type": "slide"
    }
   },
   "source": [
    "#### 3- Creando diagramas de flujo\n",
    "## Ejemplo 3.3\n",
    "\n",
    "Ejemplos temático - aerogenerador."
   ]
  },
  {
   "cell_type": "markdown",
   "metadata": {
    "collapsed": true,
    "slideshow": {
     "slide_type": "slide"
    }
   },
   "source": [
    "#### 3- Creando diagramas de flujo\n",
    "## Ejemplo 3.3\n",
    "\n",
    "Ejemplos temático - aerogenerador."
   ]
  },
  {
   "cell_type": "markdown",
   "metadata": {
    "collapsed": true,
    "slideshow": {
     "slide_type": "slide"
    }
   },
   "source": [
    "#### 3- Creando diagramas de flujo\n",
    "## Ejemplo 3.4\n",
    "\n",
    "Ejemplo central de bombeo."
   ]
  },
  {
   "cell_type": "markdown",
   "metadata": {
    "collapsed": true,
    "slideshow": {
     "slide_type": "slide"
    }
   },
   "source": [
    "#### 3- Creando diagramas de flujo\n",
    "## Ejemplo 3.4\n",
    "\n",
    "Ejemplo central de bombeo."
   ]
  },
  {
   "cell_type": "markdown",
   "metadata": {
    "collapsed": true,
    "slideshow": {
     "slide_type": "slide"
    }
   },
   "source": [
    "#### 3- Creando diagramas de flujo\n",
    "## Ejemplo 3.4\n",
    "\n",
    "Ejemplo central de bombeo."
   ]
  },
  {
   "cell_type": "markdown",
   "metadata": {
    "slideshow": {
     "slide_type": "slide"
    }
   },
   "source": [
    "## 4. Ejemplos de Certámenes Pasados"
   ]
  },
  {
   "cell_type": "markdown",
   "metadata": {
    "slideshow": {
     "slide_type": "slide"
    }
   },
   "source": [
    "## 4. Ejemplos de Certámenes Pasados"
   ]
  },
  {
   "cell_type": "markdown",
   "metadata": {
    "slideshow": {
     "slide_type": "slide"
    }
   },
   "source": [
    "## 4. Ejemplos de Certámenes Pasados"
   ]
  },
  {
   "cell_type": "markdown",
   "metadata": {
    "slideshow": {
     "slide_type": "slide"
    }
   },
   "source": [
    "## 5. Bonus\n",
    "\n",
    "### Diagrama de Flujo de \"cultura pop\": \n",
    "\n",
    "#### Algoritmo de la amistad, Dr. Sheldon Cooper, The Big Bang Theory (S02E13).\n",
    "\n",
    "<img src=\"images/friendship.jpg\" alt=\"\" align=\"middle\"/>"
   ]
  }
 ],
 "metadata": {
  "celltoolbar": "Slideshow",
  "kernelspec": {
   "display_name": "Python 2",
   "language": "python",
   "name": "python2"
  },
  "language_info": {
   "codemirror_mode": {
    "name": "ipython",
    "version": 2
   },
   "file_extension": ".py",
   "mimetype": "text/x-python",
   "name": "python",
   "nbconvert_exporter": "python",
   "pygments_lexer": "ipython2",
   "version": "2.7.6"
  }
 },
 "nbformat": 4,
 "nbformat_minor": 0
}
