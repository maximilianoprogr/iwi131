{
 "cells": [
  {
   "cell_type": "code",
   "execution_count": 1,
   "metadata": {
    "collapsed": false,
    "slideshow": {
     "slide_type": "skip"
    }
   },
   "outputs": [
    {
     "data": {
      "text/html": [
       "<style>\n",
       "\n",
       "/*********************************************\n",
       " * COLORS FOR EXAMPLES\n",
       " *********************************************/\n",
       "span.good {color: #008000;}\n",
       "span.warning {color: #808000;}\n",
       "span.bad {color: #800000;}\n",
       "\n",
       "/*********************************************\n",
       " * GLOBAL STYLES\n",
       " *********************************************/\n",
       ".reveal h1 {color: #000000; text-shadow: 0px 0px 6px rgba(0, 0, 0, 0.2);}\n",
       ".reveal h2 {color: #222222; text-shadow: 0px 0px 5px rgba(0, 0, 0, 0.2);}\n",
       ".reveal h3 {color: #444444; text-shadow: 0px 0px 4px rgba(0, 0, 0, 0.2);}\n",
       ".reveal h4 {color: #666666; text-shadow: 0px 0px 3px rgba(0, 0, 0, 0.2);}\n",
       ".reveal h5 {color: #888888; text-shadow: 0px 0px 2px rgba(0, 0, 0, 0.2);}\n",
       ".reveal h6 {color: #AAAAAA; text-shadow: 0px 0px 1px rgba(0, 0, 0, 0.2);}\n",
       "\n",
       "/*********************************************\n",
       " * IMAGES\n",
       " *********************************************/\n",
       ".reveal section img { margin-left:auto; margin-right:auto;}\n",
       "\n",
       "</style>\n"
      ],
      "text/plain": [
       "<IPython.core.display.HTML object>"
      ]
     },
     "execution_count": 1,
     "metadata": {},
     "output_type": "execute_result"
    }
   ],
   "source": [
    "#Configuracion para recargar módulos y librerías cada vez \n",
    "%reload_ext autoreload\n",
    "%autoreload 2\n",
    "\n",
    "from IPython.core.display import HTML\n",
    "\n",
    "HTML(open(\"style/iwi131.css\", \"r\").read())"
   ]
  },
  {
   "cell_type": "markdown",
   "metadata": {
    "slideshow": {
     "slide_type": "slide"
    }
   },
   "source": [
    "<header class=\"w3-container w3-teal\">\n",
    "<img src=\"images/utfsm.png\" alt=\"\" align=\"left\"/>\n",
    "<img src=\"images/inf.png\" alt=\"\" align=\"right\"/>\n",
    "</header>\n",
    "<br/><br/><br/><br/><br/>\n",
    "# IWI131\n",
    "## Programación de Computadores\n",
    "\n",
    "### Sebastián Flores\n",
    "\n",
    "http://progra.usm.cl/ \n",
    "\n",
    "https://www.github.com/sebastiandres/iwi131\n"
   ]
  },
  {
   "cell_type": "markdown",
   "metadata": {
    "slideshow": {
     "slide_type": "slide"
    }
   },
   "source": [
    "## Clase anterior\n",
    "* Diagrama de Flujo: Definiciones y ejemplos."
   ]
  },
  {
   "cell_type": "markdown",
   "metadata": {
    "slideshow": {
     "slide_type": "slide"
    }
   },
   "source": [
    "## Clase anterior\n",
    "* Símbolo para procedimiento\n",
    "* Símbolo para condicional\n",
    "* Símbolo para input\n",
    "* Símbolo para definición de variable\n",
    "* Símbolo para fin\n",
    "* Símbolo para output\n",
    "* Símbolo para ejecución\n",
    "* Símbolo para inicio\n"
   ]
  },
  {
   "cell_type": "markdown",
   "metadata": {
    "slideshow": {
     "slide_type": "slide"
    }
   },
   "source": [
    "## ¿Qué aprenderemos?\n",
    "\n",
    "Ejercicios de Diagrama de flujo \n",
    "* Ejemplos de diagrama de flujo.\n",
    "* Errores en un diagrama de flujo.\n",
    "* Creando un diagrama de flujo."
   ]
  },
  {
   "cell_type": "markdown",
   "metadata": {
    "slideshow": {
     "slide_type": "slide"
    }
   },
   "source": [
    "## ¿Porqué aprenderemos?\n",
    "\n",
    "Ejercicios de Diagrama de flujo \n",
    "* Ejemplos de diagrama de flujo.\n",
    "  * Aprenderemos a leer un diagrama de flujo ya existente.\n",
    "* Errores en un diagrama de flujo.\n",
    "  * Aprenderemos errores comunes, para no cometerlos.\n",
    "* Creando un diagrama de flujo\n",
    "  * Aprenderemos a hacer un diagrama de flujo desde cero."
   ]
  },
  {
   "cell_type": "markdown",
   "metadata": {
    "slideshow": {
     "slide_type": "slide"
    }
   },
   "source": [
    "## Ejemplos de diagrama de flujo\n",
    "# Conocemos el diagrama de flujo, debemos determinar que operación se realiza."
   ]
  },
  {
   "cell_type": "markdown",
   "metadata": {
    "slideshow": {
     "slide_type": "slide"
    }
   },
   "source": [
    "# Practicando para la actividad\n",
    "## 1- Formen parejas. \n",
    "## 2- No respondan en voz alta\n",
    "## 3- Anoten la respuesta en un papel."
   ]
  },
  {
   "cell_type": "markdown",
   "metadata": {
    "slideshow": {
     "slide_type": "slide"
    }
   },
   "source": [
    "#### 1- Ejemplos de diagrama de flujo\n",
    "## Ejemplo 1.1\n",
    "* ¿Cuál es el output generado por el algoritmo, si se ingresa N=1? \n",
    "  * ¿Y para N=2? \n",
    "  * ¿Y para N=3? \n",
    "  * ¿Y para N=4? \n",
    "* ¿Que hace el siguiente diagrama de flujo?\n",
    "<img src=\"images/pares.png\" width=\"700\" alt=\"\" align=\"middle\"/>"
   ]
  },
  {
   "cell_type": "markdown",
   "metadata": {
    "slideshow": {
     "slide_type": "slide"
    }
   },
   "source": [
    "####  1-Ejemplos de diagrama de flujo\n",
    "## Ejemplo 1.1\n",
    "El algoritmo:\n",
    "* Solicita un entero positivo $N$ al usuario \n",
    "* Imprime los números pares entre $N$ y $N^2$ (ambos incluidos).\n",
    "\n",
    "Para N=1, no imprime nada.\n",
    "\n",
    "Para N=2, imprime los valores 2, 4.\n",
    "\n",
    "Para N=3, imprime los valores 4, 6, 8.\n",
    "\n",
    "Para N=4, imprime los valores 4, 6, 8, 10, 12, 14, 16\n"
   ]
  },
  {
   "cell_type": "markdown",
   "metadata": {
    "slideshow": {
     "slide_type": "slide"
    }
   },
   "source": [
    "#### 1-Ejemplos de diagrama de flujo\n",
    "## Ejemplo 1.2\n",
    "¿Que hace el siguiente diagrama de flujo?\n",
    "<img src=\"images/despeguen.png\" alt=\"\" width=\"600\" align=\"middle\"/>"
   ]
  },
  {
   "cell_type": "markdown",
   "metadata": {
    "slideshow": {
     "slide_type": "slide"
    }
   },
   "source": [
    "#### 1-Ejemplos de diagrama de flujo\n",
    "## Ejemplo 1.2\n",
    "\n",
    "El algoritmo:\n",
    "* Solicita un número entero positivo al usuario.\n",
    "* Realiza un conteo en reversa, imprimiendo cada número. \n",
    "* Cuando llega a cero, imprime \"despeguen\".\n",
    "\n",
    "Ejemplo: \n",
    " * Al ingresar 10, imprime los siguientes valores: 10, 9, 8, 7, 6, 5, 4, 3, 2, 1, \"despeguen\".\n",
    " * Al ingresar 0, imprime \"despeguen\"."
   ]
  },
  {
   "cell_type": "markdown",
   "metadata": {
    "slideshow": {
     "slide_type": "slide"
    }
   },
   "source": [
    "#### Ejemplos de diagrama de flujo\n",
    "## Ejemplo 3\n",
    "* ¿Qué sucede si se ingresa el valor 10? ¿Y el valor 25?\n",
    "* ¿Que hace el siguiente diagrama de flujo?\n",
    "<img src=\"images/fizzbuzz.png\" alt=\"\" width=\"1200\" align=\"middle\"/>\n"
   ]
  },
  {
   "cell_type": "markdown",
   "metadata": {
    "slideshow": {
     "slide_type": "slide"
    }
   },
   "source": [
    "#### Ejemplos de diagrama de flujo\n",
    "## Ejemplo 3\n",
    "\n",
    "El algoritmo \"fizzbuzz\":\n",
    "* Imprime en pantalla \"fizz\" si el número es múltiplo de 3\n",
    "* Imprime en pantalla \"buzz\" si el número es múltiplo de 7\n",
    "* Imprime en pantalla \"fizzbuzz\" si el número es múltiplo de 21\n",
    "* Imprime en pantalla el número en cualquier otro caso.\n",
    "\n",
    "Si se ingresa $N=25$ debería generarse el siguiente output:\n",
    "\n",
    "##### 1, 2, fizz, 4, 5, fizz, buzz, 8, fizz, 10, 11, fizz, 13, buzz, fizz, 16, 17, fizz, 19, 20, fizzbuzz, 22, 23, fizz, 25"
   ]
  },
  {
   "cell_type": "markdown",
   "metadata": {
    "slideshow": {
     "slide_type": "slide"
    }
   },
   "source": [
    "## Errores en diagrama de flujo\n",
    "# ¿Qué error hay en el siguiente diagrama de flujo?"
   ]
  },
  {
   "cell_type": "markdown",
   "metadata": {
    "slideshow": {
     "slide_type": "slide"
    }
   },
   "source": [
    "#### 2-Errores en diagrama de flujo\n",
    "## Ejemplo 2.1\n",
    "¿Qué error hay en el siguiente diagrama de flujo?\n",
    "\n",
    "##### Enunciado \n",
    "El algoritmo:\n",
    "* Solicita un entero positivo $N$ al usuario \n",
    "* Imprime los números pares entre $N$ y $N^2$\n",
    "\n",
    "##### Diagrama de Flujo\n",
    "<img src=\"images/pares_mal.png\" alt=\"\" width=\"600\" align=\"middle\"/>"
   ]
  },
  {
   "cell_type": "markdown",
   "metadata": {
    "slideshow": {
     "slide_type": "slide"
    }
   },
   "source": [
    "#### 2-Errores en diagrama de flujo\n",
    "## Ejemplo 2.1 - Errores:\n",
    "* Algoritmo no imprime \"n\" sino \"N\".\n",
    "\n",
    "Ejemplo, al ingresar 3, imprime la lista: 3, 3, 3"
   ]
  },
  {
   "cell_type": "markdown",
   "metadata": {
    "slideshow": {
     "slide_type": "slide"
    }
   },
   "source": [
    "#### 2-Errores en diagrama de flujo\n",
    "## Ejemplo 2.2\n",
    "¿Qué error hay en el siguiente diagrama de flujo?\n",
    "\n",
    "##### Enunciado \n",
    "El algoritmo:\n",
    "* Solicita 2 números enteros positivos al usuario \n",
    "* Imprime todos los números enteros que se encuentran entre ambos números, ambos números incluídos.\n",
    "\n",
    "##### Diagrama de Flujo\n",
    "<img src=\"images/rango_mal.png\" alt=\"\" width=\"600\" align=\"middle\"/>"
   ]
  },
  {
   "cell_type": "markdown",
   "metadata": {
    "slideshow": {
     "slide_type": "slide"
    }
   },
   "source": [
    "#### 2-Errores en diagrama de flujo\n",
    "## Ejemplo 2.2 - Errores:\n",
    "* Algoritmo no realiza lo solicitado si valores no se entregan en orden correcto (N<M).\n",
    "* Algoritmo no imprime el último número.\n",
    "* texto \"no\" extra y sin sentido."
   ]
  },
  {
   "cell_type": "markdown",
   "metadata": {
    "slideshow": {
     "slide_type": "slide"
    }
   },
   "source": [
    "## 3.Creando un diagrama de flujo\n",
    "# Se conoce el enunciado y hay que diseñar el diagrama de flujo"
   ]
  },
  {
   "cell_type": "markdown",
   "metadata": {
    "collapsed": true,
    "slideshow": {
     "slide_type": "slide"
    }
   },
   "source": [
    "#### 3- Creando diagramas de flujo\n",
    "## Ejemplo 3.1\n",
    "\n",
    "Realice el diagrama de flujo de un proceso en el cual se solicite al usuario la cantidad de números a ingresar, luego permita ingresar esos números y luego calcule el menor de todos los números. Se debe ingresar al menos un número.\n",
    "\n",
    "Ejemplos de inputs y su correspondiente output:\n",
    "* Input: 3  10  100  5\n",
    "  * Output correcto: 5\n",
    "* Input: 5  1  2  3  4  5\n",
    "  * Output correcto: 1\n",
    "* Input: 10 1 0 1 0 1 0 1 0 1 0\n",
    "  * Output correcto: 0"
   ]
  },
  {
   "cell_type": "markdown",
   "metadata": {
    "collapsed": true,
    "slideshow": {
     "slide_type": "slide"
    }
   },
   "source": [
    "#### 3- Creando diagramas de flujo\n",
    "## Ejemplo 3.1\n",
    "\n",
    "¿Entendimos el problema?\n",
    "\n",
    "#### Inputs y outputs"
   ]
  },
  {
   "cell_type": "markdown",
   "metadata": {
    "collapsed": true,
    "slideshow": {
     "slide_type": "fragment"
    }
   },
   "source": [
    "* **Inputs**: $N$, $a_1$, $a_2$, ..., $a_N$, con $N\\geq1$.\n",
    "* **Output**: el mínimo de los números $a_1$, $a_2$, ..., $a_N$\n",
    "\n",
    "#### ¿Cómo lo resolvemos?"
   ]
  },
  {
   "cell_type": "markdown",
   "metadata": {
    "collapsed": true,
    "slideshow": {
     "slide_type": "fragment"
    }
   },
   "source": [
    "* Leer $N$\n",
    "* Leer el primer número $a_1$. Fijamos el mínimo $a_{min}$ con el valor de $a_1$.\n",
    "* Leer todos los números sucesivos, y actualizar el mínimo si se lee un valor más pequeño.\n",
    "\n",
    "Observación: es crucial la inicialización de $a_{min}$, sino el algoritmo no funcionaría."
   ]
  },
  {
   "cell_type": "markdown",
   "metadata": {
    "collapsed": true,
    "slideshow": {
     "slide_type": "slide"
    }
   },
   "source": [
    "#### 3- Creando diagramas de flujo\n",
    "## Ejemplo 3.1\n",
    "\n",
    "Realice el diagrama de flujo de un proceso en el cual se solicite al usuario la cantidad de números a ingresar, luego permita ingresar esos números y luego calcule el menor de todos los números. Se debe ingresar al menos un número.\n",
    "\n",
    "<img src=\"images/minimo.png\" width=\"600\" alt=\"\" align=\"middle\"/>\n"
   ]
  },
  {
   "cell_type": "markdown",
   "metadata": {
    "collapsed": true,
    "slideshow": {
     "slide_type": "slide"
    }
   },
   "source": [
    "#### 3- Creando diagramas de flujo\n",
    "## Ejemplo 3.2\n",
    "\n",
    "Realice el diagrama de flujo de un algoritmo que realice lo siguiente: \n",
    "* Lea $N$ la cantidad de números a ingresar \n",
    "* Lea cada uno de los N valores reales \n",
    "* Calcule el promedio aritmético de todos los valores y el promedio geométrico de sólo los valores no negativos.\n",
    "* Imprima el promedio aritmético y el promedio geométrico previamente calculados.\n",
    "\n",
    "**Asuma que al menos uno de los números reales entregados es un número positivo.**\n",
    "\n",
    "Ejemplo de inputs y su correspondiente output:\n",
    "\n",
    "* Input: 1 1\n",
    "  * Ouput: 1 1\n",
    "* Input: 2 1 -1\n",
    "  * Output: 0 1\n",
    "* Input: 5 -1 1 2 4 8\n",
    "  * Output: 7 8"
   ]
  },
  {
   "cell_type": "markdown",
   "metadata": {
    "collapsed": true,
    "slideshow": {
     "slide_type": "slide"
    }
   },
   "source": [
    "#### 3- Creando diagramas de flujo\n",
    "## Ejemplo 3.2\n",
    "\n",
    "¿Entendimos el problema?\n",
    "\n",
    "#### Inputs y outputs:"
   ]
  },
  {
   "cell_type": "markdown",
   "metadata": {
    "collapsed": true,
    "slideshow": {
     "slide_type": "fragment"
    }
   },
   "source": [
    "* **Inputs**: $N$, $a_1$, $a_2$, ..., $a_N$, con $N\\geq1$ y $a_j$ número real.\n",
    "* **Output**: Promedio aritmético de todos los números y promedio geométrico de sólo los números no negativos.\n",
    "\n",
    "#### ¿Cómo lo resolvemos?"
   ]
  },
  {
   "cell_type": "markdown",
   "metadata": {
    "collapsed": true,
    "slideshow": {
     "slide_type": "fragment"
    }
   },
   "source": [
    "* Leer $N$\n",
    "* Inicializar el promedio aritmetico $a_{arit}=0$ \n",
    "* Inicializar el promedio geometrico $a_{geo}=1$. \n",
    "* Leer cada número $a_j$, para $j$ entre $1$ y $N$. \n",
    "  * Siempre sumar $a_j$ a $a_{arit}$\n",
    "  * Multiplicar $a_{geo}$ únicamente cuando $a_j \\geq 0$\n",
    "* Dividir $a_{arit}$ por $N$.\n",
    "* Sacar la raiz $N$-ésima a $a_{geo}$.\n",
    "* Imprimir los valores en pantalla.\n",
    "\n",
    "Observación: la inicialización de $a_{arit}$ y $a_{geo}$, sino el algoritmo no funcionaría."
   ]
  },
  {
   "cell_type": "markdown",
   "metadata": {
    "collapsed": true,
    "slideshow": {
     "slide_type": "slide"
    }
   },
   "source": [
    "#### 3- Creando diagramas de flujo\n",
    "## Ejemplo 3.2\n",
    "\n",
    "Realice el diagrama de flujo de un algoritmo que realice lo siguiente: \n",
    "* Lea $N$ la cantidad de números a ingresar \n",
    "* Lea cada uno de los N valores reales \n",
    "* Calcule el promedio aritmético de todos los valores y el promedio geométrico de sólo los valores no negativos.\n",
    "* Imprima el promedio aritmético y el promedio geométrico previamente calculados.\n",
    "\n",
    "**Asuma que al menos uno de los números reales entregados es un número positivo.**\n",
    "\n",
    "\n",
    "<img src=\"images/promedios.png\" width=\"600\" alt=\"\" align=\"middle\"/>"
   ]
  },
  {
   "cell_type": "markdown",
   "metadata": {
    "collapsed": true,
    "slideshow": {
     "slide_type": "slide"
    }
   },
   "source": [
    "#### 3- Creando diagramas de flujo\n",
    "## Ejemplo 3.3\n",
    "\n",
    "##### Parque Eólico Canela\n",
    "<img src=\"images/generador_eolico.jpg\" width=\"900\" alt=\"\" align=\"middle\"/>\n"
   ]
  },
  {
   "cell_type": "markdown",
   "metadata": {
    "collapsed": true,
    "slideshow": {
     "slide_type": "slide"
    }
   },
   "source": [
    "#### 3- Creando diagramas de flujo\n",
    "## Ejemplo 3.3\n",
    "\n",
    "Un generador eólico convierte la energía cinética del viento en energía eléctrica, lo cual se puede modelar en la siguiente fórmula: \n",
    "$$ W = k \\ \\rho \\ r^2 \\ v^3 $$\n",
    "donde $W$ es la potencia (energía por unidad de tiempo), $k$ es una constante adimensional para cada generador (que tomaremos como 0.8), $\\rho$ es la densidad del aire (que tomaremos como $1.2$ $kg/m^3$), $r$ es el radio de las aspas y $v$ es la velocidad del viento. \n",
    "\n",
    "Sin embargo, el generador se pone en funcionamiento únicamente para velocidades mayores a 3 metros por segundo. Por razones de seguridad, el generador se detiene para velocidades mayores a 25 $m/s^2$. \n",
    "\n",
    "Realice el diagrama de flujo que solicite el radio en metros y velocidad del viento en kilómetros por hora, y entregue la potencia generada en $Watts$ (esto es $kg \\cdot m /s$)."
   ]
  },
  {
   "cell_type": "markdown",
   "metadata": {
    "collapsed": true,
    "slideshow": {
     "slide_type": "slide"
    }
   },
   "source": [
    "#### 3- Creando diagramas de flujo\n",
    "## Ejemplo 3.3\n",
    "\n",
    "<img src=\"images/aerogenerador.png\" width=\"500\" alt=\"\" align=\"middle\"/>\n"
   ]
  },
  {
   "cell_type": "markdown",
   "metadata": {
    "collapsed": true,
    "slideshow": {
     "slide_type": "slide"
    }
   },
   "source": [
    "#### 3- Creando diagramas de flujo\n",
    "## Ejemplo 3.4\n",
    "<img src=\"images/central-de-bombeo.jpg\" width=\"900\" alt=\"\" align=\"middle\"/>"
   ]
  },
  {
   "cell_type": "markdown",
   "metadata": {
    "collapsed": true,
    "slideshow": {
     "slide_type": "slide"
    }
   },
   "source": [
    "#### 3- Creando diagramas de flujo\n",
    "## Ejemplo 3.4\n",
    "\n",
    "Una central hidroeléctica de bombeo tiene 2 modos: puede vaciar el estanque para generar electricidad, o bien, puede bombear el agua y llenar el estanque. La decisión de generar electricidad o llenar el estanque depende del precio de la electricidad y de la capacidad del estanque. Para un estanque determinado, se genera electricidad cuando el precio de electricidad es mayor a 60 USD/MWh y si el embalse se encuentra a más del 10% de su capacidad. Se consumirá electricidad y se bombeará agua al embalse cuando el precio de electricidad sea menor a 60 USD/MWh y el embalse se encuentra a menos del 90% de su capacidad. \n",
    "\n",
    "Realice un diagrama de flujo que solicite el precio actual de la electricidad y el porcentaje de llenado del estanque, e imprima en pantalla la decisión: “GENERAR”, “BOMBEAR” o “NADA”."
   ]
  },
  {
   "cell_type": "markdown",
   "metadata": {
    "collapsed": true,
    "slideshow": {
     "slide_type": "slide"
    }
   },
   "source": [
    "#### 3- Creando diagramas de flujo\n",
    "## Ejemplo 3.4\n",
    "\n",
    "<img src=\"images/centralbombeo.png\" width=\"600\" alt=\"\" align=\"middle\"/>\n"
   ]
  },
  {
   "cell_type": "markdown",
   "metadata": {
    "slideshow": {
     "slide_type": "slide"
    }
   },
   "source": [
    "## 4. Bonus\n",
    "\n",
    "### Diagrama de Flujo de \"cultura pop\": \n",
    "\n",
    "#### Algoritmo de la amistad, Dr. Sheldon Cooper, The Big Bang Theory (S02E13).\n",
    "\n",
    "<img src=\"images/friendship.jpg\" alt=\"\" align=\"middle\"/>"
   ]
  }
 ],
 "metadata": {
  "celltoolbar": "Slideshow",
  "kernelspec": {
   "display_name": "Python 2",
   "language": "python",
   "name": "python2"
  },
  "language_info": {
   "codemirror_mode": {
    "name": "ipython",
    "version": 2
   },
   "file_extension": ".py",
   "mimetype": "text/x-python",
   "name": "python",
   "nbconvert_exporter": "python",
   "pygments_lexer": "ipython2",
   "version": "2.7.6"
  }
 },
 "nbformat": 4,
 "nbformat_minor": 0
}
