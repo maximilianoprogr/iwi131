{
 "cells": [
  {
   "cell_type": "code",
   "execution_count": 1,
   "metadata": {
    "collapsed": false,
    "slideshow": {
     "slide_type": "skip"
    }
   },
   "outputs": [
    {
     "data": {
      "text/html": [
       "<style>\n",
       "\n",
       ".reveal {\n",
       "overflow: visible;\n",
       "}\n",
       "\n",
       "/*********************************************\n",
       " * COLORS FOR EXAMPLES\n",
       " *********************************************/\n",
       "span.good {color: #008000;}\n",
       "span.warning {color: #808000;}\n",
       "span.bad {color: #800000;}\n",
       "\n",
       "/*********************************************\n",
       " * GLOBAL STYLES\n",
       " *********************************************/\n",
       ".reveal h1 {color: #000000; text-shadow: 0px 0px 6px rgba(0, 0, 0, 0.2);}\n",
       ".reveal h2 {color: #222222; text-shadow: 0px 0px 5px rgba(0, 0, 0, 0.2);}\n",
       ".reveal h3 {color: #444444; text-shadow: 0px 0px 4px rgba(0, 0, 0, 0.2);}\n",
       ".reveal h4 {color: #666666; text-shadow: 0px 0px 3px rgba(0, 0, 0, 0.2);}\n",
       ".reveal h5 {color: #888888; text-shadow: 0px 0px 2px rgba(0, 0, 0, 0.2);}\n",
       ".reveal h6 {color: #AAAAAA; text-shadow: 0px 0px 1px rgba(0, 0, 0, 0.2);}\n",
       "\n",
       "/*********************************************\n",
       " * IMAGES\n",
       " *********************************************/\n",
       ".reveal section img { margin-left:auto; margin-right:auto;}\n",
       "\n",
       "</style>\n"
      ],
      "text/plain": [
       "<IPython.core.display.HTML object>"
      ]
     },
     "execution_count": 1,
     "metadata": {},
     "output_type": "execute_result"
    }
   ],
   "source": [
    "#Configuracion para recargar módulos y librerías cada vez \n",
    "%reload_ext autoreload\n",
    "%autoreload 2\n",
    "                                                                                                                                                                                                                                                                                                                                                                                                                                                                                                                                                                                                                                                                                \n",
    "%matplotlib inline\n",
    "                                                                                                                                                                                                                                                                                                                                                                                                                                                                                                                                                                                                                                                                                                                                                                                                                                                                                                                                                                                                                                                                                                                                                                                                                                                                                                                                                                                                                                                                                                                                                                                                                                                                                                                                                                                                                                                                                                                                                                                                                                                                                                                                                                                                                                                                                                                                                                                                                                                                                                                                                                                                                                                                                                                                                                                                                                                                                                                                                                                                                                                                                                                                                                                                                                                                                                                                                                                                                                                                                                                                                                                                                                                                                                                                                                                                                                                                                                                                                                                                                                                                                                                                                                                                                                                                                                                                                                                                                                                                                                                                                                                                                                                                                                                                                                                                                                                                                                                                                                                                                                                                                                                                                                                                                                                                                                                                                                                                                                                                                                                                                                                                                                                                                                                                                                                                                                                                                                                                                                                                                                                                                                                                                                                                                                                                                                                                                                                                                                                                                                                                                                                                                                                                                                                                                                                                                                                                                                                                                                                                                                                                                                                                                                                                                                                                                                                                                                                                                                                                                                                                                                                                                                                                                                                                                                                                                                                                                                                                                                                                                                                                                                                                                                                                                                                                                                                                                                                                                                                                                                                                                                                                                                                                                                                                                                                                                                                                                                                                                                                                                                                                                                                                                                                                                                                                                                                                                                                                                                                                                                                                                                                                                                                                                                                                                                                                                                                                                                                                                                                                                                                                                                                                                                                                                                                                                                                                                                                                                                                                                            \n",
    "from IPython.core.display import HTML\n",
    "\n",
    "HTML(open(\"style/iwi131.css\", \"r\").read())"
   ]
  },
  {
   "cell_type": "markdown",
   "metadata": {
    "slideshow": {
     "slide_type": "slide"
    }
   },
   "source": [
    "<header class=\"w3-container w3-teal\">\n",
    "<img src=\"images/utfsm.png\" alt=\"\" align=\"left\"/>\n",
    "<img src=\"images/inf.png\" alt=\"\" align=\"right\"/>\n",
    "</header>\n",
    "<br/><br/><br/><br/><br/>\n",
    "# IWI131\n",
    "## Programación de Computadores\n",
    "## Actividad 1 - Diagrama de Flujo\n",
    "### Sebastián Flores\n",
    "\n",
    "http://progra.usm.cl/ \n",
    "\n",
    "https://www.github.com/sebastiandres/iwi131\n"
   ]
  },
  {
   "cell_type": "markdown",
   "metadata": {
    "slideshow": {
     "slide_type": "slide"
    }
   },
   "source": [
    "## Enunciado\n",
    "Thomas compra $n$ manzanas y quiere dividirlas entre sus amigos Teresa y Chuck.\n",
    "\n",
    "Cada manzana pesa 100 gramos o 200 gramos. Por supuesto Thomas no quiere ofender a ninguno\n",
    "de sus amigos. Por eso, el peso total de las manzanas que le de a Teresa tiene que ser igual al\n",
    "peso total de manzanas dadas a Chuck.\n",
    "\n",
    "Desafortunadamente Thomas no tiene un cuchillo en estos momentos, por lo tanto no puede\n",
    "dividir ninguna manzana en partes. Ahora usted debe indicarle si es posible dividir todas las\n",
    "manzanas de forma justa entre sus amigos."
   ]
  },
  {
   "cell_type": "markdown",
   "metadata": {
    "slideshow": {
     "slide_type": "slide"
    }
   },
   "source": [
    "## Inputs y Outputs\n",
    "\n",
    "#### Entrada\n",
    "Inicialmente se ingresarán un número $n \\in IN$, indicando el número de manzanas. Luego se ingresan n números\n",
    "$w_1 , w_2 , ... , w_n$($w_i = 100$ o $w_i = 200$), donde $w_i$ es el peso de la manzana\n",
    "i-ésima.\n",
    "#### Salida\n",
    "Mostrar la palabra ”Si” si es posible dividir todas las manzanas entre sus amigos. En caso\n",
    "contrario, mostrar ”No”."
   ]
  },
  {
   "cell_type": "markdown",
   "metadata": {
    "slideshow": {
     "slide_type": "slide"
    }
   },
   "source": [
    "## Ejemplos\n",
    "\n",
    "#### Ejemplos provistos\n",
    "* **3** 100 200 100 → Si\n",
    "* **4** 100 100 100 200 → No\n",
    "* **3** 200 200 200  → No\n"
   ]
  },
  {
   "cell_type": "markdown",
   "metadata": {
    "slideshow": {
     "slide_type": "slide"
    }
   },
   "source": [
    "## Ejemplos\n",
    "\n",
    "#### Otros ejemplos\n",
    "* **1** 100 → No\n",
    "* **1** 200 → No\n",
    "\n",
    "* **2 **100 100 → Si\n",
    "* **2** 100 200  → No\n",
    "* **2** 200 200  → Si\n",
    "\n",
    "* **3** 100 100 100  → No\n",
    "* **3** 100 100 200  → Si\n",
    "* **3** 100 200 200  → No\n",
    "* **3** 200 200 200  → No\n",
    "\n",
    "* **4** 100 100 100 100  → Si\n",
    "* **4** 100 100 100 200  → No\n",
    "* **4** 100 100 200 200  → Si\n",
    "* **4** 100 200 200 200  → No\n",
    "* **4** 200 200 200 200  → Si"
   ]
  },
  {
   "cell_type": "markdown",
   "metadata": {
    "slideshow": {
     "slide_type": "slide"
    }
   },
   "source": [
    "## Ejemplos\n",
    "\n",
    "¿Que regla es posible de aplicar?\n",
    "* Si el número de manzanas de 100 es impar, NO se puede. NUNCA.\n",
    "* Si el número de manzanas de 100 es par y el número de manzanas de 200 es par, SI se puede.\n",
    "* Si el número de manzanas de 100 es par y == a 0, y el número de manzanas de 200 es impar, NO se puede.\n",
    "* Si el número de manzanas de 100 es par y != de 0, y el número de manzanas de 200 es impar, SI se puede.\n",
    "\n",
    "Eso es todo.\n",
    "El resto es contar manzanas, y aplicar esta lógica."
   ]
  },
  {
   "cell_type": "markdown",
   "metadata": {
    "slideshow": {
     "slide_type": "slide"
    }
   },
   "source": [
    "## Diagrama de flujo\n",
    "\n",
    "<img src=\"images/actividad.png\" alt=\"\" align=\"middle\"/>"
   ]
  },
  {
   "cell_type": "code",
   "execution_count": 3,
   "metadata": {
    "collapsed": false,
    "slideshow": {
     "slide_type": "slide"
    }
   },
   "outputs": [
    {
     "name": "stdout",
     "output_type": "stream",
     "text": [
      "Ingrese los números:\n",
      "6\n",
      "100\n",
      "200\n",
      "200\n",
      "100\n",
      "150\n",
      "100\n",
      "NO\n"
     ]
    }
   ],
   "source": [
    "# -*- coding: utf-8 -*-\n",
    "N = int(raw_input(\"Ingrese los números:\\n\"))\n",
    "j = 1\n",
    "n100 = 0\n",
    "n200 = 0\n",
    "# Contemos manzanas\n",
    "while j<=N:\n",
    "    w = int(raw_input(\"\"))\n",
    "    if w==100:\n",
    "        n100 = n100 + 1\n",
    "    else:\n",
    "        n200 = n200 + 1\n",
    "    j = j+1\n",
    "# Calculemos si es posible\n",
    "if n100%2==1:\n",
    "    print \"NO\"\n",
    "else:\n",
    "    if n200%2==0:\n",
    "        print \"SI\"\n",
    "    else:\n",
    "        if n100>0:\n",
    "            print \"SI\"\n",
    "        else:\n",
    "            print \"NO\""
   ]
  },
  {
   "cell_type": "code",
   "execution_count": 5,
   "metadata": {
    "collapsed": false,
    "slideshow": {
     "slide_type": "slide"
    }
   },
   "outputs": [
    {
     "name": "stdout",
     "output_type": "stream",
     "text": [
      "Ingrese los números:\n",
      "4\n",
      "150\n",
      "150\n",
      "150\n",
      "150\n",
      "SI\n"
     ]
    }
   ],
   "source": [
    "# -*- coding: utf-8 -*-\n",
    "N = int(raw_input(\"Ingrese los números:\\n\"))\n",
    "j = 1\n",
    "n100 = 0\n",
    "n200 = 0\n",
    "# Contemos manzanas\n",
    "while j<=N:\n",
    "    w = int(raw_input(\"\"))\n",
    "    if w==100:\n",
    "        n100 = n100 + 1\n",
    "    else:\n",
    "        n200 = n200 + 1\n",
    "    j = j+1\n",
    "# Calculemos si es posible\n",
    "if n100%2==1:\n",
    "    print \"NO\"\n",
    "elif n200%2==0: # ademas sabemos que n100 es par\n",
    "    print \"SI\"\n",
    "elif n100>0: # ademas sabemos que n100 es par y n200 es impar\n",
    "    print \"SI\"\n",
    "else: # ademas sabemos que n100 es par!=0 y n200 es impar\n",
    "    print \"NO\""
   ]
  },
  {
   "cell_type": "code",
   "execution_count": 7,
   "metadata": {
    "collapsed": false
   },
   "outputs": [
    {
     "name": "stdout",
     "output_type": "stream",
     "text": [
      "Ingrese textoSebastian\n",
      "Hola  Sebastian\n"
     ]
    }
   ],
   "source": [
    "str = raw_input(\"Ingrese texto\")\n",
    "print \"Hola \", str "
   ]
  }
 ],
 "metadata": {
  "celltoolbar": "Slideshow",
  "kernelspec": {
   "display_name": "Python 2",
   "language": "python",
   "name": "python2"
  },
  "language_info": {
   "codemirror_mode": {
    "name": "ipython",
    "version": 2
   },
   "file_extension": ".py",
   "mimetype": "text/x-python",
   "name": "python",
   "nbconvert_exporter": "python",
   "pygments_lexer": "ipython2",
   "version": "2.7.6"
  }
 },
 "nbformat": 4,
 "nbformat_minor": 0
}
