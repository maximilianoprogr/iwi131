{
 "cells": [
  {
   "cell_type": "code",
   "execution_count": null,
   "metadata": {
    "collapsed": true
   },
   "outputs": [],
   "source": []
  },
  {
   "cell_type": "code",
   "execution_count": null,
   "metadata": {
    "collapsed": true
   },
   "outputs": [],
   "source": [
    "## Funciones\n",
    "\n",
    "Una función (en informática) es una  agrupación de expresiones que conducen a la ejecución de ciertas acciones."
   ]
  },
  {
   "cell_type": "code",
   "execution_count": 1,
   "metadata": {
    "collapsed": true
   },
   "outputs": [],
   "source": [
    "# f(x) = 2*x-1 es una función en mátemática\n",
    "def f(x):\n",
    "    return 2*x + 1"
   ]
  },
  {
   "cell_type": "code",
   "execution_count": 8,
   "metadata": {
    "collapsed": false
   },
   "outputs": [],
   "source": [
    "# Es primo no es una función matematica\n",
    "def es_primo(n):\n",
    "    n_es_primo = all([n%j!=0 for j in range(int(n**0.5))])\n",
    "    if n_es_primo:\n",
    "        print(n,\" es primo\")\n",
    "    else:\n",
    "        print(n,\" no es primo\")"
   ]
  },
  {
   "cell_type": "code",
   "execution_count": 2,
   "metadata": {
    "collapsed": false
   },
   "outputs": [
    {
     "data": {
      "text/plain": [
       "2"
      ]
     },
     "execution_count": 2,
     "metadata": {},
     "output_type": "execute_result"
    }
   ],
   "source": [
    "# Sandbox\n",
    "f(1)"
   ]
  },
  {
   "cell_type": "markdown",
   "metadata": {},
   "source": [
    "## Problema\n",
    "La fuerza de atracción gravitacional entre 2 planetas de masas $m_1$ y $m_2$ separados por una distancia de $r$ kilómetros esta dada por la fórmula:\n",
    "$$F = G \\frac{m_1 m_2}{r^2}$$\n",
    "donde $G=6.67428 \\cdot 10^{-11}$ [m3, kg-1, s-2]. \n",
    "\n",
    "### Problema\n",
    "Escriba una función que pregunte las masas de los planetas y su distancia, y entregue la fuerza de atracción entre ellos. "
   ]
  },
  {
   "cell_type": "code",
   "execution_count": 10,
   "metadata": {
    "collapsed": false
   },
   "outputs": [
    {
     "ename": "SyntaxError",
     "evalue": "invalid syntax (<ipython-input-10-b4085a14e1f8>, line 6)",
     "output_type": "error",
     "traceback": [
      "\u001b[1;36m  File \u001b[1;32m\"<ipython-input-10-b4085a14e1f8>\"\u001b[1;36m, line \u001b[1;32m6\u001b[0m\n\u001b[1;33m    print 'La fuerza de atraccion es',\u001b[0m\n\u001b[1;37m                                    ^\u001b[0m\n\u001b[1;31mSyntaxError\u001b[0m\u001b[1;31m:\u001b[0m invalid syntax\n"
     ]
    }
   ],
   "source": [
    "# constante de gravitacion universal\n",
    "G = 6.67428e-11\n",
    "m1 = float(raw_input('m1: '))\n",
    "m2 = float(raw_input('m2: '))\n",
    "r = float(raw_input('Distancia: '))\n",
    "print 'La fuerza de atraccion es',\n",
    "print G * m1 * m2 / (r ** 2)"
   ]
  },
  {
   "cell_type": "markdown",
   "metadata": {},
   "source": [
    "## Uso de funciones\n",
    "El c ́alculo de la fuerza de atracci on gravitacional puede ser \n",
    "encapsulado en una funci on,\n",
    " ́ para poder ser utilizado en otras\n",
    "ocacciones."
   ]
  },
  {
   "cell_type": "code",
   "execution_count": 11,
   "metadata": {
    "collapsed": false
   },
   "outputs": [
    {
     "ename": "SyntaxError",
     "evalue": "invalid syntax (<ipython-input-11-eb3154b324db>, line 8)",
     "output_type": "error",
     "traceback": [
      "\u001b[1;36m  File \u001b[1;32m\"<ipython-input-11-eb3154b324db>\"\u001b[1;36m, line \u001b[1;32m8\u001b[0m\n\u001b[1;33m    print 'La fuerza de atraccion es', cgu(m1, m2, r)\u001b[0m\n\u001b[1;37m                                    ^\u001b[0m\n\u001b[1;31mSyntaxError\u001b[0m\u001b[1;31m:\u001b[0m invalid syntax\n"
     ]
    }
   ],
   "source": [
    "def cgu(masa1, masa2, radio):\n",
    "    G = 6.67428e-11\n",
    "    return G * masa1 * masa2 / (radio ** 2)\n",
    "\n",
    "m1 = float(raw_input('m1: '))\n",
    "m2 = float(raw_input('m2: '))\n",
    "r = float(raw_input('Distancia: '))\n",
    "print 'La fuerza de atraccion es', cgu(m1, m2, r)"
   ]
  },
  {
   "cell_type": "code",
   "execution_count": null,
   "metadata": {
    "collapsed": true
   },
   "outputs": [],
   "source": [
    "## Conceptos\n",
    " * Parámetros\n",
    " * Variables locales \n",
    " * Variables globales\n",
    " * Valor de retorno"
   ]
  },
  {
   "cell_type": "code",
   "execution_count": 13,
   "metadata": {
    "collapsed": false
   },
   "outputs": [
    {
     "ename": "SyntaxError",
     "evalue": "invalid syntax (<ipython-input-13-0a76cea9462a>, line 5)",
     "output_type": "error",
     "traceback": [
      "\u001b[1;36m  File \u001b[1;32m\"<ipython-input-13-0a76cea9462a>\"\u001b[1;36m, line \u001b[1;32m5\u001b[0m\n\u001b[1;33m    print 'La fuerza de atraccion es', cgu(m1, m2, r)\u001b[0m\n\u001b[1;37m                                    ^\u001b[0m\n\u001b[1;31mSyntaxError\u001b[0m\u001b[1;31m:\u001b[0m invalid syntax\n"
     ]
    }
   ],
   "source": [
    "# Probemos algunos números\n",
    "m1 = float(raw_input('m1: '))\n",
    "m2 = float(raw_input('m2: '))\n",
    "r = float(raw_input('Distancia: '))\n",
    "print 'La fuerza de atraccion es', cgu(m1, m2, r)"
   ]
  },
  {
   "cell_type": "markdown",
   "metadata": {},
   "source": [
    "## Ejercicios (1) : Círculo\n",
    "\n",
    " * Escriba una función que reciba el radio de un círculo y entregue su perímetro.\n",
    " * Escriba una función que reciba el radio de un círculo y entregue su área."
   ]
  },
  {
   "cell_type": "code",
   "execution_count": null,
   "metadata": {
    "collapsed": true
   },
   "outputs": [],
   "source": [
    "# Ejemplos de funcionamiento\n",
    "perimetro(4) # Debería regresar como valor 25.132741228718345\n",
    "area(4) # Debería regresar como valor 28.274333882308138"
   ]
  },
  {
   "cell_type": "code",
   "execution_count": null,
   "metadata": {
    "collapsed": true
   },
   "outputs": [],
   "source": [
    "## Ejercicio 1 : Círculo"
   ]
  },
  {
   "cell_type": "code",
   "execution_count": 15,
   "metadata": {
    "collapsed": false
   },
   "outputs": [
    {
     "name": "stdout",
     "output_type": "stream",
     "text": [
      "None\n"
     ]
    }
   ],
   "source": [
    "def perimetro(r):\n",
    "    return\n",
    "\n",
    "print(perimetro(4))"
   ]
  },
  {
   "cell_type": "code",
   "execution_count": 16,
   "metadata": {
    "collapsed": false
   },
   "outputs": [
    {
     "name": "stdout",
     "output_type": "stream",
     "text": [
      "None\n"
     ]
    }
   ],
   "source": [
    "def area(r):\n",
    "    return\n",
    "print(area(4))"
   ]
  },
  {
   "cell_type": "markdown",
   "metadata": {},
   "source": [
    "## Ejericicio 1: Círculo - solución 1"
   ]
  },
  {
   "cell_type": "code",
   "execution_count": null,
   "metadata": {
    "collapsed": true
   },
   "outputs": [],
   "source": [
    "def perimetro(r):\n",
    "    return\n",
    "\n",
    "print(perimetro(4))"
   ]
  },
  {
   "cell_type": "code",
   "execution_count": null,
   "metadata": {
    "collapsed": true
   },
   "outputs": [],
   "source": [
    "def area(r):\n",
    "    return\n",
    "print(area(4))"
   ]
  },
  {
   "cell_type": "markdown",
   "metadata": {},
   "source": [
    "## Ejericicio 1: Círculo - solución 2"
   ]
  },
  {
   "cell_type": "code",
   "execution_count": null,
   "metadata": {
    "collapsed": true
   },
   "outputs": [],
   "source": [
    "def perimetro(r):\n",
    "    return\n",
    "\n",
    "print(perimetro(4))"
   ]
  },
  {
   "cell_type": "code",
   "execution_count": null,
   "metadata": {
    "collapsed": true
   },
   "outputs": [],
   "source": [
    "def area(r):\n",
    "    return\n",
    "print(area(4))"
   ]
  },
  {
   "cell_type": "markdown",
   "metadata": {},
   "source": [
    "## Ejercicio 2 - Promedio\n",
    "\n",
    "Escriba la función **promedio(n1,n2,n3)** que reciba las notas  de los 3 certamenes del ramo y retorne el valor del promedio final.\n"
   ]
  },
  {
   "cell_type": "code",
   "execution_count": null,
   "metadata": {
    "collapsed": true
   },
   "outputs": [],
   "source": [
    "# Caso 1\n",
    "promedio(100,100,100) # Debería regresar 100\n",
    "# Caso 2\n",
    "promedio(80, 66, 31) # Debería regresar 59.0"
   ]
  },
  {
   "cell_type": "code",
   "execution_count": null,
   "metadata": {
    "collapsed": true
   },
   "outputs": [],
   "source": [
    "## Ejercicio 2 - Promedio - Solución grupal"
   ]
  },
  {
   "cell_type": "code",
   "execution_count": null,
   "metadata": {
    "collapsed": true
   },
   "outputs": [],
   "source": [
    "def promedio(n1, n2, n3):\n",
    "    return"
   ]
  },
  {
   "cell_type": "code",
   "execution_count": null,
   "metadata": {
    "collapsed": true
   },
   "outputs": [],
   "source": [
    "## Ejercicio 2 - Promedio - Versión 1"
   ]
  },
  {
   "cell_type": "code",
   "execution_count": null,
   "metadata": {
    "collapsed": true
   },
   "outputs": [],
   "source": [
    "def promedio(n1, n2, n3):\n",
    "    suma = n1 + n2 + n3\n",
    "    prom = suma/3.0\n",
    "    return promedio"
   ]
  },
  {
   "cell_type": "code",
   "execution_count": null,
   "metadata": {
    "collapsed": true
   },
   "outputs": [],
   "source": [
    "## Ejercicio 2 - Promedio - Versión 1"
   ]
  },
  {
   "cell_type": "code",
   "execution_count": null,
   "metadata": {
    "collapsed": true
   },
   "outputs": [],
   "source": [
    "def promedio(n1, n2, n3):\n",
    "    prom = (n1 + n2 + n3)/3.0\n",
    "    return promedio"
   ]
  },
  {
   "cell_type": "markdown",
   "metadata": {},
   "source": [
    "## Ejercicio 2 - Errores comunes\n",
    " * Es necesario dividir por 3.0 y no por 3\n",
    " "
   ]
  },
  {
   "cell_type": "code",
   "execution_count": null,
   "metadata": {
    "collapsed": true
   },
   "outputs": [],
   "source": [
    "## Ejercicio 2 - Ruteo"
   ]
  },
  {
   "cell_type": "code",
   "execution_count": null,
   "metadata": {
    "collapsed": true
   },
   "outputs": [],
   "source": [
    "IMAGEN AQUI"
   ]
  },
  {
   "cell_type": "markdown",
   "metadata": {},
   "source": [
    "## Ejercicio 3 - Ruteo de funciones\n",
    "Realice el ruteo de las siguiente ejecución de funciones\n"
   ]
  },
  {
   "cell_type": "code",
   "execution_count": 23,
   "metadata": {
    "collapsed": false
   },
   "outputs": [
    {
     "name": "stdout",
     "output_type": "stream",
     "text": [
      "4\n"
     ]
    }
   ],
   "source": [
    "def f1(a, b):\n",
    "    return a - b\n",
    "\n",
    "def f2(b, a):\n",
    "    c = f1(a, b)\n",
    "    return c + b\n",
    "\n",
    "a = 3\n",
    "b = 4\n",
    "print(f2(a, b))"
   ]
  },
  {
   "cell_type": "code",
   "execution_count": 24,
   "metadata": {
    "collapsed": true
   },
   "outputs": [],
   "source": [
    "## Ejercicio 3 - Ruteo de funciones - Intento de Solución"
   ]
  },
  {
   "cell_type": "code",
   "execution_count": null,
   "metadata": {
    "collapsed": true
   },
   "outputs": [],
   "source": [
    "IMAGEN SIN RESULTADOS AQUI"
   ]
  },
  {
   "cell_type": "code",
   "execution_count": 25,
   "metadata": {
    "collapsed": true
   },
   "outputs": [],
   "source": [
    "## Ejercicio 3 - Ruteo de funciones - Solución"
   ]
  },
  {
   "cell_type": "code",
   "execution_count": 27,
   "metadata": {
    "collapsed": false
   },
   "outputs": [
    {
     "ename": "SyntaxError",
     "evalue": "invalid syntax (<ipython-input-27-8f2b14c108c5>, line 1)",
     "output_type": "error",
     "traceback": [
      "\u001b[1;36m  File \u001b[1;32m\"<ipython-input-27-8f2b14c108c5>\"\u001b[1;36m, line \u001b[1;32m1\u001b[0m\n\u001b[1;33m    IMAGEN AQUI\u001b[0m\n\u001b[1;37m              ^\u001b[0m\n\u001b[1;31mSyntaxError\u001b[0m\u001b[1;31m:\u001b[0m invalid syntax\n"
     ]
    }
   ],
   "source": [
    "IMAGEN AQUI"
   ]
  },
  {
   "cell_type": "code",
   "execution_count": 28,
   "metadata": {
    "collapsed": false
   },
   "outputs": [
    {
     "ename": "SyntaxError",
     "evalue": "invalid syntax (<ipython-input-28-4e217f1be5a0>, line 2)",
     "output_type": "error",
     "traceback": [
      "\u001b[1;36m  File \u001b[1;32m\"<ipython-input-28-4e217f1be5a0>\"\u001b[1;36m, line \u001b[1;32m2\u001b[0m\n\u001b[1;33m    Programar se aprende programando...\u001b[0m\n\u001b[1;37m               ^\u001b[0m\n\u001b[1;31mSyntaxError\u001b[0m\u001b[1;31m:\u001b[0m invalid syntax\n"
     ]
    }
   ],
   "source": [
    "## SIEMPRE AL TERMINAR\n",
    "Programar se aprende programando...\n",
    "Tarea para mandar por correo (10 min)."
   ]
  },
  {
   "cell_type": "markdown",
   "metadata": {},
   "source": [
    "Ejemplo de archivo a enviar por correo."
   ]
  },
  {
   "cell_type": "code",
   "execution_count": 35,
   "metadata": {
    "collapsed": false
   },
   "outputs": [],
   "source": [
    "# utf8\n",
    "def imc(peso, estatura):\n",
    "    return\n",
    "\n",
    "# Ejecución 1\n",
    "imc(66, 1.2)\n",
    "# Ejecución 2\n",
    "imc(27,5)"
   ]
  }
 ],
 "metadata": {
  "kernelspec": {
   "display_name": "Python 3",
   "language": "python",
   "name": "python3"
  },
  "language_info": {
   "codemirror_mode": {
    "name": "ipython",
    "version": 3
   },
   "file_extension": ".py",
   "mimetype": "text/x-python",
   "name": "python",
   "nbconvert_exporter": "python",
   "pygments_lexer": "ipython3",
   "version": "3.4.0"
  }
 },
 "nbformat": 4,
 "nbformat_minor": 0
}
