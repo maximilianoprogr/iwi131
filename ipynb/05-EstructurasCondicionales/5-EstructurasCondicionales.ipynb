{
 "cells": [
  {
   "cell_type": "markdown",
   "metadata": {},
   "source": [
    "# Comentario\n",
    "Necesito hacer varios diagramas, y mejorar la presentación de los resultados"
   ]
  },
  {
   "cell_type": "markdown",
   "metadata": {
    "collapsed": true
   },
   "source": [
    "## Problema\n",
    "\n",
    "Escriba un programa que pida al usuario ingresar sus tres notas,\n",
    "y lo felicite si su promedio es mayor a 80."
   ]
  },
  {
   "cell_type": "code",
   "execution_count": 1,
   "metadata": {
    "collapsed": false
   },
   "outputs": [
    {
     "ename": "SyntaxError",
     "evalue": "invalid syntax (<ipython-input-1-d74b695c968b>, line 2)",
     "output_type": "error",
     "traceback": [
      "\u001b[1;36m  File \u001b[1;32m\"<ipython-input-1-d74b695c968b>\"\u001b[1;36m, line \u001b[1;32m2\u001b[0m\n\u001b[1;33m    Nota 1: 45\u001b[0m\n\u001b[1;37m         ^\u001b[0m\n\u001b[1;31mSyntaxError\u001b[0m\u001b[1;31m:\u001b[0m invalid syntax\n"
     ]
    }
   ],
   "source": [
    "# EJEMPLO FUNCIONAL\n",
    "Nota 1: 45\n",
    "Nota 2: 78\n",
    "Nota 3: 68\n",
    "Su promedio es 64"
   ]
  },
  {
   "cell_type": "markdown",
   "metadata": {
    "collapsed": true
   },
   "source": [
    "## IF\n",
    "\n",
    "La condición if se aplica sólo si la expresión booleana asociada es verdadera:"
   ]
  },
  {
   "cell_type": "code",
   "execution_count": 7,
   "metadata": {
    "collapsed": false
   },
   "outputs": [
    {
     "ename": "SyntaxError",
     "evalue": "unexpected EOF while parsing (<ipython-input-7-1a92794acdbc>, line 2)",
     "output_type": "error",
     "traceback": [
      "\u001b[1;36m  File \u001b[1;32m\"<ipython-input-7-1a92794acdbc>\"\u001b[1;36m, line \u001b[1;32m2\u001b[0m\n\u001b[1;33m    # Esto se ejecuta si boolean_condition tiene valor True\u001b[0m\n\u001b[1;37m                                                           ^\u001b[0m\n\u001b[1;31mSyntaxError\u001b[0m\u001b[1;31m:\u001b[0m unexpected EOF while parsing\n"
     ]
    }
   ],
   "source": [
    "if boolean_condition:\n",
    "    # Esto se ejecuta si boolean_condition tiene valor True"
   ]
  },
  {
   "cell_type": "markdown",
   "metadata": {},
   "source": [
    "¡Diagrama!"
   ]
  },
  {
   "cell_type": "markdown",
   "metadata": {},
   "source": [
    "## Ejemplo de if"
   ]
  },
  {
   "cell_type": "code",
   "execution_count": 6,
   "metadata": {
    "collapsed": false
   },
   "outputs": [
    {
     "name": "stdout",
     "output_type": "stream",
     "text": [
      "Su promedio es 1\n"
     ]
    }
   ],
   "source": [
    "promedio = 1\n",
    "if promedio > 80:\n",
    "    print('Felicitaciones!')\n",
    "print('Su promedio es', promedio )"
   ]
  },
  {
   "cell_type": "markdown",
   "metadata": {},
   "source": [
    "## IF - ELSE\n",
    "La condición if-else tiene 2 opciones: una se aplica cuando la condición es verdadera, la otra si es falsa."
   ]
  },
  {
   "cell_type": "code",
   "execution_count": 8,
   "metadata": {
    "collapsed": false
   },
   "outputs": [
    {
     "ename": "IndentationError",
     "evalue": "expected an indented block (<ipython-input-8-fd0167e3c26b>, line 3)",
     "output_type": "error",
     "traceback": [
      "\u001b[1;36m  File \u001b[1;32m\"<ipython-input-8-fd0167e3c26b>\"\u001b[1;36m, line \u001b[1;32m3\u001b[0m\n\u001b[1;33m    else:\u001b[0m\n\u001b[1;37m       ^\u001b[0m\n\u001b[1;31mIndentationError\u001b[0m\u001b[1;31m:\u001b[0m expected an indented block\n"
     ]
    }
   ],
   "source": [
    "if boolean_condition:\n",
    "    # Esto se ejecuta si boolean_condition tiene valor True\n",
    "else:\n",
    "    # Esto se ejecuta si boolean_condition tiene valor False    "
   ]
  },
  {
   "cell_type": "markdown",
   "metadata": {},
   "source": [
    "Diagrama!!!"
   ]
  },
  {
   "cell_type": "markdown",
   "metadata": {},
   "source": [
    "## Ejemplo de if-else\n",
    "Un ejemplo de if-else se da cuando deseamos clasificar promedios en \"aprobado\" y \"reprobado\":"
   ]
  },
  {
   "cell_type": "code",
   "execution_count": 12,
   "metadata": {
    "collapsed": false
   },
   "outputs": [
    {
     "name": "stdout",
     "output_type": "stream",
     "text": [
      "Usted reprobo con 54.9999\n"
     ]
    }
   ],
   "source": [
    "promedio = 54.9999\n",
    "if promedio < 55:\n",
    "    print('Usted reprobo con', promedio)\n",
    "else:\n",
    "    print('Usted aprobo con', promedio)"
   ]
  },
  {
   "cell_type": "code",
   "execution_count": null,
   "metadata": {
    "collapsed": true
   },
   "outputs": [],
   "source": [
    "## IF - ELIF - ELSE"
   ]
  },
  {
   "cell_type": "code",
   "execution_count": null,
   "metadata": {
    "collapsed": true
   },
   "outputs": [],
   "source": [
    "if boolean_condition_1:\n",
    "    # Se ejecuta si boolean_condition tiene valor True\n",
    "elif boolean_condition_2:\n",
    "    # Se ejecuta si boolean_condition tiene valor False y boolean_condition_2 es True    \n",
    "elif  boolean_condition_3:\n",
    "    # Se ejecuta si todo las condiciones anteriores son False y boolean_condition_3 es True    \n",
    "else:\n",
    "    # Se ejecuta si todas las condiciones anteriores son False    "
   ]
  },
  {
   "cell_type": "markdown",
   "metadata": {},
   "source": [
    "## Ejemplo de if-elif-else\n",
    "\n",
    "Un ejemplo de if-elif-else se crea cuando necesitamos clasificar promedios en pésimo (entre 0 y 30), \n",
    "mediocre (entre 30 y 54), aceptable (55 a 79) o excelente (80 a 100)."
   ]
  },
  {
   "cell_type": "code",
   "execution_count": 17,
   "metadata": {
    "collapsed": false
   },
   "outputs": [
    {
     "name": "stdout",
     "output_type": "stream",
     "text": [
      "Su promedio 30 es: \n",
      "mediocre\n"
     ]
    }
   ],
   "source": [
    "promedio = 30\n",
    "print('Su promedio', promedio, 'es: ')\n",
    "if promedio < 30:\n",
    "    print('pesimo')\n",
    "elif promedio < 55:\n",
    "    print('mediocre')\n",
    "elif promedio < 80:\n",
    "    print('aceptable')\n",
    "else:\n",
    "    print('excelente!')"
   ]
  },
  {
   "cell_type": "markdown",
   "metadata": {},
   "source": [
    "## Ejemplo de if-elif-else (solución 2)\n",
    "\n",
    "Un ejemplo de if-elif-else se crea cuando necesitamos clasificar promedios en pésimo (entre 0 y 30), \n",
    "mediocre (entre 30 y 54), aceptable (55 a 79) o excelente (80 a 100)."
   ]
  },
  {
   "cell_type": "code",
   "execution_count": 21,
   "metadata": {
    "collapsed": false
   },
   "outputs": [
    {
     "name": "stdout",
     "output_type": "stream",
     "text": [
      "Su promedio 30 es: \n",
      "mediocre\n"
     ]
    }
   ],
   "source": [
    "promedio = 30\n",
    "print('Su promedio', promedio, 'es: ')\n",
    "if promedio >= 80:\n",
    "    print('excelente!')\n",
    "elif promedio >= 55:\n",
    "    print('aceptable')\n",
    "elif promedio >= 30:\n",
    "    print('mediocre')\n",
    "else:\n",
    "    print('pesimo')\n"
   ]
  },
  {
   "cell_type": "markdown",
   "metadata": {},
   "source": [
    "## Ejemplos\n",
    "Un año es bisiesto si es divisible por 4, excepto si es divisible por 100 y no por 400.\n",
    "\n",
    "Escriba la función es_bisiesto(anno) que reciba como dato de entrada un entero anno y regrese un booleano: \n",
    "True si el año es bisiesto y False si el año no es bisiesto."
   ]
  },
  {
   "cell_type": "code",
   "execution_count": 25,
   "metadata": {
    "collapsed": false
   },
   "outputs": [
    {
     "ename": "NameError",
     "evalue": "name 'es_bisiesto' is not defined",
     "output_type": "error",
     "traceback": [
      "\u001b[1;31m---------------------------------------------------------------------------\u001b[0m",
      "\u001b[1;31mNameError\u001b[0m                                 Traceback (most recent call last)",
      "\u001b[1;32m<ipython-input-25-9021c1e58cac>\u001b[0m in \u001b[0;36m<module>\u001b[1;34m()\u001b[0m\n\u001b[1;32m----> 1\u001b[1;33m \u001b[0mes_bisiesto\u001b[0m\u001b[1;33m(\u001b[0m\u001b[1;36m1988\u001b[0m\u001b[1;33m)\u001b[0m \u001b[1;31m# True\u001b[0m\u001b[1;33m\u001b[0m\u001b[0m\n\u001b[0m\u001b[0;32m      2\u001b[0m \u001b[0mes_bisiesto\u001b[0m\u001b[1;33m(\u001b[0m\u001b[1;36m2011\u001b[0m\u001b[1;33m)\u001b[0m \u001b[1;31m# False\u001b[0m\u001b[1;33m\u001b[0m\u001b[0m\n\u001b[0;32m      3\u001b[0m \u001b[0mes_bisiesto\u001b[0m\u001b[1;33m(\u001b[0m\u001b[1;36m1700\u001b[0m\u001b[1;33m)\u001b[0m \u001b[1;31m# False\u001b[0m\u001b[1;33m\u001b[0m\u001b[0m\n\u001b[0;32m      4\u001b[0m \u001b[0mes_bisiesto\u001b[0m\u001b[1;33m(\u001b[0m\u001b[1;36m2400\u001b[0m\u001b[1;33m)\u001b[0m \u001b[1;31m# True\u001b[0m\u001b[1;33m\u001b[0m\u001b[0m\n\u001b[0;32m      5\u001b[0m \u001b[0mes_bisiesto\u001b[0m\u001b[1;33m(\u001b[0m\u001b[1;36m2015\u001b[0m\u001b[1;33m)\u001b[0m \u001b[1;31m# False\u001b[0m\u001b[1;33m\u001b[0m\u001b[0m\n",
      "\u001b[1;31mNameError\u001b[0m: name 'es_bisiesto' is not defined"
     ]
    }
   ],
   "source": [
    "es_bisiesto(1988) # True\n",
    "es_bisiesto(2011) # False\n",
    "es_bisiesto(1700) # False\n",
    "es_bisiesto(2400) # True\n",
    "es_bisiesto(2015) # False"
   ]
  },
  {
   "cell_type": "markdown",
   "metadata": {},
   "source": [
    "## Solución estudiantes\n"
   ]
  },
  {
   "cell_type": "code",
   "execution_count": 28,
   "metadata": {
    "collapsed": true
   },
   "outputs": [],
   "source": [
    "def es_bisiesto(anno):\n",
    "    return True"
   ]
  },
  {
   "cell_type": "markdown",
   "metadata": {},
   "source": [
    "## Solución profesor (1)"
   ]
  },
  {
   "cell_type": "code",
   "execution_count": 31,
   "metadata": {
    "collapsed": true
   },
   "outputs": [],
   "source": [
    "def es_bisiesto(anno):\n",
    "    if anno % 400 == 0:\n",
    "        bisiesto = True\n",
    "    elif anno % 100 == 0:\n",
    "        bisiesto = False\n",
    "    elif anno % 4 == 0:\n",
    "        bisiesto = True\n",
    "    else:\n",
    "        bisiesto = False\n",
    "    return bisiesto"
   ]
  },
  {
   "cell_type": "code",
   "execution_count": 32,
   "metadata": {
    "collapsed": false
   },
   "outputs": [
    {
     "data": {
      "text/plain": [
       "False"
      ]
     },
     "execution_count": 32,
     "metadata": {},
     "output_type": "execute_result"
    }
   ],
   "source": [
    "es_bisiesto(1988) # True\n",
    "es_bisiesto(2011) # False\n",
    "es_bisiesto(1700) # False\n",
    "es_bisiesto(2400) # True\n",
    "es_bisiesto(2015) # False"
   ]
  },
  {
   "cell_type": "markdown",
   "metadata": {},
   "source": [
    "## Solución profesor (2)"
   ]
  },
  {
   "cell_type": "code",
   "execution_count": 34,
   "metadata": {
    "collapsed": false
   },
   "outputs": [
    {
     "ename": "IndentationError",
     "evalue": "expected an indented block (<ipython-input-34-b585c3311679>, line 2)",
     "output_type": "error",
     "traceback": [
      "\u001b[1;36m  File \u001b[1;32m\"<ipython-input-34-b585c3311679>\"\u001b[1;36m, line \u001b[1;32m2\u001b[0m\n\u001b[1;33m    if anno % 4 == 0:\u001b[0m\n\u001b[1;37m     ^\u001b[0m\n\u001b[1;31mIndentationError\u001b[0m\u001b[1;31m:\u001b[0m expected an indented block\n"
     ]
    }
   ],
   "source": [
    "def es_bisiesto(anno):\n",
    "if anno % 4 == 0:\n",
    "if anno % 100 == 0 and anno % 400 != 0:\n",
    "bisiesto = False\n",
    "else:\n",
    "bisiesto = True\n",
    "else:\n",
    "bisiesto = False\n",
    "return bisiesto"
   ]
  },
  {
   "cell_type": "code",
   "execution_count": null,
   "metadata": {
    "collapsed": true
   },
   "outputs": [],
   "source": []
  },
  {
   "cell_type": "markdown",
   "metadata": {},
   "source": [
    "## Solución profesor (3)"
   ]
  },
  {
   "cell_type": "code",
   "execution_count": 45,
   "metadata": {
    "collapsed": false
   },
   "outputs": [],
   "source": [
    "def es_bisiesto(anno):\n",
    "    if ((anno % 4 == 0 and anno % 100 != 0) or anno % 400 == 0):\n",
    "        bisiesto = True\n",
    "    else:\n",
    "        bisiesto = False\n",
    "    return bisiesto"
   ]
  },
  {
   "cell_type": "code",
   "execution_count": 38,
   "metadata": {
    "collapsed": false
   },
   "outputs": [
    {
     "data": {
      "text/plain": [
       "False"
      ]
     },
     "execution_count": 38,
     "metadata": {},
     "output_type": "execute_result"
    }
   ],
   "source": [
    "es_bisiesto(1988) # True\n",
    "es_bisiesto(2011) # False\n",
    "es_bisiesto(1700) # False\n",
    "es_bisiesto(2400) # True\n",
    "es_bisiesto(2015) # False"
   ]
  },
  {
   "cell_type": "markdown",
   "metadata": {},
   "source": [
    "## Solución profesor (4)"
   ]
  },
  {
   "cell_type": "code",
   "execution_count": 43,
   "metadata": {
    "collapsed": true
   },
   "outputs": [],
   "source": [
    "def es_bisiesto(a):\n",
    "    return ((a %4 == 0 and a %100 != 0) or a %400== 0)"
   ]
  },
  {
   "cell_type": "code",
   "execution_count": 41,
   "metadata": {
    "collapsed": false
   },
   "outputs": [
    {
     "data": {
      "text/plain": [
       "False"
      ]
     },
     "execution_count": 41,
     "metadata": {},
     "output_type": "execute_result"
    }
   ],
   "source": [
    "es_bisiesto(1988) # True\n",
    "es_bisiesto(2011) # False\n",
    "es_bisiesto(1700) # False\n",
    "es_bisiesto(2400) # True\n",
    "es_bisiesto(2015) # False"
   ]
  },
  {
   "cell_type": "markdown",
   "metadata": {},
   "source": [
    "## Ejercicio Tarea"
   ]
  },
  {
   "cell_type": "code",
   "execution_count": null,
   "metadata": {
    "collapsed": true
   },
   "outputs": [],
   "source": []
  },
  {
   "cell_type": "code",
   "execution_count": null,
   "metadata": {
    "collapsed": true
   },
   "outputs": [],
   "source": []
  }
 ],
 "metadata": {
  "kernelspec": {
   "display_name": "Python 3",
   "language": "python",
   "name": "python3"
  },
  "language_info": {
   "codemirror_mode": {
    "name": "ipython",
    "version": 3
   },
   "file_extension": ".py",
   "mimetype": "text/x-python",
   "name": "python",
   "nbconvert_exporter": "python",
   "pygments_lexer": "ipython3",
   "version": "3.4.0"
  }
 },
 "nbformat": 4,
 "nbformat_minor": 0
}
