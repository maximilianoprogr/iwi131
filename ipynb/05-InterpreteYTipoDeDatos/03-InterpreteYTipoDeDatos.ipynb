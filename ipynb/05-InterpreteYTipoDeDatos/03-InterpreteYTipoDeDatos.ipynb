{
 "cells": [
  {
   "cell_type": "markdown",
   "metadata": {
    "collapsed": true,
    "slideshow": {
     "slide_type": "skip"
    }
   },
   "source": [
    "# Configuracion para recargar módulos y librerías cada vez \n",
    "%reload_ext autoreload\n",
    "%autoreload 2\n",
    "                                                                                                                                                                                                                                                                                                                                                                                                                                                                                                                                                                                                                                                                                \n",
    "%matplotlib inline\n",
    "                                                                                                                                                                                                                                                                                                                                                                                                                                                                                                                                                                                                                                                                                                                                                                                                                                                                                                                                                                                                                                                                                                                                                                                                                                                                                                                                                                                                                                                                                                                                                                                                                                                                                                                                                                                                                                                                                                                                                                                                                                                                                                                                                                                                                                                                                                                                                                                                                                                                                                                                                                                                                                                                                                                                                                                                                                                                                                                                                                                                                                                                                                                                                                                                                                                                                                                                                                                                                                                                                                                                                                                                                                                                                                                                                                                                                                                                                                                                                                                                                                                                                                                                                                                                                                                                                                                                                                                                                                                                                                                                                                                                                                                                                                                                                                                                                                                                                                                                                                                                                                                                                                                                                                                                                                                                                                                                                                                                                                                                                                                                                                                                                                                                                                                                                                                                                                                                                                                                                                                                                                                                                                                                                                                                                                                                                                                                                                                                                                                                                                                                                                                                                                                                                                                                                                                                                                                                                                                                                                                                                                                                                                                                                                                                                                                                                                                                                                                                                                                                                                                                                                                                                                                                                                                                                                                                                                                                                                                                                                                                                                                                                                                                                                                                                                                                                                                                                                                                                                                                                                                                                                                                                                                                                                                                                                                                                                                                                                                                                                                                                                                                                                                                                                                                                                                                                                                                                                                                                                                                                                                                                                                                                                                                                                                                                                                                                                                                                                                                                                                                                                                                                                                                                                                                                                                                                                                                                                                                                                                                                            \n",
    "from IPython.core.display import HTML\n",
    "\n",
    "HTML(open(\"style/iwi131.css\", \"r\").read())"
   ]
  },
  {
   "cell_type": "markdown",
   "metadata": {
    "slideshow": {
     "slide_type": "slide"
    }
   },
   "source": [
    "<header class=\"w3-container w3-teal\">\n",
    "<img src=\"images/utfsm.png\" alt=\"\" align=\"left\"/>\n",
    "<img src=\"images/inf.png\" alt=\"\" align=\"right\"/>\n",
    "</header>\n",
    "<br/><br/><br/><br/><br/>\n",
    "# IWI131\n",
    "## Programación de Computadores\n",
    "\n",
    "### Sebastián Flores\n",
    "\n",
    "http://progra.usm.cl/ \n",
    "https://www.github.com/sebastiandres/iwi131\n"
   ]
  },
  {
   "cell_type": "markdown",
   "metadata": {
    "slideshow": {
     "slide_type": "slide"
    }
   },
   "source": [
    "## Última clase\n",
    "\n",
    "* A \n",
    "* B\n",
    "* C\n"
   ]
  },
  {
   "cell_type": "markdown",
   "metadata": {
    "slideshow": {
     "slide_type": "slide"
    }
   },
   "source": [
    "## ¿Qué contenido aprenderemos?\n",
    "\n",
    " * Tipos de datos básicos: Lógicos, enteros, reales y texto.\n",
    " * Expresiones \n",
    " * Entrada y salida de datos"
   ]
  },
  {
   "cell_type": "markdown",
   "metadata": {
    "slideshow": {
     "slide_type": "slide"
    }
   },
   "source": [
    "## ¿Porqué aprenderemos ese contenido?\n",
    "\n",
    "* Datos básicos son utilizados en cada programa en python\n",
    "* Utilización efectiva requiere conocimiento específico.\n"
   ]
  },
  {
   "cell_type": "markdown",
   "metadata": {
    "slideshow": {
     "slide_type": "slide"
    }
   },
   "source": [
    "## Misión de la clase\n",
    "\n",
    "### Problema:\n",
    "Escriba un programa que reciba una temperatura en grados\n",
    "Fahrenheit y entregue como resultado el equivalente en grados\n",
    "Celsius.\n",
    "\n",
    "### Caso de prueba\n",
    "* Temp. en Fahrenheit: 95\n",
    "* El equivalente en Celsius es: 35.0\n"
   ]
  },
  {
   "cell_type": "markdown",
   "metadata": {
    "slideshow": {
     "slide_type": "slide"
    }
   },
   "source": [
    "## Tipos de Datos\n",
    "### Enteros\n",
    "..., -3, -2, -1, 0, 1, 2, 3, ...\n",
    "### Reales\n",
    "..., -3.14, ..., 0.0, ..., 1E-8, ..., 1.0, ..., 1E8, ...   \n",
    "### Lógicos\n",
    "True, False\n",
    "### Texto\n",
    "\"abracadabra\", 'Universidad Técnica Federico Santa Maria', \"etcétera\", ...\n"
   ]
  },
  {
   "cell_type": "markdown",
   "metadata": {
    "slideshow": {
     "slide_type": "slide"
    }
   },
   "source": [
    "## Asignación\n",
    "\n",
    "Corresponencia entre una variable y un valor.\n",
    "\n",
    "### Ejemplos"
   ]
  },
  {
   "cell_type": "code",
   "execution_count": null,
   "metadata": {
    "collapsed": true
   },
   "outputs": [],
   "source": [
    "x = 1\n",
    "x = 1.0\n",
    "x = True\n",
    "x = \"True\""
   ]
  },
  {
   "cell_type": "markdown",
   "metadata": {
    "slideshow": {
     "slide_type": "slide"
    }
   },
   "source": [
    "## Expresión\n",
    "\n",
    "Combinación de valores y operaciones que al ser evaluados entregan un resultado.\n",
    "\n",
    "### Ejemplos"
   ]
  },
  {
   "cell_type": "code",
   "execution_count": null,
   "metadata": {
    "collapsed": true
   },
   "outputs": [],
   "source": [
    "(1.0 + 2.0)*3\n",
    "x = (1+3)/2"
   ]
  },
  {
   "cell_type": "markdown",
   "metadata": {
    "slideshow": {
     "slide_type": "slide"
    }
   },
   "source": [
    "## Tipos de datos lógico\n",
    " * También se le llama booleano, del inglés **boolean**\n",
    " * Se abrevia como **bool**\n",
    " * Sólo hay 2 tipos: **True** y **False**"
   ]
  },
  {
   "cell_type": "code",
   "execution_count": null,
   "metadata": {
    "collapsed": true
   },
   "outputs": [],
   "source": [
    "True"
   ]
  },
  {
   "cell_type": "code",
   "execution_count": null,
   "metadata": {
    "collapsed": true
   },
   "outputs": [],
   "source": [
    "False"
   ]
  },
  {
   "cell_type": "markdown",
   "metadata": {
    "slideshow": {
     "slide_type": "slide"
    }
   },
   "source": [
    "## Operaciones para datos booleanos\n",
    " * **no** : not\n",
    " * **y** : and\n",
    " * **o** : or\n"
   ]
  },
  {
   "cell_type": "code",
   "execution_count": null,
   "metadata": {
    "collapsed": false
   },
   "outputs": [],
   "source": [
    "not True"
   ]
  },
  {
   "cell_type": "code",
   "execution_count": null,
   "metadata": {
    "collapsed": true
   },
   "outputs": [],
   "source": [
    "True and True"
   ]
  },
  {
   "cell_type": "code",
   "execution_count": null,
   "metadata": {
    "collapsed": true
   },
   "outputs": [],
   "source": [
    "True or True"
   ]
  },
  {
   "cell_type": "markdown",
   "metadata": {
    "slideshow": {
     "slide_type": "slide"
    }
   },
   "source": [
    "## Tipo de dato entero \n",
    " * Viene del inglés **integer**\n",
    " * Se abrevia como **int**\n",
    " * Ejemplos"
   ]
  },
  {
   "cell_type": "code",
   "execution_count": null,
   "metadata": {
    "collapsed": false
   },
   "outputs": [],
   "source": [
    "42"
   ]
  },
  {
   "cell_type": "code",
   "execution_count": null,
   "metadata": {
    "collapsed": true
   },
   "outputs": [],
   "source": [
    "12345"
   ]
  },
  {
   "cell_type": "code",
   "execution_count": null,
   "metadata": {
    "collapsed": true
   },
   "outputs": [],
   "source": [
    "100000000000000000000000000000000000000000000000000000000000"
   ]
  },
  {
   "cell_type": "markdown",
   "metadata": {
    "slideshow": {
     "slide_type": "slide"
    }
   },
   "source": [
    "## Operaciones en datos enteros\n",
    "\n",
    "### Operaciones aritméticas: siempre regresan un entero\n",
    " * Suma: +\n",
    " * Resta: -\n",
    " * Multiplicacion: *\n",
    " * División: /\n",
    " * Potenciación: **\n",
    " * Módulo: %"
   ]
  },
  {
   "cell_type": "code",
   "execution_count": null,
   "metadata": {
    "collapsed": false
   },
   "outputs": [],
   "source": [
    "15/4 "
   ]
  },
  {
   "cell_type": "markdown",
   "metadata": {
    "slideshow": {
     "slide_type": "slide"
    }
   },
   "source": [
    "## Operaciones en datos enteros\n",
    "\n",
    "### Comparaciones: siempre regresan un booleano\n",
    "* menor o igual : <=\n",
    "* menor : <\n",
    "* igual : =\n",
    "* distinto : !=\n",
    "* mayor : >\n",
    "* mayor o igual :>="
   ]
  },
  {
   "cell_type": "code",
   "execution_count": null,
   "metadata": {
    "collapsed": false
   },
   "outputs": [],
   "source": [
    "(4+5)!=8"
   ]
  },
  {
   "cell_type": "markdown",
   "metadata": {
    "slideshow": {
     "slide_type": "slide"
    }
   },
   "source": [
    "## Tipo de dato real\n",
    "* Se llama real o flotante\n",
    "* En inglés, **float**\n",
    "* En python: **float**\n"
   ]
  },
  {
   "cell_type": "code",
   "execution_count": null,
   "metadata": {
    "collapsed": false
   },
   "outputs": [],
   "source": [
    "231.45"
   ]
  },
  {
   "cell_type": "code",
   "execution_count": 38,
   "metadata": {
    "collapsed": false
   },
   "outputs": [
    {
     "data": {
      "text/plain": [
       "6.02e+23"
      ]
     },
     "execution_count": 38,
     "metadata": {},
     "output_type": "execute_result"
    }
   ],
   "source": [
    "6.02e23"
   ]
  },
  {
   "cell_type": "markdown",
   "metadata": {
    "collapsed": false,
    "slideshow": {
     "slide_type": "slide"
    }
   },
   "source": [
    "## Operaciones en datos reales\n",
    "\n",
    "### Operaciones aritméticas: siempre regresan un real\n",
    " * Suma: +\n",
    " * Resta: -\n",
    " * Multiplicacion: *\n",
    " * División: /\n",
    " * Potenciación: **\n",
    " * Módulo: %"
   ]
  },
  {
   "cell_type": "code",
   "execution_count": null,
   "metadata": {
    "collapsed": false
   },
   "outputs": [],
   "source": [
    "15./4."
   ]
  },
  {
   "cell_type": "markdown",
   "metadata": {
    "slideshow": {
     "slide_type": "slide"
    }
   },
   "source": [
    "## Operaciones en datos reales\n",
    "\n",
    "### Comparaciones: siempre regresan un booleano\n",
    "* menor o igual : <=\n",
    "* menor : <\n",
    "* igual : =\n",
    "* distinto : !=\n",
    "* mayor : >\n",
    "* mayor o igual :>="
   ]
  },
  {
   "cell_type": "code",
   "execution_count": null,
   "metadata": {
    "collapsed": false
   },
   "outputs": [],
   "source": [
    "300.0 == 3.0E2"
   ]
  },
  {
   "cell_type": "markdown",
   "metadata": {
    "slideshow": {
     "slide_type": "slide"
    }
   },
   "source": [
    "## Tipo de dato texto\n",
    "* Texto (también llamado cadena de texto)\n",
    "* En inglés: **string**\n",
    "* En python: **str**"
   ]
  },
  {
   "cell_type": "code",
   "execution_count": null,
   "metadata": {
    "collapsed": false
   },
   "outputs": [],
   "source": [
    "\"Hola que hace\"\n",
    "'Hola mundo'\n",
    "'''Hmm'''\n",
    "\"\"\"Hey Jude\"\"\""
   ]
  },
  {
   "cell_type": "markdown",
   "metadata": {
    "slideshow": {
     "slide_type": "slide"
    }
   },
   "source": [
    "## Operaciones en cadenas de texto\n",
    "\n",
    "* Concatenacion: +\n",
    "* Auto-concatenación: *\n",
    "* Número de carácteres: len\n",
    "* contención: in"
   ]
  },
  {
   "cell_type": "code",
   "execution_count": 34,
   "metadata": {
    "collapsed": false
   },
   "outputs": [
    {
     "data": {
      "text/plain": [
       "'holamundo'"
      ]
     },
     "execution_count": 34,
     "metadata": {},
     "output_type": "execute_result"
    }
   ],
   "source": [
    "\"hola\" + \"mundo\""
   ]
  },
  {
   "cell_type": "code",
   "execution_count": 35,
   "metadata": {
    "collapsed": false
   },
   "outputs": [
    {
     "data": {
      "text/plain": [
       "'wakawaka'"
      ]
     },
     "execution_count": 35,
     "metadata": {},
     "output_type": "execute_result"
    }
   ],
   "source": [
    "\"waka\" * 2"
   ]
  },
  {
   "cell_type": "code",
   "execution_count": 36,
   "metadata": {
    "collapsed": false
   },
   "outputs": [
    {
     "data": {
      "text/plain": [
       "14"
      ]
     },
     "execution_count": 36,
     "metadata": {},
     "output_type": "execute_result"
    }
   ],
   "source": [
    "len('paralelepipedo')"
   ]
  },
  {
   "cell_type": "code",
   "execution_count": 37,
   "metadata": {
    "collapsed": false
   },
   "outputs": [
    {
     "data": {
      "text/plain": [
       "True"
      ]
     },
     "execution_count": 37,
     "metadata": {},
     "output_type": "execute_result"
    }
   ],
   "source": [
    "\"pollo\" in \"repollo\""
   ]
  },
  {
   "cell_type": "markdown",
   "metadata": {},
   "source": [
    "## Mezclando tipos basicos\n",
    "\n",
    "* Operaciones aritméticas entre int y float : resultado en float\n",
    "* Otras operaciones aritméticas: ¡desaconsejadas!"
   ]
  },
  {
   "cell_type": "code",
   "execution_count": 39,
   "metadata": {
    "collapsed": false
   },
   "outputs": [
    {
     "data": {
      "text/plain": [
       "2.0"
      ]
     },
     "execution_count": 39,
     "metadata": {},
     "output_type": "execute_result"
    }
   ],
   "source": [
    "(1+3)**(0.5)"
   ]
  },
  {
   "cell_type": "code",
   "execution_count": 43,
   "metadata": {
    "collapsed": false
   },
   "outputs": [
    {
     "data": {
      "text/plain": [
       "'hihihihi'"
      ]
     },
     "execution_count": 43,
     "metadata": {},
     "output_type": "execute_result"
    }
   ],
   "source": [
    "\"hi\" * (True + 1) * 2"
   ]
  },
  {
   "cell_type": "markdown",
   "metadata": {
    "slideshow": {
     "slide_type": "slide"
    }
   },
   "source": [
    "## Funciones"
   ]
  },
  {
   "cell_type": "code",
   "execution_count": null,
   "metadata": {
    "collapsed": true
   },
   "outputs": [],
   "source": [
    "# Valor absoluto, para int o float\n",
    "abs(4-5)"
   ]
  },
  {
   "cell_type": "code",
   "execution_count": null,
   "metadata": {
    "collapsed": false
   },
   "outputs": [],
   "source": [
    "# Largo de un string\n",
    "len('otro ejemplo cualquiera')"
   ]
  },
  {
   "cell_type": "code",
   "execution_count": null,
   "metadata": {
    "collapsed": false
   },
   "outputs": [],
   "source": [
    "# Mínimo, máximo,\n",
    "min(3.14, 2.71)\n",
    "max(3.14, 2.71)"
   ]
  },
  {
   "cell_type": "code",
   "execution_count": null,
   "metadata": {
    "collapsed": false
   },
   "outputs": [],
   "source": [
    "# Redondear\n",
    "round(54.5)"
   ]
  },
  {
   "cell_type": "code",
   "execution_count": null,
   "metadata": {
    "collapsed": false
   },
   "outputs": [],
   "source": [
    "# Imprimir en pantalla\n",
    "print(\"Hello!\")"
   ]
  },
  {
   "cell_type": "code",
   "execution_count": null,
   "metadata": {
    "collapsed": false
   },
   "outputs": [],
   "source": [
    "# Tipo de dato\n",
    "type('hey')"
   ]
  },
  {
   "cell_type": "markdown",
   "metadata": {
    "slideshow": {
     "slide_type": "slide"
    }
   },
   "source": [
    "## Entrada de datos\n",
    "\n",
    "Para la entrada de datos, en python 2.7 se utiliza **raw_input**"
   ]
  },
  {
   "cell_type": "code",
   "execution_count": 44,
   "metadata": {
    "collapsed": false
   },
   "outputs": [
    {
     "name": "stdout",
     "output_type": "stream",
     "text": [
      "Ingrese su nombre: Sebastian\n"
     ]
    }
   ],
   "source": [
    "nombre = raw_input('Ingrese su nombre: ')"
   ]
  },
  {
   "cell_type": "code",
   "execution_count": 45,
   "metadata": {
    "collapsed": false
   },
   "outputs": [
    {
     "name": "stdout",
     "output_type": "stream",
     "text": [
      "Ingrese su edad: 18\n"
     ]
    }
   ],
   "source": [
    "edad = raw_input('Ingrese su edad: ')"
   ]
  },
  {
   "cell_type": "code",
   "execution_count": 46,
   "metadata": {
    "collapsed": false
   },
   "outputs": [
    {
     "name": "stdout",
     "output_type": "stream",
     "text": [
      "Ingrese estatura: 1.80\n"
     ]
    }
   ],
   "source": [
    "est = raw_input('Ingrese estatura: ')"
   ]
  },
  {
   "cell_type": "markdown",
   "metadata": {
    "slideshow": {
     "slide_type": "slide"
    }
   },
   "source": [
    "## Entrada de datos\n",
    "\n",
    "* **raw_input** siempre devuelve un string. \n",
    "* Para poder utilizar el valor es necesario convertir al tipo de dato requerido.  "
   ]
  },
  {
   "cell_type": "code",
   "execution_count": 57,
   "metadata": {
    "collapsed": false
   },
   "outputs": [
    {
     "name": "stdout",
     "output_type": "stream",
     "text": [
      "Ingrese su nombre: seb\n",
      "nombre: valor seb , tipo: <type 'str'>\n"
     ]
    }
   ],
   "source": [
    "nombre = raw_input('Ingrese su nombre: ')\n",
    "print(\"nombre: valor {0} , tipo: {1}\".format(nombre, type(nombre)))"
   ]
  },
  {
   "cell_type": "code",
   "execution_count": 56,
   "metadata": {
    "collapsed": false
   },
   "outputs": [
    {
     "name": "stdout",
     "output_type": "stream",
     "text": [
      "Ingrese su edad: 18\n",
      "edad_str: valor 18 , tipo: <type 'str'>\n",
      "edad_str: valor 18 , tipo: <type 'int'>\n"
     ]
    }
   ],
   "source": [
    "edad_str = raw_input('Ingrese su edad: ')\n",
    "edad_int = int(edad_str)\n",
    "print(\"edad_str: valor {0} , tipo: {1}\".format(edad_str, type(edad_str)))\n",
    "print(\"edad_str: valor {0} , tipo: {1}\".format(edad_int, type(edad_int)))"
   ]
  },
  {
   "cell_type": "code",
   "execution_count": 58,
   "metadata": {
    "collapsed": false
   },
   "outputs": [
    {
     "name": "stdout",
     "output_type": "stream",
     "text": [
      "Ingrese su altura [m]: 1.78\n",
      "altura_str: valor 1.78 , tipo: <type 'str'>\n",
      "altura_float: valor 1.78 , tipo: <type 'float'>\n"
     ]
    }
   ],
   "source": [
    "altura_str = raw_input('Ingrese su altura [m]: ')\n",
    "altura_float = float(altura_str)\n",
    "print(\"altura_str: valor {0} , tipo: {1}\".format(altura_str, type(altura_str)))\n",
    "print(\"altura_float: valor {0} , tipo: {1}\".format(altura_float, type(altura_float)))"
   ]
  },
  {
   "cell_type": "markdown",
   "metadata": {
    "slideshow": {
     "slide_type": "slide"
    }
   },
   "source": [
    "## Salida de datos\n",
    "\n",
    "Para imprimir valores en pantalla utilizamos la función **print** "
   ]
  },
  {
   "cell_type": "code",
   "execution_count": null,
   "metadata": {
    "collapsed": false
   },
   "outputs": [],
   "source": [
    "print('Hola mundo')\n",
    "print('Hola', 'mundo' )\n",
    "nombre = 'Perico'\n",
    "print('Hola', nombre )\n",
    "n = 3.3\n",
    "print('El cuadrado de', n, 'es', n ** 2)"
   ]
  },
  {
   "cell_type": "markdown",
   "metadata": {
    "slideshow": {
     "slide_type": "slide"
    }
   },
   "source": [
    "## Problema de prueba\n",
    "\n",
    "\n",
    "### Problema:\n",
    "Escriba un programa que reciba una temperatura en grados\n",
    "Fahrenheit y entregue como resultado el equivalente en grados\n",
    "Celsius.\n",
    "\n",
    "### Caso de prueba\n",
    " * Temp. en Fahrenheit: 95\n",
    " * El equivalente en Celsius es: 35.0"
   ]
  },
  {
   "cell_type": "markdown",
   "metadata": {
    "slideshow": {
     "slide_type": "slide"
    }
   },
   "source": [
    "## Análisis del caso de prueba\n",
    "\n",
    "* Dato de entrada o Input: 95 (int o float)\n",
    "* Dato de salida o Output: String con el resultado de la conversión del input"
   ]
  },
  {
   "cell_type": "markdown",
   "metadata": {
    "slideshow": {
     "slide_type": "slide"
    }
   },
   "source": [
    "## Análisis del caso general\n",
    "\n",
    "* Dato de entrada o Input: T_F (float)\n",
    "* Conversión a Celsius: T_C = (T_F -32) * (5.0 / 9.0)\n",
    "* Dato de salida o Output: String con el resultado de la conversión del input"
   ]
  },
  {
   "cell_type": "code",
   "execution_count": null,
   "metadata": {
    "collapsed": false
   },
   "outputs": [],
   "source": [
    "f = float(raw_input('Temp. en Fahrenheit:'))\n",
    "c = (f - 32.0) * (5.0 / 9.0)\n",
    "print('El equivalente en Celsius es:', c)"
   ]
  }
 ],
 "metadata": {
  "celltoolbar": "Slideshow",
  "kernelspec": {
   "display_name": "Python 2",
   "language": "python",
   "name": "python2"
  },
  "language_info": {
   "codemirror_mode": {
    "name": "ipython",
    "version": 2
   },
   "file_extension": ".py",
   "mimetype": "text/x-python",
   "name": "python",
   "nbconvert_exporter": "python",
   "pygments_lexer": "ipython2",
   "version": "2.7.6"
  }
 },
 "nbformat": 4,
 "nbformat_minor": 0
}
