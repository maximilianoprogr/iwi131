{
 "cells": [
  {
   "cell_type": "code",
   "execution_count": null,
   "metadata": {
    "collapsed": false,
    "slideshow": {
     "slide_type": "skip"
    }
   },
   "outputs": [],
   "source": [
    "# Configuracion para recargar módulos y librerías cada vez \n",
    "%reload_ext autoreload\n",
    "%autoreload 2\n",
    "                                                                                                                                                                                                                                                                                                                                                                                                                                                                                                                                                                                                                                                                                \n",
    "%matplotlib inline\n",
    "                                                                                                                                                                                                                                                                                                                                                                                                                                                                                                                                                                                                                                                                                                                                                                                                                                                                                                                                                                                                                                                                                                                                                                                                                                                                                                                                                                                                                                                                                                                                                                                                                                                                                                                                                                                                                                                                                                                                                                                                                                                                                                                                                                                                                                                                                                                                                                                                                                                                                                                                                                                                                                                                                                                                                                                                                                                                                                                                                                                                                                                                                                                                                                                                                                                                                                                                                                                                                                                                                                                                                                                                                                                                                                                                                                                                                                                                                                                                                                                                                                                                                                                                                                                                                                                                                                                                                                                                                                                                                                                                                                                                                                                                                                                                                                                                                                                                                                                                                                                                                                                                                                                                                                                                                                                                                                                                                                                                                                                                                                                                                                                                                                                                                                                                                                                                                                                                                                                                                                                                                                                                                                                                                                                                                                                                                                                                                                                                                                                                                                                                                                                                                                                                                                                                                                                                                                                                                                                                                                                                                                                                                                                                                                                                                                                                                                                                                                                                                                                                                                                                                                                                                                                                                                                                                                                                                                                                                                                                                                                                                                                                                                                                                                                                                                                                                                                                                                                                                                                                                                                                                                                                                                                                                                                                                                                                                                                                                                                                                                                                                                                                                                                                                                                                                                                                                                                                                                                                                                                                                                                                                                                                                                                                                                                                                                                                                                                                                                                                                                                                                                                                                                                                                                                                                                                                                                                                                                                                                                                                                            \n",
    "from IPython.core.display import HTML\n",
    "\n",
    "HTML(open(\"style/iwi131.css\", \"r\").read())"
   ]
  },
  {
   "cell_type": "markdown",
   "metadata": {
    "slideshow": {
     "slide_type": "slide"
    }
   },
   "source": [
    "<header class=\"w3-container w3-teal\">\n",
    "<img src=\"images/utfsm.png\" alt=\"\" align=\"left\"/>\n",
    "<img src=\"images/inf.png\" alt=\"\" align=\"right\"/>\n",
    "</header>\n",
    "<br/><br/><br/><br/><br/>\n",
    "# IWI131\n",
    "## Programación de Computadores\n",
    "\n",
    "### Sebastián Flores\n",
    "http://progra.usm.cl/ \n",
    "\n",
    "https://www.github.com/sebastiandres/iwi131"
   ]
  },
  {
   "cell_type": "markdown",
   "metadata": {
    "slideshow": {
     "slide_type": "slide"
    }
   },
   "source": [
    "## Última clase\n",
    "\n",
    "* Diagrama de Flujo\n",
    "* Actividad 1"
   ]
  },
  {
   "cell_type": "markdown",
   "metadata": {
    "slideshow": {
     "slide_type": "slide"
    }
   },
   "source": [
    "## ¿Qué contenido aprenderemos?\n",
    "\n",
    " * Asignaciones y expresiones \n",
    " * Entrada y salida de datos\n",
    " * Tipos de datos básicos"
   ]
  },
  {
   "cell_type": "markdown",
   "metadata": {
    "slideshow": {
     "slide_type": "slide"
    }
   },
   "source": [
    "## ¿Porqué aprenderemos ese contenido?\n",
    "* Interacción con programa requiere ingresar datos, realizar cálculos y regresar una solución.\n",
    "* Para programar necesitamos conocer **extremadamente bien** los tipos de datos básicos.\n",
    "* Con la clase de hoy ya podremos hacer programas **útiles** que calculan cosas. "
   ]
  },
  {
   "cell_type": "markdown",
   "metadata": {
    "slideshow": {
     "slide_type": "slide"
    }
   },
   "source": [
    "## Misión de la clase\n",
    "\n",
    "### Problema:\n",
    "Escriba un programa que reciba una temperatura en grados\n",
    "Fahrenheit y entregue como resultado el equivalente en grados\n",
    "Celsius.\n",
    "\n",
    "### Caso de prueba\n",
    "* Temperatura en Fahrenheit: 95\n",
    "* Temperatura equivalente en Celsius: 35\n"
   ]
  },
  {
   "cell_type": "markdown",
   "metadata": {
    "slideshow": {
     "slide_type": "slide"
    }
   },
   "source": [
    "## Tipos de Datos\n",
    "### Enteros\n",
    "..., -3, -2, -1, 0, 1, 2, 3, ...\n",
    "### Reales\n",
    "..., -3.14, ..., 0.0, ..., 1E-8, ..., 1.0, ..., 1e8, ...   \n",
    "### Lógicos\n",
    "True, False\n",
    "### Texto\n",
    "\"abracadabra\", 'Universidad Técnica Federico Santa Maria', \"etcétera\", ...\n"
   ]
  },
  {
   "cell_type": "markdown",
   "metadata": {
    "slideshow": {
     "slide_type": "slide"
    }
   },
   "source": [
    "# 1-Asignación y Expresión\n",
    "\n",
    "Bloques con los cuales se asignan valores a las variables"
   ]
  },
  {
   "cell_type": "markdown",
   "metadata": {
    "slideshow": {
     "slide_type": "slide"
    }
   },
   "source": [
    "## 1.1 Asignación\n",
    "\n",
    "* Correspondencia entre una variable y un valor.\n",
    "* Nombre de variable siempre en la izquierda. \n",
    "* Valor que toma siempre en la derecha.\n",
    "### Ejemplos"
   ]
  },
  {
   "cell_type": "code",
   "execution_count": null,
   "metadata": {
    "collapsed": true
   },
   "outputs": [],
   "source": [
    "x = 1\n",
    "x = 1.0\n",
    "x = True\n",
    "x = \"True\""
   ]
  },
  {
   "cell_type": "markdown",
   "metadata": {
    "slideshow": {
     "slide_type": "slide"
    }
   },
   "source": [
    "## 1.2 Expresión\n",
    "\n",
    "Combinación de valores y operaciones que al ser evaluados entregan un resultado.\n",
    "\n",
    "### Ejemplos"
   ]
  },
  {
   "cell_type": "code",
   "execution_count": null,
   "metadata": {
    "collapsed": false
   },
   "outputs": [],
   "source": [
    "(1.0 + 2.0)*3"
   ]
  },
  {
   "cell_type": "code",
   "execution_count": null,
   "metadata": {
    "collapsed": false
   },
   "outputs": [],
   "source": [
    "(100>0) and (1/3<1/2)"
   ]
  },
  {
   "cell_type": "markdown",
   "metadata": {
    "slideshow": {
     "slide_type": "slide"
    }
   },
   "source": [
    "## Asignación\n",
    "\n",
    "Típicamente la asignación de valores toma 2 formas:\n",
    "* Inicialización:"
   ]
  },
  {
   "cell_type": "code",
   "execution_count": null,
   "metadata": {
    "collapsed": false
   },
   "outputs": [],
   "source": [
    "a = 3\n",
    "b = 4"
   ]
  },
  {
   "cell_type": "markdown",
   "metadata": {
    "collapsed": false
   },
   "source": [
    "* Cálculo de expresión y luego asignación:"
   ]
  },
  {
   "cell_type": "code",
   "execution_count": null,
   "metadata": {
    "collapsed": false
   },
   "outputs": [],
   "source": [
    "c = (a**2 + b**2)**0.5"
   ]
  },
  {
   "cell_type": "code",
   "execution_count": null,
   "metadata": {
    "collapsed": false
   },
   "outputs": [],
   "source": [
    "peri = a + b + c"
   ]
  },
  {
   "cell_type": "markdown",
   "metadata": {
    "slideshow": {
     "slide_type": "slide"
    }
   },
   "source": [
    "## Asignación\n",
    "¿Que valores tienen a, b y c al final del programa?\n"
   ]
  },
  {
   "cell_type": "code",
   "execution_count": null,
   "metadata": {
    "collapsed": false
   },
   "outputs": [],
   "source": [
    "a = 1\n",
    "b = a\n",
    "c = a + b\n",
    "a = c\n",
    "print a, b, c"
   ]
  },
  {
   "cell_type": "markdown",
   "metadata": {
    "slideshow": {
     "slide_type": "slide"
    }
   },
   "source": [
    "# 2- Input y Output\n",
    "* Entrada de datos\n",
    "* Salida de datos\n"
   ]
  },
  {
   "cell_type": "markdown",
   "metadata": {
    "slideshow": {
     "slide_type": "slide"
    }
   },
   "source": [
    "## 2.1 Entrada de datos\n",
    "* Utilizar la función **raw_input(texto)** para imprimir el **texto** en pantalla y esperar que el usuario ingrese un valor.\n",
    "* La función **raw_input** siempre devuelve un string. \n",
    "* Para poder utilizar el valor es necesario convertir al tipo de dato requerido."
   ]
  },
  {
   "cell_type": "code",
   "execution_count": null,
   "metadata": {
    "collapsed": false,
    "slideshow": {
     "slide_type": "fragment"
    }
   },
   "outputs": [],
   "source": [
    "nombre = raw_input(\"Ingrese su nombre: \")\n",
    "edad = int(raw_input(\"Ingrese su edad [años]: \"))\n",
    "altura = float(raw_input(\"Ingrese su peso [kg]: \"))"
   ]
  },
  {
   "cell_type": "markdown",
   "metadata": {
    "slideshow": {
     "slide_type": "slide"
    }
   },
   "source": [
    "## 2.2 Salida de datos\n",
    "\n",
    "* Para imprimir valores en pantalla utilizamos la función **print**.\n",
    "* La función **print** acepta cualquier tipo básico\n",
    "* Es posible incluso encadenar datos conocidos utilizando la coma"
   ]
  },
  {
   "cell_type": "code",
   "execution_count": null,
   "metadata": {
    "collapsed": false
   },
   "outputs": [],
   "source": [
    "print nombre\n",
    "print edad\n",
    "print altura\n",
    "print nombre, edad, altura\n",
    "print \"Hola\", nombre, \"tienes\", edad, \"años y mides\", altura , \"metros\""
   ]
  },
  {
   "cell_type": "markdown",
   "metadata": {
    "slideshow": {
     "slide_type": "slide"
    }
   },
   "source": [
    "## Ejemplo con entrada y salida de datos\n",
    "Preguntar el lado de un cuadrado y calcular el perímetro."
   ]
  },
  {
   "cell_type": "code",
   "execution_count": null,
   "metadata": {
    "collapsed": false
   },
   "outputs": [],
   "source": [
    "# Entrada de datos\n",
    "a = raw_input(\"Ingrese el lado de un cuadrado: \")\n",
    "# Cálculo de la respuesta\n",
    "perimetro = a*4\n",
    "# Salida de datos\n",
    "print \"El cuadrado de lado \", a, \"tiene perimetro\", perimetro "
   ]
  },
  {
   "cell_type": "markdown",
   "metadata": {
    "slideshow": {
     "slide_type": "slide"
    }
   },
   "source": [
    "# 3- Tipos de Datos\n",
    " * Enteros\n",
    " * Flotantes\n",
    " * Booleanos\n",
    " * Cadenas de Texto"
   ]
  },
  {
   "cell_type": "markdown",
   "metadata": {
    "slideshow": {
     "slide_type": "slide"
    }
   },
   "source": [
    "## 3.1- Tipo de dato entero \n",
    " * Viene del inglés **integer**\n",
    " * Se abrevia como **int**\n",
    " * Ejemplos"
   ]
  },
  {
   "cell_type": "code",
   "execution_count": null,
   "metadata": {
    "collapsed": false
   },
   "outputs": [],
   "source": [
    "42"
   ]
  },
  {
   "cell_type": "code",
   "execution_count": null,
   "metadata": {
    "collapsed": true
   },
   "outputs": [],
   "source": [
    "12345"
   ]
  },
  {
   "cell_type": "code",
   "execution_count": null,
   "metadata": {
    "collapsed": true
   },
   "outputs": [],
   "source": [
    "100000000000000000000000000000000000000000000000000000000000"
   ]
  },
  {
   "cell_type": "markdown",
   "metadata": {
    "slideshow": {
     "slide_type": "slide"
    }
   },
   "source": [
    "#### 3.1 Int\n",
    "## Operaciones en datos enteros\n",
    "\n",
    "Operaciones aritméticas: **siempre regresan un entero**\n",
    " * Suma: +\n",
    " * Resta: -\n",
    " * Multiplicacion: *\n",
    " * División: /\n",
    " * Potenciación: **\n",
    " * Módulo: %"
   ]
  },
  {
   "cell_type": "code",
   "execution_count": null,
   "metadata": {
    "collapsed": false
   },
   "outputs": [],
   "source": [
    "print 3+7\n",
    "print 1000000000 - 1000\n",
    "print 10*10\n",
    "print 3/2\n",
    "print 2**2\n",
    "print 19%2"
   ]
  },
  {
   "cell_type": "markdown",
   "metadata": {
    "slideshow": {
     "slide_type": "slide"
    }
   },
   "source": [
    "##  3.2 Tipo de dato real\n",
    "* Se llama real o flotante\n",
    "* En inglés, **float**\n",
    "* En python: **float**\n"
   ]
  },
  {
   "cell_type": "code",
   "execution_count": null,
   "metadata": {
    "collapsed": false
   },
   "outputs": [],
   "source": [
    "231.45"
   ]
  },
  {
   "cell_type": "code",
   "execution_count": null,
   "metadata": {
    "collapsed": false
   },
   "outputs": [],
   "source": [
    "6.02e23"
   ]
  },
  {
   "cell_type": "markdown",
   "metadata": {
    "collapsed": false,
    "slideshow": {
     "slide_type": "slide"
    }
   },
   "source": [
    "#### 3.2 Float\n",
    "## Operaciones en datos reales\n",
    "\n",
    "### Operaciones aritméticas: siempre regresan un real\n",
    " * Suma: +\n",
    " * Resta: -\n",
    " * Multiplicacion: *\n",
    " * División: /\n",
    " * Potenciación: **\n",
    " * Módulo: %"
   ]
  },
  {
   "cell_type": "code",
   "execution_count": null,
   "metadata": {
    "collapsed": false
   },
   "outputs": [],
   "source": [
    "print 10.0 + 1e2\n",
    "print 3.14 - 1e-1\n",
    "print 2.0*1e2\n",
    "print 1e-3/0.01\n",
    "print 1.1e0**2.0\n",
    "print 1.23e1%2.0"
   ]
  },
  {
   "cell_type": "markdown",
   "metadata": {
    "collapsed": false,
    "slideshow": {
     "slide_type": "slide"
    }
   },
   "source": [
    "## OBSERVACION\n",
    "Operaciones aritméticas entre int y float son posibles, pero el resultado siempre será un **float**."
   ]
  },
  {
   "cell_type": "code",
   "execution_count": null,
   "metadata": {
    "collapsed": false
   },
   "outputs": [],
   "source": [
    "print 1 + 1.0, 1.0 + 1\n",
    "print 1 - 1.0, 1.0 - 1\n",
    "print 2*3.0, 2.0*3\n",
    "print 1./2, 1/2.\n",
    "print 2**3.0, 2.0**3\n",
    "print 15%2.0, 15.0%2"
   ]
  },
  {
   "cell_type": "markdown",
   "metadata": {
    "slideshow": {
     "slide_type": "slide"
    }
   },
   "source": [
    "## 3-Tipos de datos lógico\n",
    " * También se le llama booleano, del inglés **boolean**\n",
    " * Se abrevia como **bool**\n",
    " * Sólo hay 2 tipos: **True** y **False**"
   ]
  },
  {
   "cell_type": "markdown",
   "metadata": {
    "slideshow": {
     "slide_type": "slide"
    }
   },
   "source": [
    "#### 3- Bool\n",
    "## Operaciones para datos booleanos\n",
    " * **Negación** : not\n",
    " * **y**: and\n",
    " * **o** : or"
   ]
  },
  {
   "cell_type": "code",
   "execution_count": null,
   "metadata": {
    "collapsed": false
   },
   "outputs": [],
   "source": [
    "print True and True\n",
    "print True and False\n",
    "print False and True\n",
    "print False and False"
   ]
  },
  {
   "cell_type": "code",
   "execution_count": null,
   "metadata": {
    "collapsed": false
   },
   "outputs": [],
   "source": [
    "print True or True\n",
    "print True or False\n",
    "print False or True\n",
    "print False or False"
   ]
  },
  {
   "cell_type": "code",
   "execution_count": null,
   "metadata": {
    "collapsed": false
   },
   "outputs": [],
   "source": [
    "print not True\n",
    "print not False"
   ]
  },
  {
   "cell_type": "markdown",
   "metadata": {
    "slideshow": {
     "slide_type": "slide"
    }
   },
   "source": [
    "## Operaciones en datos enteros\n",
    "\n",
    "### Comparaciones de reales o enteros: siempre regresan un booleano\n",
    "* menor o igual : <=\n",
    "* menor : <\n",
    "* igual : =\n",
    "* distinto : !=\n",
    "* mayor : >\n",
    "* mayor o igual :>="
   ]
  },
  {
   "cell_type": "code",
   "execution_count": null,
   "metadata": {
    "collapsed": false,
    "slideshow": {
     "slide_type": "-"
    }
   },
   "outputs": [],
   "source": [
    "a = 10\n",
    "print 5<=a<20\n",
    "print a==10\n",
    "print a!=1E3\n",
    "print a>0 and a**2<200\n",
    "print a<0 or a>0"
   ]
  },
  {
   "cell_type": "markdown",
   "metadata": {
    "slideshow": {
     "slide_type": "slide"
    }
   },
   "source": [
    "## Tipo de dato texto\n",
    "* Texto (también llamado cadena de texto)\n",
    "* En inglés: **string**\n",
    "* En python: **str**"
   ]
  },
  {
   "cell_type": "code",
   "execution_count": null,
   "metadata": {
    "collapsed": false
   },
   "outputs": [],
   "source": [
    "\"Hola clase\""
   ]
  },
  {
   "cell_type": "code",
   "execution_count": null,
   "metadata": {
    "collapsed": false
   },
   "outputs": [],
   "source": [
    "'Hola mundo'"
   ]
  },
  {
   "cell_type": "code",
   "execution_count": null,
   "metadata": {
    "collapsed": false
   },
   "outputs": [],
   "source": [
    "'''Hmm'''"
   ]
  },
  {
   "cell_type": "code",
   "execution_count": null,
   "metadata": {
    "collapsed": false
   },
   "outputs": [],
   "source": [
    "\"\"\"Hey Jude\"\"\""
   ]
  },
  {
   "cell_type": "markdown",
   "metadata": {
    "slideshow": {
     "slide_type": "slide"
    }
   },
   "source": [
    "## Operaciones en cadenas de texto\n",
    "\n",
    "* Concatenación: str_a **+** str_b\n",
    "  * Regresa un nuevo string concatenando las expresiones str_a y str_b, en ese orden.\n",
    "* Auto-concatenación: str ***** n\n",
    "  * Regresa un nuevo string, contenando n veces el string str.\n",
    "* Número de carácteres: **len**(str)\n",
    "  * Regresa un entero >= 0, con el número de carácteres del string str.\n",
    "* contención: str_a **in** str_b\n",
    "  * Regresa un bool evaluando si el string str_a está completamente contenido en string str_b \n"
   ]
  },
  {
   "cell_type": "code",
   "execution_count": null,
   "metadata": {
    "collapsed": false
   },
   "outputs": [],
   "source": [
    "print \"hola\" + \"mundo\"\n",
    "print \"waka\"*2 + \"eeo\"\n",
    "print len('paralelepipedo')\n",
    "print \"pollo\" in \"repollo\"\n",
    "print \"abcde\" in \"abcdario\""
   ]
  },
  {
   "cell_type": "markdown",
   "metadata": {
    "slideshow": {
     "slide_type": "slide"
    }
   },
   "source": [
    "## Funciones\n",
    "* Valor absoluto: **abs**(x)\n",
    "  * Regresa el valor absoluto de x (entero o flotante)\n",
    "* Minimo: **min**(x,y)\n",
    "  * Regresa el menor valor entre x e y (enteros o flotantes).\n",
    "* Máximo: **max**(x,y)\n",
    "  * Regresa el mayor valor entre x e y (enteros o flotantes).\n",
    "* Redondear: **round**(x)\n",
    "  * Regresa el flotante correspondiente al entero más cercano a x (flotante o entero).\n",
    "* type: **type**(x):\n",
    "  * Regresa el tipo de dato de x (cualquier cosa)."
   ]
  },
  {
   "cell_type": "code",
   "execution_count": null,
   "metadata": {
    "collapsed": false
   },
   "outputs": [],
   "source": [
    "# Valor absoluto, para int o float\n",
    "print abs(4-5), abs(4.0-5)\n",
    "print min(-1,20), min(3.0, 200), min(10,10.0)\n",
    "print max(-1,20), max(1.0, 200), max(10,10.0)\n",
    "print round(1.49), round(1.50), round(1.51)\n",
    "print round(-1.49), round(-1.50), round(-1.51)"
   ]
  },
  {
   "cell_type": "markdown",
   "metadata": {
    "slideshow": {
     "slide_type": "slide"
    }
   },
   "source": [
    "## Preguntas\n",
    "¿Que regresa cada una de las expresiones siguientes?"
   ]
  },
  {
   "cell_type": "code",
   "execution_count": null,
   "metadata": {
    "collapsed": false
   },
   "outputs": [],
   "source": [
    "print type(1)\n",
    "print type(1.0)\n",
    "print type(True)\n",
    "print type(\"True\")\n",
    "print type(float(1))\n",
    "print type(type(1))\n",
    "print type(float(int(bool(str(int(float(int(str(0)))))))))"
   ]
  },
  {
   "cell_type": "markdown",
   "metadata": {
    "slideshow": {
     "slide_type": "slide"
    }
   },
   "source": [
    "## Problema de prueba\n",
    "\n",
    "\n",
    "### Problema:\n",
    "Escriba un programa que reciba una temperatura en grados\n",
    "Fahrenheit y entregue como resultado el equivalente en grados\n",
    "Celsius.\n",
    "\n",
    "### Fórmula de conversión\n",
    "Temperatura en Celsius =  (Temperatura en Fahrenheit - 32) * 5 / 9\n",
    "\n",
    "### Caso de prueba\n",
    " * Temp. en Fahrenheit: 95\n",
    " * El equivalente en Celsius es: 35.0"
   ]
  },
  {
   "cell_type": "markdown",
   "metadata": {
    "slideshow": {
     "slide_type": "slide"
    }
   },
   "source": [
    "## Análisis del caso de prueba\n",
    "\n",
    "* Dato de entrada o Input: \n",
    "  * 95 (int o float)\n",
    "* Dato de salida o Output: \n",
    "  * String con el resultado de la conversión del input"
   ]
  },
  {
   "cell_type": "markdown",
   "metadata": {
    "slideshow": {
     "slide_type": "slide"
    }
   },
   "source": [
    "\n",
    "## Análisis del caso general\n",
    "\n",
    "* Dato de entrada o Input: T_F\n",
    "* Conversión a Celsius: \n",
    "\n",
    "    T_C = (5 / 9) * (T_F -32)\n",
    "\n",
    "o\n",
    "\n",
    "    T_C = (5.0 / 9.0) * (T_F -32) \n",
    "\n",
    "* Dato de salida o Output: String con el resultado de la conversión del input"
   ]
  },
  {
   "cell_type": "markdown",
   "metadata": {
    "slideshow": {
     "slide_type": "slide"
    }
   },
   "source": [
    "## Implementaciones Incorrectas"
   ]
  },
  {
   "cell_type": "code",
   "execution_count": null,
   "metadata": {
    "collapsed": false,
    "slideshow": {
     "slide_type": "-"
    }
   },
   "outputs": [],
   "source": [
    "# Programa de Conversión de Temperatura INCORRECTO\n",
    "f = float(raw_input('Ingrese temperatura en grados Fahrenheit: '))\n",
    "c = 5 / 9 * (f - 32) \n",
    "print 'El equivalente en grados Celsius es: ', c"
   ]
  },
  {
   "cell_type": "code",
   "execution_count": null,
   "metadata": {
    "collapsed": false,
    "slideshow": {
     "slide_type": "-"
    }
   },
   "outputs": [],
   "source": [
    "# Programa de Conversión de Temperatura INCORRECTO\n",
    "f = float(raw_input('Ingrese temperatura en grados Fahrenheit: '))\n",
    "c =  (f - 32) * ( 5 / 9 )\n",
    "print 'El equivalente en grados Celsius es: ', c "
   ]
  },
  {
   "cell_type": "markdown",
   "metadata": {
    "slideshow": {
     "slide_type": "slide"
    }
   },
   "source": [
    "## Implementaciones Correctas"
   ]
  },
  {
   "cell_type": "code",
   "execution_count": null,
   "metadata": {
    "collapsed": false,
    "slideshow": {
     "slide_type": "-"
    }
   },
   "outputs": [],
   "source": [
    "# Programa de Conversión de Temperatura INCORRECTO\n",
    "f = float(raw_input('Ingrese temperatura en grados Fahrenheit:'))\n",
    "c = (f - 32) * 5 / 9 \n",
    "print 'El equivalente en grados Celsius es: ', c "
   ]
  },
  {
   "cell_type": "code",
   "execution_count": null,
   "metadata": {
    "collapsed": false,
    "slideshow": {
     "slide_type": "-"
    }
   },
   "outputs": [],
   "source": [
    "# Programa de Conversión de Temperatura CORRECTO\n",
    "f = float(raw_input('Ingrese temperatura en grados Fahrenheit:'))\n",
    "c = (f - 32.0) * (5.0 / 9.0)\n",
    "print 'El equivalente en grados Celsius es: ', c "
   ]
  }
 ],
 "metadata": {
  "celltoolbar": "Slideshow",
  "kernelspec": {
   "display_name": "Python 2",
   "language": "python",
   "name": "python2"
  },
  "language_info": {
   "codemirror_mode": {
    "name": "ipython",
    "version": 2
   },
   "file_extension": ".py",
   "mimetype": "text/x-python",
   "name": "python",
   "nbconvert_exporter": "python",
   "pygments_lexer": "ipython2",
   "version": "2.7.6"
  }
 },
 "nbformat": 4,
 "nbformat_minor": 0
}
