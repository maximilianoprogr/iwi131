{
 "cells": [
  {
   "cell_type": "code",
   "execution_count": null,
   "metadata": {
    "collapsed": false,
    "slideshow": {
     "slide_type": "skip"
    }
   },
   "outputs": [],
   "source": [
    "#Configuracion para recargar módulos y librerías cada vez \n",
    "%reload_ext autoreload\n",
    "%autoreload 2\n",
    "                                                                                                                                                                                                                                                                                                                                                                                                                                                                                                                                                                                                                                                                                \n",
    "%matplotlib inline\n",
    "                                                                                                                                                                                                                                                                                                                                                                                                                                                                                                                                                                                                                                                                                                                                                                                                                                                                                                                                                                                                                                                                                                                                                                                                                                                                                                                                                                                                                                                                                                                                                                                                                                                                                                                                                                                                                                                                                                                                                                                                                                                                                                                                                                                                                                                                                                                                                                                                                                                                                                                                                                                                                                                                                                                                                                                                                                                                                                                                                                                                                                                                                                                                                                                                                                                                                                                                                                                                                                                                                                                                                                                                                                                                                                                                                                                                                                                                                                                                                                                                                                                                                                                                                                                                                                                                                                                                                                                                                                                                                                                                                                                                                                                                                                                                                                                                                                                                                                                                                                                                                                                                                                                                                                                                                                                                                                                                                                                                                                                                                                                                                                                                                                                                                                                                                                                                                                                                                                                                                                                                                                                                                                                                                                                                                                                                                                                                                                                                                                                                                                                                                                                                                                                                                                                                                                                                                                                                                                                                                                                                                                                                                                                                                                                                                                                                                                                                                                                                                                                                                                                                                                                                                                                                                                                                                                                                                                                                                                                                                                                                                                                                                                                                                                                                                                                                                                                                                                                                                                                                                                                                                                                                                                                                                                                                                                                                                                                                                                                                                                                                                                                                                                                                                                                                                                                                                                                                                                                                                                                                                                                                                                                                                                                                                                                                                                                                                                                                                                                                                                                                                                                                                                                                                                                                                                                                                                                                                                                                                                                                                            \n",
    "from IPython.core.display import HTML\n",
    "\n",
    "HTML(open(\"style/iwi131.css\", \"r\").read())"
   ]
  },
  {
   "cell_type": "markdown",
   "metadata": {
    "slideshow": {
     "slide_type": "slide"
    }
   },
   "source": [
    "<header class=\"w3-container w3-teal\">\n",
    "<img src=\"images/utfsm.png\" alt=\"\" align=\"left\"/>\n",
    "<img src=\"images/inf.png\" alt=\"\" align=\"right\"/>\n",
    "</header>\n",
    "<br/><br/><br/><br/><br/>\n",
    "# IWI131\n",
    "## Programación de Computadores\n",
    "\n",
    "### Sebastián Flores\n",
    "\n",
    "http://progra.usm.cl/ \n",
    "\n",
    "https://www.github.com/sebastiandres/iwi131\n"
   ]
  },
  {
   "cell_type": "markdown",
   "metadata": {
    "slideshow": {
     "slide_type": "slide"
    }
   },
   "source": [
    "## Clase pasada\n",
    "\n",
    "* Asignación y Expresión\n",
    "* Entrada y Salida de Datos\n",
    "* Tipos de Datos"
   ]
  },
  {
   "cell_type": "markdown",
   "metadata": {
    "slideshow": {
     "slide_type": "slide"
    }
   },
   "source": [
    "## ¿Qué contenido aprenderemos hoy?\n",
    "\n",
    "* Trabajar en python\n",
    "* Funciones\n",
    "* Ruteo"
   ]
  },
  {
   "cell_type": "markdown",
   "metadata": {
    "slideshow": {
     "slide_type": "slide"
    }
   },
   "source": [
    "## ¿Por qué aprenderemos ese contenido?\n",
    "\n",
    "* **Trabajar en python**\n",
    "  * Porque ya tienen suficientes herramientas para comenzar a escribir (y tener problemas).\n",
    "* **Funciones**\n",
    "  * Porque permiten reutilizar código, reduciendo el largo de un programa computacional y disminuyendo posibilidad de errores.\n",
    "* **Ruteo**\n",
    "  * Porque para hacer trabajar al computador necesitamos saber como funciona."
   ]
  },
  {
   "cell_type": "markdown",
   "metadata": {
    "slideshow": {
     "slide_type": "slide"
    }
   },
   "source": [
    "## Ejemplo motivador\n",
    "\n",
    "* Calcule el área de circulos con radios: 0.2 [m], 1.0 [m], 42.0 [m]. \n",
    "* Imprima el radio y el área obtenida"
   ]
  },
  {
   "cell_type": "markdown",
   "metadata": {
    "slideshow": {
     "slide_type": "fragment"
    }
   },
   "source": [
    "##### Output deseado:\n",
    "\n",
    "    Circulo de radio 0.2 [m] tiene area 0.1256 [m2]\n",
    "    Circulo de radio 1.0 [m] tiene area 3.14 [m2]\n",
    "    Circulo de radio 42.0 [m] tiene area 5538.96 [m2]"
   ]
  },
  {
   "cell_type": "markdown",
   "metadata": {
    "slideshow": {
     "slide_type": "slide"
    }
   },
   "source": [
    "## Ejemplo motivador\n",
    "\n",
    "* Calcule el área de circulos con radios: 0.2 [m], 1.0 [m], 42.0 [m]. \n",
    "* Imprima el radio y el área obtenida"
   ]
  },
  {
   "cell_type": "code",
   "execution_count": null,
   "metadata": {
    "collapsed": false
   },
   "outputs": [],
   "source": [
    "r = 0.2\n",
    "area = 3.14*r**2\n",
    "print \"Circulo de radio\", r, \"[m] tiene area\", area, \"[m2]\"\n",
    "r = 1.0\n",
    "area = 3.14*r**2\n",
    "print \"Circulo de radio\", r, \"[m] tiene area\", area, \"[m2]\"\n",
    "r = 42.0\n",
    "area = 3.14*r**2\n",
    "print \"Circulo de radio\", r, \"[m] tiene area\", area, \"[m2]\""
   ]
  },
  {
   "cell_type": "markdown",
   "metadata": {
    "slideshow": {
     "slide_type": "fragment"
    }
   },
   "source": [
    "¿Que pasa si necesitamos cambiar el texto? ¿O aumentar la precisión de $\\pi$?"
   ]
  },
  {
   "cell_type": "markdown",
   "metadata": {
    "slideshow": {
     "slide_type": "slide"
    }
   },
   "source": [
    "## Ejemplo motivador\n",
    "\n",
    "* Calcule el área de circulos con radios: 0.2 [m], 1.0 [m], 42.0 [m]. \n",
    "* Imprima el radio y el área obtenida"
   ]
  },
  {
   "cell_type": "code",
   "execution_count": null,
   "metadata": {
    "collapsed": false
   },
   "outputs": [],
   "source": [
    "def area(r):\n",
    "    area = 3.14*r**2\n",
    "    print \"Circulo de radio\", r, \"[m] tiene area\", area, \"[m2]\"\n",
    "    return\n",
    "\n",
    "area(0.2)\n",
    "area(1.0)\n",
    "area(42.0)"
   ]
  },
  {
   "cell_type": "markdown",
   "metadata": {},
   "source": [
    "Las funciones permiten encapsular código, permitiendo **modificarlo** más facilmente y **reutilizarlo**."
   ]
  },
  {
   "cell_type": "markdown",
   "metadata": {
    "collapsed": true,
    "slideshow": {
     "slide_type": "slide"
    }
   },
   "source": [
    "## Funciones\n",
    "\n",
    "Una función (en informática) es una agrupación de acciones. Nada más.\n",
    "\n",
    "Una función (en informática) no es una función matemática: puede regresar más de un valor, puede regresar cualquier tipo de dato o no regresar valores."
   ]
  },
  {
   "cell_type": "code",
   "execution_count": null,
   "metadata": {
    "collapsed": true
   },
   "outputs": [],
   "source": [
    "def f(x):\n",
    "    return"
   ]
  },
  {
   "cell_type": "code",
   "execution_count": null,
   "metadata": {
    "collapsed": false
   },
   "outputs": [],
   "source": [
    "print f(0)"
   ]
  },
  {
   "cell_type": "markdown",
   "metadata": {
    "collapsed": true,
    "slideshow": {
     "slide_type": "slide"
    }
   },
   "source": [
    "## Funciones\n",
    "\n",
    "Una función (en informática) no es una función matemática: \n",
    " * Puede regresar más de un valor o no regresar valores.\n",
    " * Puede regresar cualquier tipo de dato.\n",
    " * Puede llamarse a sí misma o a otras funciones."
   ]
  },
  {
   "cell_type": "code",
   "execution_count": null,
   "metadata": {
    "collapsed": false
   },
   "outputs": [],
   "source": [
    "# Es primo no es una función matematica\n",
    "def es_primo(n):\n",
    "    n_es_primo = all(n%j!=0 for j in range(1,int(n**0.5)))\n",
    "    if n_es_primo:\n",
    "        print n, \"es primo\"\n",
    "    else:\n",
    "        print n, \"no es primo\""
   ]
  },
  {
   "cell_type": "code",
   "execution_count": null,
   "metadata": {
    "collapsed": false
   },
   "outputs": [],
   "source": [
    "es_primo(100)"
   ]
  },
  {
   "cell_type": "markdown",
   "metadata": {
    "slideshow": {
     "slide_type": "slide"
    }
   },
   "source": [
    "## Problema\n",
    "La fuerza de atracción gravitacional entre 2 planetas de masas $m_1$ y $m_2$ separados por una distancia de $r$ kilómetros esta dada por la fórmula:\n",
    "$$F = G \\frac{m_1 m_2}{r^2}$$\n",
    "donde $G=6.67428 \\cdot 10^{-11}$ [m3, kg-1, s-2]. \n",
    "\n",
    "### Problema\n",
    "Escriba una función que pregunte las masas de los planetas y su distancia, y entregue la fuerza de atracción entre ellos. "
   ]
  },
  {
   "cell_type": "code",
   "execution_count": null,
   "metadata": {
    "collapsed": false
   },
   "outputs": [],
   "source": [
    "# constante de gravitacion universal\n",
    "G = 6.67428e-11\n",
    "m1 = float(raw_input('m1 [kg]: '))\n",
    "m2 = float(raw_input('m2 [kg]: '))\n",
    "r = float(raw_input('Distancia [m]: '))\n",
    "F = G * m1 * m2 / (r ** 2)\n",
    "print 'La fuerza de atraccion es', F, \"[N]\""
   ]
  },
  {
   "cell_type": "markdown",
   "metadata": {
    "slideshow": {
     "slide_type": "slide"
    }
   },
   "source": [
    "## Uso de funciones\n",
    "El cálculo de la fuerza de atracción gravitacional puede ser encapsulado en una función, para poder ser utilizado en otras oportunidades y modificar el código en un sólo lugar."
   ]
  },
  {
   "cell_type": "code",
   "execution_count": null,
   "metadata": {
    "collapsed": false
   },
   "outputs": [],
   "source": [
    "def cgu(masa1, masa2, radio):\n",
    "    G = 6.67428e-11\n",
    "    return G * masa1 * masa2 / (radio ** 2)\n",
    "\n",
    "m1 = float(raw_input('m1: '))\n",
    "m2 = float(raw_input('m2: '))\n",
    "r = float(raw_input('Distancia: '))\n",
    "print 'La fuerza de atraccion es', cgu(m1, m2, r)"
   ]
  },
  {
   "cell_type": "markdown",
   "metadata": {
    "slideshow": {
     "slide_type": "slide"
    }
   },
   "source": [
    "#### Funciones\n",
    "## Ejercicio 1 - Promedio\n",
    "\n",
    "Escriba la función **promedio(n1,n2,n3)** que reciba las notas  de los 3 certamenes del ramo y retorne el valor del promedio final.\n",
    "\n",
    "    promedio(100,100,100) # Debería regresar el valor 100\n",
    "    promedio(80, 66, 31) # Debería regresar el valor 59\n",
    "    promedio(0, 0, 0) # Debería regresar el valor 0"
   ]
  },
  {
   "cell_type": "code",
   "execution_count": null,
   "metadata": {
    "collapsed": false
   },
   "outputs": [],
   "source": [
    "def promedio(n1, n2, n3):\n",
    "    return 0\n",
    "\n",
    "print promedio(100,100,100) # Debería regresar 100\n",
    "print promedio(80, 66, 31) # Debería regresar 59\n",
    "print promedio(0, 0, 0) # Debería regresar 0"
   ]
  },
  {
   "cell_type": "markdown",
   "metadata": {
    "slideshow": {
     "slide_type": "slide"
    }
   },
   "source": [
    "#### Funciones\n",
    "## Ejercicio 1 - Promedio\n",
    "\n",
    "Escriba la función **promedio(n1,n2,n3)** que reciba las notas  de los 3 certamenes del ramo y retorne el valor del promedio final.\n",
    "\n",
    "    promedio(100,100,100) # Debería regresar el valor 100\n",
    "    promedio(80, 66, 31) # Debería regresar el valor 59.0\n",
    "    promedio(0, 0, 0) # Debería regresar el valor 0"
   ]
  },
  {
   "cell_type": "code",
   "execution_count": null,
   "metadata": {
    "collapsed": false
   },
   "outputs": [],
   "source": [
    "def promedio(n1, n2, n3):\n",
    "    suma = n1 + n2 + n3\n",
    "    prom = suma/3\n",
    "    return prom\n",
    "\n",
    "print promedio(100,100,100) # Debería regresar 100\n",
    "print promedio(80, 66, 31) # Debería regresar el valor 59\n",
    "print promedio(0, 0, 0) # Debería regresar 0"
   ]
  },
  {
   "cell_type": "markdown",
   "metadata": {
    "slideshow": {
     "slide_type": "fragment"
    }
   },
   "source": [
    "* Siempre hay que probar más casos de los otorgados.\n",
    "* Siempre tener cuidado con la mezcla de int y float"
   ]
  },
  {
   "cell_type": "markdown",
   "metadata": {
    "slideshow": {
     "slide_type": "slide"
    }
   },
   "source": [
    "#### Funciones\n",
    "## Ejercicio 1 - Promedio\n",
    "\n",
    "Escriba la función **promedio(n1,n2,n3)** que reciba las notas  de los 3 certamenes del ramo y retorne el valor del promedio final.\n",
    "\n",
    "    promedio(100,100,100) # Debería regresar el valor 100\n",
    "    promedio(80, 66, 31) # Debería regresar el valor 59\n",
    "    promedio(0, 0, 0) # Debería regresar el valor 0"
   ]
  },
  {
   "cell_type": "code",
   "execution_count": null,
   "metadata": {
    "collapsed": false
   },
   "outputs": [],
   "source": [
    "def promedio(n1, n2, n3):\n",
    "    return (n1 + n2 + n3)/3.0\n",
    "\n",
    "print promedio(100,100,100) # Debería regresar 100\n",
    "print promedio(80, 66, 31) # Debería regresar 59\n",
    "print promedio(0, 0, 0) # Debería regresar 0"
   ]
  },
  {
   "cell_type": "markdown",
   "metadata": {
    "collapsed": true,
    "slideshow": {
     "slide_type": "slide"
    }
   },
   "source": [
    "## Conceptos\n",
    "\n",
    "    def nombre_de_mi_funcion(var_1, var_2, ..., var_n):\n",
    "        # Definicion de parámetros\n",
    "        # Inicializacion de variables\n",
    "        # Calculo de expresiones y valores\n",
    "        return val_1, val_2, ..., val_m\n",
    "* var_1, var_2, ..., var_n son los **argumentos** de la función.       \n",
    "* No es necesario definir que tipo de dato se pasa a la función.\n",
    "* Para entregar al usuario información:\n",
    "  * Imprimir valores con print\n",
    "  * Regresar los valores"
   ]
  },
  {
   "cell_type": "markdown",
   "metadata": {
    "collapsed": true,
    "slideshow": {
     "slide_type": "slide"
    }
   },
   "source": [
    "#### Funciones\n",
    "## Ejemplo"
   ]
  },
  {
   "cell_type": "code",
   "execution_count": null,
   "metadata": {
    "collapsed": true
   },
   "outputs": [],
   "source": [
    "def que_hace(a,b):\n",
    "    print a*b\n",
    "    print a + b"
   ]
  },
  {
   "cell_type": "code",
   "execution_count": null,
   "metadata": {
    "collapsed": false
   },
   "outputs": [],
   "source": [
    "que_hace(1,2)"
   ]
  },
  {
   "cell_type": "markdown",
   "metadata": {
    "slideshow": {
     "slide_type": "slide"
    }
   },
   "source": [
    "#### Funciones\n",
    "## Variables Globales vs Variables Locales\n",
    "Cuando se ejecuta una función, se crea un \"espacio protegido\" en el cual se ejecutan las acciones de la función.\n",
    "* Las variables que existen antes de la ejecución de la función se llaman **variables globales**\n",
    "* Las variables que se pasan a la función o que se crean en el contexto de la función, se llaman **variables locales** (a la función).\n",
    "* Todo lo que no se regrese al final de la función se perderá.\n",
    "* Las variables **locales** desaparecerán luego de la ejecución de la función.\n",
    "* Los tipos básicos que se pasen a la función no se ven alterados por la función\n"
   ]
  },
  {
   "cell_type": "markdown",
   "metadata": {
    "slideshow": {
     "slide_type": "slide"
    }
   },
   "source": [
    "#### Variables Globales vs Variables Locales\n",
    "## Ejemplo\n",
    "¿Que pasa en el siguiente código?"
   ]
  },
  {
   "cell_type": "code",
   "execution_count": 2,
   "metadata": {
    "collapsed": false
   },
   "outputs": [
    {
     "name": "stdout",
     "output_type": "stream",
     "text": [
      "x = 1.0 ; y = hola ; z = 42\n",
      "a = 1.0 ; b = hola ; c = 42\n",
      "a = hola ; b = 42 ; c = True\n",
      "x = 1.0 ; y = hola ; z = 42\n",
      "X = hola ; Y = 42 ; Z = True\n"
     ]
    }
   ],
   "source": [
    "def mi_funcion(a,b,c):\n",
    "    print \"a =\", a, \"; b =\", b, \"; c =\", c\n",
    "    a = b\n",
    "    b = c\n",
    "    c = True\n",
    "    print \"a =\", a, \"; b =\", b, \"; c =\", c\n",
    "    return a, b, c\n",
    "    \n",
    "x = 1.0\n",
    "y = \"hola\"\n",
    "z = 42\n",
    "\n",
    "print \"x =\", x, \"; y =\", y, \"; z =\", z\n",
    "\n",
    "X, Y, Z = mi_funcion(x,y, z)\n",
    "\n",
    "print \"x =\", x, \"; y =\", y, \"; z =\", z\n",
    "print \"X =\", X, \"; Y =\", Y, \"; Z =\", Z\n",
    "#print \"a=\", a, \"; b=\", b, \"; c=\", c"
   ]
  },
  {
   "cell_type": "markdown",
   "metadata": {
    "slideshow": {
     "slide_type": "slide"
    }
   },
   "source": [
    "#### Funciones\n",
    "## Errores comunes\n",
    "\n",
    "* Cuidado con utilizar enteros (**int**) cuando se necesitan reales (**float**).\n",
    "* Cuidado con la diferencia de variables globales y locales.\n",
    "* No utilicen dentro de la función un dato que no haya pasado en los argumentos.\n",
    "* Cuidado con el nombre de la función: que sea distinta a las variables en uso.\n",
    "* Cuidado con mezclar los tipos de datos."
   ]
  },
  {
   "cell_type": "markdown",
   "metadata": {
    "slideshow": {
     "slide_type": "slide"
    }
   },
   "source": [
    "## Ruteo de funciones\n",
    "\n",
    "* El ruteo de funciones corresponde al seguimiento del valor de las variables a lo largo del programa.\n",
    "* Requiere solamente ser meticuloso y seguir el programa paso a paso.\n",
    "* Cada asignación, cálculo o cambio debe anotarse en una nueva línea. \n",
    "* Tener cuidado de la diferencia entre variables globales y variables locales."
   ]
  },
  {
   "cell_type": "markdown",
   "metadata": {
    "slideshow": {
     "slide_type": "slide"
    }
   },
   "source": [
    "## Ejercicio 1 - Ruteo de funciones\n",
    "Realice el ruteo del siguiente código\n",
    "<img src=\"images/ruteo_promedio.png\" alt=\"\" align=\"middle\"/>"
   ]
  },
  {
   "cell_type": "markdown",
   "metadata": {
    "slideshow": {
     "slide_type": "slide"
    }
   },
   "source": [
    "## Ejercicio 2 - Ruteo de código\n",
    "Realice el ruteo del siguiente código:\n",
    "<img src=\"images/ruteo_2funciones.png\" alt=\"\" align=\"middle\"/>"
   ]
  },
  {
   "cell_type": "markdown",
   "metadata": {
    "slideshow": {
     "slide_type": "slide"
    }
   },
   "source": [
    "#### Funciones\n",
    "## Mini-Tarea\n",
    "\n",
    "Realice un programa que calcule el índice de masa corporal:\n",
    "* Peso se ingresa en kilogramos.\n",
    "* Altura se ingresa en centímetros\n",
    "* Realice las conversiones necesarias\n",
    "* Calcule el IMC:\n",
    "$$ IMC = \\frac{peso\\_en\\_kg}{altura\\_en\\_m^2}$$\n",
    "(la fórmula es con altura en metros)."
   ]
  },
  {
   "cell_type": "markdown",
   "metadata": {
    "slideshow": {
     "slide_type": "slide"
    }
   },
   "source": [
    "#### Funciones\n",
    "## Mini-Tarea\n",
    "\n",
    "* Pruebe con su función con 3 ejemplos:\n",
    " 1. Un ejemplo preguntando al usuario los datos con raw_input\n",
    " 2. Dos ejemplos con datos fijos\n",
    "\n",
    "* Realice el ruteo de su función con 1 de sus ejemplos."
   ]
  },
  {
   "cell_type": "markdown",
   "metadata": {
    "slideshow": {
     "slide_type": "slide"
    }
   },
   "source": [
    "#### Funciones\n",
    "## Mini-Tarea\n",
    "\n",
    "* Enviar tarea por correo. \n",
    "* No debería tomar más de 20 minutos. \n",
    "* Revisen contenidos anteriores, googleen, etc., pero **NO copien** y **entiendan cada línea**.\n",
    "\n",
    "Ejemplo:"
   ]
  },
  {
   "cell_type": "code",
   "execution_count": null,
   "metadata": {
    "collapsed": false
   },
   "outputs": [],
   "source": [
    "from iwi131_code.tarea import imc\n",
    "\n",
    "# Casos de estudio\n",
    "imc(65, 165) # Mujer\n",
    "imc(78,178)  # Hombre\n",
    "imc(200,180) # Sumo\n",
    "\n",
    "# Datos del Usuario\n",
    "peso = float(raw_input(\"Ingrese su peso en kg: \"))\n",
    "altura = float(raw_input(\"Ingrese su altura en cm: \"))\n",
    "imc(peso, altura)"
   ]
  }
 ],
 "metadata": {
  "celltoolbar": "Slideshow",
  "kernelspec": {
   "display_name": "Python 2",
   "language": "python",
   "name": "python2"
  },
  "language_info": {
   "codemirror_mode": {
    "name": "ipython",
    "version": 2
   },
   "file_extension": ".py",
   "mimetype": "text/x-python",
   "name": "python",
   "nbconvert_exporter": "python",
   "pygments_lexer": "ipython2",
   "version": "2.7.6"
  }
 },
 "nbformat": 4,
 "nbformat_minor": 0
}
