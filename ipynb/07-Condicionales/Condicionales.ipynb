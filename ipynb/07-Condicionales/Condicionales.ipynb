{
 "cells": [
  {
   "cell_type": "code",
   "execution_count": null,
   "metadata": {
    "collapsed": false,
    "slideshow": {
     "slide_type": "skip"
    }
   },
   "outputs": [],
   "source": [
    "#Configuracion para recargar módulos y librerías cada vez \n",
    "%reload_ext autoreload\n",
    "%autoreload 2\n",
    "\n",
    "from IPython.core.display import HTML\n",
    "\n",
    "HTML(open(\"style/iwi131.css\", \"r\").read())"
   ]
  },
  {
   "cell_type": "markdown",
   "metadata": {
    "slideshow": {
     "slide_type": "slide"
    }
   },
   "source": [
    "<header class=\"w3-container w3-teal\">\n",
    "<img src=\"images/utfsm.png\" alt=\"\" align=\"left\"/>\n",
    "<img src=\"images/inf.png\" alt=\"\" align=\"right\"/>\n",
    "</header>\n",
    "<br/><br/><br/><br/><br/>\n",
    "# IWI131\n",
    "## Programación de Computadores\n",
    "\n",
    "### Sebastián Flores\n",
    "\n",
    "http://progra.usm.cl/ \n",
    "\n",
    "https://www.github.com/sebastiandres/iwi131\n"
   ]
  },
  {
   "cell_type": "markdown",
   "metadata": {
    "slideshow": {
     "slide_type": "slide"
    }
   },
   "source": [
    "## Clase anterior\n",
    "* Funciones\n",
    "* Ruteo\n",
    "* Minitarea"
   ]
  },
  {
   "cell_type": "markdown",
   "metadata": {
    "slideshow": {
     "slide_type": "slide"
    }
   },
   "source": [
    "## Próximamente...\n",
    "* **16 Nov**: Actividad 2.\n",
    "* **20 Nov**: Tarea 1.\n",
    "* **23 Nov**: Certamen 1."
   ]
  },
  {
   "cell_type": "markdown",
   "metadata": {
    "slideshow": {
     "slide_type": "slide"
    }
   },
   "source": [
    "## ¿Qué aprenderemos hoy?\n",
    "\n",
    "Condicionales:\n",
    "* If\n",
    "* If-Else\n",
    "* If-Elif-Else"
   ]
  },
  {
   "cell_type": "markdown",
   "metadata": {
    "slideshow": {
     "slide_type": "slide"
    }
   },
   "source": [
    "## ¿Porqué aprenderemos eso?\n",
    "\n",
    "Condicionales:\n",
    "* If\n",
    "* If-Else\n",
    "* If-Elif-Else\n",
    "\n",
    "Porque resulta natural en un programa ejecutar acciones que dependen de ciertas condiciones. \n",
    "\n",
    "¿Recuerdan la actividad 1?"
   ]
  },
  {
   "cell_type": "markdown",
   "metadata": {
    "slideshow": {
     "slide_type": "slide"
    }
   },
   "source": [
    "## Revisión de la actividad 1\n",
    "En la actividad 1 hay 5 bloques condicionales:\n",
    "<img src=\"images/actividad.png\" width=\"800\" alt=\"\" align=\"middle\"/>"
   ]
  },
  {
   "cell_type": "markdown",
   "metadata": {
    "slideshow": {
     "slide_type": "slide"
    }
   },
   "source": [
    "## 1.1 Sentencia If\n",
    "Escriba un programa que pida al usuario ingresar sus tres notas, calcule el promedio (redondeado a entero)\n",
    "y lo felicite ***solamente*** si su promedio es mayor a 80, pero siempre le indique su promedio.\n",
    "\n",
    "    Nota 1: 45\n",
    "    Nota 2: 78\n",
    "    Nota 3: 68\n",
    "    Su promedio es 64\n",
    "\n",
    "    Nota 1: 79\n",
    "    Nota 2: 91\n",
    "    Nota 3: 74\n",
    "    Felicitaciones!\n",
    "    Su promedio es 81"
   ]
  },
  {
   "cell_type": "markdown",
   "metadata": {
    "slideshow": {
     "slide_type": "slide"
    }
   },
   "source": [
    "## 1.1 Sentencia If\n",
    "Escriba un programa que pida al usuario ingresar sus tres notas, calcule el promedio (redondeado a entero)\n",
    "y lo felicite ***solamente*** si su promedio es mayor a 80, pero siempre le indique su promedio.\n",
    "\n",
    "\n",
    "<img src=\"images/promedio_if.png\" width=\"500\" alt=\"\" align=\"middle\"/>"
   ]
  },
  {
   "cell_type": "markdown",
   "metadata": {
    "slideshow": {
     "slide_type": "slide"
    }
   },
   "source": [
    "## 1.1 Sentencia If\n",
    "Escriba un programa que pida al usuario ingresar sus tres notas, calcule el promedio (redondeado a entero)\n",
    "y lo felicite ***solamente*** si su promedio es mayor a 80, pero siempre le indique su promedio.\n"
   ]
  },
  {
   "cell_type": "code",
   "execution_count": null,
   "metadata": {
    "collapsed": false
   },
   "outputs": [],
   "source": [
    "def prom(n1, n2, n3):\n",
    "    suma = n1 + n2 + n3\n",
    "    return int(round(suma / 3.0))\n",
    "\n",
    "n1 = int(raw_input('Nota 1: '))\n",
    "n2 = int(raw_input('Nota 2: '))\n",
    "n3 = int(raw_input('Nota 3: '))\n",
    "\n",
    "promedio = prom(n1, n2, n3)\n",
    "\n",
    "if promedio > 80:\n",
    "    print 'Felicitaciones!'\n",
    "\n",
    "print 'Su promedio es', promedio"
   ]
  },
  {
   "cell_type": "markdown",
   "metadata": {
    "slideshow": {
     "slide_type": "slide"
    }
   },
   "source": [
    "## 1.2 Sentencia If-Else\n",
    "Escriba un programa que pida al usuario ingresar sus tres notas, calcule el promedio (redondeado a entero)\n",
    "y le indique si reprobó o aprobó.\n",
    "\n",
    "#### Ejemplos\n",
    "    Nota 1: 70\n",
    "    Nota 2: 25\n",
    "    Nota 3: 39\n",
    "    Usted reprobo con 45\n",
    "\n",
    "    Nota 1: 59\n",
    "    Nota 2: 44\n",
    "    Nota 3: 61\n",
    "    Usted aprobo con 55"
   ]
  },
  {
   "cell_type": "markdown",
   "metadata": {
    "slideshow": {
     "slide_type": "slide"
    }
   },
   "source": [
    "## 1.2 Sentencia If-Else\n",
    "Escriba un programa que pida al usuario ingresar sus tres notas, calcule el promedio (redondeado a entero)\n",
    "y le indique si reprobó o aprobó.\n",
    "\n",
    "<img src=\"images/promedio_ifelse.png\" width=\"500\" alt=\"\" align=\"middle\"/>"
   ]
  },
  {
   "cell_type": "markdown",
   "metadata": {
    "slideshow": {
     "slide_type": "slide"
    }
   },
   "source": [
    "## 1.2 Sentencia If-Else\n",
    "Escriba un programa que pida al usuario ingresar sus tres notas, calcule el promedio (redondeado a entero)\n",
    "y le indique si reprobó o aprobó, indicando la nota."
   ]
  },
  {
   "cell_type": "code",
   "execution_count": null,
   "metadata": {
    "collapsed": false
   },
   "outputs": [],
   "source": [
    "# Solucion 1\n",
    "def prom(n1, n2, n3):\n",
    "    suma = n1 + n2 + n3\n",
    "    return int(round(suma / 3.0))\n",
    "\n",
    "n1 = int(raw_input('Nota 1: '))\n",
    "n2 = int(raw_input('Nota 2: '))\n",
    "n3 = int(raw_input('Nota 3: '))\n",
    "\n",
    "promedio = prom(n1, n2, n3)\n",
    "\n",
    "if promedio < 55:\n",
    "    print 'Usted reprobo con', promedio\n",
    "else:\n",
    "    print 'Usted aprobo con', promedio"
   ]
  },
  {
   "cell_type": "markdown",
   "metadata": {
    "slideshow": {
     "slide_type": "slide"
    }
   },
   "source": [
    "## 1.2 Sentencia If-Else\n",
    "Escriba un programa que pida al usuario ingresar sus tres notas, calcule el promedio (redondeado a entero)\n",
    "y le indique si reprobó o aprobó, indicando la nota."
   ]
  },
  {
   "cell_type": "code",
   "execution_count": null,
   "metadata": {
    "collapsed": false
   },
   "outputs": [],
   "source": [
    "# Solucion 2\n",
    "def prom(n1, n2, n3):\n",
    "    suma = n1 + n2 + n3\n",
    "    return int(round(suma / 3.0))\n",
    "\n",
    "n1 = int(raw_input('Nota 1: '))\n",
    "n2 = int(raw_input('Nota 2: '))\n",
    "n3 = int(raw_input('Nota 3: '))\n",
    "\n",
    "promedio = prom(n1, n2, n3)\n",
    "\n",
    "if promedio >= 55:\n",
    "    print 'Usted aprobo con', promedio\n",
    "else:\n",
    "    print 'Usted reprobo con', promedio"
   ]
  },
  {
   "cell_type": "markdown",
   "metadata": {
    "slideshow": {
     "slide_type": "slide"
    }
   },
   "source": [
    "## 1.3 Sentencia If-Elif-Else\n",
    "Escriba un programa que pida al usuario ingresar sus tres notas, e indique si su promedio (redondeado a entero) es pésimo (menor a 30), mediocre (30 a 54), aceptable (55 a 79) o excelente ( mayor o igual a 80).\n",
    "\n",
    "    Nota 1: 32\n",
    "    Nota 2: 89\n",
    "    Nota 3: 91\n",
    "    Su promedio 71 es aceptable\n",
    "\n",
    "    Nota 1: 77\n",
    "    Nota 2: 100\n",
    "    Nota 3: 91\n",
    "    Su promedio 89 es excelente!"
   ]
  },
  {
   "cell_type": "markdown",
   "metadata": {
    "slideshow": {
     "slide_type": "slide"
    }
   },
   "source": [
    "## 1.3 Sentencia If-Elif-Else\n",
    "Escriba un programa que pida al usuario ingresar sus tres notas, e indique si su promedio (redondeado a entero) es pésimo (menor a 30), mediocre (30 a 54), aceptable (55 a 79) o excelente ( mayor o igual a 80).\n",
    "\n",
    "\n",
    "<img src=\"images/promedio_elif.png\" width=\"500\" alt=\"\" align=\"middle\"/>"
   ]
  },
  {
   "cell_type": "markdown",
   "metadata": {
    "slideshow": {
     "slide_type": "slide"
    }
   },
   "source": [
    "## 1.3 Sentencia If-Elif-Else\n",
    "Escriba un programa que pida al usuario ingresar sus tres notas, e indique si su promedio (redondeado a entero) es pésimo (menor a 30), mediocre (30 a 54), aceptable (55 a 79) o excelente ( mayor o igual a 80)."
   ]
  },
  {
   "cell_type": "code",
   "execution_count": null,
   "metadata": {
    "collapsed": false
   },
   "outputs": [],
   "source": [
    "# Solucion 1\n",
    "n1 = int(raw_input('Nota 1: '))\n",
    "n2 = int(raw_input('Nota 2: '))\n",
    "n3 = int(raw_input('Nota 3: '))\n",
    "\n",
    "promedio = prom(n1, n2, n3)\n",
    "\n",
    "print 'Su promedio', promedio, 'es',\n",
    "\n",
    "if promedio < 30:\n",
    "    print 'pesimo'\n",
    "elif promedio < 55:\n",
    "    print 'mediocre'\n",
    "elif promedio < 80:\n",
    "    print 'aceptable'\n",
    "else:\n",
    "    print 'excelente!'"
   ]
  },
  {
   "cell_type": "markdown",
   "metadata": {
    "slideshow": {
     "slide_type": "slide"
    }
   },
   "source": [
    "## 1.3 Sentencia If-Elif-Else\n",
    "Escriba un programa que pida al usuario ingresar sus tres notas, e indique si su promedio (redondeado a entero) es pésimo (menor a 30), mediocre (30 a 54), aceptable (55 a 79) o excelente ( mayor o igual a 80)."
   ]
  },
  {
   "cell_type": "code",
   "execution_count": null,
   "metadata": {
    "collapsed": false
   },
   "outputs": [],
   "source": [
    "# Solucion 2\n",
    "n1 = int(raw_input('Nota 1: '))\n",
    "n2 = int(raw_input('Nota 2: '))\n",
    "n3 = int(raw_input('Nota 3: '))\n",
    "\n",
    "promedio = prom(n1, n2, n3)\n",
    "\n",
    "if promedio >= 80:\n",
    "    print 'Su promedio', promedio, 'es', 'excelente!'\n",
    "elif promedio >= 55:\n",
    "    print 'Su promedio', promedio, 'es', 'aceptable'\n",
    "elif promedio >= 30:\n",
    "    print 'Su promedio', promedio, 'es', 'mediocre'\n",
    "else:\n",
    "    print 'Su promedio', promedio, 'es', 'pesimo'"
   ]
  },
  {
   "cell_type": "markdown",
   "metadata": {
    "collapsed": true,
    "slideshow": {
     "slide_type": "slide"
    }
   },
   "source": [
    "## 2.1 Ejemplo Aerogenerador\n",
    "<img src=\"images/generador_eolico.jpg\" width=\"900\" alt=\"\" align=\"middle\"/>\n"
   ]
  },
  {
   "cell_type": "markdown",
   "metadata": {
    "collapsed": true,
    "slideshow": {
     "slide_type": "slide"
    }
   },
   "source": [
    "## 2.1 Problema del Aerogenerador\n",
    "\n",
    "Un generador eólico convierte la energía cinética del viento en energía eléctrica, lo cual se puede modelar en la siguiente fórmula: \n",
    "$$ W = k \\ \\rho \\ r^2 \\ v^3 $$\n",
    "donde $W$ es la potencia (energía por unidad de tiempo), $k$ es una constante adimensional para cada generador (que tomaremos como 0.8), $\\rho$ es la densidad del aire (que tomaremos como $1.2$ $kg/m^3$), $r$ es el radio de las aspas y $v$ es la velocidad del viento. \n",
    "\n",
    "Sin embargo, el generador se pone en funcionamiento únicamente para velocidades mayores a 3 metros por segundo. Por razones de seguridad, el generador se detiene para velocidades mayores a 25 $m/s^2$. \n",
    "\n",
    "Realice el diagrama de flujo que solicite el radio en metros y velocidad del viento en kilómetros por hora, y entregue la potencia generada en $Watts$ (esto es $kg \\cdot m /s$)."
   ]
  },
  {
   "cell_type": "markdown",
   "metadata": {
    "collapsed": true,
    "slideshow": {
     "slide_type": "slide"
    }
   },
   "source": [
    "## 2.1 Problema del Aerogenerador\n",
    "\n",
    "<img src=\"images/aerogenerador.png\" width=\"500\" alt=\"\" align=\"middle\"/>\n"
   ]
  },
  {
   "cell_type": "markdown",
   "metadata": {
    "collapsed": true,
    "slideshow": {
     "slide_type": "slide"
    }
   },
   "source": [
    "## 2.1 Problema del Aerogenerador\n",
    "\n",
    "Un generador eólico convierte la energía cinética del viento en energía eléctrica, lo cual se puede modelar en la siguiente fórmula: \n",
    "$$ W = k \\ \\rho \\ r^2 \\ v^3 $$\n",
    "donde $W$ es la potencia (energía por unidad de tiempo), $k$ es una constante adimensional para cada generador (que tomaremos como 0.8), $\\rho$ es la densidad del aire (que tomaremos como $1.2$ $kg/m^3$), $r$ es el radio de las aspas y $v$ es la velocidad del viento. \n",
    "\n",
    "Sin embargo, el generador se pone en funcionamiento únicamente para velocidades mayores a 3 metros por segundo. Por razones de seguridad, el generador se detiene para velocidades mayores a 25 $m/s^2$. \n",
    "\n",
    "Realice el diagrama de flujo que solicite el radio en metros y velocidad del viento en kilómetros por hora, y entregue la potencia generada en $Watts$ (esto es $kg \\cdot m /s$)."
   ]
  },
  {
   "cell_type": "code",
   "execution_count": null,
   "metadata": {
    "collapsed": false
   },
   "outputs": [],
   "source": [
    "# Solucion de los alumnos\n",
    "def potencia_aerogenerador(r, v):\n",
    "    # FIX ME\n",
    "    return 0\n",
    "\n",
    "# Leer y convertir a unidades correctas\n",
    "radio = float(raw_input(\"Ingrese radio del aerogenerador en metros: \"))\n",
    "vel = float(raw_input(\"Ingrese velocidad del viendo en km/h: \")) * 1000 / 3600\n",
    "\n",
    "print potencia_aerogenerador(radio, vel)\n"
   ]
  },
  {
   "cell_type": "markdown",
   "metadata": {
    "collapsed": true,
    "slideshow": {
     "slide_type": "slide"
    }
   },
   "source": [
    "## 2.1 Problema del Aerogenerador"
   ]
  },
  {
   "cell_type": "code",
   "execution_count": null,
   "metadata": {
    "collapsed": false
   },
   "outputs": [],
   "source": [
    "# Solucion 1\n",
    "def potencia_aerogenerador(r, v):\n",
    "    k = 0.8\n",
    "    rho = 1.2\n",
    "    P = k * rho * r**2 * v**3\n",
    "    if 3<v<25:\n",
    "        return P\n",
    "    else:\n",
    "        return 0\n",
    "\n",
    "# Leer y convertir a unidades correctas\n",
    "radio = float(raw_input(\"Ingrese radio del aerogenerador en metros: \"))\n",
    "vel = float(raw_input(\"Ingrese velocidad del viendo en km/h: \")) * 1000 / 3600\n",
    "\n",
    "print \"Se tendría una potencia de\", potencia_aerogenerador(radio, vel), \"Watts\""
   ]
  },
  {
   "cell_type": "code",
   "execution_count": null,
   "metadata": {
    "collapsed": false,
    "slideshow": {
     "slide_type": "fragment"
    }
   },
   "outputs": [],
   "source": [
    "# Solucion 2\n",
    "def potencia_aerogenerador(r, v):\n",
    "    k = 0.8\n",
    "    rho = 1.2\n",
    "    P = 0\n",
    "    if 3<v<25:\n",
    "        P = k * rho * r**2 * v**3\n",
    "    return P\n",
    "\n",
    "# Leer y convertir a unidades correctas\n",
    "radio = float(raw_input(\"Ingrese radio del aerogenerador en metros: \"))\n",
    "vel = float(raw_input(\"Ingrese velocidad del viendo en km/h: \")) * 1000 / 3600\n",
    "\n",
    "print \"Se tendría una potencia de\", potencia_aerogenerador(radio, vel), \"Watts\""
   ]
  },
  {
   "cell_type": "markdown",
   "metadata": {
    "collapsed": true,
    "slideshow": {
     "slide_type": "slide"
    }
   },
   "source": [
    "## 2.2 Problema de la Central de Bombeo\n",
    "\n",
    "<img src=\"images/central-de-bombeo.jpg\" width=\"900\" alt=\"\" align=\"middle\"/>"
   ]
  },
  {
   "cell_type": "markdown",
   "metadata": {
    "collapsed": true,
    "slideshow": {
     "slide_type": "slide"
    }
   },
   "source": [
    "## 2.2 Problema de la Central Hidroelectrica de Bombeo\n",
    "\n",
    "Una central hidroeléctica de bombeo tiene 2 modos: puede vaciar el estanque para generar electricidad, o bien, puede bombear el agua y llenar el estanque. La decisión de generar electricidad o llenar el estanque depende del precio de la electricidad y de la capacidad del estanque. Para un estanque determinado, se genera electricidad cuando el precio de electricidad es mayor a 60 USD/MWh y si el embalse se encuentra a más del 10% de su capacidad. Se consumirá electricidad y se bombeará agua al embalse cuando el precio de electricidad sea menor a 60 USD/MWh y el embalse se encuentra a menos del 90% de su capacidad. \n",
    "\n",
    "Realice un diagrama de flujo y un programa que solicite el precio actual de la electricidad y el porcentaje de llenado del estanque, e imprima en pantalla la decisión: “GENERAR”, “BOMBEAR” o “NADA”."
   ]
  },
  {
   "cell_type": "markdown",
   "metadata": {
    "collapsed": true,
    "slideshow": {
     "slide_type": "slide"
    }
   },
   "source": [
    "## 2.2 Problema de la Central Hidroelectrica de Bombeo\n",
    "\n",
    "<img src=\"images/centralbombeo.png\" width=\"600\" alt=\"\" align=\"middle\"/>\n"
   ]
  },
  {
   "cell_type": "markdown",
   "metadata": {
    "collapsed": true,
    "slideshow": {
     "slide_type": "slide"
    }
   },
   "source": [
    "## 2.2 Problema de la Central Hidroelectrica de Bombeo\n",
    "\n",
    "Una central hidroeléctica de bombeo tiene 2 modos: puede vaciar el estanque para generar electricidad, o bien, puede bombear el agua y llenar el estanque. La decisión de generar electricidad o llenar el estanque depende del precio de la electricidad y de la capacidad del estanque. Para un estanque determinado, se genera electricidad cuando el precio de electricidad es mayor a 60 USD/MWh y si el embalse se encuentra a más del 10% de su capacidad. Se consumirá electricidad y se bombeará agua al embalse cuando el precio de electricidad sea menor a 60 USD/MWh y el embalse se encuentra a menos del 90% de su capacidad. \n",
    "\n",
    "Realice un diagrama de flujo que solicite el precio actual de la electricidad y el porcentaje de llenado del estanque, e imprima en pantalla la decisión: “GENERAR”, “BOMBEAR” o “NADA”."
   ]
  },
  {
   "cell_type": "code",
   "execution_count": null,
   "metadata": {
    "collapsed": false
   },
   "outputs": [],
   "source": [
    "# Solución de los alumnos\n",
    "def accion_central(precio, capacidad):\n",
    "    # FIX ME\n",
    "    return\n",
    "\n",
    "p = float(raw_input(\"Ingrese precio de electricidad en USD\"))\n",
    "estanque = float(raw_input(\"Ingrese porcentaje llenado del embalse [0-100]\"))\n",
    "accion_central(p,estanque)"
   ]
  },
  {
   "cell_type": "markdown",
   "metadata": {
    "collapsed": true,
    "slideshow": {
     "slide_type": "slide"
    }
   },
   "source": [
    "## 2.2 Problema de la Central Hidroelectrica de Bombeo"
   ]
  },
  {
   "cell_type": "code",
   "execution_count": null,
   "metadata": {
    "collapsed": false
   },
   "outputs": [],
   "source": [
    "# Solución 1\n",
    "def accion_central(precio, capacidad):\n",
    "    if precio>60:\n",
    "        if capacidad>10:\n",
    "            print \"Generar\"\n",
    "        else:\n",
    "            print \"Nada\"\n",
    "    else:\n",
    "        if capacidad>90:\n",
    "            print \"Nada\"\n",
    "        else:\n",
    "            print \"Bombear\"\n",
    "    return\n",
    "\n",
    "p = float(raw_input(\"Ingrese precio de electricidad en USD\"))\n",
    "estanque = float(raw_input(\"Ingrese porcentaje llenado del embalse [0-100]\"))\n",
    "accion_central(p,estanque)"
   ]
  },
  {
   "cell_type": "markdown",
   "metadata": {
    "slideshow": {
     "slide_type": "slide"
    }
   },
   "source": [
    "## 2.3 Problema del Año Bisiesto\n",
    "Un año es bisiesto si es divisible por 4, excepto si es divisible por 100 y no por 400.\n",
    "Escriba la función **es_bisiesto**(anno) que reciba el año y regrese **True** si el año provisto es bisiesto o **False** si no lo es.\n",
    "\n",
    "    es_bisiesto(1988)\n",
    "    True\n",
    "\n",
    "    es_bisiesto(2011)\n",
    "    False\n",
    "\n",
    "    es_bisiesto(1700)\n",
    "    False\n",
    "\n",
    "    es_bisiesto(2400)\n",
    "    True"
   ]
  },
  {
   "cell_type": "markdown",
   "metadata": {
    "slideshow": {
     "slide_type": "slide"
    }
   },
   "source": [
    "## 2.3 Problema del Año Bisiesto\n",
    "Un año es bisiesto si es divisible por 4, excepto si es divisible por 100 y no por 400."
   ]
  },
  {
   "cell_type": "code",
   "execution_count": null,
   "metadata": {
    "collapsed": false
   },
   "outputs": [],
   "source": [
    "# Solucion de los alumnos\n",
    "def es_bisiesto(anno):\n",
    "    # FIX ME\n",
    "    return False\n",
    "\n",
    "year = int(raw_input(\"Ingrese un año: \"))\n",
    "print es_bisiesto(year)"
   ]
  },
  {
   "cell_type": "markdown",
   "metadata": {
    "slideshow": {
     "slide_type": "slide"
    }
   },
   "source": [
    "## 2.3 Problema del Año Bisiesto"
   ]
  },
  {
   "cell_type": "code",
   "execution_count": null,
   "metadata": {
    "collapsed": false
   },
   "outputs": [],
   "source": [
    "# Solucion 1\n",
    "def es_bisiesto(anno):\n",
    "    if anno % 400 == 0:\n",
    "        bisiesto = True\n",
    "    elif anno % 100 == 0:\n",
    "        bisiesto = False\n",
    "    elif anno % 4 == 0:\n",
    "        bisiesto = True\n",
    "    else:\n",
    "        bisiesto = False\n",
    "    return bisiesto\n",
    "\n",
    "year = int(raw_input(\"Ingrese un año: \"))\n",
    "print es_bisiesto(year)"
   ]
  },
  {
   "cell_type": "code",
   "execution_count": null,
   "metadata": {
    "collapsed": false,
    "slideshow": {
     "slide_type": "fragment"
    }
   },
   "outputs": [],
   "source": [
    "# Solucion 2\n",
    "def es_bisiesto(anno):\n",
    "    if ((anno % 4 == 0 and anno % 100 != 0) or anno % 400 == 0):\n",
    "        bisiesto = True\n",
    "    else:\n",
    "        bisiesto = False\n",
    "    return bisiesto\n",
    "\n",
    "year = int(raw_input(\"Ingrese un año: \"))\n",
    "print es_bisiesto(year)"
   ]
  },
  {
   "cell_type": "code",
   "execution_count": null,
   "metadata": {
    "collapsed": false,
    "slideshow": {
     "slide_type": "fragment"
    }
   },
   "outputs": [],
   "source": [
    "# Solucion 3\n",
    "def es_bisiesto(anno):\n",
    "    return ((anno % 4 == 0 and anno % 100 != 0) or anno % 400 == 0)\n",
    "\n",
    "year = int(raw_input(\"Ingrese un año: \"))\n",
    "print es_bisiesto(year)"
   ]
  }
 ],
 "metadata": {
  "celltoolbar": "Slideshow",
  "kernelspec": {
   "display_name": "Python 2",
   "language": "python",
   "name": "python2"
  },
  "language_info": {
   "codemirror_mode": {
    "name": "ipython",
    "version": 2
   },
   "file_extension": ".py",
   "mimetype": "text/x-python",
   "name": "python",
   "nbconvert_exporter": "python",
   "pygments_lexer": "ipython2",
   "version": "2.7.6"
  }
 },
 "nbformat": 4,
 "nbformat_minor": 0
}
