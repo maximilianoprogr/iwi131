{
 "cells": [
  {
   "cell_type": "code",
   "execution_count": 1,
   "metadata": {
    "collapsed": false,
    "slideshow": {
     "slide_type": "skip"
    }
   },
   "outputs": [
    {
     "data": {
      "text/html": [
       "<style>\n",
       "\n",
       "/*********************************************\n",
       " * COLORS FOR EXAMPLES\n",
       " *********************************************/\n",
       "span.good {color: #008000;}\n",
       "span.warning {color: #808000;}\n",
       "span.bad {color: #800000;}\n",
       "\n",
       "/*********************************************\n",
       " * GLOBAL STYLES\n",
       " *********************************************/\n",
       ".reveal h1 {color: #000000; text-shadow: 0px 0px 6px rgba(0, 0, 0, 0.2);}\n",
       ".reveal h2 {color: #222222; text-shadow: 0px 0px 5px rgba(0, 0, 0, 0.2);}\n",
       ".reveal h3 {color: #444444; text-shadow: 0px 0px 4px rgba(0, 0, 0, 0.2);}\n",
       ".reveal h4 {color: #666666; text-shadow: 0px 0px 3px rgba(0, 0, 0, 0.2);}\n",
       ".reveal h5 {color: #888888; text-shadow: 0px 0px 2px rgba(0, 0, 0, 0.2);}\n",
       ".reveal h6 {color: #AAAAAA; text-shadow: 0px 0px 1px rgba(0, 0, 0, 0.2);}\n",
       "\n",
       "/*********************************************\n",
       " * IMAGES\n",
       " *********************************************/\n",
       ".reveal section img { margin-left:auto; margin-right:auto;}\n",
       "\n",
       "</style>\n"
      ],
      "text/plain": [
       "<IPython.core.display.HTML object>"
      ]
     },
     "execution_count": 1,
     "metadata": {},
     "output_type": "execute_result"
    }
   ],
   "source": [
    "\"\"\"\n",
    "IPython Notebook v4.0 para python 2.7\n",
    "Librerías adicionales: Ninguna.\n",
    "Contenido bajo licencia CC-BY 4.0. Código bajo licencia MIT. (c) Sebastian Flores.\n",
    "\"\"\"\n",
    "\n",
    "# Configuracion para recargar módulos y librerías \n",
    "%reload_ext autoreload\n",
    "%autoreload 2\n",
    "\n",
    "from IPython.core.display import HTML\n",
    "\n",
    "HTML(open(\"style/iwi131.css\", \"r\").read())"
   ]
  },
  {
   "cell_type": "markdown",
   "metadata": {
    "slideshow": {
     "slide_type": "slide"
    }
   },
   "source": [
    "<header class=\"w3-container w3-teal\">\n",
    "<img src=\"images/utfsm.png\" alt=\"\" align=\"left\"/>\n",
    "<img src=\"images/inf.png\" alt=\"\" align=\"right\"/>\n",
    "</header>\n",
    "<br/><br/><br/><br/><br/>\n",
    "# IWI131\n",
    "## Programación de Computadores\n",
    "\n",
    "### Sebastián Flores\n",
    "\n",
    "http://progra.usm.cl/ \n",
    "\n",
    "https://www.github.com/sebastiandres/iwi131\n"
   ]
  },
  {
   "cell_type": "markdown",
   "metadata": {
    "slideshow": {
     "slide_type": "slide"
    }
   },
   "source": [
    "## Clase anterior\n",
    "* Condicionales"
   ]
  },
  {
   "cell_type": "markdown",
   "metadata": {
    "slideshow": {
     "slide_type": "slide"
    }
   },
   "source": [
    "## Próximamente...\n",
    "* **16 Nov**: Actividad 2.\n",
    "* **20 Nov**: Tarea 1.\n",
    "* **23 Nov**: Certamen 1."
   ]
  },
  {
   "cell_type": "markdown",
   "metadata": {
    "slideshow": {
     "slide_type": "slide"
    }
   },
   "source": [
    "## ¿Qué practicaremos hoy?\n",
    "\n",
    "Ejercicios\n",
    "* Diagrama de Flujo\n",
    "* Ruteo de funciones\n",
    "* Funciones y condicionales"
   ]
  },
  {
   "cell_type": "markdown",
   "metadata": {
    "slideshow": {
     "slide_type": "slide"
    }
   },
   "source": [
    "## ¿Porqué aprenderemos eso?\n",
    "\n",
    "Ejercicios\n",
    "* Diagrama de Flujo\n",
    "* Ruteo de funciones\n",
    "* Funciones y condicionales\n",
    "\n",
    "***Practicar para aprender y dominar el material.***"
   ]
  },
  {
   "cell_type": "markdown",
   "metadata": {
    "slideshow": {
     "slide_type": "slide"
    }
   },
   "source": [
    "## Profesor, ¿cómo puedo aprender?\n",
    "\n",
    "* http://progra.usm.cl/Archivos/certamenes/Libro_prograRB.pdf: Libro de programación.\n",
    "* http://pythonya.appspot.com/: Contenido y posibilidad de practicar en línea.\n",
    "\n",
    "## Profesor, ¿cómo puedo practicar?\n",
    "* Instale python y practique con los ejercicios de la clase.\n",
    "* http://progra.usm.cl/apunte/ejercicios/: Guía de ejercicios.\n",
    "* http://progra.usm.cl/certamenes_antiguos.html: Certámenes antiguos."
   ]
  },
  {
   "cell_type": "markdown",
   "metadata": {
    "slideshow": {
     "slide_type": "slide"
    }
   },
   "source": [
    "## Ejercicios\n",
    "* 1 - Ruteo\n",
    "* 2 - Funciones con if-else"
   ]
  },
  {
   "cell_type": "markdown",
   "metadata": {
    "collapsed": true,
    "slideshow": {
     "slide_type": "slide"
    }
   },
   "source": [
    "## 1.1a Ruteo de código simple\n",
    "\n",
    "Realice el ruteo del siguiente código en python"
   ]
  },
  {
   "cell_type": "code",
   "execution_count": 7,
   "metadata": {
    "collapsed": false
   },
   "outputs": [],
   "source": [
    "def mi_funcion(x,y,z):\n",
    "    a = x * y * z\n",
    "    b = x/2 + y/4 + z/8\n",
    "    c = a + b\n",
    "    return c\n",
    "\n",
    "a = 1.0\n",
    "b = 2.0\n",
    "a = mi_funcion(a, b, 3.0)"
   ]
  },
  {
   "cell_type": "markdown",
   "metadata": {
    "collapsed": true,
    "slideshow": {
     "slide_type": "fragment"
    }
   },
   "source": [
    "<table border=\"1\">\n",
    "<tr>\n",
    "<th align=\"center\" colspan=\"3\" width=\"150\">Globales</th> \n",
    "<th colspan=\"6\" width=\"400\">Locales mi_funcion</th>\n",
    "</tr>\n",
    "<tr>\n",
    "<td>a</td><td>b</td><td></td>\n",
    "<td>x</td><td>y</td><td>z</td><td>a</td><td>b</td><td>c</td>\n",
    "</tr>\n",
    "<tr>\n",
    "<td height=\"30\"></td><td></td><td></td>\n",
    "<td></td><td></td><td></td><td></td><td></td><td></td>\n",
    "</tr>\n",
    "<tr>\n",
    "<td height=\"30\"></td><td></td><td></td>\n",
    "<td></td><td></td><td></td><td></td><td></td><td></td>\n",
    "</tr>\n",
    "<tr>\n",
    "<td height=\"30\"></td><td></td><td></td>\n",
    "<td></td><td></td><td></td><td></td><td></td><td></td>\n",
    "</tr>\n",
    "<tr>\n",
    "<td height=\"30\"></td><td></td><td></td>\n",
    "<td></td><td></td><td></td><td></td><td></td><td></td>\n",
    "</tr>\n",
    "<tr>\n",
    "<td height=\"30\"></td><td></td><td></td>\n",
    "<td></td><td></td><td></td><td></td><td></td><td></td>\n",
    "</tr>\n",
    "<tr>\n",
    "<td height=\"30\"></td><td></td><td></td>\n",
    "<td></td><td></td><td></td><td></td><td></td><td></td>\n",
    "</tr>\n",
    "<tr>\n",
    "<td height=\"30\"></td><td></td><td></td>\n",
    "<td></td><td></td><td></td><td></td><td></td><td></td>\n",
    "</tr>\n",
    "<tr>\n",
    "<td height=\"30\"></td><td></td><td></td>\n",
    "<td></td><td></td><td></td><td></td><td></td><td></td>\n",
    "</tr>\n",
    "<tr>\n",
    "<td height=\"30\"></td><td></td><td></td>\n",
    "<td></td><td></td><td></td><td></td><td></td><td></td>\n",
    "</tr>\n",
    "</table>"
   ]
  },
  {
   "cell_type": "markdown",
   "metadata": {
    "collapsed": true,
    "slideshow": {
     "slide_type": "slide"
    }
   },
   "source": [
    "## 1.1b Ruteo de código simple\n",
    "\n",
    "Realice el ruteo del siguiente código en python"
   ]
  },
  {
   "cell_type": "code",
   "execution_count": 10,
   "metadata": {
    "collapsed": false
   },
   "outputs": [],
   "source": [
    "def mi_funcion(x,y,z):\n",
    "    a = x * y * z\n",
    "    b = x/2 + y/4 + z/8\n",
    "    c = a + b\n",
    "    return c\n",
    "\n",
    "a = 1\n",
    "b = 2\n",
    "a = mi_funcion(a, b, 3)"
   ]
  },
  {
   "cell_type": "markdown",
   "metadata": {
    "collapsed": true,
    "slideshow": {
     "slide_type": "fragment"
    }
   },
   "source": [
    "<table border=\"1\">\n",
    "<tr>\n",
    "<th align=\"center\" colspan=\"3\" width=\"150\">Globales</th> \n",
    "<th colspan=\"6\" width=\"400\">Locales mi_funcion</th>\n",
    "</tr>\n",
    "<tr>\n",
    "<td>a</td><td>b</td><td></td>\n",
    "<td>x</td><td>y</td><td>z</td><td>a</td><td>b</td><td>c</td>\n",
    "</tr>\n",
    "<tr>\n",
    "<td height=\"30\"></td><td></td><td></td>\n",
    "<td></td><td></td><td></td><td></td><td></td><td></td>\n",
    "</tr>\n",
    "<tr>\n",
    "<td height=\"30\"></td><td></td><td></td>\n",
    "<td></td><td></td><td></td><td></td><td></td><td></td>\n",
    "</tr>\n",
    "<tr>\n",
    "<td height=\"30\"></td><td></td><td></td>\n",
    "<td></td><td></td><td></td><td></td><td></td><td></td>\n",
    "</tr>\n",
    "<tr>\n",
    "<td height=\"30\"></td><td></td><td></td>\n",
    "<td></td><td></td><td></td><td></td><td></td><td></td>\n",
    "</tr>\n",
    "<tr>\n",
    "<td height=\"30\"></td><td></td><td></td>\n",
    "<td></td><td></td><td></td><td></td><td></td><td></td>\n",
    "</tr>\n",
    "<tr>\n",
    "<td height=\"30\"></td><td></td><td></td>\n",
    "<td></td><td></td><td></td><td></td><td></td><td></td>\n",
    "</tr>\n",
    "<tr>\n",
    "<td height=\"30\"></td><td></td><td></td>\n",
    "<td></td><td></td><td></td><td></td><td></td><td></td>\n",
    "</tr>\n",
    "<tr>\n",
    "<td height=\"30\"></td><td></td><td></td>\n",
    "<td></td><td></td><td></td><td></td><td></td><td></td>\n",
    "</tr>\n",
    "<tr>\n",
    "<td height=\"30\"></td><td></td><td></td>\n",
    "<td></td><td></td><td></td><td></td><td></td><td></td>\n",
    "</tr>\n",
    "</table>"
   ]
  },
  {
   "cell_type": "markdown",
   "metadata": {
    "collapsed": true,
    "slideshow": {
     "slide_type": "slide"
    }
   },
   "source": [
    "## 1.2 Ruteo de código complejo\n",
    "\n",
    "Realice el ruteo del siguiente código en python"
   ]
  },
  {
   "cell_type": "code",
   "execution_count": 11,
   "metadata": {
    "collapsed": false
   },
   "outputs": [
    {
     "name": "stdout",
     "output_type": "stream",
     "text": [
      "6.5\n"
     ]
    }
   ],
   "source": [
    "def f(x, y):\n",
    "    x = int(x)/4 + float(x)/4 + len(y)\n",
    "    return x\n",
    "    \n",
    "def g(a, b):\n",
    "    if a==b:\n",
    "        return a\n",
    "    else:\n",
    "        return a*b\n",
    "    \n",
    "a = \"dos\"\n",
    "b = 2\n",
    "c = f(2.0, g(a,b))"
   ]
  },
  {
   "cell_type": "markdown",
   "metadata": {
    "collapsed": true,
    "slideshow": {
     "slide_type": "fragment"
    }
   },
   "source": [
    "<table border=\"1\">\n",
    "<tr>\n",
    "<th align=\"center\" colspan=\"3\" width=\"300\">Globales</th> \n",
    "<th colspan=\"2\" width=\"200\">Locales f</th>\n",
    "<th colspan=\"2\" width=\"200\">Locales g</th>\n",
    "</tr>\n",
    "<tr>\n",
    "<td>a</td><td>b</td><td>c</td>\n",
    "<td>x</td><td>y</td>\n",
    "<td>a</td><td>b</td>\n",
    "</tr>\n",
    "<tr> <td height=\"30\"></td><td></td><td></td><td></td><td></td><td></td><td></td> </tr>\n",
    "<tr> <td height=\"30\"></td><td></td><td></td><td></td><td></td><td></td><td></td> </tr>\n",
    "<tr> <td height=\"30\"></td><td></td><td></td><td></td><td></td><td></td><td></td> </tr>\n",
    "<tr> <td height=\"30\"></td><td></td><td></td><td></td><td></td><td></td><td></td> </tr>\n",
    "<tr> <td height=\"30\"></td><td></td><td></td><td></td><td></td><td></td><td></td> </tr>\n",
    "<tr> <td height=\"30\"></td><td></td><td></td><td></td><td></td><td></td><td></td> </tr>\n",
    "<tr> <td height=\"30\"></td><td></td><td></td><td></td><td></td><td></td><td></td> </tr>\n",
    "<tr> <td height=\"30\"></td><td></td><td></td><td></td><td></td><td></td><td></td> </tr>\n",
    "<tr> <td height=\"30\"></td><td></td><td></td><td></td><td></td><td></td><td></td> </tr>\n",
    "<tr> <td height=\"30\"></td><td></td><td></td><td></td><td></td><td></td><td></td> </tr>\n",
    "<tr> <td height=\"30\"></td><td></td><td></td><td></td><td></td><td></td><td></td> </tr>\n",
    "</table>"
   ]
  },
  {
   "cell_type": "markdown",
   "metadata": {
    "collapsed": true,
    "slideshow": {
     "slide_type": "slide"
    }
   },
   "source": [
    "## 1.3 Ruteo de código confuso\n",
    "\n",
    "Realice el ruteo del siguiente código en python"
   ]
  },
  {
   "cell_type": "code",
   "execution_count": 13,
   "metadata": {
    "collapsed": false
   },
   "outputs": [
    {
     "name": "stdout",
     "output_type": "stream",
     "text": [
      "1\n"
     ]
    }
   ],
   "source": [
    "def f1(a,b):\n",
    "    return a-b\n",
    "\n",
    "def f2(b,a):\n",
    "    c = f1(a,b)\n",
    "    return c\n",
    "\n",
    "a = 3\n",
    "b = 4\n",
    "print f2(a,b)"
   ]
  },
  {
   "cell_type": "markdown",
   "metadata": {
    "collapsed": true,
    "slideshow": {
     "slide_type": "fragment"
    }
   },
   "source": [
    "<table border=\"1\">\n",
    "<tr>\n",
    "<th align=\"center\" colspan=\"2\" width=\"200\">Globales</th> \n",
    "<th colspan=\"2\" width=\"200\">Locales f1</th>\n",
    "<th colspan=\"3\" width=\"300\">Locales f2</th>\n",
    "</tr>\n",
    "<tr>\n",
    "<td>a</td><td>b</td>\n",
    "<td>a</td><td>b</td>\n",
    "<td>b</td><td>a</td><td>c</td>\n",
    "</tr>\n",
    "<tr> <td height=\"30\"></td><td></td><td></td><td></td><td></td><td></td><td></td> </tr>\n",
    "<tr> <td height=\"30\"></td><td></td><td></td><td></td><td></td><td></td><td></td> </tr>\n",
    "<tr> <td height=\"30\"></td><td></td><td></td><td></td><td></td><td></td><td></td> </tr>\n",
    "<tr> <td height=\"30\"></td><td></td><td></td><td></td><td></td><td></td><td></td> </tr>\n",
    "<tr> <td height=\"30\"></td><td></td><td></td><td></td><td></td><td></td><td></td> </tr>\n",
    "<tr> <td height=\"30\"></td><td></td><td></td><td></td><td></td><td></td><td></td> </tr>\n",
    "<tr> <td height=\"30\"></td><td></td><td></td><td></td><td></td><td></td><td></td> </tr>\n",
    "<tr> <td height=\"30\"></td><td></td><td></td><td></td><td></td><td></td><td></td> </tr>\n",
    "<tr> <td height=\"30\"></td><td></td><td></td><td></td><td></td><td></td><td></td> </tr>\n",
    "<tr> <td height=\"30\"></td><td></td><td></td><td></td><td></td><td></td><td></td> </tr>\n",
    "<tr> <td height=\"30\"></td><td></td><td></td><td></td><td></td><td></td><td></td> </tr>\n",
    "<tr> <td height=\"30\"></td><td></td><td></td><td></td><td></td><td></td><td></td> </tr>\n",
    "</table>"
   ]
  },
  {
   "cell_type": "markdown",
   "metadata": {
    "collapsed": true,
    "slideshow": {
     "slide_type": "slide"
    }
   },
   "source": [
    "## 2.1 Problema de la Central de Bombeo\n",
    "\n",
    "<img src=\"images/central-de-bombeo.jpg\" width=\"900\" alt=\"\" align=\"middle\"/>"
   ]
  },
  {
   "cell_type": "markdown",
   "metadata": {
    "collapsed": true,
    "slideshow": {
     "slide_type": "slide"
    }
   },
   "source": [
    "## 2.1 Problema de la Central Hidroelectrica de Bombeo\n",
    "\n",
    "Una central hidroeléctica de bombeo tiene 2 modos: puede vaciar el estanque para generar electricidad, o bien, puede bombear el agua y llenar el estanque. La decisión de generar electricidad o llenar el estanque depende del precio de la electricidad y de la capacidad del estanque. Para un estanque determinado, se genera electricidad cuando el precio de electricidad es mayor a 60 USD/MWh y si el embalse se encuentra a más del 10% de su capacidad. Se consumirá electricidad y se bombeará agua al embalse cuando el precio de electricidad sea menor a 60 USD/MWh y el embalse se encuentra a menos del 90% de su capacidad. \n",
    "\n",
    "Realice un **diagrama de flujo** y un **programa** que solicite el precio actual de la electricidad y el porcentaje de llenado del estanque, e imprima en pantalla la decisión: “GENERAR”, “BOMBEAR” o “NADA”."
   ]
  },
  {
   "cell_type": "markdown",
   "metadata": {
    "collapsed": true,
    "slideshow": {
     "slide_type": "slide"
    }
   },
   "source": [
    "## 2.1 Problema de la Central Hidroelectrica de Bombeo\n",
    "\n",
    "<img src=\"images/centralbombeo.png\" width=\"600\" alt=\"\" align=\"middle\"/>\n"
   ]
  },
  {
   "cell_type": "markdown",
   "metadata": {
    "collapsed": true,
    "slideshow": {
     "slide_type": "slide"
    }
   },
   "source": [
    "## 2.1 Problema de la Central Hidroelectrica de Bombeo\n",
    "\n",
    "[...] Para un estanque determinado, se genera electricidad cuando el precio de electricidad es mayor a 60 USD/MWh y si el embalse se encuentra a más del 10% de su capacidad. Se consumirá electricidad y se bombeará agua al embalse cuando el precio de electricidad sea menor a 60 USD/MWh y el embalse se encuentra a menos del 90% de su capacidad. \n",
    "\n",
    "Realice un diagrama de flujo que [...] imprima en pantalla la decisión: “GENERAR”, “BOMBEAR” o “NADA”."
   ]
  },
  {
   "cell_type": "code",
   "execution_count": null,
   "metadata": {
    "collapsed": false
   },
   "outputs": [],
   "source": [
    "# Solución de los alumnos\n",
    "def accion_central(precio, capacidad):\n",
    "    # FIX ME\n",
    "    return\n",
    "\n",
    "p = float(raw_input(\"Ingrese precio de electricidad en USD\"))\n",
    "estanque = float(raw_input(\"Ingrese porcentaje llenado del embalse [0-100]\"))\n",
    "accion_central(p,estanque)"
   ]
  },
  {
   "cell_type": "markdown",
   "metadata": {
    "collapsed": true,
    "slideshow": {
     "slide_type": "slide"
    }
   },
   "source": [
    "## 2.1 Central Hidroelectrica de Bombeo v.1"
   ]
  },
  {
   "cell_type": "code",
   "execution_count": 15,
   "metadata": {
    "collapsed": false
   },
   "outputs": [
    {
     "name": "stdout",
     "output_type": "stream",
     "text": [
      "Ingrese precio de electricidad en USD: 60\n",
      "Ingrese porcentaje llenado del embalse [0-100]: 90\n",
      "Bombear\n"
     ]
    }
   ],
   "source": [
    "# Solución 1\n",
    "def accion_central(precio, capacidad):\n",
    "    if precio>60:\n",
    "        if capacidad>10:\n",
    "            print \"Generar\"\n",
    "        else:\n",
    "            print \"Nada\"\n",
    "    else:\n",
    "        if capacidad>90:\n",
    "            print \"Nada\"\n",
    "        else:\n",
    "            print \"Bombear\"\n",
    "    return\n",
    "\n",
    "p = float(raw_input(\"Ingrese precio de electricidad en USD: \"))\n",
    "estanque = float(raw_input(\"Ingrese porcentaje llenado del embalse [0-100]: \"))\n",
    "accion_central(p,estanque)"
   ]
  },
  {
   "cell_type": "markdown",
   "metadata": {
    "collapsed": true,
    "slideshow": {
     "slide_type": "slide"
    }
   },
   "source": [
    "## 2.1 Central Hidroelectrica de Bombeo v.2"
   ]
  },
  {
   "cell_type": "code",
   "execution_count": 16,
   "metadata": {
    "collapsed": false
   },
   "outputs": [
    {
     "name": "stdout",
     "output_type": "stream",
     "text": [
      "Ingrese precio de electricidad en USD: 60\n",
      "Ingrese porcentaje llenado del embalse [0-100]: 90\n",
      "Bombear\n"
     ]
    }
   ],
   "source": [
    "# Solución 2\n",
    "def accion_central(precio, capacidad):\n",
    "    if precio>60 and capacidad>10:\n",
    "        print \"Generar\"\n",
    "    elif precio<=60 and capacidad<=90:\n",
    "        print \"Bombear\"\n",
    "    else:\n",
    "        print \"Nada\"\n",
    "    return\n",
    "\n",
    "p = float(raw_input(\"Ingrese precio de electricidad en USD: \"))\n",
    "estanque = float(raw_input(\"Ingrese porcentaje llenado del embalse [0-100]: \"))\n",
    "accion_central(p,estanque)"
   ]
  },
  {
   "cell_type": "markdown",
   "metadata": {
    "slideshow": {
     "slide_type": "slide"
    }
   },
   "source": [
    "## 2.3 Problema del Año Bisiesto\n",
    "Un año es bisiesto si es divisible por 4, excepto si es divisible por 100 y no por 400.\n",
    "Escriba la función **es_bisiesto**(anno) que reciba el año y regrese **True** si el año provisto es bisiesto o **False** si no lo es.\n",
    "\n",
    "    es_bisiesto(1988)\n",
    "    True\n",
    "\n",
    "    es_bisiesto(2011)\n",
    "    False\n",
    "\n",
    "    es_bisiesto(1700)\n",
    "    False\n",
    "\n",
    "    es_bisiesto(2400)\n",
    "    True"
   ]
  },
  {
   "cell_type": "markdown",
   "metadata": {
    "slideshow": {
     "slide_type": "slide"
    }
   },
   "source": [
    "## 2.3 Problema del Año Bisiesto\n",
    "Un año es bisiesto si es divisible por 4, excepto si es divisible por 100 y no por 400."
   ]
  },
  {
   "cell_type": "code",
   "execution_count": null,
   "metadata": {
    "collapsed": false
   },
   "outputs": [],
   "source": [
    "# Solucion de los alumnos\n",
    "def es_bisiesto(anno):\n",
    "    # FIX ME\n",
    "    return False\n",
    "\n",
    "year = int(raw_input(\"Ingrese un año: \"))\n",
    "print es_bisiesto(year)"
   ]
  },
  {
   "cell_type": "markdown",
   "metadata": {
    "slideshow": {
     "slide_type": "slide"
    }
   },
   "source": [
    "## 2.3 Problema del Año Bisiesto"
   ]
  },
  {
   "cell_type": "code",
   "execution_count": null,
   "metadata": {
    "collapsed": false
   },
   "outputs": [],
   "source": [
    "# Solucion 1\n",
    "def es_bisiesto(anno):\n",
    "    if anno % 400 == 0:\n",
    "        bisiesto = True\n",
    "    elif anno % 100 == 0:\n",
    "        bisiesto = False\n",
    "    elif anno % 4 == 0:\n",
    "        bisiesto = True\n",
    "    else:\n",
    "        bisiesto = False\n",
    "    return bisiesto\n",
    "\n",
    "year = int(raw_input(\"Ingrese un año: \"))\n",
    "print es_bisiesto(year)"
   ]
  },
  {
   "cell_type": "code",
   "execution_count": null,
   "metadata": {
    "collapsed": false,
    "slideshow": {
     "slide_type": "fragment"
    }
   },
   "outputs": [],
   "source": [
    "# Solucion 2\n",
    "def es_bisiesto(anno):\n",
    "    if ((anno % 4 == 0 and anno % 100 != 0) or anno % 400 == 0):\n",
    "        bisiesto = True\n",
    "    else:\n",
    "        bisiesto = False\n",
    "    return bisiesto\n",
    "\n",
    "year = int(raw_input(\"Ingrese un año: \"))\n",
    "print es_bisiesto(year)"
   ]
  },
  {
   "cell_type": "code",
   "execution_count": null,
   "metadata": {
    "collapsed": false,
    "slideshow": {
     "slide_type": "fragment"
    }
   },
   "outputs": [],
   "source": [
    "# Solucion 3\n",
    "def es_bisiesto(anno):\n",
    "    return ((anno % 4 == 0 and anno % 100 != 0) or anno % 400 == 0)\n",
    "\n",
    "year = int(raw_input(\"Ingrese un año: \"))\n",
    "print es_bisiesto(year)"
   ]
  }
 ],
 "metadata": {
  "celltoolbar": "Slideshow",
  "kernelspec": {
   "display_name": "Python 2",
   "language": "python",
   "name": "python2"
  },
  "language_info": {
   "codemirror_mode": {
    "name": "ipython",
    "version": 2
   },
   "file_extension": ".py",
   "mimetype": "text/x-python",
   "name": "python",
   "nbconvert_exporter": "python",
   "pygments_lexer": "ipython2",
   "version": "2.7.6"
  }
 },
 "nbformat": 4,
 "nbformat_minor": 0
}
