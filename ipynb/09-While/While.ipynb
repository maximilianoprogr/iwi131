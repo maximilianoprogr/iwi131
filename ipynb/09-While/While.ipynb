{
 "cells": [
  {
   "cell_type": "code",
   "execution_count": 4,
   "metadata": {
    "collapsed": false,
    "slideshow": {
     "slide_type": "skip"
    }
   },
   "outputs": [
    {
     "data": {
      "text/html": [
       "<style>\n",
       "\n",
       ".reveal {\n",
       "overflow: visible;\n",
       "}\n",
       "\n",
       "/*********************************************\n",
       " * COLORS FOR EXAMPLES\n",
       " *********************************************/\n",
       "em {color: #800000;}\n",
       "span.good {color: #008000;}\n",
       "span.warning {color: #808000;}\n",
       "span.bad {color: #800000;}\n",
       "\n",
       "/*********************************************\n",
       " * GLOBAL STYLES\n",
       " *********************************************/\n",
       ".reveal h1 {color: #000000; text-shadow: 0px 0px 6px rgba(0, 0, 0, 0.2);}\n",
       ".reveal h2 {color: #222222; text-shadow: 0px 0px 5px rgba(0, 0, 0, 0.2);}\n",
       ".reveal h3 {color: #444444; text-shadow: 0px 0px 4px rgba(0, 0, 0, 0.2);}\n",
       ".reveal h4 {color: #666666; text-shadow: 0px 0px 3px rgba(0, 0, 0, 0.2);}\n",
       ".reveal h5 {color: #888888; text-shadow: 0px 0px 2px rgba(0, 0, 0, 0.2);}\n",
       ".reveal h6 {color: #AAAAAA; text-shadow: 0px 0px 1px rgba(0, 0, 0, 0.2);}\n",
       "\n",
       "/*********************************************\n",
       " * IMAGES\n",
       " *********************************************/\n",
       ".reveal section img { margin-left:auto; margin-right:auto;}\n",
       "\n",
       "</style>\n"
      ],
      "text/plain": [
       "<IPython.core.display.HTML object>"
      ]
     },
     "execution_count": 4,
     "metadata": {},
     "output_type": "execute_result"
    }
   ],
   "source": [
    "\"\"\"\n",
    "IPython Notebook v4.0 para python 2.7\n",
    "Librerías adicionales: Ninguna.\n",
    "Contenido bajo licencia CC-BY 4.0. Código bajo licencia MIT. (c) Sebastian Flores.\n",
    "\"\"\"\n",
    "\n",
    "# Configuracion para recargar módulos y librerías \n",
    "%reload_ext autoreload\n",
    "%autoreload 2\n",
    "\n",
    "from IPython.core.display import HTML\n",
    "\n",
    "HTML(open(\"style/iwi131.css\", \"r\").read())"
   ]
  },
  {
   "cell_type": "markdown",
   "metadata": {
    "slideshow": {
     "slide_type": "slide"
    }
   },
   "source": [
    "<header class=\"w3-container w3-teal\">\n",
    "<img src=\"images/utfsm.png\" alt=\"\" align=\"left\"/>\n",
    "<img src=\"images/inf.png\" alt=\"\" align=\"right\"/>\n",
    "</header>\n",
    "<br/><br/><br/><br/><br/>\n",
    "# IWI131\n",
    "## Programación de Computadores\n",
    "\n",
    "### Sebastián Flores\n",
    "\n",
    "http://progra.usm.cl/ \n",
    "\n",
    "https://www.github.com/sebastiandres/iwi131\n"
   ]
  },
  {
   "cell_type": "markdown",
   "metadata": {
    "slideshow": {
     "slide_type": "slide"
    }
   },
   "source": [
    "## Clase anterior\n",
    "* Ejercicios de funciones, ruteo y condicionales.\n",
    "\n",
    "¿Preguntas?"
   ]
  },
  {
   "cell_type": "markdown",
   "metadata": {
    "slideshow": {
     "slide_type": "slide"
    }
   },
   "source": [
    "## Próximamente...\n",
    "* **16 Nov**: Actividad 2.\n",
    "* **20 Nov**: Tarea 1.\n",
    "* **23 Nov**: Certamen 1."
   ]
  },
  {
   "cell_type": "markdown",
   "metadata": {
    "slideshow": {
     "slide_type": "slide"
    }
   },
   "source": [
    "## ¿Qué aprenderemos hoy?\n",
    "\n",
    "* Ciclo **while**"
   ]
  },
  {
   "cell_type": "markdown",
   "metadata": {
    "slideshow": {
     "slide_type": "slide"
    }
   },
   "source": [
    "## ¿Porqué aprenderemos eso?\n",
    "\n",
    "* Ciclo **while**\n",
    "\n",
    "Porque resulta natural en un programa ejecutar acciones de manera repetitiva.\n",
    "\n",
    "¿Recuerdan la actividad 1?"
   ]
  },
  {
   "cell_type": "markdown",
   "metadata": {
    "slideshow": {
     "slide_type": "slide"
    }
   },
   "source": [
    "## Revisión de la actividad 1\n",
    "En la actividad 1 hay 5 bloques condicionales:\n",
    "<img src=\"images/actividad.png\" width=\"600\" alt=\"\" align=\"middle\"/>"
   ]
  },
  {
   "cell_type": "markdown",
   "metadata": {
    "slideshow": {
     "slide_type": "slide"
    }
   },
   "source": [
    "## Promedio v.0\n",
    "Escriba un programa que pida al usuario ingresar sus tres notas, calcule el promedio (redondeado a entero)\n",
    "y lo felicite ***solamente*** si su promedio es mayor a 80, pero siempre le indique su promedio.\n",
    "\n",
    "    Nota 1: 45\n",
    "    Nota 2: 78\n",
    "    Nota 3: 68\n",
    "    Su promedio es 64\n",
    "\n",
    "    Nota 1: 79\n",
    "    Nota 2: 91\n",
    "    Nota 3: 74\n",
    "    Felicitaciones!\n",
    "    Su promedio es 81"
   ]
  },
  {
   "cell_type": "markdown",
   "metadata": {
    "slideshow": {
     "slide_type": "slide"
    }
   },
   "source": [
    "## Promedio v.0\n",
    "Escriba un programa que pida al usuario ingresar sus tres notas, calcule el promedio (redondeado a entero)\n",
    "y lo felicite ***solamente*** si su promedio es mayor a 80, pero siempre le indique su promedio."
   ]
  },
  {
   "cell_type": "code",
   "execution_count": null,
   "metadata": {
    "collapsed": false
   },
   "outputs": [],
   "source": [
    "def prom(n1, n2, n3):\n",
    "    suma = n1 + n2 + n3\n",
    "    return int(round(suma / 3.0))\n",
    "\n",
    "n1 = float(raw_input('Nota 1: '))\n",
    "n2 = float(raw_input('Nota 2: '))\n",
    "n3 = float(raw_input('Nota 3: '))\n",
    "\n",
    "promedio = prom(n1, n2, n3)\n",
    "\n",
    "print 'Su promedio es', promedio\n",
    "\n",
    "if promedio > 80:\n",
    "    print 'Felicitaciones!'"
   ]
  },
  {
   "cell_type": "markdown",
   "metadata": {
    "slideshow": {
     "slide_type": "slide"
    }
   },
   "source": [
    "## Promedio v.1\n",
    "Escriba un programa que pida al usuario ingresar todas sus notas ***hasta obtener un número negativo***, calcule el promedio (redondeado a entero) y le indique su promedio. \n",
    "\n",
    "    Nota: 60\n",
    "    Nota: 100\n",
    "    Nota: -1\n",
    "    El promedio de sus 2 notas es 80\n",
    "    \n",
    "    Nota: 80\n",
    "    Nota: 60\n",
    "    Nota: 70\n",
    "    Nota: 55\n",
    "    Nota: 100\n",
    "    Nota: -10000\n",
    "    El promedio de sus 5 notas es 73"
   ]
  },
  {
   "cell_type": "markdown",
   "metadata": {
    "slideshow": {
     "slide_type": "slide"
    }
   },
   "source": [
    "## Promedio v.1\n",
    "Escriba un programa que pida al usuario ingresar todas sus notas ***hasta obtener un número negativo***, calcule el promedio (redondeado a entero) y le indique su promedio. "
   ]
  },
  {
   "cell_type": "code",
   "execution_count": 9,
   "metadata": {
    "collapsed": false
   },
   "outputs": [
    {
     "name": "stdout",
     "output_type": "stream",
     "text": [
      "Ingrese sus notas para calcular el promedio.\n",
      "Ingrese un valor negativo para detener la ejecucion.\n",
      "Nota: -1\n"
     ]
    },
    {
     "ename": "ZeroDivisionError",
     "evalue": "integer division or modulo by zero",
     "output_type": "error",
     "traceback": [
      "\u001b[1;31m---------------------------------------------------------------------------\u001b[0m",
      "\u001b[1;31mZeroDivisionError\u001b[0m                         Traceback (most recent call last)",
      "\u001b[1;32m<ipython-input-9-063d2ee94a3c>\u001b[0m in \u001b[0;36m<module>\u001b[1;34m()\u001b[0m\n\u001b[0;32m     15\u001b[0m \u001b[1;33m\u001b[0m\u001b[0m\n\u001b[0;32m     16\u001b[0m \u001b[1;31m# Calcular el promedio\u001b[0m\u001b[1;33m\u001b[0m\u001b[1;33m\u001b[0m\u001b[0m\n\u001b[1;32m---> 17\u001b[1;33m \u001b[0mpromedio\u001b[0m \u001b[1;33m=\u001b[0m \u001b[0msuma\u001b[0m \u001b[1;33m/\u001b[0m \u001b[0mn_notas\u001b[0m\u001b[1;33m\u001b[0m\u001b[0m\n\u001b[0m\u001b[0;32m     18\u001b[0m \u001b[0mpromedio_int\u001b[0m \u001b[1;33m=\u001b[0m \u001b[0mint\u001b[0m\u001b[1;33m(\u001b[0m\u001b[0mround\u001b[0m\u001b[1;33m(\u001b[0m\u001b[0mpromedio\u001b[0m\u001b[1;33m)\u001b[0m\u001b[1;33m)\u001b[0m\u001b[1;33m\u001b[0m\u001b[0m\n\u001b[0;32m     19\u001b[0m \u001b[1;32mprint\u001b[0m \u001b[1;34m'El promedio de sus'\u001b[0m\u001b[1;33m,\u001b[0m \u001b[0mn_notas\u001b[0m\u001b[1;33m,\u001b[0m \u001b[1;34m'notas es'\u001b[0m\u001b[1;33m,\u001b[0m \u001b[0mpromedio_int\u001b[0m\u001b[1;33m\u001b[0m\u001b[0m\n",
      "\u001b[1;31mZeroDivisionError\u001b[0m: integer division or modulo by zero"
     ]
    }
   ],
   "source": [
    "# Inicialización\n",
    "suma = 0\n",
    "n_notas = 0\n",
    "# Leer todas las notas\n",
    "print \"Ingrese sus notas para calcular el promedio.\"\n",
    "print \"Ingrese un valor negativo para detener la ejecucion.\"\n",
    "nota = float(raw_input('Nota: '))\n",
    "# Inicio del ciclo while\n",
    "while nota>=0 and nota<=100:\n",
    "    print \"nota es:\", nota\n",
    "    suma += nota  # Shorthand for suma = suma + nota\n",
    "    n_notas += 1  # Shorthand for n_notas = n_notas + 1 \n",
    "    nota = float(raw_input('Nota: '))\n",
    "#Fin de ciclo while\n",
    "    \n",
    "# Calcular el promedio\n",
    "promedio = suma / n_notas\n",
    "promedio_int = int(round(promedio))\n",
    "print 'El promedio de sus', n_notas, 'notas es', promedio_int"
   ]
  },
  {
   "cell_type": "markdown",
   "metadata": {
    "slideshow": {
     "slide_type": "slide"
    }
   },
   "source": [
    "## Promedio v.1\n",
    "\n",
    "* La implementación anterior tiene como problema que sólo sirve si todos los números son positivos.\n",
    "* Cálculo del promedio falla si primer número es negativo."
   ]
  },
  {
   "cell_type": "markdown",
   "metadata": {
    "slideshow": {
     "slide_type": "slide"
    }
   },
   "source": [
    "## Promedio v.2\n",
    "Escriba un programa que ***pida al usuario cuántas notas desea ingresar***, luego le permita ingresar sus notas, calcule el promedio (redondeado a entero) y le indique su promedio. \n",
    "\n",
    "    Numero de Notas: 2\n",
    "    Nota:60\n",
    "    Nota:100\n",
    "    El promedio de sus 2 notas es 80\n",
    "\n",
    "    Numero de Notas: 5\n",
    "    Nota:80\n",
    "    Nota:60\n",
    "    Nota:70\n",
    "    Nota:55\n",
    "    Nota:100\n",
    "    El promedio de sus 5 notas es 73"
   ]
  },
  {
   "cell_type": "markdown",
   "metadata": {
    "slideshow": {
     "slide_type": "slide"
    }
   },
   "source": [
    "## Promedio v.2a\n",
    "Escriba un programa que **pida al usuario cuántas notas desea ingresar**, luego le permita ingresar sus notas, calcule el promedio (redondeado a entero) y le indique su promedio.\n",
    "\n",
    "Utilizando un contador ***incremental***:"
   ]
  },
  {
   "cell_type": "code",
   "execution_count": 12,
   "metadata": {
    "collapsed": false
   },
   "outputs": [
    {
     "name": "stdout",
     "output_type": "stream",
     "text": [
      "Numero de Notas: 0\n"
     ]
    },
    {
     "ename": "ZeroDivisionError",
     "evalue": "integer division or modulo by zero",
     "output_type": "error",
     "traceback": [
      "\u001b[1;31m---------------------------------------------------------------------------\u001b[0m",
      "\u001b[1;31mZeroDivisionError\u001b[0m                         Traceback (most recent call last)",
      "\u001b[1;32m<ipython-input-12-bf2982e780e8>\u001b[0m in \u001b[0;36m<module>\u001b[1;34m()\u001b[0m\n\u001b[0;32m     11\u001b[0m     \u001b[0mj\u001b[0m \u001b[1;33m+=\u001b[0m \u001b[1;36m1\u001b[0m  \u001b[1;31m# Shorthand for j = j + 1\u001b[0m\u001b[1;33m\u001b[0m\u001b[0m\n\u001b[0;32m     12\u001b[0m \u001b[1;31m# Calcular el promedio\u001b[0m\u001b[1;33m\u001b[0m\u001b[1;33m\u001b[0m\u001b[0m\n\u001b[1;32m---> 13\u001b[1;33m \u001b[0mpromedio\u001b[0m \u001b[1;33m=\u001b[0m \u001b[0msuma\u001b[0m \u001b[1;33m/\u001b[0m \u001b[0mn_notas\u001b[0m\u001b[1;33m\u001b[0m\u001b[0m\n\u001b[0m\u001b[0;32m     14\u001b[0m \u001b[0mpromedio_int\u001b[0m \u001b[1;33m=\u001b[0m \u001b[0mint\u001b[0m\u001b[1;33m(\u001b[0m\u001b[0mround\u001b[0m\u001b[1;33m(\u001b[0m\u001b[0mpromedio\u001b[0m\u001b[1;33m)\u001b[0m\u001b[1;33m)\u001b[0m\u001b[1;33m\u001b[0m\u001b[0m\n\u001b[0;32m     15\u001b[0m \u001b[1;32mprint\u001b[0m \u001b[1;34m'El promedio de sus'\u001b[0m\u001b[1;33m,\u001b[0m \u001b[0mn_notas\u001b[0m\u001b[1;33m,\u001b[0m \u001b[1;34m'notas es'\u001b[0m\u001b[1;33m,\u001b[0m \u001b[0mpromedio_int\u001b[0m\u001b[1;33m\u001b[0m\u001b[0m\n",
      "\u001b[1;31mZeroDivisionError\u001b[0m: integer division or modulo by zero"
     ]
    }
   ],
   "source": [
    "# Leer cuantas notas se necesitan promediar y aumentar un contador\n",
    "n_notas = int(raw_input('Numero de Notas: '))\n",
    "# Inicialización\n",
    "suma = 0\n",
    "j = 1\n",
    "# Leer todas las notas\n",
    "while j<=n_notas:\n",
    "    nota = float(raw_input('Nota:'))\n",
    "    suma += nota  \n",
    "    # Shorthand for suma = suma + n \n",
    "    j += 1  # Shorthand for j = j + 1 \n",
    "# Calcular el promedio\n",
    "promedio = suma / n_notas\n",
    "promedio_int = int(round(promedio))\n",
    "print 'El promedio de sus', n_notas, 'notas es', promedio_int"
   ]
  },
  {
   "cell_type": "markdown",
   "metadata": {
    "slideshow": {
     "slide_type": "fragment"
    }
   },
   "source": [
    "#### OBS\n",
    "\n",
    "Podemos inicializar $j=0$ y controlar $j<n_{notas}$ o también $j=1$ y controlar $j<=n_{notas}$."
   ]
  },
  {
   "cell_type": "markdown",
   "metadata": {
    "slideshow": {
     "slide_type": "slide"
    }
   },
   "source": [
    "## Promedio v.2b\n",
    "Escriba un programa que ***pida al usuario cuántas notas desea ingresar***, luego le permita ingresar sus notas, calcule el promedio (redondeado a entero) y le indique su promedio.\n",
    "\n",
    "Utilizando un contador ***decremental***:"
   ]
  },
  {
   "cell_type": "code",
   "execution_count": 15,
   "metadata": {
    "collapsed": false
   },
   "outputs": [
    {
     "name": "stdout",
     "output_type": "stream",
     "text": [
      "Numero de Notas: -10\n",
      "El promedio de sus -10 notas es 0\n"
     ]
    }
   ],
   "source": [
    "# Leer cuantas notas se necesitan promediar y disminuir un contador\n",
    "n_notas = int(raw_input('Numero de Notas: '))\n",
    "# Inicialización\n",
    "suma = 0\n",
    "j = n_notas\n",
    "# Leer todas las notas\n",
    "while j>0:\n",
    "    nota = float(raw_input('Nota:'))\n",
    "    suma += nota  # Shorthand for suma = suma + n \n",
    "    j -= 1  # Shorthand for j = j - 1 \n",
    "# Calcular el promedio\n",
    "promedio = suma / n_notas\n",
    "promedio_int = int(round(promedio))\n",
    "print 'El promedio de sus', n_notas, 'notas es', promedio_int"
   ]
  },
  {
   "cell_type": "markdown",
   "metadata": {
    "slideshow": {
     "slide_type": "slide"
    }
   },
   "source": [
    "## Promedio v.3\n",
    "Escriba un programa que le permita ingresar todas sus notas ***separadas por un espacio***, calcule el promedio (redondeado a entero) y le indique su promedio.\n",
    "\n",
    "    Ingrese notas separadas con espacio\n",
    "    Notas: 100 80 60 40\n",
    "    El promedio de sus 4 notas es 70\n",
    "\n",
    "    Ingrese notas separadas con espacio\n",
    "    Notas: 55 55 40 100 100 100 10 100 100 10 100 10\n",
    "    El promedio de sus 12 notas es 65"
   ]
  },
  {
   "cell_type": "markdown",
   "metadata": {
    "slideshow": {
     "slide_type": "slide"
    }
   },
   "source": [
    "## Promedio v.3\n",
    "Escriba un programa que le permita ingresar todas sus notas ***separadas por un espacio***, calcule el promedio (redondeado a entero) y le indique su promedio.\n",
    "\n",
    "**OBS**: Esto utiliza listas (que no hemos visto todavía)."
   ]
  },
  {
   "cell_type": "code",
   "execution_count": 16,
   "metadata": {
    "collapsed": false
   },
   "outputs": [
    {
     "name": "stdout",
     "output_type": "stream",
     "text": [
      "Ingrese notas separadas con espacio\n",
      "Notas: 55 100 55 100 55 100\n",
      "El promedio de sus 6 notas es 78\n"
     ]
    }
   ],
   "source": [
    "# Leer cuantas notas se necesitan promediar y aumentar un contador\n",
    "print \"Ingrese notas separadas con espacio\"\n",
    "notas_str = raw_input('Notas: ') # string con todas las notas \"100 10 55 100\"\n",
    "notas_list = notas_str.split(\" \") # Crear lista separando por notas espacios\n",
    "n_notas = len(notas_list)\n",
    "suma = 0.0\n",
    "j = 0\n",
    "while j<n_notas:\n",
    "    suma += float(notas_list[j])\n",
    "    j += 1\n",
    "# Calcular el promedio\n",
    "promedio = suma / n_notas\n",
    "promedio_int = int(round(promedio))\n",
    "print 'El promedio de sus', n_notas, 'notas es', promedio_int"
   ]
  },
  {
   "cell_type": "markdown",
   "metadata": {
    "slideshow": {
     "slide_type": "slide"
    }
   },
   "source": [
    "## Problema 1\n",
    "Realice un programa computacional que calcule el factorial de un entero positivo provisto por el usuario.\n",
    "\n",
    "    Ingrese un entero positivo: 3\n",
    "    El factorial de 3 es 6\n",
    "\n",
    "\n",
    "    Ingrese un entero positivo: 4\n",
    "    El factorial de 4 es 24\n",
    "\n",
    "    Ingrese un entero positivo: 5\n",
    "    El factorial de 5 es 120\n",
    "\n",
    "    Ingrese un entero positivo: 20\n",
    "    El factorial de 20 es 2432902008176640000"
   ]
  },
  {
   "cell_type": "markdown",
   "metadata": {
    "slideshow": {
     "slide_type": "slide"
    }
   },
   "source": [
    "## Problema 1 - Solución estudiantes\n",
    "Realice un programa computacional que calcule el factorial de un entero positivo provisto por el usuario."
   ]
  },
  {
   "cell_type": "code",
   "execution_count": 19,
   "metadata": {
    "collapsed": false
   },
   "outputs": [
    {
     "name": "stdout",
     "output_type": "stream",
     "text": [
      "Ingrese un entero positivo: 0\n",
      "El factorial de 0 es 1\n"
     ]
    }
   ],
   "source": [
    "# Solucion estudiantes\n",
    "N = int(raw_input(\"Ingrese un entero positivo: \"))\n",
    "j = 1 # contador\n",
    "N_factorial = 1 # resultado\n",
    "while j<=N:\n",
    "    N_factorial=N_factorial*j\n",
    "    j+=1\n",
    "print \"El factorial de\", N, \"es\", N_factorial"
   ]
  },
  {
   "cell_type": "markdown",
   "metadata": {
    "slideshow": {
     "slide_type": "slide"
    }
   },
   "source": [
    "## Problema 1 - Solución\n",
    "Realice un programa computacional que calcule el factorial de un entero positivo provisto por el usuario."
   ]
  },
  {
   "cell_type": "code",
   "execution_count": null,
   "metadata": {
    "collapsed": false
   },
   "outputs": [],
   "source": [
    "N = int(raw_input(\"Ingrese un entero positivo: \"))\n",
    "j = 1 # contador\n",
    "N_factorial = 1 # resultado\n",
    "while j<=N:\n",
    "    N_factorial = N_factorial * j\n",
    "    j = j +1\n",
    "print \"El factorial de\", N, \"es\", N_factorial"
   ]
  },
  {
   "cell_type": "markdown",
   "metadata": {
    "slideshow": {
     "slide_type": "slide"
    }
   },
   "source": [
    "## Problema 1 - Ruteo"
   ]
  },
  {
   "cell_type": "code",
   "execution_count": null,
   "metadata": {
    "collapsed": false
   },
   "outputs": [],
   "source": [
    "N = int(raw_input(\"Ingrese un entero positivo: \"))\n",
    "j = 1 # contador\n",
    "N_factorial = 1 # resultado\n",
    "while j<=N:\n",
    "    N_factorial = N_factorial * j\n",
    "    j = j +1\n",
    "print \"El factorial de\", N, \"es\", N_factorial"
   ]
  },
  {
   "cell_type": "markdown",
   "metadata": {
    "slideshow": {
     "slide_type": "-"
    }
   },
   "source": [
    "<table border=\"1\">\n",
    "<tr>\n",
    "<th align=\"center\" colspan=\"5\" width=\"400\">Globales</th> \n",
    "<th colspan=\"5\" width=\"400\">Locales</th>\n",
    "</tr>\n",
    "<tr>\n",
    "<td height=\"30\"></td> <td></td> <td></td> <td></td> <td></td> <td></td> <td></td> <td></td> <td></td> <td></td>\n",
    "</tr>\n",
    "<tr>\n",
    "<td height=\"30\"></td> <td></td> <td></td> <td></td> <td></td> <td></td> <td></td> <td></td> <td></td> <td></td>\n",
    "</tr>\n",
    "<tr>\n",
    "<td height=\"30\"></td> <td></td> <td></td> <td></td> <td></td> <td></td> <td></td> <td></td> <td></td> <td></td>\n",
    "</tr>\n",
    "<tr>\n",
    "<td height=\"30\"></td> <td></td> <td></td> <td></td> <td></td> <td></td> <td></td> <td></td> <td></td> <td></td>\n",
    "</tr>\n",
    "<tr>\n",
    "<td height=\"30\"></td> <td></td> <td></td> <td></td> <td></td> <td></td> <td></td> <td></td> <td></td> <td></td>\n",
    "</tr>\n",
    "<tr>\n",
    "<td height=\"30\"></td> <td></td> <td></td> <td></td> <td></td> <td></td> <td></td> <td></td> <td></td> <td></td>\n",
    "</tr>\n",
    "<tr>\n",
    "<td height=\"30\"></td> <td></td> <td></td> <td></td> <td></td> <td></td> <td></td> <td></td> <td></td> <td></td>\n",
    "</tr>\n",
    "<tr>\n",
    "<td height=\"30\"></td> <td></td> <td></td> <td></td> <td></td> <td></td> <td></td> <td></td> <td></td> <td></td>\n",
    "</tr>\n",
    "<tr>\n",
    "<td height=\"30\"></td> <td></td> <td></td> <td></td> <td></td> <td></td> <td></td> <td></td> <td></td> <td></td>\n",
    "</tr>\n",
    "<tr>\n",
    "<td height=\"30\"></td> <td></td> <td></td> <td></td> <td></td> <td></td> <td></td> <td></td> <td></td> <td></td>\n",
    "</tr>\n",
    "</table>"
   ]
  },
  {
   "cell_type": "markdown",
   "metadata": {
    "slideshow": {
     "slide_type": "slide"
    }
   },
   "source": [
    "## Problema 2\n",
    "Implemente una **función** que imprima los $n$ primeros números de fibonacci.\n",
    "\n",
    "    fibonacci(12)\n",
    "    1 1 2 3 5 8 13 21 34 55 89 144"
   ]
  },
  {
   "cell_type": "code",
   "execution_count": null,
   "metadata": {
    "collapsed": false,
    "slideshow": {
     "slide_type": "fragment"
    }
   },
   "outputs": [],
   "source": [
    "# Solucion estudiantes\n",
    "\n",
    "\n",
    "\n",
    "\n",
    "\n",
    "\n",
    "\n",
    "\n",
    "fibonacci(12)"
   ]
  },
  {
   "cell_type": "markdown",
   "metadata": {
    "slideshow": {
     "slide_type": "slide"
    }
   },
   "source": [
    "## Problema 2 - Solución\n",
    "Implemente una **función** que imprima los $n$ primeros números de fibonacci."
   ]
  },
  {
   "cell_type": "code",
   "execution_count": 25,
   "metadata": {
    "collapsed": false
   },
   "outputs": [
    {
     "name": "stdout",
     "output_type": "stream",
     "text": [
      "1\n",
      "1\n",
      "2\n",
      "3\n",
      "5\n",
      "\n",
      "1\n",
      "1\n",
      "2\n",
      "3\n",
      "5\n",
      "8\n",
      "13\n",
      "21\n",
      "34\n",
      "55\n",
      "\n",
      "1\n",
      "1\n",
      "2\n",
      "3\n",
      "5\n",
      "8\n",
      "13\n",
      "21\n",
      "34\n",
      "55\n",
      "89\n",
      "144\n",
      "233\n",
      "377\n",
      "610\n",
      "987\n",
      "1597\n",
      "2584\n",
      "4181\n",
      "6765\n",
      "\n",
      "1\n",
      "1\n",
      "\n"
     ]
    }
   ],
   "source": [
    "def fibonacci(n):\n",
    "    a = 1\n",
    "    print a, \n",
    "    b = 1\n",
    "    print b,\n",
    "    count = 2\n",
    "    while count < n:\n",
    "        aux = a\n",
    "        a = b\n",
    "        b = aux + b\n",
    "        count += 1\n",
    "        print b,\n",
    "    print \"\"\n",
    "        \n",
    "fibonacci(5)\n",
    "fibonacci(10)\n",
    "fibonacci(20)\n",
    "fibonacci(-1)"
   ]
  },
  {
   "cell_type": "markdown",
   "metadata": {
    "slideshow": {
     "slide_type": "slide"
    }
   },
   "source": [
    "## Problema 2 - Ruteo"
   ]
  },
  {
   "cell_type": "code",
   "execution_count": 26,
   "metadata": {
    "collapsed": false
   },
   "outputs": [
    {
     "name": "stdout",
     "output_type": "stream",
     "text": [
      "1 1 2 3 5\n"
     ]
    }
   ],
   "source": [
    "def fibonacci(n):\n",
    "    a = 1\n",
    "    b = 1\n",
    "    fib = str(a) + \" \" + str(b) \n",
    "    count = 2\n",
    "    while count < n:\n",
    "        aux = a\n",
    "        a = b\n",
    "        b = aux + b\n",
    "        count += 1\n",
    "        fib += \" \" + str(b)\n",
    "    return fib\n",
    "        \n",
    "n = 5\n",
    "print fibonacci(n)"
   ]
  },
  {
   "cell_type": "markdown",
   "metadata": {
    "slideshow": {
     "slide_type": "-"
    }
   },
   "source": [
    "<table border=\"1\">\n",
    "<tr>\n",
    "<th align=\"center\" colspan=\"3\" width=\"250\">Globales</th> \n",
    "<th colspan=\"7\" width=\"550\">Locales</th>\n",
    "</tr>\n",
    "<tr>\n",
    "<td height=\"30\"></td> <td></td> <td></td> <td></td> <td></td> <td></td> <td></td> <td></td> <td></td> <td></td>\n",
    "</tr>\n",
    "<tr>\n",
    "<td height=\"30\"></td> <td></td> <td></td> <td></td> <td></td> <td></td> <td></td> <td></td> <td></td> <td></td>\n",
    "</tr>\n",
    "<tr>\n",
    "<td height=\"30\"></td> <td></td> <td></td> <td></td> <td></td> <td></td> <td></td> <td></td> <td></td> <td></td>\n",
    "</tr>\n",
    "<tr>\n",
    "<td height=\"30\"></td> <td></td> <td></td> <td></td> <td></td> <td></td> <td></td> <td></td> <td></td> <td></td>\n",
    "</tr>\n",
    "<tr>\n",
    "<td height=\"30\"></td> <td></td> <td></td> <td></td> <td></td> <td></td> <td></td> <td></td> <td></td> <td></td>\n",
    "</tr>\n",
    "<tr>\n",
    "<td height=\"30\"></td> <td></td> <td></td> <td></td> <td></td> <td></td> <td></td> <td></td> <td></td> <td></td>\n",
    "</tr>\n",
    "<tr>\n",
    "<td height=\"30\"></td> <td></td> <td></td> <td></td> <td></td> <td></td> <td></td> <td></td> <td></td> <td></td>\n",
    "</tr>\n",
    "<tr>\n",
    "<td height=\"30\"></td> <td></td> <td></td> <td></td> <td></td> <td></td> <td></td> <td></td> <td></td> <td></td>\n",
    "</tr>\n",
    "<tr>\n",
    "<td height=\"30\"></td> <td></td> <td></td> <td></td> <td></td> <td></td> <td></td> <td></td> <td></td> <td></td>\n",
    "</tr>\n",
    "<tr>\n",
    "<td height=\"30\"></td> <td></td> <td></td> <td></td> <td></td> <td></td> <td></td> <td></td> <td></td> <td></td>\n",
    "</tr>\n",
    "</table>"
   ]
  },
  {
   "cell_type": "markdown",
   "metadata": {
    "slideshow": {
     "slide_type": "slide"
    }
   },
   "source": [
    "## Problema 3\n",
    "Implemente la función **suma_cuadrados** que sume los primeros cuadrados perfectos menores a un número $n$.\n",
    "\n",
    "#### Ejemplo de output\n",
    "    print suma_cuadrados(6)\n",
    "    91\n",
    "\n",
    "    print suma_cuadrados(100)\n",
    "    385\n",
    "\n",
    "    print suma_cuadrados(500)\n",
    "    3795\n",
    "\n",
    "#### Forma de cálculo\n",
    "\n",
    "    suma_cuadrados(0):   0 = 0\n",
    "    suma_cuadrados(1):   1 = 0 + 1\n",
    "    suma_cuadrados(2):   5 = 0 + 1 + 4\n",
    "    suma_cuadrados(3):   14 = 0 + 1 + 4 + 9\n",
    "    suma_cuadrados(4):   30 = 0 + 1 + 4 + 9 + 16\n",
    "    suma_cuadrados(5):   55 = 0 + 1 + 4 + 9 + 16 + 25\n",
    "    suma_cuadrados(6):   91 = 0 + 1 + 4 + 9 + 16 + 25 + 36"
   ]
  },
  {
   "cell_type": "markdown",
   "metadata": {
    "slideshow": {
     "slide_type": "slide"
    }
   },
   "source": [
    "## Problema 3 - Solución Estudiantes\n",
    "Implemente la función **suma_cuadrados** que sume los primeros cuadrados perfectos menores a un número $n$."
   ]
  },
  {
   "cell_type": "code",
   "execution_count": null,
   "metadata": {
    "collapsed": true
   },
   "outputs": [],
   "source": [
    "# FIX ME"
   ]
  },
  {
   "cell_type": "markdown",
   "metadata": {
    "slideshow": {
     "slide_type": "slide"
    }
   },
   "source": [
    "## Problema 3 - Solución\n",
    "Implemente una función **suma_cuadrados** que sume los primeros cuadrados perfectos menores a un número $n$."
   ]
  },
  {
   "cell_type": "code",
   "execution_count": null,
   "metadata": {
    "collapsed": false
   },
   "outputs": [],
   "source": [
    "def suma_cuadrados(n):\n",
    "    j = 0\n",
    "    suma = 0\n",
    "    while j**2 <= n:\n",
    "        suma = suma + j**2\n",
    "        j += 1\n",
    "    return suma\n",
    "\n",
    "print suma_cuadrados(5)\n",
    "print suma_cuadrados(10)\n",
    "print suma_cuadrados(100)\n",
    "print suma_cuadrados(500)"
   ]
  },
  {
   "cell_type": "markdown",
   "metadata": {
    "slideshow": {
     "slide_type": "slide"
    }
   },
   "source": [
    "## Problema 3 - Ruteo"
   ]
  },
  {
   "cell_type": "code",
   "execution_count": null,
   "metadata": {
    "collapsed": false,
    "slideshow": {
     "slide_type": "-"
    }
   },
   "outputs": [],
   "source": [
    "def suma_cuadrados(n):\n",
    "    j = 0\n",
    "    suma = 0\n",
    "    while j**2 <= n:\n",
    "        suma = suma + j**2\n",
    "        j += 1\n",
    "    return suma\n",
    "\n",
    "print suma_cuadrados(5)"
   ]
  },
  {
   "cell_type": "markdown",
   "metadata": {
    "slideshow": {
     "slide_type": "-"
    }
   },
   "source": [
    "<table border=\"1\">\n",
    "<tr>\n",
    "<th align=\"center\" colspan=\"3\" width=\"250\">Globales</th> \n",
    "<th colspan=\"7\" width=\"550\">Locales</th>\n",
    "</tr>\n",
    "<tr>\n",
    "<td height=\"30\"></td> <td></td> <td></td> <td></td> <td></td> <td></td> <td></td> <td></td> <td></td> <td></td>\n",
    "</tr>\n",
    "<tr>\n",
    "<td height=\"30\"></td> <td></td> <td></td> <td></td> <td></td> <td></td> <td></td> <td></td> <td></td> <td></td>\n",
    "</tr>\n",
    "<tr>\n",
    "<td height=\"30\"></td> <td></td> <td></td> <td></td> <td></td> <td></td> <td></td> <td></td> <td></td> <td></td>\n",
    "</tr>\n",
    "<tr>\n",
    "<td height=\"30\"></td> <td></td> <td></td> <td></td> <td></td> <td></td> <td></td> <td></td> <td></td> <td></td>\n",
    "</tr>\n",
    "<tr>\n",
    "<td height=\"30\"></td> <td></td> <td></td> <td></td> <td></td> <td></td> <td></td> <td></td> <td></td> <td></td>\n",
    "</tr>\n",
    "<tr>\n",
    "<td height=\"30\"></td> <td></td> <td></td> <td></td> <td></td> <td></td> <td></td> <td></td> <td></td> <td></td>\n",
    "</tr>\n",
    "<tr>\n",
    "<td height=\"30\"></td> <td></td> <td></td> <td></td> <td></td> <td></td> <td></td> <td></td> <td></td> <td></td>\n",
    "</tr>\n",
    "<tr>\n",
    "<td height=\"30\"></td> <td></td> <td></td> <td></td> <td></td> <td></td> <td></td> <td></td> <td></td> <td></td>\n",
    "</tr>\n",
    "<tr>\n",
    "<td height=\"30\"></td> <td></td> <td></td> <td></td> <td></td> <td></td> <td></td> <td></td> <td></td> <td></td>\n",
    "</tr>\n",
    "<tr>\n",
    "<td height=\"30\"></td> <td></td> <td></td> <td></td> <td></td> <td></td> <td></td> <td></td> <td></td> <td></td>\n",
    "</tr>\n",
    "</table>"
   ]
  },
  {
   "cell_type": "code",
   "execution_count": null,
   "metadata": {
    "collapsed": false,
    "slideshow": {
     "slide_type": "skip"
    }
   },
   "outputs": [],
   "source": [
    "def suma_cuadrados_explained(n):\n",
    "    j = 0\n",
    "    suma = 0\n",
    "    while j**2 <= n:\n",
    "        suma = suma + j**2\n",
    "        print str(suma) + \" = \" + \" + \".join([str(i**2) for i in range(j+1)]) \n",
    "        j += 1\n",
    "    return suma\n",
    "\n",
    "suma_cuadrados_explained(100)"
   ]
  },
  {
   "cell_type": "markdown",
   "metadata": {
    "slideshow": {
     "slide_type": "slide"
    }
   },
   "source": [
    "## Minitarea 2\n",
    "Elegir al menos uno de los ejercicios propuestos en http://progra.usm.cl/apunte/ejercicios/1/index.html en la sección de Ciclos:\n",
    "\n",
    "* Múltiplos\n",
    "* Potencias de dos\n",
    "* Suma entre números\n",
    "* Tabla de multiplicar\n",
    "* Divisores\n",
    "* Tiempo de viaje\n",
    "* Dibujos de asteriscos\n",
    "* Calcular $\\pi$\n",
    "* Suma de fracciones\n",
    "* Calcular $e$\n",
    "* Secuencia de Collatz"
   ]
  }
 ],
 "metadata": {
  "celltoolbar": "Slideshow",
  "kernelspec": {
   "display_name": "Python 2",
   "language": "python",
   "name": "python2"
  },
  "language_info": {
   "codemirror_mode": {
    "name": "ipython",
    "version": 2
   },
   "file_extension": ".py",
   "mimetype": "text/x-python",
   "name": "python",
   "nbconvert_exporter": "python",
   "pygments_lexer": "ipython2",
   "version": "2.7.6"
  }
 },
 "nbformat": 4,
 "nbformat_minor": 0
}
