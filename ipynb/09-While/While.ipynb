{
 "cells": [
  {
   "cell_type": "code",
   "execution_count": 1,
   "metadata": {
    "collapsed": false,
    "slideshow": {
     "slide_type": "skip"
    }
   },
   "outputs": [
    {
     "data": {
      "text/html": [
       "<style>\n",
       "\n",
       ".reveal {\n",
       "overflow: visible;\n",
       "}\n",
       "\n",
       "/*********************************************\n",
       " * COLORS FOR EXAMPLES\n",
       " *********************************************/\n",
       "em {color: #800000;}\n",
       "span.good {color: #008000;}\n",
       "span.warning {color: #808000;}\n",
       "span.bad {color: #800000;}\n",
       "\n",
       "/*********************************************\n",
       " * GLOBAL STYLES\n",
       " *********************************************/\n",
       ".reveal h1 {color: #000000; text-shadow: 0px 0px 6px rgba(0, 0, 0, 0.2);}\n",
       ".reveal h2 {color: #222222; text-shadow: 0px 0px 5px rgba(0, 0, 0, 0.2);}\n",
       ".reveal h3 {color: #444444; text-shadow: 0px 0px 4px rgba(0, 0, 0, 0.2);}\n",
       ".reveal h4 {color: #666666; text-shadow: 0px 0px 3px rgba(0, 0, 0, 0.2);}\n",
       ".reveal h5 {color: #888888; text-shadow: 0px 0px 2px rgba(0, 0, 0, 0.2);}\n",
       ".reveal h6 {color: #AAAAAA; text-shadow: 0px 0px 1px rgba(0, 0, 0, 0.2);}\n",
       "\n",
       "/*********************************************\n",
       " * IMAGES\n",
       " *********************************************/\n",
       ".reveal section img { margin-left:auto; margin-right:auto;}\n",
       "\n",
       "</style>\n"
      ],
      "text/plain": [
       "<IPython.core.display.HTML object>"
      ]
     },
     "execution_count": 1,
     "metadata": {},
     "output_type": "execute_result"
    }
   ],
   "source": [
    "\"\"\"\n",
    "IPython Notebook v4.0 para python 2.7\n",
    "Librerías adicionales: Ninguna.\n",
    "Contenido bajo licencia CC-BY 4.0. Código bajo licencia MIT. (c) Sebastian Flores.\n",
    "\"\"\"\n",
    "\n",
    "# Configuracion para recargar módulos y librerías \n",
    "%reload_ext autoreload\n",
    "%autoreload 2\n",
    "\n",
    "from IPython.core.display import HTML\n",
    "\n",
    "HTML(open(\"style/iwi131.css\", \"r\").read())"
   ]
  },
  {
   "cell_type": "markdown",
   "metadata": {
    "slideshow": {
     "slide_type": "slide"
    }
   },
   "source": [
    "<header class=\"w3-container w3-teal\">\n",
    "<img src=\"images/utfsm.png\" alt=\"\" align=\"left\"/>\n",
    "<img src=\"images/inf.png\" alt=\"\" align=\"right\"/>\n",
    "</header>\n",
    "<br/><br/><br/><br/><br/>\n",
    "# IWI131\n",
    "## Programación de Computadores\n",
    "\n",
    "### Sebastián Flores\n",
    "\n",
    "http://progra.usm.cl/ \n",
    "\n",
    "https://www.github.com/sebastiandres/iwi131\n"
   ]
  },
  {
   "cell_type": "markdown",
   "metadata": {
    "slideshow": {
     "slide_type": "slide"
    }
   },
   "source": [
    "## Clase anterior\n",
    "* Funciones, ruteo, condicionales y ejercicios."
   ]
  },
  {
   "cell_type": "markdown",
   "metadata": {
    "slideshow": {
     "slide_type": "slide"
    }
   },
   "source": [
    "## Próximamente...\n",
    "* **16 Nov**: Actividad 2.\n",
    "* **20 Nov**: Tarea 1.\n",
    "* **23 Nov**: Certamen 1."
   ]
  },
  {
   "cell_type": "markdown",
   "metadata": {
    "slideshow": {
     "slide_type": "slide"
    }
   },
   "source": [
    "## ¿Qué aprenderemos hoy?\n",
    "\n",
    "* While"
   ]
  },
  {
   "cell_type": "markdown",
   "metadata": {
    "slideshow": {
     "slide_type": "slide"
    }
   },
   "source": [
    "## ¿Porqué aprenderemos eso?\n",
    "\n",
    "* While\n",
    "\n",
    "Porque resulta natural en un programa ejecutar acciones de manera repetitiva.\n",
    "\n",
    "¿Recuerdan la actividad 1?"
   ]
  },
  {
   "cell_type": "markdown",
   "metadata": {
    "slideshow": {
     "slide_type": "slide"
    }
   },
   "source": [
    "## Revisión de la actividad 1\n",
    "En la actividad 1 hay 5 bloques condicionales:\n",
    "<img src=\"images/actividad.png\" width=\"800\" alt=\"\" align=\"middle\"/>"
   ]
  },
  {
   "cell_type": "markdown",
   "metadata": {
    "slideshow": {
     "slide_type": "slide"
    }
   },
   "source": [
    "## Ejemplo\n",
    "Escriba un programa que pida al usuario ingresar sus tres notas, calcule el promedio (redondeado a entero)\n",
    "y lo felicite ***solamente*** si su promedio es mayor a 80, pero siempre le indique su promedio.\n",
    "\n",
    "    Nota 1: 45\n",
    "    Nota 2: 78\n",
    "    Nota 3: 68\n",
    "    Su promedio es 64\n",
    "\n",
    "    Nota 1: 79\n",
    "    Nota 2: 91\n",
    "    Nota 3: 74\n",
    "    Felicitaciones!\n",
    "    Su promedio es 81"
   ]
  },
  {
   "cell_type": "code",
   "execution_count": null,
   "metadata": {
    "collapsed": false
   },
   "outputs": [],
   "source": [
    "def prom(n1, n2, n3):\n",
    "    suma = n1 + n2 + n3\n",
    "    return int(round(suma / 3.0))\n",
    "\n",
    "n1 = int(raw_input('Nota 1: '))\n",
    "n2 = int(raw_input('Nota 2: '))\n",
    "n3 = int(raw_input('Nota 3: '))\n",
    "\n",
    "promedio = prom(n1, n2, n3)\n",
    "\n",
    "print 'Su promedio es', promedio\n",
    "\n",
    "if promedio > 80:\n",
    "    print 'Felicitaciones!'\n",
    "\n",
    "if promedio < 20:\n",
    "    print 'Nos vemos el proximo semestre'\n"
   ]
  },
  {
   "cell_type": "markdown",
   "metadata": {
    "slideshow": {
     "slide_type": "slide"
    }
   },
   "source": [
    "## Ejemplo\n",
    "Escriba un programa que pida al usuario ingresar sus notas, calcule el promedio (redondeado a entero)\n",
    "y le indique su promedio.\n",
    "\n",
    "    Nota 1: 45\n",
    "    Nota 2: 78\n",
    "    Nota 3: 68\n",
    "    Su promedio es 64\n",
    "\n",
    "    Nota 1: 79\n",
    "    Nota 2: 91\n",
    "    Nota 3: 74\n",
    "    Su promedio es 81"
   ]
  },
  {
   "cell_type": "markdown",
   "metadata": {
    "slideshow": {
     "slide_type": "slide"
    }
   },
   "source": [
    "## Ejemplo\n",
    "Escriba un programa que pida al usuario ingresar sus notas, calcule el promedio (redondeado a entero)\n",
    "y le indique su promedio.\n",
    "\n",
    "DIAGRAMA DE FLUJO"
   ]
  },
  {
   "cell_type": "code",
   "execution_count": null,
   "metadata": {
    "collapsed": false
   },
   "outputs": [],
   "source": [
    "# Inicialización\n",
    "suma = 0\n",
    "n_notas = 0\n",
    "# Leer todas las notas\n",
    "nota = int(raw_input('Nota:'))\n",
    "while nota>=0:\n",
    "    suma += nota  # Shorthand for suma = suma + n \n",
    "    n_notas += 1  # Shorthand for n_notas = n_notas + 1 \n",
    "    nota = int(raw_input('Nota:'))\n",
    "# Calcular el promedio\n",
    "promedio = suma / n_notas\n",
    "promedio_int = int(round(promedio))\n",
    "print 'El promedio de sus', n_notas, 'notas es', promedio_int"
   ]
  },
  {
   "cell_type": "markdown",
   "metadata": {
    "slideshow": {
     "slide_type": "slide"
    }
   },
   "source": [
    "## Ejemplo\n",
    "Escriba un programa que pida al usuario ingresar sus notas, calcule el promedio (redondeado a entero)\n",
    "y le indique su promedio. \n",
    "\n",
    "Opción 2: Conocer de antemano el numero de notas.\n",
    "\n",
    "DIAGRAMA DE FLUJO"
   ]
  },
  {
   "cell_type": "code",
   "execution_count": 15,
   "metadata": {
    "collapsed": false
   },
   "outputs": [
    {
     "name": "stdout",
     "output_type": "stream",
     "text": [
      "Numero de Notas: 2\n",
      "Nota:20\n",
      "Nota:20\n",
      "El promedio de sus 2 notas es 20\n"
     ]
    }
   ],
   "source": [
    "# Leer cuantas notas se necesitan promediar y aumentar un contador\n",
    "n_notas = int(raw_input('Numero de Notas: '))\n",
    "# Inicialización\n",
    "suma = 0\n",
    "j = 1\n",
    "# Leer todas las notas\n",
    "while j<=n_notas:\n",
    "    nota = int(raw_input('Nota:'))\n",
    "    suma += nota  # Shorthand for suma = suma + n \n",
    "    j += 1  # Shorthand for j = j + 1 \n",
    "# Calcular el promedio\n",
    "promedio = suma / n_notas\n",
    "promedio_int = int(round(promedio))\n",
    "print 'El promedio de sus', n_notas, 'notas es', promedio_int"
   ]
  },
  {
   "cell_type": "code",
   "execution_count": 14,
   "metadata": {
    "collapsed": false
   },
   "outputs": [
    {
     "name": "stdout",
     "output_type": "stream",
     "text": [
      "Numero de Notas: 2\n",
      "Nota:2\n",
      "Nota:100\n",
      "El promedio de sus 2 notas es 51\n"
     ]
    }
   ],
   "source": [
    "# Leer cuantas notas se necesitan promediar y disminuir un contador\n",
    "n_notas = int(raw_input('Numero de Notas: '))\n",
    "# Inicialización\n",
    "suma = 0\n",
    "j = n_notas\n",
    "# Leer todas las notas\n",
    "while j>0:\n",
    "    nota = int(raw_input('Nota:'))\n",
    "    suma += nota  # Shorthand for suma = suma + n \n",
    "    j -= 1  # Shorthand for j = j - 1 \n",
    "# Calcular el promedio\n",
    "promedio = suma / n_notas\n",
    "promedio_int = int(round(promedio))\n",
    "print 'El promedio de sus', n_notas, 'notas es', promedio_int"
   ]
  },
  {
   "cell_type": "markdown",
   "metadata": {},
   "source": [
    "#### OBS\n",
    "\n",
    "Podemos inicializar $j=0$ y controlar $j<n_{notas}$ o también $j=1$ y controlar $j<=n_{notas}$."
   ]
  },
  {
   "cell_type": "markdown",
   "metadata": {
    "slideshow": {
     "slide_type": "slide"
    }
   },
   "source": [
    "## Problema 1\n",
    "Realice un programa computacional que calcule el factorial de un entero positivo provisto por el usuario."
   ]
  },
  {
   "cell_type": "code",
   "execution_count": null,
   "metadata": {
    "collapsed": true
   },
   "outputs": [],
   "source": [
    "# Solucion estudiantes\n",
    "N = int(raw_input(\"Ingrese un entero positivo: \"))\n",
    "j = 1\n",
    "N_factorial = 1\n",
    "while j<=N:\n",
    "    # FIX ME #\n",
    "    # FIX ME #\n",
    "print \"El factorial de\", N, \"es\", N_factorial"
   ]
  },
  {
   "cell_type": "code",
   "execution_count": 20,
   "metadata": {
    "collapsed": false
   },
   "outputs": [
    {
     "name": "stdout",
     "output_type": "stream",
     "text": [
      "Ingrese un entero positivo: 5\n",
      "El factorial de 5 es 120\n"
     ]
    }
   ],
   "source": [
    "N = int(raw_input(\"Ingrese un entero positivo: \"))\n",
    "j = 1\n",
    "N_factorial = 1\n",
    "while j<=N:\n",
    "    N_factorial = N_factorial * j\n",
    "    j = j +1\n",
    "print \"El factorial de\", N, \"es\", N_factorial"
   ]
  },
  {
   "cell_type": "markdown",
   "metadata": {},
   "source": [
    "## Problema 2\n",
    "Calcular implemente una función que imprima los $n$ primeros números de fibonacci."
   ]
  },
  {
   "cell_type": "code",
   "execution_count": null,
   "metadata": {
    "collapsed": true
   },
   "outputs": [],
   "source": []
  },
  {
   "cell_type": "code",
   "execution_count": 10,
   "metadata": {
    "collapsed": false
   },
   "outputs": [
    {
     "name": "stdout",
     "output_type": "stream",
     "text": [
      "1 1 2 3 5 8 13 21 34 55 89 144 233 377 610 987 1597 2584 4181 6765\n"
     ]
    }
   ],
   "source": [
    "def fibonacci(n):\n",
    "    a = 1\n",
    "    print a, \n",
    "    b = 1\n",
    "    print b,\n",
    "    count = 2\n",
    "    while count < n:\n",
    "        aux = a\n",
    "        a = b\n",
    "        b = aux + b\n",
    "        count += 1\n",
    "        print b,\n",
    "        \n",
    "fibonacci(20)"
   ]
  },
  {
   "cell_type": "markdown",
   "metadata": {},
   "source": [
    "## Problema 3\n",
    "Implemente una función que sume los primeros cuadrados perfectos menores a un número $n$."
   ]
  },
  {
   "cell_type": "code",
   "execution_count": null,
   "metadata": {
    "collapsed": true
   },
   "outputs": [],
   "source": []
  },
  {
   "cell_type": "code",
   "execution_count": null,
   "metadata": {
    "collapsed": false
   },
   "outputs": [],
   "source": [
    "def suma_cuadrados(n):\n",
    "    j = 0\n",
    "    suma = 0\n",
    "    while j**2 <= n:\n",
    "        suma = suma + j**2\n",
    "        j += 1\n",
    "    return suma\n",
    "\n",
    "print suma_cuadrados(10)\n",
    "print suma_cuadrados(100)\n",
    "print suma_cuadrados(500)\n"
   ]
  },
  {
   "cell_type": "code",
   "execution_count": null,
   "metadata": {
    "collapsed": false
   },
   "outputs": [],
   "source": [
    "def suma_cuadrados_explained(n):\n",
    "    j = 0\n",
    "    suma = 0\n",
    "    while j**2 <= n:\n",
    "        suma = suma + j**2\n",
    "        print str(suma) + \" = \" + \" + \".join([str(i**2) for i in range(j+1)]) \n",
    "        j += 1\n",
    "    return suma\n",
    "\n",
    "suma_cuadrados_explained(100)"
   ]
  }
 ],
 "metadata": {
  "celltoolbar": "Slideshow",
  "kernelspec": {
   "display_name": "Python 3",
   "language": "python",
   "name": "python3"
  },
  "language_info": {
   "codemirror_mode": {
    "name": "ipython",
    "version": 3
   },
   "file_extension": ".py",
   "mimetype": "text/x-python",
   "name": "python",
   "nbconvert_exporter": "python",
   "pygments_lexer": "ipython3",
   "version": "3.4.0"
  }
 },
 "nbformat": 4,
 "nbformat_minor": 0
}
