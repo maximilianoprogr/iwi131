{
 "cells": [
  {
   "cell_type": "code",
   "execution_count": null,
   "metadata": {
    "collapsed": false,
    "slideshow": {
     "slide_type": "skip"
    }
   },
   "outputs": [],
   "source": [
    "\"\"\"\n",
    "IPython Notebook v4.0 para python 2.7\n",
    "Librerías adicionales: Ninguna.\n",
    "Contenido bajo licencia CC-BY 4.0. Código bajo licencia MIT. (c) Sebastian Flores.\n",
    "\"\"\"\n",
    "\n",
    "# Configuracion para recargar módulos y librerías \n",
    "%reload_ext autoreload\n",
    "%autoreload 2\n",
    "\n",
    "from IPython.core.display import HTML\n",
    "\n",
    "HTML(open(\"style/iwi131.css\", \"r\").read())"
   ]
  },
  {
   "cell_type": "markdown",
   "metadata": {
    "slideshow": {
     "slide_type": "slide"
    }
   },
   "source": [
    "<header class=\"w3-container w3-teal\">\n",
    "<img src=\"images/utfsm.png\" alt=\"\" align=\"left\"/>\n",
    "<img src=\"images/inf.png\" alt=\"\" align=\"right\"/>\n",
    "</header>\n",
    "<br/><br/><br/><br/><br/>\n",
    "# IWI131\n",
    "## Programación de Computadores\n",
    "\n",
    "### Sebastián Flores\n",
    "\n",
    "http://progra.usm.cl/ \n",
    "\n",
    "https://www.github.com/sebastiandres/iwi131\n"
   ]
  },
  {
   "cell_type": "markdown",
   "metadata": {
    "slideshow": {
     "slide_type": "slide"
    }
   },
   "source": [
    "## Clase anterior\n",
    "* Ejercicios de funciones, ruteo y condicionales.\n",
    "\n",
    "¿Preguntas?"
   ]
  },
  {
   "cell_type": "markdown",
   "metadata": {
    "slideshow": {
     "slide_type": "slide"
    }
   },
   "source": [
    "## Próximamente...\n",
    "* **16 Nov**: Actividad 2.\n",
    "* **20 Nov**: Tarea 1.\n",
    "* **23 Nov**: Certamen 1."
   ]
  },
  {
   "cell_type": "markdown",
   "metadata": {
    "slideshow": {
     "slide_type": "slide"
    }
   },
   "source": [
    "## ¿Qué aprenderemos hoy?\n",
    "\n",
    "* Ciclo **while**"
   ]
  },
  {
   "cell_type": "markdown",
   "metadata": {
    "slideshow": {
     "slide_type": "slide"
    }
   },
   "source": [
    "## ¿Porqué aprenderemos eso?\n",
    "\n",
    "* Ciclo **while**\n",
    "\n",
    "Porque resulta natural en un programa ejecutar acciones de manera repetitiva.\n",
    "\n",
    "¿Recuerdan la actividad 1?"
   ]
  },
  {
   "cell_type": "markdown",
   "metadata": {
    "slideshow": {
     "slide_type": "slide"
    }
   },
   "source": [
    "## Revisión de la actividad 1\n",
    "En la actividad 1 hay 5 bloques condicionales:\n",
    "<img src=\"images/actividad.png\" width=\"800\" alt=\"\" align=\"middle\"/>"
   ]
  },
  {
   "cell_type": "markdown",
   "metadata": {
    "slideshow": {
     "slide_type": "slide"
    }
   },
   "source": [
    "## Promedio v.0\n",
    "Escriba un programa que pida al usuario ingresar sus tres notas, calcule el promedio (redondeado a entero)\n",
    "y lo felicite ***solamente*** si su promedio es mayor a 80, pero siempre le indique su promedio.\n",
    "\n",
    "    Nota 1: 45\n",
    "    Nota 2: 78\n",
    "    Nota 3: 68\n",
    "    Su promedio es 64\n",
    "\n",
    "    Nota 1: 79\n",
    "    Nota 2: 91\n",
    "    Nota 3: 74\n",
    "    Felicitaciones!\n",
    "    Su promedio es 81"
   ]
  },
  {
   "cell_type": "code",
   "execution_count": null,
   "metadata": {
    "collapsed": false
   },
   "outputs": [],
   "source": [
    "def prom(n1, n2, n3):\n",
    "    suma = n1 + n2 + n3\n",
    "    return int(round(suma / 3.0))\n",
    "\n",
    "n1 = float(raw_input('Nota 1: '))\n",
    "n2 = float(raw_input('Nota 2: '))\n",
    "n3 = float(raw_input('Nota 3: '))\n",
    "\n",
    "promedio = prom(n1, n2, n3)\n",
    "\n",
    "print 'Su promedio es', promedio\n",
    "\n",
    "if promedio > 80:\n",
    "    print 'Felicitaciones!'\n",
    "\n",
    "if promedio < 20:\n",
    "    print 'Nos vemos el proximo semestre'\n"
   ]
  },
  {
   "cell_type": "markdown",
   "metadata": {
    "slideshow": {
     "slide_type": "slide"
    }
   },
   "source": [
    "## Promedio v.1\n",
    "Escriba un programa que pida al usuario ingresar todas sus notas, calcule el promedio (redondeado a entero)\n",
    "y le indique su promedio.\n",
    "\n",
    "    Nota: 60\n",
    "    Nota: 100\n",
    "    Nota: -1\n",
    "    El promedio de sus 2 notas es 80\n",
    "    \n",
    "    Nota: 80\n",
    "    Nota: 60\n",
    "    Nota: 70\n",
    "    Nota: 55\n",
    "    Nota: 100\n",
    "    Nota: -10000\n",
    "    El promedio de sus 5 notas es 73"
   ]
  },
  {
   "cell_type": "code",
   "execution_count": null,
   "metadata": {
    "collapsed": false
   },
   "outputs": [],
   "source": [
    "# Inicialización\n",
    "suma = 0\n",
    "n_notas = 0\n",
    "# Leer todas las notas\n",
    "print \"Ingrese sus notas para calcular el promedio.\"\n",
    "print \"Ingrese un valor negativo para detener la ejecucion.\"\n",
    "nota = int(raw_input('Nota: '))\n",
    "while nota>=0:\n",
    "    suma += nota  # Shorthand for suma = suma + n \n",
    "    n_notas += 1  # Shorthand for n_notas = n_notas + 1 \n",
    "    nota = float(raw_input('Nota: '))\n",
    "# Calcular el promedio\n",
    "promedio = suma / n_notas\n",
    "promedio_int = int(round(promedio))\n",
    "print 'El promedio de sus', n_notas, 'notas es', promedio_int"
   ]
  },
  {
   "cell_type": "markdown",
   "metadata": {
    "slideshow": {
     "slide_type": "slide"
    }
   },
   "source": [
    "## Promedio v.1\n",
    "\n",
    "* La implementación anterior tiene como problema que sólo sirve si todos los números son positivos.\n",
    "* Cálculo del promedio falla si primer número es negativo."
   ]
  },
  {
   "cell_type": "markdown",
   "metadata": {
    "slideshow": {
     "slide_type": "slide"
    }
   },
   "source": [
    "## Promedio v.2\n",
    "Escriba un programa que **pida al usuario cuántas notas desea ingresar**, luego le permita ingresar sus notas, calcule el promedio (redondeado a entero) y le indique su promedio. \n",
    "\n",
    "    Numero de Notas: 2\n",
    "    Nota:60\n",
    "    Nota:100\n",
    "    El promedio de sus 2 notas es 80\n",
    "\n",
    "    Numero de Notas: 5\n",
    "    Nota:80\n",
    "    Nota:60\n",
    "    Nota:70\n",
    "    Nota:55\n",
    "    Nota:100\n",
    "    El promedio de sus 5 notas es 73"
   ]
  },
  {
   "cell_type": "markdown",
   "metadata": {
    "slideshow": {
     "slide_type": "slide"
    }
   },
   "source": [
    "## Promedio v.2a\n",
    "Escriba un programa que **pida al usuario cuántas notas desea ingresar**, luego le permita ingresar sus notas, calcule el promedio (redondeado a entero) y le indique su promedio.\n",
    "\n",
    "Utilizando un contador incremental:"
   ]
  },
  {
   "cell_type": "code",
   "execution_count": null,
   "metadata": {
    "collapsed": false
   },
   "outputs": [],
   "source": [
    "# Leer cuantas notas se necesitan promediar y aumentar un contador\n",
    "n_notas = int(raw_input('Numero de Notas: '))\n",
    "# Inicialización\n",
    "suma = 0\n",
    "j = 1\n",
    "# Leer todas las notas\n",
    "while j<=n_notas:\n",
    "    nota = float(raw_input('Nota:'))\n",
    "    suma += nota  \n",
    "    # Shorthand for suma = suma + n \n",
    "    j += 1  # Shorthand for j = j + 1 \n",
    "# Calcular el promedio\n",
    "promedio = suma / n_notas\n",
    "promedio_int = int(round(promedio))\n",
    "print 'El promedio de sus', n_notas, 'notas es', promedio_int"
   ]
  },
  {
   "cell_type": "markdown",
   "metadata": {},
   "source": [
    "#### OBS\n",
    "\n",
    "Podemos inicializar $j=0$ y controlar $j<n_{notas}$ o también $j=1$ y controlar $j<=n_{notas}$."
   ]
  },
  {
   "cell_type": "markdown",
   "metadata": {
    "slideshow": {
     "slide_type": "slide"
    }
   },
   "source": [
    "## Promedio v.2b\n",
    "Escriba un programa que **pida al usuario cuántas notas desea ingresar**, luego le permita ingresar sus notas, calcule el promedio (redondeado a entero) y le indique su promedio.\n",
    "\n",
    "Utilizando un contador decremental:"
   ]
  },
  {
   "cell_type": "code",
   "execution_count": null,
   "metadata": {
    "collapsed": false
   },
   "outputs": [],
   "source": [
    "# Leer cuantas notas se necesitan promediar y disminuir un contador\n",
    "n_notas = int(raw_input('Numero de Notas: '))\n",
    "# Inicialización\n",
    "suma = 0\n",
    "j = n_notas\n",
    "# Leer todas las notas\n",
    "while j>0:\n",
    "    nota = float(raw_input('Nota:'))\n",
    "    suma += nota  # Shorthand for suma = suma + n \n",
    "    j -= 1  # Shorthand for j = j - 1 \n",
    "# Calcular el promedio\n",
    "promedio = suma / n_notas\n",
    "promedio_int = int(round(promedio))\n",
    "print 'El promedio de sus', n_notas, 'notas es', promedio_int"
   ]
  },
  {
   "cell_type": "markdown",
   "metadata": {
    "slideshow": {
     "slide_type": "slide"
    }
   },
   "source": [
    "## Promedio v.3\n",
    "Escriba un programa que le permita ingresar todas sus notas separadas por un espacio, calcule el promedio (redondeado a entero) y le indique su promedio.\n",
    "\n",
    "OBS: Esto utiliza listas (que no hemos visto todavía)."
   ]
  },
  {
   "cell_type": "code",
   "execution_count": null,
   "metadata": {
    "collapsed": false
   },
   "outputs": [],
   "source": [
    "# Leer cuantas notas se necesitan promediar y aumentar un contador\n",
    "print \"Ingrese notas separadas con espacio\"\n",
    "notas_str = raw_input('Notas: ') # string con todas las notas\n",
    "notas_list = notas_str.split(\" \") # Crear lista separando por notas espacios\n",
    "n_notas = len(notas_list)\n",
    "suma = 0.0\n",
    "j = 0\n",
    "while j<n_notas:\n",
    "    suma += float(notas_list[j])\n",
    "    j += 1\n",
    "# Calcular el promedio\n",
    "promedio = suma / n_notas\n",
    "promedio_int = int(round(promedio))\n",
    "print 'El promedio de sus', n_notas, 'notas es', promedio_int"
   ]
  },
  {
   "cell_type": "markdown",
   "metadata": {
    "slideshow": {
     "slide_type": "slide"
    }
   },
   "source": [
    "## Problema 1\n",
    "Realice un programa computacional que calcule el factorial de un entero positivo provisto por el usuario.\n",
    "\n",
    "    Ingrese un entero positivo: 3\n",
    "    El factorial de 3 es 6\n",
    "\n",
    "\n",
    "    Ingrese un entero positivo: 4\n",
    "    El factorial de 4 es 24\n",
    "\n",
    "    Ingrese un entero positivo: 5\n",
    "    El factorial de 5 es 120\n",
    "\n",
    "    Ingrese un entero positivo: 20\n",
    "    El factorial de 20 es 2432902008176640000"
   ]
  },
  {
   "cell_type": "code",
   "execution_count": null,
   "metadata": {
    "collapsed": false
   },
   "outputs": [],
   "source": [
    "# Solucion estudiantes\n",
    "N = int(raw_input(\"Ingrese un entero positivo: \"))\n",
    "j = 1 # contador\n",
    "N_factorial = 1 # resultado\n",
    "while j<=N:\n",
    "    # FIX ME\n",
    "print \"El factorial de\", N, \"es\", N_factorial"
   ]
  },
  {
   "cell_type": "markdown",
   "metadata": {
    "slideshow": {
     "slide_type": "slide"
    }
   },
   "source": [
    "## Problema 1 - Solución\n",
    "Realice un programa computacional que calcule el factorial de un entero positivo provisto por el usuario."
   ]
  },
  {
   "cell_type": "code",
   "execution_count": null,
   "metadata": {
    "collapsed": false
   },
   "outputs": [],
   "source": [
    "N = int(raw_input(\"Ingrese un entero positivo: \"))\n",
    "j = 1 # contador\n",
    "N_factorial = 1 # resultado\n",
    "while j<=N:\n",
    "    N_factorial = N_factorial * j\n",
    "    j = j +1\n",
    "print \"El factorial de\", N, \"es\", N_factorial"
   ]
  },
  {
   "cell_type": "markdown",
   "metadata": {
    "slideshow": {
     "slide_type": "slide"
    }
   },
   "source": [
    "## Problema 1 - Ruteo"
   ]
  },
  {
   "cell_type": "code",
   "execution_count": null,
   "metadata": {
    "collapsed": false
   },
   "outputs": [],
   "source": [
    "N = int(raw_input(\"Ingrese un entero positivo: \"))\n",
    "j = 1 # contador\n",
    "N_factorial = 1 # resultado\n",
    "while j<=N:\n",
    "    N_factorial = N_factorial * j\n",
    "    j = j +1\n",
    "print \"El factorial de\", N, \"es\", N_factorial"
   ]
  },
  {
   "cell_type": "markdown",
   "metadata": {
    "slideshow": {
     "slide_type": "slide"
    }
   },
   "source": [
    "<table border=\"1\">\n",
    "<tr>\n",
    "<th align=\"center\" colspan=\"5\" width=\"400\">Globales</th> \n",
    "<th colspan=\"5\" width=\"400\">Locales</th>\n",
    "</tr>\n",
    "<tr>\n",
    "<td height=\"30\"></td> <td></td> <td></td> <td></td> <td></td> <td></td> <td></td> <td></td> <td></td> <td></td>\n",
    "</tr>\n",
    "<tr>\n",
    "<td height=\"30\"></td> <td></td> <td></td> <td></td> <td></td> <td></td> <td></td> <td></td> <td></td> <td></td>\n",
    "</tr>\n",
    "<tr>\n",
    "<td height=\"30\"></td> <td></td> <td></td> <td></td> <td></td> <td></td> <td></td> <td></td> <td></td> <td></td>\n",
    "</tr>\n",
    "<tr>\n",
    "<td height=\"30\"></td> <td></td> <td></td> <td></td> <td></td> <td></td> <td></td> <td></td> <td></td> <td></td>\n",
    "</tr>\n",
    "<tr>\n",
    "<td height=\"30\"></td> <td></td> <td></td> <td></td> <td></td> <td></td> <td></td> <td></td> <td></td> <td></td>\n",
    "</tr>\n",
    "<tr>\n",
    "<td height=\"30\"></td> <td></td> <td></td> <td></td> <td></td> <td></td> <td></td> <td></td> <td></td> <td></td>\n",
    "</tr>\n",
    "<tr>\n",
    "<td height=\"30\"></td> <td></td> <td></td> <td></td> <td></td> <td></td> <td></td> <td></td> <td></td> <td></td>\n",
    "</tr>\n",
    "<tr>\n",
    "<td height=\"30\"></td> <td></td> <td></td> <td></td> <td></td> <td></td> <td></td> <td></td> <td></td> <td></td>\n",
    "</tr>\n",
    "<tr>\n",
    "<td height=\"30\"></td> <td></td> <td></td> <td></td> <td></td> <td></td> <td></td> <td></td> <td></td> <td></td>\n",
    "</tr>\n",
    "<tr>\n",
    "<td height=\"30\"></td> <td></td> <td></td> <td></td> <td></td> <td></td> <td></td> <td></td> <td></td> <td></td>\n",
    "</tr>\n",
    "</table>"
   ]
  },
  {
   "cell_type": "markdown",
   "metadata": {},
   "source": [
    "## Problema 2\n",
    "Implemente una **función** que imprima los $n$ primeros números de fibonacci.\n",
    "\n",
    "    fibonacci(20)\n",
    "    1 1 2 3 5 8 13 21 34 55 89 144 233 377 610 987 1597 2584 4181 6765 "
   ]
  },
  {
   "cell_type": "code",
   "execution_count": null,
   "metadata": {
    "collapsed": true
   },
   "outputs": [],
   "source": [
    "# FIX ME\n",
    "\n",
    "fibonacci(20)"
   ]
  },
  {
   "cell_type": "markdown",
   "metadata": {},
   "source": [
    "## Problema 2 - Solución\n",
    "Implemente una **función** que imprima los $n$ primeros números de fibonacci."
   ]
  },
  {
   "cell_type": "code",
   "execution_count": null,
   "metadata": {
    "collapsed": false
   },
   "outputs": [],
   "source": [
    "def fibonacci(n):\n",
    "    a = 1\n",
    "    print a, \n",
    "    b = 1\n",
    "    print b,\n",
    "    count = 2\n",
    "    while count < n:\n",
    "        aux = a\n",
    "        a = b\n",
    "        b = aux + b\n",
    "        count += 1\n",
    "        print b,\n",
    "    print \"\"\n",
    "        \n",
    "fibonacci(5)\n",
    "fibonacci(10)\n",
    "fibonacci(20)\n",
    "fibonacci(-1)"
   ]
  },
  {
   "cell_type": "markdown",
   "metadata": {},
   "source": [
    "## Problema 2 - Ruteo"
   ]
  },
  {
   "cell_type": "code",
   "execution_count": null,
   "metadata": {
    "collapsed": false
   },
   "outputs": [],
   "source": [
    "def fibonacci(n):\n",
    "    a = 1\n",
    "    b = 1\n",
    "    fib = str(a) + \" \" + str(b) \n",
    "    count = 2\n",
    "    while count < n:\n",
    "        aux = a\n",
    "        a = b\n",
    "        b = aux + b\n",
    "        count += 1\n",
    "        fib += \" \" + str(b)\n",
    "    return fib\n",
    "        \n",
    "n = 5\n",
    "print fibonacci(5)"
   ]
  },
  {
   "cell_type": "markdown",
   "metadata": {
    "slideshow": {
     "slide_type": "slide"
    }
   },
   "source": [
    "<table border=\"1\">\n",
    "<tr>\n",
    "<th align=\"center\" colspan=\"3\" width=\"250\">Globales</th> \n",
    "<th colspan=\"7\" width=\"550\">Locales</th>\n",
    "</tr>\n",
    "<tr>\n",
    "<td height=\"30\"></td> <td></td> <td></td> <td></td> <td></td> <td></td> <td></td> <td></td> <td></td> <td></td>\n",
    "</tr>\n",
    "<tr>\n",
    "<td height=\"30\"></td> <td></td> <td></td> <td></td> <td></td> <td></td> <td></td> <td></td> <td></td> <td></td>\n",
    "</tr>\n",
    "<tr>\n",
    "<td height=\"30\"></td> <td></td> <td></td> <td></td> <td></td> <td></td> <td></td> <td></td> <td></td> <td></td>\n",
    "</tr>\n",
    "<tr>\n",
    "<td height=\"30\"></td> <td></td> <td></td> <td></td> <td></td> <td></td> <td></td> <td></td> <td></td> <td></td>\n",
    "</tr>\n",
    "<tr>\n",
    "<td height=\"30\"></td> <td></td> <td></td> <td></td> <td></td> <td></td> <td></td> <td></td> <td></td> <td></td>\n",
    "</tr>\n",
    "<tr>\n",
    "<td height=\"30\"></td> <td></td> <td></td> <td></td> <td></td> <td></td> <td></td> <td></td> <td></td> <td></td>\n",
    "</tr>\n",
    "<tr>\n",
    "<td height=\"30\"></td> <td></td> <td></td> <td></td> <td></td> <td></td> <td></td> <td></td> <td></td> <td></td>\n",
    "</tr>\n",
    "<tr>\n",
    "<td height=\"30\"></td> <td></td> <td></td> <td></td> <td></td> <td></td> <td></td> <td></td> <td></td> <td></td>\n",
    "</tr>\n",
    "<tr>\n",
    "<td height=\"30\"></td> <td></td> <td></td> <td></td> <td></td> <td></td> <td></td> <td></td> <td></td> <td></td>\n",
    "</tr>\n",
    "<tr>\n",
    "<td height=\"30\"></td> <td></td> <td></td> <td></td> <td></td> <td></td> <td></td> <td></td> <td></td> <td></td>\n",
    "</tr>\n",
    "</table>"
   ]
  },
  {
   "cell_type": "markdown",
   "metadata": {},
   "source": [
    "## Problema 3\n",
    "Implemente la función **suma_cuadrados** que sume los primeros cuadrados perfectos menores a un número $n$.\n",
    "\n",
    "#### Ejemplo de output\n",
    "    print suma_cuadrados(10)\n",
    "    14\n",
    "\n",
    "    print suma_cuadrados(100)\n",
    "    385\n",
    "\n",
    "    print suma_cuadrados(500)\n",
    "    3795\n",
    "\n",
    "#### Forma de calculo\n",
    "\n",
    "    suma_cuadrados(0):   0 = 0\n",
    "    suma_cuadrados(1):   1 = 0 + 1\n",
    "    suma_cuadrados(2):   5 = 0 + 1 + 4\n",
    "    suma_cuadrados(3):   14 = 0 + 1 + 4 + 9\n",
    "    suma_cuadrados(4):   30 = 0 + 1 + 4 + 9 + 16\n",
    "    suma_cuadrados(5):   55 = 0 + 1 + 4 + 9 + 16 + 25\n",
    "    suma_cuadrados(6):   91 = 0 + 1 + 4 + 9 + 16 + 25 + 36\n",
    "    suma_cuadrados(7):  140 = 0 + 1 + 4 + 9 + 16 + 25 + 36 + 49\n",
    "    suma_cuadrados(8):  204 = 0 + 1 + 4 + 9 + 16 + 25 + 36 + 49 + 64\n",
    "    suma_cuadrados(9):  285 = 0 + 1 + 4 + 9 + 16 + 25 + 36 + 49 + 64 + 81\n",
    "    suma_cuadrados(10): 385 = 0 + 1 + 4 + 9 + 16 + 25 + 36 + 49 + 64 + 81 + 100"
   ]
  },
  {
   "cell_type": "code",
   "execution_count": null,
   "metadata": {
    "collapsed": true
   },
   "outputs": [],
   "source": [
    "# FIX ME"
   ]
  },
  {
   "cell_type": "markdown",
   "metadata": {},
   "source": [
    "## Problema 3 - Solución\n",
    "Implemente una función **suma_cuadrados** que sume los primeros cuadrados perfectos menores a un número $n$."
   ]
  },
  {
   "cell_type": "code",
   "execution_count": null,
   "metadata": {
    "collapsed": false
   },
   "outputs": [],
   "source": [
    "def suma_cuadrados(n):\n",
    "    j = 0\n",
    "    suma = 0\n",
    "    while j**2 <= n:\n",
    "        suma = suma + j**2\n",
    "        j += 1\n",
    "    return suma\n",
    "\n",
    "print suma_cuadrados(5)\n",
    "print suma_cuadrados(10)\n",
    "print suma_cuadrados(100)\n",
    "print suma_cuadrados(500)"
   ]
  },
  {
   "cell_type": "markdown",
   "metadata": {},
   "source": [
    "## Problema 3 - Ruteo"
   ]
  },
  {
   "cell_type": "code",
   "execution_count": null,
   "metadata": {
    "collapsed": false
   },
   "outputs": [],
   "source": [
    "def suma_cuadrados(n):\n",
    "    j = 0\n",
    "    suma = 0\n",
    "    while j**2 <= n:\n",
    "        suma = suma + j**2\n",
    "        j += 1\n",
    "    return suma\n",
    "\n",
    "print suma_cuadrados(5)"
   ]
  },
  {
   "cell_type": "markdown",
   "metadata": {
    "slideshow": {
     "slide_type": "slide"
    }
   },
   "source": [
    "<table border=\"1\">\n",
    "<tr>\n",
    "<th align=\"center\" colspan=\"3\" width=\"250\">Globales</th> \n",
    "<th colspan=\"7\" width=\"550\">Locales</th>\n",
    "</tr>\n",
    "<tr>\n",
    "<td height=\"30\"></td> <td></td> <td></td> <td></td> <td></td> <td></td> <td></td> <td></td> <td></td> <td></td>\n",
    "</tr>\n",
    "<tr>\n",
    "<td height=\"30\"></td> <td></td> <td></td> <td></td> <td></td> <td></td> <td></td> <td></td> <td></td> <td></td>\n",
    "</tr>\n",
    "<tr>\n",
    "<td height=\"30\"></td> <td></td> <td></td> <td></td> <td></td> <td></td> <td></td> <td></td> <td></td> <td></td>\n",
    "</tr>\n",
    "<tr>\n",
    "<td height=\"30\"></td> <td></td> <td></td> <td></td> <td></td> <td></td> <td></td> <td></td> <td></td> <td></td>\n",
    "</tr>\n",
    "<tr>\n",
    "<td height=\"30\"></td> <td></td> <td></td> <td></td> <td></td> <td></td> <td></td> <td></td> <td></td> <td></td>\n",
    "</tr>\n",
    "<tr>\n",
    "<td height=\"30\"></td> <td></td> <td></td> <td></td> <td></td> <td></td> <td></td> <td></td> <td></td> <td></td>\n",
    "</tr>\n",
    "<tr>\n",
    "<td height=\"30\"></td> <td></td> <td></td> <td></td> <td></td> <td></td> <td></td> <td></td> <td></td> <td></td>\n",
    "</tr>\n",
    "<tr>\n",
    "<td height=\"30\"></td> <td></td> <td></td> <td></td> <td></td> <td></td> <td></td> <td></td> <td></td> <td></td>\n",
    "</tr>\n",
    "<tr>\n",
    "<td height=\"30\"></td> <td></td> <td></td> <td></td> <td></td> <td></td> <td></td> <td></td> <td></td> <td></td>\n",
    "</tr>\n",
    "<tr>\n",
    "<td height=\"30\"></td> <td></td> <td></td> <td></td> <td></td> <td></td> <td></td> <td></td> <td></td> <td></td>\n",
    "</tr>\n",
    "</table>"
   ]
  },
  {
   "cell_type": "code",
   "execution_count": null,
   "metadata": {
    "collapsed": false,
    "slideshow": {
     "slide_type": "skip"
    }
   },
   "outputs": [],
   "source": [
    "def suma_cuadrados_explained(n):\n",
    "    j = 0\n",
    "    suma = 0\n",
    "    while j**2 <= n:\n",
    "        suma = suma + j**2\n",
    "        print str(suma) + \" = \" + \" + \".join([str(i**2) for i in range(j+1)]) \n",
    "        j += 1\n",
    "    return suma\n",
    "\n",
    "suma_cuadrados_explained(100)"
   ]
  },
  {
   "cell_type": "markdown",
   "metadata": {},
   "source": [
    "## Minitarea 2\n",
    "Elegir al menos uno de los ejercicios propuestos en http://progra.usm.cl/apunte/ejercicios/1/index.html en la sección de Ciclos:\n",
    "\n",
    "* Múltiplos\n",
    "* Potencias de dos\n",
    "* Suma entre números\n",
    "* Tabla de multiplicar\n",
    "* Divisores\n",
    "* Tiempo de viaje\n",
    "* Dibujos de asteriscos\n",
    "* $\\pi$\n",
    "* Suma de fracciones\n",
    "* $e$\n",
    "* Secuencia de Collatz"
   ]
  }
 ],
 "metadata": {
  "celltoolbar": "Slideshow",
  "kernelspec": {
   "display_name": "Python 2",
   "language": "python",
   "name": "python2"
  },
  "language_info": {
   "codemirror_mode": {
    "name": "ipython",
    "version": 2
   },
   "file_extension": ".py",
   "mimetype": "text/x-python",
   "name": "python",
   "nbconvert_exporter": "python",
   "pygments_lexer": "ipython2",
   "version": "2.7.6"
  }
 },
 "nbformat": 4,
 "nbformat_minor": 0
}
