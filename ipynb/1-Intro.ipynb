{
 "cells": [
  {
   "cell_type": "markdown",
   "metadata": {},
   "source": [
    "# Intro"
   ]
  },
  {
   "cell_type": "markdown",
   "metadata": {},
   "source": [
    "## Evaluaciones\n",
    "\n",
    "Tres cert ́amenes.\n",
    "Tres tareas en equipo.\n",
    "Varias actividades en equipo.\n",
    "Un certamen recuperativo (reemplaza el peor certamen)\n",
    "Asistencia Ayudant ́ıas (reemplaza el peor trabajo en\n",
    "equipo)\n",
    "Nota final:\n",
    "Si PC ≥ 55:\n",
    "NF = 0,60 · PC + 0,2 · PT + 0,2 · PAE.\n",
    "Sino:\n",
    "NF = PC."
   ]
  },
  {
   "cell_type": "markdown",
   "metadata": {},
   "source": [
    "## Sitio web del ramo\n",
    "\n",
    "http://progra.usm.cl\n",
    " ́ del ramo,\n",
    "informaci on\n",
    "materia,\n",
    "ejercicios,\n",
    "material subido por el profesor,\n",
    "entrega de tareas.\n",
    "http://twitter.com/progra_usm\n",
    " ́ USM\n",
    "http://facebook.com/ → Programaci on\n",
    "noticias,\n",
    "anuncios,\n",
    "consultas."
   ]
  },
  {
   "cell_type": "markdown",
   "metadata": {},
   "source": [
    "## Programación\n",
    "\n",
    "Problema:\n",
    "Entrada -> Salida\n",
    "\n",
    "Algoritmo\n",
    "Secuencia de pasos para resolver un problema\n",
    "\n",
    "Programa\n",
    "Secuencia de instrucciones descritas en un lenguaje que puede\n",
    "ser entendido por el computador"
   ]
  },
  {
   "cell_type": "markdown",
   "metadata": {},
   "source": [
    "## Ejemplo de problema\n",
    "\n",
    "Funcion lineal -> zeros de la función\n",
    "\n",
    "Funcion cualquiera -> zeros de la función\n"
   ]
  },
  {
   "cell_type": "markdown",
   "metadata": {},
   "source": [
    "## Ejemplo de problema\n",
    "\n",
    "Conjunto de números -> números ordenados demayor a menor.\n",
    "\n",
    "Conjunto de ciudades -> Camino más corto que une todas las ciudades (sin repetir)"
   ]
  },
  {
   "cell_type": "markdown",
   "metadata": {},
   "source": [
    "## Ejemplo de problema\n",
    "\n",
    "Mensaje de email -> Probabilidad de que email sea spam."
   ]
  },
  {
   "cell_type": "markdown",
   "metadata": {},
   "source": [
    "## Ejemplo de problema\n",
    "\n",
    "Mediciones de sismógrafos -> Ciudades en las que hay que emitir alerta de tsunami."
   ]
  },
  {
   "cell_type": "markdown",
   "metadata": {},
   "source": [
    "## Ejercicio \n",
    "\n",
    "Un número n se llama primo si sólo no exiten nimeros que lo dividan.\n",
    "\n",
    "Diseñar un algoritmo que decida si un número es primo o no."
   ]
  },
  {
   "cell_type": "markdown",
   "metadata": {},
   "source": [
    "### Solución en lenguaje natural\n",
    "\n",
    " * Recorrer todos los enteros entre 2 y n-1.\n",
    " * Si al menos uno de estos números es divisor de n, entonces n es compuesto. Si no, es primo."
   ]
  },
  {
   "cell_type": "markdown",
   "metadata": {},
   "source": [
    "### Solución en diagrama de flujo\n",
    "\n",
    "IMAGEN"
   ]
  },
  {
   "cell_type": "markdown",
   "metadata": {},
   "source": [
    "### Solución en pseudocódigo"
   ]
  },
  {
   "cell_type": "code",
   "execution_count": 2,
   "metadata": {
    "collapsed": false
   },
   "outputs": [
    {
     "ename": "SyntaxError",
     "evalue": "invalid syntax (<ipython-input-2-dc35a261a7ee>, line 1)",
     "output_type": "error",
     "traceback": [
      "\u001b[1;36m  File \u001b[1;32m\"<ipython-input-2-dc35a261a7ee>\"\u001b[1;36m, line \u001b[1;32m1\u001b[0m\n\u001b[1;33m    leer n\u001b[0m\n\u001b[1;37m         ^\u001b[0m\n\u001b[1;31mSyntaxError\u001b[0m\u001b[1;31m:\u001b[0m invalid syntax\n"
     ]
    }
   ],
   "source": [
    "leer n\n",
    "es_primo = verdadero\n",
    "d=1\n",
    "mientras d menor n:\n",
    "    si n es divisible por d:\n",
    "        es primo = falso\n",
    "    d=d+1\n",
    "si es primo es verdadero:\n",
    "    escribir “n es primo”\n",
    "o si no:\n",
    "    escribir “n es compuesto”"
   ]
  },
  {
   "cell_type": "markdown",
   "metadata": {},
   "source": [
    "### Solución en código (1)"
   ]
  },
  {
   "cell_type": "code",
   "execution_count": 13,
   "metadata": {
    "collapsed": false
   },
   "outputs": [
    {
     "name": "stdout",
     "output_type": "stream",
     "text": [
      "Ingrese n: 10\n"
     ]
    },
    {
     "ename": "TypeError",
     "evalue": "eval() takes no keyword arguments",
     "output_type": "error",
     "traceback": [
      "\u001b[1;31m---------------------------------------------------------------------------\u001b[0m",
      "\u001b[1;31mTypeError\u001b[0m                                 Traceback (most recent call last)",
      "\u001b[1;32m<ipython-input-13-12a60e9471e0>\u001b[0m in \u001b[0;36m<module>\u001b[1;34m()\u001b[0m\n\u001b[1;32m----> 1\u001b[1;33m \u001b[0mn\u001b[0m \u001b[1;33m=\u001b[0m \u001b[0mint\u001b[0m\u001b[1;33m(\u001b[0m\u001b[0mraw_input\u001b[0m\u001b[1;33m(\u001b[0m\u001b[1;34m'Ingrese n: '\u001b[0m\u001b[1;33m)\u001b[0m\u001b[1;33m)\u001b[0m\u001b[1;33m\u001b[0m\u001b[0m\n\u001b[0m\u001b[0;32m      2\u001b[0m \u001b[0mes_primo\u001b[0m \u001b[1;33m=\u001b[0m \u001b[1;32mTrue\u001b[0m\u001b[1;33m\u001b[0m\u001b[0m\n\u001b[0;32m      3\u001b[0m \u001b[0md\u001b[0m \u001b[1;33m=\u001b[0m \u001b[1;36m2\u001b[0m\u001b[1;33m\u001b[0m\u001b[0m\n\u001b[0;32m      4\u001b[0m \u001b[1;32mwhile\u001b[0m \u001b[0md\u001b[0m \u001b[1;33m<\u001b[0m \u001b[0mn\u001b[0m\u001b[1;33m:\u001b[0m\u001b[1;33m\u001b[0m\u001b[0m\n\u001b[0;32m      5\u001b[0m     \u001b[1;32mif\u001b[0m \u001b[0mn\u001b[0m \u001b[1;33m%\u001b[0m \u001b[0md\u001b[0m \u001b[1;33m==\u001b[0m \u001b[1;36m0\u001b[0m\u001b[1;33m:\u001b[0m\u001b[1;33m\u001b[0m\u001b[0m\n",
      "\u001b[1;32m<ipython-input-11-ac1844afcd19>\u001b[0m in \u001b[0;36m<lambda>\u001b[1;34m(x)\u001b[0m\n\u001b[1;32m----> 1\u001b[1;33m \u001b[0mraw_input\u001b[0m \u001b[1;33m=\u001b[0m \u001b[1;32mlambda\u001b[0m \u001b[0mx\u001b[0m\u001b[1;33m:\u001b[0m \u001b[0meval\u001b[0m\u001b[1;33m(\u001b[0m\u001b[0ma\u001b[0m \u001b[1;33m=\u001b[0m \u001b[0minput\u001b[0m\u001b[1;33m(\u001b[0m\u001b[0mx\u001b[0m\u001b[1;33m)\u001b[0m\u001b[1;33m)\u001b[0m\u001b[1;33m\u001b[0m\u001b[0m\n\u001b[0m",
      "\u001b[1;31mTypeError\u001b[0m: eval() takes no keyword arguments"
     ]
    }
   ],
   "source": [
    "n = int(raw_input('Ingrese n: '))\n",
    "es_primo = True\n",
    "d = 2\n",
    "while d < n:\n",
    "    if n % d == 0:\n",
    "        es_primo = False\n",
    "    d = d + 1\n",
    "if es_primo:\n",
    "    print(n, 'es primo')\n",
    "else:\n",
    "    print(n, 'es compuesto')"
   ]
  },
  {
   "cell_type": "code",
   "execution_count": null,
   "metadata": {
    "collapsed": true
   },
   "outputs": [],
   "source": []
  }
 ],
 "metadata": {
  "kernelspec": {
   "display_name": "Python 3",
   "language": "python",
   "name": "python3"
  },
  "language_info": {
   "codemirror_mode": {
    "name": "ipython",
    "version": 3
   },
   "file_extension": ".py",
   "mimetype": "text/x-python",
   "name": "python",
   "nbconvert_exporter": "python",
   "pygments_lexer": "ipython3",
   "version": "3.4.0"
  }
 },
 "nbformat": 4,
 "nbformat_minor": 0
}
