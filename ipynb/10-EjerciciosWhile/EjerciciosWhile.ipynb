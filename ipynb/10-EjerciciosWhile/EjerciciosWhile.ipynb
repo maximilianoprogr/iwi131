{
 "cells": [
  {
   "cell_type": "code",
   "execution_count": null,
   "metadata": {
    "collapsed": false,
    "slideshow": {
     "slide_type": "skip"
    }
   },
   "outputs": [],
   "source": [
    "\"\"\"\n",
    "IPython Notebook v4.0 para python 2.7\n",
    "Librerías adicionales: Ninguna.\n",
    "Contenido bajo licencia CC-BY 4.0. Código bajo licencia MIT. (c) Sebastian Flores.\n",
    "\"\"\"\n",
    "\n",
    "# Configuracion para recargar módulos y librerías \n",
    "%reload_ext autoreload\n",
    "%autoreload 2\n",
    "\n",
    "from IPython.core.display import HTML\n",
    "\n",
    "HTML(open(\"style/iwi131.css\", \"r\").read())"
   ]
  },
  {
   "cell_type": "markdown",
   "metadata": {
    "slideshow": {
     "slide_type": "slide"
    }
   },
   "source": [
    "<header class=\"w3-container w3-teal\">\n",
    "<img src=\"images/utfsm.png\" alt=\"\" align=\"left\"/>\n",
    "<img src=\"images/inf.png\" alt=\"\" align=\"right\"/>\n",
    "</header>\n",
    "<br/><br/><br/><br/><br/>\n",
    "# IWI131\n",
    "## Programación de Computadores\n",
    "\n",
    "### Sebastián Flores\n",
    "\n",
    "http://progra.usm.cl/ \n",
    "\n",
    "https://www.github.com/usantamaria/iwi131\n"
   ]
  },
  {
   "cell_type": "markdown",
   "metadata": {
    "slideshow": {
     "slide_type": "slide"
    }
   },
   "source": [
    "## Clase anterior\n",
    "* Ejercicios de ciclo while.\n",
    "\n",
    "¿Preguntas?"
   ]
  },
  {
   "cell_type": "markdown",
   "metadata": {
    "slideshow": {
     "slide_type": "slide"
    }
   },
   "source": [
    "## Próximamente...\n",
    "* **16 Nov**: Actividad 2.\n",
    "* **20 Nov**: Tarea 1.\n",
    "* **23 Nov**: Certamen 1."
   ]
  },
  {
   "cell_type": "markdown",
   "metadata": {
    "slideshow": {
     "slide_type": "slide"
    }
   },
   "source": [
    "## ¿Qué haremos?\n",
    "\n",
    "* Todos los ejercicios de while que sean posibles."
   ]
  },
  {
   "cell_type": "markdown",
   "metadata": {
    "slideshow": {
     "slide_type": "slide"
    }
   },
   "source": [
    "## ¿Porqué aprenderemos ese contenido?\n",
    "\n",
    "* Todos los ejercicios de while que sean posibles.\n",
    "\n",
    "**La práctica hace al maestro**"
   ]
  },
  {
   "cell_type": "markdown",
   "metadata": {
    "slideshow": {
     "slide_type": "slide"
    }
   },
   "source": [
    "## Minitareas\n",
    "\n",
    "1. Múltiplos\n",
    "2. Potencias de dos\n",
    "3. Suma entre números\n",
    "4. Tabla de multiplicar\n",
    "5. Divisores\n",
    "6. Tiempo de viaje\n",
    "7. Dibujos de asteriscos\n",
    "8. $\\pi$\n",
    "9. Suma de fracciones\n",
    "10. $e$\n",
    "11. Secuencia de Collatz"
   ]
  },
  {
   "cell_type": "markdown",
   "metadata": {
    "slideshow": {
     "slide_type": "slide"
    }
   },
   "source": [
    "## 1. Múltiplos\n",
    "\n",
    "Escriba un programa que muestre la tabla de multiplicar del 1 al 10 del número ingresado por el usuario:\n",
    "\n",
    "    Ingrese un numero: 9\n",
    "    9 x 1 = 9\n",
    "    9 x 2 = 18\n",
    "    9 x 3 = 27\n",
    "    9 x 4 = 36\n",
    "    9 x 5 = 45\n",
    "    9 x 6 = 54\n",
    "    9 x 7 = 63\n",
    "    9 x 8 = 72\n",
    "    9 x 9 = 81\n",
    "    9 x 10 = 90"
   ]
  },
  {
   "cell_type": "markdown",
   "metadata": {
    "slideshow": {
     "slide_type": "slide"
    }
   },
   "source": [
    "## 1. Múltiplos\n",
    "\n",
    "Escriba un programa que muestre la tabla de multiplicar del 1 al 10 del número ingresado por el usuario.\n",
    "\n",
    "#### Análisis\n",
    "* ¿Cuántos inputs se necesitan? ¿De qué tipo?\n",
    "* ¿Cuántos outputs se necesitan? ¿De qué tipo?\n",
    "* ¿Se solicita algo extra (funcion/ruteo/print, etc.)?"
   ]
  },
  {
   "cell_type": "markdown",
   "metadata": {
    "slideshow": {
     "slide_type": "slide"
    }
   },
   "source": [
    "## 1. Múltiplos\n",
    "\n",
    "Escriba un programa que muestre la tabla de multiplicar del 1 al 10 del número ingresado por el usuario."
   ]
  },
  {
   "cell_type": "code",
   "execution_count": null,
   "metadata": {
    "collapsed": true
   },
   "outputs": [],
   "source": [
    "# Solución estudiantes\n"
   ]
  },
  {
   "cell_type": "markdown",
   "metadata": {
    "slideshow": {
     "slide_type": "slide"
    }
   },
   "source": [
    "## 1. Múltiplos\n",
    "\n",
    "Escriba un programa que muestre la tabla de multiplicar del 1 al 10 del número ingresado por el usuario."
   ]
  },
  {
   "cell_type": "code",
   "execution_count": null,
   "metadata": {
    "collapsed": false
   },
   "outputs": [],
   "source": [
    "# Solución\n",
    "N = int(raw_input(\"Ingrese un numero: \"))\n",
    "M = 10\n",
    "j = 1\n",
    "while j<=M:\n",
    "    print N, \"x\", j, \"=\", N*j\n",
    "    j += 1"
   ]
  },
  {
   "cell_type": "markdown",
   "metadata": {
    "slideshow": {
     "slide_type": "slide"
    }
   },
   "source": [
    "## 2. Potencias de dos\n",
    "Escriba un programa que genere todas las potencias de 2, desde la 0-ésima hasta la ingresada por el usuario:\n",
    "\n",
    "    Ingrese num: 10\n",
    "    1 2 4 8 16 32 64 128 256 512 1024\n",
    "    \n",
    "#### Análisis\n",
    "* ¿Cuántos inputs se necesitan? ¿De qué tipo?\n",
    "* ¿Cuántos outputs se necesitan? ¿De qué tipo?\n",
    "* ¿Se solicita algo extra (funcion/ruteo/print, etc.)?"
   ]
  },
  {
   "cell_type": "markdown",
   "metadata": {
    "slideshow": {
     "slide_type": "slide"
    }
   },
   "source": [
    "## 2. Potencias de dos\n",
    "Escriba un programa que genere todas las potencias de 2, desde la 0-ésima hasta la ingresada por el usuario."
   ]
  },
  {
   "cell_type": "code",
   "execution_count": null,
   "metadata": {
    "collapsed": true
   },
   "outputs": [],
   "source": [
    "# Solucion estudiantes"
   ]
  },
  {
   "cell_type": "markdown",
   "metadata": {
    "slideshow": {
     "slide_type": "slide"
    }
   },
   "source": [
    "## 2. Potencias de dos\n",
    "Escriba un programa que genere todas las potencias de 2, desde la 0-ésima hasta la ingresada por el usuario."
   ]
  },
  {
   "cell_type": "code",
   "execution_count": null,
   "metadata": {
    "collapsed": false
   },
   "outputs": [],
   "source": [
    "# Solución\n",
    "N = int(raw_input(\"Ingrese num: \"))\n",
    "M = 10\n",
    "j = 0\n",
    "while j<=M:\n",
    "    print 2**j,\n",
    "    j += 1"
   ]
  },
  {
   "cell_type": "markdown",
   "metadata": {
    "slideshow": {
     "slide_type": "slide"
    }
   },
   "source": [
    "## 3. Suma entre números\n",
    "Escriba un programa que pida al usuario dos números enteros, y luego entregue la suma de todos los números que están entre ellos. Por ejemplo, si los números son 1 y 7, debe entregar como resultado 2 + 3 + 4 + 5 + 6 = 20.\n",
    "\n",
    "    Ingrese num: 1\n",
    "    Ingrese num: 7\n",
    "    La suma es 20\n",
    "\n",
    "    \n",
    "#### Análisis\n",
    "* ¿Cuántos inputs se necesitan? ¿De qué tipo?\n",
    "* ¿Cuántos outputs se necesitan? ¿De qué tipo?\n",
    "* ¿Se solicita algo extra (funcion/ruteo/print, etc.)?"
   ]
  },
  {
   "cell_type": "markdown",
   "metadata": {
    "slideshow": {
     "slide_type": "slide"
    }
   },
   "source": [
    "## 3. Suma entre números\n",
    "Escriba un programa que pida al usuario dos números enteros, y luego entregue la suma de todos los números que están entre ellos."
   ]
  },
  {
   "cell_type": "code",
   "execution_count": null,
   "metadata": {
    "collapsed": false
   },
   "outputs": [],
   "source": [
    "# Solucion estudiantes"
   ]
  },
  {
   "cell_type": "markdown",
   "metadata": {
    "slideshow": {
     "slide_type": "slide"
    }
   },
   "source": [
    "## 3. Suma entre números\n",
    "Escriba un programa que pida al usuario dos números enteros, y luego entregue la suma de todos los números que están entre ellos."
   ]
  },
  {
   "cell_type": "code",
   "execution_count": null,
   "metadata": {
    "collapsed": false
   },
   "outputs": [],
   "source": [
    "# Solucion\n",
    "N = int(raw_input(\"Ingrese num: \"))\n",
    "M = int(raw_input(\"Ingrese num: \"))\n",
    "j = N+1\n",
    "suma = 0\n",
    "while j<M:\n",
    "    suma = suma + j\n",
    "    j += 1\n",
    "print \"La suma es \", suma"
   ]
  },
  {
   "cell_type": "markdown",
   "metadata": {
    "slideshow": {
     "slide_type": "slide"
    }
   },
   "source": [
    "## 4. Tabla de Multiplicar\n",
    "Escriba un programa que muestre una tabla de multiplicar como la siguiente:\n",
    "\n",
    "     1   2   3   4   5   6   7   8   9  10\n",
    "     2   4   6   8  10  12  14  16  18  20\n",
    "     3   6   9  12  15  18  21  24  27  30\n",
    "     4   8  12  16  20  24  28  32  36  40\n",
    "     5  10  15  20  25  30  35  40  45  50\n",
    "     6  12  18  24  30  36  42  48  54  60\n",
    "     7  14  21  28  35  42  49  56  63  70\n",
    "     8  16  24  32  40  48  56  64  72  80\n",
    "     9  18  27  36  45  54  63  72  81  90\n",
    "    10  20  30  40  50  60  70  80  90 100\n",
    "    \n",
    "Los números deben estar alineados a la derecha. "
   ]
  },
  {
   "cell_type": "markdown",
   "metadata": {
    "slideshow": {
     "slide_type": "slide"
    }
   },
   "source": [
    "## 4. Tabla de Multiplicar\n",
    "Escriba un programa que muestre una tabla de multiplicar. \n",
    "    \n",
    "#### Análisis\n",
    "* ¿Cuántos inputs se necesitan? ¿De qué tipo?\n",
    "* ¿Cuántos outputs se necesitan? ¿De qué tipo?\n",
    "* ¿Se solicita algo extra (funcion/ruteo/print, etc.)?"
   ]
  },
  {
   "cell_type": "markdown",
   "metadata": {
    "slideshow": {
     "slide_type": "slide"
    }
   },
   "source": [
    "## 4. Tabla de Multiplicar\n",
    "Escriba un programa que muestre una tabla de multiplicar."
   ]
  },
  {
   "cell_type": "code",
   "execution_count": null,
   "metadata": {
    "collapsed": true
   },
   "outputs": [],
   "source": [
    "# Solución estudiantes\n"
   ]
  },
  {
   "cell_type": "markdown",
   "metadata": {
    "slideshow": {
     "slide_type": "slide"
    }
   },
   "source": [
    "## 4. Tabla de Multiplicar\n",
    "Escriba un programa que muestre una tabla de multiplicar."
   ]
  },
  {
   "cell_type": "code",
   "execution_count": null,
   "metadata": {
    "collapsed": false
   },
   "outputs": [],
   "source": [
    "i = 1\n",
    "while i<=10:\n",
    "    j = 1\n",
    "    while j<=10:\n",
    "        print \"%3d\" %(i*j),\n",
    "        j += 1\n",
    "    print \"\"\n",
    "    i += 1 "
   ]
  },
  {
   "cell_type": "markdown",
   "metadata": {
    "slideshow": {
     "slide_type": "slide"
    }
   },
   "source": [
    "## 5. Divisores\n",
    "Escriba un programa que entregue todos los divisores del número entero ingresado:\n",
    "\n",
    "    Ingrese numero: 200\n",
    "    1 2 4 5 8 10 20 25 40 50 100 200\n",
    "\n",
    "    \n",
    "#### Análisis\n",
    "* ¿Cuántos inputs se necesitan? ¿De qué tipo?\n",
    "* ¿Cuántos outputs se necesitan? ¿De qué tipo?\n",
    "* ¿Se solicita algo extra (funcion/ruteo/print, etc.)?"
   ]
  },
  {
   "cell_type": "markdown",
   "metadata": {
    "slideshow": {
     "slide_type": "slide"
    }
   },
   "source": [
    "## 5. Divisores\n",
    "Escriba un programa que entregue todos los divisores del número entero ingresado."
   ]
  },
  {
   "cell_type": "code",
   "execution_count": null,
   "metadata": {
    "collapsed": false
   },
   "outputs": [],
   "source": [
    "# Solución estudiantes\n"
   ]
  },
  {
   "cell_type": "markdown",
   "metadata": {
    "slideshow": {
     "slide_type": "slide"
    }
   },
   "source": [
    "## 5. Divisores\n",
    "Escriba un programa que entregue todos los divisores del número entero ingresado."
   ]
  },
  {
   "cell_type": "code",
   "execution_count": null,
   "metadata": {
    "collapsed": false
   },
   "outputs": [],
   "source": [
    "# Solucion\n",
    "N = int(raw_input(\"Ingrese numero: \"))\n",
    "j = 1\n",
    "suma = 0\n",
    "while j<=N:\n",
    "    if (N%j==0):\n",
    "        print j, \n",
    "    j += 1"
   ]
  },
  {
   "cell_type": "markdown",
   "metadata": {
    "slideshow": {
     "slide_type": "slide"
    }
   },
   "source": [
    "## 6. Tiempo de viaje\n",
    "Un viajero desea saber cuánto tiempo tomó un viaje que realizó. Él tiene la duración en minutos de cada uno de los tramos del viaje.\n",
    "\n",
    "Desarrolle un programa que permita ingresar los tiempos de viaje de los tramos y entregue como resultado el tiempo total de viaje en formato horas:minutos.\n",
    "\n",
    "El programa deja de pedir tiempos de viaje cuando se ingresa un 0."
   ]
  },
  {
   "cell_type": "markdown",
   "metadata": {
    "slideshow": {
     "slide_type": "slide"
    }
   },
   "source": [
    "## 6. Tiempo de viaje\n",
    "\n",
    "    Duracion tramo: 15\n",
    "    Duracion tramo: 30\n",
    "    Duracion tramo: 87\n",
    "    Duracion tramo: 0\n",
    "    Tiempo total de viaje: 2:12 horas\n",
    "\n",
    "    Duracion tramo: 51\n",
    "    Duracion tramo: 17\n",
    "    Duracion tramo: 0\n",
    "    Tiempo total de viaje: 1:08 horas"
   ]
  },
  {
   "cell_type": "markdown",
   "metadata": {
    "slideshow": {
     "slide_type": "slide"
    }
   },
   "source": [
    "## 6. Tiempo de viaje\n",
    "    \n",
    "#### Análisis\n",
    "* ¿Cuántos inputs se necesitan? ¿De qué tipo?\n",
    "* ¿Cuántos outputs se necesitan? ¿De qué tipo?\n",
    "* ¿Se solicita algo extra (funcion/ruteo/print, etc.)?"
   ]
  },
  {
   "cell_type": "markdown",
   "metadata": {
    "slideshow": {
     "slide_type": "slide"
    }
   },
   "source": [
    "## 6. Tiempo de viaje\n",
    "Un viajero desea saber cuánto tiempo tomó un viaje que realizó. Él tiene la duración en minutos de cada uno de los tramos del viaje.\n",
    "\n",
    "Desarrolle un programa que permita ingresar los tiempos de viaje de los tramos y entregue como resultado el tiempo total de viaje en formato horas:minutos.\n",
    "\n",
    "El programa deja de pedir tiempos de viaje cuando se ingresa un 0."
   ]
  },
  {
   "cell_type": "code",
   "execution_count": null,
   "metadata": {
    "collapsed": true
   },
   "outputs": [],
   "source": [
    "# Solucion estudiantes"
   ]
  },
  {
   "cell_type": "markdown",
   "metadata": {
    "slideshow": {
     "slide_type": "slide"
    }
   },
   "source": [
    "## 6. Tiempo de viaje\n",
    "Un viajero desea saber cuánto tiempo tomó un viaje que realizó. Él tiene la duración en minutos de cada uno de los tramos del viaje. Desarrolle un programa que permita ingresar los tiempos de viaje de los tramos y entregue como resultado el tiempo total de viaje en formato horas:minutos."
   ]
  },
  {
   "cell_type": "code",
   "execution_count": null,
   "metadata": {
    "collapsed": false
   },
   "outputs": [],
   "source": [
    "duracion_tramo = -1\n",
    "suma_tramos = 0\n",
    "while duracion_tramo!=0:\n",
    "    duracion_tramo = int(raw_input(\"Duracion tramo: \"))\n",
    "    suma_tramos += duracion_tramo\n",
    "horas = suma_tramos/60\n",
    "minutos = suma_tramos%60\n",
    "print \"Tiempo total de viaje: %d:%2d horas\" %(horas, minutos)"
   ]
  },
  {
   "cell_type": "markdown",
   "metadata": {
    "slideshow": {
     "slide_type": "slide"
    }
   },
   "source": [
    "## 7.1 Dibujos de asteriscos\n",
    "Escriba un programa que pida al usuario ingresar la altura y el ancho de un rectángulo y lo dibuje utilizando asteriscos:\n",
    "\n",
    "    Altura: 3\n",
    "    Ancho: 5\n",
    "\n",
    "    *****\n",
    "    *****\n",
    "    *****"
   ]
  },
  {
   "cell_type": "markdown",
   "metadata": {
    "slideshow": {
     "slide_type": "slide"
    }
   },
   "source": [
    "## 7.1 Dibujos de asteriscos\n",
    "Escriba un programa que pida al usuario ingresar la altura y el ancho de un rectángulo y lo dibuje utilizando asteriscos."
   ]
  },
  {
   "cell_type": "code",
   "execution_count": null,
   "metadata": {
    "collapsed": false
   },
   "outputs": [],
   "source": [
    "altura = int(raw_input(\"Altura: \"))\n",
    "ancho = int(raw_input(\"Ancho: \"))\n",
    "# Mitad superior\n",
    "j = 1\n",
    "while j<=altura:\n",
    "    print \"*\"*ancho\n",
    "    j += 1"
   ]
  },
  {
   "cell_type": "markdown",
   "metadata": {
    "slideshow": {
     "slide_type": "slide"
    }
   },
   "source": [
    "## 7.2 Dibujos de asteriscos\n",
    "\n",
    "Escriba un programa que dibuje el triángulo del tamaño indicado por el usuario de acuerdo al ejemplo:\n",
    "\n",
    "    Altura: 5\n",
    "\n",
    "    *\n",
    "    **\n",
    "    ***\n",
    "    ****\n",
    "    *****"
   ]
  },
  {
   "cell_type": "markdown",
   "metadata": {
    "slideshow": {
     "slide_type": "slide"
    }
   },
   "source": [
    "## 7.2 Dibujos de asteriscos\n",
    "\n",
    "Escriba un programa que dibuje el triángulo del tamaño indicado por el usuario de acuerdo al ejemplo."
   ]
  },
  {
   "cell_type": "code",
   "execution_count": null,
   "metadata": {
    "collapsed": false
   },
   "outputs": [],
   "source": [
    "altura = int(raw_input(\"Altura: \"))\n",
    "# Mitad superior\n",
    "j = 1\n",
    "while j<=altura:\n",
    "    print \"*\"*(j)\n",
    "    j += 1"
   ]
  },
  {
   "cell_type": "markdown",
   "metadata": {
    "slideshow": {
     "slide_type": "slide"
    }
   },
   "source": [
    "## 7.3  Dibujos de asteriscos\n",
    "\n",
    "Escriba un programa que dibuje el hexágono del tamaño indicado por el usuario de acuerdo al ejemplo:\n",
    "\n",
    "    Lado: 4\n",
    "\n",
    "       ****\n",
    "      ******\n",
    "     ********\n",
    "    **********\n",
    "     ********\n",
    "      ******\n",
    "       **** "
   ]
  },
  {
   "cell_type": "markdown",
   "metadata": {
    "slideshow": {
     "slide_type": "slide"
    }
   },
   "source": [
    "## 7.3  Dibujos de asteriscos\n",
    "\n",
    "Escriba un programa que dibuje el hexágono del tamaño indicado por el usuario de acuerdo al ejemplo."
   ]
  },
  {
   "cell_type": "code",
   "execution_count": null,
   "metadata": {
    "collapsed": false
   },
   "outputs": [],
   "source": [
    "lado = int(raw_input(\"Lado: \"))\n",
    "# Calculos previos\n",
    "ancho_max = lado + 2*(lado-1)\n",
    "# Mitad superior\n",
    "j = 1\n",
    "while j<lado:\n",
    "    ancho = lado + 2*j - 2\n",
    "    espacio = (ancho_max - ancho)/2\n",
    "    print \" \"*espacio + \"*\"*ancho\n",
    "    j += 1\n",
    "# Linea del medio\n",
    "print \"*\" * ancho_max\n",
    "# Mitad inferior\n",
    "j = 1\n",
    "while j<lado:\n",
    "    espacio = j\n",
    "    ancho = ancho_max - 2*j\n",
    "    print \" \"*espacio + \"*\"*ancho\n",
    "    j += 1"
   ]
  },
  {
   "cell_type": "markdown",
   "metadata": {
    "slideshow": {
     "slide_type": "slide"
    }
   },
   "source": [
    "## 8. $\\pi$\n",
    "Desarrolle un programa para estimar el valor de π usando la siguiente suma infinita:\n",
    "\n",
    "$$ \\pi = 4 \\Big(\\frac{1}{1} - \\frac{1}{3} + \\frac{1}{5} - \\frac{1}{7} + ... \\Big)$$\n",
    "\n",
    "La entrada del programa debe ser un número entero n que indique cuántos términos de la suma se utilizará.\n",
    "\n",
    "    n: 3\n",
    "    3.466666666666667\n",
    "\n",
    "    n: 1000\n",
    "    3.140592653839794 "
   ]
  },
  {
   "cell_type": "markdown",
   "metadata": {
    "slideshow": {
     "slide_type": "slide"
    }
   },
   "source": [
    "## 8. $\\pi$\n",
    "Desarrolle un programa para estimar el valor de π usando la siguiente suma infinita:\n",
    "\n",
    "$$ \\pi = 4 \\Big(\\frac{1}{1} - \\frac{1}{3} + \\frac{1}{5} - \\frac{1}{7} + ... \\Big)$$\n",
    "\n",
    "La entrada del programa debe ser un número entero n que indique cuántos términos de la suma se utilizará.\n",
    "\n",
    "#### Análisis\n",
    "* ¿Cuántos inputs se necesitan? ¿De qué tipo?\n",
    "* ¿Cuántos outputs se necesitan? ¿De qué tipo?\n",
    "* ¿Se solicita algo extra (funcion/ruteo/print, etc.)?"
   ]
  },
  {
   "cell_type": "markdown",
   "metadata": {
    "slideshow": {
     "slide_type": "slide"
    }
   },
   "source": [
    "## 8. $\\pi$\n",
    "Desarrolle un programa para estimar el valor de $\\pi$ usando la siguiente suma infinita $ \\pi = 4 \\Big(\\frac{1}{1} - \\frac{1}{3} + \\frac{1}{5} - \\frac{1}{7} + ... \\Big)$.\n",
    "\n",
    "La entrada del programa debe ser un número entero n que indique cuántos términos de la suma se utilizará."
   ]
  },
  {
   "cell_type": "code",
   "execution_count": null,
   "metadata": {
    "collapsed": true
   },
   "outputs": [],
   "source": [
    "# Solución estudiantes\n"
   ]
  },
  {
   "cell_type": "markdown",
   "metadata": {
    "slideshow": {
     "slide_type": "slide"
    }
   },
   "source": [
    "## 8. $\\pi$\n",
    "Desarrolle un programa para estimar el valor de $\\pi$ usando la siguiente suma infinita $ \\pi = 4 \\Big(\\frac{1}{1} - \\frac{1}{3} + \\frac{1}{5} - \\frac{1}{7} + ... \\Big)$.\n",
    "\n",
    "La entrada del programa debe ser un número entero n que indique cuántos términos de la suma se utilizará."
   ]
  },
  {
   "cell_type": "code",
   "execution_count": null,
   "metadata": {
    "collapsed": false
   },
   "outputs": [],
   "source": [
    "M = int(raw_input(\"n: \"))\n",
    "suma = 0\n",
    "j = 1\n",
    "while (j<=M):\n",
    "    n = 2*j-1\n",
    "    signo = (-1)**(j+1)\n",
    "    x = 4*float(signo)/float(n)\n",
    "    #print signo, n\n",
    "    suma = suma + x\n",
    "    j = j +1\n",
    "print suma"
   ]
  },
  {
   "cell_type": "markdown",
   "metadata": {
    "slideshow": {
     "slide_type": "slide"
    }
   },
   "source": [
    "## 9. Suma de fracciones\n",
    "Desarrolle un programa que permita trabajar con las potencias fraccionales de dos, es decir $ \\frac{1}{2}, \\frac{1}{4}, \\frac{1}{8}, \\frac{1}{16}, \\frac{1}{32}, \\frac{1}{64}, ...$ en forma decimal $ 0.5$, $0.25$, $0.125$, $0.0625$, $0.03125$, $0.015625$, ...\n",
    "\n",
    "El programa debe mostrar tres columnas que contengan la siguiente información:\n",
    "\n",
    "    Potencia  Fraccion  Suma\n",
    "    1         0.5       0.5\n",
    "    2         0.25      0.75\n",
    "    3         0.125     0.875\n",
    "    4         0.0625    0.9375\n",
    "    ...       ...       ...\n",
    "\n",
    "El programa debe terminar cuando la fracción decimal sea menor o igual a 0.000001. "
   ]
  },
  {
   "cell_type": "markdown",
   "metadata": {
    "slideshow": {
     "slide_type": "slide"
    }
   },
   "source": [
    "## 9. Suma de fracciones\n",
    "Desarrolle un programa que permita trabajar con las potencias fraccionales de dos, es decir $ \\frac{1}{2}, \\frac{1}{4}, \\frac{1}{8}, \\frac{1}{16}, \\frac{1}{32}, \\frac{1}{64}, ...$ en forma decimal $ 0.5$, $0.25$, $0.125$, $0.0625$, $0.03125$, $0.015625$, ...\n",
    "\n",
    "El programa debe mostrar tres columnas y debe terminar cuando la fracción decimal sea menor o igual a 0.000001. \n",
    "    \n",
    "#### Análisis\n",
    "* ¿Cuántos inputs se necesitan? ¿De qué tipo?\n",
    "* ¿Cuántos outputs se necesitan? ¿De qué tipo?\n",
    "* ¿Se solicita algo extra (funcion/ruteo/print, etc.)?"
   ]
  },
  {
   "cell_type": "markdown",
   "metadata": {
    "slideshow": {
     "slide_type": "slide"
    }
   },
   "source": [
    "## 9. Suma de fracciones\n",
    "Desarrolle un programa que permita trabajar con las potencias fraccionales de dos, es decir $ \\frac{1}{2}, \\frac{1}{4}, \\frac{1}{8}, \\frac{1}{16}, \\frac{1}{32}, \\frac{1}{64}, ...$ en forma decimal $ 0.5$, $0.25$, $0.125$, $0.0625$, $0.03125$, $0.015625$, ...\n",
    "\n",
    "El programa debe mostrar tres columnas y debe terminar cuando la fracción decimal sea menor o igual a 0.000001. "
   ]
  },
  {
   "cell_type": "code",
   "execution_count": null,
   "metadata": {
    "collapsed": true
   },
   "outputs": [],
   "source": [
    "# Solución estudiantes\n"
   ]
  },
  {
   "cell_type": "markdown",
   "metadata": {
    "slideshow": {
     "slide_type": "slide"
    }
   },
   "source": [
    "## 9. Suma de fracciones\n",
    "Desarrolle un programa que permita trabajar con las potencias fraccionales de dos, es decir $ \\frac{1}{2}, \\frac{1}{4}, \\frac{1}{8}, \\frac{1}{16}, \\frac{1}{32}, \\frac{1}{64}, ...$ en forma decimal $ 0.5$, $0.25$, $0.125$, $0.0625$, $0.03125$, $0.015625$, ...\n",
    "\n",
    "El programa debe mostrar tres columnas y debe terminar cuando la fracción decimal sea menor o igual a 0.000001. "
   ]
  },
  {
   "cell_type": "code",
   "execution_count": null,
   "metadata": {
    "collapsed": false
   },
   "outputs": [],
   "source": [
    "print \"Potencia  Fraccion  Suma\"\n",
    "j = 1\n",
    "suma = 0\n",
    "while (1./2**j)>0.00001:\n",
    "    n = 2**j\n",
    "    suma = suma + 1./n\n",
    "    print j, \"  \", 1./n, \"  \", suma\n",
    "    j += 1"
   ]
  },
  {
   "cell_type": "markdown",
   "metadata": {
    "slideshow": {
     "slide_type": "slide"
    }
   },
   "source": [
    "## 10. Número de Euler\n",
    "El número de Euler, $e ≈ 2,71828...$ puede ser representado como la siguiente suma infinita $e=\\frac{1}{0!}+\\frac{1}{1!}+\\frac{1}{2!}+\\frac{1}{3!}+\\frac{1}{4!}+...$\n",
    "\n",
    "Desarrolle un programa que entregue un valor aproximado de e, calculando esta suma hasta que la diferencia entre dos sumandos consecutivos sea menor que $0,0001$.\n",
    "\n",
    "Recuerde que el factorial n! es el producto de los números de 1 a n. \n",
    "    \n",
    "#### Análisis\n",
    "* ¿Cuántos inputs se necesitan? ¿De qué tipo?\n",
    "* ¿Cuántos outputs se necesitan? ¿De qué tipo?\n",
    "* ¿Se solicita algo extra (funcion/ruteo/print, etc.)?"
   ]
  },
  {
   "cell_type": "markdown",
   "metadata": {
    "slideshow": {
     "slide_type": "slide"
    }
   },
   "source": [
    "## 10. Número de Euler\n",
    "El número de Euler, $e ≈ 2,71828...$ puede ser representado como la siguiente suma infinita $e=\\frac{1}{0!}+\\frac{1}{1!}+\\frac{1}{2!}+\\frac{1}{3!}+\\frac{1}{4!}+...$\n",
    "Desarrolle un programa que entregue un valor aproximado de e, calculando esta suma hasta que la diferencia entre dos sumandos consecutivos sea menor que $0,0001$."
   ]
  },
  {
   "cell_type": "code",
   "execution_count": null,
   "metadata": {
    "collapsed": true
   },
   "outputs": [],
   "source": [
    "# Solución estudiantes"
   ]
  },
  {
   "cell_type": "markdown",
   "metadata": {
    "slideshow": {
     "slide_type": "slide"
    }
   },
   "source": [
    "## 10. Número de Euler\n",
    "Desarrolle un programa que entregue un valor aproximado de e, calculando esta suma hasta que la diferencia entre dos sumandos consecutivos sea menor que $0,0001$."
   ]
  },
  {
   "cell_type": "code",
   "execution_count": null,
   "metadata": {
    "collapsed": false
   },
   "outputs": [],
   "source": [
    "# Solucion\n",
    "def factorial(n):\n",
    "    j = 1\n",
    "    prod = 1\n",
    "    while j<=n:\n",
    "        prod *= j\n",
    "        j += 1\n",
    "    return prod\n",
    "\n",
    "e = 1./factorial(0) + 1./factorial(1) + 1./factorial(2)\n",
    "i = 3\n",
    "diff = 1.0 # differencia inicial es grande\n",
    "while (diff > 0.0001):\n",
    "    e += 1./factorial(i)\n",
    "    diff = 1./factorial(i-1) - 1./factorial(i)\n",
    "    i += 1\n",
    "    \n",
    "print e"
   ]
  },
  {
   "cell_type": "markdown",
   "metadata": {
    "slideshow": {
     "slide_type": "slide"
    }
   },
   "source": [
    "## 11. Secuencia de Collatz (Parte 1)\n",
    "\n",
    "Usando computadores, se ha verificado que la sucesión efectivamente llega a 1 partiendo desde cualquier número natural menor que $2^{58}$.\n",
    "\n",
    "Desarrolle un programa que entregue la secuencia de Collatz de un número entero:\n",
    "\n",
    "    n: 18\n",
    "    18 9 28 14 7 22 11 34 17 52 26 13 40 20 10 5 16 8 4 2 1\n",
    "    n: 19\n",
    "    19 58 29 88 44 22 11 34 17 52 26 13 40 20 10 5 16 8 4 2 1\n",
    "    n: 20\n",
    "    20 10 5 16 8 4 2 1"
   ]
  },
  {
   "cell_type": "markdown",
   "metadata": {
    "slideshow": {
     "slide_type": "slide"
    }
   },
   "source": [
    "## 11. Secuencia de Collatz (Parte 1)\n",
    "\n",
    "#### Análisis\n",
    "* ¿Cuántos inputs se necesitan? ¿De qué tipo?\n",
    "* ¿Cuántos outputs se necesitan? ¿De qué tipo?\n",
    "* ¿Se solicita algo extra (funcion/ruteo/print, etc.)?"
   ]
  },
  {
   "cell_type": "markdown",
   "metadata": {
    "slideshow": {
     "slide_type": "slide"
    }
   },
   "source": [
    "## 11. Secuencia de Collatz (Parte 1)\n",
    "Desarrolle un programa que entregue la secuencia de Collatz de un número entero."
   ]
  },
  {
   "cell_type": "code",
   "execution_count": null,
   "metadata": {
    "collapsed": false
   },
   "outputs": [],
   "source": [
    "# Solucion estudiantes"
   ]
  },
  {
   "cell_type": "markdown",
   "metadata": {
    "slideshow": {
     "slide_type": "slide"
    }
   },
   "source": [
    "## 11. Secuencia de Collatz (Parte 1)\n",
    "Desarrolle un programa que entregue la secuencia de Collatz de un número entero."
   ]
  },
  {
   "cell_type": "code",
   "execution_count": null,
   "metadata": {
    "collapsed": false
   },
   "outputs": [],
   "source": [
    "# Solución\n",
    "n = int(raw_input(\"n: \"))\n",
    "print n,\n",
    "while n!=1:\n",
    "    if n%2==0:\n",
    "        n = n/2\n",
    "    else:\n",
    "        n = 3*n + 1\n",
    "    print n, "
   ]
  },
  {
   "cell_type": "markdown",
   "metadata": {
    "slideshow": {
     "slide_type": "slide"
    }
   },
   "source": [
    "## 11. Secuencia de Collatz (Parte 2)\n",
    "\n",
    "Desarrolle un programa que grafique los largos de las secuencias de Collatz de los números enteros positivos menores que el ingresado por el usuario:\n",
    "\n",
    "    n: 10\n",
    "    1 *\n",
    "    2 **\n",
    "    3 ********\n",
    "    4 ***\n",
    "    5 ******\n",
    "    6 *********\n",
    "    7 *****************\n",
    "    8 ****\n",
    "    9 ********************\n",
    "    10 *******"
   ]
  },
  {
   "cell_type": "markdown",
   "metadata": {
    "slideshow": {
     "slide_type": "slide"
    }
   },
   "source": [
    "## 11. Secuencia de Collatz (Parte 2)\n",
    "\n",
    "#### Análisis\n",
    "* ¿Cuántos inputs se necesitan? ¿De qué tipo?\n",
    "* ¿Cuántos outputs se necesitan? ¿De qué tipo?\n",
    "* ¿Se solicita algo extra (funcion/ruteo/print, etc.)?"
   ]
  },
  {
   "cell_type": "markdown",
   "metadata": {
    "slideshow": {
     "slide_type": "slide"
    }
   },
   "source": [
    "## 11. Secuencia de Collatz (Parte 2)\n",
    "\n",
    "Desarrolle un programa que grafique los largos de las secuencias de Collatz de los números enteros positivos menores que el ingresado por el usuario."
   ]
  },
  {
   "cell_type": "code",
   "execution_count": null,
   "metadata": {
    "collapsed": false
   },
   "outputs": [],
   "source": [
    "# Solucion 1\n",
    "def largo_secuencia_collatz(n):\n",
    "    print \"*\",\n",
    "    while n!=1:\n",
    "        if n%2==0:\n",
    "            n = n/2\n",
    "        else:\n",
    "            n = 3*n + 1\n",
    "        print \"*\",\n",
    "        \n",
    "n = int(raw_input(\"n: \"))\n",
    "j = 1\n",
    "while j<=n:\n",
    "    print j,\n",
    "    largo_secuencia_collatz(j)\n",
    "    j += 1\n",
    "    print \"\"\n",
    "    "
   ]
  },
  {
   "cell_type": "markdown",
   "metadata": {
    "slideshow": {
     "slide_type": "slide"
    }
   },
   "source": [
    "## 11. Secuencia de Collatz (Parte 2)\n",
    "\n",
    "Desarrolle un programa que grafique los largos de las secuencias de Collatz de los números enteros positivos menores que el ingresado por el usuario."
   ]
  },
  {
   "cell_type": "code",
   "execution_count": 25,
   "metadata": {
    "collapsed": false
   },
   "outputs": [
    {
     "name": "stdout",
     "output_type": "stream",
     "text": [
      "n: 20\n",
      "1 *\n",
      "2 **\n",
      "3 ********\n",
      "4 ***\n",
      "5 ******\n",
      "6 *********\n",
      "7 *****************\n",
      "8 ****\n",
      "9 ********************\n",
      "10 *******\n",
      "11 ***************\n",
      "12 **********\n",
      "13 **********\n",
      "14 ******************\n",
      "15 ******************\n",
      "16 *****\n",
      "17 *************\n",
      "18 *********************\n",
      "19 *********************\n",
      "20 ********\n"
     ]
    }
   ],
   "source": [
    "# Solucion 2\n",
    "def largo_secuencia_collatz(n):\n",
    "    largo = 1\n",
    "    while n!=1:\n",
    "        if n%2==0:\n",
    "            n = n/2\n",
    "        else:\n",
    "            n = 3*n + 1\n",
    "        largo += 1\n",
    "    return largo\n",
    "        \n",
    "n = int(raw_input(\"n: \"))\n",
    "j = 1\n",
    "while j<=n:\n",
    "    print j, \"*\"*largo_secuencia_collatz(j)\n",
    "    j += 1    "
   ]
  }
 ],
 "metadata": {
  "celltoolbar": "Slideshow",
  "kernelspec": {
   "display_name": "Python 2",
   "language": "python",
   "name": "python2"
  },
  "language_info": {
   "codemirror_mode": {
    "name": "ipython",
    "version": 2
   },
   "file_extension": ".py",
   "mimetype": "text/x-python",
   "name": "python",
   "nbconvert_exporter": "python",
   "pygments_lexer": "ipython2",
   "version": "2.7.6"
  }
 },
 "nbformat": 4,
 "nbformat_minor": 0
}
