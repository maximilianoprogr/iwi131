{
 "cells": [
  {
   "cell_type": "markdown",
   "metadata": {
    "slideshow": {
     "slide_type": "slide"
    }
   },
   "source": [
    "# Diccionarios y Conjuntos\n",
    "## Programación \n",
    "[http://progra.usm.cl](http://progra.usm.cl)"
   ]
  },
  {
   "cell_type": "markdown",
   "metadata": {
    "slideshow": {
     "slide_type": "slide"
    }
   },
   "source": [
    "# Diccionarios\n",
    "## Conceptos\n",
    "- Llave\n",
    "- Valor\n",
    "$\\alpha = \\beta$"
   ]
  },
  {
   "cell_type": "code",
   "execution_count": 6,
   "metadata": {
    "collapsed": false,
    "slideshow": {
     "slide_type": "slide"
    }
   },
   "outputs": [],
   "source": [
    "telefonos = {'Pepito': 5552437, 'Jaimito': 5551428, \n",
    "             'Yayita': 5550012, 'NN':6626288}"
   ]
  },
  {
   "cell_type": "code",
   "execution_count": 4,
   "metadata": {
    "collapsed": false
   },
   "outputs": [
    {
     "name": "stdout",
     "output_type": "stream",
     "text": [
      "dict_keys(['Jaimito', 'Pepito', 'Yayita', 'NNo'])\n",
      "dict_values([5551428, 5552437, 5550012, 6626288])\n",
      "5551428\n",
      "5550012\n"
     ]
    }
   ],
   "source": [
    "print(telefonos.keys())\n",
    "print(telefonos.values())\n",
    "print(telefonos['Jaimito'])\n",
    "print(telefonos['Yayita'])"
   ]
  },
  {
   "cell_type": "code",
   "execution_count": 8,
   "metadata": {
    "collapsed": false
   },
   "outputs": [
    {
     "ename": "KeyError",
     "evalue": "'N'",
     "output_type": "error",
     "traceback": [
      "\u001b[1;31m---------------------------------------------------------------------------\u001b[0m",
      "\u001b[1;31mKeyError\u001b[0m                                  Traceback (most recent call last)",
      "\u001b[1;32m<ipython-input-8-fb9fd7aa1228>\u001b[0m in \u001b[0;36m<module>\u001b[1;34m()\u001b[0m\n\u001b[1;32m----> 1\u001b[1;33m \u001b[0mprint\u001b[0m\u001b[1;33m(\u001b[0m\u001b[0mtelefonos\u001b[0m\u001b[1;33m[\u001b[0m\u001b[1;34m'N'\u001b[0m\u001b[1;33m]\u001b[0m\u001b[1;33m)\u001b[0m \u001b[1;31m# Llave no existe\u001b[0m\u001b[1;33m\u001b[0m\u001b[0m\n\u001b[0m",
      "\u001b[1;31mKeyError\u001b[0m: 'N'"
     ]
    }
   ],
   "source": [
    "print(telefonos['N']) # Llave no existe"
   ]
  },
  {
   "cell_type": "markdown",
   "metadata": {
    "slideshow": {
     "slide_type": "slide"
    }
   },
   "source": [
    "## Agregar llaves y valores"
   ]
  },
  {
   "cell_type": "code",
   "execution_count": 9,
   "metadata": {
    "collapsed": false
   },
   "outputs": [
    {
     "name": "stdout",
     "output_type": "stream",
     "text": [
      "{'a': 5, 'x': 12, 'm': 8}\n",
      "{'a': 5, 'x': -10, 'f': 5, 'm': 8}\n"
     ]
    }
   ],
   "source": [
    "d = {}\n",
    "d['a'] = 5\n",
    "d['x'] = 12\n",
    "d['m'] = 8\n",
    "print(d)\n",
    "d['f'] = 5\n",
    "d['x'] = -10\n",
    "print(d)"
   ]
  },
  {
   "cell_type": "markdown",
   "metadata": {
    "slideshow": {
     "slide_type": "slide"
    }
   },
   "source": [
    "## Operaciones sobre diccionarios"
   ]
  },
  {
   "cell_type": "code",
   "execution_count": null,
   "metadata": {
    "collapsed": false
   },
   "outputs": [],
   "source": [
    "patas = {'humano': 2, 'pulpo': 8, 'perro': 4, 'gato': 4, 'ciempies': 100}\n",
    "patas.values()\n",
    "patas.items()\n",
    "patas.keys()\n",
    "print(list(patas))\n",
    "print('perro' in patas)\n",
    "print(8 in patas)\n",
    "print(len(patas))"
   ]
  },
  {
   "cell_type": "markdown",
   "metadata": {
    "slideshow": {
     "slide_type": "slide"
    }
   },
   "source": [
    "## Ejercicio: contar letras\n",
    "\n",
    "Escriba una función contrar_letras(palabra) que reciba un string y retorne un diccionario que indique cuantas veces aparece cada letra en el string. Por ejemplo:\n",
    "- contar_letras('entretener') debería regresar {'e': 4, 'n': 2, 'r': 2, 't': 2}\n",
    "- contar_letras('lapiz') debería regresar {'a': 1, 'i': 1, 'l': 1, 'p': 1, 'z': 1}"
   ]
  },
  {
   "cell_type": "code",
   "execution_count": null,
   "metadata": {
    "collapsed": false,
    "slideshow": {
     "slide_type": "slide"
    }
   },
   "outputs": [],
   "source": [
    "# Molde\n",
    "def contar_letras(palabra):\n",
    "    # Inicializar diccionario vacío\n",
    "    \n",
    "    # Recorrer las letras de la palabra\n",
    "    # Para cada letra, ver si no está inicializar (=0) y/o aumentar (+=1)\n",
    "    # Regresar el resultado\n",
    "    return"
   ]
  },
  {
   "cell_type": "code",
   "execution_count": 10,
   "metadata": {
    "collapsed": false,
    "slideshow": {
     "slide_type": "subslide"
    }
   },
   "outputs": [],
   "source": [
    "# Solución\n",
    "def contar_letras(palabra):\n",
    "    # Inicializar diccionario vacío\n",
    "    cuentas = {}\n",
    "    # Recorrer las letras de la palabra\n",
    "    for letra in palabra:\n",
    "        # Para cada letra, ver si no está inicializar (=0) y/o aumentar (+=1)\n",
    "        if letra not in cuentas:\n",
    "            cuentas[letra] = 0\n",
    "        cuentas[letra] = cuentas[letra] + 1\n",
    "        # Regresar el resultado\n",
    "    return cuentas"
   ]
  },
  {
   "cell_type": "code",
   "execution_count": 11,
   "metadata": {
    "collapsed": false,
    "slideshow": {
     "slide_type": "subslide"
    }
   },
   "outputs": [
    {
     "name": "stdout",
     "output_type": "stream",
     "text": [
      "{'e': 4, 'r': 2, 'n': 2, 't': 2}\n",
      "{'a': 1, 'z': 1, 'p': 1, 'i': 1, 'l': 1}\n"
     ]
    }
   ],
   "source": [
    "# Verificacion\n",
    "print(contar_letras('entretener')) # {'n': 2, 'e': 4,'r': 2, 't': 2}\n",
    "print(contar_letras('lapiz')) #  {'a': 1, 'i': 1, 'l': 1, 'p': 1, 'z': 1}"
   ]
  },
  {
   "cell_type": "markdown",
   "metadata": {
    "slideshow": {
     "slide_type": "fragment"
    }
   },
   "source": [
    "Notar que los diccionarios no tienen orden. La primera letra ingresada no es la primera letra que se muestra."
   ]
  },
  {
   "cell_type": "markdown",
   "metadata": {
    "slideshow": {
     "slide_type": "slide"
    }
   },
   "source": [
    "## Recorrer diccionarios"
   ]
  },
  {
   "cell_type": "code",
   "execution_count": 12,
   "metadata": {
    "collapsed": false
   },
   "outputs": [
    {
     "name": "stdout",
     "output_type": "stream",
     "text": [
      "La capital de Chile es Santiago\n",
      "La capital de Peru es Lima\n",
      "La capital de Ecuador es Quito\n"
     ]
    }
   ],
   "source": [
    "capitales = {'Chile': 'Santiago', 'Peru': 'Lima', 'Ecuador': 'Quito',}\n",
    "for pais in capitales:\n",
    "    print('La capital de '+pais+' es '+capitales[pais])"
   ]
  },
  {
   "cell_type": "code",
   "execution_count": 13,
   "metadata": {
    "collapsed": false
   },
   "outputs": [
    {
     "name": "stdout",
     "output_type": "stream",
     "text": [
      "Santiago es una linda ciudad\n",
      "Lima es una linda ciudad\n",
      "Quito es una linda ciudad\n"
     ]
    }
   ],
   "source": [
    "for capital in capitales.values():\n",
    "    print(capital+' es una linda ciudad')"
   ]
  },
  {
   "cell_type": "code",
   "execution_count": 14,
   "metadata": {
    "collapsed": false
   },
   "outputs": [
    {
     "name": "stdout",
     "output_type": "stream",
     "text": [
      "Santiago es la capital deChile\n",
      "Lima es la capital dePeru\n",
      "Quito es la capital deEcuador\n"
     ]
    }
   ],
   "source": [
    "for p, c in capitales.items():\n",
    "    print(c+' es la capital de'+p)"
   ]
  },
  {
   "cell_type": "markdown",
   "metadata": {
    "slideshow": {
     "slide_type": "slide"
    }
   },
   "source": [
    "# Conjuntos\n",
    "\n",
    "## Conceptos\n"
   ]
  },
  {
   "cell_type": "code",
   "execution_count": null,
   "metadata": {
    "collapsed": false,
    "slideshow": {
     "slide_type": "slide"
    }
   },
   "outputs": [],
   "source": [
    "colores = {'rojo', 'gris', 'azul', 'gris'}\n",
    "print(colores)\n",
    "print(set(['azul', 'gris', 'rojo']))\n",
    "print(set('abracadabra'))\n",
    "print(set(['a', 'b', 'c', 'd', 'r']))"
   ]
  },
  {
   "cell_type": "markdown",
   "metadata": {
    "slideshow": {
     "slide_type": "slide"
    }
   },
   "source": [
    "## Agregar y sacar elementos del conjunto"
   ]
  },
  {
   "cell_type": "code",
   "execution_count": null,
   "metadata": {
    "collapsed": false
   },
   "outputs": [],
   "source": [
    "a = set()\n",
    "a.add(19)\n",
    "a.add(12)\n",
    "a.add(8)\n",
    "a.add(12)\n",
    "print(a) # set([8, 19, 12])\n",
    "a.remove(19)\n",
    "print(a) # set([8, 12])\n",
    "print(12 in a) # True"
   ]
  },
  {
   "cell_type": "markdown",
   "metadata": {
    "slideshow": {
     "slide_type": "slide"
    }
   },
   "source": [
    "## Operaciones sobre conjuntos"
   ]
  },
  {
   "cell_type": "code",
   "execution_count": null,
   "metadata": {
    "collapsed": false
   },
   "outputs": [],
   "source": [
    "a = {1,2,3,4}\n",
    "b = {2,4,6,8}\n",
    "print(type(a))\n",
    "print(type(b))\n",
    "print(a & b)\n",
    "print(a | b)\n",
    "print(b - a)"
   ]
  },
  {
   "cell_type": "markdown",
   "metadata": {
    "slideshow": {
     "slide_type": "slide"
    }
   },
   "source": [
    "## Ejercicio: letras en común\n",
    "\n",
    "Escriba una función letras_en_comun(p,r) que retorne la cantidad de letras en común que tienen las palabras p y r.\n",
    "\n",
    "Por ejemplo:\n",
    "- letras_en_comun('murcielago', 'gominola') \n",
    "  debería regresar 6\n",
    "- letras_en_comun('protozoo', 'agasajada') \n",
    "  debería regresar 0\n"
   ]
  },
  {
   "cell_type": "code",
   "execution_count": null,
   "metadata": {
    "collapsed": false,
    "slideshow": {
     "slide_type": "slide"
    }
   },
   "outputs": [],
   "source": [
    "# Utilizando diccionarios\n",
    "def letras_en_comun(p, r):\n",
    "    # Obtener el primer conjunto de letras\n",
    "    # Obtener el segundo conjunto de letras\n",
    "    # Intersectar los conjuntos\n",
    "    # Contar el número de elementos comunes\n",
    "    return "
   ]
  },
  {
   "cell_type": "code",
   "execution_count": null,
   "metadata": {
    "collapsed": false,
    "slideshow": {
     "slide_type": "subslide"
    }
   },
   "outputs": [],
   "source": [
    "# Utilizando conjuntos, versión extendida\n",
    "def letras_en_comun(p, r):\n",
    "    # Obtener el primer conjunto de letras\n",
    "    A = set(p)\n",
    "    # Obtener el segundo conjunto de letras\n",
    "    B = set(r)\n",
    "    # Intersectar los conjuntos\n",
    "    C = A & B\n",
    "    # Contar el número de elementos comunes\n",
    "    n = len(C)\n",
    "    return n"
   ]
  },
  {
   "cell_type": "code",
   "execution_count": null,
   "metadata": {
    "collapsed": false,
    "slideshow": {
     "slide_type": "subslide"
    }
   },
   "outputs": [],
   "source": [
    "## Verificación\n",
    "print(letras_en_comun('murcielagoo', 'gominola')) # 6\n",
    "print(letras_en_comun('protozoo', 'agasajada'))  # 0"
   ]
  },
  {
   "cell_type": "code",
   "execution_count": null,
   "metadata": {
    "collapsed": false,
    "slideshow": {
     "slide_type": "subslide"
    }
   },
   "outputs": [],
   "source": [
    "# Utilizando conjuntos, versión reducida\n",
    "def letras_en_comun(p, r):\n",
    "    return len(set(p)&set(r))"
   ]
  },
  {
   "cell_type": "code",
   "execution_count": null,
   "metadata": {
    "collapsed": false,
    "slideshow": {
     "slide_type": "subslide"
    }
   },
   "outputs": [],
   "source": [
    "## Verificación\n",
    "print(letras_en_comun('murcielago', 'gominola')) # 6\n",
    "print(letras_en_comun('protozoo', 'agasajada'))  # 0"
   ]
  }
 ],
 "metadata": {
  "kernelspec": {
   "display_name": "Python 3",
   "language": "python",
   "name": "python3"
  },
  "language_info": {
   "codemirror_mode": {
    "name": "ipython",
    "version": 3
   },
   "file_extension": ".py",
   "mimetype": "text/x-python",
   "name": "python",
   "nbconvert_exporter": "python",
   "pygments_lexer": "ipython3",
   "version": "3.4.0"
  }
 },
 "nbformat": 4,
 "nbformat_minor": 0
}
