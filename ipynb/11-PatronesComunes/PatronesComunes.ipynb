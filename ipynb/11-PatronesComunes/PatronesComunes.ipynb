{
 "cells": [
  {
   "cell_type": "code",
   "execution_count": 1,
   "metadata": {
    "collapsed": false,
    "slideshow": {
     "slide_type": "skip"
    }
   },
   "outputs": [
    {
     "data": {
      "text/html": [
       "<style>\n",
       "\n",
       ".reveal {\n",
       "overflow: visible;\n",
       "}\n",
       "\n",
       "/*********************************************\n",
       " * COLORS FOR EXAMPLES\n",
       " *********************************************/\n",
       "em {color: #800000;}\n",
       "span.good {color: #008000;}\n",
       "span.warning {color: #808000;}\n",
       "span.bad {color: #800000;}\n",
       "\n",
       "/*********************************************\n",
       " * GLOBAL STYLES\n",
       " *********************************************/\n",
       ".reveal h1 {color: #000000; text-shadow: 0px 0px 6px rgba(0, 0, 0, 0.2);}\n",
       ".reveal h2 {color: #222222; text-shadow: 0px 0px 5px rgba(0, 0, 0, 0.2);}\n",
       ".reveal h3 {color: #444444; text-shadow: 0px 0px 4px rgba(0, 0, 0, 0.2);}\n",
       ".reveal h4 {color: #666666; text-shadow: 0px 0px 3px rgba(0, 0, 0, 0.2);}\n",
       ".reveal h5 {color: #888888; text-shadow: 0px 0px 2px rgba(0, 0, 0, 0.2);}\n",
       ".reveal h6 {color: #AAAAAA; text-shadow: 0px 0px 1px rgba(0, 0, 0, 0.2);}\n",
       "\n",
       "/*********************************************\n",
       " * IMAGES\n",
       " *********************************************/\n",
       ".reveal section img { margin-left:auto; margin-right:auto;}\n",
       "\n",
       "</style>\n"
      ],
      "text/plain": [
       "<IPython.core.display.HTML object>"
      ]
     },
     "execution_count": 1,
     "metadata": {},
     "output_type": "execute_result"
    }
   ],
   "source": [
    "\"\"\"\n",
    "IPython Notebook v4.0 para python 2.7\n",
    "Librerías adicionales: Ninguna.\n",
    "Contenido bajo licencia CC-BY 4.0. Código bajo licencia MIT. (c) Sebastian Flores.\n",
    "\"\"\"\n",
    "\n",
    "# Configuracion para recargar módulos y librerías \n",
    "%reload_ext autoreload\n",
    "%autoreload 2\n",
    "\n",
    "from IPython.core.display import HTML\n",
    "\n",
    "HTML(open(\"style/iwi131.css\", \"r\").read())"
   ]
  },
  {
   "cell_type": "markdown",
   "metadata": {
    "slideshow": {
     "slide_type": "slide"
    }
   },
   "source": [
    "<header class=\"w3-container w3-teal\">\n",
    "<img src=\"images/utfsm.png\" alt=\"\" align=\"left\"/>\n",
    "<img src=\"images/inf.png\" alt=\"\" align=\"right\"/>\n",
    "</header>\n",
    "<br/><br/><br/><br/><br/>\n",
    "# IWI131\n",
    "## Programación de Computadores\n",
    "\n",
    "### Sebastián Flores\n",
    "\n",
    "http://progra.usm.cl/ \n",
    "\n",
    "https://www.github.com/usantamaria/iwi131\n"
   ]
  },
  {
   "cell_type": "markdown",
   "metadata": {
    "slideshow": {
     "slide_type": "slide"
    }
   },
   "source": [
    "## Clase anterior\n",
    "* Ejercicios de ciclo while.\n",
    "\n",
    "¿Preguntas?"
   ]
  },
  {
   "cell_type": "markdown",
   "metadata": {
    "slideshow": {
     "slide_type": "slide"
    }
   },
   "source": [
    "## Próximamente...\n",
    "* **16 Nov**: Actividad 2.\n",
    "* **20 Nov**: Tarea 1.\n",
    "* **23 Nov**: Certamen 1."
   ]
  },
  {
   "cell_type": "markdown",
   "metadata": {
    "slideshow": {
     "slide_type": "slide"
    }
   },
   "source": [
    "## Grupos para la Actividad 2"
   ]
  },
  {
   "cell_type": "markdown",
   "metadata": {
    "slideshow": {
     "slide_type": "fragment"
    }
   },
   "source": [
    "* CANTILLANA, CASTRO, ARÉVALO\n",
    "* GALLARDO, MORALES, ZEGERS\n",
    "* ALMEIDA, ARRATIA, CANALES\n",
    "* ALVARADO, BAHAMONDE, CASTILLO\n",
    "* CARRIEL, CODDOU, ESTRADA\n",
    "* CATALAN, COLLAO, ETEROVIC\n",
    "* CHAURA, CURIHUAL, FLORES\n",
    "* ESTAY, DURÁN, GRUNERT\n",
    "* KANZUA, HERRERA, LÓPEZ\n",
    "* LOBOS, OGALDE, PÉREZ\n",
    "* LOPEZ, PROBOSTE, REQUENA\n",
    "* SALAS, SANTELICES, TORREBLANCA\n",
    "* MEDIANO, REYES\n",
    "* SCHWERTER, SANDOVAL"
   ]
  },
  {
   "cell_type": "markdown",
   "metadata": {
    "slideshow": {
     "slide_type": "slide"
    }
   },
   "source": [
    "## Consejos para la Actividad 2\n",
    "* Revisar **funciones** y ciclo **while**.\n",
    "* Juntarse a practicar como grupo.\n",
    "* Inventar e intentar problemas nuevos."
   ]
  },
  {
   "cell_type": "markdown",
   "metadata": {
    "slideshow": {
     "slide_type": "slide"
    }
   },
   "source": [
    "## Desafío\n",
    "\n",
    "Desarrolle una función que pregunte nombre, rol y promedio de estudiantes, hasta que se ingresa el texto \"STOP\" en alguna de las preguntas anteriores. Luego, debe imprimir en pantalla:\n",
    "* Número de estudiantes válidamente ingresados.\n",
    "* Promedio de los estudiantes válidamente ingresados.\n",
    "* Alumno y rol con el menor promedio.\n",
    "* Alumno y rol con el mayor promedio."
   ]
  },
  {
   "cell_type": "markdown",
   "metadata": {
    "slideshow": {
     "slide_type": "slide"
    }
   },
   "source": [
    "## ¿Qué contenido aprenderemos?\n",
    "\n",
    "* Patrones comunes de ciclo while"
   ]
  },
  {
   "cell_type": "markdown",
   "metadata": {
    "slideshow": {
     "slide_type": "slide"
    }
   },
   "source": [
    "## ¿Porqué aprenderemos ese contenido?\n",
    "\n",
    "* Patrones comunes de ciclo while\n",
    "\n",
    "Porque sólo existen unos pocos **tipos** de ejercicios. \n",
    "\n",
    "Aprender los distintos patrones ayudan a identificar el tipo de problema y solucionarlo más fácilmente."
   ]
  },
  {
   "cell_type": "markdown",
   "metadata": {
    "collapsed": true,
    "slideshow": {
     "slide_type": "slide"
    }
   },
   "source": [
    "## Patrones Comunes  de Ciclo While\n",
    "\n",
    "1. Patrón para sumar.\n",
    "1. Patrón para multiplicar.\n",
    "1. Patrón para contar.\n",
    "1. Patrón para máximos y mínimos\n",
    "1. Patrón para pares de cosas."
   ]
  },
  {
   "cell_type": "markdown",
   "metadata": {
    "collapsed": true,
    "slideshow": {
     "slide_type": "slide"
    }
   },
   "source": [
    "## 1. Patrón para sumar\n",
    "\n",
    "El patrón común para sumar cosas:\n",
    "\n",
    "    suma = 0\n",
    "    ciclo:\n",
    "        x = calcular()\n",
    "        suma = suma + x"
   ]
  },
  {
   "cell_type": "markdown",
   "metadata": {
    "collapsed": true,
    "slideshow": {
     "slide_type": "slide"
    }
   },
   "source": [
    "#### 1. Patrón para sumar\n",
    "#### Ejemplo 1.1\n",
    "\n",
    "Calcule la suma de los primeros $M$ enteros positivos:\n",
    "$$1 + 2 + ... + M$$"
   ]
  },
  {
   "cell_type": "code",
   "execution_count": 15,
   "metadata": {
    "collapsed": false
   },
   "outputs": [
    {
     "name": "stdout",
     "output_type": "stream",
     "text": [
      "Ingrese número: 10\n",
      "55\n"
     ]
    }
   ],
   "source": [
    "M = int(raw_input(\"Ingrese número: \"))\n",
    "suma = 0\n",
    "j = 1\n",
    "while (j<=M):\n",
    "    x = j\n",
    "    suma = suma + x\n",
    "    j = j +1\n",
    "print suma"
   ]
  },
  {
   "cell_type": "markdown",
   "metadata": {
    "collapsed": true,
    "slideshow": {
     "slide_type": "slide"
    }
   },
   "source": [
    "#### 1. Patrón para sumar\n",
    "#### Ejemplo 1.2\n",
    "\n",
    "Calcule la suma de los primeros $M$ enteros positivos al cubo:\n",
    "$$1^3 + 2^3 + ... + M^3$$"
   ]
  },
  {
   "cell_type": "code",
   "execution_count": 16,
   "metadata": {
    "collapsed": false
   },
   "outputs": [
    {
     "name": "stdout",
     "output_type": "stream",
     "text": [
      "Ingrese número: 3\n",
      "36\n"
     ]
    }
   ],
   "source": [
    "M = int(raw_input(\"Ingrese número: \"))\n",
    "suma = 0\n",
    "j = 1\n",
    "while (j<=M):\n",
    "    x = j**3\n",
    "    suma = suma + x\n",
    "    j = j +1\n",
    "print suma"
   ]
  },
  {
   "cell_type": "markdown",
   "metadata": {
    "collapsed": true,
    "slideshow": {
     "slide_type": "slide"
    }
   },
   "source": [
    "#### 1. Patrón para sumar\n",
    "#### Ejemplo 1.3\n",
    "\n",
    "Calcule la suma de los recíprocos de los primeros $M$ enteros:\n",
    "$$ \\frac{1}{1} + \\frac{1}{2} + ... + \\frac{1}{M}$$"
   ]
  },
  {
   "cell_type": "code",
   "execution_count": 19,
   "metadata": {
    "collapsed": false
   },
   "outputs": [
    {
     "name": "stdout",
     "output_type": "stream",
     "text": [
      "Ingrese número: 10\n",
      "2.92896825397\n"
     ]
    }
   ],
   "source": [
    "M = int(raw_input(\"Ingrese número: \"))\n",
    "suma = 0\n",
    "j = 1\n",
    "while (j<=M):\n",
    "    x = 1./j\n",
    "    suma = suma + x\n",
    "    j = j +1\n",
    "print suma"
   ]
  },
  {
   "cell_type": "markdown",
   "metadata": {
    "collapsed": true,
    "slideshow": {
     "slide_type": "slide"
    }
   },
   "source": [
    "#### 1. Patrón para sumar\n",
    "#### Ejemplo 1.4\n",
    "\n",
    "Calcule $\\pi$ mediante la siguente fórmula:\n",
    "$$ \\pi = 4 \\Big(\\frac{1}{1} - \\frac{1}{3} + \\frac{1}{5} - \\frac{1}{7} + ... \\Big)$$\n",
    "Utilice M términos en la aproximación."
   ]
  },
  {
   "cell_type": "code",
   "execution_count": 26,
   "metadata": {
    "collapsed": false
   },
   "outputs": [
    {
     "name": "stdout",
     "output_type": "stream",
     "text": [
      "Ingrese número de términos: 100\n",
      "3.13159290356\n"
     ]
    }
   ],
   "source": [
    "M = int(raw_input(\"Ingrese número de términos: \"))\n",
    "suma = 0\n",
    "j = 1\n",
    "while (j<=M):\n",
    "    n = 2*j-1\n",
    "    signo = (-1)**(j+1)\n",
    "    x = 4*float(signo)/float(n)\n",
    "    #print signo, n\n",
    "    suma = suma + x\n",
    "    j = j +1\n",
    "print suma"
   ]
  },
  {
   "cell_type": "markdown",
   "metadata": {
    "collapsed": true,
    "slideshow": {
     "slide_type": "slide"
    }
   },
   "source": [
    "## 2. Patrón para multiplicar\n",
    "\n",
    "El patrón común para sumar cosas:\n",
    "\n",
    "    prod = 1\n",
    "    ciclo:\n",
    "        x = calcular()\n",
    "        prod = prod * x"
   ]
  },
  {
   "cell_type": "markdown",
   "metadata": {
    "collapsed": true,
    "slideshow": {
     "slide_type": "slide"
    }
   },
   "source": [
    "#### 1. Patrón para multiplicar\n",
    "#### Ejemplo 2.1\n",
    "\n",
    "Calcule el factorial de $M$:\n",
    "$$ M! = 1 \\cdot 2 \\cdot 3 \\cdot \\ \\dots\\  \\cdot (M-1) \\cdot M = M \\cdot (M-1) \\cdot \\ \\dots \\ \\cdot 3 \\cdot 2 \\cdot 1$$"
   ]
  },
  {
   "cell_type": "code",
   "execution_count": 31,
   "metadata": {
    "collapsed": false
   },
   "outputs": [
    {
     "name": "stdout",
     "output_type": "stream",
     "text": [
      "Ingrese número M: 5\n",
      "120\n"
     ]
    }
   ],
   "source": [
    "M = int(raw_input(\"Ingrese número M: \"))\n",
    "prod = 1\n",
    "j = 1\n",
    "while (j<=M):\n",
    "    x = j\n",
    "    prod = prod * x\n",
    "    j = j + 1\n",
    "print prod"
   ]
  },
  {
   "cell_type": "code",
   "execution_count": 32,
   "metadata": {
    "collapsed": false
   },
   "outputs": [
    {
     "name": "stdout",
     "output_type": "stream",
     "text": [
      "Ingrese número M: 5\n",
      "120\n"
     ]
    }
   ],
   "source": [
    "M = int(raw_input(\"Ingrese número M: \"))\n",
    "prod = 1\n",
    "j = M\n",
    "while (j>0):\n",
    "    x = j\n",
    "    prod = prod * x\n",
    "    j = j - 1\n",
    "print prod"
   ]
  },
  {
   "cell_type": "markdown",
   "metadata": {
    "collapsed": true,
    "slideshow": {
     "slide_type": "slide"
    }
   },
   "source": [
    "#### 2. Patrón para multiplicar\n",
    "#### Ejemplo 2.1\n",
    "\n",
    "Calcule el factorial de $M$:\n",
    "$$ M! = 1 \\cdot 2 \\cdot 3 \\cdot \\ \\dots\\  \\cdot (M-1) \\cdot M = M \\cdot (M-1) \\cdot \\ \\dots \\ \\cdot 3 \\cdot 2 \\cdot 1$$"
   ]
  },
  {
   "cell_type": "markdown",
   "metadata": {
    "collapsed": true,
    "slideshow": {
     "slide_type": "slide"
    }
   },
   "source": [
    "## 3. Patrón para contar\n",
    "El patrón común para contar cosas:\n",
    "\n",
    "    cuenta = 0\n",
    "    ciclo:\n",
    "        if algo:\n",
    "            cuenta = cuenta + 1"
   ]
  },
  {
   "cell_type": "markdown",
   "metadata": {
    "collapsed": true,
    "slideshow": {
     "slide_type": "slide"
    }
   },
   "source": [
    "#### 3. Patrón para contar\n",
    "#### Ejemplo 3.1\n",
    "\n",
    "Cuente los números pares en el intervalo [N,M], con N y M números enteros positivos"
   ]
  },
  {
   "cell_type": "code",
   "execution_count": 38,
   "metadata": {
    "collapsed": false
   },
   "outputs": [
    {
     "name": "stdout",
     "output_type": "stream",
     "text": [
      "Ingrese 2 números N y M, con N<M\n",
      "Ingrese numero N: 10\n",
      "Ingrese numero M: 20\n",
      "Hay 21 numeros pares entre  10 y 20\n"
     ]
    }
   ],
   "source": [
    "print(\"Ingrese 2 números N y M, con N<M\")\n",
    "N = int(raw_input(\"Ingrese numero N: \"))\n",
    "M = int(raw_input(\"Ingrese numero M: \"))\n",
    "j = N\n",
    "count = 0\n",
    "while j<=M:\n",
    "    if j%2==0:\n",
    "        count = count + 1\n",
    "    j = j +1\n",
    "print \"Hay\", j, \"numeros pares entre \", N, \"y\", M"
   ]
  },
  {
   "cell_type": "markdown",
   "metadata": {
    "collapsed": true,
    "slideshow": {
     "slide_type": "slide"
    }
   },
   "source": [
    "#### 3. Patrón para contar\n",
    "#### Ejemplo 3.1\n",
    "\n",
    "Cuente los números primos entre 2 y el entero positivo $M$."
   ]
  },
  {
   "cell_type": "code",
   "execution_count": 49,
   "metadata": {
    "collapsed": false
   },
   "outputs": [
    {
     "name": "stdout",
     "output_type": "stream",
     "text": [
      "Ingrese numero M: 10\n",
      "Hay 4 numeros primos entre 2 y 10\n"
     ]
    }
   ],
   "source": [
    "def es_primo(n):\n",
    "    j = 2\n",
    "    while (j<n):\n",
    "        if n%j==0:\n",
    "            return False\n",
    "        j = j+1\n",
    "    return True\n",
    "\n",
    "M = int(raw_input(\"Ingrese numero M: \"))\n",
    "j = 2\n",
    "count = 0\n",
    "while j<=M:\n",
    "    if es_primo(j):\n",
    "        count = count + 1\n",
    "    j = j +1\n",
    "print \"Hay\", count, \"numeros primos entre 2 y\", M"
   ]
  },
  {
   "cell_type": "markdown",
   "metadata": {
    "collapsed": true,
    "slideshow": {
     "slide_type": "slide"
    }
   },
   "source": [
    "## 4. Patrón para máximos\n",
    "El patrón común para hallar máximos:\n",
    "\n",
    "    mayor = numero_muy_pequeño\n",
    "    ciclo:\n",
    "        n = calcular()\n",
    "        mayor = max(mayor, n)\n",
    "\n",
    "o equivalentemente\n",
    "\n",
    "    mayor = numero_muy_pequeño\n",
    "    ciclo:\n",
    "        x = calcular()\n",
    "        if x>mayor:\n",
    "            mayor = x"
   ]
  },
  {
   "cell_type": "markdown",
   "metadata": {
    "collapsed": true,
    "slideshow": {
     "slide_type": "slide"
    }
   },
   "source": [
    "## 4. Patrón para mínimos\n",
    "El patrón común para hallar mínimos:\n",
    "\n",
    "    menor = numero_muy_GRANDE\n",
    "    ciclo:\n",
    "        x = calcular()\n",
    "        menor = min(menor, x)\n",
    "\n",
    "o equivalentemente\n",
    "\n",
    "    menor = numero_muy_GRANDE\n",
    "    ciclo:\n",
    "        x = calcular()\n",
    "        if x<menor:\n",
    "            menor = x"
   ]
  },
  {
   "cell_type": "markdown",
   "metadata": {
    "collapsed": true,
    "slideshow": {
     "slide_type": "slide"
    }
   },
   "source": [
    "#### 4. Patrón para máximos o mínimos\n",
    "#### Ejemplo 4.1\n",
    "\n",
    "Escriba una función que reciba como parámetro la cantidad de números a ingresar, luego solicite los números enteros positivos y retorne el número mayor ingresado."
   ]
  },
  {
   "cell_type": "code",
   "execution_count": 66,
   "metadata": {
    "collapsed": false
   },
   "outputs": [
    {
     "name": "stdout",
     "output_type": "stream",
     "text": [
      "Cuantos datos: 4\n",
      "Ingrese los números\n",
      "1\n",
      "2\n",
      "3\n",
      "100\n",
      "El mayor es 100\n"
     ]
    }
   ],
   "source": [
    "def mayor(n):\n",
    "    print \"Ingrese los números\"\n",
    "    mayor = -1\n",
    "    c = 1\n",
    "    while c <= n:\n",
    "        a = int(raw_input())\n",
    "        if a > mayor:\n",
    "            mayor = a\n",
    "        c = c + 1\n",
    "    return mayor\n",
    "\n",
    "M = int(raw_input('Cuantos datos: '))\n",
    "mm = mayor(M)\n",
    "print \"El mayor es\", mm"
   ]
  },
  {
   "cell_type": "code",
   "execution_count": 67,
   "metadata": {
    "collapsed": false
   },
   "outputs": [
    {
     "name": "stdout",
     "output_type": "stream",
     "text": [
      "Cuantos datos: 4\n",
      "Ingrese los números\n",
      "10\n",
      "20\n",
      "30\n",
      "1000\n",
      "El mayor es 1000\n"
     ]
    }
   ],
   "source": [
    "def mayor(n):\n",
    "    print \"Ingrese los números\"\n",
    "    mayor = -1\n",
    "    c = 1\n",
    "    while c <= n:\n",
    "        a = int(raw_input())\n",
    "        if a > mayor:\n",
    "            mayor = max(mayor, a)\n",
    "        c = c + 1\n",
    "    return mayor\n",
    "\n",
    "M = int(raw_input('Cuantos datos: '))\n",
    "mm = mayor(M)\n",
    "print \"El mayor es\", mm"
   ]
  },
  {
   "cell_type": "markdown",
   "metadata": {
    "collapsed": true,
    "slideshow": {
     "slide_type": "slide"
    }
   },
   "source": [
    "#### 4. Patrón para máximos o mínimos\n",
    "#### Ejemplo 4.2\n",
    "\n",
    "Escriba una función que pida al usuario ingresar varios números reales hasta que se ingrese \"STOP\", la función no recibe parámetro y retorna cuál fue el valor menor ingresado."
   ]
  },
  {
   "cell_type": "code",
   "execution_count": 68,
   "metadata": {
    "collapsed": false
   },
   "outputs": [
    {
     "name": "stdout",
     "output_type": "stream",
     "text": [
      "Ingrese números\n",
      "0\n",
      "-1\n",
      "2\n",
      "STOP\n",
      "El mayor es 2.0\n"
     ]
    }
   ],
   "source": [
    "def mayor():\n",
    "    print \"Ingrese números\"\n",
    "    mayor = -float('inf')\n",
    "    flag = True\n",
    "    while flag:\n",
    "        input_str = raw_input()\n",
    "        if input_str == \"STOP\":\n",
    "            flag = False\n",
    "        else:\n",
    "            x = float(input_str)\n",
    "            mayor = max(mayor, x)\n",
    "    return mayor    \n",
    "\n",
    "m = mayor()\n",
    "print 'El mayor es', m"
   ]
  },
  {
   "cell_type": "markdown",
   "metadata": {
    "collapsed": true,
    "slideshow": {
     "slide_type": "slide"
    }
   },
   "source": [
    "#### 4. Patrón para máximos o mínimos\n",
    "#### Ejemplo 4.3\n",
    "\n",
    "Escriba una función que pida al usuario ingresar varios números reales hasta que se ingrese \"STOP\". La función retorna el número con el mayor valor absoluto ingresado:"
   ]
  },
  {
   "cell_type": "code",
   "execution_count": 2,
   "metadata": {
    "collapsed": false
   },
   "outputs": [
    {
     "name": "stdout",
     "output_type": "stream",
     "text": [
      "Ingrese números\n",
      "200\n",
      "300\n",
      "-2000\n",
      "STOP\n",
      "El numero de mayor valor absoluto fue -2000.0\n"
     ]
    }
   ],
   "source": [
    "def mayor_en_abs():\n",
    "    print \"Ingrese números\"\n",
    "    mayor_en_abs = 0\n",
    "    flag = True\n",
    "    while flag:\n",
    "        input_str = raw_input()\n",
    "        if input_str == \"STOP\":\n",
    "            flag = False\n",
    "        else:\n",
    "            x = float(input_str)\n",
    "            if abs(x) >  abs(mayor_en_abs):\n",
    "                mayor_en_abs = x\n",
    "    return mayor_en_abs\n",
    "\n",
    "m = mayor_en_abs()\n",
    "print 'El numero de mayor valor absoluto fue', m"
   ]
  },
  {
   "cell_type": "markdown",
   "metadata": {
    "collapsed": true,
    "slideshow": {
     "slide_type": "slide"
    }
   },
   "source": [
    "## 5. Patrón para operar en pares de cosas\n",
    "El patrón común para operar en pares de cosas es:\n",
    "\n",
    "    inicializar i\n",
    "    while i<N:\n",
    "        inicializar j\n",
    "        while j<M:\n",
    "            x = hacer algo con i y j\n",
    "            hacer algo con x\n",
    "            j = j +1\n",
    "        i = i+1"
   ]
  },
  {
   "cell_type": "markdown",
   "metadata": {
    "collapsed": true,
    "slideshow": {
     "slide_type": "slide"
    }
   },
   "source": [
    "#### 5.1 Patrón para operar en pares de cosas\n",
    "#### Ejemplo 5.1\n",
    "\n",
    "Escriba un programa que muestre todas las combinaciones de\n",
    "dos dados que entreguen un puntaje mayor que siete."
   ]
  },
  {
   "cell_type": "code",
   "execution_count": 7,
   "metadata": {
    "collapsed": false
   },
   "outputs": [
    {
     "name": "stdout",
     "output_type": "stream",
     "text": [
      "2 + 6 = 8 >  7\n",
      "3 + 5 = 8 >  7\n",
      "3 + 6 = 9 >  7\n",
      "4 + 4 = 8 >  7\n",
      "4 + 5 = 9 >  7\n",
      "4 + 6 = 10 >  7\n",
      "5 + 3 = 8 >  7\n",
      "5 + 4 = 9 >  7\n",
      "5 + 5 = 10 >  7\n",
      "5 + 6 = 11 >  7\n",
      "6 + 2 = 8 >  7\n",
      "6 + 3 = 9 >  7\n",
      "6 + 4 = 10 >  7\n",
      "6 + 5 = 11 >  7\n",
      "6 + 6 = 12 >  7\n"
     ]
    }
   ],
   "source": [
    "i=1\n",
    "puntaje = 7\n",
    "while i<=6:\n",
    "    j=1\n",
    "    while j<=6:\n",
    "        if i + j > puntaje:\n",
    "            print i, \"+\", j, \"=\", i+j, \"> \", puntaje\n",
    "        j+=1\n",
    "    i+=1"
   ]
  },
  {
   "cell_type": "markdown",
   "metadata": {
    "collapsed": true,
    "slideshow": {
     "slide_type": "slide"
    }
   },
   "source": [
    "#### 5. Patrón para operar en pares de cosas\n",
    "#### Ejemplo 5.2\n",
    "\n",
    "Escriba un programa que dibuje un rectangulo de altura $N\\geq 2$ y lado $M\\geq 2$, con el patrón indicado:\n",
    "\n",
    "Para N = 4 y M = 10\n",
    "\n",
    "    *---------*\n",
    "    |         |\n",
    "    |         |\n",
    "    *---------*\n"
   ]
  },
  {
   "cell_type": "code",
   "execution_count": 8,
   "metadata": {
    "collapsed": false
   },
   "outputs": [
    {
     "name": "stdout",
     "output_type": "stream",
     "text": [
      "Ingrese 2 números N>1 y M>1\n",
      "Ingrese numero N: 4\n",
      "Ingrese numero M: 8\n",
      "\n",
      "* - - - - - - * \n",
      "|             | \n",
      "|             | \n",
      "* - - - - - - * \n"
     ]
    }
   ],
   "source": [
    "print(\"Ingrese 2 números altura>1 y ancho>1\")\n",
    "N = int(raw_input(\"Ingrese altura: \"))\n",
    "M = int(raw_input(\"Ingrese ancho: \"))\n",
    "i = 1\n",
    "print \"\"\n",
    "while i<=N:\n",
    "    j = 1\n",
    "    while j<=M:\n",
    "        # End of ascii art\n",
    "        if i==1 or i==N:\n",
    "            if j==1 or j==M:\n",
    "                print \"*\",\n",
    "            else:\n",
    "                print \"-\",\n",
    "        else:\n",
    "            if j==1 or j==M:\n",
    "                print \"|\",\n",
    "            else:\n",
    "                print \" \",\n",
    "        # End of ascii art\n",
    "        j = j +1\n",
    "    print \"\"\n",
    "    i = i + 1"
   ]
  },
  {
   "cell_type": "markdown",
   "metadata": {
    "collapsed": true,
    "slideshow": {
     "slide_type": "slide"
    }
   },
   "source": [
    "#### 5. Patrón para operar en pares de cosas\n",
    "#### Ejemplo 5.1\n",
    "\n",
    "Escriba un programa que dibuje un rectangulo de altura $N\\geq 2$ y lado $M\\geq 2$, con el patrón indicado:\n",
    "\n",
    "Para N = 4 y M = 10\n",
    "\n",
    "    *---------*\n",
    "    |         |\n",
    "    |         |\n",
    "    *---------*\n"
   ]
  },
  {
   "cell_type": "code",
   "execution_count": 3,
   "metadata": {
    "collapsed": false
   },
   "outputs": [
    {
     "name": "stdout",
     "output_type": "stream",
     "text": [
      "Ingrese 2 números N>1 y M>1\n",
      "Ingrese altura: 4\n",
      "Ingrese ancho: 10\n",
      "*--------*\n",
      "|        |\n",
      "|        |\n",
      "*--------*\n"
     ]
    }
   ],
   "source": [
    "# Solucion 2\n",
    "print(\"Ingrese 2 números N>1 y M>1\")\n",
    "N = int(raw_input(\"Ingrese altura: \"))\n",
    "M = int(raw_input(\"Ingrese ancho: \"))\n",
    "i = 1\n",
    "while i<=N:\n",
    "    if (i==1) or (i==N):\n",
    "        print \"*\" + \"-\"*(M-2) + \"*\"\n",
    "    else:\n",
    "        print \"|\" + \" \"*(M-2) + \"|\"\n",
    "    i = i + 1"
   ]
  },
  {
   "cell_type": "markdown",
   "metadata": {
    "slideshow": {
     "slide_type": "slide"
    }
   },
   "source": [
    "## Desafío\n",
    "\n",
    "Desarrolle una función que pregunte nombre, rol y promedio de estudiantes, hasta que se ingresa el texto \"STOP\" en alguna de las preguntas anteriores. Luego, debe imprimir en pantalla:\n",
    "* Número de estudiantes validamente ingresados.\n",
    "* Promedio de los estudiantes validamente ingresados.\n",
    "* Alumno y rol con el menor promedio.\n",
    "* Alumno y rol con el mayor promedio.\n",
    "\n",
    "#### Análisis\n",
    "\n",
    "* ¿Cantidad de input? ¿Tipos de los inputs?\n",
    "* ¿Cantidad de outputs? ¿Tipos de los outputs?\n",
    "* ¿Requerimientos especiales?"
   ]
  },
  {
   "cell_type": "code",
   "execution_count": null,
   "metadata": {
    "collapsed": true,
    "slideshow": {
     "slide_type": "slide"
    }
   },
   "outputs": [],
   "source": [
    "# BORRADOR\n",
    "\n",
    "# Inicializacion variables\n",
    "\n",
    "# CICLO WHILE\n",
    "while ALGO:\n",
    "    LEER\n",
    "    ACTUALIZAR VARIABLES\n",
    "    \n",
    "# IMPRIMIR RESULTADOS"
   ]
  },
  {
   "cell_type": "code",
   "execution_count": null,
   "metadata": {
    "collapsed": true,
    "slideshow": {
     "slide_type": "slide"
    }
   },
   "outputs": [],
   "source": [
    "# Inicializacion\n",
    "cantidad_notas = 0\n",
    "suma_notas = 0\n",
    "peor_alumno = \"\"\n",
    "peor_rol = \"\"\n",
    "peor_nota = 101\n",
    "mejor_alumno = \"\"\n",
    "mejor_rol = \"\"\n",
    "mejor_nota = -1\n",
    "\n",
    "seguir_ciclo = True\n",
    "while seguir_ciclo:\n",
    "    alumno = raw_input(\"Nombre del alumno :\")\n",
    "    if alumno == \"STOP\":\n",
    "        break\n",
    "    rol = raw_input(\"Rol del alumno :\")\n",
    "    if rol == \"STOP\":\n",
    "        break\n",
    "    nota = raw_input(\"Nota del alumno :\")\n",
    "    if nota == \"STOP\":\n",
    "        break\n",
    "    else:\n",
    "        nota = float(nota)\n",
    "    # Si llegamos aqui, alumno, rol y nota estan bien definidos\n",
    "    # Actualizar cantidad de notas\n",
    "    cantidad_notas += 1\n",
    "    # Actualizar suma de notas\n",
    "    suma_notas += nota\n",
    "    # Actualizar peor alumno\n",
    "    if nota < peor_nota:\n",
    "        peor_alumno = alumno\n",
    "        peor_rol = rol\n",
    "        peor_nota = nota\n",
    "    # Actualizar peor alumno\n",
    "    if nota > mejor_nota:\n",
    "        mejor_alumno = alumno\n",
    "        mejor_rol = rol\n",
    "        mejor_nota = nota\n",
    "\n",
    "# Imprimir resultado\n",
    "print \"\"\n",
    "print \"RESULTADOS:\"\n",
    "print \"Se ingresaron\", cantidad_notas, \"alumnos\"\n",
    "print \"El promedio de notas es \", suma_notas/cantidad_notas\n",
    "print \"El peor alumno es\", peor_alumno, peor_rol, \"con nota\", peor_nota\n",
    "print \"El mejor alumno es\", mejor_alumno, mejor_rol, \"con nota\", mejor_nota"
   ]
  }
 ],
 "metadata": {
  "celltoolbar": "Slideshow",
  "kernelspec": {
   "display_name": "Python 2",
   "language": "python",
   "name": "python2"
  },
  "language_info": {
   "codemirror_mode": {
    "name": "ipython",
    "version": 2
   },
   "file_extension": ".py",
   "mimetype": "text/x-python",
   "name": "python",
   "nbconvert_exporter": "python",
   "pygments_lexer": "ipython2",
   "version": "2.7.6"
  }
 },
 "nbformat": 4,
 "nbformat_minor": 0
}
