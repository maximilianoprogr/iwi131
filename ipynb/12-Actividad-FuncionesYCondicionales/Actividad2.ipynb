{
 "cells": [
  {
   "cell_type": "code",
   "execution_count": null,
   "metadata": {
    "collapsed": false,
    "slideshow": {
     "slide_type": "skip"
    }
   },
   "outputs": [],
   "source": [
    "\"\"\"\n",
    "IPython Notebook v4.0 para python 2.7\n",
    "Librerías adicionales: Ninguna.\n",
    "Contenido bajo licencia CC-BY 4.0. Código bajo licencia MIT. (c) Sebastian Flores.\n",
    "\"\"\"\n",
    "\n",
    "# Configuracion para recargar módulos y librerías \n",
    "%reload_ext autoreload\n",
    "%autoreload 2\n",
    "\n",
    "from IPython.core.display import HTML\n",
    "\n",
    "HTML(open(\"style/iwi131.css\", \"r\").read())"
   ]
  },
  {
   "cell_type": "markdown",
   "metadata": {
    "slideshow": {
     "slide_type": "slide"
    }
   },
   "source": [
    "<header class=\"w3-container w3-teal\">\n",
    "<img src=\"images/utfsm.png\" alt=\"\" align=\"left\"/>\n",
    "<img src=\"images/inf.png\" alt=\"\" align=\"right\"/>\n",
    "</header>\n",
    "<br/><br/><br/><br/><br/>\n",
    "# IWI131\n",
    "## Programación de Computadores\n",
    "\n",
    "### Sebastián Flores\n",
    "\n",
    "http://progra.usm.cl/\n",
    "\n",
    "https://www.github.com/usantamaria/iwi131"
   ]
  },
  {
   "cell_type": "markdown",
   "metadata": {
    "slideshow": {
     "slide_type": "slide"
    }
   },
   "source": [
    "## Grupos Actividad 2\n",
    "\n",
    "1. CANTILLANA, CASTRO, ARÉVALO\n",
    "2. GALLARDO, MORALES, ZEGERS\n",
    "3. ALMEIDA, ARRATIA, CANALES\n",
    "4. ALVARADO, BAHAMONDE, CASTILLO\n",
    "5. CARRIEL, CODDOU, ESTRADA\n",
    "6. CATALAN, COLLAO, ETEROVIC\n",
    "7. CHAURA, CURIHUAL, FLORES\n",
    "8. ESTAY, DURÁN, GRUNERT\n",
    "9. KANZUA, HERRERA, LÓPEZ C.\n",
    "10. LOBOS, OGALDE, PÉREZ\n",
    "11. LOPEZ, PROBOSTE, REQUENA\n",
    "12. SALAS, SANTELICES, TORREBLANCA\n",
    "13. MEDIANO, REYES\n",
    "14. SCHWERTER, SANDOVAL"
   ]
  },
  {
   "cell_type": "markdown",
   "metadata": {
    "slideshow": {
     "slide_type": "slide"
    }
   },
   "source": [
    "## Actividad 2\n",
    "\n",
    "* Un grupo por fila.\n",
    "* Designar un líder de grupo.\n",
    "* Discutir problema (inputs, outputs, requerimientos específicos) antes de comenzar a escribir código.\n",
    "* Actividad: 3 preguntas completamente independientes."
   ]
  },
  {
   "cell_type": "markdown",
   "metadata": {
    "collapsed": true,
    "slideshow": {
     "slide_type": "slide"
    }
   },
   "source": [
    "# (a) Nota Mínima\n"
   ]
  },
  {
   "cell_type": "code",
   "execution_count": 2,
   "metadata": {
    "collapsed": false
   },
   "outputs": [
    {
     "name": "stdout",
     "output_type": "stream",
     "text": [
      "164\n",
      "64\n",
      "6\n",
      "-36\n"
     ]
    }
   ],
   "source": [
    "def nota_minima(nota1, nota2):\n",
    "    nota3 = 164 - nota1 - nota2\n",
    "    return nota3\n",
    "\n",
    "print nota_minima(0,0)\n",
    "print nota_minima(35,65)\n",
    "print nota_minima(88,70)\n",
    "print nota_minima(100,100)\n"
   ]
  },
  {
   "cell_type": "markdown",
   "metadata": {
    "collapsed": true,
    "slideshow": {
     "slide_type": "slide"
    }
   },
   "source": [
    "# (a) Nota Mínima\n"
   ]
  },
  {
   "cell_type": "code",
   "execution_count": 3,
   "metadata": {
    "collapsed": false
   },
   "outputs": [
    {
     "name": "stdout",
     "output_type": "stream",
     "text": [
      "164\n",
      "64\n",
      "6\n",
      "-36\n"
     ]
    }
   ],
   "source": [
    "def nota_minima(nota1, nota2):\n",
    "    nota3 = -100\n",
    "    while nota3<200:\n",
    "        if (nota1+nota2+nota3)/3.0>=54.5:\n",
    "            return nota3\n",
    "        nota3 += 1\n",
    "    return nota3\n",
    "\n",
    "print nota_minima(0,0)\n",
    "print nota_minima(35,65)\n",
    "print nota_minima(88,70)\n",
    "print nota_minima(100,100)"
   ]
  },
  {
   "cell_type": "markdown",
   "metadata": {
    "collapsed": true,
    "slideshow": {
     "slide_type": "slide"
    }
   },
   "source": [
    "# (b) Recuperativo\n"
   ]
  },
  {
   "cell_type": "code",
   "execution_count": 4,
   "metadata": {
    "collapsed": false
   },
   "outputs": [
    {
     "name": "stdout",
     "output_type": "stream",
     "text": [
      "164\n",
      "74\n",
      "54\n",
      "-14\n",
      "-36\n"
     ]
    }
   ],
   "source": [
    "def recuperativo(nota1, nota2, nota3):\n",
    "    peor_nota = min(nota1, nota2, nota3)\n",
    "    nota_recuperativo = 164 - nota1 - nota2 - nota3 + peor_nota\n",
    "    return nota_recuperativo\n",
    "\n",
    "print recuperativo(0,0,0)\n",
    "print recuperativo(50,40,30)\n",
    "print recuperativo(35,65,45)\n",
    "print recuperativo(88,70,90)\n",
    "print recuperativo(100,100,100)"
   ]
  },
  {
   "cell_type": "markdown",
   "metadata": {
    "collapsed": true,
    "slideshow": {
     "slide_type": "slide"
    }
   },
   "source": [
    "# (b) Recuperativo\n"
   ]
  },
  {
   "cell_type": "code",
   "execution_count": null,
   "metadata": {
    "collapsed": false
   },
   "outputs": [],
   "source": [
    "def recuperativo(nota1, nota2, nota3):\n",
    "    rec1 = nota_minima(nota2, nota3)\n",
    "    rec2 = nota_minima(nota1, nota3)\n",
    "    rec3 = nota_minima(nota1, nota2)\n",
    "    nota_recuperativo = min(rec1, min(rec2, rec3))\n",
    "    return nota_recuperativo\n",
    "\n",
    "print recuperativo(0,0,0)\n",
    "print recuperativo(50,40,30)\n",
    "print recuperativo(35,65,45)\n",
    "print recuperativo(88,70,90)\n",
    "print recuperativo(100,100,100)"
   ]
  },
  {
   "cell_type": "markdown",
   "metadata": {
    "collapsed": true,
    "slideshow": {
     "slide_type": "slide"
    }
   },
   "source": [
    "# (c) Alumnos"
   ]
  },
  {
   "cell_type": "code",
   "execution_count": 5,
   "metadata": {
    "collapsed": false
   },
   "outputs": [
    {
     "name": "stdout",
     "output_type": "stream",
     "text": [
      "Alumno 1\n",
      "Certamen 1: 65\n",
      "Certamen 2: 35\n",
      "nota minima C3 es:  64\n",
      "Certamen 3: 14\n",
      "nota minima CR es:  64\n",
      "Alumno 2\n",
      "Certamen 1: 100\n",
      "Certamen 2: 80\n",
      "nota minima C3 es:  -16\n",
      "Certamen 3: 10\n",
      "Alumno 3\n",
      "Certamen 1: 100\n",
      "Certamen 2: 55\n",
      "nota minima C3 es:  9\n",
      "Certamen 3: 50\n",
      "Alumno 4\n",
      "Certamen 1: -1\n",
      "Alumno mas critico: 1\n"
     ]
    }
   ],
   "source": [
    "def alumno_critico():\n",
    "    alumno_critico = 0\n",
    "    nota_alumno_critico = -1\n",
    "    alumno_actual = 1\n",
    "    while True:\n",
    "        print \"Alumno\", alumno_actual\n",
    "        nota1 = int(raw_input(\"Certamen 1: \"))\n",
    "        if nota1==-1:\n",
    "            break\n",
    "        nota2 = int(raw_input(\"Certamen 2: \"))\n",
    "        nota3_necesaria = nota_minima(nota1, nota2)\n",
    "        print \"nota minima C3 es: \", nota3_necesaria\n",
    "        nota3 = int(raw_input(\"Certamen 3: \"))\n",
    "        if nota3_necesaria > nota3:\n",
    "            CR = recuperativo(nota1, nota2, nota3)\n",
    "            print \"nota minima CR es: \", CR\n",
    "        if CR<=100 and CR>nota_alumno_critico:\n",
    "            alumno_critico = alumno_actual\n",
    "            nota_alumno_critico = CR\n",
    "        alumno_actual += 1\n",
    "    print \"Alumno mas critico:\", alumno_critico\n",
    "\n",
    "alumno_critico()"
   ]
  }
 ],
 "metadata": {
  "celltoolbar": "Slideshow",
  "kernelspec": {
   "display_name": "Python 2",
   "language": "python",
   "name": "python2"
  },
  "language_info": {
   "codemirror_mode": {
    "name": "ipython",
    "version": 2
   },
   "file_extension": ".py",
   "mimetype": "text/x-python",
   "name": "python",
   "nbconvert_exporter": "python",
   "pygments_lexer": "ipython2",
   "version": "2.7.6"
  }
 },
 "nbformat": 4,
 "nbformat_minor": 0
}
