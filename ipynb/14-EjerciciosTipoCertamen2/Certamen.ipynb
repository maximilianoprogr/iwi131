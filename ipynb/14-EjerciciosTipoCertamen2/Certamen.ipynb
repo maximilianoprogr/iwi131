{
 "cells": [
  {
   "cell_type": "code",
   "execution_count": null,
   "metadata": {
    "collapsed": false,
    "slideshow": {
     "slide_type": "skip"
    }
   },
   "outputs": [],
   "source": [
    "\"\"\"\n",
    "IPython Notebook v4.0 para python 2.7\n",
    "Librerías adicionales: Ninguna.\n",
    "Contenido bajo licencia CC-BY 4.0. Código bajo licencia MIT. (c) Sebastian Flores.\n",
    "\"\"\"\n",
    "\n",
    "# Configuracion para recargar módulos y librerías \n",
    "%reload_ext autoreload\n",
    "%autoreload 2\n",
    "\n",
    "from IPython.core.display import HTML\n",
    "\n",
    "HTML(open(\"style/iwi131.css\", \"r\").read())"
   ]
  },
  {
   "cell_type": "markdown",
   "metadata": {
    "slideshow": {
     "slide_type": "slide"
    }
   },
   "source": [
    "<header class=\"w3-container w3-teal\">\n",
    "<img src=\"images/utfsm.png\" alt=\"\" align=\"left\"/>\n",
    "<img src=\"images/inf.png\" alt=\"\" align=\"right\"/>\n",
    "</header>\n",
    "<br/><br/><br/><br/><br/>\n",
    "# IWI131\n",
    "## Programación de Computadores\n",
    "\n",
    "### Sebastián Flores\n",
    "\n",
    "http://progra.usm.cl/ \n",
    "\n",
    "https://www.github.com/usantamaria/iwi131\n"
   ]
  },
  {
   "cell_type": "markdown",
   "metadata": {
    "collapsed": true,
    "slideshow": {
     "slide_type": "slide"
    }
   },
   "source": [
    "## Certamen 1\n",
    "7 pm, C240.\n",
    "## Formato\n",
    "3 preguntas:\n",
    "\n",
    "1. Ruteo y \"adivine que hace\".\n",
    "2. Diagrama de flujo.\n",
    "3. Hacer un programa en python."
   ]
  },
  {
   "cell_type": "markdown",
   "metadata": {
    "collapsed": true,
    "slideshow": {
     "slide_type": "slide"
    }
   },
   "source": [
    "## Consejos previos al certamen\n",
    "3 factores cruciales\n",
    "* **Conocimiento**: Estudien con tiempo y a conciencia.\n",
    "* **Concentración**: Descancen lo suficiente.\n",
    "* **Energía**: Coman algo ligero antes del certamen."
   ]
  },
  {
   "cell_type": "markdown",
   "metadata": {
    "collapsed": true,
    "slideshow": {
     "slide_type": "slide"
    }
   },
   "source": [
    "## Consejos durante el certamen\n",
    "* No entren en pánico: respiren profundo y recuperen la concentración: ***si han venido a clases y estudiado, saben lo suficiente***.\n",
    "* No se apuren: lean bien el enunciado, subrayen palabras ***claves*** y anoten ideas o conceptos que son importantes para resolución.\n",
    "* Pregúntense: ¿Qué se está tratando de medir en este problema? ¿Qué es lo fácil/difícil?\n",
    "* Administren bien su tiempo: \n",
    " * 15 minutos para el ruteo \n",
    " * 30 minutos para el diagrama de flujo \n",
    " * 30 minutos para programa en python\n",
    " * 5 minutos para \"adivine que hace\". \n",
    " * 10 minutos para revisar y corregir detalles."
   ]
  },
  {
   "cell_type": "markdown",
   "metadata": {
    "collapsed": true,
    "slideshow": {
     "slide_type": "slide"
    }
   },
   "source": [
    "## Consejos después del certamen\n",
    "* Es sólo un certamen: el ramo no acaba aquí.\n",
    "* ¿Que cosas podría haber mejorarado para que me fuera mejor?\n",
    "* ¿Qué cambios voy a hacer para que me vaya mejor en el próximo certamen?"
   ]
  },
  {
   "cell_type": "markdown",
   "metadata": {
    "slideshow": {
     "slide_type": "slide"
    }
   },
   "source": [
    "## Preguntas de alumnos 1\n",
    "\n",
    "Escriba una función **ordenado(n)** que verifique si los dígitos de un número entero positivo están ordenados de mayor a menor.\n",
    "\n",
    "    ordenado(567) # False\n",
    "    ordenado(9876) # True\n",
    "    ordenado(98876) #True"
   ]
  },
  {
   "cell_type": "code",
   "execution_count": null,
   "metadata": {
    "collapsed": false
   },
   "outputs": [],
   "source": [
    "def ordenado(n):\n",
    "    str_n=str(n)\n",
    "    cont = 0\n",
    "    while cont<len(str_n):\n",
    "        if cont == len(str_n)-1:\n",
    "            return True\n",
    "        if str_n[cont]<str_n[cont+1]:#como compara strings??\n",
    "            return False\n",
    "        else:\n",
    "            cont+=1\n",
    "            \n",
    "print ordenado(1) # True\n",
    "print ordenado(567) # False\n",
    "print ordenado(9876) # True\n",
    "print ordenado(98876) #True"
   ]
  },
  {
   "cell_type": "code",
   "execution_count": null,
   "metadata": {
    "collapsed": false,
    "slideshow": {
     "slide_type": "slide"
    }
   },
   "outputs": [],
   "source": [
    "print \"a\" < \"b\"\n",
    "print \"a\" < \"z\"\n",
    "print \"0\" < \"1\"\n",
    "print \"5\" < \"9\"\n",
    "print \"A\" < \"a\"\n",
    "print \"Z\" < \"a\"\n",
    "print \"abcdaria\" < \"abcedario\" # Comparacion letra a letra\n",
    "print \"python\" < \"pythonistico\" # Si inicios son iguales, gana la mas breve.\n",
    "print \"abc\" < \"z\"  # Si inicios son distintos, no depende de numero de letras"
   ]
  },
  {
   "cell_type": "code",
   "execution_count": null,
   "metadata": {
    "collapsed": false,
    "slideshow": {
     "slide_type": "slide"
    }
   },
   "outputs": [],
   "source": [
    "def ordenado(n):\n",
    "    str_n = str(n)\n",
    "    j = 0\n",
    "    while j<len(str_n):\n",
    "        if j == len(str_n)-1:\n",
    "            return True\n",
    "        if int(str_n[j]) < int(str_n[j+1]):\n",
    "            return False\n",
    "        j += 1\n",
    "            \n",
    "print ordenado(1) # True\n",
    "print ordenado(567) # False\n",
    "print ordenado(9876) # True\n",
    "print ordenado(98876) #True"
   ]
  },
  {
   "cell_type": "markdown",
   "metadata": {
    "slideshow": {
     "slide_type": "slide"
    }
   },
   "source": [
    "## Preguntas de alumnos 1\n",
    "\n",
    "¿Qué era importante saber en este ejemplo?\n",
    "* Saber convertir de string a int, y viceversa.\n",
    "* Saber recorrer un string, caracter a carácter.\n",
    "* Sintaxis de una función.\n",
    "* Regresar False si no se cumple alguna condición, y True sólo si se llega al final."
   ]
  },
  {
   "cell_type": "markdown",
   "metadata": {
    "slideshow": {
     "slide_type": "slide"
    }
   },
   "source": [
    "<img src=\"images/python1.jpg\" alt=\"\" width=\"600px\" align=\"middle\"/>"
   ]
  },
  {
   "cell_type": "markdown",
   "metadata": {
    "slideshow": {
     "slide_type": "slide"
    }
   },
   "source": [
    "## Preguntas de alumnos 2\n",
    "\n",
    "Desarrollar la función **convertir_eeuu(nota)** que recibe como parámetro una nota en escala 0 -100 y retorne la nota en formato EE.UU.\n",
    "\n",
    "* Si nota ≥ 90, se obtiene una nota convertida A.\n",
    "* Si nota ≥ 70 y < 90, se obtiene una nota convertida B.\n",
    "* Si nota ≥ 55 y < 70, se obtiene una nota convertida C.\n",
    "* Si nota < 55, se obtiene una nota convertida F."
   ]
  },
  {
   "cell_type": "code",
   "execution_count": null,
   "metadata": {
    "collapsed": false
   },
   "outputs": [],
   "source": [
    "def convertir_eeuu(nota):\n",
    "    if nota>=90:\n",
    "        print \"A\"\n",
    "    elif nota>=70 and nota<90:\n",
    "        print \"B\"\n",
    "    elif nota>=55 and nota<70:\n",
    "        print \"C\"\n",
    "    elif nota<55:\n",
    "        print \"F\"\n",
    "        \n",
    "print convertir_eeuu(10)\n",
    "print convertir_eeuu(30)\n",
    "print convertir_eeuu(40)\n",
    "print convertir_eeuu(55)\n",
    "print convertir_eeuu(56)\n",
    "print convertir_eeuu(80)\n",
    "print convertir_eeuu(90)"
   ]
  },
  {
   "cell_type": "code",
   "execution_count": null,
   "metadata": {
    "collapsed": false,
    "slideshow": {
     "slide_type": "slide"
    }
   },
   "outputs": [],
   "source": [
    "def convertir_eeuu(nota):\n",
    "    if nota>=90:\n",
    "        return \"A\"\n",
    "    elif nota>=70:\n",
    "        return \"B\"\n",
    "    elif nota>=55:\n",
    "        return \"C\"\n",
    "    else:\n",
    "        return \"F\"\n",
    "        \n",
    "print convertir_eeuu(10)\n",
    "print convertir_eeuu(30)\n",
    "print convertir_eeuu(40)\n",
    "print convertir_eeuu(55)\n",
    "print convertir_eeuu(56)\n",
    "print convertir_eeuu(80)\n",
    "print convertir_eeuu(90)"
   ]
  },
  {
   "cell_type": "markdown",
   "metadata": {
    "slideshow": {
     "slide_type": "slide"
    }
   },
   "source": [
    "## Preguntas de alumnos 2\n",
    "\n",
    "¿Qué era importante saber en este ejemplo?\n",
    "* Dominar if-elif-else\n",
    "* usar return, no print, cuando se necesita regresar un valor."
   ]
  },
  {
   "cell_type": "markdown",
   "metadata": {
    "slideshow": {
     "slide_type": "slide"
    }
   },
   "source": [
    "<img src=\"images/python2.jpg\" alt=\"\" width=\"600px\" align=\"middle\"/>"
   ]
  },
  {
   "cell_type": "markdown",
   "metadata": {
    "slideshow": {
     "slide_type": "slide"
    }
   },
   "source": [
    "## Preguntas de profesor : C1, 1S 2014.\n",
    "El profesor de programación Rasec Wholtedo ha comenzado a producir metanfetamina, una poderosa droga alucinógena.\n",
    "Para dar un mejor producto a sus compradores, el profesor produce distintas variantes de la droga. Estas\n",
    "pueden o no producir el efecto alucinógeno deseado, por lo que se realizan pruebas y analiza la efectividad en distintos adictos. A tal fin, ***los adictos se encuentra divididos en 3 grupos, leves (L), medios (M) y terminales (T)***, en los cuales se hacen las pruebas.\n",
    "\n",
    "Cree un programa que ***pida la cantidad de variantes a probar***, por cada una ***pida los casos exitosos\n",
    "en un string de L, M y T***, donde cada letra es un caso de éxito en el grupo que identifica. Finalmente\n",
    "***indicar la mejor variante de metanfetamina para cada adicto***, es decir, la variante que más casos\n",
    "de éxito producen a cada grupo.\n",
    "\n",
    "Nota: ***Si dos variantes tienen la misma cantidad de éxitos indicar cualquiera de las dos.***\n",
    "\n",
    "    Numero de variantes: 3\n",
    "    Variante 1: LLMTTLMMMM\n",
    "    Variante 2: MMMMTTTMMTTTTT\n",
    "    Variante 3: TTTTLLLTLLLLL\n",
    "    Mejores variantes:\n",
    "    Adictos leves: 3\n",
    "    Adictos medios: 2\n",
    "    Adictos terminales: 2\n",
    "    \n",
    "    \n",
    "    Numero de variantes: 4\n",
    "    Variante 1: LLLLLMT\n",
    "    Variante 2: TTMMMMMT\n",
    "    Variante 3: TTLLLMMLMTT\n",
    "    Variante 4: TTTTMMLMTTT\n",
    "    Mejores variantes:\n",
    "    Adictos leves: 1\n",
    "    Adictos medios: 2\n",
    "    Adictos terminales: 4"
   ]
  },
  {
   "cell_type": "markdown",
   "metadata": {
    "slideshow": {
     "slide_type": "slide"
    }
   },
   "source": [
    "## Preguntas de profesor : C1, 1S 2014.\n",
    "¿Que necesitamos?"
   ]
  },
  {
   "cell_type": "markdown",
   "metadata": {
    "slideshow": {
     "slide_type": "fragment"
    }
   },
   "source": [
    "* Leer el número de variantes\n",
    "* Leer cada variante\n",
    "* Actualizar los máximos para cada variante\n",
    "* Imprimir los resultados"
   ]
  },
  {
   "cell_type": "markdown",
   "metadata": {
    "slideshow": {
     "slide_type": "slide"
    }
   },
   "source": [
    "    Numero de variantes: 4\n",
    "    Variante 1: LLLLLMT\n",
    "    Variante 2: TTMMMMMT\n",
    "    Variante 3: TTLLLMMLMTT\n",
    "    Variante 4: TTTTMMLMTTT\n",
    "    Mejores variantes:\n",
    "    Adictos leves: 1\n",
    "    Adictos medios: 2\n",
    "    Adictos terminales: 4"
   ]
  },
  {
   "cell_type": "code",
   "execution_count": null,
   "metadata": {
    "collapsed": false,
    "slideshow": {
     "slide_type": "-"
    }
   },
   "outputs": [],
   "source": [
    "N = int(raw_input(\"Numero de variantes: \"))\n",
    "num_variante_actual = 1\n",
    "max_L = 0\n",
    "mejor_variante_L = 0\n",
    "max_M = 0 \n",
    "mejor_variante_M = 0\n",
    "max_T = 0\n",
    "mejor_variante_T = 0\n",
    "while num_variante_actual <= N:\n",
    "    variante_actual = raw_input(\"Variante \" + str(num_variante_actual) + \":\")\n",
    "    # Actualizar para leve\n",
    "    num_L = variante_actual.count(\"L\")\n",
    "    if num_L  > max_L:\n",
    "        max_L = num_L\n",
    "        mejor_variante_L = num_variante_actual\n",
    "    # Actualizar para Medio\n",
    "    num_M = variante_actual.count(\"M\")\n",
    "    if num_M  > max_M:\n",
    "        max_M = num_M\n",
    "        mejor_variante_M = num_variante_actual\n",
    "    # Actualizar para Terminal\n",
    "    num_T = variante_actual.count(\"T\")\n",
    "    if num_T  > max_T:\n",
    "        max_T = num_T\n",
    "        mejor_variante_T = num_variante_actual\n",
    "    # Actualizar variante\n",
    "    num_variante_actual += 1\n",
    "    \n",
    "# Outputs\n",
    "print \"Mejores variantes:\"\n",
    "print \"Adictos leves:\", mejor_variante_L\n",
    "print \"Adictos medios:\", mejor_variante_M\n",
    "print \"Adictos terminales:\", mejor_variante_T\n"
   ]
  },
  {
   "cell_type": "markdown",
   "metadata": {
    "slideshow": {
     "slide_type": "slide"
    }
   },
   "source": [
    "<img src=\"images/code.jpg\" alt=\"\" width=\"600px\" align=\"middle\"/>"
   ]
  }
 ],
 "metadata": {
  "celltoolbar": "Slideshow",
  "kernelspec": {
   "display_name": "Python 2",
   "language": "python",
   "name": "python2"
  },
  "language_info": {
   "codemirror_mode": {
    "name": "ipython",
    "version": 2
   },
   "file_extension": ".py",
   "mimetype": "text/x-python",
   "name": "python",
   "nbconvert_exporter": "python",
   "pygments_lexer": "ipython2",
   "version": "2.7.6"
  }
 },
 "nbformat": 4,
 "nbformat_minor": 0
}
