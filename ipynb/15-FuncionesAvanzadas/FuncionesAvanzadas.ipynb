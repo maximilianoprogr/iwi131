{
 "cells": [
  {
   "cell_type": "code",
   "execution_count": 1,
   "metadata": {
    "collapsed": false,
    "slideshow": {
     "slide_type": "skip"
    }
   },
   "outputs": [
    {
     "data": {
      "text/html": [
       "<style>\n",
       "\n",
       ".reveal {\n",
       "overflow: visible;\n",
       "}\n",
       "\n",
       "/*********************************************\n",
       " * COLORS FOR EXAMPLES\n",
       " *********************************************/\n",
       "em {color: #800000;}\n",
       "span.good {color: #008000;}\n",
       "span.warning {color: #808000;}\n",
       "span.bad {color: #800000;}\n",
       "\n",
       "/*********************************************\n",
       " * GLOBAL STYLES\n",
       " *********************************************/\n",
       ".reveal h1 {color: #000000; text-shadow: 0px 0px 6px rgba(0, 0, 0, 0.2);}\n",
       ".reveal h2 {color: #222222; text-shadow: 0px 0px 5px rgba(0, 0, 0, 0.2);}\n",
       ".reveal h3 {color: #444444; text-shadow: 0px 0px 4px rgba(0, 0, 0, 0.2);}\n",
       ".reveal h4 {color: #666666; text-shadow: 0px 0px 3px rgba(0, 0, 0, 0.2);}\n",
       ".reveal h5 {color: #888888; text-shadow: 0px 0px 2px rgba(0, 0, 0, 0.2);}\n",
       ".reveal h6 {color: #AAAAAA; text-shadow: 0px 0px 1px rgba(0, 0, 0, 0.2);}\n",
       "\n",
       "/*********************************************\n",
       " * IMAGES\n",
       " *********************************************/\n",
       ".reveal section img { margin-left:auto; margin-right:auto;}\n",
       "\n",
       "</style>\n"
      ],
      "text/plain": [
       "<IPython.core.display.HTML object>"
      ]
     },
     "execution_count": 1,
     "metadata": {},
     "output_type": "execute_result"
    }
   ],
   "source": [
    "\"\"\"\n",
    "IPython Notebook v4.0 para python 2.7\n",
    "Librerías adicionales: Ninguna.\n",
    "Contenido bajo licencia CC-BY 4.0. Código bajo licencia MIT. (c) Sebastian Flores.\n",
    "\"\"\"\n",
    "\n",
    "# Configuracion para recargar módulos y librerías \n",
    "%reload_ext autoreload\n",
    "%autoreload 2\n",
    "\n",
    "from IPython.core.display import HTML\n",
    "\n",
    "HTML(open(\"style/iwi131.css\", \"r\").read())"
   ]
  },
  {
   "cell_type": "markdown",
   "metadata": {
    "slideshow": {
     "slide_type": "slide"
    }
   },
   "source": [
    "<header class=\"w3-container w3-teal\">\n",
    "<img src=\"images/utfsm.png\" alt=\"\" align=\"left\"/>\n",
    "<img src=\"images/inf.png\" alt=\"\" align=\"right\"/>\n",
    "</header>\n",
    "<br/><br/><br/><br/><br/>\n",
    "# IWI131\n",
    "## Programación de Computadores\n",
    "\n",
    "### Sebastián Flores\n",
    "\n",
    "http://progra.usm.cl/ \n",
    "\n",
    "https://www.github.com/usantamaria/iwi131\n"
   ]
  },
  {
   "cell_type": "markdown",
   "metadata": {
    "collapsed": true,
    "slideshow": {
     "slide_type": "slide"
    }
   },
   "source": [
    "#### Feedback de las encuestas\n",
    "\n",
    "## Lo bueno\n",
    "* Github con contenido actualizado\n",
    "* Ipython notebook slides son claras\n",
    "* Participación en clases\n",
    "* Ejercicios por alumnos, no por profesor\n",
    "* Minitareas\n",
    "* Teclado inalámbrico"
   ]
  },
  {
   "cell_type": "markdown",
   "metadata": {
    "collapsed": true,
    "slideshow": {
     "slide_type": "slide"
    }
   },
   "source": [
    "#### Feedback de las encuestas\n",
    "\n",
    "## Lo malo\n",
    "* **Certamen en papel**: Completamente de acuerdo, pero dificil de cambiar.\n",
    "* **Muy temprano en la mañana**: Completamente de acuerdo, pero dificil de cambiar.\n",
    "* **Limitación de aplicar material avanzado**: Completamente de acuerdo, pero dificil de cambiar.\n",
    "* **Grupos aleatorios**: En evaluación.\n",
    "* **Clases sin computadores**: ¡Traigan su notebook!\n",
    "* **Atrasados responden preguntas**: ¡Lleguen temprano!\n",
    "* **Ruido en clase**: Completamente de acuerdo. ¡Sean más silenciosos!\n",
    "* **Problemas son muy distintos al certamen**: Enseñanza para el aprendizaje, no para el test.\n"
   ]
  },
  {
   "cell_type": "markdown",
   "metadata": {
    "collapsed": true,
    "slideshow": {
     "slide_type": "slide"
    }
   },
   "source": [
    "#### Feedback del certamen\n",
    "\n",
    "## ¿Qué tal el certamen 1?\n",
    "\n",
    "\n",
    "Minuto de confianza.\n",
    "\n",
    "1. ¿Qué pudimos haber hecho mejor?\n",
    "2. ¿Qué cambiamos para el resto del semestre?\n",
    "3. ¿Qué fue lo fácil? \n",
    "3. ¿Qué fue lo difícil?\n",
    "\n",
    "Hagan sus predicciones."
   ]
  },
  {
   "cell_type": "markdown",
   "metadata": {
    "slideshow": {
     "slide_type": "slide"
    }
   },
   "source": [
    "## ¿Qué contenido aprenderemos?\n",
    "\n",
    "* Funciones avanzadas\n",
    "* Módulos"
   ]
  },
  {
   "cell_type": "markdown",
   "metadata": {
    "slideshow": {
     "slide_type": "slide"
    }
   },
   "source": [
    "## ¿Porqué aprenderemos ese contenido?\n",
    "\n",
    "* Funciones avanzadas\n",
    "* Módulos\n",
    "\n",
    "Porque facilitan la utilización de funciones y es necesario saberlo para utilizar código creado por terceras personas."
   ]
  },
  {
   "cell_type": "markdown",
   "metadata": {
    "slideshow": {
     "slide_type": "slide"
    }
   },
   "source": [
    "## Módulos\n",
    "\n",
    "Un módulo es un archivo python donde se han definido valores y parámetros:\n",
    "* Puede ser propio\n",
    "* Puede ser hecho por terceros.\n"
   ]
  },
  {
   "cell_type": "markdown",
   "metadata": {
    "slideshow": {
     "slide_type": "slide"
    }
   },
   "source": [
    "## Módulos \n",
    "Importando funciones específicas:\n",
    "\n",
    "    from modulo_a_usar import funcion_de_interes\n",
    "\n",
    "Luego la funcion_de_interes puede utilizarse directamente."
   ]
  },
  {
   "cell_type": "code",
   "execution_count": 3,
   "metadata": {
    "collapsed": false
   },
   "outputs": [
    {
     "name": "stdout",
     "output_type": "stream",
     "text": [
      "244.691932264\n",
      "6.12323399574e-17\n",
      "6\n",
      "Lunes\n"
     ]
    }
   ],
   "source": [
    "from math import exp, cos, pi\n",
    "from random import randrange, choice\n",
    "\n",
    "print exp(5.5)\n",
    "print cos(pi / 2)\n",
    "print randrange(10)\n",
    "print choice(['Lunes', 'Martes', 'Viernes'])"
   ]
  },
  {
   "cell_type": "markdown",
   "metadata": {
    "slideshow": {
     "slide_type": "slide"
    }
   },
   "source": [
    "## Módulos \n",
    "Importando todo un módulo:\n",
    "\n",
    "    import modulo_a_usar\n",
    "    \n",
    "Luego la funcion_de_interes puede utilizarse utilizando modulo_a_usar.funcion_de_interes"
   ]
  },
  {
   "cell_type": "code",
   "execution_count": null,
   "metadata": {
    "collapsed": true
   },
   "outputs": [],
   "source": [
    "import math\n",
    "import random\n",
    "\n",
    "print math.exp(5.5)\n",
    "print math.cos(math.pi / 2)\n",
    "print random.randrange(10)\n",
    "print random.choice(['Lunes', 'Martes', 'Viernes'])"
   ]
  },
  {
   "cell_type": "markdown",
   "metadata": {
    "slideshow": {
     "slide_type": "slide"
    }
   },
   "source": [
    "## Creación de Módulos \n",
    "\n",
    "Cree un módulo que calcule el área de figuras geométricas.\n",
    "Utilizando la librería relice los siguientes programas:\n",
    "1. El primero pregunta el numero de lados y luego la arista, y entrega el área.\n",
    "2. El segundo pregunta el lado de un cuadrado, y la altura, y luego entrega el volumen de la pirámide.\n",
    "\n",
    "(Ver archivos adjuntos)"
   ]
  },
  {
   "cell_type": "markdown",
   "metadata": {
    "slideshow": {
     "slide_type": "slide"
    }
   },
   "source": [
    "## Funciones con múltiples valores de retorno\n",
    "\n",
    "Simplemente retorne valores separados por comas.\n",
    "\n",
    "Esto es extremadamente util cuando en la función se generan distintos valores simultáneamente.\n",
    "\n"
   ]
  },
  {
   "cell_type": "code",
   "execution_count": 7,
   "metadata": {
    "collapsed": false
   },
   "outputs": [
    {
     "name": "stdout",
     "output_type": "stream",
     "text": [
      "2\n"
     ]
    }
   ],
   "source": [
    "def convertir_segundos(segundos):\n",
    "    horas = segundos / (60 * 60)\n",
    "    minutos = (segundos / 60) % 60\n",
    "    segundos = segundos % 60\n",
    "    return horas, minutos, segundos\n",
    "\n",
    "h, m, s = convertir_segundos(9814)\n",
    "print h\n",
    "\n",
    "#segundos = ?"
   ]
  },
  {
   "cell_type": "markdown",
   "metadata": {
    "slideshow": {
     "slide_type": "slide"
    }
   },
   "source": [
    "## Funciones sin valor de retorno\n",
    "\n",
    "***Simplemente no retorne valores.***\n",
    "\n",
    "Esto es extremadamente util cuando en la función hace algo pero no genera valores."
   ]
  },
  {
   "cell_type": "code",
   "execution_count": 10,
   "metadata": {
    "collapsed": false
   },
   "outputs": [
    {
     "name": "stdout",
     "output_type": "stream",
     "text": [
      "\n",
      "Nombre completo: Perico Los Palotes\n",
      "Rol: 201101001-1\n",
      "Fecha de nacimiento: 3 / 1 / 1993\n",
      "\n",
      "Nombre completo: Yayita Vinagre\n",
      "Rol: 201101002-2\n",
      "Fecha de nacimiento: 10 / 9 / 1992\n",
      "\n",
      "Nombre completo: Fulano De Tal\n",
      "Rol: 201101003-3\n",
      "Fecha de nacimiento: 14 / 5 / 1990\n"
     ]
    }
   ],
   "source": [
    "def imprimir_datos(nombre, apellido, rol, dia, mes, anno):\n",
    "    print ''\n",
    "    print 'Nombre completo:', nombre, apellido\n",
    "    print 'Rol:', rol\n",
    "    print 'Fecha de nacimiento:',\n",
    "    print dia, '/', mes, '/', anno\n",
    "    \n",
    "    \n",
    "imprimir_datos('Perico', 'Los Palotes', '201101001-1', 3, 1, 1993)\n",
    "imprimir_datos('Yayita', 'Vinagre', '201101002-2', 10, 9, 1992)\n",
    "imprimir_datos('Fulano', 'De Tal', '201101003-3', 14, 5, 1990)"
   ]
  },
  {
   "cell_type": "markdown",
   "metadata": {
    "slideshow": {
     "slide_type": "slide"
    }
   },
   "source": [
    "## Parámetros con valores por omisión\n",
    "\n",
    "***Defina las variables y asigne valores por defecto (por omisión)***\n",
    "\n",
    "Esto es extremadamente util cuando en la función puede tener un número variable de argumentos."
   ]
  },
  {
   "cell_type": "code",
   "execution_count": 12,
   "metadata": {
    "collapsed": false
   },
   "outputs": [
    {
     "name": "stdout",
     "output_type": "stream",
     "text": [
      "12\n"
     ]
    }
   ],
   "source": [
    "def f(a, b=2):\n",
    "    return a + b\n",
    "\n",
    "print f(10) # Probar f(10), f(10,2), f(10,15), etc."
   ]
  },
  {
   "cell_type": "markdown",
   "metadata": {
    "slideshow": {
     "slide_type": "slide"
    }
   },
   "source": [
    "#### Parámetros con valores por omisión\n",
    "## Ejercicio\n",
    "\n",
    "Cree una función que regresa el perimetro de un polígono en función del radio $r$ y el número de lados $n$:\n",
    "$$P = 2 \\ n  \\ r \\tan\\Big(\\frac{\\pi}{n}\\Big)$$\n",
    "Si no se ingresa el número de lados, regresa el perimetro de un círculo."
   ]
  },
  {
   "cell_type": "code",
   "execution_count": null,
   "metadata": {
    "collapsed": true
   },
   "outputs": [],
   "source": [
    "# Importar modulos necesarios\n",
    "\n",
    "# Definir funcion\n",
    "\n",
    "# Casos a utilizar\n",
    "print perimetro(0.5, 2)\n",
    "print perimetro(0.5, 3)\n",
    "print perimetro(0.5, 4)\n",
    "print perimetro(0.5, 10)\n",
    "print perimetro(0.5, 20)\n",
    "print perimetro(0.5, 1000)\n",
    "print perimetro(0.5)"
   ]
  },
  {
   "cell_type": "code",
   "execution_count": 17,
   "metadata": {
    "collapsed": false
   },
   "outputs": [
    {
     "name": "stdout",
     "output_type": "stream",
     "text": [
      "Numero incorrecto de lados\n",
      "0\n",
      "5.19615242271\n",
      "4.0\n",
      "3.24919696233\n",
      "3.16768880649\n",
      "3.14160298906\n",
      "3.14159265359\n"
     ]
    }
   ],
   "source": [
    "# Importar modulos necesarios\n",
    "import math\n",
    "\n",
    "# Definir funcion\n",
    "def perimetro(r, n=-1):\n",
    "    if 0<=n<=2:\n",
    "        print \"Numero incorrecto de lados\"\n",
    "        return 0\n",
    "    elif n>2:\n",
    "        return 2*r*n*math.tan(math.pi/n)\n",
    "    else:\n",
    "        return 2*pi*r\n",
    "    return \n",
    "# Casos a utilizar\n",
    "print perimetro(0.5, 2)\n",
    "print perimetro(0.5, 3)\n",
    "print perimetro(0.5, 4)\n",
    "print perimetro(0.5, 10)\n",
    "print perimetro(0.5, 20)\n",
    "print perimetro(0.5, 1000)\n",
    "print perimetro(0.5)"
   ]
  },
  {
   "cell_type": "markdown",
   "metadata": {
    "slideshow": {
     "slide_type": "slide"
    }
   },
   "source": [
    "## Funciones como parámetros\n",
    "\n",
    "***Las funciones también son un objeto (tipo básico) en python, y pueden pasarse a otra función como argumento.***\n",
    "\n",
    "Esto es útil cuando queremos modificar el comportamiento de una función o queremos cambiar la forma que evalúa."
   ]
  },
  {
   "cell_type": "code",
   "execution_count": 18,
   "metadata": {
    "collapsed": false
   },
   "outputs": [
    {
     "name": "stdout",
     "output_type": "stream",
     "text": [
      "499500\n",
      "332833500\n",
      "249500250000\n"
     ]
    }
   ],
   "source": [
    "def sumar(n, f):\n",
    "    s = 0\n",
    "    for i in range(n):\n",
    "        s = s + f(i)\n",
    "    return s\n",
    "\n",
    "def identidad(x):\n",
    "    return x\n",
    "\n",
    "def cuadrado(x):\n",
    "    return x ** 2\n",
    "\n",
    "def cubo(x):\n",
    "    return x ** 3\n",
    "\n",
    "print sumar(1000, identidad)\n",
    "\n",
    "print sumar(1000, cuadrado)\n",
    "\n",
    "print sumar(1000, cubo)"
   ]
  },
  {
   "cell_type": "markdown",
   "metadata": {
    "slideshow": {
     "slide_type": "slide"
    }
   },
   "source": [
    "#### Funciones como parámetros\n",
    "## Ejercicio\n",
    "\n",
    "Crear una función que reciba 3 números y una función. La función puede ser una suma o una multiplicación."
   ]
  },
  {
   "cell_type": "code",
   "execution_count": 23,
   "metadata": {
    "collapsed": false
   },
   "outputs": [
    {
     "name": "stdout",
     "output_type": "stream",
     "text": [
      "None\n",
      "None\n",
      "None\n",
      "None\n"
     ]
    }
   ],
   "source": [
    "def aplicar_funcion(a, b, c, funcion):\n",
    "    # FIX ME\n",
    "    # FIX ME\n",
    "    return\n",
    "    \n",
    "def suma(x,y):\n",
    "    return x+y\n",
    "\n",
    "def multiplicar(x,y):\n",
    "    return x*y\n",
    "    \n",
    "print aplicar_funcion(1, 2, 3, suma)\n",
    "\n",
    "print aplicar_funcion(1, 2, 3, multiplicar)\n",
    "\n",
    "print aplicar_funcion(\"a\", \"b\", \"c\", suma)\n",
    "\n",
    "print aplicar_funcion(\"a\", 2, 3, multiplicar)\n",
    "\n"
   ]
  },
  {
   "cell_type": "code",
   "execution_count": 21,
   "metadata": {
    "collapsed": false
   },
   "outputs": [
    {
     "name": "stdout",
     "output_type": "stream",
     "text": [
      "6\n",
      "6\n",
      "abc\n",
      "aaaaaa\n"
     ]
    }
   ],
   "source": [
    "def aplicar_funcion(a, b, c, funcion):\n",
    "    ab = funcion(a,b)\n",
    "    abc = funcion(ab, c)\n",
    "    return abc\n",
    "    \n",
    "def suma(x,y):\n",
    "    return x+y\n",
    "\n",
    "def multiplicar(x,y):\n",
    "    return x*y\n",
    "    \n",
    "print aplicar_funcion(1, 2, 3, suma)\n",
    "\n",
    "print aplicar_funcion(1, 2, 3, multiplicar)\n",
    "\n",
    "print aplicar_funcion(\"a\", \"b\", \"c\", suma)\n",
    "\n",
    "print aplicar_funcion(\"a\", 2, 3, multiplicar)\n",
    "\n"
   ]
  },
  {
   "cell_type": "markdown",
   "metadata": {
    "slideshow": {
     "slide_type": "slide"
    }
   },
   "source": [
    "## Funciones recursivas\n",
    "\n",
    "***Una función puede llamar a otra función, incluso a sí misma.***\n",
    "\n",
    "Útil cuando la relación se explica en términos de sí misma.\n",
    "\n",
    "¡Es crucial definir una condición de detención!"
   ]
  },
  {
   "cell_type": "code",
   "execution_count": 26,
   "metadata": {
    "collapsed": false
   },
   "outputs": [
    {
     "name": "stdout",
     "output_type": "stream",
     "text": [
      "2\n",
      "3628800\n"
     ]
    }
   ],
   "source": [
    "def factorial(n):\n",
    "    if n <= 0:\n",
    "        return 1\n",
    "    else:\n",
    "        return factorial(n - 1) * n\n",
    "    \n",
    "print factorial(2)\n",
    "print factorial(10)"
   ]
  },
  {
   "cell_type": "markdown",
   "metadata": {
    "slideshow": {
     "slide_type": "slide"
    }
   },
   "source": [
    "#### Funciones recursivas\n",
    "\n",
    "## Ejercicio\n",
    "Cree una funcion que sume los dígitos de un número de manera recursiva:\n",
    "\n",
    "\n",
    "234 deberia entregar 2+3+4= 9"
   ]
  },
  {
   "cell_type": "code",
   "execution_count": 29,
   "metadata": {
    "collapsed": false
   },
   "outputs": [
    {
     "name": "stdout",
     "output_type": "stream",
     "text": [
      "9\n"
     ]
    }
   ],
   "source": [
    "def suma_digitos(n):\n",
    "    n_str = str(n)\n",
    "    if len(n_str)==1:\n",
    "        return n\n",
    "    else:\n",
    "        primer_digito = n_str[0]\n",
    "        otros_digitos = n_str[1:]\n",
    "        return int(primer_digito) + suma_digitos(int(otros_digitos))\n",
    "    \n",
    "print suma_digitos(234)"
   ]
  }
 ],
 "metadata": {
  "celltoolbar": "Slideshow",
  "kernelspec": {
   "display_name": "Python 2",
   "language": "python",
   "name": "python2"
  },
  "language_info": {
   "codemirror_mode": {
    "name": "ipython",
    "version": 2
   },
   "file_extension": ".py",
   "mimetype": "text/x-python",
   "name": "python",
   "nbconvert_exporter": "python",
   "pygments_lexer": "ipython2",
   "version": "2.7.6"
  }
 },
 "nbformat": 4,
 "nbformat_minor": 0
}
