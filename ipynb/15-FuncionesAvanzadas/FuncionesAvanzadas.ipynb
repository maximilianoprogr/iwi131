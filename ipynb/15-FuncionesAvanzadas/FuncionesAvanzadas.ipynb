{
 "cells": [
  {
   "cell_type": "code",
   "execution_count": null,
   "metadata": {
    "collapsed": false,
    "slideshow": {
     "slide_type": "skip"
    }
   },
   "outputs": [],
   "source": [
    "\"\"\"\n",
    "IPython Notebook v4.0 para python 2.7\n",
    "Librerías adicionales: Ninguna.\n",
    "Contenido bajo licencia CC-BY 4.0. Código bajo licencia MIT. (c) Sebastian Flores.\n",
    "\"\"\"\n",
    "\n",
    "# Configuracion para recargar módulos y librerías \n",
    "%reload_ext autoreload\n",
    "%autoreload 2\n",
    "\n",
    "from IPython.core.display import HTML\n",
    "\n",
    "HTML(open(\"style/iwi131.css\", \"r\").read())"
   ]
  },
  {
   "cell_type": "markdown",
   "metadata": {
    "slideshow": {
     "slide_type": "slide"
    }
   },
   "source": [
    "<header class=\"w3-container w3-teal\">\n",
    "<img src=\"images/utfsm.png\" alt=\"\" align=\"left\"/>\n",
    "<img src=\"images/inf.png\" alt=\"\" align=\"right\"/>\n",
    "</header>\n",
    "<br/><br/><br/><br/><br/>\n",
    "# IWI131\n",
    "## Programación de Computadores\n",
    "\n",
    "### Sebastián Flores\n",
    "\n",
    "http://progra.usm.cl/ \n",
    "\n",
    "https://www.github.com/usantamaria/iwi131"
   ]
  },
  {
   "cell_type": "markdown",
   "metadata": {
    "collapsed": true,
    "slideshow": {
     "slide_type": "slide"
    }
   },
   "source": [
    "#### Feedback de las encuestas\n",
    "\n",
    "## Lo bueno\n",
    "* Github con contenido actualizado\n",
    "* Ipython notebook slides son claras\n",
    "* Participación en clases\n",
    "* Ejercicios por alumnos, no por profesor\n",
    "* Minitareas\n",
    "* Teclado inalámbrico"
   ]
  },
  {
   "cell_type": "markdown",
   "metadata": {
    "collapsed": true,
    "slideshow": {
     "slide_type": "slide"
    }
   },
   "source": [
    "#### Feedback de las encuestas\n",
    "\n",
    "## Lo malo\n",
    "* **Certamen en papel**: Completamente de acuerdo, pero dificil de cambiar.\n",
    "* **Muy temprano en la mañana**: Completamente de acuerdo, pero dificil de cambiar.\n",
    "* **Limitación de aplicar material avanzado**: Completamente de acuerdo, pero dificil de cambiar.\n",
    "* **Grupos aleatorios**: En evaluación.\n",
    "* **Clases sin computadores**: ¡Traigan su notebook!\n",
    "* **Atrasados responden preguntas**: ¡Lleguen temprano!\n",
    "* **Ruido en clase**: Completamente de acuerdo. ¡Sean más silenciosos!\n",
    "* **Problemas son muy distintos al certamen**: Enseñanza para el aprendizaje, no para el test.\n"
   ]
  },
  {
   "cell_type": "markdown",
   "metadata": {
    "collapsed": true,
    "slideshow": {
     "slide_type": "slide"
    }
   },
   "source": [
    "#### Feedback del certamen\n",
    "\n",
    "## ¿Qué tal el certamen 1?\n",
    "\n",
    "\n",
    "Minuto de confianza.\n",
    "\n",
    "1. ¿Qué pudimos haber hecho mejor?\n",
    "2. ¿Qué cambiamos para el resto del semestre?\n",
    "3. ¿Qué fue lo fácil? \n",
    "3. ¿Qué fue lo difícil?\n",
    "\n",
    "Hagan sus predicciones."
   ]
  },
  {
   "cell_type": "markdown",
   "metadata": {
    "slideshow": {
     "slide_type": "slide"
    }
   },
   "source": [
    "## ¿Qué contenido aprenderemos hoy?\n",
    "\n",
    "* Módulos\n",
    "* Funciones avanzadas"
   ]
  },
  {
   "cell_type": "markdown",
   "metadata": {
    "slideshow": {
     "slide_type": "slide"
    }
   },
   "source": [
    "## ¿Porqué aprenderemos ese contenido?\n",
    "\n",
    "* Módulos\n",
    "* Funciones avanzadas\n",
    "\n",
    "Porque facilitan la utilización de funciones y es necesario saberlo para utilizar código creado por terceras personas."
   ]
  },
  {
   "cell_type": "markdown",
   "metadata": {
    "slideshow": {
     "slide_type": "slide"
    }
   },
   "source": [
    "## 1. Módulos  o Librerías\n",
    "\n",
    "Un módulo es un archivo python donde se han definido valores y parámetros:\n",
    "* Puede ser propio\n",
    "* Puede ser hecho por terceros.\n"
   ]
  },
  {
   "cell_type": "markdown",
   "metadata": {
    "slideshow": {
     "slide_type": "slide"
    }
   },
   "source": [
    "#### 1. Módulos o Librerías \n",
    "## 1.1 Importando una función de una librería\n",
    "Importando funciones específicas:\n",
    "\n",
    "    from modulo_a_usar import funcion_de_interes\n",
    "\n",
    "Luego ***funcion_de_interes*** puede utilizarse directamente."
   ]
  },
  {
   "cell_type": "code",
   "execution_count": null,
   "metadata": {
    "collapsed": false,
    "slideshow": {
     "slide_type": "fragment"
    }
   },
   "outputs": [],
   "source": [
    "from math import exp, cos, pi\n",
    "from random import randrange, choice\n",
    "\n",
    "print exp(5.5)\n",
    "print cos(pi / 2)\n",
    "print randrange(10)\n",
    "print choice(['Lunes', 'Martes', 'Viernes'])"
   ]
  },
  {
   "cell_type": "markdown",
   "metadata": {
    "slideshow": {
     "slide_type": "slide"
    }
   },
   "source": [
    "#### 1. Módulos o Librerías \n",
    "## 1.2 Importando todo un módulo\n",
    "Para importar todo un módulo:\n",
    "\n",
    "    import modulo_a_usar\n",
    "    \n",
    "Luego la **funcion_de_interes** puede utilizarse utilizando **modulo_a_usar.funcion_de_interes**"
   ]
  },
  {
   "cell_type": "code",
   "execution_count": null,
   "metadata": {
    "collapsed": true
   },
   "outputs": [],
   "source": [
    "import math\n",
    "import random\n",
    "\n",
    "print math.exp(5.5)\n",
    "print math.cos(math.pi / 2)\n",
    "print random.randrange(10)\n",
    "\n",
    "print random.choice(['Lunes', 'Martes', 'Viernes'])"
   ]
  },
  {
   "cell_type": "markdown",
   "metadata": {
    "slideshow": {
     "slide_type": "slide"
    }
   },
   "source": [
    "#### 1. Módulos o librerías\n",
    "## 1.3 Creación de Módulos \n",
    "\n",
    "Cree un módulo que calcule el área de figuras geométricas.\n",
    "Utilizando el módulo realice los siguientes programas:\n",
    "1. El primero pregunta el numero de lados y luego la arista, y entrega el área.\n",
    "2. El segundo pregunta el lado de un cuadrado, y la altura, y luego entrega el volumen de la pirámide.\n",
    "\n",
    "(Ver archivos adjuntos)"
   ]
  },
  {
   "cell_type": "markdown",
   "metadata": {
    "slideshow": {
     "slide_type": "slide"
    }
   },
   "source": [
    "## 2. Funciones Avanzadas\n",
    "\n",
    "* Múltiples valores de retorno\n",
    "* Ningún valor de retorno\n",
    "* Valores por omisión\n",
    "* Función como argumento\n",
    "* Funciones recursivas"
   ]
  },
  {
   "cell_type": "markdown",
   "metadata": {
    "slideshow": {
     "slide_type": "slide"
    }
   },
   "source": [
    "## 2.1 Funciones con múltiples valores de retorno\n",
    "\n",
    "Simplemente retorne valores separados por comas.\n",
    "\n",
    "Esto es extremadamente útil cuando en la función se generan distintos valores simultáneamente."
   ]
  },
  {
   "cell_type": "code",
   "execution_count": 19,
   "metadata": {
    "collapsed": false
   },
   "outputs": [
    {
     "name": "stdout",
     "output_type": "stream",
     "text": [
      "2\n"
     ]
    }
   ],
   "source": [
    "def convertir_segundos(segundos):\n",
    "    horas = segundos / (60 * 60)\n",
    "    minutos = (segundos / 60) % 60\n",
    "    segundos = segundos % 60\n",
    "    return horas, minutos, segundos\n",
    "\n",
    "h, m, s = convertir_segundos(9814)\n",
    "print h"
   ]
  },
  {
   "cell_type": "markdown",
   "metadata": {
    "slideshow": {
     "slide_type": "slide"
    }
   },
   "source": [
    "#### 2.1 Funciones con múltiples valores de retorno\n",
    "\n",
    "## Ejercicio\n",
    "Realice una función que entregue simultáneamente el mínimo y el máximo de valores entregados por el usuario."
   ]
  },
  {
   "cell_type": "code",
   "execution_count": null,
   "metadata": {
    "collapsed": false
   },
   "outputs": [],
   "source": [
    "def minmax():\n",
    "    N = int(raw_input(\"Cuantos números: \"))\n",
    "    j = 1\n",
    "    #FIX ME\n",
    "    #FIX ME\n",
    "    while j<=N:\n",
    "        x = float(raw_input(\"Numero \"+str(j)+\": \"))\n",
    "        #FIX ME\n",
    "        #FIX ME\n",
    "        j += 1\n",
    "    return    #FIX ME\n",
    "\n",
    "#FIX ME\n",
    "print \"Minimo:\", mmin\n",
    "print \"Maximo:\", mmax"
   ]
  },
  {
   "cell_type": "markdown",
   "metadata": {
    "slideshow": {
     "slide_type": "slide"
    }
   },
   "source": [
    "#### 2.1 Funciones con múltiples valores de retorno\n",
    "\n",
    "## Solución\n",
    "Realice una función que entregue el mínimo y el máximo de valores entregados por el usuario."
   ]
  },
  {
   "cell_type": "code",
   "execution_count": null,
   "metadata": {
    "collapsed": false
   },
   "outputs": [],
   "source": [
    "def minmax():\n",
    "    N = int(raw_input(\"Cuantos números: \"))\n",
    "    j = 1\n",
    "    mi_min = +float(\"inf\")\n",
    "    mi_max = -float(\"inf\")\n",
    "    while j<=N:\n",
    "        x = float(raw_input(\"Numero \"+str(j)+\": \"))\n",
    "        mi_min = min(x,mi_min)\n",
    "        mi_max = max(x,mi_max)\n",
    "        j += 1\n",
    "    return mi_min, mi_max\n",
    "\n",
    "mmin, mmax = minmax()\n",
    "print \"Minimo:\", mmin\n",
    "print \"Maximo:\", mmax"
   ]
  },
  {
   "cell_type": "markdown",
   "metadata": {
    "slideshow": {
     "slide_type": "slide"
    }
   },
   "source": [
    "## 2.2 Funciones sin valor de retorno\n",
    "\n",
    "***Simplemente no retorne valores.***\n",
    "\n",
    "Esto es extremadamente útil cuando en la función hace algo pero no genera valores."
   ]
  },
  {
   "cell_type": "code",
   "execution_count": 20,
   "metadata": {
    "collapsed": false
   },
   "outputs": [
    {
     "name": "stdout",
     "output_type": "stream",
     "text": [
      "\n",
      "Nombre completo: Perico Los Palotes\n",
      "Rol: 201101001-1\n",
      "Fecha de nacimiento: 3 / 1 / 1993\n",
      "\n",
      "Nombre completo: Yayita Vinagre\n",
      "Rol: 201101002-2\n",
      "Fecha de nacimiento: 10 / 9 / 1992\n",
      "\n",
      "Nombre completo: Fulano De Tal\n",
      "Rol: 201101003-3\n",
      "Fecha de nacimiento: 14 / 5 / 1990\n"
     ]
    }
   ],
   "source": [
    "def imprimir_datos(nombre, apellido, rol, dia, mes, anno):\n",
    "    print ''\n",
    "    print 'Nombre completo:', nombre, apellido\n",
    "    print 'Rol:', rol\n",
    "    print 'Fecha de nacimiento:',\n",
    "    print dia, '/', mes, '/', anno\n",
    "    \n",
    "    \n",
    "imprimir_datos('Perico', 'Los Palotes', '201101001-1', 3, 1, 1993)\n",
    "imprimir_datos('Yayita', 'Vinagre', '201101002-2', 10, 9, 1992)\n",
    "imprimir_datos('Fulano', 'De Tal', '201101003-3', 14, 5, 1990)"
   ]
  },
  {
   "cell_type": "markdown",
   "metadata": {
    "slideshow": {
     "slide_type": "slide"
    }
   },
   "source": [
    "#### 2.2 Funciones sin valor de retorno\n",
    "\n",
    "## Ejercicio\n",
    "\n",
    "Crear una función codigo_palabra(codigo) que reciba un código encriptado de sólo letras\n",
    "e ***imprima*** el mensaje desencriptado. La regla de desencriptación es la siguiente: la palabra\n",
    "desencriptada se obtiene recorriendo desde el final de la palabra hasta el comienzo, considerando\n",
    "solo las letras en ubicaciones impares. Empezando desde la ultima letra.\n",
    "\n",
    "    codigo_palabra('aczaarltp')\n",
    "    plaza\n",
    "\n",
    "    codigo_palabra('axruatgrrreov')\n",
    "    vergara"
   ]
  },
  {
   "cell_type": "code",
   "execution_count": null,
   "metadata": {
    "collapsed": false
   },
   "outputs": [],
   "source": [
    "def codigo_palabra(palabra):\n",
    "    # FIX ME\n",
    "    print palabra\n",
    "\n",
    "codigo_palabra('aczaarltp')\n",
    "codigo_palabra('axruatgrrreov')"
   ]
  },
  {
   "cell_type": "markdown",
   "metadata": {
    "slideshow": {
     "slide_type": "slide"
    }
   },
   "source": [
    "#### 2.2 Funciones sin valor de retorno\n",
    "\n",
    "## Solución v1"
   ]
  },
  {
   "cell_type": "code",
   "execution_count": 21,
   "metadata": {
    "collapsed": false
   },
   "outputs": [
    {
     "name": "stdout",
     "output_type": "stream",
     "text": [
      "plaza\n",
      "vergara\n"
     ]
    }
   ],
   "source": [
    "def codigo_palabra(palabra):\n",
    "    n = len(palabra)-1\n",
    "    codigo = \"\"\n",
    "    while n>=0:\n",
    "        codigo += palabra[n]\n",
    "        n -= 2\n",
    "    print codigo\n",
    "\n",
    "codigo_palabra('aczaarltp')\n",
    "codigo_palabra('axruatgrrreov')"
   ]
  },
  {
   "cell_type": "markdown",
   "metadata": {
    "slideshow": {
     "slide_type": "slide"
    }
   },
   "source": [
    "#### 2.2 Funciones sin valor de retorno\n",
    "\n",
    "## Solución v2"
   ]
  },
  {
   "cell_type": "code",
   "execution_count": 22,
   "metadata": {
    "collapsed": false
   },
   "outputs": [
    {
     "name": "stdout",
     "output_type": "stream",
     "text": [
      "plaza\n",
      "vergara\n"
     ]
    }
   ],
   "source": [
    "def codigo_palabra(palabra):\n",
    "    j = 1\n",
    "    codigo = \"\"\n",
    "    while j<=len(palabra):\n",
    "        codigo += palabra[-j]\n",
    "        j += 2\n",
    "    print codigo\n",
    "\n",
    "codigo_palabra('aczaarltp')\n",
    "codigo_palabra('axruatgrrreov')"
   ]
  },
  {
   "cell_type": "markdown",
   "metadata": {
    "slideshow": {
     "slide_type": "slide"
    }
   },
   "source": [
    "## 2.3 Parámetros con valores por omisión\n",
    "\n",
    "***Defina las variables y asigne valores por defecto (por omisión)***\n",
    "\n",
    "Esto es extremadamente util cuando en la función puede tener un número variable de argumentos."
   ]
  },
  {
   "cell_type": "code",
   "execution_count": null,
   "metadata": {
    "collapsed": false
   },
   "outputs": [],
   "source": [
    "def f(a, b=2):\n",
    "    return a + b\n",
    "\n",
    "print f(10) # Probar f(10), f(10,2), f(10,15), etc."
   ]
  },
  {
   "cell_type": "markdown",
   "metadata": {
    "slideshow": {
     "slide_type": "slide"
    }
   },
   "source": [
    "#### 2.3 Parámetros con valores por omisión\n",
    "## Ejercicio\n",
    "\n",
    "Cree una función que regresa el perimetro de un polígono en función del radio $r$ y el número de lados $n$:\n",
    "$$P = 2 \\ n  \\ r \\tan\\Big(\\frac{\\pi}{n}\\Big)$$\n",
    "* Si no se ingresa el número de lados, regresa el perimetro de un círculo.\n",
    "* Si se ingresa un número de lados menor a 3, debe imprimir \"Numero incorrecto de lados\" y no regresar nada."
   ]
  },
  {
   "cell_type": "code",
   "execution_count": null,
   "metadata": {
    "collapsed": true
   },
   "outputs": [],
   "source": [
    "# Importar modulos necesarios\n",
    "\n",
    "# Definir funcion\n",
    "\n",
    "# Casos a utilizar\n",
    "print perimetro(0.5, 2)\n",
    "print perimetro(0.5, 3)\n",
    "print perimetro(0.5, 4)\n",
    "print perimetro(0.5, 10)\n",
    "print perimetro(0.5, 20)\n",
    "print perimetro(0.5, 1000)\n",
    "print perimetro(0.5)"
   ]
  },
  {
   "cell_type": "code",
   "execution_count": null,
   "metadata": {
    "collapsed": false
   },
   "outputs": [],
   "source": [
    "# Importar modulos necesarios\n",
    "import math\n",
    "\n",
    "# Definir funcion\n",
    "def perimetro(r, n=-1):\n",
    "    if n<=2:\n",
    "        print \"Numero incorrecto de lados\"\n",
    "        return\n",
    "    elif n>2:\n",
    "        return 2*r*n*math.tan(math.pi/n)\n",
    "    else:\n",
    "        return 2*pi*r\n",
    "    return \n",
    "# Casos a utilizar\n",
    "print perimetro(0.5, 2)\n",
    "print perimetro(0.5, 3)\n",
    "print perimetro(0.5, 4)\n",
    "print perimetro(0.5, 10)\n",
    "print perimetro(0.5, 20)\n",
    "print perimetro(0.5, 1000)\n",
    "print perimetro(0.5)"
   ]
  },
  {
   "cell_type": "markdown",
   "metadata": {
    "slideshow": {
     "slide_type": "slide"
    }
   },
   "source": [
    "## 2.4 Funciones como parámetros\n",
    "\n",
    "***Las funciones también son un objeto (tipo básico) en python, y pueden pasarse a otra función como argumento.***\n",
    "\n",
    "Esto es útil cuando queremos modificar el comportamiento de una función o queremos cambiar un tipo de evaluación."
   ]
  },
  {
   "cell_type": "code",
   "execution_count": null,
   "metadata": {
    "collapsed": false
   },
   "outputs": [],
   "source": [
    "def sumar(n, f):\n",
    "    s = 0\n",
    "    for i in range(n):\n",
    "        s = s + f(i)\n",
    "    return s\n",
    "\n",
    "def identidad(x):\n",
    "    return x\n",
    "\n",
    "def cuadrado(x):\n",
    "    return x ** 2\n",
    "\n",
    "def cubo(x):\n",
    "    return x ** 3\n",
    "\n",
    "print sumar(1000, identidad)\n",
    "\n",
    "print sumar(1000, cuadrado)\n",
    "\n",
    "print sumar(1000, cubo)"
   ]
  },
  {
   "cell_type": "markdown",
   "metadata": {
    "slideshow": {
     "slide_type": "slide"
    }
   },
   "source": [
    "#### 2.4 Funciones como parámetros\n",
    "## Ejercicio\n",
    "\n",
    "Crear una función que reciba 3 números y una función. \n",
    "* Si la función utilizada como argumento es la suma, se debe regresar la suma de los 3 números.\n",
    "* Si la función utilizada es la multiplicación, se debe regresar la multiplicación de los 3 números."
   ]
  },
  {
   "cell_type": "code",
   "execution_count": null,
   "metadata": {
    "collapsed": false
   },
   "outputs": [],
   "source": [
    "def aplicar_funcion(a, b, c, funcion):\n",
    "    # FIX ME\n",
    "    # FIX ME\n",
    "    return\n",
    "    \n",
    "def suma(x,y):\n",
    "    return x+y\n",
    "\n",
    "def multiplicar(x,y):\n",
    "    return x*y\n",
    "    \n",
    "print aplicar_funcion(1, 2, 3, suma)\n",
    "\n",
    "print aplicar_funcion(1, 2, 3, multiplicar)\n",
    "\n",
    "print aplicar_funcion(\"a\", \"b\", \"c\", suma)\n",
    "\n",
    "print aplicar_funcion(\"a\", 2, 3, multiplicar)\n",
    "\n"
   ]
  },
  {
   "cell_type": "markdown",
   "metadata": {
    "slideshow": {
     "slide_type": "slide"
    }
   },
   "source": [
    "#### 2.4 Funciones como parámetros\n",
    "## Solución"
   ]
  },
  {
   "cell_type": "code",
   "execution_count": 23,
   "metadata": {
    "collapsed": false
   },
   "outputs": [
    {
     "name": "stdout",
     "output_type": "stream",
     "text": [
      "6\n",
      "6\n",
      "abc\n",
      "aaaaaa\n"
     ]
    }
   ],
   "source": [
    "def aplicar_funcion(a, b, c, funcion):\n",
    "    ab = funcion(a,b)\n",
    "    abc = funcion(ab, c)\n",
    "    return abc\n",
    "    \n",
    "def suma(x,y):\n",
    "    return x+y\n",
    "\n",
    "def multiplicar(x,y):\n",
    "    return x*y\n",
    "    \n",
    "print aplicar_funcion(1, 2, 3, suma)\n",
    "\n",
    "print aplicar_funcion(1, 2, 3, multiplicar)\n",
    "\n",
    "print aplicar_funcion(\"a\", \"b\", \"c\", suma)\n",
    "\n",
    "print aplicar_funcion(\"a\", 2, 3, multiplicar)\n",
    "\n"
   ]
  },
  {
   "cell_type": "markdown",
   "metadata": {
    "slideshow": {
     "slide_type": "slide"
    }
   },
   "source": [
    "## 2.5 Funciones recursivas\n",
    "\n",
    "***Una función puede llamar a otra función, incluso a sí misma.***\n",
    "\n",
    "Útil cuando la relación se explica en términos de sí misma.\n",
    "\n",
    "¡Es crucial definir una condición de detención!"
   ]
  },
  {
   "cell_type": "code",
   "execution_count": null,
   "metadata": {
    "collapsed": false
   },
   "outputs": [],
   "source": [
    "def factorial(n):\n",
    "    if n <= 0:\n",
    "        return 1\n",
    "    else:\n",
    "        return factorial(n - 1) * n\n",
    "    \n",
    "print factorial(2)\n",
    "print factorial(10)"
   ]
  },
  {
   "cell_type": "markdown",
   "metadata": {
    "slideshow": {
     "slide_type": "slide"
    }
   },
   "source": [
    "#### 2.5 Funciones recursivas\n",
    "\n",
    "## Ejercicio\n",
    "Cree una funcion que sume los dígitos de un número de manera recursiva:\n",
    "\n",
    "Por ejemplo, 234 deberia entregar 2+3+4= 9"
   ]
  },
  {
   "cell_type": "code",
   "execution_count": null,
   "metadata": {
    "collapsed": false
   },
   "outputs": [],
   "source": [
    "def suma_digitos(n):\n",
    "    n_str = str(n)\n",
    "    if len(n_str)==1:\n",
    "        # FIX ME\n",
    "    else:\n",
    "        # FIX ME\n",
    "    \n",
    "print suma_digitos(234)"
   ]
  },
  {
   "cell_type": "markdown",
   "metadata": {
    "slideshow": {
     "slide_type": "slide"
    }
   },
   "source": [
    "#### 2.5 Funciones recursivas\n",
    "\n",
    "## Solución"
   ]
  },
  {
   "cell_type": "code",
   "execution_count": 24,
   "metadata": {
    "collapsed": false
   },
   "outputs": [
    {
     "name": "stdout",
     "output_type": "stream",
     "text": [
      "9\n"
     ]
    }
   ],
   "source": [
    "def suma_digitos(n):\n",
    "    n_str = str(n)\n",
    "    if len(n_str)==1:\n",
    "        return n\n",
    "    else:\n",
    "        primer_digito = n_str[0]\n",
    "        otros_digitos = n_str[1:]\n",
    "        return int(primer_digito) + suma_digitos(int(otros_digitos))\n",
    "    \n",
    "print suma_digitos(234)"
   ]
  },
  {
   "cell_type": "markdown",
   "metadata": {
    "slideshow": {
     "slide_type": "slide"
    }
   },
   "source": [
    "## Minitareas\n",
    "\n",
    "* Realizar al menos 1 ejercicio de\n",
    "[Diseño De Algoritmos](http://progra.usm.cl/apunte/ejercicios/1/index.html#diseno-de-algoritmos)\n",
    "\n",
    "* Realizar al menos 1 ejercicio de\n",
    "[Funciones y Módulos](http://progra.usm.cl/apunte/ejercicios/2/index.html#funciones-y-modulos)\n",
    "\n",
    "Enviar por correo, indicando:\n",
    "* Mensaje de saludo\n",
    "* Problema a resolver\n",
    "* Archivos adjuntos en formato **nombre_de_problema_nombre_alumno.py**"
   ]
  }
 ],
 "metadata": {
  "celltoolbar": "Slideshow",
  "kernelspec": {
   "display_name": "Python 2",
   "language": "python",
   "name": "python2"
  },
  "language_info": {
   "codemirror_mode": {
    "name": "ipython",
    "version": 2
   },
   "file_extension": ".py",
   "mimetype": "text/x-python",
   "name": "python",
   "nbconvert_exporter": "python",
   "pygments_lexer": "ipython2",
   "version": "2.7.6"
  }
 },
 "nbformat": 4,
 "nbformat_minor": 0
}
