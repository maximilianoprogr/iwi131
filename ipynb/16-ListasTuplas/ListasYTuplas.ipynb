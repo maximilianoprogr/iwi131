{
 "cells": [
  {
   "cell_type": "code",
   "execution_count": 3,
   "metadata": {
    "collapsed": false,
    "slideshow": {
     "slide_type": "skip"
    }
   },
   "outputs": [
    {
     "data": {
      "text/html": [
       "<style>\n",
       "\n",
       ".reveal {\n",
       "overflow: visible;\n",
       "}\n",
       "\n",
       "/*********************************************\n",
       " * CHANGE CURSIVE FOR RED\n",
       " *********************************************/\n",
       "em {font-style: normal !important;\n",
       "    color: #800000;}\n",
       "span.good {color: #008000;}\n",
       "span.warning {color: #808000;}\n",
       "span.bad {color: #800000;}\n",
       "\n",
       "/*********************************************\n",
       " * GLOBAL STYLES\n",
       " *********************************************/\n",
       ".reveal h1 {color: #000000; text-shadow: 0px 0px 6px rgba(0, 0, 0, 0.2);}\n",
       ".reveal h2 {color: #222222; text-shadow: 0px 0px 5px rgba(0, 0, 0, 0.2);}\n",
       ".reveal h3 {color: #444444; text-shadow: 0px 0px 4px rgba(0, 0, 0, 0.2);}\n",
       ".reveal h4 {color: #666666; text-shadow: 0px 0px 3px rgba(0, 0, 0, 0.2);}\n",
       ".reveal h5 {color: #888888; text-shadow: 0px 0px 2px rgba(0, 0, 0, 0.2);}\n",
       ".reveal h6 {color: #AAAAAA; text-shadow: 0px 0px 1px rgba(0, 0, 0, 0.2);}\n",
       "\n",
       "/*********************************************\n",
       " * IMAGES\n",
       " *********************************************/\n",
       ".reveal section img { margin-left:auto; margin-right:auto;}\n",
       "\n",
       "</style>\n"
      ],
      "text/plain": [
       "<IPython.core.display.HTML object>"
      ]
     },
     "execution_count": 3,
     "metadata": {},
     "output_type": "execute_result"
    }
   ],
   "source": [
    "\"\"\"\n",
    "IPython Notebook v4.0 para python 2.7\n",
    "Librerías adicionales: Ninguna.\n",
    "Contenido bajo licencia CC-BY 4.0. Código bajo licencia MIT. (c) Sebastian Flores.\n",
    "\"\"\"\n",
    "\n",
    "# Configuracion para recargar módulos y librerías \n",
    "%reload_ext autoreload\n",
    "%autoreload 2\n",
    "\n",
    "from IPython.core.display import HTML\n",
    "\n",
    "HTML(open(\"style/iwi131.css\", \"r\").read())"
   ]
  },
  {
   "cell_type": "markdown",
   "metadata": {
    "slideshow": {
     "slide_type": "slide"
    }
   },
   "source": [
    "<header class=\"w3-container w3-teal\">\n",
    "<img src=\"images/utfsm.png\" alt=\"\" align=\"left\"/>\n",
    "<img src=\"images/inf.png\" alt=\"\" align=\"right\"/>\n",
    "</header>\n",
    "<br/><br/><br/><br/><br/>\n",
    "# IWI131\n",
    "## Programación de Computadores\n",
    "\n",
    "### Sebastián Flores\n",
    "\n",
    "http://progra.usm.cl/ \n",
    "\n",
    "https://www.github.com/usantamaria/iwi131\n"
   ]
  },
  {
   "cell_type": "markdown",
   "metadata": {
    "slideshow": {
     "slide_type": "slide"
    }
   },
   "source": [
    "## ¿Qué contenido aprenderemos?\n",
    "\n",
    "* Listas\n",
    "* Tuplas"
   ]
  },
  {
   "cell_type": "markdown",
   "metadata": {
    "slideshow": {
     "slide_type": "slide"
    }
   },
   "source": [
    "## ¿Porqué aprenderemos ese contenido?\n",
    "\n",
    "* Listas\n",
    "* Tuplas\n",
    "\n",
    "Porque utilizar colecciones de elementos resulta natural y permite simplificar operaciones."
   ]
  },
  {
   "cell_type": "markdown",
   "metadata": {
    "collapsed": true,
    "slideshow": {
     "slide_type": "slide"
    }
   },
   "source": [
    "## Motivación\n",
    "\n",
    "Calcule el promedio y la desviación estándar de $N$ datos, $x_1$, ..., $x_n$, ingresados por el usuario:\n",
    "\n",
    "$$ \\begin{align}\n",
    "mean &= \\frac{1}{n} \\sum_{i=1} x_i \\\\\n",
    "(std)^2 &= \\frac{1}{n} \\sum_{i=1} (x_i- mean)^2\n",
    "\\end{align}\n",
    "$$"
   ]
  },
  {
   "cell_type": "code",
   "execution_count": 5,
   "metadata": {
    "collapsed": false
   },
   "outputs": [
    {
     "ename": "NameError",
     "evalue": "name 'raw_input' is not defined",
     "output_type": "error",
     "traceback": [
      "\u001b[1;31m---------------------------------------------------------------------------\u001b[0m",
      "\u001b[1;31mNameError\u001b[0m                                 Traceback (most recent call last)",
      "Cell \u001b[1;32mIn[5], line 1\u001b[0m\n\u001b[1;32m----> 1\u001b[0m N \u001b[39m=\u001b[39m \u001b[39mint\u001b[39m(raw_input(\u001b[39m\"\u001b[39m\u001b[39mIngrese numero de datos:\u001b[39m\u001b[39m\"\u001b[39m))\n\u001b[0;32m      2\u001b[0m \u001b[39m# Calculo del promedio\u001b[39;00m\n\u001b[0;32m      3\u001b[0m \u001b[39mprint\u001b[39m(\u001b[39m\"\u001b[39m\u001b[39mIngrese numeros (para calcular promedio\u001b[39m\u001b[39m\"\u001b[39m)\n",
      "\u001b[1;31mNameError\u001b[0m: name 'raw_input' is not defined"
     ]
    }
   ],
   "source": [
    "N = int(raw_input(\"Ingrese numero de datos:\"))\n",
    "# Calculo del promedio\n",
    "print(\"Ingrese numeros (para calcular promedio\")\n",
    "j = 1\n",
    "mean = 0.0\n",
    "while j<=N:\n",
    "    x_i = float(raw_input(\"Ingrese numero: \"))\n",
    "    mean += x_i\n",
    "    j += 1\n",
    "mean = mean / N\n",
    "# Calculo de desviacion estandar\n",
    "print(\"Ingrese los MISMOS numeros (para calcular desviacion estandar)\")\n",
    "j = 1\n",
    "var = 0.0\n",
    "while j<=N:\n",
    "    x_i = float(raw_input(\"Ingrese numero: \"))\n",
    "    var += (x_i-mean)**2\n",
    "    j += 1\n",
    "std = (var/N)**0.5\n",
    "# Imprimir resultados\n",
    "print(\"promedio\", mean)\n",
    "print(\"desviacion estandar\", std)"
   ]
  },
  {
   "cell_type": "markdown",
   "metadata": {
    "collapsed": true,
    "slideshow": {
     "slide_type": "slide"
    }
   },
   "source": [
    "## Análisis del problema anterior\n",
    "El problema anterior resultaba engorroso para el usuario porque necesitabamos realizar 2 ciclos while en los datos: \n",
    "\n",
    "* La primera vez para calcular el promedio. \n",
    "* La segunda vez para calcular la desviación estándar.\n",
    "\n",
    "Proceso sería más fácil si primero almacenáramos los datos, y luego realizáramos los cálculos necesarios sin molestar al usuario. "
   ]
  },
  {
   "cell_type": "markdown",
   "metadata": {
    "collapsed": true,
    "slideshow": {
     "slide_type": "slide"
    }
   },
   "source": [
    "## Tuplas\n",
    " * Colecciones ***inmutables*** de datos.\n",
    " * Tienen un número reducido de operaciones.\n",
    " * Se utilizan cuando el número de elementos y su contenido no varía: por ejemplo, coordenadas de un punto\n",
    " ***(x,y,z)*** o número complejo ***(Real,Imaginario)***.\n",
    "\n",
    "## Listas\n",
    " * Colecciones ***mutables*** de datos.\n",
    " * Tienen un número amplio de operaciones.\n",
    " * Se utilizan cuando el número de elementos es variable.\n",
    "\n",
    "\n"
   ]
  },
  {
   "cell_type": "markdown",
   "metadata": {
    "collapsed": true,
    "slideshow": {
     "slide_type": "slide"
    }
   },
   "source": [
    "## Tuplas\n",
    "Colecciones heterogéneas e ***inmutables*** de datos.\n",
    " \n",
    "Se definen con paréntesis redondos y como colección pueden tener datos de distintos tipos:"
   ]
  },
  {
   "cell_type": "code",
   "execution_count": null,
   "metadata": {
    "collapsed": true
   },
   "outputs": [],
   "source": [
    "posicion_alfil = (7, 6)\n",
    "\n",
    "alumno = ('Fulano', 'De Tal', '201199001-1')\n",
    "\n",
    "carta = (5, 'corazones')\n",
    "\n",
    "fecha = (2011, 4, 12)\n",
    "\n",
    "triangulo = ((5, 1), (2, 4), (-2, 0))\n",
    "\n",
    "personaje = ('Arturo Prat', (1848, 4.0, 3), (1879, 5, 21))"
   ]
  },
  {
   "cell_type": "code",
   "execution_count": null,
   "metadata": {
    "collapsed": false
   },
   "outputs": [],
   "source": [
    "print personaje[0][0:5]"
   ]
  },
  {
   "cell_type": "markdown",
   "metadata": {
    "collapsed": true,
    "slideshow": {
     "slide_type": "slide"
    }
   },
   "source": [
    "#### Tuplas\n",
    "## Desempaquetado de Tuplas\n",
    "\n",
    "Si una tupla tiene $n$ datos, es posible \"desempaquetar\" en variables de manera directa:"
   ]
  },
  {
   "cell_type": "code",
   "execution_count": null,
   "metadata": {
    "collapsed": false
   },
   "outputs": [],
   "source": [
    "punto = (6.6, -2.4, 3.7)\n",
    "x, y, z = punto\n",
    "print x"
   ]
  },
  {
   "cell_type": "code",
   "execution_count": null,
   "metadata": {
    "collapsed": false
   },
   "outputs": [],
   "source": [
    "personaje = (\"Bernardo O'Higgins\", (1778, 8, 20), (1842, 10, 24))\n",
    "nombre, nacimiento, _ = personaje\n",
    "an, mn, dn = nacimiento\n",
    "ad, md, dd = defuncion\n",
    "print ad - an\n",
    "print personaje"
   ]
  },
  {
   "cell_type": "markdown",
   "metadata": {
    "collapsed": true,
    "slideshow": {
     "slide_type": "slide"
    }
   },
   "source": [
    "#### Tuplas\n",
    "## ¿Cómo reconocer una tupla?\n",
    "\n",
    "Utilice **type**"
   ]
  },
  {
   "cell_type": "code",
   "execution_count": null,
   "metadata": {
    "collapsed": false
   },
   "outputs": [],
   "source": [
    "a = (1,2)\n",
    "b = (-1,-2)\n",
    "c1 = a + b\n",
    "print c1\n",
    "c2 = (a[0] + b[0], a[1] + b[1])\n",
    "print c2\n",
    "print type(a[1])"
   ]
  },
  {
   "cell_type": "markdown",
   "metadata": {
    "collapsed": true,
    "slideshow": {
     "slide_type": "slide"
    }
   },
   "source": [
    "#### Tuplas\n",
    "## ¿Donde hemos utilizado ya tuplas?\n",
    "\n",
    "En las funciones de múltiples retornos:"
   ]
  },
  {
   "cell_type": "code",
   "execution_count": null,
   "metadata": {
    "collapsed": false
   },
   "outputs": [],
   "source": [
    "def rectangulo(a,b):\n",
    "    peri = 2*(a+b)\n",
    "    area = a*b\n",
    "    return peri, area\n",
    "\n",
    "s = rectangulo(1,2)\n",
    "print type(s)\n",
    "print s\n",
    "\n",
    "p, a = rectangulo(2,3)  # Esto de clase anterior era una desempaquetado!\n",
    "print type(p)\n",
    "print p\n",
    "print type(s)\n",
    "print s"
   ]
  },
  {
   "cell_type": "markdown",
   "metadata": {
    "collapsed": true,
    "slideshow": {
     "slide_type": "slide"
    }
   },
   "source": [
    "#### Tuplas\n",
    "## ¿Qué métodos puedo aplicar a tuplas?\n",
    "* **len**: cuantos elementos hay en la tupla\n",
    "* **sum**: sacar elementos de la tupla"
   ]
  },
  {
   "cell_type": "code",
   "execution_count": null,
   "metadata": {
    "collapsed": false
   },
   "outputs": [],
   "source": [
    "s_mixto = (1, 1.0, True, \"1\")\n",
    "print len(s_mixto)\n",
    "#print sum(s_mixto)\n",
    "print sum(s_mixto[:3])\n",
    "\n",
    "s = (1, 1.0, 2., 2, 3.)\n",
    "print len(s)\n",
    "print s[1:-1]\n",
    "print sum(s)\n",
    "print sum(s[1:-1])"
   ]
  },
  {
   "cell_type": "markdown",
   "metadata": {
    "collapsed": true,
    "slideshow": {
     "slide_type": "slide"
    }
   },
   "source": [
    "#### Listas\n",
    "## Otros métodos\n",
    "\n",
    "Testear pertenencia en tupla\n",
    "\n",
    "    dato in tupla\n",
    "    \n",
    "regresará siempre un booleano: True si dato está en la tupla, False si no está en la tupla."
   ]
  },
  {
   "cell_type": "code",
   "execution_count": null,
   "metadata": {
    "collapsed": false
   },
   "outputs": [],
   "source": [
    "mi_tupla = (\"sebastian\", \"carlos\", \"jose\")\n",
    "\n",
    "print \"sebastian\" in mi_tupla\n",
    "\n",
    "print \"seba\" in mi_tupla\n",
    "\n",
    "print \"carlos\" in mi_tupla\n",
    "\n",
    "print \"pepe\" in mi_tupla"
   ]
  },
  {
   "cell_type": "markdown",
   "metadata": {
    "collapsed": true,
    "slideshow": {
     "slide_type": "slide"
    }
   },
   "source": [
    "#### Tuplas\n",
    "## Acceder valores vs Cambiar valores\n",
    "* Los valores de una tupla pueden accederse mediante índices: **[i], [i:], [:j], [i:j]**.\n",
    "\n",
    "        mi_tupla[mi_indice]\n",
    "\n",
    "* Los valores de una tupla no pueden cambiarse. La tupla es completamente inmutable."
   ]
  },
  {
   "cell_type": "code",
   "execution_count": null,
   "metadata": {
    "collapsed": false
   },
   "outputs": [],
   "source": [
    "# Posicion original\n",
    "punto = (0, 0, 0)\n",
    "print punto\n",
    "\n",
    "# Acceso a valores\n",
    "v = (1,2,3)\n",
    "dt = 2.0\n",
    "print punto[0] + v[0]*dt\n",
    "print punto[1] + v[1]*dt\n",
    "print punto[2] + v[2]*dt\n",
    "\n",
    "# Actualización de valores\n",
    "#punto[0] = 1\n",
    "\n",
    "s = (1, 1.0, 2., 2, 3.)\n",
    "print s[1:-1]\n",
    "print len(s)\n",
    "print sum(s)\n",
    "print sum(s[1:-1])"
   ]
  },
  {
   "cell_type": "markdown",
   "metadata": {
    "collapsed": true,
    "slideshow": {
     "slide_type": "slide"
    }
   },
   "source": [
    "#### Tuplas\n",
    "## Ejemplo: Fibonacci con tuplas\n",
    "Imprima los primeros $n$ numeros de fibonacci"
   ]
  },
  {
   "cell_type": "code",
   "execution_count": null,
   "metadata": {
    "collapsed": false
   },
   "outputs": [],
   "source": [
    "n = int(raw_input(\"Ingrese n: \"))\n",
    "j = 1\n",
    "a, b = 0, 1\n",
    "while j<=n:\n",
    "    print b, \n",
    "    a, b = b, a+b # Mira Ma, sin variables auxiliares\n",
    "    j+= 1"
   ]
  },
  {
   "cell_type": "markdown",
   "metadata": {
    "collapsed": true,
    "slideshow": {
     "slide_type": "slide"
    }
   },
   "source": [
    "## Listas\n",
    "Colecciones heterogéneas y ***mutables*** de datos.\n",
    "\n",
    "Se definen con paréntesis cuadrados: [ ]"
   ]
  },
  {
   "cell_type": "code",
   "execution_count": null,
   "metadata": {
    "collapsed": false
   },
   "outputs": [],
   "source": [
    "mi_lista_1 = [1, 1., \"1\", True]\n",
    "mi_lista_2 = [1, 2, 4, 10, 55]\n",
    "\n",
    "print mi_lista_1\n",
    "print mi_lista_2\n",
    "\n",
    "# Convertir de tupla a lista\n",
    "mi_tupla = tuple(mi_lista_1)\n",
    "print mi_tupla, type(mi_tupla)\n",
    "mi_nueva_lista = list(mi_tupla)\n",
    "print mi_nueva_lista, type(mi_nueva_lista)\n"
   ]
  },
  {
   "cell_type": "markdown",
   "metadata": {
    "collapsed": true,
    "slideshow": {
     "slide_type": "slide"
    }
   },
   "source": [
    "#### Listas\n",
    "## Creando listas\n",
    "Las listas se dicen mutables porque se pueden crear dinámicamente utilizando el método ***append***.\n",
    "\n",
    "El método append agrega un dato **al final** de la lista."
   ]
  },
  {
   "cell_type": "code",
   "execution_count": null,
   "metadata": {
    "collapsed": false
   },
   "outputs": [],
   "source": [
    "valores = []\n",
    "print valores\n",
    "\n",
    "valores.append(5)\n",
    "print valores\n",
    "\n",
    "valores.append(1)\n",
    "print valores\n",
    "\n",
    "valores.append(6)\n",
    "print valores\n",
    "\n",
    "valores.append(-4)\n",
    "print valores"
   ]
  },
  {
   "cell_type": "markdown",
   "metadata": {
    "collapsed": true,
    "slideshow": {
     "slide_type": "slide"
    }
   },
   "source": [
    "#### Listas\n",
    "## Creando listas con datos del usuario\n"
   ]
  },
  {
   "cell_type": "code",
   "execution_count": null,
   "metadata": {
    "collapsed": false
   },
   "outputs": [],
   "source": [
    "# Terminamos de pedir datos cuando se ingresa \"fin\".\n",
    "mi_lista = [] # Lista vacia\n",
    "while True:\n",
    "    mi_dato = raw_input(\"Ingrese dato: \")\n",
    "    if mi_dato==\"fin\":\n",
    "        break\n",
    "    else:\n",
    "        if mi_dato in (\"True\", \"False\"):\n",
    "            mi_lista.append(bool(mi_dato))\n",
    "        else:\n",
    "            mi_lista.append(mi_dato)\n",
    "        \n",
    "# Imprimamos la lista\n",
    "print mi_lista\n",
    "\n",
    "print bool(\"True\")\n",
    "print bool(\"False\")\n",
    "print bool(\"\")"
   ]
  },
  {
   "cell_type": "markdown",
   "metadata": {
    "collapsed": true,
    "slideshow": {
     "slide_type": "slide"
    }
   },
   "source": [
    "#### Listas\n",
    "## Accesando listas\n",
    "\n",
    "Los elementos de la lista se accesan utilizando **[i:j]** de la misma forma que strings y tuplas."
   ]
  },
  {
   "cell_type": "code",
   "execution_count": null,
   "metadata": {
    "collapsed": false
   },
   "outputs": [],
   "source": [
    "a = [0, 10, 20, 30]\n",
    "print a[0]\n",
    "print a[-1]\n",
    "print a\n",
    "\n",
    "a.append(2)\n",
    "a.append(-3)\n",
    "print a[0]\n",
    "print a[-1]\n",
    "print a"
   ]
  },
  {
   "cell_type": "markdown",
   "metadata": {
    "collapsed": true,
    "slideshow": {
     "slide_type": "slide"
    }
   },
   "source": [
    "#### Listas\n",
    "## Otros métodos\n",
    "\n",
    "* len(lista): regresa la cantidad de objetos de la lista\n",
    "* sum(lista): regresa la suma de los elementos de la lista (si se puede).\n",
    "* lista.pop(): regresa el ultimo elemento de la lista y lo saca de la lista.\n",
    "* lista.sort(): ordena los elementos de la lista de menor a mayor.\n",
    "* lista.reverse(): ordena los elementos de la lista en el orden reverso al original."
   ]
  },
  {
   "cell_type": "code",
   "execution_count": null,
   "metadata": {
    "collapsed": false
   },
   "outputs": [],
   "source": [
    "x = [1,3,5,7,9,0,2,4,6,8]\n",
    "print len(x)\n",
    "\n",
    "print sum(x)\n",
    "\n",
    "x.reverse() # Revierte orden de la lista (y no regresa nada)\n",
    "print x\n",
    "\n",
    "x.sort()  # Ordena la lista (y no regresa nada)\n",
    "print x\n",
    "\n",
    "x.reverse() # Revierte orden de la lista (y no regresa nada)\n",
    "print x\n",
    "\n",
    "xi = x.pop()\n",
    "print xi\n",
    "print x"
   ]
  },
  {
   "cell_type": "markdown",
   "metadata": {
    "collapsed": true,
    "slideshow": {
     "slide_type": "slide"
    }
   },
   "source": [
    "#### Listas\n",
    "## Otros métodos\n",
    "\n",
    "Testear pertenencia en lista\n",
    "\n",
    "    dato in lista\n",
    "    \n",
    "regresará siempre un booleano: True si dato está en la lista, False si no está en la lista."
   ]
  },
  {
   "cell_type": "code",
   "execution_count": null,
   "metadata": {
    "collapsed": false
   },
   "outputs": [],
   "source": [
    "mi_lista = [\"sebastian\", \"carlos\", \"jose\"]\n",
    "\n",
    "print \"sebastian\" in mi_lista\n",
    "\n",
    "print \"seba\" in mi_lista\n",
    "\n",
    "print \"carlos\" in mi_lista\n",
    "\n",
    "print \"pepe\" in mi_lista"
   ]
  },
  {
   "cell_type": "markdown",
   "metadata": {
    "collapsed": true,
    "slideshow": {
     "slide_type": "slide"
    }
   },
   "source": [
    "#### Listas\n",
    "## Otros métodos: range\n",
    "\n",
    "El método range es práctico para **generar listas de números enteros**:\n",
    "\n",
    "* range(m) regresa la lista [0,1,2,..,m-1] \n",
    "* range(n,m) regresa la lista [n,n+1,n+2,...,m-1]\n",
    "* range(n,m,k) regresa la lista [n,n+k, n+2 k,...,x] donde x es el mayor numero n+j k < m"
   ]
  },
  {
   "cell_type": "code",
   "execution_count": null,
   "metadata": {
    "collapsed": false
   },
   "outputs": [],
   "source": [
    "print range(5)\n",
    "print range(10)\n",
    "\n",
    "print range(2, 5)\n",
    "print range(2, 10)\n",
    "\n",
    "print range(2, 5, 3)\n",
    "print range(2, 11, 3)"
   ]
  },
  {
   "cell_type": "markdown",
   "metadata": {
    "collapsed": true,
    "slideshow": {
     "slide_type": "slide"
    }
   },
   "source": [
    "#### Listas\n",
    "## Ejemplo\n",
    "Calcula la suma de los recíprocos de los primeros n numeros naturales:\n",
    "\n",
    "$$ \\frac{1}{1}+\\frac{1}{2}+\\frac{1}{3}+\\frac{1}{4}+..\\frac{1}{n}$$"
   ]
  },
  {
   "cell_type": "code",
   "execution_count": null,
   "metadata": {
    "collapsed": false
   },
   "outputs": [],
   "source": [
    "n = 10\n",
    "l = []\n",
    "j = 1\n",
    "while j<=n:\n",
    "    l.append(1./j)\n",
    "    j+= 1\n",
    "print sum(l)"
   ]
  },
  {
   "cell_type": "markdown",
   "metadata": {
    "collapsed": true,
    "slideshow": {
     "slide_type": "slide"
    }
   },
   "source": [
    "#### Listas\n",
    "## Copiando listas: CUIDADO\n",
    "\n",
    "Cuando las listas se asignan, en realidad hacen referencia a una lista común. Esto se hace para ahorrar memoria RAM y está implementado así en python."
   ]
  },
  {
   "cell_type": "code",
   "execution_count": null,
   "metadata": {
    "collapsed": false
   },
   "outputs": [],
   "source": [
    "a = [5, 1, 4]\n",
    "b = list(a) #  a\n",
    "b.append(10)\n",
    "# Modifiquemos b\n",
    "b[0] = 1000\n",
    "print b\n",
    "print a\n",
    "# la lista a tambien se vio modificada"
   ]
  },
  {
   "cell_type": "markdown",
   "metadata": {
    "collapsed": true,
    "slideshow": {
     "slide_type": "slide"
    }
   },
   "source": [
    "Para evitar este comportamiento, debemos utilizar\n",
    "\n",
    "    b = list(a)\n",
    "    \n"
   ]
  },
  {
   "cell_type": "markdown",
   "metadata": {
    "collapsed": true,
    "slideshow": {
     "slide_type": "slide"
    }
   },
   "source": [
    "#### Listas\n",
    "## Aplicación al ejemplo\n",
    "Calcule el promedio y la desviación estándar de $N$ datos, $x_1$, ..., $x_n$, ingresados por el usuario:\n",
    "\n",
    "$$ \\begin{align}\n",
    "mean &= \\frac{1}{n} \\sum_{i=1} x_i \\\\\n",
    "(std)^2 &= \\frac{1}{n} \\sum_{i=1} (x_i- mean)^2\n",
    "\\end{align}\n",
    "$$"
   ]
  },
  {
   "cell_type": "code",
   "execution_count": null,
   "metadata": {
    "collapsed": false
   },
   "outputs": [],
   "source": [
    "###################################################################\n",
    "# Cambiar para utilizar listas\n",
    "###################################################################\n",
    "N = int(raw_input(\"Ingrese numero de datos:\"))\n",
    "# Calculo del promedio\n",
    "print \"Ingrese numeros (para calcular promedio)\"\n",
    "j = 1\n",
    "mean = 0.0\n",
    "while j<=N:\n",
    "    x_i = float(raw_input(\"Ingrese numero: \"))\n",
    "    mean += x_i\n",
    "    j += 1\n",
    "mean = mean / N\n",
    "# Calculo de desviacion estandar\n",
    "print \"Ingrese los MISMOS numeros (para calcular desviacion estandar)\"\n",
    "j = 1\n",
    "var = 0.0\n",
    "while j<=N:\n",
    "    x_i = float(raw_input(\"Ingrese numero: \"))\n",
    "    var += (x_i-mean)**2\n",
    "    j += 1\n",
    "std = (var/N)**0.5\n",
    "# Imprimir resultados\n",
    "print \"promedio\", mean\n",
    "print \"desviacion estandar\", std"
   ]
  },
  {
   "cell_type": "markdown",
   "metadata": {
    "collapsed": true,
    "slideshow": {
     "slide_type": "slide"
    }
   },
   "source": [
    "#### Listas\n",
    "## Solución v1\n",
    "Calcule el promedio y la desviación estándar de $N$ datos, $x_1$, ..., $x_n$, ingresados por el usuario."
   ]
  },
  {
   "cell_type": "code",
   "execution_count": null,
   "metadata": {
    "collapsed": false
   },
   "outputs": [],
   "source": [
    "N = int(raw_input(\"Ingrese numero de datos:\"))\n",
    "lista_datos = []\n",
    "# Crear la lista\n",
    "j = 1\n",
    "while j<=N:\n",
    "    x_i = float(raw_input(\"Ingrese numero: \"))\n",
    "    lista_datos.append(x_i)\n",
    "    j += 1\n",
    "# Calcular el promedio\n",
    "i = 0\n",
    "mean = 0.0\n",
    "while i<N:\n",
    "    x_i = lista_datos[i]\n",
    "    mean += x_i\n",
    "    i += 1\n",
    "mean = mean / N\n",
    "# Calculo de desviacion estandar\n",
    "k = 0\n",
    "var = 0.0\n",
    "while k<N:\n",
    "    x_k = lista_datos[k]\n",
    "    var += (x_k-mean)**2\n",
    "    k += 1\n",
    "std = (var/N)**0.5\n",
    "# Imprimir resultados\n",
    "print \"promedio\", mean\n",
    "print \"desviacion estandar\", std"
   ]
  },
  {
   "cell_type": "markdown",
   "metadata": {
    "collapsed": true,
    "slideshow": {
     "slide_type": "slide"
    }
   },
   "source": [
    "#### Listas\n",
    "## Solución v2\n",
    "Calcule el promedio y la desviación estándar de $N$ datos, $x_1$, ..., $x_n$, ingresados por el usuario."
   ]
  },
  {
   "cell_type": "code",
   "execution_count": null,
   "metadata": {
    "collapsed": false
   },
   "outputs": [],
   "source": [
    "N = int(raw_input(\"Ingrese numero de datos:\"))\n",
    "lista_datos = []\n",
    "# Crear la lista\n",
    "j = 1\n",
    "while j<=N:\n",
    "    x_i = float(raw_input(\"Ingrese numero: \"))\n",
    "    lista_datos.append(x_i)\n",
    "    j += 1\n",
    "    \n",
    "# Calcular el promedio\n",
    "mean = sum(lista_datos) / N\n",
    "\n",
    "# Calculo de desviacion estandar\n",
    "k = 0\n",
    "var = 0.0\n",
    "while k<N:\n",
    "    x_k = lista_datos[k]\n",
    "    var += (x_k-mean)**2\n",
    "    k += 1\n",
    "std = (var/N)**0.5\n",
    "\n",
    "# Imprimir resultados\n",
    "print \"promedio\", mean\n",
    "print \"desviacion estandar\", std"
   ]
  },
  {
   "cell_type": "markdown",
   "metadata": {
    "collapsed": true,
    "slideshow": {
     "slide_type": "slide"
    }
   },
   "source": [
    "## Ejercicio Tipo Certamen: C2 1S 2014\n",
    "\n",
    "Cineton, una nueva cadena de cines creada por emprendedores de la USM, est ́a ingresando\n",
    "al mercado cinematogr ́afico. Por eso necesita de su ayuda para implementar ciertas funciones\n",
    " ́ de la cartelera\n",
    "en Phyton y con ellas manejar la cartelera. Para ello se cuenta con la informaci on\n",
    "de cine en una lista de tuplas como cartelera. A modo de ejemplo, en cartelera la pel ́ıcula\n",
    "’Gloria’ (Chilena), creada en 2013, se exhibir ́a el mes de ’enero’ en las ’sala1’ y ’sala2’.\n",
    "\n",
    "Cada elemento de la lista tiene la siguiente estructura:\n",
    "\n",
    "    (mes, pais, nombre_pelicula, año_filmacion, [sala1, sala2, ...])\n"
   ]
  },
  {
   "cell_type": "code",
   "execution_count": null,
   "metadata": {
    "collapsed": false
   },
   "outputs": [],
   "source": [
    "cartelera = [\n",
    "('febrero', 'FRANCIA', 'El muelle', 1962, ['sala1', 'sala3']),\n",
    "('febrero', 'FRANCIA', 'La dama de honor', 2004, ['sala1', 'sala4']),\n",
    "('abril', 'RUSIA', 'Padre del soldado', 1964, ['sala3', 'sala2', 'sala4']),\n",
    "('enero', 'CHILE', 'Gloria', 2013, ['sala1', 'sala2']),\n",
    "('mayo', 'MEXICO', 'Cumbres', 2013, ['sala3', 'sala2']),\n",
    "('julio', 'FRANCIA', 'Melo', 1986, ['sala3', 'sala1']),\n",
    "('junio', 'BELGICA', 'Rondo', 2012, ['sala4', 'sala2']),\n",
    "('marzo', 'ALEMANIA', 'Tiempo de Canibales', 2014, ['sala1', 'sala2']),\n",
    "('marzo', 'ALEMANIA', 'Soul Kitchen', 2009, ['sala3', 'sala4']),\n",
    "]"
   ]
  },
  {
   "cell_type": "markdown",
   "metadata": {
    "collapsed": true,
    "slideshow": {
     "slide_type": "slide"
    }
   },
   "source": [
    "#### Ejercicio Tipo Certamen: C2 1S 2014\n",
    "## Pregunta 1\n",
    "\n",
    "Desarrolle la función pelicula_por_pais(cartelera, pais) que recibe la lista de la cartelera y el nombre de un país, y que retorne la lista con las películas realizadas en dicho país. Cada elemento de esta lista resultante es una tupla con el nombre de la película y el año de filmación.\n",
    "\n",
    "    >>> pelicula_por_pais(cartelera, 'FRANCIA')\n",
    "    [('El muelle', 1962), ('La dama de honor', 2004), ('Melo', 1986)]"
   ]
  },
  {
   "cell_type": "code",
   "execution_count": null,
   "metadata": {
    "collapsed": true,
    "slideshow": {
     "slide_type": "slide"
    }
   },
   "outputs": [],
   "source": [
    "# Solucion estudiantes"
   ]
  },
  {
   "cell_type": "markdown",
   "metadata": {
    "collapsed": true,
    "slideshow": {
     "slide_type": "slide"
    }
   },
   "source": [
    "#### Ejercicio Tipo Certamen: C2 1S 2014\n",
    "## Solución pregunta 1\n",
    "\n",
    "Desarrolle la función pelicula_por_pais(cartelera, pais) que recibe la lista de la cartelera y el nombre de un país, y que retorne la lista con las películas realizadas en dicho país. Cada elemento de esta lista resultante es una tupla con el nombre de la película y el año de filmación.\n",
    "\n",
    "    >>> pelicula_por_pais(cartelera, 'FRANCIA')\n",
    "    [('El muelle', 1962), ('La dama de honor', 2004), ('Melo', 1986)]"
   ]
  },
  {
   "cell_type": "code",
   "execution_count": null,
   "metadata": {
    "collapsed": false
   },
   "outputs": [],
   "source": [
    "# Solucion\n",
    "\n",
    "def pelicula_por_pais(cartelera, pais):\n",
    "    n = len(cartelera)\n",
    "    j = 0\n",
    "    peliculas_pais = []\n",
    "    while j<n:\n",
    "        mes_j, pais_j, nombre_pelicula_j, anno_j, salas_j = cartelera[j]\n",
    "        if pais_j==pais:\n",
    "            peliculas_pais.append( (nombre_pelicula_j, anno_j) )\n",
    "        j += 1\n",
    "\n",
    "    return peliculas_pais\n",
    "\n",
    "print pelicula_por_pais(cartelera, 'FRANCIA')"
   ]
  },
  {
   "cell_type": "markdown",
   "metadata": {
    "collapsed": true,
    "slideshow": {
     "slide_type": "slide"
    }
   },
   "source": [
    "\n",
    "## Minitareas\n",
    "\n",
    "Próximo lunes Actividad 3: listas y tuplas. ¡Practiquen!\n",
    "\n",
    "Enviar minitareas."
   ]
  }
 ],
 "metadata": {
  "celltoolbar": "Slideshow",
  "kernelspec": {
   "display_name": "Python 3",
   "language": "python",
   "name": "python3"
  },
  "language_info": {
   "codemirror_mode": {
    "name": "ipython",
    "version": 3
   },
   "file_extension": ".py",
   "mimetype": "text/x-python",
   "name": "python",
   "nbconvert_exporter": "python",
   "pygments_lexer": "ipython3",
   "version": "3.10.11"
  }
 },
 "nbformat": 4,
 "nbformat_minor": 0
}
