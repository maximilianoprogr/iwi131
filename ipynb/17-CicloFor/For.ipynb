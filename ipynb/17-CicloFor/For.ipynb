{
 "cells": [
  {
   "cell_type": "code",
   "execution_count": 1,
   "metadata": {
    "collapsed": false,
    "slideshow": {
     "slide_type": "skip"
    }
   },
   "outputs": [
    {
     "data": {
      "text/html": [
       "<style>\n",
       "\n",
       ".reveal {\n",
       "overflow: visible;\n",
       "}\n",
       "\n",
       "/*********************************************\n",
       " * COLORS FOR EXAMPLES\n",
       " *********************************************/\n",
       "em {color: #800000;}\n",
       "span.good {color: #008000;}\n",
       "span.warning {color: #808000;}\n",
       "span.bad {color: #800000;}\n",
       "\n",
       "/*********************************************\n",
       " * GLOBAL STYLES\n",
       " *********************************************/\n",
       ".reveal h1 {color: #000000; text-shadow: 0px 0px 6px rgba(0, 0, 0, 0.2);}\n",
       ".reveal h2 {color: #222222; text-shadow: 0px 0px 5px rgba(0, 0, 0, 0.2);}\n",
       ".reveal h3 {color: #444444; text-shadow: 0px 0px 4px rgba(0, 0, 0, 0.2);}\n",
       ".reveal h4 {color: #666666; text-shadow: 0px 0px 3px rgba(0, 0, 0, 0.2);}\n",
       ".reveal h5 {color: #888888; text-shadow: 0px 0px 2px rgba(0, 0, 0, 0.2);}\n",
       ".reveal h6 {color: #AAAAAA; text-shadow: 0px 0px 1px rgba(0, 0, 0, 0.2);}\n",
       "\n",
       "/*********************************************\n",
       " * IMAGES\n",
       " *********************************************/\n",
       ".reveal section img { margin-left:auto; margin-right:auto;}\n",
       "\n",
       "</style>\n"
      ],
      "text/plain": [
       "<IPython.core.display.HTML object>"
      ]
     },
     "execution_count": 1,
     "metadata": {},
     "output_type": "execute_result"
    }
   ],
   "source": [
    "\"\"\"\n",
    "IPython Notebook v4.0 para python 2.7\n",
    "Librerías adicionales: Ninguna.\n",
    "Contenido bajo licencia CC-BY 4.0. Código bajo licencia MIT. (c) Sebastian Flores.\n",
    "\"\"\"\n",
    "\n",
    "# Configuracion para recargar módulos y librerías \n",
    "%reload_ext autoreload\n",
    "%autoreload 2\n",
    "\n",
    "from IPython.core.display import HTML\n",
    "\n",
    "HTML(open(\"style/iwi131.css\", \"r\").read())"
   ]
  },
  {
   "cell_type": "markdown",
   "metadata": {
    "slideshow": {
     "slide_type": "slide"
    }
   },
   "source": [
    "<header class=\"w3-container w3-teal\">\n",
    "<img src=\"images/utfsm.png\" alt=\"\" align=\"left\"/>\n",
    "<img src=\"images/inf.png\" alt=\"\" align=\"right\"/>\n",
    "</header>\n",
    "<br/><br/><br/><br/><br/>\n",
    "# IWI131\n",
    "## Programación de Computadores\n",
    "\n",
    "### Sebastián Flores\n",
    "\n",
    "http://progra.usm.cl/ \n",
    "\n",
    "https://www.github.com/usantamaria/iwi131\n"
   ]
  },
  {
   "cell_type": "markdown",
   "metadata": {
    "slideshow": {
     "slide_type": "slide"
    }
   },
   "source": [
    "## ¿Qué contenido aprenderemos?\n",
    "\n",
    "* Ciclo ***for***"
   ]
  },
  {
   "cell_type": "markdown",
   "metadata": {
    "slideshow": {
     "slide_type": "slide"
    }
   },
   "source": [
    "## ¿Porqué aprenderemos ese contenido?\n",
    "\n",
    "* Ciclo ***for***\n",
    "\n",
    "Porque la mayor parte de los ciclos while simplemente recorren una lista de números o elementos, y conviene simplificar su notación."
   ]
  },
  {
   "cell_type": "markdown",
   "metadata": {
    "slideshow": {
     "slide_type": "slide"
    }
   },
   "source": [
    "## Ciclo for\n",
    "\n",
    "El ciclo for no permite hacer nada nuevo, sólo representa una forma compacta de representar un ciclo while.\n",
    "\n",
    "Aparte de ahorrar un par de líneas, ¡permite concentrar la atención en lo que realmente importa!"
   ]
  },
  {
   "cell_type": "code",
   "execution_count": 2,
   "metadata": {
    "collapsed": false
   },
   "outputs": [
    {
     "name": "stdout",
     "output_type": "stream",
     "text": [
      "0 1 2 3 4 5 6 7 8 9\n"
     ]
    }
   ],
   "source": [
    "j = 0\n",
    "while j<10:\n",
    "    print j, \n",
    "    j += 1"
   ]
  },
  {
   "cell_type": "code",
   "execution_count": 3,
   "metadata": {
    "collapsed": false
   },
   "outputs": [
    {
     "name": "stdout",
     "output_type": "stream",
     "text": [
      "0 1 2 3 4 5 6 7 8 9\n"
     ]
    }
   ],
   "source": [
    "# Toda la información de los valores utilizados está en range(10)\n",
    "for j in range(10): \n",
    "    print j, "
   ]
  },
  {
   "cell_type": "markdown",
   "metadata": {
    "slideshow": {
     "slide_type": "slide"
    }
   },
   "source": [
    "## Ciclo for\n",
    "\n",
    "La estructura del ciclo for es la siguiente:\n",
    "\n",
    "    for element in lista:\n",
    "        hacer algo con elemento\n",
    "        \n",
    "Los elementos de la lista  (o tupla) se van obteniendo de manera ordenada y secuencial.\n",
    "\n",
    "También su pueden utilizar break y continue (pero no es habitual)."
   ]
  },
  {
   "cell_type": "markdown",
   "metadata": {
    "slideshow": {
     "slide_type": "slide"
    }
   },
   "source": [
    "#### Ciclo for\n",
    "## Iterando con range\n",
    "La función ***range*** entrega una lista de valores, que puede utilizarse directamente con range:"
   ]
  },
  {
   "cell_type": "code",
   "execution_count": 7,
   "metadata": {
    "collapsed": false
   },
   "outputs": [
    {
     "name": "stdout",
     "output_type": "stream",
     "text": [
      "[0, 1, 2, 3, 4, 5, 6, 7, 8, 9, 10, 11, 12, 13, 14, 15, 16, 17, 18, 19, 20, 21, 22, 23, 24, 25, 26, 27, 28, 29]\n",
      "0 1 4 9 16 25 36 49 64 81 100 121 144 169 196 225 256 289 324 361 400 441 484 529 576 625 676 729 784 841\n"
     ]
    }
   ],
   "source": [
    "print range(30)\n",
    "for i in range(30):\n",
    "    print i**2, "
   ]
  },
  {
   "cell_type": "code",
   "execution_count": 8,
   "metadata": {
    "collapsed": false
   },
   "outputs": [
    {
     "name": "stdout",
     "output_type": "stream",
     "text": [
      "30 31 32 33 34 35 36 37 38 39 40 41 42 43 44 45 46 47 48 49 50 51 52 53 54 55 56 57 58 59\n"
     ]
    }
   ],
   "source": [
    "for i in range(30, 60):\n",
    "    print i, "
   ]
  },
  {
   "cell_type": "code",
   "execution_count": 10,
   "metadata": {
    "collapsed": false
   },
   "outputs": [
    {
     "name": "stdout",
     "output_type": "stream",
     "text": [
      "30 34 38 42 46 50 54 58\n"
     ]
    }
   ],
   "source": [
    "for i in tuple(range(30,60,4)):\n",
    "    print i,    "
   ]
  },
  {
   "cell_type": "markdown",
   "metadata": {
    "slideshow": {
     "slide_type": "slide"
    }
   },
   "source": [
    "#### Ciclo for\n",
    "## Comparación con while\n",
    "Ejercicio: Imprima todos los multiplos de 3 entre 1 y 80"
   ]
  },
  {
   "cell_type": "code",
   "execution_count": 11,
   "metadata": {
    "collapsed": false
   },
   "outputs": [
    {
     "name": "stdout",
     "output_type": "stream",
     "text": [
      "3 6 9 12 15 18 21 24 27 30 33 36 39 42 45 48 51 54 57 60 63 66 69 72 75 78\n"
     ]
    }
   ],
   "source": [
    "j = 1\n",
    "while j<80:\n",
    "    if j%3==0:\n",
    "        print j, \n",
    "    j += 1"
   ]
  },
  {
   "cell_type": "code",
   "execution_count": 12,
   "metadata": {
    "collapsed": false
   },
   "outputs": [
    {
     "name": "stdout",
     "output_type": "stream",
     "text": [
      "3 6 9 12 15 18 21 24 27 30 33 36 39 42 45 48 51 54 57 60 63 66 69 72 75 78\n"
     ]
    }
   ],
   "source": [
    "for j in range(3,80,3):\n",
    "    print j, "
   ]
  },
  {
   "cell_type": "markdown",
   "metadata": {
    "slideshow": {
     "slide_type": "slide"
    }
   },
   "source": [
    "#### Ciclo for\n",
    "## Iterando con listas conocidas\n",
    "Si la lista es conocida podemos iterar sobre los índices con range o sobre los elementos directamente."
   ]
  },
  {
   "cell_type": "code",
   "execution_count": 24,
   "metadata": {
    "collapsed": false
   },
   "outputs": [
    {
     "name": "stdout",
     "output_type": "stream",
     "text": [
      "0 sebastian\n",
      "1 carlos\n",
      "2 jose\n",
      "['0holamundosebastiansebastian', '1holamundocarloscarlos', '2holamundojosejose']\n"
     ]
    }
   ],
   "source": [
    "mi_lista = [\"sebastian\", \"carlos\", \"jose\"]\n",
    "# Iterando con indices\n",
    "for i in range(len(mi_lista)):\n",
    "    print i, mi_lista[i]\n",
    "    mi_lista[i] = str(i) + \"holamundo\"+mi_lista[i] * 2\n",
    "    \n",
    "print mi_lista"
   ]
  },
  {
   "cell_type": "code",
   "execution_count": 25,
   "metadata": {
    "collapsed": false
   },
   "outputs": [
    {
     "name": "stdout",
     "output_type": "stream",
     "text": [
      "s e b a s t i a n \n",
      "c a r l o s \n",
      "j o s e \n",
      "['sebastian', 'carlos', 'jose']\n"
     ]
    }
   ],
   "source": [
    "mi_lista = [\"sebastian\", \"carlos\", \"jose\"]\n",
    "# Iterando con indices\n",
    "for nombre in mi_lista:\n",
    "    for letra in nombre:\n",
    "        print letra,\n",
    "    print \"\"\n",
    "    #print nombre\n",
    "    #nombre = nombre * 2\n",
    "    \n",
    "print mi_lista"
   ]
  },
  {
   "cell_type": "markdown",
   "metadata": {
    "slideshow": {
     "slide_type": "slide"
    }
   },
   "source": [
    "#### Ciclo for\n",
    "## Iterando con tuplas conocidas\n",
    "Si la tupla es conocida podemos iterar sobre los índices con range o sobre los elementos directamente.\n",
    "No hay diferencias a recorrer una lista."
   ]
  },
  {
   "cell_type": "code",
   "execution_count": 31,
   "metadata": {
    "collapsed": false
   },
   "outputs": [
    {
     "name": "stdout",
     "output_type": "stream",
     "text": [
      "0 sebastian\n",
      "1 carlos\n",
      "2 jose\n",
      "('sebastian', 'carlos', 'jose')\n"
     ]
    }
   ],
   "source": [
    "mi_tupla = (\"sebastian\", \"carlos\", \"jose\")\n",
    "\n",
    "# Iterando con indices\n",
    "for i in range(len(mi_tupla)):\n",
    "    print i, mi_tupla[i]\n",
    "    #mi_tupla[i] = str(i) + \"holamundo\"+mi_tupla[i] * 2\n",
    "    \n",
    "print mi_tupla"
   ]
  },
  {
   "cell_type": "code",
   "execution_count": 32,
   "metadata": {
    "collapsed": false
   },
   "outputs": [
    {
     "name": "stdout",
     "output_type": "stream",
     "text": [
      "sebastian\n",
      "carlos\n",
      "jose\n",
      "('sebastian', 'carlos', 'jose')\n"
     ]
    }
   ],
   "source": [
    "mi_tupla = (\"sebastian\", \"carlos\", \"jose\")\n",
    "# Iterando con indices\n",
    "for nombre in mi_tupla:\n",
    "    print nombre\n",
    "    nombre = nombre*2\n",
    "\n",
    "print mi_tupla"
   ]
  },
  {
   "cell_type": "markdown",
   "metadata": {
    "slideshow": {
     "slide_type": "slide"
    }
   },
   "source": [
    "#### Ciclo for\n",
    "## Ejemplo\n",
    "Dadas las  listas con nombres y horarios de los ramos, imprima el nombre de cada ramo con su horario."
   ]
  },
  {
   "cell_type": "code",
   "execution_count": 41,
   "metadata": {
    "collapsed": false
   },
   "outputs": [
    {
     "name": "stdout",
     "output_type": "stream",
     "text": [
      "Progra a las 8:00\n",
      "Mate a las 10:00\n",
      "Fisica a las 12:00\n",
      "\n",
      "Producto cartesiano:\n",
      "Progra a las 8:00\n",
      "Progra a las 10:00\n",
      "Progra a las 12:00\n",
      "Progra a las 21:00\n",
      "Mate a las 8:00\n",
      "Mate a las 10:00\n",
      "Mate a las 12:00\n",
      "Mate a las 21:00\n",
      "Fisica a las 8:00\n",
      "Fisica a las 10:00\n",
      "Fisica a las 12:00\n",
      "Fisica a las 21:00\n"
     ]
    }
   ],
   "source": [
    "ramos = ['Progra', 'Mate', 'Fisica']\n",
    "horas = ['8:00', '10:00', '12:00',\"21:00\"]\n",
    "for i in range(len(ramos)):\n",
    "    #if ramos[i]==\"Progra\":\n",
    "    #    horas[i] = \"todo el dia\"\n",
    "    print ramos[i] + \" a las \" + horas[i]\n",
    "\n",
    "print \"\\nProducto cartesiano:\"\n",
    "for ramo in ramos:\n",
    "    for hora in horas:\n",
    "        print ramo + \" a las \" + hora"
   ]
  },
  {
   "cell_type": "markdown",
   "metadata": {
    "slideshow": {
     "slide_type": "slide"
    }
   },
   "source": [
    "#### Ciclo for\n",
    "## Ejercicio 1: Promedio y Desviación Estandar Revisitados\n",
    "\n",
    "Calcule el promedio y la desviación estándar de $N$ datos, $x_1$, ..., $x_n$, ingresados por el usuario:\n",
    "\n",
    "$$ \\begin{align}\n",
    "mean &= \\frac{1}{n} \\sum_{i=1} x_i \\\\\n",
    "(std)^2 &= \\frac{1}{n} \\sum_{i=1} (x_i- mean)^2\n",
    "\\end{align}\n",
    "$$\n",
    "\n",
    "Transformando desde ciclo ***while*** a ciclo ***for***"
   ]
  },
  {
   "cell_type": "code",
   "execution_count": 42,
   "metadata": {
    "collapsed": false
   },
   "outputs": [
    {
     "name": "stdout",
     "output_type": "stream",
     "text": [
      "Cuantos datos? 5\n",
      "Dato 1: 4\n",
      "datos [4.0]\n",
      "Dato 2: 5\n",
      "datos [4.0, 5.0]\n",
      "Dato 3: 3\n",
      "datos [4.0, 5.0, 3.0]\n",
      "Dato 4: 8\n",
      "datos [4.0, 5.0, 3.0, 8.0]\n",
      "Dato 5: 10\n",
      "datos [4.0, 5.0, 3.0, 8.0, 10.0]\n",
      "El promedio es  6.0\n",
      "La desviacion estandar es 2.60768096208\n"
     ]
    }
   ],
   "source": [
    "def leer_datos(cantidad):\n",
    "    datos = []\n",
    "    for i in range(cantidad):\n",
    "        datos.append( float(raw_input('Dato ' + str(i+1) + ': ')) )\n",
    "        print \"datos\", datos\n",
    "    return datos\n",
    "\n",
    "def promedio(valores):\n",
    "    return sum(valores) / float(len(valores))\n",
    "\n",
    "def desviacion(valores):\n",
    "    p = promedio(valores)\n",
    "    suma = 0.0\n",
    "    for numero in valores:\n",
    "        suma += (numero - p) ** 2\n",
    "    return ( suma / len(valores) ) ** 0.5\n",
    "\n",
    "n = int(raw_input('Cuantos datos? '))\n",
    "datos = leer_datos(n)\n",
    "print 'El promedio es ', promedio(datos)\n",
    "print 'La desviacion estandar es', desviacion(datos)"
   ]
  },
  {
   "cell_type": "markdown",
   "metadata": {
    "slideshow": {
     "slide_type": "slide"
    }
   },
   "source": [
    "#### Ciclo for\n",
    "## Ejercicio\n",
    "Un polígono está determinado por la lista de sus vértices\n",
    "Escriba una función perimetro(vertices) que entregue el perímetro del polígono definido por la lista vertices:\n",
    "\n",
    "    p = [(4, 1), (7, 2), (7, 4), (5, 9)]\n",
    "    print perimetro(p) # 18.609700215601432"
   ]
  },
  {
   "cell_type": "code",
   "execution_count": null,
   "metadata": {
    "collapsed": false
   },
   "outputs": [],
   "source": [
    "# Definicion de funcion(es)\n",
    "\n",
    "# Uso de funciones\n",
    "p = [(4, 1), (7, 2), (7, 4), (5, 9)]\n",
    "print perimetro(p) # 18.609700215601432"
   ]
  },
  {
   "cell_type": "markdown",
   "metadata": {
    "slideshow": {
     "slide_type": "slide"
    }
   },
   "source": [
    "#### Ciclo for\n",
    "## Ejercicio\n",
    "Un polígono está determinado por la lista de sus vértices.\n",
    "\n",
    "Escriba una función perimetro(vertices) que entregue el perímetro del polígono definido por la lista vertices:\n",
    "\n",
    "    p = [(4, 1), (7, 2), (7, 4), (5, 9)]\n",
    "    print perimetro(p) # 18.609700215601432"
   ]
  },
  {
   "cell_type": "code",
   "execution_count": 43,
   "metadata": {
    "collapsed": false
   },
   "outputs": [
    {
     "name": "stdout",
     "output_type": "stream",
     "text": [
      "18.6097002156\n"
     ]
    }
   ],
   "source": [
    "# Definicion de funcion(es)\n",
    "def distancia(p1, p2):\n",
    "    x1, y1 = p1\n",
    "    x2, y2 =  p2\n",
    "    return 0. + ((x2 - x1) ** 2 + (y2 - y1) ** 2) ** .5\n",
    "\n",
    "def perimetro(vertices):\n",
    "    n = len(vertices)\n",
    "    suma = 0.0\n",
    "    for i in range(n):\n",
    "        a = vertices[i]\n",
    "        b = vertices[(i + 1) % n]\n",
    "        suma += distancia(a, b)\n",
    "    return suma\n",
    "\n",
    "# Uso de funciones\n",
    "p = [(4, 1), (7, 2), (7, 4), (5, 9)]\n",
    "print perimetro(p) # 18.609700215601432"
   ]
  },
  {
   "cell_type": "markdown",
   "metadata": {
    "slideshow": {
     "slide_type": "slide"
    }
   },
   "source": [
    "#### Ciclo for\n",
    "## Ejercicio Tipo Certamen: C2 1S 2015\n",
    "\n",
    "Una nueva cadena de cines creada por emprendedores de la USM, está ingresando al mercado cinematográfico. Por eso necesita de su ayuda para implementar ciertas funciones de la cartelera en python y con ellas manejar la cartelera. \n",
    "\n",
    "Para ello se cuenta con la información de cine en una lista de tuplas como cartelera. A modo de ejemplo, en cartelera la película ’Gloria’ (Chilena), creada en 2013, se exhibirá el mes de ’enero’ en las ’sala1’ y ’sala2’.\n",
    "\n",
    "Cada elemento de la lista tiene la siguiente estructura:\n",
    "\n",
    "    (mes, \n",
    "     pais, \n",
    "     nombre_pelicula, \n",
    "     año_filmacion, \n",
    "     [sala1, sala2, ...])"
   ]
  },
  {
   "cell_type": "code",
   "execution_count": 45,
   "metadata": {
    "collapsed": true,
    "slideshow": {
     "slide_type": "slide"
    }
   },
   "outputs": [],
   "source": [
    "cartelera = [\n",
    "('febrero', 'FRANCIA', 'El muelle', 1962, ['sala1', 'sala3']),\n",
    "('febrero', 'FRANCIA', 'La dama de honor', 2004, ['sala1', 'sala4']),\n",
    "('abril', 'RUSIA', 'Padre del soldado', 1964, ['sala3', 'sala2', 'sala4']),\n",
    "('enero', 'CHILE', 'Gloria', 2013, ['sala1', 'sala2']),\n",
    "('mayo', 'MEXICO', 'Cumbres', 2013, ['sala3', 'sala2']),\n",
    "('julio', 'FRANCIA', 'Melo', 1986, ['sala3', 'sala1']),\n",
    "('junio', 'BELGICA', 'Rondo', 2012, ['sala4', 'sala2']),\n",
    "('marzo', 'ALEMANIA', 'Tiempo de Canibales', 2014, ['sala1', 'sala2']),\n",
    "('marzo', 'ALEMANIA', 'Soul Kitchen', 2009, ['sala3', 'sala4']),\n",
    "]"
   ]
  },
  {
   "cell_type": "markdown",
   "metadata": {
    "slideshow": {
     "slide_type": "slide"
    }
   },
   "source": [
    "#### Ejercicio Tipo Certamen: C2 1S 2015\n",
    "## Pregunta 1\n",
    "\n",
    "Desarrolle la función pelicula_por_pais(cartelera, pais) que recibe la lista de la cartelera y el nombre de un país, y que retorne la lista con las películas realizadas en dicho país. Cada elemento de esta lista resultante es una tupla con el nombre de la película y el año de filmación.\n",
    "\n",
    "    >>> pelicula_por_pais(cartelera, 'FRANCIA')\n",
    "    [('El muelle', 1962), ('La dama de honor', 2004), ('Melo', 1986)]"
   ]
  },
  {
   "cell_type": "code",
   "execution_count": null,
   "metadata": {
    "collapsed": true
   },
   "outputs": [],
   "source": [
    "# Solucion estudiantes"
   ]
  },
  {
   "cell_type": "markdown",
   "metadata": {
    "slideshow": {
     "slide_type": "slide"
    }
   },
   "source": [
    "#### Ejercicio Tipo Certamen: C2 1S 2015\n",
    "## Solución pregunta 1\n",
    "\n",
    "Desarrolle la función pelicula_por_pais(cartelera, pais) que recibe la lista de la cartelera y el nombre de un país, y que retorne la lista con las películas realizadas en dicho país. Cada elemento de esta lista resultante es una tupla con el nombre de la película y el año de filmación.\n",
    "\n",
    "    >>> pelicula_por_pais(cartelera, 'FRANCIA')\n",
    "    [('El muelle', 1962), ('La dama de honor', 2004), ('Melo', 1986)]"
   ]
  },
  {
   "cell_type": "code",
   "execution_count": null,
   "metadata": {
    "collapsed": true
   },
   "outputs": [],
   "source": [
    "# Solucion con while\n",
    "def pelicula_por_pais(cartelera, pais):\n",
    "    n = len(cartelera)\n",
    "    j = 0\n",
    "    peliculas_pais = []\n",
    "    while j<n:\n",
    "        mes_j, pais_j, nombre_pelicula_j, anno_j, salas_j = cartelera[j]\n",
    "        if pais_j==pais:\n",
    "            peliculas_pais.append( (nombre_pelicula_j, anno_j) )\n",
    "        j += 1\n",
    "\n",
    "    return peliculas_pais\n",
    "\n",
    "print pelicula_por_pais(cartelera, 'FRANCIA')"
   ]
  },
  {
   "cell_type": "code",
   "execution_count": 46,
   "metadata": {
    "collapsed": false
   },
   "outputs": [
    {
     "name": "stdout",
     "output_type": "stream",
     "text": [
      "[('El muelle', 1962), ('La dama de honor', 2004), ('Melo', 1986)]\n"
     ]
    }
   ],
   "source": [
    "# Solucion con ciclo for\n",
    "def pelicula_por_pais(cartelera, pais):\n",
    "    peliculas_pais = []\n",
    "    for datos in cartelera:\n",
    "        mes_j, pais_j, nombre_pelicula_j, anno_j, salas_j = datos\n",
    "        if pais_j==pais:\n",
    "            peliculas_pais.append( (nombre_pelicula_j, anno_j) )\n",
    "    return peliculas_pais\n",
    "\n",
    "print pelicula_por_pais(cartelera, 'FRANCIA')"
   ]
  },
  {
   "cell_type": "markdown",
   "metadata": {
    "slideshow": {
     "slide_type": "slide"
    }
   },
   "source": [
    "#### Ejercicio Tipo Certamen: C2 1S 2015\n",
    "## Pregunta 2\n",
    "\n",
    "Desarrolle la función peliculas_por_sala(cartelera, sala) que reciba la lista de la cartelera y la sala donde se exhibirán las distintas películas. Esta función debe retornar una lista donde el elemento ***i*** sea una lista con el nombre de las películas que se exhibirán en dicha sala en el mes ***(i+1)***-ésimo.\n",
    "\n",
    "    pelicula_por_sala(cartelera, 'sala1')\n",
    "    [['Gloria'],                        # Enero\n",
    "     ['El muelle', 'La dama de honor'], # Febrero\n",
    "     ['Tiempo de Canibales']            # Marzo\n",
    "     ...\n",
    "     ]"
   ]
  },
  {
   "cell_type": "code",
   "execution_count": null,
   "metadata": {
    "collapsed": true
   },
   "outputs": [],
   "source": [
    "# Estudiantes\n"
   ]
  },
  {
   "cell_type": "markdown",
   "metadata": {
    "slideshow": {
     "slide_type": "slide"
    }
   },
   "source": [
    "#### Ejercicio Tipo Certamen: C2 1S 2015\n",
    "## Pregunta 2\n",
    "\n",
    "Desarrolle la función peliculas_por_sala(cartelera, sala) que reciba la lista de la cartelera y la sala donde se exhibirán las distintas películas. Esta función debe retornar una lista donde el elemento ***i*** sea una lista con el nombre de las películas que se exhibirán en dicha sala en el mes ***i+1***.\n",
    "\n",
    "    pelicula_por_sala(cartelera, 'sala1')\n",
    "    [['Gloria'],                        # Enero\n",
    "     ['El muelle', 'La dama de honor'], # Febrero\n",
    "     ['Tiempo de Canibales']            # Marzo\n",
    "     ...\n",
    "     ]"
   ]
  },
  {
   "cell_type": "code",
   "execution_count": 52,
   "metadata": {
    "collapsed": false
   },
   "outputs": [
    {
     "data": {
      "text/plain": [
       "[['Gloria'],\n",
       " ['El muelle', 'La dama de honor'],\n",
       " ['Tiempo de Canibales'],\n",
       " [],\n",
       " [],\n",
       " [],\n",
       " ['Melo'],\n",
       " [],\n",
       " [],\n",
       " [],\n",
       " [],\n",
       " []]"
      ]
     },
     "execution_count": 52,
     "metadata": {},
     "output_type": "execute_result"
    }
   ],
   "source": [
    "# Solucion con ciclo for\n",
    "def pelicula_por_sala(cartelera, sala):\n",
    "    # Crear lista donde guardar las peliculas\n",
    "    peliculas = []\n",
    "    for i in range(12):\n",
    "        peliculas.append([])\n",
    "    # Recorrer las peliculas y guardar los datos\n",
    "    for dato in cartelera:\n",
    "        mes, pais, nombre_pelicula, anno, salas = dato\n",
    "        if sala in salas:\n",
    "            if mes==\"enero\":\n",
    "                peliculas[0].append(nombre_pelicula)\n",
    "            elif mes==\"febrero\":\n",
    "                peliculas[1].append(nombre_pelicula)\n",
    "            elif mes==\"marzo\":\n",
    "                peliculas[2].append(nombre_pelicula)\n",
    "            elif mes==\"abril\":\n",
    "                peliculas[3].append(nombre_pelicula)\n",
    "            elif mes==\"mayo\":\n",
    "                peliculas[4].append(nombre_pelicula)\n",
    "            elif mes==\"junio\":\n",
    "                peliculas[5].append(nombre_pelicula)\n",
    "            elif mes==\"julio\":\n",
    "                peliculas[6].append(nombre_pelicula)\n",
    "            elif mes==\"agosto\":\n",
    "                peliculas[7].append(nombre_pelicula)\n",
    "            elif mes==\"septiembre\":\n",
    "                peliculas[8].append(nombre_pelicula)\n",
    "            elif mes==\"octubre\":\n",
    "                peliculas[9].append(nombre_pelicula)\n",
    "            elif mes==\"noviembre\":\n",
    "                peliculas[10].append(nombre_pelicula)\n",
    "            elif mes==\"diciembre\":\n",
    "                peliculas[11].append(nombre_pelicula)\n",
    "            else:\n",
    "                print \"Hmmm, no conozco ese mes\"\n",
    "    # Regresar la lista\n",
    "    return peliculas\n",
    "\n",
    "pelicula_por_sala(cartelera, 'sala1')"
   ]
  },
  {
   "cell_type": "markdown",
   "metadata": {
    "slideshow": {
     "slide_type": "slide"
    }
   },
   "source": [
    "#### Ejercicio Tipo Certamen: C2 1S 2015\n",
    "## Pregunta 2\n",
    "\n",
    "Desarrolle la función peliculas_por_sala(cartelera, sala) que reciba la lista de la cartelera y la sala donde se exhibirán las distintas películas. Esta función debe retornar una lista donde el elemento ***i*** sea una lista con el nombre de las películas que se exhibirán en dicha sala en el mes ***i+1***.\n",
    "\n",
    "    pelicula_por_sala(cartelera, 'sala1')\n",
    "    [['Gloria'],                        # Enero\n",
    "     ['El muelle', 'La dama de honor'], # Febrero\n",
    "     ['Tiempo de Canibales']            # Marzo\n",
    "     ...\n",
    "     ]"
   ]
  },
  {
   "cell_type": "code",
   "execution_count": null,
   "metadata": {
    "collapsed": false
   },
   "outputs": [],
   "source": [
    "# Solucion con ciclo while\n",
    "def pelicula_por_sala(cartelera, sala):\n",
    "    # Crear lista donde guardar las peliculas\n",
    "    peliculas = []\n",
    "    for i in range(12):\n",
    "        peliculas.append([])\n",
    "    # Recorrer las peliculas y guardar los datos\n",
    "    j = 0\n",
    "    \n",
    "    for j in range(len(cartelera)):\n",
    "        dato = cartelera[j]\n",
    "        mes, pais, nombre_pelicula, anno, salas = dato\n",
    "        if sala in salas:\n",
    "            if mes==\"enero\":\n",
    "                peliculas[0].append(nombre_pelicula)\n",
    "            elif mes==\"febrero\":\n",
    "                peliculas[1].append(nombre_pelicula)\n",
    "            elif mes==\"marzo\":\n",
    "                peliculas[2].append(nombre_pelicula)\n",
    "            elif mes==\"abril\":\n",
    "                peliculas[3].append(nombre_pelicula)\n",
    "            elif mes==\"mayo\":\n",
    "                peliculas[4].append(nombre_pelicula)\n",
    "            elif mes==\"junio\":\n",
    "                peliculas[5].append(nombre_pelicula)\n",
    "            elif mes==\"julio\":\n",
    "                peliculas[6].append(nombre_pelicula)\n",
    "            elif mes==\"agosto\":\n",
    "                peliculas[7].append(nombre_pelicula)\n",
    "            elif mes==\"septiembre\":\n",
    "                peliculas[8].append(nombre_pelicula)\n",
    "            elif mes==\"octubre\":\n",
    "                peliculas[9].append(nombre_pelicula)\n",
    "            elif mes==\"noviembre\":\n",
    "                peliculas[10].append(nombre_pelicula)\n",
    "            elif mes==\"diciembre\":\n",
    "                peliculas[11].append(nombre_pelicula)\n",
    "            else:\n",
    "                print \"Hmmm, no conozco ese mes\"\n",
    "        j += 1 # No olvidemos aumentar el contador\n",
    "    # Regresar la lista\n",
    "    return peliculas\n",
    "\n",
    "pelicula_por_sala(cartelera, 'sala2')"
   ]
  },
  {
   "cell_type": "markdown",
   "metadata": {
    "slideshow": {
     "slide_type": "slide"
    }
   },
   "source": [
    "#### Ejercicio Tipo Certamen: C2 1S 2015\n",
    "## Pregunta 3\n",
    "\n",
    "Desarrolle la función mas_antigua(cartelera) que retorne el nombre de la película y el país donde fue filmada la película más antigua. Si dos o más películas son las más antiguas, seleccione cualquiera.\n",
    "\n",
    "    mas_antigua(cartelera)\n",
    "    ('El muelle', 'FRANCIA')"
   ]
  },
  {
   "cell_type": "code",
   "execution_count": null,
   "metadata": {
    "collapsed": true
   },
   "outputs": [],
   "source": [
    "# Solución estudiantes"
   ]
  },
  {
   "cell_type": "markdown",
   "metadata": {
    "slideshow": {
     "slide_type": "slide"
    }
   },
   "source": [
    "#### Ejercicio Tipo Certamen: C2 1S 2015\n",
    "## Pregunta 3\n",
    "\n",
    "Desarrolle la función mas_antigua(cartelera) que retorne el nombre de la película y el país donde fue filmada la película más antigua. Si dos o más películas son las más antiguas, seleccione cualquiera.\n",
    "\n",
    "    mas_antigua(cartelera)\n",
    "    ('El muelle', 'FRANCIA')"
   ]
  },
  {
   "cell_type": "code",
   "execution_count": 53,
   "metadata": {
    "collapsed": false
   },
   "outputs": [
    {
     "name": "stdout",
     "output_type": "stream",
     "text": [
      "('El muelle', 'FRANCIA')\n"
     ]
    }
   ],
   "source": [
    "# Solucion ciclo for\n",
    "def mas_antigua(cartelera):\n",
    "    # Inicializar contadores\n",
    "    anno_mas_antigua = float(\"inf\")\n",
    "    tupla_mas_antigua = (\"\",\"\")\n",
    "    # Recorrer las peliculas y guardar los datos\n",
    "    for dato in cartelera:\n",
    "        mes, pais, nombre_pelicula, anno, salas = dato\n",
    "        if anno < anno_mas_antigua:\n",
    "            anno_mas_antigua = anno\n",
    "            tupla_mas_antigua = (nombre_pelicula, pais)\n",
    "    # Terminamos, regresar valor\n",
    "    return tupla_mas_antigua\n",
    "\n",
    "print mas_antigua(cartelera)"
   ]
  },
  {
   "cell_type": "markdown",
   "metadata": {
    "slideshow": {
     "slide_type": "slide"
    }
   },
   "source": [
    "#### Ejercicio Tipo Certamen: C2 1S 2015\n",
    "## Pregunta 3\n",
    "\n",
    "Desarrolle la función mas_antigua(cartelera) que retorne el nombre de la película y el país donde fue filmada la película más antigua. Si dos o más pel ́ıculas son las más antiguas, seleccione cualquiera.\n",
    "\n",
    "    mas_antigua(cartelera)\n",
    "    ('El muelle', 'FRANCIA')"
   ]
  },
  {
   "cell_type": "code",
   "execution_count": null,
   "metadata": {
    "collapsed": false
   },
   "outputs": [],
   "source": [
    "# Solucion ciclo while\n",
    "def mas_antigua(cartelera):\n",
    "    # Inicializar contadores\n",
    "    anno_mas_antigua = float(\"inf\")\n",
    "    tupla_mas_antigua = (\"\",\"\")\n",
    "    # Recorrer las peliculas y guardar los datos\n",
    "    j = 0\n",
    "    for j in range(len(cartelera)):\n",
    "        dato = cartelera[j]\n",
    "        mes, pais, nombre_pelicula, anno, salas = dato\n",
    "        if anno < anno_mas_antigua:\n",
    "            anno_mas_antigua = anno\n",
    "            tupla_mas_antigua = (nombre_pelicula, pais)\n",
    "        j += 1\n",
    "    # Terminamos, regresar valor\n",
    "    return tupla_mas_antigua\n",
    "\n",
    "print mas_antigua(cartelera)"
   ]
  },
  {
   "cell_type": "markdown",
   "metadata": {
    "slideshow": {
     "slide_type": "slide"
    }
   },
   "source": [
    "## Desafío\n",
    "\n",
    "Desarrolle una función que cumpla los siguientes tests. Enviar por correo. \n",
    "\n",
    "Caso 1:\n",
    "* INPUT: [9, 6, 7, 4, 5, 2, 1]\n",
    "* OUPUT: [1, 5, 7, 9]\n",
    "\n",
    "Caso 2:\n",
    "* INPUT: [53, 55, 57, 58, 59]\n",
    "* OUPUT: [53, 55, 57, 59]\n",
    "\n",
    "Caso 3:\n",
    "* INPUT: [109, 108, 107, 106, 105, 104, 103, 102, 101]\n",
    "* OUPUT: [101, 103, 105, 107, 109]\n",
    "\n",
    "Caso 4:\n",
    "* INPUT: [1, 1, 2, 3, 5, 8, 11, 19]\n",
    "* OUPUT: [1, 1, 3, 5, 11, 19]\n",
    "\n",
    "\n",
    "OBS: No debería tomar más de 10-15 líneas."
   ]
  },
  {
   "cell_type": "markdown",
   "metadata": {
    "slideshow": {
     "slide_type": "slide"
    }
   },
   "source": [
    "## Actividad 3\n",
    "* Lunes 7 Diciembre, a las 8:00 (puntual).\n",
    "* Grupos libres.\n",
    "* Practiquen con certamenes de años pasados."
   ]
  },
  {
   "cell_type": "markdown",
   "metadata": {
    "slideshow": {
     "slide_type": "slide"
    }
   },
   "source": [
    "#### Bonus Track\n",
    "## Todos Iguales\n",
    "\n",
    "Escriba la función todos_iguales(lista) que indique si todos los elementos de una lista son iguales:\n",
    "\n",
    "    print todos_iguales([6, 6, 6])\n",
    "    True\n",
    "    \n",
    "    print todos_iguales([6, 6, 1])\n",
    "    False\n",
    "    \n",
    "    print todos_iguales([0, 90, 1])\n",
    "    False\n",
    "    \n",
    "    print todos_iguales([7, 7, 7, 7, 7, 7, 7, 7, 7])\n",
    "    True\n",
    "\n",
    "    print todos_iguales([12])\n",
    "    True"
   ]
  },
  {
   "cell_type": "code",
   "execution_count": null,
   "metadata": {
    "collapsed": true,
    "slideshow": {
     "slide_type": "slide"
    }
   },
   "outputs": [],
   "source": [
    "print todos_iguales([6, 6, 6])\n",
    "print todos_iguales([6, 6, 1])\n",
    "print todos_iguales([0, 90, 1])\n",
    "print todos_iguales([7, 7, 7, 7, 7, 7, 7, 7, 7])\n",
    "print todos_iguales([12])"
   ]
  },
  {
   "cell_type": "code",
   "execution_count": null,
   "metadata": {
    "collapsed": false,
    "slideshow": {
     "slide_type": "slide"
    }
   },
   "outputs": [],
   "source": [
    "def todos_iguales(lista):\n",
    "    if len(lista)==0:\n",
    "        return True\n",
    "    patron = lista[0]\n",
    "    for elemento in lista:\n",
    "        if elemento!=patron:\n",
    "            return False\n",
    "    return True\n",
    "\n",
    "print todos_iguales([6, 6, 6])\n",
    "print todos_iguales([6, 6, 1])\n",
    "print todos_iguales([0, 90, 1])\n",
    "print todos_iguales([7, 7, 7, 7, 7, 7, 7, 7, 7])\n",
    "print todos_iguales([12])"
   ]
  },
  {
   "cell_type": "markdown",
   "metadata": {
    "slideshow": {
     "slide_type": "slide"
    }
   },
   "source": [
    "#### Bonus Track\n",
    "## Todos distintos\n",
    "\n",
    "Escriba una función todos_distintos(lista) que indique si todos los elementos de una lista son distintos:\n",
    "\n",
    "    print todos_distintos([6, 6, 6])\n",
    "    False\n",
    "\n",
    "    print todos_distintos([6, 6, 1])\n",
    "    False\n",
    "\n",
    "    print todos_distintos([0, 90, 1])\n",
    "    True\n",
    "\n",
    "    print todos_distintos(list(range(1000)))\n",
    "    True\n",
    "\n",
    "    print todos_distintos(list('hiperblanduzcos'))\n",
    "    True\n",
    "    \n",
    "***Pista: lista[:i] y lista[i:]***"
   ]
  },
  {
   "cell_type": "code",
   "execution_count": null,
   "metadata": {
    "collapsed": true,
    "slideshow": {
     "slide_type": "slide"
    }
   },
   "outputs": [],
   "source": [
    "# Solucion Estudiantes\n",
    "\n",
    "print todos_distintos([6, 6, 6])\n",
    "print todos_distintos([6, 6, 1])\n",
    "print todos_distintos([0, 90, 1])\n",
    "print todos_distintos(list(range(1000)))\n",
    "print todos_distintos(list('hiperblanduzcos'))"
   ]
  },
  {
   "cell_type": "code",
   "execution_count": null,
   "metadata": {
    "collapsed": false,
    "slideshow": {
     "slide_type": "slide"
    }
   },
   "outputs": [],
   "source": [
    "def todos_distintos(lista):\n",
    "    if len(lista)==0:\n",
    "        return True\n",
    "    for i in range(len(lista)):\n",
    "        elemento = lista[i]\n",
    "        if elemento in lista[:i]: \n",
    "            return False\n",
    "        if elemento in lista[(i+1):]: \n",
    "            return False\n",
    "    return True\n",
    "\n",
    "print todos_distintos([6, 6, 6])\n",
    "print todos_distintos([6, 6, 1])\n",
    "print todos_distintos([0, 90, 1])\n",
    "print todos_distintos(list(range(1000)))\n",
    "print todos_distintos(list('hiperblanduzcos'))"
   ]
  }
 ],
 "metadata": {
  "celltoolbar": "Slideshow",
  "kernelspec": {
   "display_name": "Python 2",
   "language": "python",
   "name": "python2"
  },
  "language_info": {
   "codemirror_mode": {
    "name": "ipython",
    "version": 2
   },
   "file_extension": ".py",
   "mimetype": "text/x-python",
   "name": "python",
   "nbconvert_exporter": "python",
   "pygments_lexer": "ipython2",
   "version": "2.7.6"
  }
 },
 "nbformat": 4,
 "nbformat_minor": 0
}
