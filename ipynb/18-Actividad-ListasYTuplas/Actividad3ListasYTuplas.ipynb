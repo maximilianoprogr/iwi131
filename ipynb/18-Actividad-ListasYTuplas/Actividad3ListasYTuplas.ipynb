{
 "cells": [
  {
   "cell_type": "markdown",
   "metadata": {
    "collapsed": false,
    "slideshow": {
     "slide_type": "skip"
    }
   },
   "source": [
    "#### \"\"\"\n",
    "IPython Notebook v4.0 para python 2.7\n",
    "Librerías adicionales: Ninguna.\n",
    "Contenido bajo licencia CC-BY 4.0. Código bajo licencia MIT. (c) Sebastian Flores.\n",
    "\"\"\"\n",
    "\n",
    "# Configuracion para recargar módulos y librerías \n",
    "%reload_ext autoreload\n",
    "%autoreload 2\n",
    "\n",
    "from IPython.core.display import HTML\n",
    "\n",
    "HTML(open(\"style/iwi131.css\", \"r\").read())"
   ]
  },
  {
   "cell_type": "markdown",
   "metadata": {
    "slideshow": {
     "slide_type": "slide"
    }
   },
   "source": [
    "<header class=\"w3-container w3-teal\">\n",
    "<img src=\"images/utfsm.png\" alt=\"\" align=\"left\"/>\n",
    "<img src=\"images/inf.png\" alt=\"\" align=\"right\"/>\n",
    "</header>\n",
    "<br/><br/><br/><br/><br/>\n",
    "# IWI131\n",
    "## Programación de Computadores\n",
    "\n",
    "### Sebastián Flores\n",
    "\n",
    "http://progra.usm.cl/ \n",
    "\n",
    "https://www.github.com/usantamaria/iwi131\n"
   ]
  },
  {
   "cell_type": "markdown",
   "metadata": {
    "collapsed": true,
    "slideshow": {
     "slide_type": "slide"
    }
   },
   "source": [
    "## Actividad 3 - Tuplas y Listas\n",
    "Las Olimpiadas escolares nacionales se realizaron el año 2015 en Viña del Mar, la información se almacenó en una lista de tuplas de la forma (colegio, disciplina, participantes, puntos). \n",
    "\n",
    "Un ejemplo de lo anterior:\n",
    "\n",
    "    olim2015 = [('Aleman', 'ajedrez', 8, 224), \n",
    "                ('Pasteur', 'pinpon', 12, 38), \n",
    "                ('Wilquimvoe', 'ajedrez', 5, 134), \n",
    "                ('Mariano', 'natacion', 5, 500), \n",
    "                ('LuisCampino', 'ajedrez', 10, 45), \n",
    "                ('Wilquimvoe', 'pinpon',7, 434), \n",
    "                # ...\n",
    "               ]"
   ]
  },
  {
   "cell_type": "markdown",
   "metadata": {
    "collapsed": true,
    "slideshow": {
     "slide_type": "slide"
    }
   },
   "source": [
    "## Actividad 3 - Tuplas y Listas\n",
    "Para las olimpiadas del año 2014, sólo se almacenó el colegio y el número de participantes :\n",
    "\n",
    "    olim2014 = [('Aleman', 13), \n",
    "                ('Comercial', 8), \n",
    "                ('Pasteur', 4), \n",
    "                ('RubenCastro', 10), \n",
    "                ('LuisCampino', 5), \n",
    "                # ...\n",
    "               ]    \n",
    "               \n",
    "Los datos que aparecen son sólo de ejemplo, en realidad son muchos más. \n",
    "\n",
    "Ahora, se le solicita a los alumnos de IWI-131 de la UTFSM desarrollar las funciones necesarias para satisfacer los\n",
    "siguientes requerimientos."
   ]
  },
  {
   "cell_type": "code",
   "execution_count": 10,
   "metadata": {
    "collapsed": false,
    "slideshow": {
     "slide_type": "slide"
    }
   },
   "outputs": [],
   "source": [
    "olim2015 = [('Aleman', 'ajedrez', 8, 224), \n",
    "            ('Pasteur', 'pinpon', 12, 38), \n",
    "            ('Wilquimvoe', 'ajedrez', 5, 134), \n",
    "            ('Mariano', 'natacion', 5, 500), \n",
    "            ('LuisCampino', 'ajedrez', 10, 45), \n",
    "            ('Wilquimvoe', 'pinpon',7, 434), \n",
    "            # ...\n",
    "           ]\n",
    "\n",
    "olim2014 = [('Aleman', 13), \n",
    "            ('Comercial', 8), \n",
    "            ('Pasteur', 4), \n",
    "            ('RubenCastro', 10), \n",
    "            ('LuisCampino', 5), \n",
    "            # ...\n",
    "           ]"
   ]
  },
  {
   "cell_type": "markdown",
   "metadata": {
    "collapsed": true,
    "slideshow": {
     "slide_type": "slide"
    }
   },
   "source": [
    "#### Actividad 3 - Tuplas y Listas\n",
    "## Pregunta 1\n",
    "\n",
    "Indicar cuál es la disciplina deportiva con menor número de participantes y cuántos son.\n"
   ]
  },
  {
   "cell_type": "markdown",
   "metadata": {
    "collapsed": true,
    "slideshow": {
     "slide_type": "slide"
    }
   },
   "source": [
    "#### Actividad 3 - Tuplas y Listas\n",
    "## Análisis de pregunta 1\n",
    "Análisis:\n",
    "* ¿Forma más fácil de resolver el problema? -> Función.\n",
    "* Input: \n",
    "    * Lista olim2015 con elementos en formato (colegio, disciplina, participantes, puntos) \n",
    "* Output: \n",
    "    * Regresar tupla con la disciplina deportiva con menor numero de participantes y cuántos son."
   ]
  },
  {
   "cell_type": "code",
   "execution_count": 11,
   "metadata": {
    "collapsed": false,
    "slideshow": {
     "slide_type": "slide"
    }
   },
   "outputs": [
    {
     "name": "stdout",
     "output_type": "stream",
     "text": [
      "La disciplina con menor número de participantes es natacion con 5 personas\n"
     ]
    }
   ],
   "source": [
    "def disciplina_impopular(olim2015):\n",
    "    # Obtener todas las disciplinas\n",
    "    lista_disciplinas = []\n",
    "    for colegio,disc,part,p in olim2015:\n",
    "        if disc not in lista_disciplinas:\n",
    "            lista_disciplinas.append(disc)\n",
    "    # Sumar participaciones de cada colegio\n",
    "    lista_disciplina_y_partipantes = []\n",
    "    for disciplina in lista_disciplinas:\n",
    "        suma = 0\n",
    "        for colegio,disc,part,p in olim2015:\n",
    "            if disc==disciplina:\n",
    "                suma += part\n",
    "        lista_disciplina_y_partipantes.append( (disciplina, suma) )\n",
    "    # Obtener el mínimo\n",
    "    min_part = float(\"inf\")\n",
    "    min_disc = \"\"\n",
    "    for disc, part in lista_disciplina_y_partipantes:\n",
    "        if part < min_part:\n",
    "            min_disc = disc\n",
    "            min_part = part\n",
    "    # Regresar el minimo\n",
    "    return (min_disc, min_part)\n",
    "    \n",
    "# Probando la función\n",
    "disc_impopular, part_impopular = disciplina_impopular(olim2015)\n",
    "print \"La disciplina con menor número de participantes es\", disc_impopular, \"con\", part_impopular, \"personas\""
   ]
  },
  {
   "cell_type": "markdown",
   "metadata": {
    "collapsed": true,
    "slideshow": {
     "slide_type": "slide"
    }
   },
   "source": [
    "#### Actividad 3 - Tuplas y Listas\n",
    "## Pregunta 2\n",
    "\n",
    "Para un colegio indicar la disciplina deportiva con mayor número de participantes y la cantidad de participantes."
   ]
  },
  {
   "cell_type": "markdown",
   "metadata": {
    "collapsed": true,
    "slideshow": {
     "slide_type": "slide"
    }
   },
   "source": [
    "#### Actividad 3 - Tuplas y Listas\n",
    "## Análisis de pregunta 2\n",
    "* ¿Forma más fácil de resolver el problema? -> Función.\n",
    "* Input:\n",
    "    * Lista olim2015 con elementos en formato (colegio, disciplina, participantes, puntos) \n",
    "* Output:\n",
    "    * Tupla con la disciplina deportiva con ***mayor*** numero de participantes para un colegio dado y cuantos son."
   ]
  },
  {
   "cell_type": "code",
   "execution_count": 13,
   "metadata": {
    "collapsed": false,
    "slideshow": {
     "slide_type": "slide"
    }
   },
   "outputs": [
    {
     "name": "stdout",
     "output_type": "stream",
     "text": [
      "Para el colegio Mariano la disciplina con mayor número de participantes es natacion con 5 personas\n"
     ]
    }
   ],
   "source": [
    "# Pregunta 2\n",
    "def disciplina_popular_por_colegio(olim2015, colegio_buscado):\n",
    "    max_disc_nombre = \"\"\n",
    "    max_disc_participantes = -float(\"inf\")\n",
    "    for colegio, disciplina, participantes, puntos in olim2015:\n",
    "        if participantes>max_disc_participantes and colegio==colegio_buscado:\n",
    "            max_disc_participantes = participantes\n",
    "            max_disc_nombre = disciplina\n",
    "    return (max_disc_nombre, max_disc_participantes)\n",
    "\n",
    "# Probando la función\n",
    "colegio = \"Mariano\" # \"Mariano\", etc..\n",
    "disciplina, participantes = disciplina_popular_por_colegio(olim2015, colegio)\n",
    "\n",
    "print \"Para el colegio\", colegio, \n",
    "print \"la disciplina con mayor número de participantes es\", disciplina, \n",
    "print \"con\", participantes, \"personas\""
   ]
  },
  {
   "cell_type": "markdown",
   "metadata": {
    "collapsed": true,
    "slideshow": {
     "slide_type": "slide"
    }
   },
   "source": [
    "#### Actividad 3 - Tuplas y Listas\n",
    "## Pregunta 3\n",
    "\n",
    "Listados de los colegios que han aumentado el volumen de participantes desde la edición anterior."
   ]
  },
  {
   "cell_type": "markdown",
   "metadata": {
    "collapsed": true,
    "slideshow": {
     "slide_type": "slide"
    }
   },
   "source": [
    "#### Actividad 3 - Tuplas y Listas\n",
    "## Análisis de pregunta 3\n",
    "* ¿Forma más fácil de resolver el problema? -> Función.\n",
    "* Input:\n",
    "    * Lista olim2015 con elementos en formato (colegio, disciplina, participantes, puntos) \n",
    "    * Lista olim2014 con elementos en formato (colegio, total_participantes) \n",
    "* Output:\n",
    "    * Imprimir en pantalla los colegios que han aumentado el volumen de participantes desde la edición anterior."
   ]
  },
  {
   "cell_type": "code",
   "execution_count": 14,
   "metadata": {
    "collapsed": false,
    "slideshow": {
     "slide_type": "slide"
    }
   },
   "outputs": [
    {
     "name": "stdout",
     "output_type": "stream",
     "text": [
      "['Pasteur', 'LuisCampino']\n"
     ]
    }
   ],
   "source": [
    "# Pregunta 3\n",
    "def colegios_aumento_participantes(olim2015, olim2014):\n",
    "    listado = []\n",
    "    for colegio2014,part2014 in olim2014:\n",
    "        suma=0\n",
    "        for colegio2015,actividad,part2015,puntaje in olim2015:\n",
    "            if colegio2014==colegio2015:\n",
    "                suma+=part2015\n",
    "        if suma>part2014:\n",
    "            listado.append(colegio2014) # No colegio2015, ojo!\n",
    "    return listado\n",
    "\n",
    "# Probando la función\n",
    "listado = colegios_aumento_participantes(olim2015, olim2014)\n",
    "\n",
    "print listado"
   ]
  }
 ],
 "metadata": {
  "celltoolbar": "Slideshow",
  "kernelspec": {
   "display_name": "Python 2",
   "language": "python",
   "name": "python2"
  },
  "language_info": {
   "codemirror_mode": {
    "name": "ipython",
    "version": 2
   },
   "file_extension": ".py",
   "mimetype": "text/x-python",
   "name": "python",
   "nbconvert_exporter": "python",
   "pygments_lexer": "ipython2",
   "version": "2.7.6"
  }
 },
 "nbformat": 4,
 "nbformat_minor": 0
}
