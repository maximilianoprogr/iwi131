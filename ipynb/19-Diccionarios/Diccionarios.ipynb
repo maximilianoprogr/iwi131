{
 "cells": [
  {
   "cell_type": "code",
   "execution_count": 65,
   "metadata": {
    "collapsed": false,
    "slideshow": {
     "slide_type": "skip"
    }
   },
   "outputs": [
    {
     "data": {
      "text/html": [
       "<style>\n",
       "\n",
       ".reveal {\n",
       "     overflow: visible !important;\n",
       "}\n",
       "\n",
       "/*********************************************\n",
       " * CHANGE CURSIVE FOR RED\n",
       " *********************************************/\n",
       "em {font-style: normal !important;\n",
       "    color: #800000;}\n",
       "span.good {color: #008000;}\n",
       "span.warning {color: #808000;}\n",
       "span.bad {color: #800000;}\n",
       "\n",
       "/*********************************************\n",
       " * GLOBAL STYLES\n",
       " *********************************************/\n",
       ".reveal h1 {color: #000000; text-shadow: 0px 0px 6px rgba(0, 0, 0, 0.2);}\n",
       ".reveal h2 {color: #222222; text-shadow: 0px 0px 5px rgba(0, 0, 0, 0.2);}\n",
       ".reveal h3 {color: #444444; text-shadow: 0px 0px 4px rgba(0, 0, 0, 0.2);}\n",
       ".reveal h4 {color: #666666; text-shadow: 0px 0px 3px rgba(0, 0, 0, 0.2);}\n",
       ".reveal h5 {color: #888888; text-shadow: 0px 0px 2px rgba(0, 0, 0, 0.2);}\n",
       ".reveal h6 {color: #AAAAAA; text-shadow: 0px 0px 1px rgba(0, 0, 0, 0.2);}\n",
       "\n",
       "/*********************************************\n",
       " * IMAGES\n",
       " *********************************************/\n",
       ".reveal section img { margin-left:auto; margin-right:auto;}\n",
       "\n",
       "</style>\n"
      ],
      "text/plain": [
       "<IPython.core.display.HTML object>"
      ]
     },
     "execution_count": 65,
     "metadata": {},
     "output_type": "execute_result"
    }
   ],
   "source": [
    "\"\"\"\n",
    "IPython Notebook v4.0 para python 2.7\n",
    "Librerías adicionales: Ninguna.\n",
    "Contenido bajo licencia CC-BY 4.0. Código bajo licencia MIT. (c) Sebastian Flores.\n",
    "\"\"\"\n",
    "\n",
    "# Configuracion para recargar módulos y librerías \n",
    "%reload_ext autoreload\n",
    "%autoreload 2\n",
    "\n",
    "from IPython.core.display import HTML\n",
    "\n",
    "HTML(open(\"style/iwi131.css\", \"r\").read())"
   ]
  },
  {
   "cell_type": "markdown",
   "metadata": {
    "slideshow": {
     "slide_type": "slide"
    }
   },
   "source": [
    "<header class=\"w3-container w3-teal\">\n",
    "<img src=\"images/utfsm.png\" alt=\"\" align=\"left\"/>\n",
    "<img src=\"images/inf.png\" alt=\"\" align=\"right\"/>\n",
    "</header>\n",
    "<br/><br/><br/><br/><br/>\n",
    "# IWI131\n",
    "## Programación de Computadores\n",
    "\n",
    "### Sebastián Flores\n",
    "\n",
    "http://progra.usm.cl/ \n",
    "\n",
    "https://www.github.com/usantamaria/iwi131"
   ]
  },
  {
   "cell_type": "markdown",
   "metadata": {
    "slideshow": {
     "slide_type": "slide"
    }
   },
   "source": [
    "## ¿Qué contenido aprenderemos?\n",
    "\n",
    "* Diccionarios: llaves (keys), valores (values), métodos y formas de iteración."
   ]
  },
  {
   "cell_type": "markdown",
   "metadata": {
    "slideshow": {
     "slide_type": "slide"
    }
   },
   "source": [
    "## ¿Porqué aprenderemos ese contenido?\n",
    "\n",
    "* Diccionarios: llaves (keys), valores (values), metodos y formas de iteración.\n",
    "\n",
    "Diccionarios son una de las formas más comunes de almacenar información. \n",
    "\n",
    "Junto con listas, tuplas y conjuntos, completan las estructuras de almacenamiento básicas."
   ]
  },
  {
   "cell_type": "markdown",
   "metadata": {
    "slideshow": {
     "slide_type": "slide"
    }
   },
   "source": [
    "\n",
    "## Diccionarios\n",
    "#### Definición\n",
    "El diccionario es \"como una lista\" excepto que:\n",
    "* En lugar de utilizar índices enteros (0,1,2,...) se puede utilizar como llave cualquier objeto en python, pero típicamente un string.\n",
    "* No existe un orden asociado a sus elementos.\n",
    "\n",
    "#### Conceptos\n",
    "- Llaves (keys): permiten acceder al contenido.\n",
    "- Valores (values): contenido accesible mediante una llave."
   ]
  },
  {
   "cell_type": "markdown",
   "metadata": {
    "slideshow": {
     "slide_type": "slide"
    }
   },
   "source": [
    "\n",
    "## Diccionarios\n",
    "<img src=\"images/dict.png\" alt=\"\" width=\"800\" align=\"middle\"/>"
   ]
  },
  {
   "cell_type": "code",
   "execution_count": null,
   "metadata": {
    "collapsed": false
   },
   "outputs": [],
   "source": [
    "d = {\"alpha\":1, \"beta\":[1,1,3,5], (0,1):\"BeTa\"}\n",
    "print d # No hay order!!"
   ]
  },
  {
   "cell_type": "markdown",
   "metadata": {
    "slideshow": {
     "slide_type": "slide"
    }
   },
   "source": [
    "# Diccionarios"
   ]
  },
  {
   "cell_type": "code",
   "execution_count": null,
   "metadata": {
    "collapsed": false,
    "slideshow": {
     "slide_type": "-"
    }
   },
   "outputs": [],
   "source": [
    "telefonos = {'Pepito': 5552437, 'Jaimito': 5551428, \n",
    "             'Yayita': 5550012, 'NN':6626288}"
   ]
  },
  {
   "cell_type": "code",
   "execution_count": null,
   "metadata": {
    "collapsed": false
   },
   "outputs": [],
   "source": [
    "# Paréntesis cuadrados para acceder a valores, como en listas o tuplas.\n",
    "print telefonos['Jaimito']\n",
    "print telefonos['Yayita']\n",
    "# Funciones especiales\n",
    "print \"Llaves: \", telefonos.keys() # Lista de todas las llaves\n",
    "print \"Valores: \", telefonos.values() # Lista de todos los valores"
   ]
  },
  {
   "cell_type": "code",
   "execution_count": null,
   "metadata": {
    "collapsed": false
   },
   "outputs": [],
   "source": [
    "#print telefonos['N'] # Llave no existe\n",
    "print telefonos[5552437] # No se accede a llave por valor."
   ]
  },
  {
   "cell_type": "markdown",
   "metadata": {
    "slideshow": {
     "slide_type": "slide"
    }
   },
   "source": [
    "#### Diccionarios\n",
    "## Agregar llaves y valores"
   ]
  },
  {
   "cell_type": "code",
   "execution_count": null,
   "metadata": {
    "collapsed": false
   },
   "outputs": [],
   "source": [
    "d = {} # Diccionario vacío: {} o dict()\n",
    "d['a'] = 8\n",
    "d['b'] = 5\n",
    "d['c'] = 12\n",
    "print(d)\n",
    "d['d'] = 5\n",
    "d['e'] = -10\n",
    "print(d)"
   ]
  },
  {
   "cell_type": "markdown",
   "metadata": {
    "slideshow": {
     "slide_type": "slide"
    }
   },
   "source": [
    "## Operaciones sobre diccionarios\n",
    "Podemos aplicar los siguientes métodos sobre un diccionario:\n",
    "* `dict.keys()`: Regresa la ***lista*** de las llaves. \n",
    "* `dict.values()`: Regresa la ***lista*** de los valores.\n",
    "* `dict.items()`: Regresa una ***lista*** con todos los pares (llave, valor).\n",
    "* `key in dict`: Regresa un ***booleano*** que indica si la llave `key` ya está en las llaves del diccionario."
   ]
  },
  {
   "cell_type": "markdown",
   "metadata": {
    "slideshow": {
     "slide_type": "slide"
    }
   },
   "source": [
    "#### Operaciones sobre diccionarios\n",
    "## Ejemplo"
   ]
  },
  {
   "cell_type": "code",
   "execution_count": null,
   "metadata": {
    "collapsed": false
   },
   "outputs": [],
   "source": [
    "patas = {'humano': 2, 'pulpo': 8, 'perro': 4, 'gato': 4, 'ciempies': 100}\n",
    "print patas\n",
    "print \"patas.keys():\", patas.keys()\n",
    "print \"patas.values():\", patas.values()\n",
    "print \"patas.items():\", patas.items()\n",
    "print \"list(patas):\", list(patas)\n",
    "print \"'perro' in patas:\", 'perro' in patas\n",
    "print \"8 in patas:\", 8 in patas\n",
    "print \"len(patas):\", len(patas)\n",
    "print \"promedio patas: \", sum(patas.values()) /float(len(patas))"
   ]
  },
  {
   "cell_type": "markdown",
   "metadata": {
    "slideshow": {
     "slide_type": "slide"
    }
   },
   "source": [
    "## Ejercicio: contar letras\n",
    "\n",
    "Escriba una función contrar_letras(palabra) que reciba un string y retorne un diccionario que indique cuantas veces aparece cada letra en el string. Por ejemplo:\n",
    "- contar_letras('entretener') debería regresar {'e': 4, 'n': 2, 'r': 2, 't': 2}\n",
    "- contar_letras('lapiz') debería regresar {'a': 1, 'i': 1, 'l': 1, 'p': 1, 'z': 1}"
   ]
  },
  {
   "cell_type": "code",
   "execution_count": null,
   "metadata": {
    "collapsed": false,
    "slideshow": {
     "slide_type": "-"
    }
   },
   "outputs": [],
   "source": [
    "def contar_letras(palabra):\n",
    "    # Inicializar diccionario vacío\n",
    "    # Recorrer las letras de la palabra\n",
    "    # Para cada letra, ver si no está inicializar (=0) y/o aumentar (+=1)\n",
    "    # Regresar el resultado\n",
    "    return\n",
    "\n",
    "# Verificacion\n",
    "print(contar_letras('entretener')) # {'n': 2, 'e': 4,'r': 2, 't': 2}\n",
    "print(contar_letras('lapiz')) #  {'a': 1, 'i': 1, 'l': 1, 'p': 1, 'z': 1}"
   ]
  },
  {
   "cell_type": "markdown",
   "metadata": {
    "slideshow": {
     "slide_type": "slide"
    }
   },
   "source": [
    "## Ejercicio: contar letras\n",
    "\n",
    "Escriba una función contrar_letras(palabra) que reciba un string y retorne un diccionario que indique cuantas veces aparece cada letra en el string. Por ejemplo:\n",
    "- contar_letras('entretener') debería regresar {'e': 4, 'n': 2, 'r': 2, 't': 2}\n",
    "- contar_letras('lapiz') debería regresar {'a': 1, 'i': 1, 'l': 1, 'p': 1, 'z': 1}"
   ]
  },
  {
   "cell_type": "code",
   "execution_count": null,
   "metadata": {
    "collapsed": false,
    "slideshow": {
     "slide_type": "-"
    }
   },
   "outputs": [],
   "source": [
    "# Solución\n",
    "def contar_letras(palabra):\n",
    "    # Inicializar diccionario vacío\n",
    "    cuentas = {}\n",
    "    # Recorrer las letras de la palabra\n",
    "    for letra in palabra:\n",
    "        # Para cada letra, ver si no está inicializar (=0) y/o aumentar (+=1)\n",
    "        if letra not in cuentas:\n",
    "            cuentas[letra] = 0\n",
    "        cuentas[letra] = cuentas[letra] + 1\n",
    "    # Regresar el resultado\n",
    "    return cuentas\n",
    "\n",
    "# Verificacion\n",
    "print(contar_letras('entretener')) # {'n': 2, 'e': 4,'r': 2, 't': 2}\n",
    "print(contar_letras('lapiz')) #  {'a': 1, 'i': 1, 'l': 1, 'p': 1, 'z': 1}"
   ]
  },
  {
   "cell_type": "markdown",
   "metadata": {
    "slideshow": {
     "slide_type": "fragment"
    }
   },
   "source": [
    "Notar que los diccionarios no tienen orden. La primera letra ingresada no es la primera letra que se muestra."
   ]
  },
  {
   "cell_type": "markdown",
   "metadata": {
    "slideshow": {
     "slide_type": "slide"
    }
   },
   "source": [
    "## Recorrer diccionarios\n",
    "Ciclo `for` sobre un diccionario recorre sólo las llaves."
   ]
  },
  {
   "cell_type": "code",
   "execution_count": null,
   "metadata": {
    "collapsed": false
   },
   "outputs": [],
   "source": [
    "capitales = {'Chile': 'Santiago', 'Peru': 'Lima', 'Ecuador': 'Quito',}\n",
    "for pais in capitales:\n",
    "    print('La capital de '+pais+' es '+capitales[pais])"
   ]
  },
  {
   "cell_type": "code",
   "execution_count": null,
   "metadata": {
    "collapsed": false
   },
   "outputs": [],
   "source": [
    "for capital in capitales.values():\n",
    "    print(capital+' es una linda ciudad')"
   ]
  },
  {
   "cell_type": "code",
   "execution_count": null,
   "metadata": {
    "collapsed": false
   },
   "outputs": [],
   "source": [
    "for pais, capital in capitales.items():\n",
    "    print(capital+' es la capital de '+pais)"
   ]
  },
  {
   "cell_type": "markdown",
   "metadata": {
    "slideshow": {
     "slide_type": "slide"
    }
   },
   "source": [
    "#### Diccionarios\n",
    "## Otro ejercicio\n",
    "Dadas 4 listas de nombres, apellidos, rol y carrera, escriba una función que entregue un diccionario que a cada rol asigne una tupla con nombre completo y carrera:\n",
    "\n",
    "    roles = [\"2004001-7\", \"2004007-3\", \"007-K\"]\n",
    "    nombres = [\"Sebastian\", \"Maria Jose\", \"James\"]\n",
    "    apellidos = [\"Flores\", \"Vargas\", \"Bond\"]\n",
    "    carreras = [\"ICM\", \"ICI\", \"AS\"]\n",
    "    \n",
    "    print diccionarizame(roles, nombres, apellidos, carrera)\n",
    "    "
   ]
  },
  {
   "cell_type": "code",
   "execution_count": 62,
   "metadata": {
    "collapsed": false
   },
   "outputs": [
    {
     "name": "stdout",
     "output_type": "stream",
     "text": [
      "{}\n"
     ]
    }
   ],
   "source": [
    "def diccionarizame(roles, nombres, apellidos, carreras):\n",
    "    return {}\n",
    "\n",
    "roles = [\"2004001-7\", \"2004007-3\", \"007-K\"]\n",
    "nombres = [\"Sebastian\", \"Maria Jose\", \"James\"]\n",
    "apellidos = [\"Flores\", \"Vargas\", \"Bond\"]\n",
    "carreras = [\"ICM\", \"ICI\", \"AS\"]\n",
    "\n",
    "print diccionarizame(roles, nombres, apellidos, carreras)"
   ]
  },
  {
   "cell_type": "code",
   "execution_count": 64,
   "metadata": {
    "collapsed": false,
    "slideshow": {
     "slide_type": "slide"
    }
   },
   "outputs": [
    {
     "name": "stdout",
     "output_type": "stream",
     "text": [
      "{'2004007-3': ('Maria Jose Vargas', 'ICI'), '007-K': ('James Bond', 'AS'), '2004001-7': ('Sebastian Flores', 'ICM')}\n"
     ]
    }
   ],
   "source": [
    "# Solucion\n",
    "def diccionarizame(roles, nombres, apellidos, carreras):\n",
    "    d = {}\n",
    "    for i in range(len(roles)):\n",
    "        rol = roles[i]\n",
    "        nombre = nombres[i] + \" \" + apellidos[i]\n",
    "        carrera = carreras[i]\n",
    "        d[rol] = (nombre, carrera)\n",
    "    return d\n",
    "\n",
    "roles = [\"2004001-7\", \"2004007-3\", \"007-K\"]\n",
    "nombres = [\"Sebastian\", \"Maria Jose\", \"James\"]\n",
    "apellidos = [\"Flores\", \"Vargas\", \"Bond\"]\n",
    "carreras = [\"ICM\", \"ICI\", \"AS\"]\n",
    "\n",
    "print diccionarizame(roles, nombres, apellidos, carreras)"
   ]
  },
  {
   "cell_type": "markdown",
   "metadata": {
    "slideshow": {
     "slide_type": "slide"
    }
   },
   "source": [
    "#### Diccionarios\n",
    "## Ejercicio Clásico\n",
    "Escriba una función invertir(d) que entregue un diccionario cuyas llaves sean los valores de d y cuyos valores sean las llaves respectivas:\n",
    "\n",
    "    print invertir({1: 2, 3: 4, 5: 6})\n",
    "    {2: 1, 4: 3, 6: 5}\n",
    "\n",
    "    apodos = {\n",
    "              'Suazo': 'Chupete',\n",
    "              'Sanchez': 'Maravilla',\n",
    "              'Medel': 'Pitbull',\n",
    "              'Valdivia': 'Mago',\n",
    "             }\n",
    "    print invertir(apodos)\n",
    "    {'Maravilla': 'Sanchez', 'Mago': 'Valdivia', \n",
    "    'Chupete': 'Suazo', 'Pitbull': 'Medel'}"
   ]
  },
  {
   "cell_type": "code",
   "execution_count": null,
   "metadata": {
    "collapsed": false
   },
   "outputs": [],
   "source": [
    "def invertir(d):\n",
    "    # FIX ME\n",
    "    return d\n",
    "    \n",
    "print invertir({1: 2, 3: 4, 5: 6})\n",
    "apodos = {\n",
    "          'Suazo': 'Chupete',\n",
    "          'Sanchez': 'Maravilla',\n",
    "          'Medel': 'Pitbull',\n",
    "          'Valdivia': 'Mago',\n",
    "         }\n",
    "#print invertir(apodos)"
   ]
  },
  {
   "cell_type": "code",
   "execution_count": null,
   "metadata": {
    "collapsed": false,
    "slideshow": {
     "slide_type": "slide"
    }
   },
   "outputs": [],
   "source": [
    "# Solución\n",
    "def invertir(d):\n",
    "    d_inv = {}\n",
    "    for k,v in d.items():\n",
    "        d_inv[v] = k\n",
    "    return d_inv\n",
    "    \n",
    "print invertir({1: 2, 3: 4, 5: 6})\n",
    "apodos = {\n",
    "          'Suazo': 'Chupete',\n",
    "          'Sanchez': 'Maravilla',\n",
    "          'Medel': 'Pitbull',\n",
    "          'Valdivia': 'Mago',\n",
    "         }\n",
    "print invertir(apodos)"
   ]
  },
  {
   "cell_type": "markdown",
   "metadata": {
    "slideshow": {
     "slide_type": "slide"
    }
   },
   "source": [
    "## Consejo\n",
    "¡Practicar, practicar, practicar!\n",
    "* Problemas de las guías.\n",
    "* Certámenes anteriores."
   ]
  },
  {
   "cell_type": "markdown",
   "metadata": {
    "slideshow": {
     "slide_type": "slide"
    }
   },
   "source": [
    "## Ejercicio Certamen Tipo\n",
    "\n",
    "<img src=\"images/bookface.jpg\" alt=\"\" width=\"300\" align=\"right\"/>\n",
    "La red social bookface almacena la información de sus usuarios en un diccionario. Las llaves son un código numérico entero asignado a cada usuario, y los valores son tuplas con el nombre, la ciudad y la fecha de nacimiento del usuario. La fecha de nacimiento es una tupla (año, mes, día):"
   ]
  },
  {
   "cell_type": "code",
   "execution_count": null,
   "metadata": {
    "collapsed": true
   },
   "outputs": [],
   "source": [
    "usuarios = {\n",
    "522514: ('Jean Dupont', 'Marseille', (1989, 11, 21)),\n",
    "587125: ('Perico Los Palotes', 'Valparaiso', (1990, 4, 12)),\n",
    "189471: ('Jan Kowalski', 'Krakov', (1994, 4, 22)),\n",
    "914210: ('Antonio Nobel', 'Valparaiso', (1983, 7, 1)),\n",
    "# ...\n",
    "}"
   ]
  },
  {
   "cell_type": "markdown",
   "metadata": {
    "slideshow": {
     "slide_type": "slide"
    }
   },
   "source": [
    "#### Ejercicio Certamen Tipo\n",
    "## Misma ciudad\n",
    "a) Escriba la función misma_ciudad(u1, u2), que indique si los usuarios con códigos u1 y u2 viven en la misma ciudad.\n",
    "\n",
    "    print misma_ciudad(914210, 587125)\n",
    "    True\n",
    "    print misma_ciudad(522514, 189471)\n",
    "    False"
   ]
  },
  {
   "cell_type": "code",
   "execution_count": null,
   "metadata": {
    "collapsed": false
   },
   "outputs": [],
   "source": [
    "def misma_ciudad(u1,u2):\n",
    "    name1,city1,bday1 = usuarios[u1]\n",
    "    name2,city2,bday2 = usuarios[u2]\n",
    "    return city1==city2\n",
    "\n",
    "print misma_ciudad(914210, 587125)\n",
    "print misma_ciudad(522514, 189471)\n",
    "    "
   ]
  },
  {
   "cell_type": "markdown",
   "metadata": {
    "slideshow": {
     "slide_type": "slide"
    }
   },
   "source": [
    "#### Ejercicio Certamen Tipo\n",
    "## Diferencia Edad\n",
    "b) Escriba la función diferencia_edad(u1, u2), que retorne la diferencia de edad entre los usuarios cuyos códigos\n",
    "son u1 y u2. \n",
    "\n",
    "Utilice sólo el año de nacimiento de los usuarios para calcular la diferencia, no el mes ni el día."
   ]
  },
  {
   "cell_type": "code",
   "execution_count": null,
   "metadata": {
    "collapsed": false
   },
   "outputs": [],
   "source": [
    "def diferencia_edad(u1,u2):\n",
    "    name1,city1,(year1,month1,day1) = usuarios[u1]\n",
    "    name2,city2,(year2,month2,day2) = usuarios[u2]\n",
    "    return abs(year1-year2)\n",
    "\n",
    "print diferencia_edad(914210, 587125)\n",
    "print diferencia_edad(522514, 189471)"
   ]
  },
  {
   "cell_type": "markdown",
   "metadata": {
    "slideshow": {
     "slide_type": "slide"
    }
   },
   "source": [
    "#### Ejercicio Certamen Tipo\n",
    "## Continuación\n",
    "Para guardar la información sobre cuáles de sus usuarios son amigos entre sí, BookFace utiliza el conjunto amistades, que contiene tuplas con los códigos de dos usuarios. Si la tupla (a, b) está dentro del conjunto, significa que los usuarios con códigos a y b son amigos. En todas las tuplas se cumple que $a<b$ (la tupla aparece una única vez)."
   ]
  },
  {
   "cell_type": "code",
   "execution_count": null,
   "metadata": {
    "collapsed": true
   },
   "outputs": [],
   "source": [
    "amistades = [ (198471, 289142), \n",
    "              (138555, 429900), \n",
    "              (349123, 781118), # ...\n",
    "            ]"
   ]
  },
  {
   "cell_type": "markdown",
   "metadata": {
    "slideshow": {
     "slide_type": "slide"
    }
   },
   "source": [
    "#### Ejercicio Certamen Tipo\n",
    "## Obtener amigos\n",
    "a) Escriba la función `obtener_amigos(u)`, que retorne una lista con los códigos de los amigos de `u`."
   ]
  },
  {
   "cell_type": "code",
   "execution_count": null,
   "metadata": {
    "collapsed": false
   },
   "outputs": [],
   "source": [
    "def obtener_amigos(u):\n",
    "    amigos = []\n",
    "    for v,w in amistades:\n",
    "        if v==u:\n",
    "            amigos.append(w)\n",
    "        if w==u:\n",
    "            amigos.append(v)\n",
    "    return amigos\n",
    "\n",
    "print obtener_amigos(914210)"
   ]
  },
  {
   "cell_type": "markdown",
   "metadata": {
    "slideshow": {
     "slide_type": "slide"
    }
   },
   "source": [
    "#### Ejercicio Certamen Tipo\n",
    "## Obtener amigos\n",
    "\n",
    "b) Escriba la función `recomendar_amigos(u)`, que retorne una lista con los código de los usuarios que cumplen todas estas condiciones a la vez:\n",
    "* Son amigos de un amigo de u,\n",
    "* No son amigos de u,\n",
    "* Viven en la misma ciudad que u, y\n",
    "* Tienen menos de diez años de diferencia con u."
   ]
  },
  {
   "cell_type": "code",
   "execution_count": null,
   "metadata": {
    "collapsed": false
   },
   "outputs": [],
   "source": [
    "def recomendar_amigos(u):\n",
    "    amigos_actuales = obtener_amigos(u)\n",
    "    nuevos_amigos = []\n",
    "    for amigo in amigos_actuales:\n",
    "        for candidato in obtener_amigos(amigo):\n",
    "            bool_ciudad = misma_ciudad(u, candidato)\n",
    "            bool_edad = ( diferencia_edad(u,candidato) < 10)\n",
    "            bool_no_amigos = ( candidato not in amigos_actuales)\n",
    "            if bool_ciudad and bool_edad and bool_no_amigos:\n",
    "                nuevos_amigos.append(candidato)\n",
    "    return nuevos_amigos\n",
    "\n",
    "recomendar_amigos(914210)"
   ]
  }
 ],
 "metadata": {
  "celltoolbar": "Slideshow",
  "kernelspec": {
   "display_name": "Python 2",
   "language": "python",
   "name": "python2"
  },
  "language_info": {
   "codemirror_mode": {
    "name": "ipython",
    "version": 2
   },
   "file_extension": ".py",
   "mimetype": "text/x-python",
   "name": "python",
   "nbconvert_exporter": "python",
   "pygments_lexer": "ipython2",
   "version": "2.7.6"
  }
 },
 "nbformat": 4,
 "nbformat_minor": 0
}
