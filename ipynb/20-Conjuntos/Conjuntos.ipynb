{
 "cells": [
  {
   "cell_type": "code",
   "execution_count": 1,
   "metadata": {
    "collapsed": false,
    "slideshow": {
     "slide_type": "skip"
    }
   },
   "outputs": [
    {
     "data": {
      "text/html": [
       "<style>\n",
       "\n",
       ".reveal {\n",
       "overflow: visible;\n",
       "}\n",
       "\n",
       "/*********************************************\n",
       " * CHANGE CURSIVE FOR RED\n",
       " *********************************************/\n",
       "em {font-style: normal !important;\n",
       "    color: #800000;}\n",
       "span.good {color: #008000;}\n",
       "span.warning {color: #808000;}\n",
       "span.bad {color: #800000;}\n",
       "\n",
       "/*********************************************\n",
       " * GLOBAL STYLES\n",
       " *********************************************/\n",
       ".reveal h1 {color: #000000; text-shadow: 0px 0px 6px rgba(0, 0, 0, 0.2);}\n",
       ".reveal h2 {color: #222222; text-shadow: 0px 0px 5px rgba(0, 0, 0, 0.2);}\n",
       ".reveal h3 {color: #444444; text-shadow: 0px 0px 4px rgba(0, 0, 0, 0.2);}\n",
       ".reveal h4 {color: #666666; text-shadow: 0px 0px 3px rgba(0, 0, 0, 0.2);}\n",
       ".reveal h5 {color: #888888; text-shadow: 0px 0px 2px rgba(0, 0, 0, 0.2);}\n",
       ".reveal h6 {color: #AAAAAA; text-shadow: 0px 0px 1px rgba(0, 0, 0, 0.2);}\n",
       "\n",
       "/*********************************************\n",
       " * IMAGES\n",
       " *********************************************/\n",
       ".reveal section img { margin-left:auto; margin-right:auto;}\n",
       "\n",
       "</style>\n"
      ],
      "text/plain": [
       "<IPython.core.display.HTML object>"
      ]
     },
     "execution_count": 1,
     "metadata": {},
     "output_type": "execute_result"
    }
   ],
   "source": [
    "\"\"\"\n",
    "IPython Notebook v4.0 para python 2.7\n",
    "Librerías adicionales: Ninguna.\n",
    "Contenido bajo licencia CC-BY 4.0. Código bajo licencia MIT. (c) Sebastian Flores.\n",
    "\"\"\"\n",
    "\n",
    "# Configuracion para recargar módulos y librerías \n",
    "%reload_ext autoreload\n",
    "%autoreload 2\n",
    "\n",
    "from IPython.core.display import HTML\n",
    "\n",
    "HTML(open(\"style/iwi131.css\", \"r\").read())"
   ]
  },
  {
   "cell_type": "markdown",
   "metadata": {
    "slideshow": {
     "slide_type": "slide"
    }
   },
   "source": [
    "<header class=\"w3-container w3-teal\">\n",
    "<img src=\"images/utfsm.png\" alt=\"\" align=\"left\"/>\n",
    "<img src=\"images/inf.png\" alt=\"\" align=\"right\"/>\n",
    "</header>\n",
    "<br/><br/><br/><br/><br/>\n",
    "# IWI131\n",
    "## Programación de Computadores\n",
    "\n",
    "### Sebastián Flores\n",
    "\n",
    "http://progra.usm.cl/ \n",
    "\n",
    "https://www.github.com/usantamaria/iwi131"
   ]
  },
  {
   "cell_type": "markdown",
   "metadata": {
    "slideshow": {
     "slide_type": "slide"
    }
   },
   "source": [
    "## ¿Qué contenido aprenderemos?\n",
    "\n",
    "* Conjuntos y sus operaciones"
   ]
  },
  {
   "cell_type": "markdown",
   "metadata": {
    "slideshow": {
     "slide_type": "slide"
    }
   },
   "source": [
    "## ¿Porqué aprenderemos ese contenido?\n",
    "\n",
    "* Conjuntos y sus operaciones\n",
    "\n",
    "Porque muchos problemas pueden resolverse de manera extremadamente sencilla utilizando conjuntos. \n",
    "\n",
    "¡Ahorre tiempo, aprenda conjuntos!"
   ]
  },
  {
   "cell_type": "markdown",
   "metadata": {
    "slideshow": {
     "slide_type": "slide"
    }
   },
   "source": [
    "## Motivación: letras en común\n",
    "\n",
    "Escriba una función letras_en_comun(p,r) que retorne la cantidad de letras en común que tienen las palabras p y r.\n",
    "\n",
    "Por ejemplo:\n",
    "- letras_en_comun('murcielago', 'gominola') \n",
    "  debería regresar 6\n",
    "- letras_en_comun('protozoo', 'agasajada') \n",
    "  debería regresar 0"
   ]
  },
  {
   "cell_type": "markdown",
   "metadata": {
    "slideshow": {
     "slide_type": "slide"
    }
   },
   "source": [
    "## Motivación: letras en común\n",
    "\n",
    "Solución sólo con strings. \n",
    "\n",
    "Poco intuitivo, ¿verdad?"
   ]
  },
  {
   "cell_type": "code",
   "execution_count": 2,
   "metadata": {
    "collapsed": false
   },
   "outputs": [
    {
     "name": "stdout",
     "output_type": "stream",
     "text": [
      "6\n",
      "0\n"
     ]
    }
   ],
   "source": [
    "# Utilizando strings\n",
    "def letras_en_comun(p, r):\n",
    "    n = 0\n",
    "    letras_a_revisar = p + r\n",
    "    letras_vistas = \"\"\n",
    "    for c in letras_a_revisar:\n",
    "        if (c in p) and (c in r) and not (c in letras_vistas):\n",
    "            n += 1\n",
    "        letras_vistas += c \n",
    "    return n\n",
    "\n",
    "## Verificación\n",
    "print(letras_en_comun('murcielagoo', 'gominola')) # 6\n",
    "print(letras_en_comun('protozoo', 'agasajada'))  # 0"
   ]
  },
  {
   "cell_type": "markdown",
   "metadata": {
    "slideshow": {
     "slide_type": "slide"
    }
   },
   "source": [
    "#### Conjuntos\n",
    "\n",
    "## Conceptos\n",
    "* Se pueden definir mediante \n",
    "\n",
    "    {elemento_1, elemento_2, ..., elemento_n}\n",
    "\n",
    "o \n",
    "\n",
    "    set(mi_lista)\n",
    "\n",
    "* Elementos de un conjunto puede ser cualquier objeto inmutable en python.\n",
    "\n",
    "* No existen repeticiones de elementos.\n",
    "\n",
    "* ***NO*** existe indexación ni orden en un conjunto.\n",
    "\n",
    "* NO CONFUNDIR CONJUNTOS CON DICCIONARIOS:\n",
    "    \n",
    "    {\"uno\" : 1, \"dos\" : 2}\n",
    "\n",
    "    {\"uno\", 1, \"dos\", 2}\n",
    "\n"
   ]
  },
  {
   "cell_type": "markdown",
   "metadata": {
    "slideshow": {
     "slide_type": "slide"
    }
   },
   "source": [
    "#### Conjuntos\n",
    "\n",
    "## Ejemplo"
   ]
  },
  {
   "cell_type": "code",
   "execution_count": 4,
   "metadata": {
    "collapsed": false,
    "slideshow": {
     "slide_type": "-"
    }
   },
   "outputs": [
    {
     "name": "stdout",
     "output_type": "stream",
     "text": [
      "set(['rojo', 'azul', 'gris'])\n",
      "set(['rojo', 'azul', 'gris'])\n",
      "True\n",
      "set(['a', 'r', 'b', 'c', 'd'])\n",
      "set(['a', 'r', 'b', 'c', 'd'])\n",
      "set(['a', 'c', 'b', 'r', 'd'])\n"
     ]
    }
   ],
   "source": [
    "colores_1 = {'rojo', 'gris', 'azul', 'gris'}\n",
    "colores_2 = set(['azul', 'gris', 'rojo', 'rojo', 'rojo'])\n",
    "print colores_1\n",
    "print colores_2\n",
    "print colores_1==colores_1\n",
    "#print colores_1[0] # Esto da error\n",
    "\n",
    "print set('abracadabra')\n",
    "print set(list('abracadabra'))\n",
    "print set(['a', 'b', 'c', 'd', 'r', 'c', 'd', 'r'])"
   ]
  },
  {
   "cell_type": "markdown",
   "metadata": {
    "slideshow": {
     "slide_type": "slide"
    }
   },
   "source": [
    "## Importante\n",
    "\n",
    "* set(mi_lista) regresa un nuevo objeto: el conjunto de los elementos no repetidos de la lista. \n",
    "* set(string) regresa el conjunto de las letras no repetidas del string.\n",
    "* Al aplicar set se obtiene un conjunto SIN orden de elementos y SIN elementos repetidos."
   ]
  },
  {
   "cell_type": "code",
   "execution_count": null,
   "metadata": {
    "collapsed": false
   },
   "outputs": [],
   "source": [
    "print set([1,2,1,2,3,4,3,2,1])\n",
    "print set(\"abecedario\")\n",
    "print set([\"aa\",\"ab\", \"ba\", \"bb\", \"aa\"])"
   ]
  },
  {
   "cell_type": "markdown",
   "metadata": {
    "slideshow": {
     "slide_type": "slide"
    }
   },
   "source": [
    "## Importante\n",
    "\n",
    "En un conjunto no importa el orden, sino la pertenencia.\n",
    "\n",
    "Operaciones en un conjunto:\n",
    "1. Agregar y sacar elementos.\n",
    "3. Verificar pertenencia\n",
    "2. Recorrer un conjunto.\n",
    "4. Número de elementos y operaciones de conjuntos."
   ]
  },
  {
   "cell_type": "markdown",
   "metadata": {
    "slideshow": {
     "slide_type": "slide"
    }
   },
   "source": [
    "#### Conjuntos\n",
    "## 1. Agregar y sacar elementos del conjunto\n",
    "Utilizar los métodos `mi_conjunto.add(elemento)` y `mi_conjunto.remove(elemento)`\n",
    "\n",
    "## 2. Verificar pertenencia\n",
    "Utilizar `in`"
   ]
  },
  {
   "cell_type": "code",
   "execution_count": 5,
   "metadata": {
    "collapsed": false
   },
   "outputs": [
    {
     "name": "stdout",
     "output_type": "stream",
     "text": [
      "set([8, 19, 12])\n",
      "set([19, 12])\n",
      "True\n",
      "False\n"
     ]
    }
   ],
   "source": [
    "a = set()\n",
    "a.add(19)\n",
    "a.add(12)\n",
    "a.add(8)\n",
    "a.add(12)\n",
    "print a # set([8, 19, 12])\n",
    "a.remove(8)\n",
    "print a # set([8, 12])\n",
    "\n",
    "print 12 in a # True\n",
    "print 8 in a # False"
   ]
  },
  {
   "cell_type": "markdown",
   "metadata": {
    "slideshow": {
     "slide_type": "slide"
    }
   },
   "source": [
    "#### Conjuntos\n",
    "## 3. Operaciones básicas sobre conjuntos\n",
    "* Número de elementos:   `len(mi_set)`\n",
    "* Intersección:   `mi_set_1 & mi_set_2`\n",
    "* Unión:   `mi_set_1 | mi_set_2`\n",
    "* Diferencia:   `mi_set_1 - mi_set_2`"
   ]
  },
  {
   "cell_type": "code",
   "execution_count": 12,
   "metadata": {
    "collapsed": false
   },
   "outputs": [
    {
     "name": "stdout",
     "output_type": "stream",
     "text": [
      " a= set([1, 2, 3, 4])\n",
      "len(a)= 4\n",
      "b= set([8, 2, 4, 6])\n",
      "len(b)= 4\n",
      "c= set([8, 16, 2, 4, 32])\n",
      "len(c)= 5\n",
      "a&b= set([2, 4])\n",
      "a|b= set([1, 2, 3, 4, 6, 8])\n",
      "a-b= set([1, 3])\n"
     ]
    }
   ],
   "source": [
    "a = {1,2,3,4}\n",
    "b = set(range(2,9,2))\n",
    "c = set([2,4,8,16,32])\n",
    "print \"a=\", a\n",
    "print \"len(a)=\", len(a)\n",
    "print \"b=\", b\n",
    "print \"len(b)=\", len(b)\n",
    "print \"c=\", c\n",
    "print \"len(c)=\", len(c)\n",
    "print \"a&b=\", a & b\n",
    "print \"a|b=\", a | b\n",
    "print \"a-b=\", a - b\n",
    "#print \"a+b=\", a + b"
   ]
  },
  {
   "cell_type": "markdown",
   "metadata": {
    "slideshow": {
     "slide_type": "slide"
    }
   },
   "source": [
    "#### Conjuntos\n",
    "## 4. Utilizando ciclo for\n",
    "Es posible utilizar ciclo for de manera directa sobre el conjunto.\n",
    "\n",
    "(Pero no se podría utilizar un ciclo while! :)"
   ]
  },
  {
   "cell_type": "code",
   "execution_count": 7,
   "metadata": {
    "collapsed": false
   },
   "outputs": [
    {
     "name": "stdout",
     "output_type": "stream",
     "text": [
      "rojo es un bello color\n",
      "azul es un bello color\n",
      "verde es un bello color\n"
     ]
    }
   ],
   "source": [
    "# Funciona\n",
    "colores = {\"rojo\", \"verde\", \"rojo\", \"verde\", \"azul\"}\n",
    "for color in colores:\n",
    "    print color, \"es un bello color\""
   ]
  },
  {
   "cell_type": "code",
   "execution_count": 6,
   "metadata": {
    "collapsed": false
   },
   "outputs": [
    {
     "ename": "TypeError",
     "evalue": "'set' object does not support indexing",
     "output_type": "error",
     "traceback": [
      "\u001b[1;31m---------------------------------------------------------------------------\u001b[0m",
      "\u001b[1;31mTypeError\u001b[0m                                 Traceback (most recent call last)",
      "\u001b[1;32m<ipython-input-6-ac2c9a60bb9e>\u001b[0m in \u001b[0;36m<module>\u001b[1;34m()\u001b[0m\n\u001b[0;32m      3\u001b[0m \u001b[0mj\u001b[0m\u001b[1;33m=\u001b[0m\u001b[1;36m0\u001b[0m\u001b[1;33m\u001b[0m\u001b[0m\n\u001b[0;32m      4\u001b[0m \u001b[1;32mwhile\u001b[0m \u001b[0mj\u001b[0m\u001b[1;33m<\u001b[0m\u001b[0mlen\u001b[0m\u001b[1;33m(\u001b[0m\u001b[0mcolores\u001b[0m\u001b[1;33m)\u001b[0m\u001b[1;33m:\u001b[0m\u001b[1;33m\u001b[0m\u001b[0m\n\u001b[1;32m----> 5\u001b[1;33m     \u001b[1;32mprint\u001b[0m \u001b[0mcolores\u001b[0m\u001b[1;33m[\u001b[0m\u001b[0mj\u001b[0m\u001b[1;33m]\u001b[0m\u001b[1;33m,\u001b[0m \u001b[1;34m\"es un bello color\"\u001b[0m\u001b[1;33m\u001b[0m\u001b[0m\n\u001b[0m\u001b[0;32m      6\u001b[0m     \u001b[0mj\u001b[0m\u001b[1;33m+=\u001b[0m\u001b[1;36m1\u001b[0m\u001b[1;33m\u001b[0m\u001b[0m\n",
      "\u001b[1;31mTypeError\u001b[0m: 'set' object does not support indexing"
     ]
    }
   ],
   "source": [
    "# Da error\n",
    "colores = {\"rojo\", \"verde\", \"rojo\", \"verde\", \"azul\"}\n",
    "j=0\n",
    "while j<len(colores):\n",
    "    print colores[j], \"es un bello color\"\n",
    "    j+=1"
   ]
  },
  {
   "cell_type": "markdown",
   "metadata": {
    "slideshow": {
     "slide_type": "slide"
    }
   },
   "source": [
    "#### Conjuntos\n",
    "## Ejemplos: Otras operaciones sobre conjuntos\n",
    "* Diferencia Simétrica de 2 conjuntos \n",
    "* Intersección de 3 conjuntos"
   ]
  },
  {
   "cell_type": "code",
   "execution_count": null,
   "metadata": {
    "collapsed": false
   },
   "outputs": [],
   "source": [
    "a = {1,2,3,4}\n",
    "b = set(range(2,9,2))\n",
    "c = set([2,4,8,16,32])\n",
    "print a\n",
    "print b\n",
    "print c\n",
    "# Diferencia simetrica\n",
    "print (b-a) | (a-b)\n",
    "print (b|a) - (a&b)\n",
    "# Interseccion de 3 conjuntos\n",
    "print a&b&c"
   ]
  },
  {
   "cell_type": "markdown",
   "metadata": {
    "slideshow": {
     "slide_type": "slide"
    }
   },
   "source": [
    "## Ejercicio: letras en común\n",
    "\n",
    "Escriba una función letras_en_comun(p,r) que retorne la cantidad de letras (distintas) en común que tienen las palabras p y r.\n",
    "\n",
    "Por ejemplo:\n",
    "- letras_en_comun('murcielago', 'gominola') \n",
    "  debería regresar 6\n",
    "- letras_en_comun('protozoo', 'agasajada') \n",
    "  debería regresar 0\n"
   ]
  },
  {
   "cell_type": "code",
   "execution_count": null,
   "metadata": {
    "collapsed": false,
    "slideshow": {
     "slide_type": "slide"
    }
   },
   "outputs": [],
   "source": [
    "# Utilizando diccionarios\n",
    "def letras_en_comun(p, r):\n",
    "    # Obtener el primer conjunto de letras\n",
    "    # Obtener el segundo conjunto de letras\n",
    "    # Intersectar los conjuntos\n",
    "    # Contar el número de elementos comunes\n",
    "    return \n",
    "\n",
    "## Verificación\n",
    "print(letras_en_comun('murcielagoo', 'gominola')) # 6\n",
    "print(letras_en_comun('protozoo', 'agasajada'))  # 0"
   ]
  },
  {
   "cell_type": "markdown",
   "metadata": {
    "slideshow": {
     "slide_type": "slide"
    }
   },
   "source": [
    "## Solución: letras en común v1\n",
    "\n",
    "Escriba una función letras_en_comun(p,r) que retorne la cantidad de letras en común que tienen las palabras p y r."
   ]
  },
  {
   "cell_type": "code",
   "execution_count": null,
   "metadata": {
    "collapsed": false,
    "slideshow": {
     "slide_type": "-"
    }
   },
   "outputs": [],
   "source": [
    "# Utilizando conjuntos, versión extendida\n",
    "def letras_en_comun(p, r):\n",
    "    # Obtener el primer conjunto de letras\n",
    "    A = set(p)\n",
    "    # Obtener el segundo conjunto de letras\n",
    "    B = set(r)\n",
    "    # Intersectar los conjuntos\n",
    "    C = A & B\n",
    "    # Contar el número de elementos comunes\n",
    "    n = len(C)\n",
    "    return n\n",
    "\n",
    "## Verificación\n",
    "print(letras_en_comun('murcielagoo', 'gominola')) # 6\n",
    "print(letras_en_comun('protozoo', 'agasajada'))  # 0"
   ]
  },
  {
   "cell_type": "markdown",
   "metadata": {
    "slideshow": {
     "slide_type": "slide"
    }
   },
   "source": [
    "## Solución: letras en común 2\n",
    "\n",
    "Escriba una función letras_en_comun(p,r) que retorne la cantidad de letras en común que tienen las palabras p y r."
   ]
  },
  {
   "cell_type": "code",
   "execution_count": null,
   "metadata": {
    "collapsed": false,
    "slideshow": {
     "slide_type": "-"
    }
   },
   "outputs": [],
   "source": [
    "# Utilizando conjuntos, versión reducida\n",
    "def letras_en_comun(p, r):\n",
    "    return len(set(p) & set(r))\n",
    "\n",
    "## Verificación\n",
    "print(letras_en_comun('murcielagoo', 'gominola')) # 6\n",
    "print(letras_en_comun('protozoo', 'agasajada'))  # 0"
   ]
  },
  {
   "cell_type": "markdown",
   "metadata": {
    "slideshow": {
     "slide_type": "slide"
    }
   },
   "source": [
    "## Ejercicio: elementos en común\n",
    "Se tiene la siguiente lista de listas. ¿Cómo se puede conocer el número de elementos no repetidos?"
   ]
  },
  {
   "cell_type": "code",
   "execution_count": 16,
   "metadata": {
    "collapsed": false
   },
   "outputs": [
    {
     "name": "stdout",
     "output_type": "stream",
     "text": [
      "None\n"
     ]
    }
   ],
   "source": [
    "def elementos(mis_listas):\n",
    "    # FIX ME\n",
    "    return\n",
    "        \n",
    "mi_lista = [ [\"uno\", \"dos\", \"tres\", \"cuatro\", \"cinco\"],\n",
    "             [\"dos\", \"cuatro\", \"seis\", \"ocho\", \"diez\"],\n",
    "             [\"uno\", \"uno\", \"dos\", \"tres\", \"cinco\", \"ocho\", \"once\"],\n",
    "             # ...\n",
    "           ]\n",
    "\n",
    "print elementos(mi_lista) # Deberia dar 9"
   ]
  },
  {
   "cell_type": "code",
   "execution_count": 15,
   "metadata": {
    "collapsed": false,
    "slideshow": {
     "slide_type": "slide"
    }
   },
   "outputs": [
    {
     "name": "stdout",
     "output_type": "stream",
     "text": [
      "9\n"
     ]
    }
   ],
   "source": [
    "# Solución\n",
    "def elementos(mis_listas):\n",
    "    elementos = set()\n",
    "    for lista in mis_listas:\n",
    "        elementos = elementos | set(lista) # += , |=\n",
    "    return len(elementos)\n",
    "        \n",
    "mi_lista = [ [\"uno\", \"dos\", \"tres\", \"cuatro\", \"cinco\"],\n",
    "             [\"dos\", \"cuatro\", \"seis\", \"ocho\", \"diez\"],\n",
    "             [\"uno\", \"uno\", \"dos\", \"tres\", \"cinco\", \"ocho\", \"once\"],\n",
    "             # ...\n",
    "           ]\n",
    "\n",
    "print elementos(mi_lista) # Deberia dar 9"
   ]
  },
  {
   "cell_type": "markdown",
   "metadata": {
    "slideshow": {
     "slide_type": "slide"
    }
   },
   "source": [
    "## Ejercicio: elementos en común v2\n",
    "Se tiene el siguiente diccionario. \n",
    "* ¿Cómo se puede obtener una tupla con las llaves no repetidos?\n",
    "* ¿Cómo se puede obtener una lista con los valores no repetidos?"
   ]
  },
  {
   "cell_type": "code",
   "execution_count": null,
   "metadata": {
    "collapsed": false
   },
   "outputs": [],
   "source": [
    "d = {\"uno\":1, \"one\":1, \"un\":1,\n",
    "     \"dos\":2, \"two\":2, \"deux\":2,\n",
    "     \"tres\":3, \"three\":3, \"trois\":3,\n",
    "     # ...\n",
    "    }\n",
    "# Tupla de llaves no repetidas\n",
    "\n",
    "# Lista de valores no repetidos"
   ]
  },
  {
   "cell_type": "code",
   "execution_count": 17,
   "metadata": {
    "collapsed": false,
    "slideshow": {
     "slide_type": "slide"
    }
   },
   "outputs": [
    {
     "name": "stdout",
     "output_type": "stream",
     "text": [
      "('trois', 'three', 'one', 'un', 'two', 'deux', 'dos', 'tres', 'uno')\n",
      "[1, 2, 3]\n"
     ]
    }
   ],
   "source": [
    "# Solución\n",
    "d = {\"uno\":1, \"one\":1, \"un\":1,\n",
    "     \"dos\":2, \"two\":2, \"deux\":2,\n",
    "     \"tres\":3, \"three\":3, \"trois\":3,\n",
    "     # ...\n",
    "    }\n",
    "# Tupla de llaves no repetidas\n",
    "print tuple(set(d.keys())) # O directamente print tuple(d.keys()) \n",
    "                           #porque las llaves no pueden repetirse.\n",
    "# Lista de valores no repetidos\n",
    "print list(set(d.values()))"
   ]
  },
  {
   "cell_type": "markdown",
   "metadata": {
    "slideshow": {
     "slide_type": "slide"
    }
   },
   "source": [
    "## Ejercicio: elementos en común v3\n",
    "Se tiene una lista de diccionarios de alumnos \n",
    "* ¿Cómo se puede obtener los nombres no repetidos de los alumnos?\n",
    "* ¿Cómo se puede obtener todos los ramos cursados?"
   ]
  },
  {
   "cell_type": "code",
   "execution_count": 18,
   "metadata": {
    "collapsed": true
   },
   "outputs": [],
   "source": [
    "alumnos = [{\"nombre\":\"Sebastian Flores\", \"rol\":\"2004001-7\", \n",
    "            \"ramos\":[\"mate1\", \"progra\", \"fisica\", \"hum2\"]},\n",
    "           {\"nombre\":\"Sebastian Fernandez\", \"rol\":\"2004002-8\", \n",
    "            \"ramos\":[\"mate1\", \"progra2\"]},\n",
    "           {\"nombre\":\"Maria Jose Vargas\", \"rol\":\"2004007-3\", \n",
    "            \"ramos\":[\"mate1\", \"progra\", \"fisica\", \"hum1\"]},\n",
    "           {\"nombre\":\"Cesar Moltedo\", \"rol\":\"2011001-4\", \n",
    "            \"ramos\":[\"mate1\", \"progra\", \"progra2\", \"progra3\"]},\n",
    "           # ...\n",
    "          ]"
   ]
  },
  {
   "cell_type": "code",
   "execution_count": null,
   "metadata": {
    "collapsed": false,
    "slideshow": {
     "slide_type": "-"
    }
   },
   "outputs": [],
   "source": [
    "# Nombres no repetidos\n"
   ]
  },
  {
   "cell_type": "code",
   "execution_count": 19,
   "metadata": {
    "collapsed": false,
    "slideshow": {
     "slide_type": "slide"
    }
   },
   "outputs": [
    {
     "name": "stdout",
     "output_type": "stream",
     "text": [
      "set(['Sebastian', 'Cesar', 'Maria'])\n"
     ]
    }
   ],
   "source": [
    "# Nombres no repetidos solucion\n",
    "nombres_set = set()\n",
    "for alumno in alumnos:\n",
    "    # Alumno es un diccionario\n",
    "    nombre_completo = alumno[\"nombre\"]\n",
    "    nombre_pila = nombre_completo.split(\" \")[0]\n",
    "    nombres_set.add(nombre_pila)\n",
    "    \n",
    "print nombres_set"
   ]
  },
  {
   "cell_type": "code",
   "execution_count": 18,
   "metadata": {
    "collapsed": true,
    "slideshow": {
     "slide_type": "slide"
    }
   },
   "outputs": [],
   "source": [
    "alumnos = [{\"nombre\":\"Sebastian Flores\", \"rol\":\"2004001-7\", \n",
    "            \"ramos\":[\"mate1\", \"progra\", \"fisica\", \"hum2\"]},\n",
    "           {\"nombre\":\"Sebastian Fernandez\", \"rol\":\"2004002-8\", \n",
    "            \"ramos\":[\"mate1\", \"progra2\"]},\n",
    "           {\"nombre\":\"Maria Jose Vargas\", \"rol\":\"2004007-3\", \n",
    "            \"ramos\":[\"mate1\", \"progra\", \"fisica\", \"hum1\"]},\n",
    "           {\"nombre\":\"Cesar Moltedo\", \"rol\":\"2011001-4\", \n",
    "            \"ramos\":[\"mate1\", \"progra\", \"progra2\", \"progra3\"]},\n",
    "           # ...\n",
    "          ]"
   ]
  },
  {
   "cell_type": "code",
   "execution_count": null,
   "metadata": {
    "collapsed": true,
    "slideshow": {
     "slide_type": "-"
    }
   },
   "outputs": [],
   "source": [
    "# Ramos no repetidos"
   ]
  },
  {
   "cell_type": "code",
   "execution_count": 20,
   "metadata": {
    "collapsed": false,
    "slideshow": {
     "slide_type": "slide"
    }
   },
   "outputs": [
    {
     "name": "stdout",
     "output_type": "stream",
     "text": [
      "set(['mate1', 'progra', 'hum2', 'hum1', 'progra2', 'fisica', 'progra3'])\n"
     ]
    }
   ],
   "source": [
    "# Ramos no repetidos solucion\n",
    "ramos_set = set()\n",
    "for alumno in alumnos:\n",
    "    # alumno es un diccionario\n",
    "    lista_ramos = alumno[\"ramos\"]\n",
    "    ramos_set = ramos_set | set(lista_ramos)\n",
    "    \n",
    "print ramos_set"
   ]
  }
 ],
 "metadata": {
  "celltoolbar": "Slideshow",
  "kernelspec": {
   "display_name": "Python 2",
   "language": "python",
   "name": "python2"
  },
  "language_info": {
   "codemirror_mode": {
    "name": "ipython",
    "version": 2
   },
   "file_extension": ".py",
   "mimetype": "text/x-python",
   "name": "python",
   "nbconvert_exporter": "python",
   "pygments_lexer": "ipython2",
   "version": "2.7.6"
  }
 },
 "nbformat": 4,
 "nbformat_minor": 0
}
