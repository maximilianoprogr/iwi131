{
 "cells": [
  {
   "cell_type": "code",
   "execution_count": 1,
   "metadata": {
    "collapsed": false,
    "slideshow": {
     "slide_type": "skip"
    }
   },
   "outputs": [
    {
     "data": {
      "text/html": [
       "<style>\n",
       "\n",
       ".reveal {\n",
       "overflow: visible;\n",
       "}\n",
       "\n",
       "/*********************************************\n",
       " * CHANGE CURSIVE FOR RED\n",
       " *********************************************/\n",
       "em {font-style: normal !important;\n",
       "    color: #800000;}\n",
       "span.good {color: #008000;}\n",
       "span.warning {color: #808000;}\n",
       "span.bad {color: #800000;}\n",
       "\n",
       "/*********************************************\n",
       " * GLOBAL STYLES\n",
       " *********************************************/\n",
       ".reveal h1 {color: #000000; text-shadow: 0px 0px 6px rgba(0, 0, 0, 0.2);}\n",
       ".reveal h2 {color: #222222; text-shadow: 0px 0px 5px rgba(0, 0, 0, 0.2);}\n",
       ".reveal h3 {color: #444444; text-shadow: 0px 0px 4px rgba(0, 0, 0, 0.2);}\n",
       ".reveal h4 {color: #666666; text-shadow: 0px 0px 3px rgba(0, 0, 0, 0.2);}\n",
       ".reveal h5 {color: #888888; text-shadow: 0px 0px 2px rgba(0, 0, 0, 0.2);}\n",
       ".reveal h6 {color: #AAAAAA; text-shadow: 0px 0px 1px rgba(0, 0, 0, 0.2);}\n",
       "\n",
       "/*********************************************\n",
       " * IMAGES\n",
       " *********************************************/\n",
       ".reveal section img { margin-left:auto; margin-right:auto;}\n",
       "\n",
       "</style>\n"
      ],
      "text/plain": [
       "<IPython.core.display.HTML object>"
      ]
     },
     "execution_count": 1,
     "metadata": {},
     "output_type": "execute_result"
    }
   ],
   "source": [
    "\"\"\"\n",
    "IPython Notebook v4.0 para python 2.7\n",
    "Librerías adicionales: Ninguna.\n",
    "Contenido bajo licencia CC-BY 4.0. Código bajo licencia MIT. (c) Sebastian Flores.\n",
    "\"\"\"\n",
    "\n",
    "# Configuracion para recargar módulos y librerías \n",
    "%reload_ext autoreload\n",
    "%autoreload 2\n",
    "\n",
    "from IPython.core.display import HTML\n",
    "\n",
    "HTML(open(\"style/iwi131.css\", \"r\").read())"
   ]
  },
  {
   "cell_type": "markdown",
   "metadata": {
    "slideshow": {
     "slide_type": "slide"
    }
   },
   "source": [
    "<header class=\"w3-container w3-teal\">\n",
    "<img src=\"images/utfsm.png\" alt=\"\" align=\"left\"/>\n",
    "<img src=\"images/inf.png\" alt=\"\" align=\"right\"/>\n",
    "</header>\n",
    "<br/><br/><br/><br/><br/>\n",
    "# IWI131\n",
    "## Programación de Computadores\n",
    "\n",
    "### Sebastián Flores\n",
    "\n",
    "http://progra.usm.cl/ \n",
    "\n",
    "https://www.github.com/usantamaria/iwi131"
   ]
  },
  {
   "cell_type": "markdown",
   "metadata": {
    "slideshow": {
     "slide_type": "slide"
    }
   },
   "source": [
    "## ¿Qué contenido aprenderemos?\n",
    "\n",
    "* Conjuntos y sus operaciones"
   ]
  },
  {
   "cell_type": "markdown",
   "metadata": {
    "slideshow": {
     "slide_type": "slide"
    }
   },
   "source": [
    "## ¿Porqué aprenderemos ese contenido?\n",
    "\n",
    "* Conjuntos y sus operaciones\n",
    "\n",
    "Porque muchos problemas pueden resolverse de manera extremadamente sencilla utilizando conjuntos. \n",
    "\n",
    "***¡Ahorre tiempo, aprenda conjuntos!***"
   ]
  },
  {
   "cell_type": "markdown",
   "metadata": {
    "slideshow": {
     "slide_type": "slide"
    }
   },
   "source": [
    "## Motivación: letras en común\n",
    "\n",
    "Escriba una función letras_en_comun(p,r) que retorne la cantidad de letras en común que tienen las palabras p y r.\n",
    "\n",
    "Por ejemplo:\n",
    "- letras_en_comun('murcielago', 'gominola') \n",
    "  debería regresar 6\n",
    "- letras_en_comun('protozoo', 'agasajada') \n",
    "  debería regresar 0"
   ]
  },
  {
   "cell_type": "markdown",
   "metadata": {
    "slideshow": {
     "slide_type": "slide"
    }
   },
   "source": [
    "## Motivación: letras en común\n",
    "\n",
    "Solución sólo con strings. \n",
    "\n",
    "Poco intuitivo, ¿verdad?"
   ]
  },
  {
   "cell_type": "code",
   "execution_count": null,
   "metadata": {
    "collapsed": false
   },
   "outputs": [],
   "source": [
    "# Utilizando strings\n",
    "def letras_en_comun(p, r):\n",
    "    n = 0\n",
    "    letras_a_revisar = p + r\n",
    "    letras_vistas = \"\"\n",
    "    for c in letras_a_revisar:\n",
    "        if (c in p) and (c in r) and not (c in letras_vistas):\n",
    "            n += 1\n",
    "        letras_vistas += c \n",
    "    return n\n",
    "\n",
    "## Verificación\n",
    "print(letras_en_comun('murcielagoo', 'gominola')) # 6\n",
    "print(letras_en_comun('protozoo', 'agasajada'))  # 0"
   ]
  },
  {
   "cell_type": "markdown",
   "metadata": {
    "slideshow": {
     "slide_type": "slide"
    }
   },
   "source": [
    "#### Conjuntos\n",
    "\n",
    "## Conceptos\n",
    "* Se pueden definir mediante \n",
    "\n",
    "    {elemento_1, elemento_2, ..., elemento_n}\n",
    "\n",
    "o bien\n",
    "\n",
    "    set(mi_lista)\n",
    "\n",
    "* Elementos de un conjunto puede ser cualquier objeto inmutable en python.\n",
    "\n",
    "* No existen repeticiones de elementos.\n",
    "\n",
    "* ***NO*** existe indexación ni orden en un conjunto.\n",
    "\n",
    "* NO CONFUNDIR CONJUNTOS CON DICCIONARIOS:\n",
    "    \n",
    "    {\"uno\" : 1, \"dos\" : 2}\n",
    "\n",
    "    {\"uno\", 1, \"dos\", 2}\n",
    "\n"
   ]
  },
  {
   "cell_type": "markdown",
   "metadata": {
    "slideshow": {
     "slide_type": "slide"
    }
   },
   "source": [
    "#### Conjuntos\n",
    "\n",
    "## Ejemplo"
   ]
  },
  {
   "cell_type": "code",
   "execution_count": 6,
   "metadata": {
    "collapsed": false,
    "slideshow": {
     "slide_type": "-"
    }
   },
   "outputs": [
    {
     "name": "stdout",
     "output_type": "stream",
     "text": [
      "set(['rojo', 'azul', 'gris'])\n",
      "set(['rojo', 'azul', 'gris'])\n",
      "True\n",
      "set(['a', 'r', 'b', 'c', 'd'])\n",
      "set(['a', 'r', 'b', 'c', 'd'])\n",
      "set(['a', 'c', 'b', 'r', 'd'])\n"
     ]
    }
   ],
   "source": [
    "colores_1 = {'rojo', 'gris', 'azul', 'gris'}\n",
    "colores_2 = set(['azul', 'gris', 'rojo', 'rojo', 'rojo'])\n",
    "print colores_1\n",
    "print colores_2\n",
    "print colores_1==colores_2\n",
    "#print colores_1[0] # Esto da error\n",
    "\n",
    "print set('abracadabra')\n",
    "print set(list('abracadabra'))\n",
    "print set(['a', 'b', 'c', 'd', 'r', 'c', 'd', 'r'])"
   ]
  },
  {
   "cell_type": "markdown",
   "metadata": {
    "slideshow": {
     "slide_type": "slide"
    }
   },
   "source": [
    "## Importante\n",
    "\n",
    "* set(mi_lista) regresa un nuevo objeto: el conjunto de los elementos no repetidos de la lista. \n",
    "* set(string) regresa el conjunto de las letras no repetidas del string.\n",
    "* Al aplicar set se obtiene un conjunto SIN orden de elementos y SIN elementos repetidos."
   ]
  },
  {
   "cell_type": "code",
   "execution_count": 7,
   "metadata": {
    "collapsed": false
   },
   "outputs": [
    {
     "name": "stdout",
     "output_type": "stream",
     "text": [
      "set([1, 2, 3, 4])\n",
      "set(['a', 'c', 'b', 'e', 'd', 'i', 'o', 'r'])\n",
      "set(['aa', 'ab', 'ba', 'bb'])\n"
     ]
    }
   ],
   "source": [
    "print set([1,2,1,2,3,4,3,2,1])\n",
    "print set(\"abecedario\")\n",
    "print set([\"aa\",\"ab\", \"ba\", \"bb\", \"aa\"])"
   ]
  },
  {
   "cell_type": "markdown",
   "metadata": {
    "slideshow": {
     "slide_type": "slide"
    }
   },
   "source": [
    "## Importante\n",
    "\n",
    "En un conjunto no importa el orden, sino la pertenencia.\n",
    "\n",
    "Operaciones en un conjunto:\n",
    "1. Agregar y sacar elementos.\n",
    "3. Verificar pertenencia\n",
    "2. Recorrer un conjunto.\n",
    "4. Número de elementos y operaciones de conjuntos."
   ]
  },
  {
   "cell_type": "markdown",
   "metadata": {
    "slideshow": {
     "slide_type": "slide"
    }
   },
   "source": [
    "#### Conjuntos\n",
    "## 1. Agregar y sacar elementos del conjunto\n",
    "Utilizar los métodos `mi_conjunto.add(elemento)` y `mi_conjunto.remove(elemento)`\n",
    "\n",
    "## 2. Verificar pertenencia\n",
    "Utilizar `in`"
   ]
  },
  {
   "cell_type": "code",
   "execution_count": 10,
   "metadata": {
    "collapsed": false
   },
   "outputs": [
    {
     "name": "stdout",
     "output_type": "stream",
     "text": [
      "set([8, 19, 12])\n",
      "set([19, 12])\n",
      "True\n",
      "False\n"
     ]
    }
   ],
   "source": [
    "a = set() # conjunto vacio\n",
    "a.add(19)\n",
    "a.add(12)\n",
    "a.add(8)\n",
    "a.add(12)\n",
    "print a # set([8, 19, 12])\n",
    "a.remove(8)\n",
    "print a # set([19, 12])\n",
    "\n",
    "print 12 in a # True\n",
    "print 8 in a # False"
   ]
  },
  {
   "cell_type": "markdown",
   "metadata": {
    "slideshow": {
     "slide_type": "slide"
    }
   },
   "source": [
    "#### Conjuntos\n",
    "## 3. Operaciones básicas sobre conjuntos\n",
    "* Número de elementos:   `len(mi_set)`\n",
    "* Intersección:   `mi_set_1 & mi_set_2`\n",
    "* Unión:   `mi_set_1 | mi_set_2`\n",
    "* Diferencia:   `mi_set_1 - mi_set_2`\n",
    "* Subconjuntos propios: `mi_set_1 < mi_set_2` o `mi_set_1 > mi_set_2` \n",
    "* Subconjuntos: `mi_set_1 <= mi_set_2` o `mi_set_1 >= mi_set_2` "
   ]
  },
  {
   "cell_type": "code",
   "execution_count": 3,
   "metadata": {
    "collapsed": false
   },
   "outputs": [
    {
     "name": "stdout",
     "output_type": "stream",
     "text": [
      "a= set([1, 2, 3, 4])\n",
      "len(a)= 4\n",
      "b= set([8, 2, 4, 6])\n",
      "len(b)= 4\n",
      "c= set([8, 16, 2, 4, 32])\n",
      "len(c)= 5\n",
      "a&b= set([2, 4])\n",
      "a|b= set([1, 2, 3, 4, 6, 8])\n",
      "a-b= set([1, 3])\n",
      "a < a= False\n",
      "a <= a= True\n",
      "d <= a= True\n",
      "a <= d= False\n"
     ]
    }
   ],
   "source": [
    "a = {1,2,3,4}\n",
    "b = set(range(2,9,2))\n",
    "c = set([2,4,8,16,32])\n",
    "d = {2,3}\n",
    "print \"a=\", a\n",
    "print \"len(a)=\", len(a)\n",
    "print \"b=\", b\n",
    "print \"len(b)=\", len(b)\n",
    "print \"c=\", c\n",
    "print \"len(c)=\", len(c)\n",
    "print \"a&b=\", a & b\n",
    "print \"a|b=\", a | b\n",
    "print \"a-b=\", a - b\n",
    "#print \"a+b=\", a + b\n",
    "print \"a < a=\", a < a\n",
    "print \"a <= a=\", a <= a\n",
    "print \"d <= a=\", d < a\n",
    "print \"a <= d=\", a < d\n"
   ]
  },
  {
   "cell_type": "markdown",
   "metadata": {
    "slideshow": {
     "slide_type": "slide"
    }
   },
   "source": [
    "#### Conjuntos\n",
    "## 4. Utilizando ciclo for\n",
    "Es posible utilizar ciclo for de manera directa sobre el conjunto.\n",
    "\n",
    "(Pero no se podría utilizar un ciclo while! :)"
   ]
  },
  {
   "cell_type": "code",
   "execution_count": 16,
   "metadata": {
    "collapsed": false
   },
   "outputs": [
    {
     "name": "stdout",
     "output_type": "stream",
     "text": [
      "rojo es un bello color\n",
      "azul es un bello color\n",
      "verde es un bello color\n"
     ]
    }
   ],
   "source": [
    "# Funciona\n",
    "colores = {\"rojo\", \"verde\", \"rojo\", \"verde\", \"azul\"}\n",
    "for color in colores:\n",
    "    print color, \"es un bello color\""
   ]
  },
  {
   "cell_type": "code",
   "execution_count": 20,
   "metadata": {
    "collapsed": false
   },
   "outputs": [
    {
     "name": "stdout",
     "output_type": "stream",
     "text": [
      "rojo es un bello color\n",
      "azul es un bello color\n",
      "verde es un bello color\n"
     ]
    }
   ],
   "source": [
    "# Da error\n",
    "colores = {\"rojo\", \"verde\", \"rojo\", \"verde\", \"azul\"}\n",
    "#colores = list(colores)\n",
    "j=0\n",
    "while j<len(colores):\n",
    "    print colores[j], \"es un bello color\"\n",
    "    j+=1"
   ]
  },
  {
   "cell_type": "markdown",
   "metadata": {
    "slideshow": {
     "slide_type": "slide"
    }
   },
   "source": [
    "#### Conjuntos\n",
    "## Ejemplos: Otras operaciones sobre conjuntos\n",
    "* Diferencia Simétrica de 2 conjuntos \n",
    "* Intersección de 3 conjuntos"
   ]
  },
  {
   "cell_type": "code",
   "execution_count": 21,
   "metadata": {
    "collapsed": false
   },
   "outputs": [
    {
     "name": "stdout",
     "output_type": "stream",
     "text": [
      "set([1, 2, 3, 4])\n",
      "set([8, 2, 4, 6])\n",
      "set([8, 16, 2, 4, 32])\n",
      "set([8, 1, 3, 6])\n",
      "set([8, 1, 3, 6])\n",
      "set([2, 4])\n"
     ]
    }
   ],
   "source": [
    "a = {1,2,3,4}\n",
    "b = set(range(2,9,2))\n",
    "c = set([2,4,8,16,32])\n",
    "print a\n",
    "print b\n",
    "print c\n",
    "# Diferencia simetrica\n",
    "print (b-a) | (a-b)\n",
    "print (b|a) - (a&b)\n",
    "# Interseccion de 3 conjuntos\n",
    "print a&b&c"
   ]
  },
  {
   "cell_type": "markdown",
   "metadata": {
    "slideshow": {
     "slide_type": "slide"
    }
   },
   "source": [
    "## Ejercicio: letras en común\n",
    "\n",
    "Escriba una función letras_en_comun(p,r) que retorne la cantidad de letras (distintas) en común que tienen las palabras p y r.\n",
    "\n",
    "Por ejemplo:\n",
    "- letras_en_comun('murcielago', 'gominola') \n",
    "  debería regresar 6\n",
    "- letras_en_comun('protozoo', 'agasajada') \n",
    "  debería regresar 0\n"
   ]
  },
  {
   "cell_type": "code",
   "execution_count": 22,
   "metadata": {
    "collapsed": false,
    "slideshow": {
     "slide_type": "slide"
    }
   },
   "outputs": [
    {
     "name": "stdout",
     "output_type": "stream",
     "text": [
      "6\n",
      "0\n"
     ]
    }
   ],
   "source": [
    "# Utilizando diccionarios\n",
    "def letras_en_comun(p, r):\n",
    "    # Obtener el primer conjunto de letras\n",
    "    p1 = set(p)\n",
    "    # Obtener el segundo conjunto de letras\n",
    "    r1 = set(r)\n",
    "    # Intersectar los conjuntos\n",
    "    interseccion = p1 & r1\n",
    "    # Contar el número de elementos comunes\n",
    "    return len(interseccion)\n",
    "\n",
    "## Verificación\n",
    "print(letras_en_comun('murcielagoo', 'gominola')) # 6\n",
    "print(letras_en_comun('protozoo', 'agasajada'))  # 0"
   ]
  },
  {
   "cell_type": "markdown",
   "metadata": {
    "slideshow": {
     "slide_type": "slide"
    }
   },
   "source": [
    "## Solución: letras en común v1\n",
    "\n",
    "Escriba una función letras_en_comun(p,r) que retorne la cantidad de letras en común que tienen las palabras p y r."
   ]
  },
  {
   "cell_type": "code",
   "execution_count": null,
   "metadata": {
    "collapsed": false,
    "slideshow": {
     "slide_type": "-"
    }
   },
   "outputs": [],
   "source": [
    "# Utilizando conjuntos, versión extendida\n",
    "def letras_en_comun(p, r):\n",
    "    # Obtener el primer conjunto de letras\n",
    "    A = set(p)\n",
    "    # Obtener el segundo conjunto de letras\n",
    "    B = set(r)\n",
    "    # Intersectar los conjuntos\n",
    "    C = A & B\n",
    "    # Contar el número de elementos comunes\n",
    "    n = len(C)\n",
    "    return n\n",
    "\n",
    "## Verificación\n",
    "print(letras_en_comun('murcielagoo', 'gominola')) # 6\n",
    "print(letras_en_comun('protozoo', 'agasajada'))  # 0"
   ]
  },
  {
   "cell_type": "markdown",
   "metadata": {
    "slideshow": {
     "slide_type": "slide"
    }
   },
   "source": [
    "## Solución: letras en común 2\n",
    "\n",
    "Escriba una función letras_en_comun(p,r) que retorne la cantidad de letras en común que tienen las palabras p y r."
   ]
  },
  {
   "cell_type": "code",
   "execution_count": 23,
   "metadata": {
    "collapsed": false,
    "slideshow": {
     "slide_type": "-"
    }
   },
   "outputs": [
    {
     "name": "stdout",
     "output_type": "stream",
     "text": [
      "6\n",
      "0\n"
     ]
    }
   ],
   "source": [
    "# Utilizando conjuntos, versión reducida\n",
    "def letras_en_comun(p, r):\n",
    "    return len(set(p) & set(r))\n",
    "\n",
    "## Verificación\n",
    "print(letras_en_comun('murcielagoo', 'gominola')) # 6\n",
    "print(letras_en_comun('protozoo', 'agasajada'))  # 0"
   ]
  },
  {
   "cell_type": "markdown",
   "metadata": {
    "slideshow": {
     "slide_type": "slide"
    }
   },
   "source": [
    "## Ejercicio: elementos en común\n",
    "Se tiene la siguiente lista de listas. ¿Cómo se puede conocer el número de elementos no repetidos?"
   ]
  },
  {
   "cell_type": "code",
   "execution_count": 25,
   "metadata": {
    "collapsed": false
   },
   "outputs": [
    {
     "name": "stdout",
     "output_type": "stream",
     "text": [
      "None\n"
     ]
    }
   ],
   "source": [
    "def elementos(mis_listas):\n",
    "    # FIX ME\n",
    "    return\n",
    "        \n",
    "mi_lista = [ [\"uno\", \"dos\", \"tres\", \"cuatro\", \"cinco\"],\n",
    "             [\"dos\", \"cuatro\", \"seis\", \"ocho\", \"diez\"],\n",
    "             [\"uno\", \"uno\", \"dos\", \"tres\", \"cinco\", \"ocho\", \"once\"],\n",
    "             # ...\n",
    "           ]\n",
    "\n",
    "#print set(mi_lista) # da error\n",
    "print elementos(mi_lista) # Deberia dar 9"
   ]
  },
  {
   "cell_type": "code",
   "execution_count": 27,
   "metadata": {
    "collapsed": false,
    "slideshow": {
     "slide_type": "slide"
    }
   },
   "outputs": [
    {
     "name": "stdout",
     "output_type": "stream",
     "text": [
      "set(['diez', 'seis', 'ocho', 'cuatro', 'cinco', 'dos', 'tres', 'once', 'uno'])\n"
     ]
    }
   ],
   "source": [
    "# Solución\n",
    "def elementos(mis_listas):\n",
    "    elementos = set()\n",
    "    for lista in mis_listas:\n",
    "        elementos = elementos | set(lista) # += , |=\n",
    "        #elementos |= set(lista) # += , |=\n",
    "    return elementos\n",
    "        \n",
    "mi_lista = [ [\"uno\", \"dos\", \"tres\", \"cuatro\", \"cinco\"],\n",
    "             [\"dos\", \"cuatro\", \"seis\", \"ocho\", \"diez\"],\n",
    "             [\"uno\", \"uno\", \"dos\", \"tres\", \"cinco\", \"ocho\", \"once\"],\n",
    "             # ...\n",
    "           ]\n",
    "\n",
    "print elementos(mi_lista) # Deberia dar 9"
   ]
  },
  {
   "cell_type": "markdown",
   "metadata": {
    "slideshow": {
     "slide_type": "slide"
    }
   },
   "source": [
    "## Ejercicio: elementos en común v2\n",
    "Se tiene el siguiente diccionario. \n",
    "* ¿Cómo se puede obtener una tupla con las llaves no repetidos?\n",
    "* ¿Cómo se puede obtener una lista con los valores no repetidos?"
   ]
  },
  {
   "cell_type": "code",
   "execution_count": 29,
   "metadata": {
    "collapsed": false
   },
   "outputs": [
    {
     "name": "stdout",
     "output_type": "stream",
     "text": [
      "('trois', 'three', 'one', 'un', 'two', 'deux', 'dos', 'tres', 'uno')\n",
      "[1, 2, 3]\n"
     ]
    }
   ],
   "source": [
    "d = {\"uno\":1, \"one\":1, \"un\":1,\n",
    "     \"dos\":2, \"two\":2, \"deux\":2,\n",
    "     \"tres\":3, \"three\":3, \"trois\":3,\n",
    "     # ...\n",
    "    }\n",
    "# Tupla de llaves no repetidas\n",
    "print tuple(set(d.keys()))\n",
    "# Lista de valores no repetidos\n",
    "print list(set(d.values()))"
   ]
  },
  {
   "cell_type": "code",
   "execution_count": null,
   "metadata": {
    "collapsed": false,
    "slideshow": {
     "slide_type": "slide"
    }
   },
   "outputs": [],
   "source": [
    "# Solución\n",
    "d = {\"uno\":1, \"one\":1, \"un\":1,\n",
    "     \"dos\":2, \"two\":2, \"deux\":2,\n",
    "     \"tres\":3, \"three\":3, \"trois\":3,\n",
    "     # ...\n",
    "    }\n",
    "# Tupla de llaves no repetidas\n",
    "print tuple(set(d.keys())) # O directamente print tuple(d.keys()) \n",
    "                           #porque las llaves no pueden repetirse.\n",
    "# Lista de valores no repetidos\n",
    "print list(set(d.values()))"
   ]
  },
  {
   "cell_type": "markdown",
   "metadata": {
    "slideshow": {
     "slide_type": "slide"
    }
   },
   "source": [
    "## Ejercicio: elementos en común v3\n",
    "Se tiene una lista de diccionarios de alumnos \n",
    "* ¿Cómo se puede obtener los nombres no repetidos de los alumnos?"
   ]
  },
  {
   "cell_type": "code",
   "execution_count": 30,
   "metadata": {
    "collapsed": true
   },
   "outputs": [],
   "source": [
    "alumnos = [{\"nombre\":\"Sebastian Flores\", \"rol\":\"2004001-7\", \n",
    "            \"ramos\":[\"mate1\", \"progra\", \"fisica\", \"hum2\"]},\n",
    "           {\"nombre\":\"Sebastian Fernandez\", \"rol\":\"2004002-8\", \n",
    "            \"ramos\":[\"mate1\", \"progra2\"]},\n",
    "           {\"nombre\":\"Maria Jose Vargas\", \"rol\":\"2004007-3\", \n",
    "            \"ramos\":[\"mate1\", \"progra\", \"fisica\", \"hum1\"]},\n",
    "           {\"nombre\":\"Cesar Moltedo\", \"rol\":\"2011001-4\", \n",
    "            \"ramos\":[\"mate1\", \"progra\", \"progra2\", \"progra3\"]},\n",
    "           # ...\n",
    "          ]"
   ]
  },
  {
   "cell_type": "code",
   "execution_count": null,
   "metadata": {
    "collapsed": false,
    "slideshow": {
     "slide_type": "-"
    }
   },
   "outputs": [],
   "source": []
  },
  {
   "cell_type": "code",
   "execution_count": 31,
   "metadata": {
    "collapsed": false,
    "slideshow": {
     "slide_type": "slide"
    }
   },
   "outputs": [
    {
     "name": "stdout",
     "output_type": "stream",
     "text": [
      "set(['Sebastian', 'Cesar', 'Maria'])\n"
     ]
    }
   ],
   "source": [
    "# Nombres no repetidos solucion\n",
    "nombres_set = set()\n",
    "for alumno in alumnos:\n",
    "    # Alumno es un diccionario\n",
    "    nombre_completo = alumno[\"nombre\"]\n",
    "    nombre_pila = nombre_completo.split(\" \")[0]\n",
    "    nombres_set.add(nombre_pila)\n",
    "    \n",
    "print nombres_set"
   ]
  },
  {
   "cell_type": "markdown",
   "metadata": {
    "slideshow": {
     "slide_type": "slide"
    }
   },
   "source": [
    "## Ejercicio: elementos en común v3\n",
    "Se tiene una lista de diccionarios de alumnos \n",
    "* ¿Cómo se puede obtener todos los ramos cursados?"
   ]
  },
  {
   "cell_type": "code",
   "execution_count": null,
   "metadata": {
    "collapsed": true,
    "slideshow": {
     "slide_type": "slide"
    }
   },
   "outputs": [],
   "source": [
    "alumnos = [{\"nombre\":\"Sebastian Flores\", \"rol\":\"2004001-7\", \n",
    "            \"ramos\":[\"mate1\", \"progra\", \"fisica\", \"hum2\"]},\n",
    "           {\"nombre\":\"Sebastian Fernandez\", \"rol\":\"2004002-8\", \n",
    "            \"ramos\":[\"mate1\", \"progra2\"]},\n",
    "           {\"nombre\":\"Maria Jose Vargas\", \"rol\":\"2004007-3\", \n",
    "            \"ramos\":[\"mate1\", \"progra\", \"fisica\", \"hum1\"]},\n",
    "           {\"nombre\":\"Cesar Moltedo\", \"rol\":\"2011001-4\", \n",
    "            \"ramos\":[\"mate1\", \"progra\", \"progra2\", \"progra3\"]},\n",
    "           # ...\n",
    "          ]"
   ]
  },
  {
   "cell_type": "code",
   "execution_count": null,
   "metadata": {
    "collapsed": true,
    "slideshow": {
     "slide_type": "-"
    }
   },
   "outputs": [],
   "source": [
    "# Ramos no repetidos"
   ]
  },
  {
   "cell_type": "code",
   "execution_count": null,
   "metadata": {
    "collapsed": false,
    "slideshow": {
     "slide_type": "slide"
    }
   },
   "outputs": [],
   "source": [
    "# Ramos no repetidos solucion\n",
    "ramos_set = set()\n",
    "for alumno in alumnos:\n",
    "    # alumno es un diccionario\n",
    "    lista_ramos = alumno[\"ramos\"]\n",
    "    ramos_set = ramos_set | set(lista_ramos)\n",
    "    \n",
    "print ramos_set"
   ]
  },
  {
   "cell_type": "markdown",
   "metadata": {
    "slideshow": {
     "slide_type": "slide"
    }
   },
   "source": [
    "## Ejercicio de Certamen: C2 2S 2013\n",
    "\n",
    "El director técnico de la selección chilena le entrega como información una lista de tuplas\n",
    "con sus jugadores. Cada jugador viene representado por una tupla con la siguiente estructura:\n",
    "(nombre, informacion). A su vez, esta información es una tupla con la siguiente estructura:\n",
    "(posicion, goles, precio). Considere la siguiente estructura como ejemplo:"
   ]
  },
  {
   "cell_type": "code",
   "execution_count": 33,
   "metadata": {
    "collapsed": true
   },
   "outputs": [],
   "source": [
    "jugadores = [\n",
    "             #(nombre,(posicion,goles,precio))\n",
    "             ('Alexis Sanchez',('delantero',8,14000000)),\n",
    "             ('Arturo Vidal',('central',3,4000000)),\n",
    "             ('Claudio Bravo',('arquero',1,300000)),\n",
    "             ('Gary Medel',('defensa',1,6000000)),\n",
    "             ('Gonzalo Jara',('defensa',1,3000000)),\n",
    "             ('Eugenio Mena',('defenda',0,5000000)),\n",
    "             ('Miguel Pinto',('arquero',1,2000000)),\n",
    "             ('Fabian Orellana',('delantero',3,4000000))\n",
    "            ]"
   ]
  },
  {
   "cell_type": "markdown",
   "metadata": {
    "slideshow": {
     "slide_type": "slide"
    }
   },
   "source": [
    "## Ejercicio de C2 2S 2013\n",
    "\n",
    "a) Implemente la función jugadores_por_posicion(posicion,jugadores), la cual recibe como parámetro un string con la posición y la lista de tuplas de jugadores. Esta función debe retornar un conjunto con los nombres de los jugadores que se desempeñan en dicha posición:\n",
    "\n",
    "    print jugadores_por_posicion('delantero',jugadores)\n",
    "    {'Alexis Sanchez', 'Fabian Orellana'}\n",
    "    print jugadores_por_posicion('defensa',jugadores)\n",
    "    {'Gary Medel', 'Gonzalo Jara'}\n",
    "    print jugadores_por_posicion('arquero',jugadores)\n",
    "    {'Claudio Bravo', 'Miguel Pinto'}"
   ]
  },
  {
   "cell_type": "code",
   "execution_count": null,
   "metadata": {
    "collapsed": true
   },
   "outputs": [],
   "source": [
    "def jugadores_por_posicion(posicion, jugadores):\n",
    "    return\n",
    "\n",
    "print jugadores_por_posicion('delantero',jugadores)\n",
    "print jugadores_por_posicion('defensa',jugadores)\n",
    "print jugadores_por_posicion('arquero',jugadores)"
   ]
  },
  {
   "cell_type": "code",
   "execution_count": null,
   "metadata": {
    "collapsed": false
   },
   "outputs": [],
   "source": [
    "def jugadores_por_posicion(posicion, jugadores):\n",
    "    jugadores_en_posicion = set()\n",
    "    for jugador, (pos, gol, precio) in jugadores:\n",
    "        if pos==posicion:\n",
    "            jugadores_en_posicion.add(jugador)\n",
    "    return jugadores_en_posicion\n",
    "\n",
    "print jugadores_por_posicion('delantero',jugadores)\n",
    "print jugadores_por_posicion('defensa',jugadores)\n",
    "print jugadores_por_posicion('arquero',jugadores)"
   ]
  },
  {
   "cell_type": "markdown",
   "metadata": {
    "slideshow": {
     "slide_type": "slide"
    }
   },
   "source": [
    "## Ejercicio de C2 2S 2013\n",
    "b) Implemente la función `cantidad_goles(nombre,jugadores)`, la cual recibe como parámetro un string con el nombre de un jugador y la lista de tuplas jugadores. Esta función debe retornar la cantidad de goles realizados por dicho jugador.\n",
    "\n",
    "    print cantidad_goles('Alexis Sanchez',jugadores)\n",
    "    8\n",
    "    print cantidad_goles('Eugenio Mena',jugadores)\n",
    "    0"
   ]
  },
  {
   "cell_type": "code",
   "execution_count": null,
   "metadata": {
    "collapsed": true
   },
   "outputs": [],
   "source": [
    "def cantidad_goles(nombre, jugadores):\n",
    "    return\n",
    "\n",
    "print cantidad_goles('Alexis Sanchez',jugadores)\n",
    "print cantidad_goles('Eugenio Mena',jugadores)\n",
    "print cantidad_goles('Sebastian Flores',jugadores)"
   ]
  },
  {
   "cell_type": "code",
   "execution_count": 34,
   "metadata": {
    "collapsed": false,
    "slideshow": {
     "slide_type": "slide"
    }
   },
   "outputs": [
    {
     "name": "stdout",
     "output_type": "stream",
     "text": [
      "8\n",
      "0\n",
      "Sebastian Flores no esta en la seleccion Chilena.\n",
      "0\n"
     ]
    }
   ],
   "source": [
    "def cantidad_goles(nombre, jugadores):\n",
    "    for jugador, (pos, gol, precio) in jugadores:\n",
    "        if jugador==nombre:\n",
    "            return gol\n",
    "    # Si llegamos aqui, no encontramos el nombre\n",
    "    print nombre, \"no esta en la seleccion Chilena.\"\n",
    "    return 0\n",
    "\n",
    "print cantidad_goles('Alexis Sanchez',jugadores)\n",
    "print cantidad_goles('Eugenio Mena',jugadores)\n",
    "print cantidad_goles('Sebastian Flores',jugadores)"
   ]
  },
  {
   "cell_type": "markdown",
   "metadata": {
    "slideshow": {
     "slide_type": "slide"
    }
   },
   "source": [
    "## Ejercicio de C2 2S 2013\n",
    "c) Implemente la función `cantidad_goles_por_posicion(posiciones,jugadores)`, la cual recibe como parámetro un conjunto con las posiciones y la lista de tuplas jugadores. Este conjunto tiene la siguiente estructura:\n",
    "\n",
    "    posiciones = {'arquero','defensa','central','delantero'}\n",
    "La función retorna un diccionario cuyas claves son las posiciones de los jugadores y su valor la\n",
    "cantidad total de goles realizados por jugadores que se desempeñan en dicha posici on.\n",
    "\n",
    "    posiciones = {'arquero','defensa','central','delantero'}\n",
    "    print cantidad_goles_por_posicion(posiciones,jugadores)\n",
    "    {'defensa': 2, 'arquero': 2, 'central': 3, 'delantero': 11}"
   ]
  },
  {
   "cell_type": "code",
   "execution_count": 39,
   "metadata": {
    "collapsed": false,
    "slideshow": {
     "slide_type": "slide"
    }
   },
   "outputs": [
    {
     "name": "stdout",
     "output_type": "stream",
     "text": [
      "{'central': 3, 'defensa': 2}\n"
     ]
    }
   ],
   "source": [
    "def cantidad_goles_por_posicion(posiciones, jugadores):\n",
    "    goles = {}\n",
    "    for pos in posiciones:\n",
    "        goles[pos] = 0\n",
    "    for jugador, (pos, gol, precio) in jugadores:\n",
    "        if pos in posiciones:\n",
    "            goles[pos] += gol\n",
    "    return goles\n",
    "\n",
    "posiciones = {'defensa','central'}\n",
    "print cantidad_goles_por_posicion(posiciones, jugadores)"
   ]
  },
  {
   "cell_type": "code",
   "execution_count": null,
   "metadata": {
    "collapsed": false,
    "slideshow": {
     "slide_type": "slide"
    }
   },
   "outputs": [],
   "source": [
    "def cantidad_goles_por_posicion(posiciones, jugadores):\n",
    "    # Inicializar el diccionario vacio\n",
    "    goles_por_posicion = {}\n",
    "    for posicion in posiciones:\n",
    "        goles_por_posicion[posicion] = 0\n",
    "    # Llenar el diccionario\n",
    "    for jugador, (pos, gol, precio) in jugadores:\n",
    "        if pos in posiciones:\n",
    "            goles_por_posicion[pos] += gol\n",
    "    return goles_por_posicion\n",
    "\n",
    "posiciones = {'arquero','defensa','central','delantero'}\n",
    "print cantidad_goles_por_posicion(posiciones, jugadores)"
   ]
  }
 ],
 "metadata": {
  "celltoolbar": "Slideshow",
  "kernelspec": {
   "display_name": "Python 2",
   "language": "python",
   "name": "python2"
  },
  "language_info": {
   "codemirror_mode": {
    "name": "ipython",
    "version": 2
   },
   "file_extension": ".py",
   "mimetype": "text/x-python",
   "name": "python",
   "nbconvert_exporter": "python",
   "pygments_lexer": "ipython2",
   "version": "2.7.6"
  }
 },
 "nbformat": 4,
 "nbformat_minor": 0
}
