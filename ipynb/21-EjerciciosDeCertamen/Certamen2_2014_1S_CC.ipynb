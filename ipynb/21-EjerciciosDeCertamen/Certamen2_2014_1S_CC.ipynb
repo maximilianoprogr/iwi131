{
 "cells": [
  {
   "cell_type": "code",
   "execution_count": 25,
   "metadata": {
    "collapsed": false,
    "slideshow": {
     "slide_type": "skip"
    }
   },
   "outputs": [
    {
     "data": {
      "text/html": [
       "<style>\n",
       "\n",
       ".reveal {\n",
       "overflow: visible;\n",
       "}\n",
       "\n",
       "/*********************************************\n",
       " * CHANGE CURSIVE FOR RED\n",
       " *********************************************/\n",
       "em {font-style: normal !important;\n",
       "    color: #800000;}\n",
       "span.good {color: #008000;}\n",
       "span.warning {color: #808000;}\n",
       "span.bad {color: #800000;}\n",
       "\n",
       "/*********************************************\n",
       " * GLOBAL STYLES\n",
       " *********************************************/\n",
       ".reveal h1 {color: #000000; text-shadow: 0px 0px 6px rgba(0, 0, 0, 0.2);}\n",
       ".reveal h2 {color: #222222; text-shadow: 0px 0px 5px rgba(0, 0, 0, 0.2);}\n",
       ".reveal h3 {color: #444444; text-shadow: 0px 0px 4px rgba(0, 0, 0, 0.2);}\n",
       ".reveal h4 {color: #666666; text-shadow: 0px 0px 3px rgba(0, 0, 0, 0.2);}\n",
       ".reveal h5 {color: #888888; text-shadow: 0px 0px 2px rgba(0, 0, 0, 0.2);}\n",
       ".reveal h6 {color: #AAAAAA; text-shadow: 0px 0px 1px rgba(0, 0, 0, 0.2);}\n",
       "\n",
       "/*********************************************\n",
       " * IMAGES\n",
       " *********************************************/\n",
       ".reveal section img { margin-left:auto; margin-right:auto;}\n",
       "\n",
       "</style>\n"
      ],
      "text/plain": [
       "<IPython.core.display.HTML object>"
      ]
     },
     "execution_count": 25,
     "metadata": {},
     "output_type": "execute_result"
    }
   ],
   "source": [
    "\"\"\"\n",
    "IPython Notebook v4.0 para python 2.7\n",
    "Librerías adicionales: Ninguna.\n",
    "Contenido bajo licencia CC-BY 4.0. Código bajo licencia MIT. (c) Sebastian Flores.\n",
    "\"\"\"\n",
    "\n",
    "# Configuracion para recargar módulos y librerías \n",
    "%reload_ext autoreload\n",
    "%autoreload 2\n",
    "\n",
    "from IPython.core.display import HTML\n",
    "\n",
    "HTML(open(\"style/iwi131.css\", \"r\").read())"
   ]
  },
  {
   "cell_type": "markdown",
   "metadata": {
    "slideshow": {
     "slide_type": "slide"
    }
   },
   "source": [
    "<header class=\"w3-container w3-teal\">\n",
    "<img src=\"images/utfsm.png\" alt=\"\" align=\"left\"/>\n",
    "<img src=\"images/inf.png\" alt=\"\" align=\"right\"/>\n",
    "</header>\n",
    "<br/><br/><br/><br/><br/>\n",
    "# IWI131\n",
    "## Programación de Computadores\n",
    "\n",
    "### Sebastián Flores\n",
    "\n",
    "http://progra.usm.cl/ \n",
    "\n",
    "https://www.github.com/usantamaria/iwi131\n"
   ]
  },
  {
   "cell_type": "markdown",
   "metadata": {
    "slideshow": {
     "slide_type": "slide"
    }
   },
   "source": [
    "## Soluciones a Certamen 2, 1S 2014, Casa Central"
   ]
  },
  {
   "cell_type": "markdown",
   "metadata": {
    "slideshow": {
     "slide_type": "slide"
    }
   },
   "source": [
    "## Pregunta 1 [25%]\n",
    "(a) Realice el ruteo de los siguientes programas e indique qué es lo que imprimen. \n",
    "Cada vez que el valor de una variable cambie, escríbalo en una nueva fila de la tabla. \n",
    "Recuerde que si una variable es de tipo string, debe colocar su valor entre comillas simples ’ ’. \n",
    "Si una variable almacena una función coloque el nombre de ésta como valor (sin comillas).\n",
    "\n",
    "<img src=\"images/2014.png\" alt=\"\" align=\"middle\"/>"
   ]
  },
  {
   "cell_type": "markdown",
   "metadata": {
    "slideshow": {
     "slide_type": "slide"
    }
   },
   "source": [
    "#### Pregunta 1.b : Impresiones\n",
    "Indique lo que imprimen los siguientes programas."
   ]
  },
  {
   "cell_type": "code",
   "execution_count": null,
   "metadata": {
    "collapsed": false,
    "slideshow": {
     "slide_type": "slide"
    }
   },
   "outputs": [],
   "source": [
    "r,s = (2014,3,12),(2014,1,1)\n",
    "t = (2014,2,1)\n",
    "print r > s and s < t"
   ]
  },
  {
   "cell_type": "code",
   "execution_count": null,
   "metadata": {
    "collapsed": false,
    "slideshow": {
     "slide_type": "slide"
    }
   },
   "outputs": [],
   "source": [
    "# DIGRESION: COMPARACION DE TUPLAS DEL MISMO LARGO\n",
    "# Se verifican elementos en orden.\n",
    "# El primer elemento que sea mayor, gana.\n",
    "t1 = (0,1,2,3,4)\n",
    "t2 = (10,0,0,0)\n",
    "print t1<t2"
   ]
  },
  {
   "cell_type": "code",
   "execution_count": null,
   "metadata": {
    "collapsed": false,
    "slideshow": {
     "slide_type": "-"
    }
   },
   "outputs": [],
   "source": [
    "# DIGRESION: COMPARACION DE TUPLAS DE DISTINTO LARGO\n",
    "# Se verifican elementos en orden.\n",
    "# El primer elemento que sea mayor, gana\n",
    "t1 = (0,1,2,3)\n",
    "t2 = (0,1,2,3,4,5)\n",
    "print t1<t2"
   ]
  },
  {
   "cell_type": "code",
   "execution_count": null,
   "metadata": {
    "collapsed": false,
    "slideshow": {
     "slide_type": "slide"
    }
   },
   "outputs": [],
   "source": [
    "w = {'uno':[1,3],'dos':[2,4],\n",
    "     'tres':[3,6]}\n",
    "print w['uno'] + w['tres']"
   ]
  },
  {
   "cell_type": "code",
   "execution_count": null,
   "metadata": {
    "collapsed": false,
    "slideshow": {
     "slide_type": "slide"
    }
   },
   "outputs": [],
   "source": [
    "def funcion1(a):\n",
    "    a.reverse()\n",
    "    return a\n",
    "\n",
    "x = {1:[1, 0], 0:[0, 1]}\n",
    "r = funcion1(x[0])[1]\n",
    "print r"
   ]
  },
  {
   "cell_type": "code",
   "execution_count": null,
   "metadata": {
    "collapsed": false,
    "slideshow": {
     "slide_type": "slide"
    }
   },
   "outputs": [],
   "source": [
    "def funcion2(x):\n",
    "    if len(x) == 1:\n",
    "        return x\n",
    "    else:\n",
    "        return x[-1] + funcion2(x[:-1])\n",
    "\n",
    "print funcion2('FTW')"
   ]
  },
  {
   "cell_type": "markdown",
   "metadata": {
    "slideshow": {
     "slide_type": "slide"
    }
   },
   "source": [
    "## Pregunta 2 [35%]\n",
    "El servicio de inteligencia de la UTFSM ha detectado una amenaza inminente a sus\n",
    "instalaciones por parte de un grupo terrorista que busca impedir que la universidad se convierta en el mejor centro educacional del mundo. Dada la gravedad de esta amenaza, se ha solicitado que la división de agentes “IWI-131” analice los datos obtenidos por los infiltrados que el servicio  de inteligencia posee en otras universidades. \n",
    "\n",
    "Los datos con los que se trabajará se encuentran en un diccionario llamado `terroristas` (variable global) que tiene por llave el identificador de cada terrorista y, por valor, una lista de tuplas que indica las universidades en las que ha sido visto el terrorista junto con la fecha correspondiente.\n",
    "\n",
    "```Python\n",
    "terroristas = {\n",
    "2352: [('Stanfox', '2010-05-02'), \n",
    "       ('Hardyard', '2010-06-07'), \n",
    "       ('Yon Jopkins', '2010-05-02')],\n",
    "1352: [('Stanfox', '2010-05-02'), \n",
    "       ('Stanfox', '2011-06-08')],\n",
    "352: [('Hardyard', '2009-03-03')],\n",
    "22: [('Yon Jopkins', '2012-11-16')]}\n",
    "```\n",
    "\n",
    "Un diccionario llamado experticias (variable global) que tiene por llave el identificador de cada terrorista y, por valor, la experticia de dicho terrorista.\n",
    "\n",
    "```Python\n",
    "experticias = { 2352:'TNT', 1352:'TNT', \n",
    "                352:'rayos laser', 22:'teletransportacion'}\n",
    "```\n"
   ]
  },
  {
   "cell_type": "code",
   "execution_count": null,
   "metadata": {
    "collapsed": true,
    "slideshow": {
     "slide_type": "slide"
    }
   },
   "outputs": [],
   "source": [
    "# CARGAR LOS DATOS\n",
    "\n",
    "terroristas = {\n",
    "2352: [('Stanfox', '2010-05-02'), \n",
    "       ('Hardyard', '2010-06-07'), \n",
    "       ('Yon Jopkins', '2010-05-02')],\n",
    "1352: [('Stanfox', '2010-05-02'), \n",
    "       ('Stanfox', '2011-06-08')],\n",
    "352: [('Hardyard', '2009-03-03')],\n",
    "22: [('Yon Jopkins', '2012-11-16')]}\n",
    "\n",
    "experticias = { 2352:'TNT', 1352:'TNT', \n",
    "                352:'rayos laser', 22:'teletransportacion'}"
   ]
  },
  {
   "cell_type": "markdown",
   "metadata": {
    "slideshow": {
     "slide_type": "slide"
    }
   },
   "source": [
    "\n",
    "## Pregunta 2.a\n",
    "Desarrolle la función `terroristas_se_conocen(terrorista1, terrorista2)` que reciba\n",
    "como parámetros los identificadores de dos terroristas y que retorne `True` si ambos se conocen o `False` si no. Dos terroristas se conocen si ambos han sido vistos en el mismo lugar en la misma fecha.\n",
    "\n",
    "```Python\n",
    ">>> terroristas_se_conocen(2352, 1352)\n",
    "True\n",
    ">>> terroristas_se_conocen(2352, 352)\n",
    "False\n",
    "```\n",
    "\n",
    "***Estrategia de solución:***\n",
    "* ¿Qué estructura tienen los datos de entrada?\n",
    "* ¿Que estructura deben tener los datos de salida?\n",
    "* ¿Cómo proceso los inputs para generar el output deseado?"
   ]
  },
  {
   "cell_type": "code",
   "execution_count": null,
   "metadata": {
    "collapsed": false,
    "slideshow": {
     "slide_type": "slide"
    }
   },
   "outputs": [],
   "source": [
    "def terroristas_se_conocen(terrorista1, terrorista2):\n",
    "    lugares1 = set( terroristas[terrorista1] )\n",
    "    lugares2 = set( terroristas[terrorista2] )\n",
    "    return len(lugares1 & lugares2) > 0\n",
    "\n",
    "print terroristas_se_conocen(2352, 1352)\n",
    "print terroristas_se_conocen(2352, 352)"
   ]
  },
  {
   "cell_type": "markdown",
   "metadata": {
    "slideshow": {
     "slide_type": "slide"
    }
   },
   "source": [
    "## Pregunta 2.b\n",
    "Desarrolle la función `terroristas_que_han_estado_en(universidad)` que reciba como\n",
    "parámetro el nombre de una universidad y que retorne un conjunto conformado por los identificadores de los terroristas que han sido visto en la universidad ingresada como parámetro.\n",
    "\n",
    "```Python\n",
    ">>> terroristas_que_han_estado_en('Stanfox')\n",
    "set([1352, 2352])\n",
    ">>> terroristas_que_han_estado_en('Prinxton')\n",
    "set([])\n",
    "```\n",
    "\n",
    "***Estrategia de solución:***\n",
    "* ¿Qué estructura tienen los datos de entrada?\n",
    "* ¿Que estructura deben tener los datos de salida?\n",
    "* ¿Cómo proceso los inputs para generar el output deseado?"
   ]
  },
  {
   "cell_type": "code",
   "execution_count": null,
   "metadata": {
    "collapsed": false,
    "slideshow": {
     "slide_type": "slide"
    }
   },
   "outputs": [],
   "source": [
    "def terroristas_que_han_estado_en(universidad):\n",
    "    terroristas_a_la_vista = set()\n",
    "    for terrorista_id, terrorista_lugares in terroristas.items():\n",
    "        for lugar, fecha in terrorista_lugares:\n",
    "            if lugar==universidad:\n",
    "                terroristas_a_la_vista.add(terrorista_id)\n",
    "    return terroristas_a_la_vista\n",
    "\n",
    "print terroristas_que_han_estado_en('Stanfox')\n",
    "print terroristas_que_han_estado_en('Prinxton')"
   ]
  },
  {
   "cell_type": "markdown",
   "metadata": {
    "slideshow": {
     "slide_type": "slide"
    }
   },
   "source": [
    "## Pregunta 2.c\n",
    "Desarrolle la función `terroristas_clave()` que retorne una lista de tuplas con los identificadores de los terroristas claves e informe si cada uno de ellos pertenece (`True`) o no (`False`) a una ”sleeper cell”. \n",
    "\n",
    "* Se considera que un terrorista es clave si es el único\n",
    "que posee cierta experticia.\n",
    "* Se considera que un terrorista pertenece a una ”sleeper cell” si es que no conoce a ningún\n",
    "otro terrorista.\n",
    "\n",
    "```Python\n",
    ">>> terroristas_clave()\n",
    "[(22, True), (352, True)]\n",
    "```\n",
    "\n",
    "***Estrategia de solución:***\n",
    "* ¿Qué estructura tienen los datos de entrada?\n",
    "* ¿Que estructura deben tener los datos de salida?\n",
    "* ¿Cómo proceso los inputs para generar el output deseado?"
   ]
  },
  {
   "cell_type": "code",
   "execution_count": null,
   "metadata": {
    "collapsed": false,
    "slideshow": {
     "slide_type": "slide"
    }
   },
   "outputs": [],
   "source": [
    "def sleeper_call(terrorista_id):\n",
    "    for tid in terroristas:\n",
    "        if tid!=terrorista_id:\n",
    "            if terroristas_se_conocen(tid, terrorista_id):\n",
    "                return False\n",
    "    return True\n",
    "        \n",
    "    \n",
    "def terroristas_clave():\n",
    "    # Obtener terroristas claves\n",
    "    experticias_inv = {}\n",
    "    for tid, exp in experticias.items():\n",
    "        if exp not in experticias_inv:\n",
    "            experticias_inv[exp] = []\n",
    "        experticias_inv[exp].append(tid)\n",
    "    lista_terroristas_claves = []\n",
    "    for exp, lista_id in experticias_inv.items():\n",
    "        if len(lista_id)==1:\n",
    "            lista_terroristas_claves.append(lista_id[0])\n",
    "    # Sleeper Call\n",
    "    clave_y_sleeper_call = []\n",
    "    for tid in lista_terroristas_claves:\n",
    "        clave_y_sleeper_call.append( (tid, sleeper_call(tid)))\n",
    "    # Return value\n",
    "    return clave_y_sleeper_call\n",
    "\n",
    "terroristas_clave()"
   ]
  },
  {
   "cell_type": "markdown",
   "metadata": {
    "slideshow": {
     "slide_type": "slide"
    }
   },
   "source": [
    "## Pregunta 3 [35%]\n",
    "La gran maratón de Chago City es una de las carreras más importantes a nivel mundial.\n",
    "Debido a la gran cantidad de competidores que reúne este evento, se han generado las siguientes estructuras para ayudar con la organiación.\n",
    "\n",
    "* Diccionario con los inscritos, donde se almacena el número del corredor y los datos de éste.\n",
    "\n",
    "```Python\n",
    "inscritos = { #num_corredor: (rut,nombre,apellido,id_categoria,edad)\n",
    "            1001: ('1111111-2', 'Carlos', 'Caszely', 2, 55),\n",
    "            1002: ('223244-4', 'Marcelo', 'Rios', 3, 45),\n",
    "            2129: ('3838292-1', 'Ivan', 'Zamorano', 4, 38),\n",
    "            4738: ('5940301-2', 'Erika', 'Olivera', 5, 48),\n",
    "            8883: ('3843993-1', 'Condor', 'ito', 3, 22),\n",
    "            231: ('9492922-2', 'Pepe', 'Antartico', 3, 30)\n",
    "            }\n",
    "```\n",
    "\n",
    "* Diccionario con los inscritos, donde se almacena el número del corredor y los datos de éste.\n",
    "\n",
    "```Python\n",
    "categorias = { # id_categoria: (distancia, premio)\n",
    "                1: ('1k', 10000),\n",
    "                2: ('5k', 20000),\n",
    "                3: ('10k', 450000),\n",
    "                4: ('21k', 100000),\n",
    "                5: ('42k', 250000)\n",
    "                }\n",
    "```\n",
    "\n",
    "* Lista de resultados, donde se registra el número del corredor y el tiempo que logró.\n",
    "```Python\n",
    "# [ (num_corredor, tiempo) ]\n",
    "resultados = [(1001, '00:30:12'), (1002, '00:55:43'), \n",
    "               (2129, '01:45:23'), (4738, '03:05:09'), \n",
    "               (8883, '00:31:33'), (231, '00:39:45')]\n",
    "```"
   ]
  },
  {
   "cell_type": "code",
   "execution_count": null,
   "metadata": {
    "collapsed": true,
    "slideshow": {
     "slide_type": "slide"
    }
   },
   "outputs": [],
   "source": [
    "# CARGAR DATOS\n",
    "inscritos = { #num_corredor: (rut,nombre,apellido,id_categoria,edad)\n",
    "1001: ('1111111-2', 'Carlos', 'Caszely', 2, 55),\n",
    "1002: ('223244-4', 'Marcelo', 'Rios', 3, 45),\n",
    "2129: ('3838292-1', 'Ivan', 'Zamorano', 4, 38),\n",
    "4738: ('5940301-2', 'Erika', 'Olivera', 5, 48),\n",
    "8883: ('3843993-1', 'Condor', 'ito', 3, 22),\n",
    "231: ('9492922-2', 'Pepe', 'Antartico', 3, 30)\n",
    "}\n",
    "\n",
    "categorias = { # id_categoria: (distancia, premio)\n",
    "1: ('1k', 10000),\n",
    "2: ('5k', 20000),\n",
    "3: ('10k', 450000),\n",
    "4: ('21k', 100000),\n",
    "5: ('42k', 250000)\n",
    "}\n",
    "\n",
    "resultados = [(1001, '00:30:12'), (1002, '00:55:43'), \n",
    "              (2129, '01:45:23'), (4738, '03:05:09'), \n",
    "              (8883, '00:31:33'), (231, '00:39:45')]"
   ]
  },
  {
   "cell_type": "code",
   "execution_count": null,
   "metadata": {
    "collapsed": false,
    "slideshow": {
     "slide_type": "slide"
    }
   },
   "outputs": [],
   "source": [
    "# OBSERVACION \n",
    "\n",
    "# Tenemos los resultados como una lista\n",
    "resultados = [(1001, '00:30:12'), (1002, '00:55:43'), \n",
    "              (2129, '01:45:23'), (4738, '03:05:09'), \n",
    "              (8883, '00:31:33'), (231, '00:39:45')]\n",
    "# Para buscar un resultado en particular (por ej, para 4738), tendriamos que recorrer toda la lista\n",
    "\n",
    "# Pero podemos convertir a un diccionario de resultados\n",
    "\n",
    "resultados_dict = dict(resultados)\n",
    "print resultados_dict[2129]\n",
    "print resultados_dict[231]"
   ]
  },
  {
   "cell_type": "code",
   "execution_count": null,
   "metadata": {
    "collapsed": false,
    "slideshow": {
     "slide_type": "slide"
    }
   },
   "outputs": [],
   "source": [
    "# Esto es por una hermosa simetría en python\n",
    "diccio = {\"zero\":0, \"uno\":1,\"dos\":2,\"tres\":3,\"cuatro\":4}\n",
    "print diccio\n",
    "l = diccio.items()\n",
    "print l\n",
    "d = dict(l)\n",
    "print d\n",
    "\n",
    "# Es decir, podemos convertir toda lista del tipo [(key1, val1), ..., (keyn, valn)] \n",
    "# en un diccionario {key1:val1, ..., keyn:valn}"
   ]
  },
  {
   "cell_type": "markdown",
   "metadata": {
    "slideshow": {
     "slide_type": "slide"
    }
   },
   "source": [
    "## Pregunta 3.a\n",
    "Desarrolle la función `competidores_edad(inscritos, categorias, min_edad, max_edad)`\n",
    "que reciba el diccionario `inscritos`, el diccionario `categorias` y los valores enteros `min_edad` y `max_edad` (que representan la máxima y mínima edad). \n",
    "\n",
    "La función debe retornar una lista de tuplas de todos los competidores que se encuentren entre la edad mínima y máxima (incluyéndolos), donde cada tupla contenga el nombre, apellido y la distancia a correr de un individuo.\n",
    "\n",
    "```Python\n",
    ">>> competidores_edad(inscritos,categorias,25,40)\n",
    "[('Pepe', 'Antartico', '10k'), ('Ivan', 'Zamorano', '21k')]\n",
    "```\n",
    "\n",
    "***Estrategia de solución:***\n",
    "* ¿Qué estructura tienen los datos de entrada?\n",
    "* ¿Que estructura deben tener los datos de salida?\n",
    "* ¿Cómo proceso los inputs para generar el output deseado?"
   ]
  },
  {
   "cell_type": "code",
   "execution_count": null,
   "metadata": {
    "collapsed": false,
    "slideshow": {
     "slide_type": "slide"
    }
   },
   "outputs": [],
   "source": [
    "def competidores_edad(inscritos, categorias, min_edad, max_edad):\n",
    "    corredores_en_edad = []\n",
    "    for num_corredor, datos in inscritos.items():\n",
    "        rut, nombre, apellido, id_categoria,edad = datos\n",
    "        if min_edad<=edad<=max_edad:\n",
    "            distancia, premio = categorias[id_categoria]\n",
    "            tupla = (nombre, apellido, distancia)\n",
    "            corredores_en_edad.append(tupla)\n",
    "    return corredores_en_edad\n",
    "    \n",
    "print competidores_edad(inscritos,categorias,25,40)"
   ]
  },
  {
   "cell_type": "markdown",
   "metadata": {
    "slideshow": {
     "slide_type": "slide"
    }
   },
   "source": [
    "## Pregunta 3.b\n",
    "\n",
    "Desarrolle la función `tiempo_competidor(inscritos, resultados, rut)` que reciba el\n",
    "diccionario `inscritos`, la lista de tuplas `resultados` y el string `rut`. \n",
    "La función debe retornar el tiempo, como cadena de texto, de un competidor en particular.\n",
    "\n",
    "```Python\n",
    ">>> tiempo_competidor(inscritos,resultados,'9492922-2')\n",
    "'00:39:45'\n",
    "```\n",
    "\n",
    "***Estrategia de solución:***\n",
    "* ¿Qué estructura tienen los datos de entrada?\n",
    "* ¿Que estructura deben tener los datos de salida?\n",
    "* ¿Cómo proceso los inputs para generar el output deseado?"
   ]
  },
  {
   "cell_type": "code",
   "execution_count": null,
   "metadata": {
    "collapsed": false,
    "slideshow": {
     "slide_type": "slide"
    }
   },
   "outputs": [],
   "source": [
    "def obtener_numero_corredor(inscritos, rut_buscado):\n",
    "    for num_corredor, datos in inscritos.items():\n",
    "        rut, nombre, apellido, id_categoria,edad = datos\n",
    "        if rut==rut_buscado:\n",
    "            return num_corredor\n",
    "    print \"Not found\"\n",
    "    return \"\"\n",
    "\n",
    "def tiempo_competidor(inscritos, resultados, rut):\n",
    "    # Obtener el id_corredor\n",
    "    num_corredor = obtener_numero_corredor(inscritos, rut)\n",
    "    # Convertir resultados a un dict\n",
    "    resultados_dict = dict(resultados)\n",
    "    # Obtener el tiempo\n",
    "    return resultados_dict[num_corredor]\n",
    "\n",
    "print tiempo_competidor(inscritos,resultados,'9492922-2')"
   ]
  },
  {
   "cell_type": "markdown",
   "metadata": {
    "slideshow": {
     "slide_type": "slide"
    }
   },
   "source": [
    "## Pregunta 3.c\n",
    "\n",
    "Desarrolle la función `ganador_categoria(inscritos, categorias, resultados, distancia)` que reciba el diccionario `inscritos`, el diccionario `categorias`, la lista de tuplas\n",
    "`resultados` y el string `distancia`. La función debe retornar una tupla con el ganador de la categoría, indicando el nombre, apellido y premio obtenido.\n",
    "\n",
    "\n",
    "```Python\n",
    ">>> ganador_categoria(inscritos, categorias, resultados, '10k')\n",
    "('Condor', 'ito', 450000)\n",
    "```\n",
    "\n",
    "***Estrategia de solución:***\n",
    "* ¿Qué estructura tienen los datos de entrada?\n",
    "* ¿Que estructura deben tener los datos de salida?\n",
    "* ¿Cómo proceso los inputs para generar el output deseado?"
   ]
  },
  {
   "cell_type": "code",
   "execution_count": null,
   "metadata": {
    "collapsed": false,
    "slideshow": {
     "slide_type": "slide"
    }
   },
   "outputs": [],
   "source": [
    "def tiempo_en_segundos(tiempo_string):\n",
    "    horas = int(tiempo_string[:2])\n",
    "    minutos = int(tiempo_string[3:5])\n",
    "    segundos = int(tiempo_string[6:])\n",
    "    tiempo = horas*3600+minutos*60+segundos\n",
    "    return tiempo\n",
    "\n",
    "def ganador_categoria(inscritos, categorias, resultados, distancia):\n",
    "    # Obtener id de la distancia\n",
    "    id_distancia = 0\n",
    "    premio_distancia = 0\n",
    "    for idc, (dist, premio) in categorias.items():\n",
    "        if dist==distancia:\n",
    "            id_distancia = idc\n",
    "            premio_distancia = premio\n",
    "    # Convertir resultados a un dict\n",
    "    resultados_dict = dict(resultados)\n",
    "    # Obtener menor tiempo\n",
    "    menor_tiempo = float(\"inf\")\n",
    "    nombre_ganador = \"\"\n",
    "    apellido_ganador = \"\"\n",
    "    for num_corredor, datos in inscritos.items():\n",
    "        rut, nombre, apellido, id_categoria,edad = datos\n",
    "        if id_categoria==id_distancia:\n",
    "            tiempo = tiempo_en_segundos(resultados_dict[num_corredor])\n",
    "            if tiempo<menor_tiempo:\n",
    "                menor_tiempo = tiempo\n",
    "                nombre_ganador = nombre\n",
    "                apellido_ganador = apellido\n",
    "    # Regresar ganador\n",
    "    tupla_ganador = (nombre_ganador, apellido_ganador, premio_distancia)\n",
    "    return tupla_ganador\n",
    "\n",
    "ganador_categoria(inscritos, categorias, resultados, '10k')"
   ]
  }
 ],
 "metadata": {
  "celltoolbar": "Slideshow",
  "kernelspec": {
   "display_name": "Python 2",
   "language": "python",
   "name": "python2"
  },
  "language_info": {
   "codemirror_mode": {
    "name": "ipython",
    "version": 2
   },
   "file_extension": ".py",
   "mimetype": "text/x-python",
   "name": "python",
   "nbconvert_exporter": "python",
   "pygments_lexer": "ipython2",
   "version": "2.7.6"
  }
 },
 "nbformat": 4,
 "nbformat_minor": 0
}
