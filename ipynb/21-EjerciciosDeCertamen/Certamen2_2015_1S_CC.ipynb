{
 "cells": [
  {
   "cell_type": "code",
   "execution_count": 1,
   "metadata": {
    "collapsed": false,
    "slideshow": {
     "slide_type": "skip"
    }
   },
   "outputs": [
    {
     "data": {
      "text/html": [
       "<style>\n",
       "\n",
       ".reveal {\n",
       "overflow: visible;\n",
       "}\n",
       "\n",
       "/*********************************************\n",
       " * CHANGE CURSIVE FOR RED\n",
       " *********************************************/\n",
       "em {font-style: normal !important;\n",
       "    color: #800000;}\n",
       "span.good {color: #008000;}\n",
       "span.warning {color: #808000;}\n",
       "span.bad {color: #800000;}\n",
       "\n",
       "/*********************************************\n",
       " * GLOBAL STYLES\n",
       " *********************************************/\n",
       ".reveal h1 {color: #000000; text-shadow: 0px 0px 6px rgba(0, 0, 0, 0.2);}\n",
       ".reveal h2 {color: #222222; text-shadow: 0px 0px 5px rgba(0, 0, 0, 0.2);}\n",
       ".reveal h3 {color: #444444; text-shadow: 0px 0px 4px rgba(0, 0, 0, 0.2);}\n",
       ".reveal h4 {color: #666666; text-shadow: 0px 0px 3px rgba(0, 0, 0, 0.2);}\n",
       ".reveal h5 {color: #888888; text-shadow: 0px 0px 2px rgba(0, 0, 0, 0.2);}\n",
       ".reveal h6 {color: #AAAAAA; text-shadow: 0px 0px 1px rgba(0, 0, 0, 0.2);}\n",
       "\n",
       "/*********************************************\n",
       " * IMAGES\n",
       " *********************************************/\n",
       ".reveal section img { margin-left:auto; margin-right:auto;}\n",
       "\n",
       "</style>\n"
      ],
      "text/plain": [
       "<IPython.core.display.HTML object>"
      ]
     },
     "execution_count": 1,
     "metadata": {},
     "output_type": "execute_result"
    }
   ],
   "source": [
    "\"\"\"\n",
    "IPython Notebook v4.0 para python 2.7\n",
    "Librerías adicionales: Ninguna.\n",
    "Contenido bajo licencia CC-BY 4.0. Código bajo licencia MIT. (c) Sebastian Flores.\n",
    "\"\"\"\n",
    "\n",
    "# Configuracion para recargar módulos y librerías \n",
    "%reload_ext autoreload\n",
    "%autoreload 2\n",
    "\n",
    "from IPython.core.display import HTML\n",
    "\n",
    "HTML(open(\"style/iwi131.css\", \"r\").read())"
   ]
  },
  {
   "cell_type": "markdown",
   "metadata": {
    "slideshow": {
     "slide_type": "slide"
    }
   },
   "source": [
    "<header class=\"w3-container w3-teal\">\n",
    "<img src=\"images/utfsm.png\" alt=\"\" align=\"left\"/>\n",
    "<img src=\"images/inf.png\" alt=\"\" align=\"right\"/>\n",
    "</header>\n",
    "<br/><br/><br/><br/><br/>\n",
    "# IWI131\n",
    "## Programación de Computadores\n",
    "\n",
    "### Sebastián Flores\n",
    "\n",
    "http://progra.usm.cl/ \n",
    "\n",
    "https://www.github.com/usantamaria/iwi131\n"
   ]
  },
  {
   "cell_type": "markdown",
   "metadata": {
    "slideshow": {
     "slide_type": "slide"
    }
   },
   "source": [
    "## Soluciones a Certamen 2, 1S 2015, Casa Central"
   ]
  },
  {
   "cell_type": "markdown",
   "metadata": {
    "slideshow": {
     "slide_type": "slide"
    }
   },
   "source": [
    "## Pregunta 1 [25%]\n",
    "(a) Realice el ruteo de los siguientes programas e indique qué es lo que imprimen. \n",
    "***Cada vez que el valor de una variable cambie, escríbalo en una nueva fila de la tabla.***\n",
    "\n",
    "<img src=\"images/2015.png\" alt=\"\" align=\"middle\"/>"
   ]
  },
  {
   "cell_type": "markdown",
   "metadata": {
    "slideshow": {
     "slide_type": "slide"
    }
   },
   "source": [
    "#### Pregunta 1.b : Análisis de Algoritmo\n",
    "Analice el siguiente algoritmo y determine, en pocas palabras, lo que realiza. No debe usar m ́as\n",
    "del espacio indicado."
   ]
  },
  {
   "cell_type": "code",
   "execution_count": null,
   "metadata": {
    "collapsed": false
   },
   "outputs": [],
   "source": [
    "# n numero entero\n",
    "def f(n):\n",
    "    l = []\n",
    "    for i in range(len(str(n))-1,-1,-1):\n",
    "        x = n/(10**i)\n",
    "        l.append(x)\n",
    "        n=n %(10**i)\n",
    "    return l\n",
    "\n",
    "f(421)"
   ]
  },
  {
   "cell_type": "markdown",
   "metadata": {
    "slideshow": {
     "slide_type": "fragment"
    }
   },
   "source": [
    "#### Solución\n",
    "La función coloca en una lista los dígitos del número."
   ]
  },
  {
   "cell_type": "markdown",
   "metadata": {
    "slideshow": {
     "slide_type": "slide"
    }
   },
   "source": [
    "## Pregunta 2 [35%]\n",
    "El prestamista Vito Corleone, aburrido de perseguir a sus clientes, ha solicitado la ayuda de algún astro de la programación  para resolver sus problemas logísticos.\n",
    "\n",
    "Vito cuenta con la lista `clientes`, la que tiene tuplas con el nombre de cada cliente, el monto adeudado y la fecha del ultimo pago (también dentro de una tupla).\n",
    "```Python\n",
    "    clientes = [('Don Ramon', 3500, (9, 4, 2014)), \n",
    "                ('Miguel', 2785, (30, 10, 2014)), \n",
    "                ('Cesar', 100, (28, 5, 2015)), # ...\n",
    "               ]\n",
    "```\n",
    "Nota: Esto es sólo un ejemplo, considere que la lista puede tener muchos clientes. Sin embargo  asuma que cada nombre de cliente aparece sólo una vez."
   ]
  },
  {
   "cell_type": "markdown",
   "metadata": {
    "slideshow": {
     "slide_type": "slide"
    }
   },
   "source": [
    "## Pregunta 2.a\n",
    "Implemente la función `deuda_total(clientes)` que reciba como entrada la lista de tuplas clientes, y retorne la suma de las deudas de todos los deudores.\n",
    "\n",
    "```Python\n",
    ">>> deuda_total(clientes)\n",
    "6385\n",
    "```\n",
    "\n",
    "***Estrategia de solución:***\n",
    "* ¿Qué estructura tienen los datos de entrada?\n",
    "* ¿Qué estructura deben tener los datos de salida?\n",
    "* ¿Cómo proceso los inputs para generar el output deseado?"
   ]
  },
  {
   "cell_type": "code",
   "execution_count": null,
   "metadata": {
    "collapsed": true
   },
   "outputs": [],
   "source": [
    "# Cargando los datos\n",
    "clientes = [('Don Ramon', 3500, (9, 4, 2014)), \n",
    "            ('Miguel', 2785, (30,10, 2014)), \n",
    "            ('Cesar', 100, (28, 5, 2015)), # ...\n",
    "           ]"
   ]
  },
  {
   "cell_type": "code",
   "execution_count": null,
   "metadata": {
    "collapsed": false,
    "slideshow": {
     "slide_type": "slide"
    }
   },
   "outputs": [],
   "source": [
    "def deuda_total(clientes):\n",
    "    total = 0\n",
    "    for nombre, deuda, fecha in clientes:\n",
    "        total += deuda\n",
    "    return total\n",
    "\n",
    "deuda_total(clientes)"
   ]
  },
  {
   "cell_type": "markdown",
   "metadata": {
    "slideshow": {
     "slide_type": "slide"
    }
   },
   "source": [
    "## Pregunta 2.b\n",
    "Implemente la función `mayor_deudor(clientes, ultimo)` que retorne el nombre del cliente \n",
    "que tiene la mayor deuda, y que además su ultimo pago haya sido realizado en el año `ultimo`.\n",
    "Si no hay clientes con pagos en el año `ultimo`, retorne un string vacío.\n",
    "```Python\n",
    ">>> mayor_deudor(clientes, 2014)\n",
    "'Don Ramon'\n",
    "```\n",
    "\n",
    "***Estrategia de solución:***\n",
    "* ¿Qué estructura tienen los datos de entrada?\n",
    "* ¿Qué estructura deben tener los datos de salida?\n",
    "* ¿Cómo proceso los inputs para generar el output deseado?"
   ]
  },
  {
   "cell_type": "code",
   "execution_count": null,
   "metadata": {
    "collapsed": false,
    "slideshow": {
     "slide_type": "slide"
    }
   },
   "outputs": [],
   "source": [
    "def mayor_deudor(clientes, ultimo):\n",
    "    nombre_mayor_deudor = \"\"\n",
    "    deuda_mayor_deudor = -float(\"inf\")\n",
    "    for nombre, deuda, (dia, mes, anno) in clientes:\n",
    "        if anno==ultimo and deuda>deuda_mayor_deudor:\n",
    "            nombre_mayor_deudor=nombre\n",
    "            deuda_mayor_deudor=deuda\n",
    "    return nombre_mayor_deudor\n",
    "\n",
    "print mayor_deudor(clientes, 2014)\n",
    "print mayor_deudor(clientes, 2015)\n",
    "print mayor_deudor(clientes, 2016)"
   ]
  },
  {
   "cell_type": "markdown",
   "metadata": {
    "slideshow": {
     "slide_type": "slide"
    }
   },
   "source": [
    "## Pregunta 2.c\n",
    "Implemente la función `pagar(clientes, pago)` que recibe la lista clientes y una tupla pago compuesta por el nombre de quien paga, el monto que cancela y la fecha en que lo hace. La \n",
    "función modifica y retorna la lista clientes, descontando la deuda y actualizando la fecha del\n",
    "ultimo pago, según se indique en la tupla pago. Si la deuda llega a 0, debe borrar al cliente de\n",
    "esta lista. No es necesario considerar el caso en que se paga más de lo que se debe.\n",
    "```Python\n",
    ">>> pagar(clientes, ('Miguel', 85, (3, 6, 2015)))\n",
    "[('Don Ramon', 3500, (9, 4, 2014)), ('Miguel', 2700, (3, 6, 2015)), \n",
    " ('Cesar', 100, (28, 5, 2015))]\n",
    ">>> pagar(clientes, ('Cesar', 100, (4, 6, 2015)))\n",
    "[('Don Ramon', 3500, (9, 4, 2014)), ('Miguel', 2700, (3, 6, 2015))]\n",
    "```\n",
    "\n",
    "***Estrategia de solución:***\n",
    "* ¿Qué estructura tienen los datos de entrada?\n",
    "* ¿Qué estructura deben tener los datos de salida?\n",
    "* ¿Cómo proceso los inputs para generar el output deseado?"
   ]
  },
  {
   "cell_type": "code",
   "execution_count": null,
   "metadata": {
    "collapsed": false,
    "slideshow": {
     "slide_type": "slide"
    }
   },
   "outputs": [],
   "source": [
    "# SACAR ELEMENTO DE LISTA\n",
    "tupla = (\"zero\", \"uno\",\"dos\",\"tres\",\"cuatro\")\n",
    "# No es posible directamente, hay que generar una nueva tupla\n",
    "tupla = (tupla[0], tupla[2], tupla[3], tupla[4])\n",
    "print tupla\n",
    "\n",
    "# SACAR ELEMENTO DE LISTA\n",
    "lista = [\"zero\", \"uno\",\"dos\",\"tres\",\"cuatro\"]\n",
    "lista.pop(1)\n",
    "print lista\n",
    "\n",
    "# SACAR ELEMENTO DE DICCIONARIO\n",
    "diccio = {\"zero\":0, \"uno\":1,\"dos\":2,\"tres\":3,\"cuatro\":4}\n",
    "del diccio[\"uno\"]\n",
    "print diccio\n",
    "\n",
    "# SACAR ELEMENTO DE CONJUNTO\n",
    "conjunto = {\"zero\", \"uno\",\"dos\",\"tres\",\"cuatro\"}\n",
    "conjunto.remove(\"uno\")\n",
    "print conjunto"
   ]
  },
  {
   "cell_type": "code",
   "execution_count": null,
   "metadata": {
    "collapsed": false,
    "slideshow": {
     "slide_type": "slide"
    }
   },
   "outputs": [],
   "source": [
    "def pagar(clientes, pago):\n",
    "    nombre_pagador, monto_pago, fecha_pago = pago\n",
    "    for i in range(len(clientes)):\n",
    "        nombre, deuda, fecha = clientes[i]\n",
    "        if nombre_pagador==nombre:\n",
    "            deuda_restante = deuda - monto_pago\n",
    "            if deuda_restante<=0:\n",
    "                clientes.pop(i)\n",
    "            else:\n",
    "                deuda_actualizada = (nombre, deuda_restante, fecha_pago)\n",
    "                clientes[i] = deuda_actualizada\n",
    "    return clientes\n",
    "\n",
    "clientes = [('Don Ramon', 3500, (9, 4, 2014)), \n",
    "            ('Miguel', 2785, (30,10, 2014)), \n",
    "            ('Cesar', 100, (28, 5, 2015)), # ...\n",
    "           ]\n",
    "\n",
    "print pagar(clientes, ('Miguel', 85, (3, 6, 2015)))\n",
    "print pagar(clientes, ('Cesar', 100, (4, 6, 2015)))"
   ]
  },
  {
   "cell_type": "markdown",
   "metadata": {
    "slideshow": {
     "slide_type": "slide"
    }
   },
   "source": [
    "## Pregunta 3 [40%]\n",
    "El villano más malvado sobre la faz de la tierra, Ultron, tiene catalogado a todos los\n",
    "superhéroes de la tierra de la siguiente forma:\n",
    "\n",
    "```Python\n",
    "    # nombre: [detalle, edad, habilidad, (min-poder, max-poder)]\n",
    "    superheroes = {\n",
    "    'Iron man': ['mk42', 50 , 'uni-rayo', (45, 95)],\n",
    "    'Thor': ['hijo de odin', 10000 , 'mjolnir', (50, 100)],\n",
    "    'Condorito':['de pelotillehue', 40, 'washington', (1, 10)],\n",
    "    'Chapulin Colorado': ['no contaban con mi astucia', 40, 'chipote\n",
    "    chillon', (40, 90)],\n",
    "    # ...\n",
    "    }\n",
    "    # nombre : nombre_asociados\n",
    "    asociados = {\n",
    "    'Iron man': set(['Thor', 'Black Widow', 'Hawkeye', 'Hulk']),\n",
    "    'Thor': set(['Iron man', 'Hulk', 'Chapulin Colorado']),\n",
    "    'Condorito' : set(['Don Chuma', 'Hulk']),\n",
    "    'Chapulin Colorado' : set(['Condorito', 'Thor']),\n",
    "    # ...\n",
    "    }\n",
    "```\n",
    "\n",
    "Pese a ser la inteligencia artificial más avanzada jam ́as creada, se le complica un poco cuando llega el momento de programar, por ello pide ayuda a los alumnos de IWI-131 en lo siguiente:"
   ]
  },
  {
   "cell_type": "code",
   "execution_count": null,
   "metadata": {
    "collapsed": false
   },
   "outputs": [],
   "source": [
    "# CARGAR LOS DATOS\n",
    "\n",
    "# nombre: [detalle, edad, habilidad, (min-poder, max-poder)]\n",
    "superheroes = {\n",
    "'Iron man': ['mk42', 50 , 'uni-rayo', (45, 95)],\n",
    "'Thor': ['hijo de odin', 10000 , 'mjolnir', (50, 100)],\n",
    "'Condorito':['de pelotillehue', 40, 'washington', (1, 10)],\n",
    "'Chapulin Colorado': ['no contaban con mi astucia', 40, 'chipote chillon', (40, 90)],\n",
    "# ...\n",
    "}\n",
    "# nombre : nombre_asociados\n",
    "asociados = {\n",
    "'Iron man': set(['Thor', 'Black Widow', 'Hawkeye', 'Hulk']),\n",
    "'Thor': set(['Iron man', 'Hulk', 'Chapulin Colorado']),\n",
    "'Condorito' : set(['Don Chuma', 'Hulk']),\n",
    "'Chapulin Colorado' : set(['Condorito', 'Thor']),\n",
    "# ...\n",
    "}"
   ]
  },
  {
   "cell_type": "markdown",
   "metadata": {
    "slideshow": {
     "slide_type": "slide"
    }
   },
   "source": [
    "## Pregunta 3.a\n",
    "Desarrollar la función `diferencias_poder(superheroes, diferenciapoder, umbral)`\n",
    "que reciba el diccionario superheroes, el valor diferenciapoder y un valor de umbral. La\n",
    "función debe retornar una lista de tuplas de todos los superhéroes que tengan una diferencia de poder (diferencia min-poder y max-poder) mayor o igual a diferencia poder y un min-poder superior al umbral. Cada tupla debe contener nombre, detalle, habilidad y max-poder.\n",
    "\n",
    "```Python\n",
    ">>> diferencias_poder(superheroes, 30, 39)\n",
    "[('Iron man', 'mk42', 'uni-rayo', 95), \n",
    "('Thor', 'hijo de odin', 'mjolnir', 100), \n",
    "('Chapulin Colorado', 'no contaban con mi astucia','chipote chillon', 90)]\n",
    "```\n",
    "\n",
    "***Estrategia de solución:***\n",
    "* ¿Qué estructura tienen los datos de entrada?\n",
    "* ¿Qué estructura deben tener los datos de salida?\n",
    "* ¿Cómo proceso los inputs para generar el output deseado?"
   ]
  },
  {
   "cell_type": "code",
   "execution_count": null,
   "metadata": {
    "collapsed": false,
    "slideshow": {
     "slide_type": "slide"
    }
   },
   "outputs": [],
   "source": [
    "def diferencias_poder(superheroes, diferenciapoder, umbral):\n",
    "    superheroes_seleccionados = []\n",
    "    for nombre, caracteristicas in superheroes.items():\n",
    "        detalle, edad, habilidad, (min_poder, max_poder) = caracteristicas\n",
    "        if max_poder-min_poder>=diferenciapoder and min_poder>umbral:\n",
    "            tupla_datos = (nombre, detalle, habilidad, max_poder) \n",
    "            superheroes_seleccionados.append( tupla_datos )\n",
    "    return superheroes_seleccionados\n",
    "\n",
    "diferencias_poder(superheroes, 30, 39)"
   ]
  },
  {
   "cell_type": "markdown",
   "metadata": {
    "slideshow": {
     "slide_type": "slide"
    }
   },
   "source": [
    "## Pregunta 3.b\n",
    "\n",
    "Ultron necesita saber quién es amigo de quién. Dos asociados se consideran amigos si cada uno tiene al otro en el diccionario asociados. Genere una función `amigos(asociados)` que reciba el diccionario asociados y retorne un diccionario con los amigos, donde la llave es el superhéroe y como valor un conjunto con los amigos de éste. Si un superhéroe no tiene amigos, no se agrega.\n",
    "\n",
    "```Python\n",
    ">>> amigos(asociados)\n",
    "{'Iron man': set(['Thor']), \n",
    "'Chapulin Colorado': set(['Thor']), \n",
    "'Thor': set(['Iron man', 'Chapulin Colorado'])}\n",
    "```\n",
    "\n",
    "***Estrategia de solución:***\n",
    "* ¿Qué estructura tienen los datos de entrada?\n",
    "* ¿Qué estructura deben tener los datos de salida?\n",
    "* ¿Cómo proceso los inputs para generar el output deseado?"
   ]
  },
  {
   "cell_type": "code",
   "execution_count": null,
   "metadata": {
    "collapsed": false,
    "slideshow": {
     "slide_type": "slide"
    }
   },
   "outputs": [],
   "source": [
    "def amigos(asociados):\n",
    "    amigos = {}\n",
    "    for nombre, conjunto_socios in asociados.items():\n",
    "        for nombre_socio in conjunto_socios:\n",
    "            # Ver si son amigos\n",
    "            if (nombre_socio in asociados) and (nombre in asociados[nombre_socio]):\n",
    "                # Si son amigos, agregar al diccionario\n",
    "                if nombre not in amigos:\n",
    "                    amigos[nombre] = set([nombre_socio])\n",
    "                else:\n",
    "                    amigos[nombre].add(nombre_socio)\n",
    "    return amigos\n",
    "\n",
    "print amigos(asociados)"
   ]
  },
  {
   "cell_type": "markdown",
   "metadata": {
    "slideshow": {
     "slide_type": "slide"
    }
   },
   "source": [
    "## Pregunta 3.c\n",
    "\n",
    "Gracias a la manipulación mental de Scarlet Witch, Ultron logrará que los superhéroes amigos que posean una diferencia de poder superior a 40 y además que superen un umbral de min-poder de 30 luchen entre ellos. Se pide generar una función\n",
    "`versus(superheroes, asociados)` que reciba el diccionario `superheroes`, el diccionario `asociados` y retorne una lista de tuplas con los enfrentamientos de los amigos. \n",
    "\n",
    "NOTA: no se deben repetir las parejas.\n",
    "\n",
    "```Python\n",
    ">>> versus(superheroes, asociados)\n",
    "[('Iron man', 'Thor'), ('Chapulin Colorado', 'Thor')]\n",
    "```\n",
    "\n",
    "***Estrategia de solución:***\n",
    "* ¿Qué estructura tienen los datos de entrada?\n",
    "* ¿Qué estructura deben tener los datos de salida?\n",
    "* ¿Cómo proceso los inputs para generar el output deseado?"
   ]
  },
  {
   "cell_type": "code",
   "execution_count": null,
   "metadata": {
    "collapsed": false,
    "slideshow": {
     "slide_type": "slide"
    }
   },
   "outputs": [],
   "source": [
    "def versus(superheroes, asociados):\n",
    "    # Crear diccionario con amigos\n",
    "    amigos_dict = amigos(asociados)\n",
    "    # Candidatos a pelear, pero con demasiada informacion\n",
    "    lista_diferencias_poder = diferencias_poder(superheroes, 30, 39)\n",
    "    # Candidatos a pelear, solo nombres\n",
    "    superheroes_poderosos = []\n",
    "    for nombre, _, _, _ in lista_diferencias_poder:\n",
    "        superheroes_poderosos.append(nombre)\n",
    "    # Recorrer y agregar a lista (una unica vez)\n",
    "    lista_versus = []\n",
    "    for nombre_1 in superheroes_poderosos:\n",
    "        for nombre_2 in amigos_dict[nombre_1]:\n",
    "            if nombre_2 in superheroes_poderosos:\n",
    "                tupla_a_agregar = (nombre_2, nombre_1) \n",
    "                tupla_quizas_presente = (nombre_1, nombre_2) \n",
    "                if tupla_quizas_presente not in lista_versus:\n",
    "                    lista_versus.append(tupla_a_agregar)\n",
    "    return lista_versus\n",
    "\n",
    "print versus(superheroes, asociados)"
   ]
  }
 ],
 "metadata": {
  "celltoolbar": "Slideshow",
  "kernelspec": {
   "display_name": "Python 2",
   "language": "python",
   "name": "python2"
  },
  "language_info": {
   "codemirror_mode": {
    "name": "ipython",
    "version": 2
   },
   "file_extension": ".py",
   "mimetype": "text/x-python",
   "name": "python",
   "nbconvert_exporter": "python",
   "pygments_lexer": "ipython2",
   "version": "2.7.6"
  }
 },
 "nbformat": 4,
 "nbformat_minor": 0
}
