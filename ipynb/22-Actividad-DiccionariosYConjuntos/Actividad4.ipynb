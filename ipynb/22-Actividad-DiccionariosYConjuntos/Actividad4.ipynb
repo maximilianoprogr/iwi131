{
 "cells": [
  {
   "cell_type": "code",
   "execution_count": 1,
   "metadata": {
    "collapsed": false,
    "slideshow": {
     "slide_type": "skip"
    }
   },
   "outputs": [
    {
     "data": {
      "text/html": [
       "<style>\n",
       "\n",
       ".reveal {\n",
       "overflow: visible;\n",
       "}\n",
       "\n",
       "/*********************************************\n",
       " * CHANGE CURSIVE FOR RED\n",
       " *********************************************/\n",
       "em {font-style: normal !important;\n",
       "    color: #800000;}\n",
       "span.good {color: #008000;}\n",
       "span.warning {color: #808000;}\n",
       "span.bad {color: #800000;}\n",
       "\n",
       "/*********************************************\n",
       " * GLOBAL STYLES\n",
       " *********************************************/\n",
       ".reveal h1 {color: #000000; text-shadow: 0px 0px 6px rgba(0, 0, 0, 0.2);}\n",
       ".reveal h2 {color: #222222; text-shadow: 0px 0px 5px rgba(0, 0, 0, 0.2);}\n",
       ".reveal h3 {color: #444444; text-shadow: 0px 0px 4px rgba(0, 0, 0, 0.2);}\n",
       ".reveal h4 {color: #666666; text-shadow: 0px 0px 3px rgba(0, 0, 0, 0.2);}\n",
       ".reveal h5 {color: #888888; text-shadow: 0px 0px 2px rgba(0, 0, 0, 0.2);}\n",
       ".reveal h6 {color: #AAAAAA; text-shadow: 0px 0px 1px rgba(0, 0, 0, 0.2);}\n",
       "\n",
       "/*********************************************\n",
       " * IMAGES\n",
       " *********************************************/\n",
       ".reveal section img { margin-left:auto; margin-right:auto;}\n",
       "\n",
       "</style>\n"
      ],
      "text/plain": [
       "<IPython.core.display.HTML object>"
      ]
     },
     "execution_count": 1,
     "metadata": {},
     "output_type": "execute_result"
    }
   ],
   "source": [
    "\"\"\"\n",
    "IPython Notebook v4.0 para python 2.7\n",
    "Librerías adicionales: Ninguna.\n",
    "Contenido bajo licencia CC-BY 4.0. Código bajo licencia MIT. (c) Sebastian Flores.\n",
    "\"\"\"\n",
    "\n",
    "# Configuracion para recargar módulos y librerías \n",
    "%reload_ext autoreload\n",
    "%autoreload 2\n",
    "\n",
    "from IPython.core.display import HTML\n",
    "\n",
    "HTML(open(\"style/iwi131.css\", \"r\").read())"
   ]
  },
  {
   "cell_type": "markdown",
   "metadata": {
    "slideshow": {
     "slide_type": "slide"
    }
   },
   "source": [
    "<header class=\"w3-container w3-teal\">\n",
    "<img src=\"images/utfsm.png\" alt=\"\" align=\"left\"/>\n",
    "<img src=\"images/inf.png\" alt=\"\" align=\"right\"/>\n",
    "</header>\n",
    "<br/><br/><br/><br/><br/>\n",
    "# IWI131\n",
    "## Programación de Computadores\n",
    "\n",
    "### Sebastián Flores\n",
    "\n",
    "http://progra.usm.cl/ \n",
    "\n",
    "https://www.github.com/usantamaria/iwi131\n"
   ]
  },
  {
   "cell_type": "markdown",
   "metadata": {
    "slideshow": {
     "slide_type": "slide"
    }
   },
   "source": [
    "## Grupos\n",
    "\n",
    "* ALMEIDA, CURIHUAL, ARRATIA\n",
    "* ALVARADO, ETEROVIC, CANALES\n",
    "* GALLARDO, REQUENA, CODDOU\n",
    "* PROBOSTE, REYES, SANDOVAL\n",
    "* SCHWERTER, ZEGERS, TORREBLANCA\n",
    "* CATALAN, CHAURA, SALAS\n",
    "* COLLAO, ESTRADA, BAHAMONDE\n",
    "* DURÁN, MORALES,CANTILLANA\n",
    "* GRUNERT, KANZUA, CASTRO\n",
    "* LOPEZ, LOPEZ, ESTAY\n",
    "* MEDIANO, LOBOS, FLORES\n",
    "* OGALDE, CARRIEL, HERRERA\n",
    "* SANTELICES, PÉREZ\n",
    "* CASTILLO, ARÉVALO"
   ]
  },
  {
   "cell_type": "markdown",
   "metadata": {
    "slideshow": {
     "slide_type": "slide"
    }
   },
   "source": [
    "## Revisión de la Actividad 4 - Diccionarios y Conjuntos"
   ]
  },
  {
   "cell_type": "markdown",
   "metadata": {
    "slideshow": {
     "slide_type": "slide"
    }
   },
   "source": [
    "## Enunciado\n",
    "El lider del grupo de hackers ’fsociety’ guarda la información de sus miembros en un diccionario  con la siguiente información: `apodo_miembro: [fecha_ingreso_al_grupo, experticia, ciudad_de_residencia, cjto_conocidos]`. \n",
    "El conjunto `cjto_conocidos` muestra todos los miembros que conoce el hacker: `{miembro_1, miembro_2, ..., miembro_n}`. Que un miembro conozca la verdadera identidad de otro miembro no significa que el otro miembro conozca la del primero.\n",
    "Como ejemplo, considere la siguiente estructura:"
   ]
  },
  {
   "cell_type": "code",
   "execution_count": 2,
   "metadata": {
    "collapsed": false,
    "slideshow": {
     "slide_type": "slide"
    }
   },
   "outputs": [],
   "source": [
    "# Cargar datos\n",
    "miembros_fsociety= {\n",
    "'Eliott': [(2015, 10, 20), 'Seguridad', 'New York', \n",
    "           {'Darlene'}],\n",
    "'Darlene': [(2013, 3, 22), 'Malware', 'New York', \n",
    "            {'Eliott', 'Cisco'}],\n",
    "'Cisco': [(2012, 2, 4), 'Sistemas Distribuidos', 'San Francisco', \n",
    "          {'Darlene', 'Romero', 'Eliott'}],\n",
    "'Mr. Robot': [(2003, 5, 3), 'Analisis de Datos', 'New York', \n",
    "              {'Eliott', 'Darlene', 'Romero', 'Cisco'}]\n",
    "# ...\n",
    "}"
   ]
  },
  {
   "cell_type": "markdown",
   "metadata": {
    "slideshow": {
     "slide_type": "slide"
    }
   },
   "source": [
    "## Pregunta 1\n",
    "Se necesita conocer el apodo del miembro con mayor número de conocidos."
   ]
  },
  {
   "cell_type": "code",
   "execution_count": 3,
   "metadata": {
    "collapsed": false
   },
   "outputs": [
    {
     "name": "stdout",
     "output_type": "stream",
     "text": [
      "Mr. Robot\n"
     ]
    }
   ],
   "source": [
    "# Estructura: apodo_miembro: [fecha_ingreso, experticia, ciudad, cjto_conocidos]\n",
    "def miembro_con_mas_conocidos(miembros):\n",
    "    n_mas_conocidos = 0\n",
    "    apodo_mas_conocidos = \"\"\n",
    "    for apodo, datos in miembros.items():\n",
    "        n_conocidos = len(datos[-1])\n",
    "        if n_conocidos>n_mas_conocidos:\n",
    "            n_mas_conocidos = n_conocidos\n",
    "            apodo_mas_conocidos = apodo\n",
    "    return apodo_mas_conocidos\n",
    "\n",
    "print miembro_con_mas_conocidos(miembros_fsociety)"
   ]
  },
  {
   "cell_type": "markdown",
   "metadata": {
    "slideshow": {
     "slide_type": "slide"
    }
   },
   "source": [
    "## Pregunta 2\n",
    "Cuando algun miembro del grupo corre peligro de ser descubierto es necesario borrar el\n",
    "registro de ese miembro, cambiarle el apodo por otro y trasladarlo de ciudad. Debe recordar\n",
    "actualizar el diccionario completo."
   ]
  },
  {
   "cell_type": "code",
   "execution_count": 4,
   "metadata": {
    "collapsed": false
   },
   "outputs": [
    {
     "name": "stdout",
     "output_type": "stream",
     "text": [
      "Mr. Robot : [(2003, 5, 3), 'Analisis de Datos', 'New York', set(['Romero', 'Cisco', 'Darlene', 'Eliott'])]\n",
      "Eliott : [(2015, 10, 20), 'Seguridad', 'New York', set(['Darlene'])]\n",
      "Darlene : [(2013, 3, 22), 'Malware', 'New York', set(['Eliott', 'Cisco'])]\n",
      "Cisco : [(2012, 2, 4), 'Sistemas Distribuidos', 'San Francisco', set(['Eliott', 'Romero', 'Darlene'])]\n",
      "\n",
      "Mr. Robot : [(2003, 5, 3), 'Analisis de Datos', 'New York', set(['Romero', 'Leia', 'Cisco', 'Eliott'])]\n",
      "Eliott : [(2015, 10, 20), 'Seguridad', 'New York', set(['Leia'])]\n",
      "Leia : ((2013, 3, 22), 'Malware', 'Valparaiso', set(['Eliott', 'Cisco']))\n",
      "Cisco : [(2012, 2, 4), 'Sistemas Distribuidos', 'San Francisco', set(['Eliott', 'Leia', 'Romero'])]\n"
     ]
    }
   ],
   "source": [
    "# Estructura: apodo_miembro: [fecha_ingreso, experticia, ciudad, cjto_conocidos]\n",
    "def actualizar_miembros(miembros, apodo_viejo, apodo_nuevo, ciudad_nueva):\n",
    "    for apodo, datos in miembros.items():\n",
    "        # Cambiar todas las instancias del apodo viejo\n",
    "        cjto_conocidos = datos[-1]\n",
    "        if apodo_viejo in cjto_conocidos:\n",
    "            cjto_conocidos.remove(apodo_viejo)\n",
    "            cjto_conocidos.add(apodo_nuevo)\n",
    "        # Actualizar registro del miembro\n",
    "        if apodo==apodo_viejo:\n",
    "            fecha, experticia, ciudad_vieja, cjto_conocidos = datos\n",
    "            dato_nuevo = (fecha, experticia, ciudad_nueva, cjto_conocidos)\n",
    "            del miembros[apodo_viejo]\n",
    "            miembros[apodo_nuevo] = dato_nuevo\n",
    "    return miembros\n",
    "\n",
    "for key, val in miembros_fsociety.items():\n",
    "    print key, \":\", val\n",
    "print \"\"\n",
    "miembros_fsociety = actualizar_miembros(miembros_fsociety, \"Darlene\", \"Leia\", \"Valparaiso\")\n",
    "for key, val in miembros_fsociety.items():\n",
    "    print key, \":\", val"
   ]
  },
  {
   "cell_type": "markdown",
   "metadata": {
    "slideshow": {
     "slide_type": "slide"
    }
   },
   "source": [
    "## Pregunta 3\n",
    "Se necesita conocer los nombres de todos los miembros que hayan ingresado a la organizacion\n",
    "entre 2 fechas (inclusive)."
   ]
  },
  {
   "cell_type": "code",
   "execution_count": 4,
   "metadata": {
    "collapsed": false
   },
   "outputs": [
    {
     "name": "stdout",
     "output_type": "stream",
     "text": [
      "['Mr. Robot', 'Eliott', 'Darlene', 'Cisco']\n",
      "['Eliott', 'Darlene']\n"
     ]
    }
   ],
   "source": [
    "# Estructura: apodo_miembro: [fecha_ingreso, experticia, ciudad, cjto_conocidos]\n",
    "def miembros_segun_fecha(miembros, fecha_min, fecha_max):\n",
    "    miembros_en_fechas = []\n",
    "    for apodo, datos in miembros.items():\n",
    "        fecha, experticia, ciudad_vieja, cjto_conocidos = datos\n",
    "        if  fecha_min <= fecha <= fecha_max:\n",
    "            miembros_en_fechas.append(apodo)\n",
    "    return miembros_en_fechas\n",
    "\n",
    "fecha_min = (2000, 1, 1)\n",
    "fecha_max = (2016, 1, 1)\n",
    "print miembros_segun_fecha(miembros_fsociety, fecha_min, fecha_max)\n",
    "\n",
    "fecha_min = (2012, 2, 5)\n",
    "fecha_max = (2015, 10, 20)\n",
    "print miembros_segun_fecha(miembros_fsociety, fecha_min, fecha_max)"
   ]
  }
 ],
 "metadata": {
  "celltoolbar": "Slideshow",
  "kernelspec": {
   "display_name": "Python 2",
   "language": "python",
   "name": "python2"
  },
  "language_info": {
   "codemirror_mode": {
    "name": "ipython",
    "version": 2
   },
   "file_extension": ".py",
   "mimetype": "text/x-python",
   "name": "python",
   "nbconvert_exporter": "python",
   "pygments_lexer": "ipython2",
   "version": "2.7.6"
  }
 },
 "nbformat": 4,
 "nbformat_minor": 0
}
