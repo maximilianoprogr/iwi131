{
 "cells": [
  {
   "cell_type": "code",
   "execution_count": 19,
   "metadata": {
    "collapsed": false,
    "slideshow": {
     "slide_type": "skip"
    }
   },
   "outputs": [
    {
     "data": {
      "text/html": [
       "<style>\n",
       "\n",
       ".reveal {\n",
       "overflow: visible;\n",
       "}\n",
       "\n",
       "/*********************************************\n",
       " * CHANGE CURSIVE FOR RED\n",
       " *********************************************/\n",
       "em {font-style: normal !important;\n",
       "    color: #800000;}\n",
       "span.good {color: #008000;}\n",
       "span.warning {color: #808000;}\n",
       "span.bad {color: #800000;}\n",
       "\n",
       "/*********************************************\n",
       " * GLOBAL STYLES\n",
       " *********************************************/\n",
       ".reveal h1 {color: #000000; text-shadow: 0px 0px 6px rgba(0, 0, 0, 0.2);}\n",
       ".reveal h2 {color: #222222; text-shadow: 0px 0px 5px rgba(0, 0, 0, 0.2);}\n",
       ".reveal h3 {color: #444444; text-shadow: 0px 0px 4px rgba(0, 0, 0, 0.2);}\n",
       ".reveal h4 {color: #666666; text-shadow: 0px 0px 3px rgba(0, 0, 0, 0.2);}\n",
       ".reveal h5 {color: #888888; text-shadow: 0px 0px 2px rgba(0, 0, 0, 0.2);}\n",
       ".reveal h6 {color: #AAAAAA; text-shadow: 0px 0px 1px rgba(0, 0, 0, 0.2);}\n",
       "\n",
       "/*********************************************\n",
       " * IMAGES\n",
       " *********************************************/\n",
       ".reveal section img { margin-left:auto; margin-right:auto;}\n",
       "\n",
       "</style>\n"
      ],
      "text/plain": [
       "<IPython.core.display.HTML object>"
      ]
     },
     "execution_count": 19,
     "metadata": {},
     "output_type": "execute_result"
    }
   ],
   "source": [
    "\"\"\"\n",
    "IPython Notebook v4.0 para python 2.7\n",
    "Librerías adicionales: Ninguna.\n",
    "Contenido bajo licencia CC-BY 4.0. Código bajo licencia MIT. (c) Sebastian Flores.\n",
    "\"\"\"\n",
    "\n",
    "# Configuracion para recargar módulos y librerías \n",
    "%reload_ext autoreload\n",
    "%autoreload 2\n",
    "\n",
    "from IPython.core.display import HTML\n",
    "\n",
    "HTML(open(\"style/iwi131.css\", \"r\").read())"
   ]
  },
  {
   "cell_type": "markdown",
   "metadata": {
    "slideshow": {
     "slide_type": "slide"
    }
   },
   "source": [
    "<header class=\"w3-container w3-teal\">\n",
    "<img src=\"images/utfsm.png\" alt=\"\" align=\"left\"/>\n",
    "<img src=\"images/inf.png\" alt=\"\" align=\"right\"/>\n",
    "</header>\n",
    "<br/><br/><br/><br/><br/>\n",
    "# IWI131\n",
    "## Programación de Computadores\n",
    "\n",
    "### Sebastián Flores\n",
    "\n",
    "http://progra.usm.cl/ \n",
    "\n",
    "https://www.github.com/usantamaria/iwi131\n"
   ]
  },
  {
   "cell_type": "markdown",
   "metadata": {
    "slideshow": {
     "slide_type": "slide"
    }
   },
   "source": [
    "## Fechas\n",
    "\n",
    "* Actividad 05: ***Miércoles*** 6 Enero 2016 (8:00).\n",
    "* Certamen 3: ***Viernes*** 8 Enero 2016 (15:30).\n",
    "* Certamen Recuperativo: Lunes 18 Enero 2016 (8:00)."
   ]
  },
  {
   "cell_type": "markdown",
   "metadata": {
    "slideshow": {
     "slide_type": "slide"
    }
   },
   "source": [
    "## Clases\n",
    "* Mie 23 Dic 2016: Procesamiento de Texto.\n",
    "* Lun 28 Dic 2016: Escribir y leer archivos.\n",
    "* Mie 30 Dic 2016: Ejercicios tipo certamen.\n",
    "* Lun 04 Ene 2016: Ejercicios tipo certamen.\n",
    "* Mie 06 Ene 2016: Actividad 5.\n",
    "\n",
    "Consejo: Baje el libro del curso, lea, aprenda y practique.\n"
   ]
  },
  {
   "cell_type": "markdown",
   "metadata": {
    "slideshow": {
     "slide_type": "slide"
    }
   },
   "source": [
    "## ¿Qué contenido aprenderemos?\n",
    "\n",
    "* Procesamiento de texto"
   ]
  },
  {
   "cell_type": "markdown",
   "metadata": {
    "slideshow": {
     "slide_type": "slide"
    }
   },
   "source": [
    "## ¿Porqué aprenderemos ese contenido?\n",
    "\n",
    "* Procesamiento de texto\n",
    "\n",
    "Habilidad crucial para resolver una gran variedad de problemas."
   ]
  },
  {
   "cell_type": "markdown",
   "metadata": {
    "collapsed": true,
    "slideshow": {
     "slide_type": "slide"
    }
   },
   "source": [
    "# Motivación\n",
    "\n",
    "Queremos conocer cuales son las palabras más comunes en un idioma. Para eso, necesitamos saber cuantas veces aparece cada palabra en una frase. Desarrolle una función contar_palabras que al ser aplicada sobre un string, entregue un diccionario con las palabras y la cantidad de veces que aparece en la frase. Omita espacios y signos de puntuación y exclamación.\n",
    "\n",
    "    t = 'El sobre, en el aula, esta sobre el pupitre.'\n",
    "\n",
    "    contar_palabras(t)\n",
    "    {'el': 3, 'en': 1, 'esta': 1, 'aula': 1, \n",
    "    'sobre': 2, 'pupitre': 1}\n",
    "    \n",
    "¿Cómo realizaría usted esta difícil tarea?"
   ]
  },
  {
   "cell_type": "markdown",
   "metadata": {
    "collapsed": true,
    "slideshow": {
     "slide_type": "slide"
    }
   },
   "source": [
    "## Consejos \n",
    "\n",
    "El procesamiento de texto utiliza:\n",
    "\n",
    "* **Reconocimiento de patrones**: usted debe reconocer que patrones se repiten y puede explotar para procesar el texto.\n",
    "* **Utilización de funciones específicas**: el tipo de dato `string` posee una rica colección de métodos que debe manejar para simplificar la tarea de procesamiento de texto.\n",
    "* Recuerde que todo string es inmutable, por lo que al aplicar diversas funciones se obtiene siempre un ***nuevo*** string."
   ]
  },
  {
   "cell_type": "markdown",
   "metadata": {
    "collapsed": true,
    "slideshow": {
     "slide_type": "slide"
    }
   },
   "source": [
    "#### Procesamiento de texto\n",
    "## Salto de línea\n",
    "\n",
    "El string ***`\\n`*** corresponde a un único carácter, que representa el salto de línea."
   ]
  },
  {
   "cell_type": "code",
   "execution_count": 23,
   "metadata": {
    "collapsed": false
   },
   "outputs": [
    {
     "name": "stdout",
     "output_type": "stream",
     "text": [
      "1\n",
      "casa\n",
      "arbol\n",
      "patio\n",
      "16\n",
      "casa\n",
      "arbol\n",
      "patio\n",
      "16\n",
      "True\n",
      "a\n",
      "b\n",
      "c\n",
      "5\n"
     ]
    }
   ],
   "source": [
    "print len(\"\\n\")\n",
    "\n",
    "a1 = 'casa\\narbol\\npatio'\n",
    "print a1\n",
    "print len(a1)\n",
    "\n",
    "a2 = '''casa\n",
    "arbol\n",
    "patio'''\n",
    "print a2\n",
    "print len(a2)\n",
    "\n",
    "print a1==a2\n",
    "\n",
    "b = 'a\\nb\\nc'\n",
    "print b\n",
    "print len(b)"
   ]
  },
  {
   "cell_type": "markdown",
   "metadata": {
    "collapsed": true,
    "slideshow": {
     "slide_type": "slide"
    }
   },
   "source": [
    "#### Procesamiento de texto\n",
    "## Tabulación\n",
    "\n",
    "El string ***`\\t`*** corresponde a un único carácter, que representa una tabulación."
   ]
  },
  {
   "cell_type": "code",
   "execution_count": 25,
   "metadata": {
    "collapsed": false
   },
   "outputs": [
    {
     "name": "stdout",
     "output_type": "stream",
     "text": [
      "1\n",
      "casa\n",
      "\tarbol\n",
      "\tpatio\n",
      "a\tb\tc\n",
      "5\n"
     ]
    }
   ],
   "source": [
    "print len(\"\\t\")\n",
    "\n",
    "a = 'casa\\n\\tarbol\\n\\tpatio'\n",
    "print a\n",
    "\n",
    "b = 'a\\tb\\tc'\n",
    "print b\n",
    "print len(b)"
   ]
  },
  {
   "cell_type": "markdown",
   "metadata": {
    "collapsed": true,
    "slideshow": {
     "slide_type": "slide"
    }
   },
   "source": [
    "#### Procesamiento de texto\n",
    "\n",
    "**Importante**: `\\n` y `\\t` aparecen frecuentemente cuando analicemos archivos leídos del disco duro."
   ]
  },
  {
   "cell_type": "markdown",
   "metadata": {
    "collapsed": true,
    "slideshow": {
     "slide_type": "slide"
    }
   },
   "source": [
    "#### Procesamiento de texto\n",
    "## Reemplazar secciones de un string\n",
    "* La función ***mi_string.replace(s1, s2)*** busca cada ocurrencia del substring s1 en mi_string, y lo reemplaza por s2. \n",
    "* La función ***mi_string.replace(s1, s2,n)*** busca las primeras n ocurrencias del substring s1 en mi_string, y lo reemplaza por s2. \n",
    "* La función ***mi_string.replace(s1, s2)*** regresa un nuevo string, el string original no es modificado. "
   ]
  },
  {
   "cell_type": "code",
   "execution_count": 29,
   "metadata": {
    "collapsed": false
   },
   "outputs": [
    {
     "name": "stdout",
     "output_type": "stream",
     "text": [
      "cara\n",
      "casa\n",
      "pasa\n",
      "cesa\n",
      "oso\n",
      "cara\n"
     ]
    }
   ],
   "source": [
    "palabra = 'cara'\n",
    "palabra2 = palabra.replace('r', 's')\n",
    "print palabra\n",
    "print palabra2\n",
    "print palabra2.replace('ca', 'pa')\n",
    "print palabra2.replace('a', 'e', 1)\n",
    "print palabra2.replace('c', '').replace('a', 'o') # Encadenamiento de metodos\n",
    "print palabra"
   ]
  },
  {
   "cell_type": "markdown",
   "metadata": {
    "collapsed": true,
    "slideshow": {
     "slide_type": "slide"
    }
   },
   "source": [
    "#### Procesamiento de texto\n",
    "## Separar un string\n",
    "\n",
    "Para separar un string tenemos 2 opciones:\n",
    "* Separar en caracteres, utilizando `list(mi_string)`, que genera una lista con los carácteres de `mi_string` en orden.\n",
    "* Separar en palabras, utilizando `mi_string.split(s)`, que generar una lista de \"palabras\" que han sido separadas por el string `s`. El string `s` no estará en ninguno de los substrings de la lista. Por defecto, `s` es el caracter espacio \" \"."
   ]
  },
  {
   "cell_type": "code",
   "execution_count": 30,
   "metadata": {
    "collapsed": false,
    "slideshow": {
     "slide_type": "slide"
    }
   },
   "outputs": [
    {
     "name": "stdout",
     "output_type": "stream",
     "text": [
      "['t', 'a', 'c', 'a', ' ', 't', 'a', 'c', 'a']\n",
      "set(['a', ' ', 'c', 't'])\n",
      "['taca', 'taca']\n",
      "['t', 'c', ' t', 'c', '']\n",
      "['', 'aca ', 'aca']\n",
      "['t', 'a t', 'a']\n"
     ]
    }
   ],
   "source": [
    "oracion = 'taca taca'\n",
    "print list(oracion)\n",
    "print set(oracion)\n",
    "print oracion.split()\n",
    "print oracion.split(\"a\")\n",
    "print oracion.split(\"t\")\n",
    "print oracion.split(\"ac\")"
   ]
  },
  {
   "cell_type": "markdown",
   "metadata": {
    "collapsed": true,
    "slideshow": {
     "slide_type": "slide"
    }
   },
   "source": [
    "#### Procesamiento de texto\n",
    "## Unir una lista de strings\n",
    "Para unir una lista de strings es necesario utilizar el método `join`:\n",
    "\n",
    "```Python\n",
    "    s.join(lista_de_strings)\n",
    "```\n",
    "\n",
    "Regresa un único string donde los elementos del string han sido \"pegados\" utilizando el string s."
   ]
  },
  {
   "cell_type": "code",
   "execution_count": 33,
   "metadata": {
    "collapsed": false,
    "slideshow": {
     "slide_type": "slide"
    }
   },
   "outputs": [
    {
     "name": "stdout",
     "output_type": "stream",
     "text": [
      "Ex umbra in solem\n",
      "Exumbrainsolem\n",
      "Ex -> umbra -> in -> solem\n"
     ]
    }
   ],
   "source": [
    "mi_lista = ['Ex', 'umbra', 'in', 'solem']\n",
    "print ' '.join(mi_lista)\n",
    "print ''.join(mi_lista)\n",
    "print ' -> '.join(mi_lista)"
   ]
  },
  {
   "cell_type": "code",
   "execution_count": 34,
   "metadata": {
    "collapsed": false,
    "slideshow": {
     "slide_type": "fragment"
    }
   },
   "outputs": [
    {
     "name": "stdout",
     "output_type": "stream",
     "text": [
      "set(['Ex', 'solem', 'umbra', 'in'])\n",
      "Ex solem umbra in\n",
      "Exsolemumbrain\n",
      "Ex -> solem -> umbra -> in\n"
     ]
    }
   ],
   "source": [
    "mi_conjunto = {'Ex', 'umbra', 'in', 'solem'}\n",
    "print mi_conjunto\n",
    "print ' '.join(mi_conjunto)\n",
    "print ''.join(mi_conjunto)\n",
    "print ' -> '.join(mi_conjunto)"
   ]
  },
  {
   "cell_type": "markdown",
   "metadata": {
    "collapsed": true,
    "slideshow": {
     "slide_type": "slide"
    }
   },
   "source": [
    "#### Unir una lista de strings\n",
    "\n",
    "Observación: `join` funciona sólo sobre una lista de strings. Si quiere pegar números, debe convertirlos a strings ***antes***."
   ]
  },
  {
   "cell_type": "code",
   "execution_count": 35,
   "metadata": {
    "collapsed": false
   },
   "outputs": [
    {
     "name": "stdout",
     "output_type": "stream",
     "text": [
      "1, 2, 3\n"
     ]
    }
   ],
   "source": [
    "lista_de_strings = [\"1\", \"2\", \"3\"]\n",
    "print \", \".join(lista_de_strings)"
   ]
  },
  {
   "cell_type": "code",
   "execution_count": 36,
   "metadata": {
    "collapsed": false
   },
   "outputs": [
    {
     "ename": "TypeError",
     "evalue": "sequence item 0: expected string, int found",
     "output_type": "error",
     "traceback": [
      "\u001b[1;31m---------------------------------------------------------------------------\u001b[0m",
      "\u001b[1;31mTypeError\u001b[0m                                 Traceback (most recent call last)",
      "\u001b[1;32m<ipython-input-36-ac88427f974d>\u001b[0m in \u001b[0;36m<module>\u001b[1;34m()\u001b[0m\n\u001b[0;32m      1\u001b[0m \u001b[0mlista_de_ints\u001b[0m \u001b[1;33m=\u001b[0m \u001b[1;33m[\u001b[0m\u001b[1;36m1\u001b[0m\u001b[1;33m,\u001b[0m \u001b[1;36m2\u001b[0m\u001b[1;33m,\u001b[0m \u001b[1;36m3\u001b[0m\u001b[1;33m]\u001b[0m\u001b[1;33m\u001b[0m\u001b[0m\n\u001b[1;32m----> 2\u001b[1;33m \u001b[1;32mprint\u001b[0m \u001b[1;34m\", \"\u001b[0m\u001b[1;33m.\u001b[0m\u001b[0mjoin\u001b[0m\u001b[1;33m(\u001b[0m\u001b[0mlista_de_ints\u001b[0m\u001b[1;33m)\u001b[0m\u001b[1;33m\u001b[0m\u001b[0m\n\u001b[0m",
      "\u001b[1;31mTypeError\u001b[0m: sequence item 0: expected string, int found"
     ]
    }
   ],
   "source": [
    "lista_de_ints = [1, 2, 3]\n",
    "print \", \".join(lista_de_ints)"
   ]
  },
  {
   "cell_type": "code",
   "execution_count": 37,
   "metadata": {
    "collapsed": false
   },
   "outputs": [
    {
     "name": "stdout",
     "output_type": "stream",
     "text": [
      "0, 1, 2, 3, 4, 5, 6, 7, 8, 9\n"
     ]
    }
   ],
   "source": [
    "lista_de_ints = range(10)\n",
    "lista_de_strings = []\n",
    "for x in lista_de_ints:\n",
    "    lista_de_strings.append(str(x))\n",
    "print \", \".join(lista_de_strings)"
   ]
  },
  {
   "cell_type": "markdown",
   "metadata": {
    "collapsed": true,
    "slideshow": {
     "slide_type": "slide"
    }
   },
   "source": [
    "#### Procesamiento de texto\n",
    "## Unir una secuencia de valores (no strings) v2\n",
    "\n",
    "También es posible utilizar `map` que aplica genera una nueva lista aplicando a cada elemento de la lista original la función pasada como argumento."
   ]
  },
  {
   "cell_type": "code",
   "execution_count": 44,
   "metadata": {
    "collapsed": false
   },
   "outputs": [
    {
     "name": "stdout",
     "output_type": "stream",
     "text": [
      "[0, 1, 2, 3, 4, 5, 6, 7, 8, 9]\n",
      "['0', '1', '2', '3', '4', '5', '6', '7', '8', '9']\n",
      "[0.0, 1.0, 2.0, 3.0, 4.0, 5.0, 6.0, 7.0, 8.0, 9.0]\n",
      "[1.0, 2.5, 4.333333333333333, 6.25, 8.2, 10.166666666666666, 12.142857142857142, 14.125, 16.11111111111111, 18.1]\n",
      "0, 1, 2, 3, 4, 5, 6, 7, 8, 9\n",
      "1-2-3-4\n"
     ]
    }
   ],
   "source": [
    "numeros = range(10)\n",
    "print numeros\n",
    "def f(x):\n",
    "    return 2.*x + 1./(x+1)\n",
    "\n",
    "print map(str, numeros)\n",
    "print map(float, numeros)\n",
    "print map(f, numeros)\n",
    "\n",
    "print ', '.join(map(str, numeros))\n",
    "\n",
    "# \n",
    "print \"-\"join(\"1,2,3,4\".split(\",\"))"
   ]
  },
  {
   "cell_type": "markdown",
   "metadata": {
    "collapsed": true,
    "slideshow": {
     "slide_type": "slide"
    }
   },
   "source": [
    "#### Procesamiento de texto\n",
    "## Interpolación de valores por posición\n"
   ]
  },
  {
   "cell_type": "code",
   "execution_count": 47,
   "metadata": {
    "collapsed": false
   },
   "outputs": [
    {
     "ename": "IndexError",
     "evalue": "tuple index out of range",
     "output_type": "error",
     "traceback": [
      "\u001b[1;31m---------------------------------------------------------------------------\u001b[0m",
      "\u001b[1;31mIndexError\u001b[0m                                Traceback (most recent call last)",
      "\u001b[1;32m<ipython-input-47-36380a8ee462>\u001b[0m in \u001b[0;36m<module>\u001b[1;34m()\u001b[0m\n\u001b[0;32m      1\u001b[0m \u001b[0ms\u001b[0m \u001b[1;33m=\u001b[0m \u001b[1;34m'Soy {0} y vivo en {1} {2}'\u001b[0m\u001b[1;33m\u001b[0m\u001b[0m\n\u001b[1;32m----> 2\u001b[1;33m \u001b[1;32mprint\u001b[0m \u001b[0ms\u001b[0m\u001b[1;33m.\u001b[0m\u001b[0mformat\u001b[0m\u001b[1;33m(\u001b[0m\u001b[1;34m'Perico'\u001b[0m\u001b[1;33m,\u001b[0m \u001b[1;34m'Valparaiso'\u001b[0m\u001b[1;33m)\u001b[0m\u001b[1;33m\u001b[0m\u001b[0m\n\u001b[0m\u001b[0;32m      3\u001b[0m \u001b[1;32mprint\u001b[0m \u001b[0ms\u001b[0m\u001b[1;33m.\u001b[0m\u001b[0mformat\u001b[0m\u001b[1;33m(\u001b[0m\u001b[1;34m'Erika'\u001b[0m\u001b[1;33m,\u001b[0m \u001b[1;34m'Berlin'\u001b[0m\u001b[1;33m)\u001b[0m\u001b[1;33m\u001b[0m\u001b[0m\n\u001b[0;32m      4\u001b[0m \u001b[1;32mprint\u001b[0m \u001b[0ms\u001b[0m\u001b[1;33m.\u001b[0m\u001b[0mformat\u001b[0m\u001b[1;33m(\u001b[0m\u001b[1;34m'Wang Dawei'\u001b[0m\u001b[1;33m,\u001b[0m \u001b[1;34m'Beijing'\u001b[0m\u001b[1;33m)\u001b[0m\u001b[1;33m\u001b[0m\u001b[0m\n",
      "\u001b[1;31mIndexError\u001b[0m: tuple index out of range"
     ]
    }
   ],
   "source": [
    "s = 'Soy {0} y vivo en {1} {2}'\n",
    "print s.format('Perico', 'Valparaiso')\n",
    "print s.format('Erika', 'Berlin')\n",
    "print s.format('Wang Dawei', 'Beijing')"
   ]
  },
  {
   "cell_type": "markdown",
   "metadata": {
    "collapsed": true,
    "slideshow": {
     "slide_type": "slide"
    }
   },
   "source": [
    "#### Procesamiento de texto\n",
    "## Interpolación de valores por nombre\n"
   ]
  },
  {
   "cell_type": "code",
   "execution_count": 48,
   "metadata": {
    "collapsed": false
   },
   "outputs": [
    {
     "name": "stdout",
     "output_type": "stream",
     "text": [
      "Perico estudia en la UTFSM\n",
      "Fulana estudia en la PUCV\n",
      "Yayita estudia en la UPLA\n",
      "Mago Merlin estudia en la Camelot University\n"
     ]
    }
   ],
   "source": [
    "s = '{nombre} estudia en la {u}'\n",
    "# Datos pueden pasarse ordenados\n",
    "print s.format(nombre='Perico', u='UTFSM')\n",
    "print s.format(nombre='Fulana', u='PUCV')\n",
    "# También es posible cambiar el orden\n",
    "print s.format(u='UPLA', nombre='Yayita')\n",
    "# O con magia (conocimiento avanzado)\n",
    "d = {\"nombre\":\"Mago Merlin\", \"u\":\"Camelot University\"}\n",
    "print s.format(**d)"
   ]
  },
  {
   "cell_type": "markdown",
   "metadata": {
    "collapsed": true,
    "slideshow": {
     "slide_type": "slide"
    }
   },
   "source": [
    "#### Procesamiento de texto\n",
    "## Mayusculas y Minúsculas\n",
    "\n",
    "Para cambiar la capitalización de un string, es posible utilizar los siguientes métodos:\n",
    "\n",
    "* `.upper()`: TODO EN MAYUSCULA.\n",
    "* `.lower()`: todo en minuscula\n",
    "* `.swapcase()`: cambia el order que tenia la capitalización.\n",
    "* `.capitalize()`: Coloca únicamente mayuscula en la primera letra del string."
   ]
  },
  {
   "cell_type": "code",
   "execution_count": 51,
   "metadata": {
    "collapsed": false
   },
   "outputs": [
    {
     "name": "stdout",
     "output_type": "stream",
     "text": [
      "1. RAMO DE PROGRA\n",
      "1. ramo de progra\n",
      "1. RAmO DE pROgRA\n",
      "1. ramo de progra\n"
     ]
    }
   ],
   "source": [
    "palabra = '1. raMo de ProGra'\n",
    "print palabra.upper()\n",
    "print palabra.lower()\n",
    "print palabra.swapcase()\n",
    "print palabra.capitalize()"
   ]
  },
  {
   "cell_type": "markdown",
   "metadata": {
    "collapsed": true,
    "slideshow": {
     "slide_type": "slide"
    }
   },
   "source": [
    "#### Procesamiento de texto\n",
    "## Ejemplo de Motivación\n",
    "\n",
    "Queremos conocer cuales son las palabras más comunes en un idioma. Para eso, necesitamos saber cuantas veces aparece cada palabra en una frase. Desarrolle una función contar_palabras que al ser aplicada sobre un string, entregue un diccionario con las palabras y la cantidad de veces que aparece en la frase. Omita espacios y signos de puntuación y exclamación.\n",
    "\n",
    "    t = 'El sobre, en el aula, esta sobre el pupitre.'\n",
    "\n",
    "    contar_palabras(t)\n",
    "    {'el': 3, 'en': 1, 'esta': 1, 'aula': 1, 'sobre': 2, 'pupitre': 1}\n",
    "    \n",
    "¿Cómo realizaría ***ahora*** usted esta difícil tarea?"
   ]
  },
  {
   "cell_type": "markdown",
   "metadata": {
    "collapsed": true,
    "slideshow": {
     "slide_type": "slide"
    }
   },
   "source": [
    "#### Procesamiento de texto\n",
    "## Consejos\n",
    "\n",
    "Subdividir en tareas menores:\n",
    "* ¿Cómo sacar los simbolos indeseados?\n",
    "* ¿Cómo separar las palabras?\n",
    "* ¿Cómo contar las palabras?"
   ]
  },
  {
   "cell_type": "code",
   "execution_count": null,
   "metadata": {
    "collapsed": false
   },
   "outputs": [],
   "source": [
    "def contar_palabras(s):\n",
    "    return s\n",
    "    \n",
    "t = 'El sobre, en el aula, esta sobre el pupitre.'\n",
    "contar_palabras(t)"
   ]
  },
  {
   "cell_type": "markdown",
   "metadata": {
    "collapsed": true,
    "slideshow": {
     "slide_type": "slide"
    }
   },
   "source": [
    "#### Procesamiento de texto\n",
    "## Motivación: Solución\n",
    "\n",
    "INPUT:\n",
    "\n",
    "    t = 'El sobre, en el aula, esta sobre el pupitre.'\n",
    "    contar_palabras(t)\n",
    "\n",
    "OUTPUT: \n",
    "\n",
    "    {'el': 3, 'en': 1, 'esta': 1, 'aula': 1, \n",
    "    'sobre': 2, 'pupitre': 1}"
   ]
  },
  {
   "cell_type": "code",
   "execution_count": 53,
   "metadata": {
    "collapsed": false,
    "slideshow": {
     "slide_type": "slide"
    }
   },
   "outputs": [
    {
     "data": {
      "text/plain": [
       "{'aula': 1, 'el': 3, 'en': 1, 'esta': 1, 'pupitre': 1, 'sobre': 2}"
      ]
     },
     "execution_count": 53,
     "metadata": {},
     "output_type": "execute_result"
    }
   ],
   "source": [
    "def contar_palabras(s):\n",
    "    s = s.lower()\n",
    "    for signo in [\",\",\".\",\";\",\"!\",\"?\",\"'\",'\"']:\n",
    "        s = s.replace(signo,\"\")\n",
    "    palabras = s.split()\n",
    "    contador = {}\n",
    "    for palabra_sucia in palabras:\n",
    "        palabra = palabra_sucia\n",
    "        if palabra in contador:\n",
    "            contador[palabra] += 1 # Aumentamos\n",
    "        else:\n",
    "            contador[palabra] = 1 # Inicializamos\n",
    "    return contador\n",
    "    \n",
    "t = 'El sobre, en el aula, !! Esta sobre el pupitre.'\n",
    "contar_palabras(t)"
   ]
  },
  {
   "cell_type": "markdown",
   "metadata": {
    "collapsed": true,
    "slideshow": {
     "slide_type": "slide"
    }
   },
   "source": [
    "#### Procesamiento de texto\n",
    "## Ejercicio 2\n",
    "Escriba un programa que tenga el siguiente comportamiento:\n",
    "\n",
    "INPUT:\n",
    "\n",
    "    Numero de alumnos: 3\n",
    "    Nombre alumno 1: Isaac Newton\n",
    "    Ingrese las notas de Isaac: 98 94 77\n",
    "    Nombre alumno 2: Nikola Tesla\n",
    "    Ingrese las notas de Nikola: 100 68 94 88\n",
    "    Nombre alumno 3: Albert Einstein\n",
    "    Ingrese las notas de Albert: 83 85\n",
    "\n",
    "OUTPUT:\n",
    "\n",
    "    El promedio de Isaac es 89.67\n",
    "    El promedio de Nikola es 87.50\n",
    "    El promedio de Albert es 84.00"
   ]
  },
  {
   "cell_type": "markdown",
   "metadata": {
    "collapsed": true,
    "slideshow": {
     "slide_type": "slide"
    }
   },
   "source": [
    "#### Procesamiento de texto\n",
    "## Ejercicio 2: Análisis\n",
    "¿Cuáles son las tareas necesarias?"
   ]
  },
  {
   "cell_type": "markdown",
   "metadata": {
    "collapsed": true,
    "slideshow": {
     "slide_type": "slide"
    }
   },
   "source": [
    "#### Procesamiento de texto\n",
    "## Ejercicio 1: Solución\n",
    "Las tareas a realizar son:\n",
    "* Leer  número de alumnos\n",
    "* Para cada alumno, leer nombre y notas.\n",
    "* Procesar notas para obtener el promedio.\n",
    "* Almacenar nombre y notas.\n",
    "* Separar nombre de apellido.\n",
    "* Imprimir resultados apropiadamente."
   ]
  },
  {
   "cell_type": "code",
   "execution_count": null,
   "metadata": {
    "collapsed": true
   },
   "outputs": [],
   "source": [
    "# Solución Alumnos\n"
   ]
  },
  {
   "cell_type": "code",
   "execution_count": 54,
   "metadata": {
    "collapsed": false,
    "slideshow": {
     "slide_type": "slide"
    }
   },
   "outputs": [
    {
     "name": "stdout",
     "output_type": "stream",
     "text": [
      "Numero de alumnos: 2\n",
      "Nombre alumno 1:Felipe Lopez Correa\n",
      "Ingrese las notas de Felipe: 90 90 90 90 90 0\n",
      "Nombre alumno 2:Pablo Alvarado Seguel\n",
      "Ingrese las notas de Pablo: 100 0 100 0 100 0 100\n",
      "El promedio de Felipe Lopez Correa es 75.00\n",
      "El promedio de Pablo Alvarado Seguel es 57.14\n"
     ]
    }
   ],
   "source": [
    "# Solución\n",
    "# Guardar datos\n",
    "N = int(raw_input(\"Numero de alumnos: \"))\n",
    "notas_alumnos = []\n",
    "for i in range(N):\n",
    "    nombre = raw_input(\"Nombre alumno {0}:\".format(i+1))\n",
    "    nombre_pila = nombre.split(\" \")[0]\n",
    "    notas_str = raw_input(\"Ingrese las notas de {0}: \".format(nombre_pila))\n",
    "    notas_int = []\n",
    "    for nota in notas_str.split(\" \"):\n",
    "        notas_int.append(int(nota))\n",
    "    promedio = sum(notas_int)/float(len(notas_int))\n",
    "    notas_alumnos.append( (nombre_pila, promedio) )\n",
    "\n",
    "# Imprimir promedios\n",
    "for nombre, promedio in notas_alumnos:\n",
    "    print \"El promedio de {0} es {1:.2f}\".format(nombre, promedio)"
   ]
  },
  {
   "cell_type": "markdown",
   "metadata": {
    "collapsed": true,
    "slideshow": {
     "slide_type": "slide"
    }
   },
   "source": [
    "#### Procesamiento de texto\n",
    "## Procesamiento de ADN\n",
    "Una cadena de ADN es una secuencia de bases nitrogenadas llamadas adenina, citosina, timina y guanina.\n",
    "En un programa, una cadena se representa como un string de caracteres 'a', 'c', 't' y 'g'.\n",
    "A cada cadena, le corresponde una cadena complementaria, que se obtiene intercambiando las adeninas con las timinas, y las citosinas con las guaninas:\n",
    "\n",
    "    cadena = 'cagcccatgaggcagggtg'\n",
    "    complemento = 'gtcgggtactccgtcccac'"
   ]
  },
  {
   "cell_type": "markdown",
   "metadata": {
    "collapsed": true,
    "slideshow": {
     "slide_type": "slide"
    }
   },
   "source": [
    "#### Procesamiento de ADN\n",
    "## 1.1 Procesamiento de ADN: Secuencia aleatoria\n",
    "\n",
    "Escriba la función ***cadena_al_azar(n)*** que genere una cadena aleatoria de ADN de largo n:\n",
    "\n",
    "Ejemplo de uso:\n",
    "\n",
    "    cadena_al_azar(10) \n",
    "    puede regresar 'acgtccgcct', 'tgttcgcatt', etc.\n",
    "\n",
    "Pista:\n",
    "\n",
    "    from random import choice\n",
    "\n",
    "choice('atcg') regresa al azar una de las letras de \"atcg\""
   ]
  },
  {
   "cell_type": "markdown",
   "metadata": {
    "collapsed": true,
    "slideshow": {
     "slide_type": "slide"
    }
   },
   "source": [
    "#### Procesamiento de ADN\n",
    "## 1.1 Secuencia aleatoria: Análisis\n",
    "\n",
    "¿Que tareas son necesarias?"
   ]
  },
  {
   "cell_type": "code",
   "execution_count": 57,
   "metadata": {
    "collapsed": false
   },
   "outputs": [
    {
     "name": "stdout",
     "output_type": "stream",
     "text": [
      "g\n",
      "g\n",
      "g\n",
      "t\n",
      "tgaccggacg\n",
      "tacccacact\n",
      "aagcatccga\n",
      "tccattcgga\n"
     ]
    }
   ],
   "source": [
    "# Definicion de funcion\n",
    "from random import choice\n",
    "def cadena_al_azar(n):\n",
    "    bases_n=''\n",
    "    for i in range(n):\n",
    "        base=choice('atgc')\n",
    "        bases_n+=base\n",
    "    return bases_n\n",
    "\n",
    "# Casos de uso\n",
    "print cadena_al_azar(1)\n",
    "print cadena_al_azar(1)\n",
    "print cadena_al_azar(1)\n",
    "print cadena_al_azar(1)\n",
    "print cadena_al_azar(10)\n",
    "print cadena_al_azar(10)\n",
    "print cadena_al_azar(10)\n",
    "print cadena_al_azar(10)"
   ]
  },
  {
   "cell_type": "markdown",
   "metadata": {
    "collapsed": true,
    "slideshow": {
     "slide_type": "slide"
    }
   },
   "source": [
    "#### Procesamiento de ADN\n",
    "## 1.1 Solución Secuencia aleatoria v1"
   ]
  },
  {
   "cell_type": "code",
   "execution_count": null,
   "metadata": {
    "collapsed": false
   },
   "outputs": [],
   "source": [
    "from random import choice\n",
    "\n",
    "# Definicion de funcion\n",
    "def cadena_al_azar(n):\n",
    "    adn = \"\"\n",
    "    for i in range(n):\n",
    "        adn += choice(\"acgt\")\n",
    "    return adn\n",
    "\n",
    "# Casos de uso\n",
    "print cadena_al_azar(1)\n",
    "print cadena_al_azar(1)\n",
    "print cadena_al_azar(1)\n",
    "print cadena_al_azar(1)\n",
    "print cadena_al_azar(10)\n",
    "print cadena_al_azar(10)\n",
    "print cadena_al_azar(10)\n",
    "print cadena_al_azar(10)"
   ]
  },
  {
   "cell_type": "markdown",
   "metadata": {
    "collapsed": true,
    "slideshow": {
     "slide_type": "slide"
    }
   },
   "source": [
    "#### Procesamiento de ADN\n",
    "## 1.1 Solución Secuencia aleatoria v2"
   ]
  },
  {
   "cell_type": "code",
   "execution_count": null,
   "metadata": {
    "collapsed": false
   },
   "outputs": [],
   "source": [
    "from random import choice\n",
    "\n",
    "# Definicion de funcion\n",
    "def cadena_al_azar(n):\n",
    "    bases = []\n",
    "    for i in range(n):\n",
    "        bases.append(choice(\"acgt\"))\n",
    "    adn = \"\".join(bases)\n",
    "    return adn\n",
    "\n",
    "# Casos de uso\n",
    "print cadena_al_azar(1)\n",
    "print cadena_al_azar(1)\n",
    "print cadena_al_azar(1)\n",
    "print cadena_al_azar(1)\n",
    "print cadena_al_azar(10)\n",
    "print cadena_al_azar(10)\n",
    "print cadena_al_azar(10)\n",
    "print cadena_al_azar(10)"
   ]
  },
  {
   "cell_type": "markdown",
   "metadata": {
    "collapsed": true,
    "slideshow": {
     "slide_type": "slide"
    }
   },
   "source": [
    "\n",
    "#### Procesamiento de texto\n",
    "## Procesamiento de ADN: Secuencia complementaria\n",
    "\n",
    "Escriba la `función complementaria(s)` que regrese la  cadena complementaria de c: el complementario de \"a\" es \"t\" (y viceversa), y el complementario de \"c\" es \"g\" (y viceversa).\n",
    "\n",
    "```Python\n",
    "    cadena = 'cagcccatgaggcagggtg'\n",
    "    print complementaria(cadena)\n",
    "    'gtcgggtactccgtcccac'\n",
    "```    "
   ]
  },
  {
   "cell_type": "markdown",
   "metadata": {
    "collapsed": true,
    "slideshow": {
     "slide_type": "slide"
    }
   },
   "source": [
    "\n",
    "#### Procesamiento de texto\n",
    "## Procesamiento de ADN: Secuencia complementaria\n",
    "\n",
    "¿Tareas?"
   ]
  },
  {
   "cell_type": "code",
   "execution_count": null,
   "metadata": {
    "collapsed": true
   },
   "outputs": [],
   "source": [
    "# Solucion estudiantes\n",
    "def cadena_(n):\n",
    "    adn = \"\"\n",
    "    for i in range(n):\n",
    "        adn += choice(\"acgt\")\n",
    "    return adn"
   ]
  },
  {
   "cell_type": "markdown",
   "metadata": {
    "collapsed": true,
    "slideshow": {
     "slide_type": "slide"
    }
   },
   "source": [
    "\n",
    "#### Procesamiento de texto\n",
    "## Solución Secuencia complementaria v1"
   ]
  },
  {
   "cell_type": "code",
   "execution_count": 58,
   "metadata": {
    "collapsed": false
   },
   "outputs": [
    {
     "name": "stdout",
     "output_type": "stream",
     "text": [
      "ttttagtgcttcagaatgtc\n",
      "aaaatcacgaagtcttacag\n"
     ]
    }
   ],
   "source": [
    "def complementaria(adn):\n",
    "    rna = \"\"\n",
    "    for base in adn:\n",
    "        if base==\"a\":\n",
    "            rna += \"t\"\n",
    "        elif base==\"t\":\n",
    "            rna += \"a\"\n",
    "        elif base==\"c\":\n",
    "            rna += \"g\"\n",
    "        else:\n",
    "            rna += \"c\"\n",
    "    return rna\n",
    "\n",
    "adn = cadena_al_azar(20)\n",
    "print adn\n",
    "print complementaria(adn)"
   ]
  },
  {
   "cell_type": "markdown",
   "metadata": {
    "collapsed": true,
    "slideshow": {
     "slide_type": "slide"
    }
   },
   "source": [
    "\n",
    "#### Procesamiento de texto\n",
    "## Solución Secuencia complementaria v2"
   ]
  },
  {
   "cell_type": "code",
   "execution_count": 59,
   "metadata": {
    "collapsed": false
   },
   "outputs": [
    {
     "name": "stdout",
     "output_type": "stream",
     "text": [
      "atccttcaaaaactcctagc\n",
      "taggaagtttttgaggatcg\n"
     ]
    }
   ],
   "source": [
    "def complementaria(adn):\n",
    "    pares = {\"a\":\"t\", \"t\":\"a\", \"c\":\"g\", \"g\":\"c\"}\n",
    "    rna = \"\"\n",
    "    for base in adn:\n",
    "        rna += pares[base]\n",
    "    return rna\n",
    "\n",
    "adn = cadena_al_azar(20)\n",
    "print adn\n",
    "print complementaria(adn)"
   ]
  },
  {
   "cell_type": "markdown",
   "metadata": {
    "collapsed": true,
    "slideshow": {
     "slide_type": "slide"
    }
   },
   "source": [
    "\n",
    "#### Procesamiento de texto\n",
    "## Solución Secuencia complementaria v3"
   ]
  },
  {
   "cell_type": "code",
   "execution_count": 60,
   "metadata": {
    "collapsed": false
   },
   "outputs": [
    {
     "name": "stdout",
     "output_type": "stream",
     "text": [
      "caactcatagcttgtcatgg\n",
      "gttgagtatcgaacagtacc\n"
     ]
    }
   ],
   "source": [
    "def complementaria(adn):\n",
    "    rna = adn.replace(\"a\",\"T\").replace(\"t\",\"A\").replace(\"c\",\"G\").replace(\"g\",\"C\")\n",
    "    return rna.lower()\n",
    "\n",
    "adn = cadena_al_azar(20)\n",
    "print adn\n",
    "print complementaria(adn)"
   ]
  },
  {
   "cell_type": "markdown",
   "metadata": {
    "collapsed": true,
    "slideshow": {
     "slide_type": "slide"
    }
   },
   "source": [
    "#### Procesamiento de texto\n",
    "## Digitos no presentes\n",
    "\n",
    "Dado un string con dígitos, indique que digitos no estan presentes (en orden).\n",
    "\n",
    "INPUT:\n",
    "    \n",
    "    13579\n",
    "    3210\n",
    "\n",
    "OUTPUT:\n",
    "\n",
    "    02468\n",
    "    456789"
   ]
  },
  {
   "cell_type": "code",
   "execution_count": null,
   "metadata": {
    "collapsed": true
   },
   "outputs": [],
   "source": []
  }
 ],
 "metadata": {
  "celltoolbar": "Slideshow",
  "kernelspec": {
   "display_name": "Python 2",
   "language": "python",
   "name": "python2"
  },
  "language_info": {
   "codemirror_mode": {
    "name": "ipython",
    "version": 2
   },
   "file_extension": ".py",
   "mimetype": "text/x-python",
   "name": "python",
   "nbconvert_exporter": "python",
   "pygments_lexer": "ipython2",
   "version": "2.7.6"
  }
 },
 "nbformat": 4,
 "nbformat_minor": 0
}
