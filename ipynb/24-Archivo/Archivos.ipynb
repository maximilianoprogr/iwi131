{
 "cells": [
  {
   "cell_type": "code",
   "execution_count": 1,
   "metadata": {
    "collapsed": false,
    "slideshow": {
     "slide_type": "skip"
    }
   },
   "outputs": [
    {
     "data": {
      "text/html": [
       "<style>\n",
       "\n",
       ".reveal {\n",
       "overflow: visible;\n",
       "}\n",
       "\n",
       "/*********************************************\n",
       " * COLORS FOR EXAMPLES\n",
       " *********************************************/\n",
       "em {color: #800000;}\n",
       "span.good {color: #008000;}\n",
       "span.warning {color: #808000;}\n",
       "span.bad {color: #800000;}\n",
       "\n",
       "/*********************************************\n",
       " * GLOBAL STYLES\n",
       " *********************************************/\n",
       ".reveal h1 {color: #000000; text-shadow: 0px 0px 6px rgba(0, 0, 0, 0.2);}\n",
       ".reveal h2 {color: #222222; text-shadow: 0px 0px 5px rgba(0, 0, 0, 0.2);}\n",
       ".reveal h3 {color: #444444; text-shadow: 0px 0px 4px rgba(0, 0, 0, 0.2);}\n",
       ".reveal h4 {color: #666666; text-shadow: 0px 0px 3px rgba(0, 0, 0, 0.2);}\n",
       ".reveal h5 {color: #888888; text-shadow: 0px 0px 2px rgba(0, 0, 0, 0.2);}\n",
       ".reveal h6 {color: #AAAAAA; text-shadow: 0px 0px 1px rgba(0, 0, 0, 0.2);}\n",
       "\n",
       "/*********************************************\n",
       " * IMAGES\n",
       " *********************************************/\n",
       ".reveal section img { margin-left:auto; margin-right:auto;}\n",
       "\n",
       "</style>\n"
      ],
      "text/plain": [
       "<IPython.core.display.HTML object>"
      ]
     },
     "execution_count": 1,
     "metadata": {},
     "output_type": "execute_result"
    }
   ],
   "source": [
    "\"\"\"\n",
    "IPython Notebook v4.0 para python 2.7\n",
    "Librerías adicionales: Ninguna.\n",
    "Contenido bajo licencia CC-BY 4.0. Código bajo licencia MIT. (c) Sebastian Flores.\n",
    "\"\"\"\n",
    "\n",
    "# Configuracion para recargar módulos y librerías \n",
    "%reload_ext autoreload\n",
    "%autoreload 2\n",
    "\n",
    "from IPython.core.display import HTML\n",
    "\n",
    "HTML(open(\"style/iwi131.css\", \"r\").read())"
   ]
  },
  {
   "cell_type": "markdown",
   "metadata": {
    "slideshow": {
     "slide_type": "slide"
    }
   },
   "source": [
    "<header class=\"w3-container w3-teal\">\n",
    "<img src=\"images/utfsm.png\" alt=\"\" align=\"left\"/>\n",
    "<img src=\"images/inf.png\" alt=\"\" align=\"right\"/>\n",
    "</header>\n",
    "<br/><br/><br/><br/><br/>\n",
    "# IWI131\n",
    "## Programación de Computadores\n",
    "\n",
    "### Sebastián Flores\n",
    "\n",
    "http://progra.usm.cl/ \n",
    "\n",
    "https://www.github.com/usantamaria/iwi131\n"
   ]
  },
  {
   "cell_type": "markdown",
   "metadata": {
    "slideshow": {
     "slide_type": "slide"
    }
   },
   "source": [
    "## ¿Qué contenido aprenderemos?\n",
    "\n",
    "* Leer archivos de texto\n",
    "* Escribir un archivo de texto\n",
    "* Agregar contenido a un archivo ya existente"
   ]
  },
  {
   "cell_type": "markdown",
   "metadata": {
    "slideshow": {
     "slide_type": "slide"
    }
   },
   "source": [
    "## ¿Porqué aprenderemos ese contenido?\n",
    "\n",
    "* Leer archivos de texto\n",
    "* Escribir un archivo de texto\n",
    "* Agregar contenido a un archivo ya existente\n",
    "Read, Write y Append son las 3 acciones necesarias para trabajar con archivos de datos, tarea altamente habitual en el mundo real."
   ]
  },
  {
   "cell_type": "markdown",
   "metadata": {
    "slideshow": {
     "slide_type": "slide"
    }
   },
   "source": [
    "## Motivación\n",
    "\n",
    "¿Cómo podriamos hacer un programa que contara?\n",
    "* Número de letras\n",
    "* Número de palabras\n",
    "* Número de líneas"
   ]
  },
  {
   "cell_type": "markdown",
   "metadata": {
    "slideshow": {
     "slide_type": "slide"
    }
   },
   "source": [
    "## Archivo de ejemplo\n",
    "\n",
    "En la carpeta ***data/*** existe el archivo ***quijjote.txt*** que tiene el siguiente contenido:\n",
    "\n",
    "    En un lugar de la Mancha\n",
    "    de cuyo nombre no quiero acordarme\n",
    "    no ha mucho tiempo que vivia un hidalgo\n",
    "    de los de lanza en astillero\n",
    "    adarga antigua, rocin flaco y galgo corredor.\n",
    "\n",
    "Procesaremos este archivo como ejemplo."
   ]
  },
  {
   "cell_type": "markdown",
   "metadata": {
    "slideshow": {
     "slide_type": "slide"
    }
   },
   "source": [
    "## 1. Lectura de archivo\n",
    "\n",
    "Para abrir un archivo ***para lectura*** utilizamos el método ***open*** \n",
    "\n",
    "    open(string_con_direccion_al_archivo)\n",
    "    \n",
    "o bien\n",
    "\n",
    "    open(string_con_direccion_al_archivo, \"r\")\n",
    "\n",
    "donde el caracter \"r\" se indica por read."
   ]
  },
  {
   "cell_type": "code",
   "execution_count": 3,
   "metadata": {
    "collapsed": false
   },
   "outputs": [
    {
     "name": "stdout",
     "output_type": "stream",
     "text": [
      "En un lugar de la Mancha\n",
      "\n",
      "de cuyo nombre no quiero acordarme\n",
      "\n",
      "no ha mucho tiempo que vivia un hidalgo\n",
      "\n",
      "de los de lanza en astillero\n",
      "\n",
      "adarga antigua, rocin flaco y galgo corredor.\n",
      "\n"
     ]
    }
   ],
   "source": [
    "# Abrir el archivo\n",
    "archivo = open('data/quijote.txt')\n",
    "# Leer linea a linea, como si fuera una lista de lineas\n",
    "for linea in archivo:\n",
    "    print linea\n",
    "# Cerrar el archivo \n",
    "archivo.close()"
   ]
  },
  {
   "cell_type": "markdown",
   "metadata": {
    "slideshow": {
     "slide_type": "slide"
    }
   },
   "source": [
    "## 2. Escritura de archivo\n",
    "\n",
    "Para abrir un archivo ***para escritura*** utilizamos el mismo metodo ***open*** pero con un caracter adicional *\"w\"* (write).\n",
    "\n",
    "    open(string_con_direccion_al_archivo, \"w\")\n",
    "    \n",
    "Luego le agregamos con el metodo ***write***.\n",
    "\n",
    "    write(string_a_escribir_en_archivo)\n",
    "   \n",
    "OBS: Es necesario indicar los saltos de línea con \"\\n\" de manera explícita. De lo contrario, seguiremos escribiendo siempre en la misma línea."
   ]
  },
  {
   "cell_type": "code",
   "execution_count": null,
   "metadata": {
    "collapsed": true
   },
   "outputs": [],
   "source": [
    "archivo = open('QUIJOTE.txt', 'w')\n",
    "archivo.write('En un lugar de La Mancha\\n'.upper())\n",
    "archivo.write('de cuyo nombre '.upper())\n",
    "archivo.write('no quiero acordarme\\n'.upper())\n",
    "archivo.write('no ha mucho tiempo '.upper())\n",
    "archivo.write('que vivia un hidalgo\\n'.upper())\n",
    "archivo.close()"
   ]
  },
  {
   "cell_type": "markdown",
   "metadata": {
    "slideshow": {
     "slide_type": "slide"
    }
   },
   "source": [
    "## 3. Anexar contenido a un archivo\n",
    "\n",
    "Para abrir un archivo ***para agregar contenido*** a un archivo ya existente utilizamos el mismo metodo ***open*** pero con un caracter adicional *\"a\"* (append).\n",
    "\n",
    "    open(string_con_direccion_al_archivo, \"a\")\n",
    "    \n",
    "Luego le agregamos con el metodo ***write***.\n",
    "\n",
    "    write(string_a_escribir_en_archivo)\n",
    "   \n",
    "**OBS**: Es necesario indicar los saltos de línea con \"\\n\" de manera explícita. De lo contrario, seguiremos escribiendo siempre en la misma línea."
   ]
  },
  {
   "cell_type": "code",
   "execution_count": 4,
   "metadata": {
    "collapsed": true
   },
   "outputs": [],
   "source": [
    "archivo = open('QUUJOTE.txt', 'a')\n",
    "archivo.write('de los de lanza en astillero\\n'.upper())\n",
    "archivo.write('adarga antigua, rocin flaco '.upper())\n",
    "archivo.write('y galgo corredor.\\n'.upper())\n",
    "archivo.close()"
   ]
  },
  {
   "cell_type": "markdown",
   "metadata": {
    "slideshow": {
     "slide_type": "slide"
    }
   },
   "source": [
    "## Ejercicio 1: Motivación\n",
    "\n",
    "¿Cómo podriamos hacer un programa que contara?\n",
    "* Número de letras\n",
    "* Número de palabras\n",
    "* Número de líneas"
   ]
  },
  {
   "cell_type": "markdown",
   "metadata": {
    "slideshow": {
     "slide_type": "slide"
    }
   },
   "source": [
    "## Ejercicio 1: Motivación: Análisis\n",
    "\n",
    "¿Que tareas son necesarias?"
   ]
  },
  {
   "cell_type": "code",
   "execution_count": null,
   "metadata": {
    "collapsed": true
   },
   "outputs": [],
   "source": []
  },
  {
   "cell_type": "markdown",
   "metadata": {
    "slideshow": {
     "slide_type": "slide"
    }
   },
   "source": [
    "## Ejercicio 1: Solución\n"
   ]
  },
  {
   "cell_type": "code",
   "execution_count": 12,
   "metadata": {
    "collapsed": false
   },
   "outputs": [
    {
     "name": "stdout",
     "output_type": "stream",
     "text": [
      "El archivo data/quijote.txt tiene 5 lineas, 175 caracteres y 33 palabras\n",
      "El archivo data/alumnos.txt tiene 1 lineas, 23 caracteres y 1 palabras\n"
     ]
    }
   ],
   "source": [
    "def contar(path_al_archivo):\n",
    "    archivo = open(path_al_archivo)\n",
    "    n_lineas = 0\n",
    "    n_caracteres = 0\n",
    "    palabras = {}\n",
    "    for linea in archivo:\n",
    "        # Contar lineas\n",
    "        n_lineas += 1\n",
    "        # Agregar palabras\n",
    "        for p in linea.split():\n",
    "            if p in palabras:\n",
    "                palabras[p] += 1\n",
    "            else:\n",
    "                palabras[p] = 1\n",
    "        # Contar caracteres\n",
    "        n_caracteres += len(linea)\n",
    "    # Contar las palabras\n",
    "    n_palabras = sum(palabras.values())\n",
    "    \n",
    "    return n_lineas, n_caracteres, n_palabras\n",
    "\n",
    "template = \"El archivo {0} tiene {1} lineas, {2} caracteres y {3} palabras\"\n",
    "\n",
    "mi_archivo = \"data/quijote.txt\"\n",
    "l,c,p = contar(mi_archivo)\n",
    "print template.format(mi_archivo, l, c, p)\n",
    "\n",
    "mi_archivo = \"data/alumnos.txt\"\n",
    "l,c,p = contar(mi_archivo)\n",
    "print template.format(mi_archivo, l, c, p)"
   ]
  },
  {
   "cell_type": "markdown",
   "metadata": {
    "slideshow": {
     "slide_type": "slide"
    }
   },
   "source": [
    "## Archivo de ejemplo\n",
    "\n",
    "En la carpeta ***data/*** existe el archivo ***alumnos.txt*** que tiene el siguiente contenido:\n",
    "\n",
    "    Esteban:Gutierrez:49:18:32\n",
    "    Luisa:Miranda:68:44:99\n",
    "    Jean Paul:Munoz:48:38:81\n",
    "    Gianfranco:Basso:54:54:50\n",
    "    Romina:Smith:100:98:92\n",
    "\n",
    "Procesaremos este nuevo archivo como ejemplo. Este archivo tiene la dificultad que los datos están separados por \":\"."
   ]
  },
  {
   "cell_type": "markdown",
   "metadata": {
    "slideshow": {
     "slide_type": "slide"
    }
   },
   "source": [
    "## Leer y escribir archivos con separador\n",
    "\n",
    "El procesamiento de archivos con separador es tan simple como utilizar el método apropiado:\n",
    "\n",
    "    linea.strip().split(\":\")\n",
    "    \n",
    "Donde obviamente necesitamos conocer el separador de antemando.\n",
    "\n",
    "La escritura de archivos con separador requiere contar con una lista de strings, y  luego utilizar el método join de manera apropiada:\n",
    "\n",
    "    \":\".join(lista_de_valores)"
   ]
  },
  {
   "cell_type": "markdown",
   "metadata": {
    "slideshow": {
     "slide_type": "slide"
    }
   },
   "source": [
    "## Ejemplo: Leer archivos con separador"
   ]
  },
  {
   "cell_type": "code",
   "execution_count": 23,
   "metadata": {
    "collapsed": false
   },
   "outputs": [
    {
     "name": "stdout",
     "output_type": "stream",
     "text": [
      "Esteban [49, 18, 32]\n",
      "Luisa [68, 44, 99]\n",
      "Jean Paul [48, 38, 81]\n",
      "Gianfranco [54, 54, 50]\n",
      "Romina [100, 98, 92]\n"
     ]
    }
   ],
   "source": [
    "archivo = open('data/alumnos.txt')\n",
    "for linea in archivo:\n",
    "    valores = linea.strip().split(':')\n",
    "    nombres = valores[0:2]\n",
    "    notas = map(int, valores[2:5])\n",
    "    print nombres[0], notas\n",
    "archivo.close()"
   ]
  },
  {
   "cell_type": "markdown",
   "metadata": {
    "slideshow": {
     "slide_type": "slide"
    }
   },
   "source": [
    "## Ejemplo: Escribir archivos con separador"
   ]
  },
  {
   "cell_type": "code",
   "execution_count": 22,
   "metadata": {
    "collapsed": false
   },
   "outputs": [],
   "source": [
    "# Generacion de datos\n",
    "alumnos = [ (\"Esteban\",\"Gutierrez\",49,18,32),\n",
    "            (\"Luisa\",\"Miranda\",68,44,99),\n",
    "            (\"Jean Paul\",\"Munoz\",48,38,81),\n",
    "            (\"Gianfranco\",\"Basso\",54,54,50),\n",
    "            (\"Romina\",\"Smith\",100,98,92)]\n",
    "# Cerrar el archivo \n",
    "archivo = open(\"data/alumnos.txt\", 'w')\n",
    "# Crear lineas y escribirlas\n",
    "for alumno in alumnos:\n",
    "    valores = []\n",
    "    for dato in alumno:\n",
    "        valores.append(str(dato))\n",
    "    linea = ':'.join(valores) + '\\n'\n",
    "    archivo.write(linea)\n",
    "# Cerrar el archivo \n",
    "archivo.close()"
   ]
  },
  {
   "cell_type": "markdown",
   "metadata": {},
   "source": [
    "## Ejercicio 2\n",
    "\n",
    "A partir del archivo **alumnos.txt** generar 2 archivos:\n",
    "\n",
    "data/aprobados.txt\n",
    "\n",
    "    Luisa,Miranda,70\n",
    "    Jean Paul,Munoz,56\n",
    "    Romina,Smith,97\n",
    "    \n",
    "data/reprobados.txt\n",
    "\n",
    "    Esteban,Gutierrez,33\n",
    "    Gianfranco,Basso,53"
   ]
  },
  {
   "cell_type": "markdown",
   "metadata": {},
   "source": [
    "## Ejercicio 2 : Análisis\n",
    "\n",
    "¿Que tareas son necesarias ¿En que orden?"
   ]
  }
 ],
 "metadata": {
  "celltoolbar": "Slideshow",
  "kernelspec": {
   "display_name": "Python 2",
   "language": "python",
   "name": "python2"
  },
  "language_info": {
   "codemirror_mode": {
    "name": "ipython",
    "version": 2
   },
   "file_extension": ".py",
   "mimetype": "text/x-python",
   "name": "python",
   "nbconvert_exporter": "python",
   "pygments_lexer": "ipython2",
   "version": "2.7.6"
  }
 },
 "nbformat": 4,
 "nbformat_minor": 0
}
