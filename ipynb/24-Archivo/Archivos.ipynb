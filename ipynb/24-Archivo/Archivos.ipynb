{
 "cells": [
  {
   "cell_type": "code",
   "execution_count": null,
   "metadata": {
    "collapsed": false,
    "slideshow": {
     "slide_type": "skip"
    }
   },
   "outputs": [],
   "source": [
    "\"\"\"\n",
    "IPython Notebook v4.0 para python 2.7\n",
    "Librerías adicionales: Ninguna.\n",
    "Contenido bajo licencia CC-BY 4.0. Código bajo licencia MIT. (c) Sebastian Flores.\n",
    "\"\"\"\n",
    "\n",
    "# Configuracion para recargar módulos y librerías \n",
    "%reload_ext autoreload\n",
    "%autoreload 2\n",
    "\n",
    "from IPython.core.display import HTML\n",
    "\n",
    "HTML(open(\"style/iwi131.css\", \"r\").read())"
   ]
  },
  {
   "cell_type": "markdown",
   "metadata": {
    "slideshow": {
     "slide_type": "slide"
    }
   },
   "source": [
    "<header class=\"w3-container w3-teal\">\n",
    "<img src=\"images/utfsm.png\" alt=\"\" align=\"left\"/>\n",
    "<img src=\"images/inf.png\" alt=\"\" align=\"right\"/>\n",
    "</header>\n",
    "<br/><br/><br/><br/><br/>\n",
    "# IWI131\n",
    "## Programación de Computadores\n",
    "\n",
    "### Sebastián Flores\n",
    "\n",
    "http://progra.usm.cl/ \n",
    "\n",
    "https://www.github.com/usantamaria/iwi131\n"
   ]
  },
  {
   "cell_type": "markdown",
   "metadata": {
    "slideshow": {
     "slide_type": "slide"
    }
   },
   "source": [
    "## ¿Qué contenido aprenderemos?\n",
    "\n",
    "* Leer archivos de texto\n",
    "* Escribir un archivo de texto\n",
    "* Agregar contenido a un archivo ya existente"
   ]
  },
  {
   "cell_type": "markdown",
   "metadata": {
    "slideshow": {
     "slide_type": "slide"
    }
   },
   "source": [
    "## ¿Porqué aprenderemos ese contenido?\n",
    "\n",
    "* Leer archivos de texto\n",
    "* Escribir un archivo de texto\n",
    "* Agregar contenido a un archivo ya existente\n",
    "\n",
    "Read, Write y Append son las 3 acciones necesarias para trabajar con archivos de datos, tarea altamente habitual en el mundo real."
   ]
  },
  {
   "cell_type": "markdown",
   "metadata": {
    "slideshow": {
     "slide_type": "slide"
    }
   },
   "source": [
    "## Desafío de la clase anterior\n",
    "\n",
    "Desarrolle un programa que tome cualquier número e indique los dígitos que le faltan en orden."
   ]
  },
  {
   "cell_type": "code",
   "execution_count": null,
   "metadata": {
    "collapsed": false
   },
   "outputs": [],
   "source": [
    "def digitos_faltantes(numero):\n",
    "    digitos_presentes = set(list(str(numero)))\n",
    "    digitos_todos = set(map(str, range(10)))\n",
    "    digitos_que_faltan = digitos_todos - digitos_presentes\n",
    "    digitos_que_faltan = list(digitos_que_faltan)\n",
    "    digitos_que_faltan.sort()\n",
    "    return \"\".join(digitos_que_faltan)\n",
    "\n",
    "mi_numero = int(raw_input(\"Ingrese un numero: \"))\n",
    "print digitos_faltantes(mi_numero)"
   ]
  },
  {
   "cell_type": "markdown",
   "metadata": {
    "slideshow": {
     "slide_type": "slide"
    }
   },
   "source": [
    "## Motivación para Archivos de Texto\n",
    "\n",
    "¿Cómo podríamos hacer un programa que tomara un archivo y contara?\n",
    "* Número de letras\n",
    "* Número de palabras\n",
    "* Número de líneas"
   ]
  },
  {
   "cell_type": "markdown",
   "metadata": {
    "slideshow": {
     "slide_type": "slide"
    }
   },
   "source": [
    "## Archivo de ejemplo\n",
    "\n",
    "En la carpeta ***data/*** existe el archivo ***quijjote.txt*** que tiene el siguiente contenido:\n",
    "\n",
    "    En un lugar de la Mancha\n",
    "    de cuyo nombre no quiero acordarme\n",
    "    no ha mucho tiempo que vivia un hidalgo\n",
    "    de los de lanza en astillero\n",
    "    adarga antigua, rocin flaco y galgo corredor.\n",
    "\n",
    "Procesaremos este archivo como ejemplo."
   ]
  },
  {
   "cell_type": "markdown",
   "metadata": {
    "slideshow": {
     "slide_type": "slide"
    }
   },
   "source": [
    "## 1. Lectura de archivo\n",
    "\n",
    "Para abrir un archivo ***para lectura*** utilizamos el método ***open*** \n",
    "\n",
    "```Python\n",
    "    open(string_con_direccion_al_archivo)\n",
    "```    \n",
    "\n",
    "o bien\n",
    "\n",
    "```Python\n",
    "    open(string_con_direccion_al_archivo, \"r\")\n",
    "```\n",
    "\n",
    "donde el carácter \"r\" se indica para lectura (read).\n",
    "\n",
    "**OBS**: Cada línea vendrá con el carácter \"\\n\" de manera explícita."
   ]
  },
  {
   "cell_type": "code",
   "execution_count": null,
   "metadata": {
    "collapsed": false
   },
   "outputs": [],
   "source": [
    "# Abrir el archivo\n",
    "archivo = open('data/quijote.txt')\n",
    "# Leer linea a linea, como si fuera una lista de lineas\n",
    "for linea in archivo:\n",
    "    print linea\n",
    "# Cerrar el archivo \n",
    "archivo.close()"
   ]
  },
  {
   "cell_type": "markdown",
   "metadata": {
    "slideshow": {
     "slide_type": "slide"
    }
   },
   "source": [
    "## 2. Escritura de archivo\n",
    "\n",
    "Para abrir un archivo ***para escritura*** utilizamos el mismo metodo ***open*** pero con un carácter adicional *\"w\"* (write).\n",
    "\n",
    "```Python\n",
    "    open(string_con_direccion_al_archivo, \"w\")\n",
    "```\n",
    "\n",
    "Luego le agregamos con el metodo ***write***.\n",
    "\n",
    "```Python\n",
    "    write(string_a_escribir_en_archivo)\n",
    "```\n",
    "   \n",
    "***OBS: Es necesario indicar los saltos de línea con \"\\n\" de manera explícita. De lo contrario, seguiremos escribiendo siempre en la misma línea.***"
   ]
  },
  {
   "cell_type": "code",
   "execution_count": null,
   "metadata": {
    "collapsed": true
   },
   "outputs": [],
   "source": [
    "archivo = open('QUIJOTE.txt', 'w')\n",
    "archivo.write('En un lugar de La Mancha\\n'.upper())\n",
    "archivo.write('de cuyo nombre'.upper())\n",
    "archivo.write('no quiero acordarme\\n'.upper())\n",
    "archivo.write('no ha mucho tiempo'.upper())\n",
    "archivo.write('que vivia un hidalgo\\n'.upper())\n",
    "archivo.close()"
   ]
  },
  {
   "cell_type": "markdown",
   "metadata": {
    "slideshow": {
     "slide_type": "slide"
    }
   },
   "source": [
    "#### 2. Escritura de archivo\n",
    "\n",
    "## OBSERVACION\n",
    "\n",
    "Los archivos quedan por defecto en el directorio en el cual se ejecuta el archivo python (o de donde se lanzó python).\n",
    "\n",
    "```Python\n",
    "archivo = open('QUIJOTE.txt', 'w')\n",
    "```\n",
    "\n",
    "es distinto a \n",
    "\n",
    "```Python\n",
    "archivo = open('mi_carpeta/QUIJOTE.txt', 'w')\n",
    "```\n",
    "\n",
    "y es distinto a \n",
    "\n",
    "```Python\n",
    "archivo = open('mi_carpeta\\QUIJOTE.txt', 'w')\n",
    "```"
   ]
  },
  {
   "cell_type": "markdown",
   "metadata": {
    "slideshow": {
     "slide_type": "slide"
    }
   },
   "source": [
    "## 3. Anexar contenido a un archivo\n",
    "\n",
    "Para abrir un archivo ***para agregar contenido*** a un archivo ya existente utilizamos el método ***open*** pero con un caracter adicional *\"a\"* (append).\n",
    "\n",
    "    open(string_con_direccion_al_archivo, \"a\")\n",
    "    \n",
    "Luego le agregamos líneas con el método ***write***.\n",
    "\n",
    "    write(string_a_escribir_en_archivo)\n",
    "   \n",
    "***OBS: Es necesario indicar los saltos de línea con \"\\n\" de manera explícita. De lo contrario, seguiremos escribiendo siempre en la misma línea.***"
   ]
  },
  {
   "cell_type": "code",
   "execution_count": null,
   "metadata": {
    "collapsed": true
   },
   "outputs": [],
   "source": [
    "archivo = open('QUIJOTE.txt', 'a')\n",
    "archivo.write('de los de lanza en astillero\\n'.upper())\n",
    "archivo.write('adarga antigua, rocin flaco '.upper())\n",
    "archivo.write('y galgo corredor.\\n'.upper())\n",
    "archivo.close()"
   ]
  },
  {
   "cell_type": "markdown",
   "metadata": {
    "slideshow": {
     "slide_type": "slide"
    }
   },
   "source": [
    "## Ejercicio 1: Motivación\n",
    "\n",
    "¿Cómo podríamos hacer un programa tomara un archivo y que contara?\n",
    "* Número de letras\n",
    "* Número de palabras\n",
    "* Número de líneas"
   ]
  },
  {
   "cell_type": "markdown",
   "metadata": {
    "slideshow": {
     "slide_type": "slide"
    }
   },
   "source": [
    "## Ejercicio 1: Motivación: Análisis\n",
    "\n",
    "¿Qué tareas son necesarias?"
   ]
  },
  {
   "cell_type": "code",
   "execution_count": null,
   "metadata": {
    "collapsed": false
   },
   "outputs": [],
   "source": [
    "def contar(path_al_archivo):\n",
    "    archivo = open(path_al_archivo)\n",
    "    n_lineas, n_caracteres, n_palabras = 0, 0, 0\n",
    "    for linea in archivo:\n",
    "        pass\n",
    "    return n_lineas, n_caracteres, n_palabras\n",
    "\n",
    "template = \"El archivo {0} tiene {1} lineas, {2} caracteres y {3} palabras\"\n",
    "\n",
    "mi_archivo = \"data/quijote.txt\"\n",
    "print contar(mi_archivo)\n",
    "\n",
    "\n",
    "mi_archivo = \"data/alumnos.txt\"\n",
    "print contar(mi_archivo)"
   ]
  },
  {
   "cell_type": "markdown",
   "metadata": {
    "slideshow": {
     "slide_type": "slide"
    }
   },
   "source": [
    "## Ejercicio 1: Solución\n"
   ]
  },
  {
   "cell_type": "code",
   "execution_count": null,
   "metadata": {
    "collapsed": false
   },
   "outputs": [],
   "source": [
    "def contar(path_al_archivo):\n",
    "    archivo = open(path_al_archivo)\n",
    "    n_lineas = 0\n",
    "    n_caracteres = 0\n",
    "    n_palabras = 0\n",
    "    for linea in archivo:\n",
    "        # Contar lineas\n",
    "        n_lineas += 1\n",
    "        # Contar palabras\n",
    "        n_palabras += len(linea.split()) \n",
    "        # Contar caracteres\n",
    "        n_caracteres += len(linea)\n",
    "    \n",
    "    return n_lineas, n_caracteres, n_palabras\n",
    "\n",
    "template = \"El archivo {0} tiene {1} lineas, {2} caracteres y {3} palabras\"\n",
    "\n",
    "mi_archivo = \"data/quijote.txt\"\n",
    "l,c,p = contar(mi_archivo)\n",
    "print template.format(mi_archivo, l, c, p)\n",
    "\n",
    "mi_archivo = \"data/alumnos.txt\"\n",
    "l,c,p = contar(mi_archivo)\n",
    "print template.format(mi_archivo, l, c, p)"
   ]
  },
  {
   "cell_type": "markdown",
   "metadata": {
    "slideshow": {
     "slide_type": "slide"
    }
   },
   "source": [
    "## Archivo de ejemplo\n",
    "\n",
    "En la carpeta ***data/*** existe el archivo ***alumnos.txt*** que tiene el siguiente contenido:\n",
    "\n",
    "    Esteban:Gutierrez:49:18:32\n",
    "    Luisa:Miranda:68:44:99\n",
    "    Jean Paul:Munoz:48:38:81\n",
    "    Gianfranco:Basso:54:54:50\n",
    "    Romina:Smith:100:98:92\n",
    "\n",
    "Se nos pide procesar este nuevo archivo.\n",
    "\n",
    "Este archivo tiene la dificultad que los datos están separados por **\":\"**.\n",
    "\n",
    "**OBS**: ¿Porqué es necesario utilizar el separador **:**?"
   ]
  },
  {
   "cell_type": "markdown",
   "metadata": {
    "slideshow": {
     "slide_type": "slide"
    }
   },
   "source": [
    "## Leer y escribir archivos con separador\n",
    "\n",
    "El procesamiento de archivos con separador es tan simple como utilizar el método apropiado:\n",
    "\n",
    "    linea.split(\":\")\n",
    "    \n",
    "Donde obviamente necesitamos conocer el separador de antemando.\n",
    "\n",
    "La escritura de archivos con separador requiere contar con una lista de strings, y  luego utilizar el método join de manera apropiada:\n",
    "\n",
    "    \":\".join(lista_de_strings)"
   ]
  },
  {
   "cell_type": "markdown",
   "metadata": {
    "slideshow": {
     "slide_type": "slide"
    }
   },
   "source": [
    "## Ejemplo: Leer archivos con separador"
   ]
  },
  {
   "cell_type": "code",
   "execution_count": null,
   "metadata": {
    "collapsed": false
   },
   "outputs": [],
   "source": [
    "archivo = open('data/alumnos.txt')\n",
    "for linea in archivo:\n",
    "    valores = linea.split(':')\n",
    "    nombres = valores[0:2]\n",
    "    notas = map(int, valores[2:5])\n",
    "    print nombres[0], notas\n",
    "archivo.close()"
   ]
  },
  {
   "cell_type": "markdown",
   "metadata": {
    "slideshow": {
     "slide_type": "slide"
    }
   },
   "source": [
    "## Ejemplo: Escribir archivos con separador"
   ]
  },
  {
   "cell_type": "code",
   "execution_count": null,
   "metadata": {
    "collapsed": false
   },
   "outputs": [],
   "source": [
    "# Generacion de datos\n",
    "alumnos = [ (\"Esteban\",\"Gutierrez\",49,18,32),\n",
    "            (\"Luisa\",\"Miranda\",68,44,99),\n",
    "            (\"Jean Paul\",\"Munoz\",48,38,81),\n",
    "            (\"Gianfranco\",\"Basso\",54,54,50),\n",
    "            (\"Romina\",\"Smith\",100,98,92)]\n",
    "# Cerrar el archivo \n",
    "archivo = open(\"data/alumnos.txt\", 'w')\n",
    "# Crear lineas y escribirlas\n",
    "for alumno in alumnos:\n",
    "    valores = []\n",
    "    for dato in alumno:\n",
    "        valores.append(str(dato))\n",
    "    linea = ':'.join(valores) + '\\n'\n",
    "    archivo.write(linea)\n",
    "# Cerrar el archivo \n",
    "archivo.close()"
   ]
  },
  {
   "cell_type": "markdown",
   "metadata": {},
   "source": [
    "## Ejercicio 2\n",
    "\n",
    "A partir del archivo **alumnos.txt** generar 2 archivos:\n",
    "\n",
    "data/aprobados.txt\n",
    "\n",
    "    Luisa,Miranda,70\n",
    "    Jean Paul,Munoz,56\n",
    "    Romina,Smith,97\n",
    "    \n",
    "data/reprobados.txt\n",
    "\n",
    "    Esteban,Gutierrez,33\n",
    "    Gianfranco,Basso,53"
   ]
  },
  {
   "cell_type": "markdown",
   "metadata": {},
   "source": [
    "## Ejercicio 2 : Análisis\n",
    "\n",
    "¿Que tareas son necesarias? ¿En cuál orden?"
   ]
  },
  {
   "cell_type": "code",
   "execution_count": null,
   "metadata": {
    "collapsed": false
   },
   "outputs": [],
   "source": [
    "# Ejemplo de lectura a modificar\n",
    "archivo = open('data/alumnos.txt')\n",
    "for linea in archivo:\n",
    "    valores = linea.strip().split(':')\n",
    "    nombres = valores[0:2]\n",
    "    notas = map(int, valores[2:5])\n",
    "    print nombres[0], notas\n",
    "    \n",
    "archivo.close()"
   ]
  },
  {
   "cell_type": "markdown",
   "metadata": {},
   "source": [
    "## Ejercicio 2 : Solución\n",
    "\n",
    "¿Qué tareas son necesarias?\n",
    "* Leer archivo de alumnos\n",
    "* Procesar nombres y notas\n",
    "* Calcular promedio de notas\n",
    "* Calcular promedio final (redondeo)\n",
    "* Crear la linea a escribir\n",
    "* Escribir en el archivo apropiado"
   ]
  },
  {
   "cell_type": "code",
   "execution_count": null,
   "metadata": {
    "collapsed": false,
    "slideshow": {
     "slide_type": "slide"
    }
   },
   "outputs": [],
   "source": [
    "archivo = open('data/alumnos.txt')\n",
    "aprobados = open('data/aprobados.txt',\"w\")\n",
    "reprobados = open('data/reprobados.txt',\"w\")\n",
    "template = \"{0},{1},{2}\\n\"\n",
    "for linea in archivo:\n",
    "    valores = linea.strip().split(':')\n",
    "    nombres = valores[0:2]\n",
    "    notas = map(int, valores[2:5])\n",
    "    promedio = sum(notas)/float(len(notas))\n",
    "    promedio_final = int(round(promedio))\n",
    "    nueva_linea = template.format(nombres[0], nombres[1], promedio_final)\n",
    "    if promedio_final>=55:\n",
    "        aprobados.write(nueva_linea)\n",
    "    else:\n",
    "        reprobados.write(nueva_linea)\n",
    "archivo.close()\n",
    "aprobados.close()\n",
    "reprobados.close()"
   ]
  },
  {
   "cell_type": "markdown",
   "metadata": {
    "slideshow": {
     "slide_type": "slide"
    }
   },
   "source": [
    "## Ejercicio de Certamen: CR, CC, 2012-S2\n",
    "\n",
    "[ 35 % ] Los subtítulos de una película son archivos de texto plano que tiene un formato especial\n",
    "para que cualquier reproductor multimedia pueda mostrarlos durante la reproducción de una  película. \n",
    "El nombre de este tipo de archivos tiene el formato `nombre_archivo.srt`.\n",
    "\n",
    "\n",
    "El formato que tiene este tipo de archivo es: identificación del subtítulo (como Sx, donde x es el número\n",
    "del subtítulo), tiempo de inicio y fin (expresado en hora:minutos:segundos,milisegundos, el texto del subtítulo,\n",
    "una línea en blanco y luego se repite el formato para cada subtítulo. \n",
    "\n",
    "Observe el archivo de ejemplo los_simpsons.srt.\n",
    "\n",
    "```\n",
    "S1\n",
    "00:00:20,000 --> 00:00:24,400\n",
    "Te voy a pillar Bart\n",
    "\n",
    "S2\n",
    "00:00:24,100 --> 00:00:27,800\n",
    "Maldito demonio\n",
    "\n",
    "S3\n",
    "00:00:29,100 --> 00:00:30,651\n",
    "No Homero ... grrr\n",
    "\n",
    "```\n",
    "\n",
    "\n",
    "Los subtítulos no deberían solaparse unos con otros, es decir, el tiempo final de uno no debería\n",
    "ser mayor que el tiempo inicial del siguiente subtítulo. Sin embargo, esto puede ocurrir.\n",
    "Asuma, además, que el archivo tiene muchos subtítulos.\n"
   ]
  },
  {
   "cell_type": "markdown",
   "metadata": {
    "slideshow": {
     "slide_type": "slide"
    }
   },
   "source": [
    "## Ejercicio de Certamen: CR, CC, 2012-S2\n",
    "\n",
    "(a) Escriba la función `tiempo_a_tupla(tpo)` que reciba un tiempo como texto y lo retorne como la tupla correspondiente.\n",
    "\n",
    "```Python\n",
    ">>> tiempo_a_tupla('00:00:20,000')\n",
    "(0,0,20,0)\n",
    "```\n"
   ]
  },
  {
   "cell_type": "code",
   "execution_count": null,
   "metadata": {
    "collapsed": false,
    "slideshow": {
     "slide_type": "-"
    }
   },
   "outputs": [],
   "source": [
    "# Solución\n",
    "def tiempo_a_tupla(tpo):\n",
    "    return 0\n",
    "    \n",
    "print tiempo_a_tupla('00:00:20,000')\n",
    "print tiempo_a_tupla('10:20:30,040')\n",
    "print tiempo_a_tupla('59:59:59,999')"
   ]
  },
  {
   "cell_type": "code",
   "execution_count": null,
   "metadata": {
    "collapsed": false,
    "slideshow": {
     "slide_type": "slide"
    }
   },
   "outputs": [],
   "source": [
    "# Solución\n",
    "def tiempo_a_tupla(tpo):\n",
    "    v = tpo.replace(\",\",\":\").split(\":\")\n",
    "    valores_int = (int(v[0]), int(v[1]), int(v[2]), int(v[3]))\n",
    "    return tuple(valores_int)\n",
    "    \n",
    "print tiempo_a_tupla('00:00:20,000')\n",
    "print tiempo_a_tupla('10:20:30,040')\n",
    "print tiempo_a_tupla('59:59:59,999')"
   ]
  },
  {
   "cell_type": "code",
   "execution_count": null,
   "metadata": {
    "collapsed": false,
    "slideshow": {
     "slide_type": "slide"
    }
   },
   "outputs": [],
   "source": [
    "# Solución\n",
    "def tiempo_a_tupla(tpo):\n",
    "    valores_str = tpo.replace(\",\",\":\").split(\":\")\n",
    "    valores_int = map(int, valores_str)\n",
    "    return tuple(valores_int)\n",
    "    \n",
    "print tiempo_a_tupla('00:00:20,000')\n",
    "print tiempo_a_tupla('10:20:30,040')\n",
    "print tiempo_a_tupla('59:59:59,999')"
   ]
  },
  {
   "cell_type": "code",
   "execution_count": null,
   "metadata": {
    "collapsed": false,
    "slideshow": {
     "slide_type": "slide"
    }
   },
   "outputs": [],
   "source": [
    "# Solución\n",
    "def tiempo_a_tupla(tpo):\n",
    "    return tuple(map(int, tpo.replace(\",\",\":\").split(\":\")))\n",
    "    \n",
    "print tiempo_a_tupla('00:00:20,000')\n",
    "print tiempo_a_tupla('10:20:30,040')\n",
    "print tiempo_a_tupla('59:59:59,999')"
   ]
  },
  {
   "cell_type": "markdown",
   "metadata": {
    "slideshow": {
     "slide_type": "slide"
    }
   },
   "source": [
    "## Ejercicio de Certamen: CR, CC, 2012-S2\n",
    "\n",
    "Escriba la función solapados ```solapados(nombre_archivo)``` que reciba como parámetro el nombre del archivo de subtítulos y retorne una lista de tuplas con los subtítulos solapados. Cada tupla debe indicar los 2 subtítulos solapados.\n",
    "\n",
    "```Python\n",
    ">>> solapados('los_simpsons.srt')\n",
    "[('S1', 'S2')]\n",
    "```\n",
    "\n",
    "(En el ejemplo hay sólo uno, pero podrían haber más)\n"
   ]
  },
  {
   "cell_type": "code",
   "execution_count": null,
   "metadata": {
    "collapsed": false,
    "slideshow": {
     "slide_type": "-"
    }
   },
   "outputs": [],
   "source": [
    "def solapados(nombre_archivo):\n",
    "    archivo = open(nombre_archivo)\n",
    "    lista_solapados = []\n",
    "    \n",
    "    for linea in archivo:\n",
    "        pass\n",
    "        \n",
    "    return lista_solapados\n",
    "\n",
    "solapados('data/los_simpsons.srt')\n",
    "solapados('data/The.Walking.DeadS06E01.srt')"
   ]
  },
  {
   "cell_type": "code",
   "execution_count": null,
   "metadata": {
    "collapsed": false,
    "slideshow": {
     "slide_type": "slide"
    }
   },
   "outputs": [],
   "source": [
    "def solapados(nombre_archivo):\n",
    "    archivo = open(nombre_archivo)\n",
    "    lista_solapados = []\n",
    "    i=0\n",
    "    ti_actual = (0,0,0,-1)\n",
    "    tf_actual = (0,0,0,-1)\n",
    "    S_actual = \"\"\n",
    "    for linea in archivo:\n",
    "        if i%4==0:\n",
    "            S_anterior = S_actual\n",
    "            S_actual = linea.replace(\"\\n\",\"\").replace(\"\\r\",\"\")\n",
    "        if i%4==1:\n",
    "            ti_anterior, tf_anterior = ti_actual, tf_actual\n",
    "            si_actual, sf_actual = linea.split(\"-->\")\n",
    "            ti_actual = tiempo_a_tupla(si_actual)\n",
    "            tf_actual = tiempo_a_tupla(sf_actual)\n",
    "            if ti_actual<tf_anterior:\n",
    "                lista_solapados.append((S_anterior, S_actual))\n",
    "        # Incrementar i\n",
    "        i += 1\n",
    "    return lista_solapados\n",
    "\n",
    "print solapados('data/los_simpsons.srt')\n",
    "print solapados('data/The.Walking.DeadS06E01.srt')"
   ]
  },
  {
   "cell_type": "markdown",
   "metadata": {
    "slideshow": {
     "slide_type": "slide"
    }
   },
   "source": [
    "## Ejercicio de Certamen: CR, CC, 2012-S2\n",
    "\n",
    "(c) Los subtítulos son una buena fuente para extraer los diálogos para una obra. Escriba la función\n",
    "`transformar_dialogo(nombre_archivo)` que reciba como parámetro el nombre del archivo de subtítulos y a partir de éste cree un archivo `NOMBRE.dlg` (con `NOMBRE` es el nombre del archivo antes del .srt) con los diálogos.\n",
    "Al principio de cada línea se deben agregar 5 guiones bajos y dos puntos `_____:` (ahí se supone que posteriormente se escribirá el nombre del personaje).\n",
    "\n",
    "En nuestro caso, al ejecutar\n",
    "```Python\n",
    ">>> transformar_dialogo('los_simpsons.srt')\n",
    "```\n",
    "\n",
    "se debería generar el archivo `los_simpsons.dlg`:\n",
    "```\n",
    "____: Te voy a pillar Bart\n",
    "____: Maldito demonio\n",
    "____: No Homero ... grrr\n",
    "```"
   ]
  },
  {
   "cell_type": "code",
   "execution_count": null,
   "metadata": {
    "collapsed": false
   },
   "outputs": [],
   "source": [
    "# Solucion estudiantes\n",
    "def transformar_dialogo(nombre_archivo_srt):\n",
    "\n",
    "    archivo_srt = open(nombre_archivo_srt)\n",
    "    \n",
    "    for linea in archivo_srt:\n",
    "        pass\n",
    "    \n",
    "    return\n",
    "\n",
    "transformar_dialogo('data/los_simpsons.srt')\n",
    "transformar_dialogo('data/The.Walking.DeadS06E01.srt')"
   ]
  },
  {
   "cell_type": "code",
   "execution_count": null,
   "metadata": {
    "collapsed": false,
    "slideshow": {
     "slide_type": "slide"
    }
   },
   "outputs": [],
   "source": [
    "def transformar_dialogo(nombre_archivo_srt):\n",
    "    nombre_archivo_dlg = nombre_archivo_srt.replace(\".srt\",\".dlg\")\n",
    "    archivo_srt = open(nombre_archivo_srt)\n",
    "    archivo_dlg = open(nombre_archivo_dlg, \"w\")\n",
    "    i=0\n",
    "    for linea in archivo_srt:\n",
    "        if i%4==2:\n",
    "            archivo_dlg.write(\"_\"*5 + \": \" +linea)\n",
    "        # Incrementar i\n",
    "        i += 1\n",
    "    return\n",
    "\n",
    "transformar_dialogo('data/los_simpsons.srt')\n",
    "transformar_dialogo('data/The.Walking.DeadS06E01.srt')"
   ]
  },
  {
   "cell_type": "code",
   "execution_count": null,
   "metadata": {
    "collapsed": false,
    "slideshow": {
     "slide_type": "slide"
    }
   },
   "outputs": [],
   "source": [
    "def transformar_dialogo(nombre_archivo_srt):\n",
    "    nombre_archivo_dlg = nombre_archivo_srt[:-3] + \"dlg\"\n",
    "    archivo_srt = open(nombre_archivo_srt)\n",
    "    archivo_dlg = open(nombre_archivo_dlg, \"w\")\n",
    "    i=0\n",
    "    for linea in archivo_srt:\n",
    "        if i%4==2:\n",
    "            archivo_dlg.write(\"_\"*5 + \": \" +linea)\n",
    "        # Incrementar i\n",
    "        i += 1\n",
    "    return\n",
    "\n",
    "transformar_dialogo('data/los_simpsons.srt')\n",
    "transformar_dialogo('data/The.Walking.DeadS06E01.srt')"
   ]
  }
 ],
 "metadata": {
  "celltoolbar": "Slideshow",
  "kernelspec": {
   "display_name": "Python 2",
   "language": "python",
   "name": "python2"
  },
  "language_info": {
   "codemirror_mode": {
    "name": "ipython",
    "version": 2
   },
   "file_extension": ".py",
   "mimetype": "text/x-python",
   "name": "python",
   "nbconvert_exporter": "python",
   "pygments_lexer": "ipython2",
   "version": "2.7.6"
  }
 },
 "nbformat": 4,
 "nbformat_minor": 0
}
