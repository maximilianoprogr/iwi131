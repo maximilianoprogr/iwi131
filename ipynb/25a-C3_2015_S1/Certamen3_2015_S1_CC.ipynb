{
 "cells": [
  {
   "cell_type": "code",
   "execution_count": null,
   "metadata": {
    "collapsed": false,
    "slideshow": {
     "slide_type": "skip"
    }
   },
   "outputs": [],
   "source": [
    "\"\"\"\n",
    "IPython Notebook v4.0 para python 2.7\n",
    "Librerías adicionales: Ninguna.\n",
    "Contenido bajo licencia CC-BY 4.0. Código bajo licencia MIT. (c) Sebastian Flores.\n",
    "\"\"\"\n",
    "\n",
    "# Configuracion para recargar módulos y librerías \n",
    "%reload_ext autoreload\n",
    "%autoreload 2\n",
    "\n",
    "from IPython.core.display import HTML\n",
    "\n",
    "HTML(open(\"style/iwi131.css\", \"r\").read())"
   ]
  },
  {
   "cell_type": "markdown",
   "metadata": {
    "slideshow": {
     "slide_type": "slide"
    }
   },
   "source": [
    "<header class=\"w3-container w3-teal\">\n",
    "<img src=\"images/utfsm.png\" alt=\"\" align=\"left\"/>\n",
    "<img src=\"images/inf.png\" alt=\"\" align=\"right\"/>\n",
    "</header>\n",
    "<br/><br/><br/><br/><br/>\n",
    "# IWI131\n",
    "## Programación de Computadores\n",
    "\n",
    "### Sebastián Flores\n",
    "\n",
    "http://progra.usm.cl/ \n",
    "\n",
    "https://www.github.com/usantamaria/iwi131\n"
   ]
  },
  {
   "cell_type": "markdown",
   "metadata": {
    "slideshow": {
     "slide_type": "slide"
    }
   },
   "source": [
    "## Soluciones a Certamen 2, S2 2014, Casa Central"
   ]
  },
  {
   "cell_type": "markdown",
   "metadata": {
    "slideshow": {
     "slide_type": "slide"
    }
   },
   "source": [
    "## Pregunta 1 [25%]\n",
    "(a) La web Linkedpy analiza los procesos de postulación de recién titulados a empresas. Para ello tiene el archivo `titulados.txt`, donde cada línea tiene a los titulados en el formato **nombre;rut**, y el archivo `postulaciones.txt`, donde cada línea tiene un rut del titulado, el puesto y la empresa a la que cada titulado postula en el formato **rut#puesto#empresa**.\n",
    "\n",
    "A partir de estos archivos se desea generar un archivo por empresa, los cuales deben tener los titulados que postularon a algún puesto en la empresa con el formato **rut;nombre;puesto**.\n",
    "\n",
    "A continuación se presentan las líneas de código que resuelven este problema, pero que están desordenadas. Usted debe ordenarlas e indentarlas (dejar los espacios correspondientes de python) para que ambas funciones estén correctas.\n",
    "La primera función retorna una lista con todas las empresas en el archivo con postulaciones (recibido como parámetro). Y la segunda función resuelve el problema antes descrito, recibiendo como parámetro el nombre del archivo con titulados y el nombre del archivo con postulaciones."
   ]
  },
  {
   "cell_type": "markdown",
   "metadata": {
    "slideshow": {
     "slide_type": "slide"
    }
   },
   "source": [
    "La primera función retorna una lista con todas las empresas en el archivo con postulaciones (recibido como parámetro)."
   ]
  },
  {
   "cell_type": "code",
   "execution_count": null,
   "metadata": {
    "collapsed": true,
    "slideshow": {
     "slide_type": "-"
    }
   },
   "outputs": [],
   "source": [
    "def empresas(post):\n",
    "emp.append(e)\n",
    "arch_P.close()\n",
    "for li in arch_P:\n",
    "r, p, e = li.strip().split('#')\n",
    "if e not in emp:\n",
    "arch_P = open(post)\n",
    "emp = list()\n",
    "return emp"
   ]
  },
  {
   "cell_type": "code",
   "execution_count": null,
   "metadata": {
    "collapsed": true,
    "slideshow": {
     "slide_type": "slide"
    }
   },
   "outputs": [],
   "source": [
    "# Solucion Ordenada\n",
    "def empresas(post):\n",
    "    arch_P = open(post)\n",
    "    emp = list()\n",
    "    for li in arch_P:\n",
    "        r, p, e = li.strip().split('#')\n",
    "        if e not in emp:\n",
    "            emp.append(e)\n",
    "    arch_P.close()\n",
    "    return emp"
   ]
  },
  {
   "cell_type": "code",
   "execution_count": null,
   "metadata": {
    "collapsed": false
   },
   "outputs": [],
   "source": [
    "print empresas(\"data/postulaciones.txt\")"
   ]
  },
  {
   "cell_type": "markdown",
   "metadata": {
    "slideshow": {
     "slide_type": "slide"
    }
   },
   "source": [
    "La segunda función resuelve el problema antes descrito (generar un archivo por empresa, los cuales deben tener los titulados que postularon a algún puesto en la empresa con el formato **rut;nombre;puesto**), recibiendo como parámetro el nombre del archivo con titulados y el nombre del archivo con postulaciones."
   ]
  },
  {
   "cell_type": "code",
   "execution_count": null,
   "metadata": {
    "collapsed": true,
    "slideshow": {
     "slide_type": "slide"
    }
   },
   "outputs": [],
   "source": [
    "arch_E = open(e + '.txt', 'w')\n",
    "for pos in arch_P:\n",
    "arch_T.close()\n",
    "def registros(tit, post):\n",
    "arch_E.write(li.format(r, n, p))\n",
    "emp = empresas(post)\n",
    "arch_T = open(tit)\n",
    "n, r2 = titu.strip().split(';')\n",
    "arch_P.close()\n",
    "for e in emp:\n",
    "arch_E.close()\n",
    "if e2 == e:\n",
    "r, p, e2 = pos.strip().split('#')\n",
    "if r2 == r:\n",
    "li = '{0};{1};{2}\\n'\n",
    "arch_P = open(post)\n",
    "return None\n",
    "for titu in arch_T:"
   ]
  },
  {
   "cell_type": "code",
   "execution_count": null,
   "metadata": {
    "collapsed": false,
    "slideshow": {
     "slide_type": "slide"
    }
   },
   "outputs": [],
   "source": [
    "# Solución ordenada\n",
    "def registros(tit, post):\n",
    "    li = '{0};{1};{2}\\n'\n",
    "    emp = empresas(post)\n",
    "    for e in emp:\n",
    "        arch_E = open(e + '.txt', 'w')\n",
    "        arch_P = open(post)\n",
    "        for pos in arch_P:\n",
    "            r, p, e2 = pos.strip().split('#')\n",
    "            if e2 == e:\n",
    "                arch_T = open(tit)\n",
    "                for titu in arch_T:\n",
    "                    n, r2 = titu.strip().split(';')\n",
    "                    if r2 == r:\n",
    "                        arch_E.write(li.format(r, n, p))\n",
    "                arch_T.close()\n",
    "        arch_E.close()\n",
    "        arch_P.close()\n",
    "    return None"
   ]
  },
  {
   "cell_type": "code",
   "execution_count": null,
   "metadata": {
    "collapsed": false
   },
   "outputs": [],
   "source": [
    "# Utilización\n",
    "registros(\"data/titulados.txt\", \"data/postulaciones.txt\")"
   ]
  },
  {
   "cell_type": "markdown",
   "metadata": {
    "slideshow": {
     "slide_type": "slide"
    }
   },
   "source": [
    "## Pregunta 2 [35%]\n",
    "Andrónico Bank es un banco muy humilde que hasta hace poco usaban sólo papel y lápiz para manejar toda la información de sus clientes, también humildes. Como una manera de mejorar sus procesos, Andrónico Bank quiere\n",
    "utilizar un sistema computacional basado en Python. Por eso se traspasa la información de sus clientes a un archivo de texto, indicando su rut, nombre y clase cliente. El archivo `clientes.txt` es un ejemplo de lo anterior:\n",
    "\n",
    "```\n",
    "9234539-9;Sebastian Davalos;VIP\n",
    "11231709-k;Choclo Delano;Pendiente\n",
    "5555555-6;Sebastian Pinera;VIP\n",
    "9999999-k;Gladis Maryn;RIP\n",
    "12312312-1;Michel Bachelet;VIP\n",
    "8888888-8;Companero Yuri;Estandar\n",
    "7987655-1;Sergio Estandarte;RIP\n",
    "```"
   ]
  },
  {
   "cell_type": "markdown",
   "metadata": {
    "slideshow": {
     "slide_type": "slide"
    }
   },
   "source": [
    "\n",
    "## Pregunta 2.a\n",
    "Escriba una función `buscar_clientes(archivo, clase)` que reciba como parámetros el nombre del archivo de clientes y una clase, y retorne un diccionario con los rut de los clientes como llaves y los nombres como valor de todos los clientes pertenecientes a la clase entregada como parámetro.\n",
    "\n",
    "```Python\n",
    ">>> buscar_clientes('clientes.txt', 'Pendiente')\n",
    "{'11231709-k': 'Choclo Delano'}\n",
    "```\n",
    "\n",
    "***Estrategia de solución:***\n",
    "* ¿Qué estructura tienen los datos de entrada?\n",
    "* ¿Qué estructura deben tener los datos de salida?\n",
    "* ¿Cómo proceso los inputs para generar el output deseado?"
   ]
  },
  {
   "cell_type": "code",
   "execution_count": null,
   "metadata": {
    "collapsed": false,
    "slideshow": {
     "slide_type": "slide"
    }
   },
   "outputs": [],
   "source": [
    "def buscar_clientes(nombre_archivo, clase_buscada):\n",
    "    archivo = open(nombre_archivo)\n",
    "    clientes_buscados = {}\n",
    "    for linea in archivo:\n",
    "        rut,nombre,clase = linea[:-1].split(\";\")\n",
    "        if clase==clase_buscada:\n",
    "            clientes_buscados[rut] = nombre\n",
    "    archivo.close()\n",
    "    return clientes_buscados\n",
    "\n",
    "print buscar_clientes('data/clientes.txt', 'Pendiente')\n",
    "print buscar_clientes('data/clientes.txt', 'VIP')\n",
    "print buscar_clientes('data/clientes.txt', 'RIP')\n",
    "print buscar_clientes('data/clientes.txt', 'Estandar')"
   ]
  },
  {
   "cell_type": "markdown",
   "metadata": {
    "slideshow": {
     "slide_type": "slide"
    }
   },
   "source": [
    "## Pregunta 2.b\n",
    "Escriba una función `dar_credito(archivo, rut)` que reciba como parámetros el nombre del archivo de clientes y el rut de un cliente, y que retorne `True` si éste es VIP o `False` si no lo es.\n",
    "Si no encuentra el cliente la función retorna `False` \n",
    "\n",
    "```Python\n",
    ">>> dar_credito('clientes.txt', '9999999-k')\n",
    "False\n",
    "```\n",
    "\n",
    "***Estrategia de solución:***\n",
    "* ¿Qué estructura tienen los datos de entrada?\n",
    "* ¿Qué estructura deben tener los datos de salida?\n",
    "* ¿Cómo proceso los inputs para generar el output deseado?"
   ]
  },
  {
   "cell_type": "code",
   "execution_count": null,
   "metadata": {
    "collapsed": false,
    "slideshow": {
     "slide_type": "slide"
    }
   },
   "outputs": [],
   "source": [
    "def dar_credito(nombre_archivo, rut):\n",
    "    clientes_VIP = buscar_clientes(nombre_archivo, \"VIP\")\n",
    "    return rut in clientes_VIP\n",
    "\n",
    "print dar_credito('data/clientes.txt', '9999999-k')\n",
    "print dar_credito('data/clientes.txt', '11231709-k')\n",
    "print dar_credito('data/clientes.txt', '9234539-9')"
   ]
  },
  {
   "cell_type": "markdown",
   "metadata": {
    "slideshow": {
     "slide_type": "slide"
    }
   },
   "source": [
    "## Pregunta 2.c\n",
    "Escriba una función `contar_clientes(archivo)` que reciba como parámetros el nombre del archivo de clientes y que retorne un diccionario con la cantidad de clientes de cada clase en el archivo.\n",
    "\n",
    "```Python\n",
    ">>> contar_clientes('clientes.txt')\n",
    "{'VIP': 3, 'Pendiente': 1, 'RIP': 2, 'Estandar': 1}\n",
    "```\n",
    "\n",
    "***Estrategia de solución:***\n",
    "* ¿Qué estructura tienen los datos de entrada?\n",
    "* ¿Qué estructura deben tener los datos de salida?\n",
    "* ¿Cómo proceso los inputs para generar el output deseado?"
   ]
  },
  {
   "cell_type": "code",
   "execution_count": null,
   "metadata": {
    "collapsed": false,
    "slideshow": {
     "slide_type": "slide"
    }
   },
   "outputs": [],
   "source": [
    "def contar_clientes(nombre_archivo):\n",
    "    archivo = open(nombre_archivo)\n",
    "    cantidad_clases = {}\n",
    "    for linea in archivo:\n",
    "        rut,nombre,clase = linea[:-1].split(\";\")\n",
    "        if clase in cantidad_clases:\n",
    "            cantidad_clases[clase] += 1\n",
    "        else:\n",
    "            cantidad_clases[clase] = 1\n",
    "    archivo.close()\n",
    "    return cantidad_clases\n",
    "\n",
    "print contar_clientes('data/clientes.txt')"
   ]
  },
  {
   "cell_type": "markdown",
   "metadata": {
    "slideshow": {
     "slide_type": "slide"
    }
   },
   "source": [
    "## Pregunta 3 [40%]\n",
    "Complementando la pregunta 2, se le solicita:"
   ]
  },
  {
   "cell_type": "markdown",
   "metadata": {
    "slideshow": {
     "slide_type": "slide"
    }
   },
   "source": [
    "## Pregunta 3.a\n",
    "Escriba la función `nuevo_cliente(archivo, rut, nombre, clase)` que reciba como parámetro el nombre del archivo de clientes y el rut, nombre y clase de un nuevo cliente. La función debe agregar el nuevo cliente al final del archivo. Esta función retorna None.\n",
    "\n",
    "```Python\n",
    ">>> nuevo_cliente('clientes.txt', '2121211-2', 'Sergio Lagos', 'VIP')\n",
    ">>>\n",
    "```\n",
    "\n",
    "***Estrategia de solución:***\n",
    "* ¿Qué estructura tienen los datos de entrada?\n",
    "* ¿Qué estructura deben tener los datos de salida?\n",
    "* ¿Cómo proceso los inputs para generar el output deseado?"
   ]
  },
  {
   "cell_type": "code",
   "execution_count": null,
   "metadata": {
    "collapsed": false,
    "slideshow": {
     "slide_type": "slide"
    }
   },
   "outputs": [],
   "source": [
    "def nuevo_cliente(nombre_archivo, rut, nombre, clase):\n",
    "    archivo = open(nombre_archivo,\"a\")\n",
    "    formato_linea = \"{0};{1};{2}\\n\"\n",
    "    linea = formato_linea.format(rut, nombre, clase)\n",
    "    archivo.write(linea)\n",
    "    archivo.close()\n",
    "    return None\n",
    "    \n",
    "print nuevo_cliente('data/clientes.txt', '2121211-2', 'Sergio Lagos', 'VIP')"
   ]
  },
  {
   "cell_type": "markdown",
   "metadata": {
    "slideshow": {
     "slide_type": "slide"
    }
   },
   "source": [
    "## Pregunta 3.b\n",
    "\n",
    "Escriba la función `actualizar_clase(archivo, rut, clase)` que reciba como parámetro el nombre del archivo de clientes, el rut de un cliente y una nueva clase. La función debe modificar la clase del cliente con el rut indicado, cambiándola por clase en el archivo. Esta función retorna `True` si logra hacer el cambio o `False` si no encuentra al cliente con el rut indicado.\n",
    "\n",
    "```Python\n",
    ">>> actualizar_clase('clientes.txt', '9234539-9', 'Estandar')\n",
    "True\n",
    "```\n",
    "\n",
    "***Estrategia de solución:***\n",
    "* ¿Qué estructura tienen los datos de entrada?\n",
    "* ¿Qué estructura deben tener los datos de salida?\n",
    "* ¿Cómo proceso los inputs para generar el output deseado?"
   ]
  },
  {
   "cell_type": "code",
   "execution_count": null,
   "metadata": {
    "collapsed": false,
    "slideshow": {
     "slide_type": "slide"
    }
   },
   "outputs": [],
   "source": [
    "def actualizar_clase(nombre_archivo, rut_buscado, nueva_clase):\n",
    "    archivo = open(nombre_archivo)\n",
    "    lista_lineas = []\n",
    "    formato_linea = \"{0};{1};{2}\\n\"\n",
    "    rut_hallado = False\n",
    "    for linea in archivo:\n",
    "        rut,nombre,clase = linea[:-1].split(\";\")\n",
    "        if rut==rut_buscado:\n",
    "            nueva_linea = formato_linea.format(rut,nombre,nueva_clase)\n",
    "            lista_lineas.append(nueva_linea)\n",
    "            rut_hallado = True\n",
    "        else:\n",
    "            lista_lineas.append(linea)\n",
    "    archivo.close()\n",
    "    # Ahora escribir todas las lineas, si es necesario\n",
    "    if rut_hallado:\n",
    "        archivo = open(nombre_archivo, \"w\")\n",
    "        for linea in lista_lineas:\n",
    "            archivo.write(linea)\n",
    "        archivo.close()\n",
    "    return rut_hallado\n",
    "\n",
    "actualizar_clase('data/clientes.txt', '9234539-9', 'Estandar')"
   ]
  },
  {
   "cell_type": "markdown",
   "metadata": {
    "slideshow": {
     "slide_type": "slide"
    }
   },
   "source": [
    "## Pregunta 3.c\n",
    "\n",
    "Escriba una función `filtrar_clientes(archivo, clase)` que reciba como parámetros el nombre del archivo de clientes y una clase de cliente. La función debe crear un archivo `clientes_[clase].txt` con los rut y los nombres de los clientes pertenecientes a esa clase.  Note que el archivo debe ser nombrado según la clase solicitada. Esta función retorna None.\n",
    "\n",
    "```Python\n",
    ">>> filtrar_clientes('clientes.txt', 'VIP')\n",
    ">>>\n",
    "```\n",
    "genera el archivo `clientes_VIP.txt` con el siguiente contenido\n",
    "\n",
    "```\n",
    "5555555-6;Sebastian Pinera\n",
    "12312312-1;Michel Bachelet\n",
    "2121211-2;Sergio Lagos\n",
    "```\n",
    "\n",
    "***Estrategia de solución:***\n",
    "* ¿Qué estructura tienen los datos de entrada?\n",
    "* ¿Qué estructura deben tener los datos de salida?\n",
    "* ¿Cómo proceso los inputs para generar el output deseado?"
   ]
  },
  {
   "cell_type": "code",
   "execution_count": null,
   "metadata": {
    "collapsed": false,
    "slideshow": {
     "slide_type": "slide"
    }
   },
   "outputs": [],
   "source": [
    "def filtrar_clientes(nombre_archivo, clase_buscada):\n",
    "    archivo_original = open(nombre_archivo)\n",
    "    nombre_archivo_clase = \"clientes_\"+clase_buscada+\".txt\"\n",
    "    archivo_clase = open(nombre_archivo_clase,\"w\")\n",
    "    formato_linea = \"{0};{1}\\n\"\n",
    "    for linea in archivo_original:\n",
    "        rut,nombre,clase = linea[:-1].split(\";\")\n",
    "        if clase==clase_buscada:\n",
    "            nueva_linea = formato_linea.format(rut,nombre)\n",
    "            archivo_clase.write(nueva_linea)\n",
    "    archivo_original.close()\n",
    "    archivo_clase.close()\n",
    "    return None\n",
    "    \n",
    "filtrar_clientes('data/clientes.txt', 'VIP')"
   ]
  }
 ],
 "metadata": {
  "celltoolbar": "Slideshow",
  "kernelspec": {
   "display_name": "Python 2",
   "language": "python",
   "name": "python2"
  },
  "language_info": {
   "codemirror_mode": {
    "name": "ipython",
    "version": 2
   },
   "file_extension": ".py",
   "mimetype": "text/x-python",
   "name": "python",
   "nbconvert_exporter": "python",
   "pygments_lexer": "ipython2",
   "version": "2.7.6"
  }
 },
 "nbformat": 4,
 "nbformat_minor": 0
}
