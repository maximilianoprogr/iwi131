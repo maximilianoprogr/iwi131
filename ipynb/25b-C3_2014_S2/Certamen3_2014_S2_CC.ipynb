{
 "cells": [
  {
   "cell_type": "code",
   "execution_count": 1,
   "metadata": {
    "collapsed": false,
    "slideshow": {
     "slide_type": "skip"
    }
   },
   "outputs": [
    {
     "data": {
      "text/html": [
       "<style>\n",
       "\n",
       ".reveal {\n",
       "overflow: visible;\n",
       "}\n",
       "\n",
       "/*********************************************\n",
       " * CHANGE CURSIVE FOR RED\n",
       " *********************************************/\n",
       "em {font-style: normal !important;\n",
       "    color: #800000;}\n",
       "span.good {color: #008000;}\n",
       "span.warning {color: #808000;}\n",
       "span.bad {color: #800000;}\n",
       "\n",
       "/*********************************************\n",
       " * GLOBAL STYLES\n",
       " *********************************************/\n",
       ".reveal h1 {color: #000000; text-shadow: 0px 0px 6px rgba(0, 0, 0, 0.2);}\n",
       ".reveal h2 {color: #222222; text-shadow: 0px 0px 5px rgba(0, 0, 0, 0.2);}\n",
       ".reveal h3 {color: #444444; text-shadow: 0px 0px 4px rgba(0, 0, 0, 0.2);}\n",
       ".reveal h4 {color: #666666; text-shadow: 0px 0px 3px rgba(0, 0, 0, 0.2);}\n",
       ".reveal h5 {color: #888888; text-shadow: 0px 0px 2px rgba(0, 0, 0, 0.2);}\n",
       ".reveal h6 {color: #AAAAAA; text-shadow: 0px 0px 1px rgba(0, 0, 0, 0.2);}\n",
       "\n",
       "/*********************************************\n",
       " * IMAGES\n",
       " *********************************************/\n",
       ".reveal section img { margin-left:auto; margin-right:auto;}\n",
       "\n",
       "</style>\n"
      ],
      "text/plain": [
       "<IPython.core.display.HTML object>"
      ]
     },
     "execution_count": 1,
     "metadata": {},
     "output_type": "execute_result"
    }
   ],
   "source": [
    "\"\"\"\n",
    "IPython Notebook v4.0 para python 2.7\n",
    "Librerías adicionales: Ninguna.\n",
    "Contenido bajo licencia CC-BY 4.0. Código bajo licencia MIT. (c) Sebastian Flores.\n",
    "\"\"\"\n",
    "\n",
    "# Configuracion para recargar módulos y librerías \n",
    "%reload_ext autoreload\n",
    "%autoreload 2\n",
    "\n",
    "from IPython.core.display import HTML\n",
    "\n",
    "HTML(open(\"style/iwi131.css\", \"r\").read())"
   ]
  },
  {
   "cell_type": "markdown",
   "metadata": {
    "slideshow": {
     "slide_type": "slide"
    }
   },
   "source": [
    "<header class=\"w3-container w3-teal\">\n",
    "<img src=\"images/utfsm.png\" alt=\"\" align=\"left\"/>\n",
    "<img src=\"images/inf.png\" alt=\"\" align=\"right\"/>\n",
    "</header>\n",
    "<br/><br/><br/><br/><br/>\n",
    "# IWI131\n",
    "## Programación de Computadores\n",
    "\n",
    "### Sebastián Flores\n",
    "\n",
    "http://progra.usm.cl/ \n",
    "\n",
    "https://www.github.com/usantamaria/iwi131\n"
   ]
  },
  {
   "cell_type": "markdown",
   "metadata": {
    "slideshow": {
     "slide_type": "slide"
    }
   },
   "source": [
    "## Soluciones a Certamen 3, S1 2015, Casa Central"
   ]
  },
  {
   "cell_type": "markdown",
   "metadata": {
    "slideshow": {
     "slide_type": "slide"
    }
   },
   "source": [
    "## Pregunta 1 [30%]\n",
    "Realice el ruteo del siguiente programa e indique qué es lo que imprime. Cada vez que el valor de una variable cambie, escríbalo en una nueva fila de la tabla. Si una variable es de tipo archivo, debe colocar cuando se abre y cierra el archivo indicando su nombre entre comillas simples ’ ’. Si hay algún archivo de escritura, se debe reflejar en el lo que el programa escriba.\n",
    "Importante: La tabla tiene suficientes filas."
   ]
  },
  {
   "cell_type": "markdown",
   "metadata": {
    "slideshow": {
     "slide_type": "slide"
    }
   },
   "source": [
    "<img src=\"images/ruteo2014.png\" alt=\"\" align=\"middle\"/>"
   ]
  },
  {
   "cell_type": "code",
   "execution_count": 1,
   "metadata": {
    "collapsed": false,
    "slideshow": {
     "slide_type": "slide"
    }
   },
   "outputs": [
    {
     "ename": "SyntaxError",
     "evalue": "Missing parentheses in call to 'print'. Did you mean print(...)? (4074383056.py, line 14)",
     "output_type": "error",
     "traceback": [
      "\u001b[1;36m  Cell \u001b[1;32mIn[1], line 14\u001b[1;36m\u001b[0m\n\u001b[1;33m    print ''.join(p),\u001b[0m\n\u001b[1;37m    ^\u001b[0m\n\u001b[1;31mSyntaxError\u001b[0m\u001b[1;31m:\u001b[0m Missing parentheses in call to 'print'. Did you mean print(...)?\n"
     ]
    }
   ],
   "source": [
    "a = open('f1.dat')\n",
    "b = open('f2.dat', 'w')\n",
    "c, j = 'ekil', -1\n",
    "for x in a:\n",
    "    p = list()\n",
    "    for i in range(len(x)):\n",
    "        if i %3 != 2:\n",
    "            x.replace('e','x')\n",
    "            b.write(x[i])\n",
    "        else:\n",
    "            ch = x.replace(x[i], c[j-(i/3)])\n",
    "            p.append(ch[i])\n",
    "        j = j - ((i+1)/3)\n",
    "        print(''.join(p),\n",
    "a.close()\n",
    "b.close()"
   ]
  },
  {
   "cell_type": "markdown",
   "metadata": {
    "slideshow": {
     "slide_type": "slide"
    }
   },
   "source": [
    "## Pregunta 2 [35%]\n",
    "La PyDI ha solicitado ayuda a los alumnos de IWI-131 para el desarrollo de algunas funciones que le permitan realizar búsquedas de comportamiento sospechoso de los ciudadanos de Pytonia.\n",
    "Para resolver esta tarea debes identificar a los posibles sospechosos para la PyDI, quienes siempre\n",
    "son menores de 41 años y publican en un medio distinto de Twitter. Para esto se revisan dos\n",
    "archivos, uno con la información de los ciudadanos y otro con las publicaciones de los usuarios.\n",
    "Ejemplos de estos archivos y su formato son `publicaciones.txt` y `personas.txt`.\n",
    "\n",
    "En el archivo de publicaciones se tiene el rut del sospechoso y el medio en el cual fue publicado. \n",
    "\n",
    "En el archivo de personas se encuentra el rut, la edad y 3 calificaciones (valores enteros) relacionadas\n",
    "al nivel de amenaza de sus ultimas 3 detenciones por la PyDI.\n",
    "\n",
    "Por último se tiene un archivo por persona con los mensajes enviados (sin puntuación), el nombre de estos es el rut de cada quien (Ejemplo: el rut 15740994-7 tiene asociado el archivo 15740994-7.txt)."
   ]
  },
  {
   "cell_type": "markdown",
   "metadata": {
    "slideshow": {
     "slide_type": "slide"
    }
   },
   "source": [
    "## Pregunta 2 [35%]\n",
    "**personas.txt**:\n",
    "```\n",
    "15740994-7,15,30-40-50\n",
    "15735995-7,41,0-0-0\n",
    "15756996-7,45,0-0-40\n",
    "...\n",
    "```\n",
    "**publicaciones.txt**:\n",
    "```\n",
    "15756996-7:blogspot\n",
    "15735995-7:twitter\n",
    "15740994-7:facebook\n",
    "...\n",
    "```\n",
    "**15740994-7.txt**:\n",
    "```\n",
    "La bomba esta en tu casa\n",
    "Pedir mas polvora\n",
    "...\n",
    "```\n",
    "\n",
    "Se le solicita a usted desarrollar las siguientes funciones:"
   ]
  },
  {
   "cell_type": "markdown",
   "metadata": {
    "slideshow": {
     "slide_type": "slide"
    }
   },
   "source": [
    "\n",
    "## Pregunta 2.a\n",
    "Escriba la función `sospechosos(personas, publicaciones)` la cual reciba como parámetros dos archivos del tipo `personas.txt` y `publicaciones.txt`. Esta función debe retornar un conjunto con los rut de las personas que resulten sospechosas.\n",
    "\n",
    "```Python\n",
    ">>> sospechosos('personas.txt', 'publicaciones.txt')\n",
    "set(['15740994-7'])\n",
    "```\n",
    "\n",
    "***Estrategia de solución:***\n",
    "* ¿Qué estructura tienen los datos de entrada?\n",
    "* ¿Qué estructura deben tener los datos de salida?\n",
    "* ¿Cómo proceso los inputs para generar el output deseado?"
   ]
  },
  {
   "cell_type": "code",
   "execution_count": 8,
   "metadata": {
    "collapsed": false
   },
   "outputs": [
    {
     "name": "stdout",
     "output_type": "stream",
     "text": [
      "set(['15740994-7'])\n"
     ]
    }
   ],
   "source": [
    "def sospechosos(nombre_archivo_personas, nombre_archivo_publicaciones):\n",
    "    # Procesar archivo de personas\n",
    "    archivo_personas = open(nombre_archivo_personas)\n",
    "    edad_dict = {}\n",
    "    for linea in archivo_personas:\n",
    "        rut,edad_str,puntuacion_str = linea[:-1].split(\",\")\n",
    "        edad = int(edad_str)\n",
    "        edad_dict[rut] = edad\n",
    "    archivo_personas.close()\n",
    "    # Procesar archivo de publicaciones\n",
    "    archivo_publicaciones = open(nombre_archivo_publicaciones)\n",
    "    medio_dict = {}\n",
    "    for linea in archivo_publicaciones:\n",
    "        rut,medio = linea[:-1].split(\":\")\n",
    "        medio_dict[rut] = medio\n",
    "    archivo_publicaciones.close()\n",
    "    # Cruzar los datos\n",
    "    conjunto_sospechosos = set()\n",
    "    for rut in edad_dict:\n",
    "        if edad_dict[rut]<41 and medio_dict[rut]!=\"twitter\":\n",
    "            conjunto_sospechosos.add(rut)\n",
    "    return conjunto_sospechosos\n",
    "    \n",
    "print sospechosos('data/personas.txt', 'data/publicaciones.txt')"
   ]
  },
  {
   "cell_type": "markdown",
   "metadata": {
    "slideshow": {
     "slide_type": "slide"
    }
   },
   "source": [
    "\n",
    "## Pregunta 2.b\n",
    "Escriba la función `leer_mensajes(personas, publicaciones, claves)`, la cual recibe como parámetros 2 archivos del tipo `personas.txt` y `publicaciones.txt`, y una lista de\n",
    "palabras clave. Esta función debe retornar un diccionario cuya clave sea el rut de un sospechoso y\n",
    "el valor la cantidad de palabras claves que fueron encontradas en sus mensajes.\n",
    "\n",
    "```Python\n",
    ">>> claves = ['bomba', 'polvora', 'TNT']\n",
    ">>> leer_mensajes('personas.txt', 'publicaciones.txt', claves)\n",
    "{'15740994-7':2}\n",
    "```\n",
    "\n",
    "***Estrategia de solución:***\n",
    "* ¿Qué estructura tienen los datos de entrada?\n",
    "* ¿Qué estructura deben tener los datos de salida?\n",
    "* ¿Cómo proceso los inputs para generar el output deseado?"
   ]
  },
  {
   "cell_type": "code",
   "execution_count": null,
   "metadata": {
    "collapsed": false
   },
   "outputs": [],
   "source": [
    "def leer_mensajes(nombre_archivo_personas, nombre_archivo_publicaciones, claves):\n",
    "    palabras_claves = {}\n",
    "    for rut in sospechosos(nombre_archivo_personas, \n",
    "                           nombre_archivo_publicaciones):\n",
    "        nombre_archivo_mensajes = \"data/\" + rut + \".txt\"\n",
    "        archivo_mensajes = open(nombre_archivo_mensajes)\n",
    "        contador = 0\n",
    "        for linea in archivo_mensajes:\n",
    "            for palabra in linea[:-1].split(\" \"):\n",
    "                if palabra in claves:\n",
    "                    contador += 1\n",
    "        palabras_claves[rut] = contador\n",
    "    return palabras_claves\n",
    "    \n",
    "claves = ['bomba', 'polvora', 'TNT']\n",
    "print leer_mensajes('data/personas.txt', 'data/publicaciones.txt', claves)\n",
    "# OBS: ¿Como modificar si no se quiere contar palabras repetidas?"
   ]
  },
  {
   "cell_type": "markdown",
   "metadata": {
    "slideshow": {
     "slide_type": "slide"
    }
   },
   "source": [
    "## Pregunta 2.c\n",
    "\n",
    "Escriba la función `peligro(persona, publicaciones, claves)`, la cual recibe como parámetros 2 archivos del tipo `personas.txt` y `publicaciones.txt`, y una lista de palabras clave.\n",
    "Esta función retorna una lista con los rut de los sospechosos considerados peligrosos. Un sospechoso es considerado peligroso si posee un ranking de peligrosidad mayor o igual a 30 y además posee al menos 2 palabras claves en sus mensajes. Donde el ranking de peligrosidad se determina promediando las 3 ultimas\n",
    "calificaciones de detención.\n",
    "\n",
    "```Python\n",
    ">>> claves = ['bomba', 'polvora', 'TNT']\n",
    ">>> peligro('personas.txt', 'publicaciones.txt', claves)\n",
    "['15740994-7']\n",
    "```\n",
    "\n",
    "***Estrategia de solución:***\n",
    "* ¿Qué estructura tienen los datos de entrada?\n",
    "* ¿Qué estructura deben tener los datos de salida?\n",
    "* ¿Cómo proceso los inputs para generar el output deseado?"
   ]
  },
  {
   "cell_type": "code",
   "execution_count": null,
   "metadata": {
    "collapsed": false
   },
   "outputs": [],
   "source": [
    "def peligro(nombre_archivo_personas, nombre_archivo_publicaciones, claves):\n",
    "    # Procesar archivo de personas\n",
    "    archivo_personas = open(nombre_archivo_personas)\n",
    "    ranking_dict = {}\n",
    "    for linea in archivo_personas:\n",
    "        rut,edad_str,puntuacion_str = linea[:-1].split(\",\")\n",
    "        puntuaciones = map(float, puntuacion_str.split(\"-\"))\n",
    "        ranking = sum(puntuaciones[-3:])/3.0\n",
    "        ranking_dict[rut] = ranking\n",
    "    archivo_personas.close()\n",
    "    # Obtener sospechosos\n",
    "    conjunto_sospechosos = sospechosos(nombre_archivo_personas, \n",
    "                                       nombre_archivo_publicaciones)\n",
    "    # Obtener peligrosos\n",
    "    peligrosos = list()\n",
    "    for rut in conjunto_sospechosos:\n",
    "        if ranking_dict[rut]>=30:\n",
    "            peligrosos.append(rut)\n",
    "    return peligrosos\n",
    "\n",
    "claves = ['bomba', 'polvora', 'TNT']\n",
    "peligro('data/personas.txt', 'data/publicaciones.txt', claves)"
   ]
  },
  {
   "cell_type": "markdown",
   "metadata": {
    "slideshow": {
     "slide_type": "slide"
    }
   },
   "source": [
    "## Pregunta 3 [35%]\n",
    "El proceso de postulación a las universidades es la fase en la cual miles de alumnos (tras rendir la PSU) esperan ser nominados en alguna carrera-universidad según sus preferencias, resultados y aptitudes. Para ello y esperando agilizar el proceso de postulación de la ciudad de Pytonia, se ha pedido a los alumnos de Programación realizar algunas funciones considerando los siguientes archivos:\n",
    "\n",
    "**estudiantes.txt**:\n",
    "```\n",
    "Juan Perez;18298111-8\n",
    "Maria Mercedes;17444222-1\n",
    "Gustavo Lima;17543987-1\n",
    "Javier Soto;18844222-7\n",
    "Daniela Melendez;17999555-3\n",
    "Alexis Vidal;16219345-6\n",
    "...\n",
    "```\n",
    "\n",
    "**postulaciones.txt**:\n",
    "```\n",
    "18844222-7#UCH#Ing. Civil Electronica\n",
    "16219345-6#UTFSM#Ing. Comercial\n",
    "18298111-8#USACH#Periodismo\n",
    "17444222-1#PUC#Enfermeria\n",
    "17999555-3#UTFSM#Ing. Civil Industrial\n",
    "17543987-1#PUC#Derecho\n",
    "17999555-3#PUC#Ing. Civil Industrial\n",
    "16219345-6#UTFSM#Piloto Comercial\n",
    "```\n",
    "\n",
    "En base a lo descrito anteriormente, se le solicita desarrollar las siguientes funciones:"
   ]
  },
  {
   "cell_type": "markdown",
   "metadata": {
    "slideshow": {
     "slide_type": "slide"
    }
   },
   "source": [
    "\n",
    "## Pregunta 3.a\n",
    "Escriba la función `universidades(nombre_archivo)` que reciba como parámetro, un string con el nombre del archivo que contiene las postulaciones (como en el ejemplo el archivo `postulaciones.txt`). La función debe retornar un conjunto con todas las universidades que aparecen en el archivo postulaciones.\n",
    "\n",
    "```Python\n",
    ">>> universidades(\"postulaciones.txt\")\n",
    "set(['UCH','UTFSM','USACH','PUC'])\n",
    "```\n",
    "\n",
    "***Estrategia de solución:***\n",
    "* ¿Qué estructura tienen los datos de entrada?\n",
    "* ¿Qué estructura deben tener los datos de salida?\n",
    "* ¿Cómo proceso los inputs para generar el output deseado?"
   ]
  },
  {
   "cell_type": "code",
   "execution_count": 5,
   "metadata": {
    "collapsed": false
   },
   "outputs": [
    {
     "name": "stdout",
     "output_type": "stream",
     "text": [
      "set(['USACH', 'UTFSM', 'PUC', 'UCH'])\n"
     ]
    }
   ],
   "source": [
    "def universidades(nombre_archivo):\n",
    "    archivo = open(nombre_archivo)\n",
    "    ues = set()\n",
    "    for linea in archivo:\n",
    "        rut,u,carrera = linea[:-1].split(\"#\")\n",
    "        ues.add(u)\n",
    "    archivo.close()\n",
    "    return ues\n",
    "\n",
    "print universidades(\"data/postulaciones.txt\")"
   ]
  },
  {
   "cell_type": "markdown",
   "metadata": {
    "slideshow": {
     "slide_type": "slide"
    }
   },
   "source": [
    "## Pregunta 3.b\n",
    "\n",
    "Escriba la función `postulaciones_u(universidad, arch_estudiantes, arch_postulaciones)` que reciba un string con la sigla de la universidad, un string con el nombre del archivo del tipo `estudiantes.txt` y un string con el nombre del archivo del tipo `postulaciones.txt` el cual contiene las postulaciones. La función debe retornar un diccionario donde la llave corresponde al rut y nombre del estudiante que postula a la universidad pasada como parámetro y el valor será un conjunto con las carreras a las que postuló el estudiante a dicha institución.\n",
    "\n",
    "```Python\n",
    ">>> postulaciones_u('UTFSM','estudiantes.txt','postulaciones.txt')\n",
    "{('17999555-3', 'Daniela Melendez'): \n",
    "      set(['Ing. Civil Industrial']),\n",
    "('16219345-6', 'Alexis Vidal'): \n",
    "      set(['Ing. Comercial', 'Piloto Comercial'])}\n",
    "```\n",
    "\n",
    "***Estrategia de solución:***\n",
    "* ¿Qué estructura tienen los datos de entrada?\n",
    "* ¿Qué estructura deben tener los datos de salida?\n",
    "* ¿Cómo proceso los inputs para generar el output deseado?"
   ]
  },
  {
   "cell_type": "code",
   "execution_count": 6,
   "metadata": {
    "collapsed": false
   },
   "outputs": [
    {
     "name": "stdout",
     "output_type": "stream",
     "text": [
      "{('17999555-3', 'Daniela Melendez'): set(['Ing. Civil Industrial']), ('16219345-6', 'Alexis Vidal'): set(['Piloto Comercial', 'Ing. Comercial'])}\n"
     ]
    }
   ],
   "source": [
    "def postulaciones_u(universidad_buscada, nombre_arch_estudiantes, nombre_arch_postulaciones):\n",
    "    # Procesar estudiantes para obtener el nombre a partir del rut\n",
    "    archivo_estudiantes = open(nombre_arch_estudiantes)\n",
    "    estudiantes = {}\n",
    "    for linea in archivo_estudiantes:\n",
    "        nombre,rut = linea.replace(\"\\n\",\"\").split(\";\")\n",
    "        estudiantes[rut] = nombre\n",
    "    archivo_estudiantes.close()\n",
    "    # Procesar postulaciones, buscando para una universidad en especifico\n",
    "    archivo_postulaciones = open(nombre_arch_postulaciones)\n",
    "    postulantes_buscados = {}\n",
    "    for linea in archivo_postulaciones:\n",
    "        rut,u,carrera = linea[:-1].split(\"#\")\n",
    "        if u==universidad_buscada:\n",
    "            llave = (rut, estudiantes[rut])\n",
    "            if llave in postulantes_buscados:\n",
    "                postulantes_buscados[llave].add(carrera)\n",
    "            else:\n",
    "                postulantes_buscados[llave] = set([carrera])\n",
    "    archivo_postulaciones.close()\n",
    "    return postulantes_buscados\n",
    "    \n",
    "print postulaciones_u('UTFSM','data/estudiantes.txt','data/postulaciones.txt')"
   ]
  },
  {
   "cell_type": "markdown",
   "metadata": {
    "slideshow": {
     "slide_type": "slide"
    }
   },
   "source": [
    "## Pregunta 3.c\n",
    "\n",
    "Escriba la función `generar_registros(arch_estudiantes,arch_postulaciones)` que reciba como parámetros dos string, uno correspondiente al nombre del archivo del tipo `estudiantes.txt` y otro correspondiente al archivo del tipo `postulaciones.txt` respectivamente. La función debe crear un archivo cuyo nombre debe ser sigla `U.txt` para cada universidad del archivo postulaciones. El archivo debe tener la siguiente estructura por línea: **rut;nombre;carrera(s)** del postulante, separadas por un punto y coma. Ver ejemplo UTFSM.txt. Esta función no retorna nada.\n",
    "\n",
    "```Python\n",
    ">>> generar_registros('estudiantes.txt','postulaciones.txt')\n",
    "```\n",
    "\n",
    "que genera (entre otros) el archivo `UTFSM.txt`:\n",
    "```\n",
    "17999555-3;Daniela Melendez;Ing. Civil Industrial\n",
    "16219345-6;Alexis Vidal;Ing. Comercial;Piloto Comercial\n",
    "...\n",
    "```\n",
    "\n",
    "\n",
    "***Estrategia de solución:***\n",
    "* ¿Qué estructura tienen los datos de entrada?\n",
    "* ¿Qué estructura deben tener los datos de salida?\n",
    "* ¿Cómo proceso los inputs para generar el output deseado?"
   ]
  },
  {
   "cell_type": "code",
   "execution_count": 7,
   "metadata": {
    "collapsed": false
   },
   "outputs": [],
   "source": [
    "def generar_registros(nombre_arch_estudiantes, nombre_arch_postulaciones):\n",
    "    ues = universidades(nombre_arch_postulaciones)\n",
    "    formato_linea = \"{0};{1};{2}\\n\"\n",
    "    for u in ues:\n",
    "        nombre_archivo_u = u+\".txt\"\n",
    "        archivo = open(nombre_archivo_u, \"w\")\n",
    "        postulantes_a_u =  postulaciones_u(u, \n",
    "                                           nombre_arch_estudiantes, \n",
    "                                           nombre_arch_postulaciones)\n",
    "        for datos_postulante, set_carreras in postulantes_a_u.items():\n",
    "            rut, nombre = datos_postulante\n",
    "            carreras = \";\".join(list(set_carreras))\n",
    "            nueva_linea = formato_linea.format(rut,nombre,carreras)\n",
    "            archivo.write(nueva_linea)\n",
    "        archivo.close()\n",
    "    return None\n",
    "\n",
    "generar_registros('data/estudiantes.txt', 'data/postulaciones.txt')"
   ]
  }
 ],
 "metadata": {
  "celltoolbar": "Slideshow",
  "kernelspec": {
   "display_name": "Python 3",
   "language": "python",
   "name": "python3"
  },
  "language_info": {
   "codemirror_mode": {
    "name": "ipython",
    "version": 3
   },
   "file_extension": ".py",
   "mimetype": "text/x-python",
   "name": "python",
   "nbconvert_exporter": "python",
   "pygments_lexer": "ipython3",
   "version": "3.10.11"
  }
 },
 "nbformat": 4,
 "nbformat_minor": 0
}
