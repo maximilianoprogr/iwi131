{
 "cells": [
  {
   "cell_type": "code",
   "execution_count": 1,
   "metadata": {
    "collapsed": false,
    "slideshow": {
     "slide_type": "skip"
    }
   },
   "outputs": [
    {
     "data": {
      "text/html": [
       "<style>\n",
       "\n",
       ".reveal {\n",
       "overflow: visible;\n",
       "}\n",
       "\n",
       "/*********************************************\n",
       " * COLORS FOR EXAMPLES\n",
       " *********************************************/\n",
       "em {color: #800000;}\n",
       "span.good {color: #008000;}\n",
       "span.warning {color: #808000;}\n",
       "span.bad {color: #800000;}\n",
       "\n",
       "/*********************************************\n",
       " * GLOBAL STYLES\n",
       " *********************************************/\n",
       ".reveal h1 {color: #000000; text-shadow: 0px 0px 6px rgba(0, 0, 0, 0.2);}\n",
       ".reveal h2 {color: #222222; text-shadow: 0px 0px 5px rgba(0, 0, 0, 0.2);}\n",
       ".reveal h3 {color: #444444; text-shadow: 0px 0px 4px rgba(0, 0, 0, 0.2);}\n",
       ".reveal h4 {color: #666666; text-shadow: 0px 0px 3px rgba(0, 0, 0, 0.2);}\n",
       ".reveal h5 {color: #888888; text-shadow: 0px 0px 2px rgba(0, 0, 0, 0.2);}\n",
       ".reveal h6 {color: #AAAAAA; text-shadow: 0px 0px 1px rgba(0, 0, 0, 0.2);}\n",
       "\n",
       "/*********************************************\n",
       " * IMAGES\n",
       " *********************************************/\n",
       ".reveal section img { margin-left:auto; margin-right:auto;}\n",
       "\n",
       "</style>\n"
      ],
      "text/plain": [
       "<IPython.core.display.HTML object>"
      ]
     },
     "execution_count": 1,
     "metadata": {},
     "output_type": "execute_result"
    }
   ],
   "source": [
    "\"\"\"\n",
    "IPython Notebook v4.0 para python 2.7\n",
    "Librerías adicionales: Ninguna.\n",
    "Contenido bajo licencia CC-BY 4.0. Código bajo licencia MIT. (c) Sebastian Flores.\n",
    "\"\"\"\n",
    "\n",
    "# Configuracion para recargar módulos y librerías \n",
    "%reload_ext autoreload\n",
    "%autoreload 2\n",
    "\n",
    "from IPython.core.display import HTML\n",
    "\n",
    "HTML(open(\"style/iwi131.css\", \"r\").read())"
   ]
  },
  {
   "cell_type": "markdown",
   "metadata": {
    "slideshow": {
     "slide_type": "slide"
    }
   },
   "source": [
    "<header class=\"w3-container w3-teal\">\n",
    "<img src=\"images/utfsm.png\" alt=\"\" align=\"left\"/>\n",
    "<img src=\"images/inf.png\" alt=\"\" align=\"right\"/>\n",
    "</header>\n",
    "<br/><br/><br/><br/><br/>\n",
    "# IWI131\n",
    "## Programación de Computadores\n",
    "\n",
    "### Sebastián Flores\n",
    "\n",
    "http://progra.usm.cl/ \n",
    "\n",
    "https://www.github.com/usantamaria/iwi131\n"
   ]
  },
  {
   "cell_type": "markdown",
   "metadata": {
    "slideshow": {
     "slide_type": "slide"
    }
   },
   "source": [
    "## ¡Feliz Año Nuevo!"
   ]
  },
  {
   "cell_type": "markdown",
   "metadata": {
    "slideshow": {
     "slide_type": "slide"
    }
   },
   "source": [
    "## Fechas\n",
    "* Miércoles 6 Enero, 8:00. Actividad 5.\n",
    "* Viernes 8 Enero, 15:40. Certamen 3.\n",
    "* Lunes 18 Enero, 8:00. Certamen Recuperativo."
   ]
  },
  {
   "cell_type": "markdown",
   "metadata": {
    "slideshow": {
     "slide_type": "slide"
    }
   },
   "source": [
    "## Problemas por Correo\n",
    "* Telégrafo."
   ]
  },
  {
   "cell_type": "markdown",
   "metadata": {
    "slideshow": {
     "slide_type": "slide"
    }
   },
   "source": [
    "## 1. Telégrafo\n",
    "Dado un mensaje, se debe calcular su costo para enviarlo por telégrafo. Para esto se sabe que cada letra cuesta \\$10, los caracteres especiales que no sean letras cuestan \\$30 y los dígitos tienen un valor de \\$20 cada uno. Los espacios no tienen valor.\n",
    "\n",
    "Su mensaje debe ser un string, y las letras del castellano (ñ, á, é, í, ó, ú) se consideran caracteres especiales.\n",
    "\n",
    "```Python\n",
    "Mensaje: Feliz Aniversario!\n",
    "Su mensaje cuesta $190\n",
    "```"
   ]
  },
  {
   "cell_type": "code",
   "execution_count": 2,
   "metadata": {
    "collapsed": false
   },
   "outputs": [
    {
     "name": "stdout",
     "output_type": "stream",
     "text": [
      "Mensaje: Hla\n",
      "Su mensaje cuesta $0\n",
      "Mensaje: Hmm\n",
      "Su mensaje cuesta $0\n",
      "Mensaje: Hmmm\n",
      "Su mensaje cuesta $0\n",
      "Mensaje: \n"
     ]
    }
   ],
   "source": [
    "def costo_mensaje(msg):\n",
    "    return 0\n",
    "\n",
    "msg = raw_input(\"Mensaje: \")\n",
    "while len(msg)!=0:\n",
    "    costo = costo_mensaje(msg)\n",
    "    print \"Su mensaje cuesta ${0}\".format(costo)\n",
    "    msg = raw_input(\"Mensaje: \")"
   ]
  },
  {
   "cell_type": "code",
   "execution_count": 8,
   "metadata": {
    "collapsed": false,
    "slideshow": {
     "slide_type": "slide"
    }
   },
   "outputs": [
    {
     "name": "stdout",
     "output_type": "stream",
     "text": [
      "Mensaje: feliz ANIVERSARIO!\n",
      "Su mensaje cuesta $190\n",
      "Mensaje: \n"
     ]
    }
   ],
   "source": [
    "def costo_mensaje(msg):\n",
    "    letras_sin_valor = \" \"\n",
    "    letras_normales = \"abcdefghijklmnopqrstuvwxyz\"\n",
    "    digitos = \"0123456789\"\n",
    "    costo = 0\n",
    "    for letra in msg.lower():\n",
    "        if letra in letras_sin_valor:\n",
    "            costo += 0\n",
    "        elif letra in letras_normales:\n",
    "            costo += 10\n",
    "        elif letra in digitos:\n",
    "            costo += 20\n",
    "        else:\n",
    "            costo += 30\n",
    "    return costo\n",
    "\n",
    "msg = raw_input(\"Mensaje: \")\n",
    "while len(msg)!=0:\n",
    "    costo = costo_mensaje(msg)\n",
    "    print \"Su mensaje cuesta ${0}\".format(costo)\n",
    "    msg = raw_input(\"Mensaje: \")"
   ]
  },
  {
   "cell_type": "markdown",
   "metadata": {
    "slideshow": {
     "slide_type": "slide"
    }
   },
   "source": [
    "## Pregunta 2, Certamen 3, Primer Semestre, 2014.\n",
    "\n",
    "Los registros de un sismo se guardan en un archivo con la siguiente estructura (siempre en el mismo orden):\n",
    "\n",
    "```\n",
    "{mag:float,place:string,dept:float,tsunami:integer,date:string,time:string}\n",
    "```\n",
    "Considere como ejemplo el archivo `registro.geojson`:\n",
    "\n",
    "```\n",
    "{mag:7.0,place:Iquique,dept:10.0,tsunami:1,date:2014-03-15,time:15:44:13}\n",
    "{mag:5.8,place:Salvador,dept:23.0,tsunami:0,date:2014-03-17,time:06:11:08}\n",
    "{mag:3.1,place:California,dept:22.0,tsunami:0,date:2014-03-17,time:17:55:33}\n",
    "{mag:2.5,place:Quilpue,dept:10.0,tsunami:0,date:2014-03-23,time:02:41:09}\n",
    "{mag:4.6,place:Iquique,dept:98.0,tsunami:0,date:2014-03-28,time:20:34:22}\n",
    "```"
   ]
  },
  {
   "cell_type": "markdown",
   "metadata": {
    "slideshow": {
     "slide_type": "slide"
    }
   },
   "source": [
    "## (a) Leer una linea\n",
    "\n",
    "Desarrolle la función `interpretar_geojson(linea)` que reciba como parámetro un string\n",
    "con la misma estructura que tienen las lineas del archivo geojson y retorne un diccionario con los\n",
    "datos formateados como muestra el ejemplo.\n",
    "```Python\n",
    ">>> interpretar_geojson('{mag:5.8,place:Salvador,dept:23.0,tsunami:0, date:2014-03-17,time:06:11:08}')\n",
    "{'mag': 5.8, \n",
    " 'place': 'Salvador', \n",
    " 'dept': 23.0, \n",
    " 'tsunami': 0, \n",
    " 'date': (2014, 3, 17), \n",
    " 'time': '06:11:08'}\n",
    " ```"
   ]
  },
  {
   "cell_type": "code",
   "execution_count": 9,
   "metadata": {
    "collapsed": false,
    "slideshow": {
     "slide_type": "slide"
    }
   },
   "outputs": [
    {
     "name": "stdout",
     "output_type": "stream",
     "text": [
      "{}\n"
     ]
    }
   ],
   "source": [
    "def interpretar_geojson(linea):\n",
    "    d = {}\n",
    "    return d\n",
    "    \n",
    "    \n",
    "print interpretar_geojson('{mag:5.8,place:Salvador,dept:23.0,tsunami:0, date:2014-03-17,time:06:11:08}')"
   ]
  },
  {
   "cell_type": "code",
   "execution_count": 9,
   "metadata": {
    "collapsed": false,
    "slideshow": {
     "slide_type": "slide"
    }
   },
   "outputs": [
    {
     "name": "stdout",
     "output_type": "stream",
     "text": [
      "{}\n"
     ]
    }
   ],
   "source": [
    "def interpretar_geojson(linea):\n",
    "    d = {}\n",
    "    # sacar caracteres innecesarios: {,} y \\n\n",
    "    # separar datos con split\n",
    "    # procesar datos\n",
    "    # regresar el diccionario\n",
    "    return d    \n",
    "    \n",
    "print interpretar_geojson('{mag:5.8,place:Salvador,dept:23.0,tsunami:0, date:2014-03-17,time:06:11:08}')"
   ]
  },
  {
   "cell_type": "code",
   "execution_count": 21,
   "metadata": {
    "collapsed": false,
    "slideshow": {
     "slide_type": "slide"
    }
   },
   "outputs": [
    {
     "name": "stdout",
     "output_type": "stream",
     "text": [
      "{'dept': 23.0, 'tsunami': 0, 'place': 'Salvador', 'mag': 5.8, 'time': '06:11:08', 'date': (2014, 3, 17)}\n"
     ]
    }
   ],
   "source": [
    "def interpretar_geojson(linea):\n",
    "    d = {}\n",
    "    # sacar caracteres innecesarios: {,}. OBS: No trae \\n\n",
    "    linea = linea[1:-1]\n",
    "    # separar datos con split\n",
    "    datos = linea.split(\",\")\n",
    "    # procesar datos\n",
    "    mag = datos[0].split(\":\")[-1]\n",
    "    d[\"mag\"] = float(mag)\n",
    "    place = datos[1].split(\":\")[-1]\n",
    "    d[\"place\"] = place\n",
    "    dept = datos[2].split(\":\")[-1]\n",
    "    d[\"dept\"] = float(dept)\n",
    "    tsunami = datos[3].split(\":\")[-1]\n",
    "    d[\"tsunami\"] = int(tsunami)\n",
    "    date = datos[4].split(\":\")[-1]\n",
    "    yyyy,mm,dd = date.split(\"-\")\n",
    "    d[\"date\"] = (int(yyyy),int(mm),int(dd))\n",
    "    time = datos[5].replace(\"time:\",\"\") # Ojo!!!\n",
    "    d[\"time\"] = time\n",
    "    # regresar el diccionario\n",
    "    return d    \n",
    "    \n",
    "print interpretar_geojson('{mag:5.8,place:Salvador,dept:23.0,tsunami:0, date:2014-03-17,time:06:11:08}')"
   ]
  },
  {
   "cell_type": "markdown",
   "metadata": {
    "slideshow": {
     "slide_type": "slide"
    }
   },
   "source": [
    "## (b) Mayor Sismo\n",
    "\n",
    "Desarrolle la función `mayor_sismo(nombre_archivo)` que reciba como parámetro el nombre\n",
    "del archivo y retorne una tupla con: la magnitud, lugar, y fecha (también como tupla) del sismo con mayor magnitud.\n",
    "\n",
    "```Python\n",
    ">>> mayor_sismo(\"registro.geojson\")\n",
    "(7.0, 'Iquique', (2014, 3, 15))\n",
    " ```"
   ]
  },
  {
   "cell_type": "code",
   "execution_count": 10,
   "metadata": {
    "collapsed": false,
    "slideshow": {
     "slide_type": "slide"
    }
   },
   "outputs": [
    {
     "name": "stdout",
     "output_type": "stream",
     "text": [
      "()\n"
     ]
    }
   ],
   "source": [
    "def mayor_sismo(nombre_archivo):\n",
    "    t = ()\n",
    "    return t\n",
    "\n",
    "print mayor_sismo(\"data/registro.geojson\")"
   ]
  },
  {
   "cell_type": "code",
   "execution_count": 19,
   "metadata": {
    "collapsed": false,
    "slideshow": {
     "slide_type": "slide"
    }
   },
   "outputs": [
    {
     "name": "stdout",
     "output_type": "stream",
     "text": [
      "()\n"
     ]
    }
   ],
   "source": [
    "def mayor_sismo(nombre_archivo):\n",
    "    t = ()\n",
    "    # Abrir archivo\n",
    "    # Inicializar mayor magnitud\n",
    "    # Recorrer lineas del archivo\n",
    "    # Procesar cada linea, cuidado con \\n\n",
    "    # Actualizar el mayor\n",
    "    # Cerrar archivo\n",
    "    return t\n",
    "\n",
    "print mayor_sismo(\"data/registro.geojson\")"
   ]
  },
  {
   "cell_type": "code",
   "execution_count": 23,
   "metadata": {
    "collapsed": false,
    "slideshow": {
     "slide_type": "slide"
    }
   },
   "outputs": [
    {
     "name": "stdout",
     "output_type": "stream",
     "text": [
      "(7.0, 'Iquique', (2014, 3, 15))\n"
     ]
    }
   ],
   "source": [
    "def mayor_sismo(nombre_archivo):\n",
    "    # Abrir archivo\n",
    "    archivo = open(nombre_archivo)\n",
    "    # Inicializar mayor magnitud\n",
    "    mayor_mag = -float(\"inf\")\n",
    "    mayor_tupla = ()\n",
    "    # Recorrer lineas del archivo\n",
    "    for linea in archivo:\n",
    "        # Procesar cada linea, cuidado con \\n\n",
    "        d = interpretar_geojson(linea.strip())\n",
    "        # Actualizar el mayor\n",
    "        if d[\"mag\"] > mayor_mag:\n",
    "            mayor_mag = d[\"mag\"]\n",
    "            mayor_tupla = (d[\"mag\"], d[\"place\"], d[\"date\"])\n",
    "    # Cerrar archivo\n",
    "    archivo.close()\n",
    "    return mayor_tupla\n",
    "\n",
    "print mayor_sismo(\"data/registro.geojson\")"
   ]
  },
  {
   "cell_type": "markdown",
   "metadata": {
    "slideshow": {
     "slide_type": "slide"
    }
   },
   "source": [
    "## (c) Mostrar registro\n",
    "\n",
    "Desarrolle la función `mostrar_registro(nombre_archivo, mag)` que reciba como parámetro el nombre del archivo y un numero real. La función debe mostrar por pantalla los registros donde la magnitud es mayor o igual al segundo parámetro, en el formato:\n",
    "```\n",
    "PLACE <-> mag <-> dept <-> date-time\n",
    "```\n",
    "Guíese por el ejemplo. Además note que el lugar del epicentro esta en mayúscula.\n",
    "La función retorna nada.\n",
    "\n",
    "```\n",
    ">>> mostrar_registro(\"registro.geojson\",4.4)\n",
    "IQUIQUE <-> 7.0 <-> 10.0 <-> 2014-03-15-15:44:13\n",
    "SALVADOR <-> 5.8 <-> 23.0 <-> 2014-03-17-06:11:08\n",
    "IQUIQUE <-> 4.6 <-> 98.0 <-> 2014-03-28-20:34:22\n",
    " ```"
   ]
  },
  {
   "cell_type": "code",
   "execution_count": 11,
   "metadata": {
    "collapsed": true,
    "slideshow": {
     "slide_type": "slide"
    }
   },
   "outputs": [],
   "source": [
    "def mostrar_registro(nombre_archivo, mag):\n",
    "    return None\n",
    "\n",
    "mostrar_registro(\"registro.geojson\",4.4)"
   ]
  },
  {
   "cell_type": "code",
   "execution_count": 11,
   "metadata": {
    "collapsed": true,
    "slideshow": {
     "slide_type": "slide"
    }
   },
   "outputs": [],
   "source": [
    "def mostrar_registro(nombre_archivo, mag):\n",
    "    # Abrir archivo\n",
    "    # Recorrer lineas del archivo\n",
    "    # Procesar cada linea\n",
    "    # Si magnitud es >= a la indicada, imprimir en formato correcto\n",
    "    # Cerrar archivo\n",
    "    return None\n",
    "\n",
    "mostrar_registro(\"registro.geojson\",4.4)"
   ]
  },
  {
   "cell_type": "code",
   "execution_count": 27,
   "metadata": {
    "collapsed": false,
    "slideshow": {
     "slide_type": "slide"
    }
   },
   "outputs": [
    {
     "name": "stdout",
     "output_type": "stream",
     "text": [
      "IQUIQUE <-> 7.0 <-> 10.0 <-> 2014-3-15-15:44:13\n",
      "SALVADOR <-> 5.8 <-> 23.0 <-> 2014-3-17-06:11:08\n",
      "IQUIQUE <-> 4.6 <-> 98.0 <-> 2014-3-28-20:34:22\n"
     ]
    }
   ],
   "source": [
    "def mostrar_registro(nombre_archivo, mag):\n",
    "    # Abrir archivo\n",
    "    archivo = open(nombre_archivo)\n",
    "    # Recorrer lineas del archivo\n",
    "    for linea in archivo:\n",
    "        # Procesar cada linea\n",
    "        d = interpretar_geojson(linea.strip())\n",
    "        # Si magnitud es >= a la indicada, imprimir en formato correcto\n",
    "        if d[\"mag\"]>=mag:\n",
    "            date = \"-\".join(map(str,d[\"date\"]))\n",
    "            date_time = date + \"-\" + d[\"time\"]\n",
    "            datos = (d[\"place\"].upper(), d[\"mag\"], d[\"dept\"], date_time)\n",
    "            linea_imprimir = \" <-> \".join( map(str, datos) )\n",
    "            print linea_imprimir\n",
    "    # Cerrar archivo\n",
    "    archivo.close()\n",
    "    return None\n",
    "\n",
    "mostrar_registro(\"data/registro.geojson\",4.4)"
   ]
  },
  {
   "cell_type": "markdown",
   "metadata": {
    "slideshow": {
     "slide_type": "slide"
    }
   },
   "source": [
    "## Pregunta 3, Certamen 3, Primer Semestre, 2014.\n",
    "Se tienen los resultados de todos los partidos por grupos del mundial de fútbol 2014 en archivos de texto tales como los presentados a continuación.\n",
    "\n",
    "**Grupo1.txt**\n",
    "```\n",
    "Brasil;3-Croacia;1\n",
    "Mexico;1-Camerun;0\n",
    "Brasil;0-Mexico;0\n",
    "Camerun;0-Croacia;4\n",
    "Camerun;1-Brasil;4\n",
    "Croacia;1-Mexico;3\n",
    "```\n",
    "\n",
    "**Grupo2.txt**\n",
    "```\n",
    "Espania;1-Holanda;5\n",
    "Chile;3-Australia;1\n",
    "Australia;2-Holanda;3\n",
    "Espania;0-Chile;3\n",
    "Holanda;2-Chile;0\n",
    "Australia;0-Espania;3\n",
    "```\n",
    "\n",
    "Tener en cuenta que se tienen los archivos `Grupo1.txt` hasta el `Grupo8.txt`."
   ]
  },
  {
   "cell_type": "markdown",
   "metadata": {
    "slideshow": {
     "slide_type": "slide"
    }
   },
   "source": [
    "## (a) Obtener equipos\n",
    "Desarrolle la función `obtener_equipos(archivo)`, la cual recibe como parámetro el nombre de un archivo y retorna una lista con todos los equipos que se encuentran en el archivo.\n",
    "\n",
    "```Python\n",
    ">>> print obtener_equipos('Grupo2.txt')\n",
    "['Chile', 'Australia', 'Espania', 'Holanda']\n",
    "```"
   ]
  },
  {
   "cell_type": "code",
   "execution_count": 29,
   "metadata": {
    "collapsed": false,
    "slideshow": {
     "slide_type": "slide"
    }
   },
   "outputs": [
    {
     "name": "stdout",
     "output_type": "stream",
     "text": [
      "[]\n"
     ]
    }
   ],
   "source": [
    "def obtener_equipos(archivo):\n",
    "    return []\n",
    "\n",
    "print obtener_equipos('data/Grupo2.txt')"
   ]
  },
  {
   "cell_type": "code",
   "execution_count": 32,
   "metadata": {
    "collapsed": false,
    "slideshow": {
     "slide_type": "slide"
    }
   },
   "outputs": [
    {
     "name": "stdout",
     "output_type": "stream",
     "text": [
      "[]\n"
     ]
    }
   ],
   "source": [
    "def obtener_equipos(archivo):\n",
    "    # Abrir archivo\n",
    "    # Inicializar conjunto\n",
    "    # Leer cada linea del archivo\n",
    "    # Agregar equipos a conjunto\n",
    "    # Cerrar archivo\n",
    "    # Convertir a lista y regresar\n",
    "    return []\n",
    "\n",
    "print obtener_equipos('data/Grupo2.txt')"
   ]
  },
  {
   "cell_type": "code",
   "execution_count": 33,
   "metadata": {
    "collapsed": false,
    "slideshow": {
     "slide_type": "slide"
    }
   },
   "outputs": [
    {
     "name": "stdout",
     "output_type": "stream",
     "text": [
      "['Espania', 'Holanda', 'Australia', 'Chile']\n"
     ]
    }
   ],
   "source": [
    "def obtener_equipos(archivo):\n",
    "    # Abrir archivo\n",
    "    arch = open(archivo)\n",
    "    # Inicializar conjunto\n",
    "    paises = set()\n",
    "    # Leer cada linea del archivo\n",
    "    for linea in arch:\n",
    "        # Agregar equipos a conjunto\n",
    "        p1,p2 = linea.split(\"-\")\n",
    "        pais,_ = p1.split(\";\")\n",
    "        paises.add(pais)\n",
    "        pais = p2.split(\";\")[0]\n",
    "        paises.add(pais)\n",
    "    # Cerrar archivo\n",
    "    arch.close()\n",
    "    # Convertir a lista y regresar\n",
    "    return list(paises)\n",
    "\n",
    "print obtener_equipos('data/Grupo2.txt')"
   ]
  },
  {
   "cell_type": "markdown",
   "metadata": {
    "slideshow": {
     "slide_type": "slide"
    }
   },
   "source": [
    "## (b) Obtener equipos\n",
    "Desarrolle la función `obtener_clasificados(archivo)`, la cual recibe como parámetro el nombre de un archivo y retorna una tupla con el nombre de los equipos que obtuvieron el primer y segundo lugar del grupo (debe ser en ese orden). En caso de que existan equipos con la misma cantidad de puntos considere la cantidad de goles anotados, si persistir el empate, retorne cualquiera. Considere que se otorgan 3 ptos por partido ganado, 1 por partido empatado y 0 por partido perdido.\n",
    "\n",
    "```Python\n",
    ">>> print obtener_clasificados('Grupo2.txt')\n",
    "('Holanda', 'Chile')\n",
    "```"
   ]
  },
  {
   "cell_type": "code",
   "execution_count": 34,
   "metadata": {
    "collapsed": false,
    "slideshow": {
     "slide_type": "slide"
    }
   },
   "outputs": [
    {
     "name": "stdout",
     "output_type": "stream",
     "text": [
      "()\n"
     ]
    }
   ],
   "source": [
    "def obtener_clasificados(archivo):\n",
    "    return ()\n",
    "\n",
    "print obtener_clasificados('Grupo2.txt')"
   ]
  },
  {
   "cell_type": "code",
   "execution_count": 30,
   "metadata": {
    "collapsed": false,
    "slideshow": {
     "slide_type": "slide"
    }
   },
   "outputs": [
    {
     "name": "stdout",
     "output_type": "stream",
     "text": [
      "()\n"
     ]
    }
   ],
   "source": [
    "def obtener_clasificados(archivo):\n",
    "    # Calcular puntos\n",
    "    # Calcular primer clasificado\n",
    "    # Calcular segundo clasificado\n",
    "    return ()\n",
    "\n",
    "print obtener_clasificados('Grupo2.txt')"
   ]
  },
  {
   "cell_type": "markdown",
   "metadata": {
    "slideshow": {
     "slide_type": "slide"
    }
   },
   "source": [
    "## Recicla y vencerás"
   ]
  },
  {
   "cell_type": "code",
   "execution_count": 30,
   "metadata": {
    "collapsed": false,
    "slideshow": {
     "slide_type": "slide"
    }
   },
   "outputs": [
    {
     "name": "stdout",
     "output_type": "stream",
     "text": [
      "()\n"
     ]
    }
   ],
   "source": [
    "def puntajes(archivo):\n",
    "    d = {}\n",
    "    \n",
    "    return ()\n",
    "\n",
    "def obtener_equipos(archivo):\n",
    "    return puntajes(archivos).keys()\n",
    "\n",
    "def \n",
    "\n",
    "print obtener_clasificados('Grupo2.txt')"
   ]
  },
  {
   "cell_type": "markdown",
   "metadata": {
    "slideshow": {
     "slide_type": "slide"
    }
   },
   "source": [
    "## (c) Partidos de Octavos de Final\n",
    "Desarrolle la función `partidos_octavos()`, la cual no recibe par ́ametros. Esta función debe crear el archivo `Partidos_octavos.txt` el cual debe poner en cada línea del archivo los equipos que se enfrentar ́an en octavos de final. Los partidos se forman de la siguiente forma:\n",
    "el primero del grupo1 se enfrenta al segundo del grupo2, el primero del grupo2 se enfrenta al\n",
    "segundo del grupo1, lo mismo sucede para los grupos 3-4, grupos 5-6 y grupo 7-8.\n",
    "\n",
    "```Python\n",
    ">>> partidos_octavos()\n",
    ">>>\n",
    "```\n",
    "Debería generar el archivo `Partidos_octavos.txt` con el siguiente contenido:\n",
    "```\n",
    "Brasil v/s Chile\n",
    "Holanda v/s Mexico\n",
    "Colombia v/s Uruguay\n",
    "Costa Rica v/s Grecia\n",
    "Francia v/s Nigeria\n",
    "Argentina v/s Suiza\n",
    "Alemania v/s Argelia\n",
    "Belgica v/s EEUU\n",
    "```\n"
   ]
  },
  {
   "cell_type": "code",
   "execution_count": 31,
   "metadata": {
    "collapsed": true,
    "slideshow": {
     "slide_type": "slide"
    }
   },
   "outputs": [],
   "source": [
    "def partidos_octavos():\n",
    "    return None"
   ]
  }
 ],
 "metadata": {
  "celltoolbar": "Slideshow",
  "kernelspec": {
   "display_name": "Python 2",
   "language": "python",
   "name": "python2"
  },
  "language_info": {
   "codemirror_mode": {
    "name": "ipython",
    "version": 2
   },
   "file_extension": ".py",
   "mimetype": "text/x-python",
   "name": "python",
   "nbconvert_exporter": "python",
   "pygments_lexer": "ipython2",
   "version": "2.7.6"
  }
 },
 "nbformat": 4,
 "nbformat_minor": 0
}
