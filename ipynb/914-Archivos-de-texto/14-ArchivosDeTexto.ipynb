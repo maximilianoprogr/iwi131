{
 "cells": [
  {
   "cell_type": "code",
   "execution_count": null,
   "metadata": {
    "collapsed": true
   },
   "outputs": [],
   "source": []
  },
  {
   "cell_type": "markdown",
   "metadata": {},
   "source": [
    "## Menu de hoy\n",
    "Hoy aprenderemos:\n",
    "    * Abrir archivos de texto\n",
    "    * Escribir un archivo de texto\n",
    "    * Agregar contenido a un archivo ya existente"
   ]
  },
  {
   "cell_type": "markdown",
   "metadata": {},
   "source": [
    "## Ejemplo de archivo\n",
    "En el disco duro existe un archivo llamado quijote.txt"
   ]
  },
  {
   "cell_type": "code",
   "execution_count": null,
   "metadata": {
    "collapsed": false
   },
   "outputs": [],
   "source": [
    "%load quijote.txt"
   ]
  },
  {
   "cell_type": "markdown",
   "metadata": {},
   "source": [
    "## Leer un archivo\n",
    "Para leer un archivo utilizamos la función open"
   ]
  },
  {
   "cell_type": "code",
   "execution_count": 3,
   "metadata": {
    "collapsed": false
   },
   "outputs": [
    {
     "name": "stdout",
     "output_type": "stream",
     "text": [
      "EN UN LUGAR DE LA MANCHA\n",
      "DE CUYO NOMBRE NO QUIERO ACORDARME\n",
      "NO HA MUCHO TIEMPO QUE VIVIA UN HIDALGO\n"
     ]
    }
   ],
   "source": [
    "archivo = open('quijote.txt')\n",
    "for linea in archivo:\n",
    "    print(linea.strip().upper())\n",
    "archivo.close()"
   ]
  },
  {
   "cell_type": "markdown",
   "metadata": {},
   "source": [
    "## Aplicación de leer un archivo"
   ]
  },
  {
   "cell_type": "markdown",
   "metadata": {},
   "source": [
    "Poner una explicación aquí"
   ]
  },
  {
   "cell_type": "code",
   "execution_count": null,
   "metadata": {
    "collapsed": true
   },
   "outputs": [],
   "source": []
  },
  {
   "cell_type": "markdown",
   "metadata": {},
   "source": [
    "## Escribir un archivo\n",
    "Para escribir un archivo, utilizamos open con 'w' (write)"
   ]
  },
  {
   "cell_type": "code",
   "execution_count": null,
   "metadata": {
    "collapsed": true
   },
   "outputs": [],
   "source": [
    "archivo = open('quijote.txt', 'w')\n",
    "archivo.write('En un lugar de La Mancha\\n')\n",
    "archivo.write('de cuyo nombre ')\n",
    "archivo.write('no quiero acordarme\\n')\n",
    "archivo.write('no ha mucho tiempo ')\n",
    "archivo.write('que vivia un hidalgo\\n')\n",
    "archivo.close()"
   ]
  },
  {
   "cell_type": "markdown",
   "metadata": {},
   "source": [
    "## Mostrar contenido en disco"
   ]
  },
  {
   "cell_type": "code",
   "execution_count": null,
   "metadata": {
    "collapsed": true
   },
   "outputs": [],
   "source": [
    "%load quijote.txt"
   ]
  },
  {
   "cell_type": "markdown",
   "metadata": {},
   "source": [
    "## Ejemplo de escribir en disco\n",
    "¿Escribir números primos o pares?\n"
   ]
  },
  {
   "cell_type": "markdown",
   "metadata": {},
   "source": [
    "## Agregar texto a un archivo existente\n",
    "Para agregar texto a un archivo existente, se utiliza open con el argumento 'a'"
   ]
  },
  {
   "cell_type": "code",
   "execution_count": 11,
   "metadata": {
    "collapsed": true
   },
   "outputs": [],
   "source": [
    "archivo = open('quijote.txt', 'a')\n",
    "archivo.write('de los de lanza en astillero\\n')\n",
    "archivo.write('adarga antigua, rocin flaco ')\n",
    "archivo.write('y galgo corredor.\\n')\n",
    "archivo.close()"
   ]
  },
  {
   "cell_type": "markdown",
   "metadata": {},
   "source": [
    "## Mostrar archivo en disco"
   ]
  },
  {
   "cell_type": "code",
   "execution_count": null,
   "metadata": {
    "collapsed": true
   },
   "outputs": [],
   "source": [
    "%load quijote.txt"
   ]
  },
  {
   "cell_type": "markdown",
   "metadata": {},
   "source": [
    "## Ejercicio\n",
    "Escriba un programa que abra el archivo quijote.txt y cuente:\n",
    " *  El número de letras\n",
    " *  El número de palabras\n",
    " *  El número de líneaas"
   ]
  },
  {
   "cell_type": "code",
   "execution_count": 13,
   "metadata": {
    "collapsed": true
   },
   "outputs": [],
   "source": [
    "## Solución alumnos"
   ]
  },
  {
   "cell_type": "code",
   "execution_count": 14,
   "metadata": {
    "collapsed": true
   },
   "outputs": [],
   "source": [
    "# Abrir archivo\n",
    "\n",
    "# Contar letras, palabras, lineas"
   ]
  },
  {
   "cell_type": "markdown",
   "metadata": {},
   "source": [
    "## Archivos con separador de palabras\n",
    "Los archivos de datos contienen palabras y números con separador.\n",
    "Ejemplo: archivo alumnos.txt"
   ]
  },
  {
   "cell_type": "code",
   "execution_count": null,
   "metadata": {
    "collapsed": true
   },
   "outputs": [],
   "source": []
  },
  {
   "cell_type": "markdown",
   "metadata": {},
   "source": [
    "## Leer archivos con separador\n",
    "El archivo se abre normalmente, y los datos se separan con el método split."
   ]
  },
  {
   "cell_type": "code",
   "execution_count": 16,
   "metadata": {
    "collapsed": false
   },
   "outputs": [
    {
     "name": "stdout",
     "output_type": "stream",
     "text": [
      "Esteban <map object at 0x7f452c6a92b0>\n",
      "Luisa <map object at 0x7f452c6a9438>\n",
      "Jean Paul <map object at 0x7f452c6a9198>\n",
      "Gianfranco <map object at 0x7f452c6a93c8>\n",
      "Romina <map object at 0x7f452c6a9470>\n"
     ]
    }
   ],
   "source": [
    "archivo = open('alumnos.txt')\n",
    "for linea in archivo:\n",
    "    valores = linea.strip().split(':')\n",
    "    nombres = valores[0:2]\n",
    "    notas = map(int, valores[2:5])\n",
    "    print(nombres[0], notas)\n",
    "archivo.close()"
   ]
  },
  {
   "cell_type": "markdown",
   "metadata": {},
   "source": [
    "## Escribir archivo con separador\n",
    "Para escribir un archivo con separador, basta con convertir todos los datos a string y juntarlos con el separador."
   ]
  },
  {
   "cell_type": "code",
   "execution_count": 18,
   "metadata": {
    "collapsed": true
   },
   "outputs": [],
   "source": [
    "archivo = open('alumnos.txt', 'w')\n",
    "# ...\n",
    "linea = ':'.join(valores) + '\\n'\n",
    "archivo.write(linea)\n",
    "# ...\n",
    "archivo.close()"
   ]
  },
  {
   "cell_type": "markdown",
   "metadata": {},
   "source": [
    "## Ejercicio de separador\n",
    "A partir del archivo alumnos.txt:\n",
    "Esteban:Gutierrez:49:18:32\n",
    "Luisa:Miranda:68:44:99\n",
    "Jean Paul:Munoz:48:38:81\n",
    "Gianfranco:Basso:54:54:50\n",
    "Romina:Smith:100:98:92\n",
    "crear los siguientes archivos:\n",
    " * aprobados.txt (los que tienen un promedio superior o igual a 55)\n",
    " * reprobados.txt (los que tienen promedio inferior a 55)."
   ]
  },
  {
   "cell_type": "code",
   "execution_count": null,
   "metadata": {
    "collapsed": true
   },
   "outputs": [],
   "source": []
  }
 ],
 "metadata": {
  "kernelspec": {
   "display_name": "Python 3",
   "language": "python",
   "name": "python3"
  },
  "language_info": {
   "codemirror_mode": {
    "name": "ipython",
    "version": 3
   },
   "file_extension": ".py",
   "mimetype": "text/x-python",
   "name": "python",
   "nbconvert_exporter": "python",
   "pygments_lexer": "ipython3",
   "version": "3.4.0"
  }
 },
 "nbformat": 4,
 "nbformat_minor": 0
}
